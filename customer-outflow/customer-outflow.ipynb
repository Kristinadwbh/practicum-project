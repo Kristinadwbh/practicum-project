{
 "cells": [
  {
   "cell_type": "markdown",
   "metadata": {
    "toc": true
   },
   "source": [
    "<h1>Содержание<span class=\"tocSkip\"></span></h1>\n",
    "<div class=\"toc\"><ul class=\"toc-item\"><li><span><a href=\"#Подготовка-данных\" data-toc-modified-id=\"Подготовка-данных-1\"><span class=\"toc-item-num\">1&nbsp;&nbsp;</span>Подготовка данных</a></span></li><li><span><a href=\"#Исследование-задачи\" data-toc-modified-id=\"Исследование-задачи-2\"><span class=\"toc-item-num\">2&nbsp;&nbsp;</span>Исследование задачи</a></span></li><li><span><a href=\"#Борьба-с-дисбалансом\" data-toc-modified-id=\"Борьба-с-дисбалансом-3\"><span class=\"toc-item-num\">3&nbsp;&nbsp;</span>Борьба с дисбалансом</a></span></li><li><span><a href=\"#Тестирование-модели\" data-toc-modified-id=\"Тестирование-модели-4\"><span class=\"toc-item-num\">4&nbsp;&nbsp;</span>Тестирование модели</a></span>"
   ]
  },
  {
   "cell_type": "markdown",
   "metadata": {},
   "source": [
    "# Отток клиентов"
   ]
  },
  {
   "cell_type": "markdown",
   "metadata": {},
   "source": [
    "## Подготовка данных"
   ]
  },
  {
   "cell_type": "code",
   "execution_count": 1,
   "metadata": {},
   "outputs": [],
   "source": [
    "import pandas as pd\n",
    "import numpy as np\n",
    "from sklearn.tree import DecisionTreeClassifier\n",
    "from sklearn.ensemble import RandomForestClassifier\n",
    "from sklearn.linear_model import LogisticRegression\n",
    "from sklearn.model_selection import train_test_split\n",
    "from sklearn.preprocessing import StandardScaler\n",
    "from sklearn.utils import shuffle\n",
    "from sklearn.metrics import f1_score\n",
    "from sklearn.metrics import roc_auc_score\n",
    "import matplotlib.pyplot as plt\n",
    "from tqdm import tqdm"
   ]
  },
  {
   "cell_type": "code",
   "execution_count": 3,
   "metadata": {},
   "outputs": [
    {
     "name": "stdout",
     "output_type": "stream",
     "text": [
      "<class 'pandas.core.frame.DataFrame'>\n",
      "RangeIndex: 10000 entries, 0 to 9999\n",
      "Data columns (total 14 columns):\n",
      " #   Column           Non-Null Count  Dtype  \n",
      "---  ------           --------------  -----  \n",
      " 0   RowNumber        10000 non-null  int64  \n",
      " 1   CustomerId       10000 non-null  int64  \n",
      " 2   Surname          10000 non-null  object \n",
      " 3   CreditScore      10000 non-null  int64  \n",
      " 4   Geography        10000 non-null  object \n",
      " 5   Gender           10000 non-null  object \n",
      " 6   Age              10000 non-null  int64  \n",
      " 7   Tenure           9091 non-null   float64\n",
      " 8   Balance          10000 non-null  float64\n",
      " 9   NumOfProducts    10000 non-null  int64  \n",
      " 10  HasCrCard        10000 non-null  int64  \n",
      " 11  IsActiveMember   10000 non-null  int64  \n",
      " 12  EstimatedSalary  10000 non-null  float64\n",
      " 13  Exited           10000 non-null  int64  \n",
      "dtypes: float64(3), int64(8), object(3)\n",
      "memory usage: 1.1+ MB\n"
     ]
    },
    {
     "data": {
      "text/plain": [
       "array([ 2.,  1.,  8.,  7.,  4.,  6.,  3., 10.,  5.,  9.,  0., nan])"
      ]
     },
     "execution_count": 3,
     "metadata": {},
     "output_type": "execute_result"
    }
   ],
   "source": [
    "data.info()\n",
    "data['Tenure'].unique()"
   ]
  },
  {
   "cell_type": "code",
   "execution_count": 4,
   "metadata": {},
   "outputs": [],
   "source": [
    "data.dropna(inplace=True)"
   ]
  },
  {
   "cell_type": "code",
   "execution_count": 5,
   "metadata": {},
   "outputs": [],
   "source": [
    "data.drop(['Surname', 'RowNumber', 'CustomerId'], axis=1, inplace=True)\n"
   ]
  },
  {
   "cell_type": "code",
   "execution_count": 6,
   "metadata": {},
   "outputs": [],
   "source": [
    "data_ohe = pd.get_dummies(data, columns=['Geography', 'Gender',\\\n",
    "                               'HasCrCard', 'IsActiveMember'],  drop_first=True) "
   ]
  },
  {
   "cell_type": "code",
   "execution_count": 7,
   "metadata": {},
   "outputs": [],
   "source": [
    "data_train, data_test = train_test_split(data_ohe, train_size=0.6, random_state=12345, stratify=data_ohe['Exited'])\n",
    "data_test, data_valid = train_test_split(data_test, train_size=0.5, random_state=12345, stratify=data_test['Exited'])"
   ]
  },
  {
   "cell_type": "code",
   "execution_count": 8,
   "metadata": {},
   "outputs": [],
   "source": [
    "features_train = data_train.drop('Exited', axis=1)\n",
    "target_train = data_train['Exited']\n",
    "\n",
    "features_test = data_test.drop('Exited', axis=1)\n",
    "target_test = data_test['Exited']\n",
    "\n",
    "features_valid = data_valid.drop('Exited', axis=1)\n",
    "target_valid = data_valid['Exited']"
   ]
  },
  {
   "cell_type": "code",
   "execution_count": 9,
   "metadata": {},
   "outputs": [
    {
     "name": "stdout",
     "output_type": "stream",
     "text": [
      "(5454, 11)\n",
      "(5454,)\n",
      "(1818, 11)\n",
      "(1818,)\n",
      "(1819, 11)\n",
      "(1819,)\n"
     ]
    }
   ],
   "source": [
    "print(features_train.shape)\n",
    "print(target_train.shape)\n",
    "print(features_test.shape)\n",
    "print(target_test.shape)\n",
    "print(features_valid.shape)\n",
    "print(target_valid.shape)"
   ]
  },
  {
   "cell_type": "code",
   "execution_count": 10,
   "metadata": {},
   "outputs": [],
   "source": [
    "numeric = ['CreditScore', 'Age', 'Tenure', 'Balance', 'NumOfProducts', \\\n",
    "           'EstimatedSalary']\n",
    "scaler = StandardScaler()\n",
    "scaler.fit(features_train[numeric])\n",
    "features_train[numeric] = scaler.transform(features_train[numeric])\n",
    "features_valid[numeric] = scaler.transform(features_valid[numeric])\n",
    "features_test[numeric] = scaler.transform(features_test[numeric])"
   ]
  },
  {
   "cell_type": "markdown",
   "metadata": {},
   "source": [
    "## Исследование задачи"
   ]
  },
  {
   "cell_type": "code",
   "execution_count": 11,
   "metadata": {},
   "outputs": [
    {
     "data": {
      "text/plain": [
       "0    7237\n",
       "1    1854\n",
       "Name: Exited, dtype: int64"
      ]
     },
     "metadata": {},
     "output_type": "display_data"
    }
   ],
   "source": [
    "display(data['Exited'].value_counts())"
   ]
  },
  {
   "cell_type": "markdown",
   "metadata": {},
   "source": [
    "<div>\n",
    "    <font color='green'>Модель решающего леса с дисбалансом</font>\n",
    "</div>"
   ]
  },
  {
   "cell_type": "code",
   "execution_count": 12,
   "metadata": {},
   "outputs": [
    {
     "name": "stderr",
     "output_type": "stream",
     "text": [
      "100%|██████████| 39/39 [00:01<00:00, 30.62it/s]\n"
     ]
    },
    {
     "name": "stdout",
     "output_type": "stream",
     "text": [
      "max_depth лучшей модели: 7\n",
      "f1 лучшей модели: 0.557659208261618\n"
     ]
    },
    {
     "data": {
      "image/png": "[encoded data removed]",
      "text/plain": [
       "<Figure size 432x288 with 1 Axes>"
      ]
     },
     "metadata": {
      "needs_background": "light"
     },
     "output_type": "display_data"
    }
   ],
   "source": [
    "best_model_dt = None\n",
    "best_result_dt = 0\n",
    "result_dt_plot = []\n",
    "result_dt_plot_train = []\n",
    "for depth_dt in tqdm(range(1, 40)):\n",
    "    model_dt = DecisionTreeClassifier(random_state=12345, max_depth=depth_dt) \n",
    "    model_dt.fit(features_train, target_train) \n",
    "    predictions = model_dt.predict(features_valid) \n",
    "    result_dt = f1_score(target_valid, predictions) \n",
    "    result_dt_plot.append(result_dt)\n",
    "    predictions_train = model_dt.predict(features_train) \n",
    "    result_dt_train = f1_score(target_train, predictions_train) \n",
    "    result_dt_plot_train.append(result_dt_train)\n",
    "    if result_dt > best_result_dt:\n",
    "        best_model_dt = model_dt\n",
    "        best_result_dt = result_dt\n",
    "        best_depth_dt = depth_dt\n",
    "\n",
    "print('max_depth лучшей модели:', best_depth_dt)\n",
    "print(\"f1 лучшей модели:\", best_result_dt)\n",
    "\n",
    "plt.plot(range(1,40), result_dt_plot, result_dt_plot_train)\n",
    "plt.xlabel('Глубина дерева')\n",
    "plt.ylabel('f1')\n",
    "plt.show()"
   ]
  },
  {
   "cell_type": "code",
   "execution_count": 13,
   "metadata": {},
   "outputs": [
    {
     "data": {
      "text/html": [
       "<div>\n",
       "<style scoped>\n",
       "    .dataframe tbody tr th:only-of-type {\n",
       "        vertical-align: middle;\n",
       "    }\n",
       "\n",
       "    .dataframe tbody tr th {\n",
       "        vertical-align: top;\n",
       "    }\n",
       "\n",
       "    .dataframe thead th {\n",
       "        text-align: right;\n",
       "    }\n",
       "</style>\n",
       "<table border=\"1\" class=\"dataframe\">\n",
       "  <thead>\n",
       "    <tr style=\"text-align: right;\">\n",
       "      <th></th>\n",
       "      <th>feature</th>\n",
       "      <th>importance</th>\n",
       "    </tr>\n",
       "  </thead>\n",
       "  <tbody>\n",
       "    <tr>\n",
       "      <th>0</th>\n",
       "      <td>Age</td>\n",
       "      <td>0.371957</td>\n",
       "    </tr>\n",
       "    <tr>\n",
       "      <th>1</th>\n",
       "      <td>NumOfProducts</td>\n",
       "      <td>0.266832</td>\n",
       "    </tr>\n",
       "    <tr>\n",
       "      <th>2</th>\n",
       "      <td>Balance</td>\n",
       "      <td>0.140401</td>\n",
       "    </tr>\n",
       "    <tr>\n",
       "      <th>3</th>\n",
       "      <td>IsActiveMember_1</td>\n",
       "      <td>0.113420</td>\n",
       "    </tr>\n",
       "    <tr>\n",
       "      <th>4</th>\n",
       "      <td>Geography_Germany</td>\n",
       "      <td>0.042242</td>\n",
       "    </tr>\n",
       "    <tr>\n",
       "      <th>5</th>\n",
       "      <td>EstimatedSalary</td>\n",
       "      <td>0.027038</td>\n",
       "    </tr>\n",
       "    <tr>\n",
       "      <th>6</th>\n",
       "      <td>CreditScore</td>\n",
       "      <td>0.021131</td>\n",
       "    </tr>\n",
       "    <tr>\n",
       "      <th>7</th>\n",
       "      <td>Tenure</td>\n",
       "      <td>0.008183</td>\n",
       "    </tr>\n",
       "    <tr>\n",
       "      <th>8</th>\n",
       "      <td>Gender_Male</td>\n",
       "      <td>0.003191</td>\n",
       "    </tr>\n",
       "    <tr>\n",
       "      <th>9</th>\n",
       "      <td>HasCrCard_1</td>\n",
       "      <td>0.003098</td>\n",
       "    </tr>\n",
       "  </tbody>\n",
       "</table>\n",
       "</div>"
      ],
      "text/plain": [
       "             feature  importance\n",
       "0                Age    0.371957\n",
       "1      NumOfProducts    0.266832\n",
       "2            Balance    0.140401\n",
       "3   IsActiveMember_1    0.113420\n",
       "4  Geography_Germany    0.042242\n",
       "5    EstimatedSalary    0.027038\n",
       "6        CreditScore    0.021131\n",
       "7             Tenure    0.008183\n",
       "8        Gender_Male    0.003191\n",
       "9        HasCrCard_1    0.003098"
      ]
     },
     "metadata": {},
     "output_type": "display_data"
    },
    {
     "data": {
      "image/png": "[encoded data removed]",
      "text/plain": [
       "<Figure size 432x288 with 1 Axes>"
      ]
     },
     "metadata": {
      "needs_background": "light"
     },
     "output_type": "display_data"
    }
   ],
   "source": [
    "importances = best_model_dt.feature_importances_\n",
    "feature_list = list(features_train.columns)\n",
    "feature_results = pd.DataFrame({'feature': feature_list,'importance': importances})\n",
    "feature_results = feature_results.sort_values('importance',ascending = False).\\\n",
    "reset_index(drop=True)\n",
    "display(feature_results.head(10))\n",
    "feature_results.plot(kind='barh', x='feature')\n",
    "plt.show()"
   ]
  },
  {
   "cell_type": "markdown",
   "metadata": {},
   "source": [
    "<div>\n",
    "    <font color='green'>AUC-ROC для модели решающего дерева с дисбалансом</font>\n",
    "</div>"
   ]
  },
  {
   "cell_type": "code",
   "execution_count": 14,
   "metadata": {},
   "outputs": [
    {
     "name": "stdout",
     "output_type": "stream",
     "text": [
      "0.8173603148128844\n"
     ]
    }
   ],
   "source": [
    "probabilities_valid = best_model_dt.predict_proba(features_valid)\n",
    "probabilities_one_valid = probabilities_valid[:, 1]\n",
    "\n",
    "auc_roc = roc_auc_score(target_valid, probabilities_one_valid)# < напишите код здесь >\n",
    "\n",
    "print(auc_roc)"
   ]
  },
  {
   "cell_type": "markdown",
   "metadata": {},
   "source": [
    "<div>\n",
    "    <font color='green'>Модель случайного леса с дисбалансом</font>\n",
    "</div>"
   ]
  },
  {
   "cell_type": "code",
   "execution_count": 15,
   "metadata": {},
   "outputs": [
    {
     "name": "stderr",
     "output_type": "stream",
     "text": [
      "100%|██████████| 39/39 [00:15<00:00,  2.45it/s]"
     ]
    },
    {
     "name": "stdout",
     "output_type": "stream",
     "text": [
      "max_depth лучшей модели: 20\n",
      "f1 наилучшей модели на валидационной выборке: 0.5856905158069883\n"
     ]
    },
    {
     "name": "stderr",
     "output_type": "stream",
     "text": [
      "\n"
     ]
    }
   ],
   "source": [
    "best_model_rf = None\n",
    "best_result_rf = 0\n",
    "for depth_rf in tqdm(range(1, 40)):\n",
    "    model_rf = RandomForestClassifier(random_state=12345, n_estimators=60, max_depth=depth_rf)  \n",
    "    model_rf.fit(features_train, target_train)\n",
    "    predictions = model_rf.predict(features_valid) \n",
    "    result_rf = f1_score(target_valid, predictions)  \n",
    "    if result_rf > best_result_rf:\n",
    "        best_model_rf = model_rf\n",
    "        best_result_rf = result_rf\n",
    "        best_depth_rf = depth_rf\n",
    "print('max_depth лучшей модели:', best_depth_rf)\n",
    "print(\"f1 наилучшей модели на валидационной выборке:\", best_result_rf)"
   ]
  },
  {
   "cell_type": "code",
   "execution_count": 16,
   "metadata": {},
   "outputs": [
    {
     "data": {
      "text/html": [
       "<div>\n",
       "<style scoped>\n",
       "    .dataframe tbody tr th:only-of-type {\n",
       "        vertical-align: middle;\n",
       "    }\n",
       "\n",
       "    .dataframe tbody tr th {\n",
       "        vertical-align: top;\n",
       "    }\n",
       "\n",
       "    .dataframe thead th {\n",
       "        text-align: right;\n",
       "    }\n",
       "</style>\n",
       "<table border=\"1\" class=\"dataframe\">\n",
       "  <thead>\n",
       "    <tr style=\"text-align: right;\">\n",
       "      <th></th>\n",
       "      <th>feature</th>\n",
       "      <th>importance</th>\n",
       "    </tr>\n",
       "  </thead>\n",
       "  <tbody>\n",
       "    <tr>\n",
       "      <th>0</th>\n",
       "      <td>Age</td>\n",
       "      <td>0.238981</td>\n",
       "    </tr>\n",
       "    <tr>\n",
       "      <th>1</th>\n",
       "      <td>EstimatedSalary</td>\n",
       "      <td>0.147611</td>\n",
       "    </tr>\n",
       "    <tr>\n",
       "      <th>2</th>\n",
       "      <td>Balance</td>\n",
       "      <td>0.143929</td>\n",
       "    </tr>\n",
       "    <tr>\n",
       "      <th>3</th>\n",
       "      <td>CreditScore</td>\n",
       "      <td>0.141429</td>\n",
       "    </tr>\n",
       "    <tr>\n",
       "      <th>4</th>\n",
       "      <td>NumOfProducts</td>\n",
       "      <td>0.131169</td>\n",
       "    </tr>\n",
       "    <tr>\n",
       "      <th>5</th>\n",
       "      <td>Tenure</td>\n",
       "      <td>0.082665</td>\n",
       "    </tr>\n",
       "    <tr>\n",
       "      <th>6</th>\n",
       "      <td>IsActiveMember_1</td>\n",
       "      <td>0.035488</td>\n",
       "    </tr>\n",
       "    <tr>\n",
       "      <th>7</th>\n",
       "      <td>Geography_Germany</td>\n",
       "      <td>0.025505</td>\n",
       "    </tr>\n",
       "    <tr>\n",
       "      <th>8</th>\n",
       "      <td>Gender_Male</td>\n",
       "      <td>0.020616</td>\n",
       "    </tr>\n",
       "    <tr>\n",
       "      <th>9</th>\n",
       "      <td>HasCrCard_1</td>\n",
       "      <td>0.018952</td>\n",
       "    </tr>\n",
       "  </tbody>\n",
       "</table>\n",
       "</div>"
      ],
      "text/plain": [
       "             feature  importance\n",
       "0                Age    0.238981\n",
       "1    EstimatedSalary    0.147611\n",
       "2            Balance    0.143929\n",
       "3        CreditScore    0.141429\n",
       "4      NumOfProducts    0.131169\n",
       "5             Tenure    0.082665\n",
       "6   IsActiveMember_1    0.035488\n",
       "7  Geography_Germany    0.025505\n",
       "8        Gender_Male    0.020616\n",
       "9        HasCrCard_1    0.018952"
      ]
     },
     "metadata": {},
     "output_type": "display_data"
    },
    {
     "data": {
      "image/png": "[encoded data removed]",
      "text/plain": [
       "<Figure size 432x288 with 1 Axes>"
      ]
     },
     "metadata": {
      "needs_background": "light"
     },
     "output_type": "display_data"
    }
   ],
   "source": [
    "importances = best_model_rf.feature_importances_\n",
    "feature_list = list(features_train.columns)\n",
    "feature_results = pd.DataFrame({'feature': feature_list,'importance': importances})\n",
    "feature_results = feature_results.sort_values('importance',ascending = False).\\\n",
    "reset_index(drop=True)\n",
    "display(feature_results.head(10))\n",
    "feature_results.plot(kind='barh', x='feature')\n",
    "plt.show()"
   ]
  },
  {
   "cell_type": "markdown",
   "metadata": {},
   "source": [
    "<div>\n",
    "    <font color='green'>AUC-ROC для модели случайного леса с дисбалансом</font>\n",
    "</div>"
   ]
  },
  {
   "cell_type": "code",
   "execution_count": 17,
   "metadata": {},
   "outputs": [
    {
     "name": "stdout",
     "output_type": "stream",
     "text": [
      "0.837210168128546\n"
     ]
    }
   ],
   "source": [
    "probabilities_valid = best_model_rf.predict_proba(features_valid)\n",
    "probabilities_one_valid = probabilities_valid[:, 1]\n",
    "\n",
    "auc_roc = roc_auc_score(target_valid, probabilities_one_valid)# < напишите код здесь >\n",
    "\n",
    "print(auc_roc)"
   ]
  },
  {
   "cell_type": "markdown",
   "metadata": {},
   "source": [
    "<div>\n",
    "    <font color='green'>Модель логистической регрессии с дисбалансом</font>\n",
    "</div>"
   ]
  },
  {
   "cell_type": "code",
   "execution_count": 18,
   "metadata": {},
   "outputs": [
    {
     "name": "stdout",
     "output_type": "stream",
     "text": [
      "f1 модели: 0.35203094777562866\n"
     ]
    }
   ],
   "source": [
    "model_lr = LogisticRegression(random_state=12345, solver='liblinear')\n",
    "\n",
    "model_lr.fit(features_train, target_train)\n",
    "predictions = model_lr.predict(features_valid) \n",
    "result_lr = f1_score(target_valid, predictions)\n",
    "\n",
    "print('f1 модели:', result_lr)"
   ]
  },
  {
   "cell_type": "markdown",
   "metadata": {},
   "source": [
    "<div>\n",
    "    <font color='green'>AUC-ROC для модели логистической регрессии с дисбалансом</font>\n",
    "</div>"
   ]
  },
  {
   "cell_type": "code",
   "execution_count": 19,
   "metadata": {},
   "outputs": [
    {
     "name": "stdout",
     "output_type": "stream",
     "text": [
      "0.7743592798320205\n"
     ]
    }
   ],
   "source": [
    "probabilities_valid = model_lr.predict_proba(features_valid)\n",
    "probabilities_one_valid = probabilities_valid[:, 1]\n",
    "\n",
    "auc_roc = roc_auc_score(target_valid, probabilities_one_valid)# < напишите код здесь >\n",
    "\n",
    "print(auc_roc)"
   ]
  },
  {
   "cell_type": "markdown",
   "metadata": {},
   "source": [
    "Вывод:\\\n",
    "\\\n",
    "С дисбалансом не вышло необходимого значения f1 меры больше 0.59. Худшие результаты показала логистическая регрессия. Значение AUC-ROC у всех моделей около 0.8. Самым важным признаком для обучения у трёх моделей оказался признак Age."
   ]
  },
  {
   "cell_type": "markdown",
   "metadata": {},
   "source": [
    "## Борьба с дисбалансом"
   ]
  },
  {
   "cell_type": "markdown",
   "metadata": {},
   "source": [
    "<div>\n",
    "    <font color='green'>Модель решающего дерева с взешиванием классов</font>\n",
    "</div>"
   ]
  },
  {
   "cell_type": "code",
   "execution_count": 20,
   "metadata": {},
   "outputs": [
    {
     "name": "stderr",
     "output_type": "stream",
     "text": [
      "100%|██████████| 39/39 [00:01<00:00, 28.01it/s]\n"
     ]
    },
    {
     "name": "stdout",
     "output_type": "stream",
     "text": [
      "max_depth лучшей модели: 8\n",
      "f1 лучшей модели: 0.5665914221218962\n"
     ]
    },
    {
     "data": {
      "image/png": "[encoded data removed]",
      "text/plain": [
       "<Figure size 432x288 with 1 Axes>"
      ]
     },
     "metadata": {
      "needs_background": "light"
     },
     "output_type": "display_data"
    }
   ],
   "source": [
    "best_model_balance_dt = None\n",
    "best_result_balance_dt = 0\n",
    "result_dt_balance_plot = []\n",
    "result_dt_balance_plot_train = []\n",
    "for depth_dt in tqdm(range(1, 40)):\n",
    "    model_dt = DecisionTreeClassifier(random_state=12345, max_depth=depth_dt,\\\n",
    "                                      class_weight='balanced') \n",
    "    model_dt.fit(features_train, target_train) \n",
    "    predictions = model_dt.predict(features_valid) \n",
    "    result_dt = f1_score(target_valid, predictions) \n",
    "    result_dt_balance_plot.append(result_dt)\n",
    "    predictions_train = model_dt.predict(features_train) \n",
    "    result_dt_train = f1_score(target_train, predictions_train) \n",
    "    result_dt_balance_plot_train.append(result_dt_train)\n",
    "    if result_dt > best_result_balance_dt:\n",
    "        best_model_balance_dt = model_dt\n",
    "        best_result_balance_dt = result_dt\n",
    "        best_depth_balance_dt = depth_dt\n",
    "\n",
    "print('max_depth лучшей модели:', best_depth_balance_dt)\n",
    "print(\"f1 лучшей модели:\", best_result_balance_dt)\n",
    "\n",
    "plt.plot(range(1,40), result_dt_balance_plot, result_dt_balance_plot_train)\n",
    "plt.xlabel('Глубина дерева')\n",
    "plt.ylabel('f1')\n",
    "plt.show()"
   ]
  },
  {
   "cell_type": "code",
   "execution_count": 21,
   "metadata": {},
   "outputs": [
    {
     "data": {
      "text/html": [
       "<div>\n",
       "<style scoped>\n",
       "    .dataframe tbody tr th:only-of-type {\n",
       "        vertical-align: middle;\n",
       "    }\n",
       "\n",
       "    .dataframe tbody tr th {\n",
       "        vertical-align: top;\n",
       "    }\n",
       "\n",
       "    .dataframe thead th {\n",
       "        text-align: right;\n",
       "    }\n",
       "</style>\n",
       "<table border=\"1\" class=\"dataframe\">\n",
       "  <thead>\n",
       "    <tr style=\"text-align: right;\">\n",
       "      <th></th>\n",
       "      <th>feature</th>\n",
       "      <th>importance</th>\n",
       "    </tr>\n",
       "  </thead>\n",
       "  <tbody>\n",
       "    <tr>\n",
       "      <th>0</th>\n",
       "      <td>Age</td>\n",
       "      <td>0.367349</td>\n",
       "    </tr>\n",
       "    <tr>\n",
       "      <th>1</th>\n",
       "      <td>NumOfProducts</td>\n",
       "      <td>0.258810</td>\n",
       "    </tr>\n",
       "    <tr>\n",
       "      <th>2</th>\n",
       "      <td>Balance</td>\n",
       "      <td>0.139124</td>\n",
       "    </tr>\n",
       "    <tr>\n",
       "      <th>3</th>\n",
       "      <td>EstimatedSalary</td>\n",
       "      <td>0.055996</td>\n",
       "    </tr>\n",
       "    <tr>\n",
       "      <th>4</th>\n",
       "      <td>CreditScore</td>\n",
       "      <td>0.049448</td>\n",
       "    </tr>\n",
       "    <tr>\n",
       "      <th>5</th>\n",
       "      <td>IsActiveMember_1</td>\n",
       "      <td>0.049418</td>\n",
       "    </tr>\n",
       "    <tr>\n",
       "      <th>6</th>\n",
       "      <td>Geography_Germany</td>\n",
       "      <td>0.032154</td>\n",
       "    </tr>\n",
       "    <tr>\n",
       "      <th>7</th>\n",
       "      <td>Tenure</td>\n",
       "      <td>0.021540</td>\n",
       "    </tr>\n",
       "    <tr>\n",
       "      <th>8</th>\n",
       "      <td>Gender_Male</td>\n",
       "      <td>0.018813</td>\n",
       "    </tr>\n",
       "    <tr>\n",
       "      <th>9</th>\n",
       "      <td>HasCrCard_1</td>\n",
       "      <td>0.005217</td>\n",
       "    </tr>\n",
       "  </tbody>\n",
       "</table>\n",
       "</div>"
      ],
      "text/plain": [
       "             feature  importance\n",
       "0                Age    0.367349\n",
       "1      NumOfProducts    0.258810\n",
       "2            Balance    0.139124\n",
       "3    EstimatedSalary    0.055996\n",
       "4        CreditScore    0.049448\n",
       "5   IsActiveMember_1    0.049418\n",
       "6  Geography_Germany    0.032154\n",
       "7             Tenure    0.021540\n",
       "8        Gender_Male    0.018813\n",
       "9        HasCrCard_1    0.005217"
      ]
     },
     "metadata": {},
     "output_type": "display_data"
    },
    {
     "data": {
      "image/png": "[encoded data removed]",
      "text/plain": [
       "<Figure size 432x288 with 1 Axes>"
      ]
     },
     "metadata": {
      "needs_background": "light"
     },
     "output_type": "display_data"
    }
   ],
   "source": [
    "importances = best_model_balance_dt.feature_importances_\n",
    "feature_list = list(features_train.columns)\n",
    "feature_results = pd.DataFrame({'feature': feature_list,'importance': importances})\n",
    "feature_results = feature_results.sort_values('importance',ascending = False).\\\n",
    "reset_index(drop=True)\n",
    "display(feature_results.head(10))\n",
    "feature_results.plot(kind='barh', x='feature')\n",
    "plt.show()"
   ]
  },
  {
   "cell_type": "markdown",
   "metadata": {},
   "source": [
    "<div>\n",
    "    <font color='green'>AUC-ROC для модели решающего дерева с взвешиванием классов</font>\n",
    "</div>"
   ]
  },
  {
   "cell_type": "code",
   "execution_count": 22,
   "metadata": {},
   "outputs": [
    {
     "name": "stdout",
     "output_type": "stream",
     "text": [
      "0.8031311894089439\n"
     ]
    }
   ],
   "source": [
    "probabilities_valid = best_model_balance_dt.predict_proba(features_valid)\n",
    "probabilities_one_valid = probabilities_valid[:, 1]\n",
    "\n",
    "auc_roc = roc_auc_score(target_valid, probabilities_one_valid)# < напишите код здесь >\n",
    "\n",
    "print(auc_roc)"
   ]
  },
  {
   "cell_type": "markdown",
   "metadata": {},
   "source": [
    "<div>\n",
    "    <font color='green'>Модель случайного леса с взвешиванием классов</font>\n",
    "</div>"
   ]
  },
  {
   "cell_type": "code",
   "execution_count": 23,
   "metadata": {},
   "outputs": [
    {
     "name": "stderr",
     "output_type": "stream",
     "text": [
      "100%|██████████| 19/19 [00:02<00:00,  8.22it/s]"
     ]
    },
    {
     "name": "stdout",
     "output_type": "stream",
     "text": [
      "max_depth лучшей модели: 10\n",
      "f1 наилучшей модели на валидационной выборке: 0.6171107994389902\n"
     ]
    },
    {
     "name": "stderr",
     "output_type": "stream",
     "text": [
      "\n"
     ]
    }
   ],
   "source": [
    "best_model_balance_rf = None\n",
    "best_result_balance_rf = 0\n",
    "for depth_rf in tqdm(range(1, 20)):\n",
    "    model_rf = RandomForestClassifier(random_state=12345, n_estimators=20, \\\n",
    "                                      max_depth=depth_rf, class_weight='balanced')  \n",
    "    model_rf.fit(features_train, target_train)\n",
    "    predictions = model_rf.predict(features_valid) \n",
    "    result_rf = f1_score(target_valid, predictions)  \n",
    "    if result_rf > best_result_balance_rf:\n",
    "        best_model_balance_rf = model_rf\n",
    "        best_result_balance_rf = result_rf\n",
    "        best_depth_balance_rf = depth_rf\n",
    "print('max_depth лучшей модели:', best_depth_balance_rf)\n",
    "print(\"f1 наилучшей модели на валидационной выборке:\", best_result_balance_rf)"
   ]
  },
  {
   "cell_type": "code",
   "execution_count": 24,
   "metadata": {},
   "outputs": [
    {
     "data": {
      "text/html": [
       "<div>\n",
       "<style scoped>\n",
       "    .dataframe tbody tr th:only-of-type {\n",
       "        vertical-align: middle;\n",
       "    }\n",
       "\n",
       "    .dataframe tbody tr th {\n",
       "        vertical-align: top;\n",
       "    }\n",
       "\n",
       "    .dataframe thead th {\n",
       "        text-align: right;\n",
       "    }\n",
       "</style>\n",
       "<table border=\"1\" class=\"dataframe\">\n",
       "  <thead>\n",
       "    <tr style=\"text-align: right;\">\n",
       "      <th></th>\n",
       "      <th>feature</th>\n",
       "      <th>importance</th>\n",
       "    </tr>\n",
       "  </thead>\n",
       "  <tbody>\n",
       "    <tr>\n",
       "      <th>0</th>\n",
       "      <td>Age</td>\n",
       "      <td>0.310296</td>\n",
       "    </tr>\n",
       "    <tr>\n",
       "      <th>1</th>\n",
       "      <td>NumOfProducts</td>\n",
       "      <td>0.193429</td>\n",
       "    </tr>\n",
       "    <tr>\n",
       "      <th>2</th>\n",
       "      <td>Balance</td>\n",
       "      <td>0.121798</td>\n",
       "    </tr>\n",
       "    <tr>\n",
       "      <th>3</th>\n",
       "      <td>EstimatedSalary</td>\n",
       "      <td>0.098615</td>\n",
       "    </tr>\n",
       "    <tr>\n",
       "      <th>4</th>\n",
       "      <td>CreditScore</td>\n",
       "      <td>0.091667</td>\n",
       "    </tr>\n",
       "    <tr>\n",
       "      <th>5</th>\n",
       "      <td>Tenure</td>\n",
       "      <td>0.050546</td>\n",
       "    </tr>\n",
       "    <tr>\n",
       "      <th>6</th>\n",
       "      <td>IsActiveMember_1</td>\n",
       "      <td>0.045111</td>\n",
       "    </tr>\n",
       "    <tr>\n",
       "      <th>7</th>\n",
       "      <td>Geography_Germany</td>\n",
       "      <td>0.038950</td>\n",
       "    </tr>\n",
       "    <tr>\n",
       "      <th>8</th>\n",
       "      <td>Gender_Male</td>\n",
       "      <td>0.025244</td>\n",
       "    </tr>\n",
       "    <tr>\n",
       "      <th>9</th>\n",
       "      <td>HasCrCard_1</td>\n",
       "      <td>0.012648</td>\n",
       "    </tr>\n",
       "  </tbody>\n",
       "</table>\n",
       "</div>"
      ],
      "text/plain": [
       "             feature  importance\n",
       "0                Age    0.310296\n",
       "1      NumOfProducts    0.193429\n",
       "2            Balance    0.121798\n",
       "3    EstimatedSalary    0.098615\n",
       "4        CreditScore    0.091667\n",
       "5             Tenure    0.050546\n",
       "6   IsActiveMember_1    0.045111\n",
       "7  Geography_Germany    0.038950\n",
       "8        Gender_Male    0.025244\n",
       "9        HasCrCard_1    0.012648"
      ]
     },
     "metadata": {},
     "output_type": "display_data"
    },
    {
     "data": {
      "image/png": "[encoded data removed]",
      "text/plain": [
       "<Figure size 432x288 with 1 Axes>"
      ]
     },
     "metadata": {
      "needs_background": "light"
     },
     "output_type": "display_data"
    }
   ],
   "source": [
    "importances = best_model_balance_rf.feature_importances_\n",
    "feature_list = list(features_train.columns)\n",
    "feature_results = pd.DataFrame({'feature': feature_list,'importance': importances})\n",
    "feature_results = feature_results.sort_values('importance',ascending = False).\\\n",
    "reset_index(drop=True)\n",
    "display(feature_results.head(10))\n",
    "feature_results.plot(kind='barh', x='feature')\n",
    "plt.show()"
   ]
  },
  {
   "cell_type": "markdown",
   "metadata": {},
   "source": [
    "<div>\n",
    "    <font color='green'>AUC-ROC для модели случайного леса с взвешиванием классов</font>\n",
    "</div>"
   ]
  },
  {
   "cell_type": "code",
   "execution_count": 25,
   "metadata": {},
   "outputs": [
    {
     "name": "stdout",
     "output_type": "stream",
     "text": [
      "0.8424427782162589\n"
     ]
    }
   ],
   "source": [
    "probabilities_valid = best_model_balance_rf.predict_proba(features_valid)\n",
    "probabilities_one_valid = probabilities_valid[:, 1]\n",
    "\n",
    "auc_roc = roc_auc_score(target_valid, probabilities_one_valid)# < напишите код здесь >\n",
    "\n",
    "print(auc_roc)"
   ]
  },
  {
   "cell_type": "markdown",
   "metadata": {},
   "source": [
    "<div>\n",
    "    <font color='green'>Модель логистической ргрессии с взвешиваием классов</font>\n",
    "</div>"
   ]
  },
  {
   "cell_type": "code",
   "execution_count": 26,
   "metadata": {},
   "outputs": [
    {
     "name": "stdout",
     "output_type": "stream",
     "text": [
      "f1 модели: 0.5087040618955513\n"
     ]
    }
   ],
   "source": [
    "model_balance_lr = LogisticRegression(random_state=12345, solver='liblinear',\\\n",
    "                                      class_weight='balanced')\n",
    "\n",
    "model_balance_lr.fit(features_train, target_train)\n",
    "predictions = model_balance_lr.predict(features_valid) \n",
    "result_balance_lr = f1_score(target_valid, predictions)\n",
    "\n",
    "print('f1 модели:', result_balance_lr)"
   ]
  },
  {
   "cell_type": "markdown",
   "metadata": {},
   "source": [
    "<div>\n",
    "    <font color='green'>AUC-ROC для модели логистической регрессии с взвешиванием классов</font>\n",
    "</div>"
   ]
  },
  {
   "cell_type": "code",
   "execution_count": 27,
   "metadata": {},
   "outputs": [
    {
     "name": "stdout",
     "output_type": "stream",
     "text": [
      "0.778158553111644\n"
     ]
    }
   ],
   "source": [
    "probabilities_valid = model_balance_lr.predict_proba(features_valid)\n",
    "probabilities_one_valid = probabilities_valid[:, 1]\n",
    "\n",
    "auc_roc = roc_auc_score(target_valid, probabilities_one_valid)\n",
    "\n",
    "print(auc_roc)"
   ]
  },
  {
   "cell_type": "code",
   "execution_count": 28,
   "metadata": {},
   "outputs": [
    {
     "data": {
      "text/plain": [
       "1    4448\n",
       "0    4342\n",
       "Name: Exited, dtype: int64"
      ]
     },
     "execution_count": 28,
     "metadata": {},
     "output_type": "execute_result"
    }
   ],
   "source": [
    "def upsample(features, target, repeat):\n",
    "    features_zeros = features[target == 0]\n",
    "    features_ones = features[target == 1]\n",
    "    target_zeros = target[target == 0]\n",
    "    target_ones = target[target == 1]\n",
    "\n",
    "    features_upsampled = pd.concat([features_zeros] + [features_ones] * repeat)\n",
    "    target_upsampled = pd.concat([target_zeros] + [target_ones] * repeat)\n",
    "    \n",
    "    features_upsampled, target_upsampled = shuffle(\n",
    "        features_upsampled, target_upsampled, random_state=12345)\n",
    "    \n",
    "    return features_upsampled, target_upsampled\n",
    "\n",
    "\n",
    "features_upsampled, target_upsampled = upsample(features_train, target_train, 4)\n",
    "target_upsampled.value_counts()"
   ]
  },
  {
   "cell_type": "markdown",
   "metadata": {},
   "source": [
    "<div>\n",
    "    <font color='green'>Модель решающего дерева с увеличением выборки</font>\n",
    "</div>"
   ]
  },
  {
   "cell_type": "code",
   "execution_count": 29,
   "metadata": {
    "scrolled": true
   },
   "outputs": [
    {
     "name": "stderr",
     "output_type": "stream",
     "text": [
      "100%|██████████| 39/39 [00:01<00:00, 24.63it/s]\n"
     ]
    },
    {
     "name": "stdout",
     "output_type": "stream",
     "text": [
      "max_depth лучшей модели: 8\n",
      "f1 лучшей модели: 0.5711060948081264\n"
     ]
    },
    {
     "data": {
      "image/png": "[encoded data removed]",
      "text/plain": [
       "<Figure size 432x288 with 1 Axes>"
      ]
     },
     "metadata": {
      "needs_background": "light"
     },
     "output_type": "display_data"
    }
   ],
   "source": [
    "\n",
    "best_model_upsampling_dt = None\n",
    "best_result_upsampling_dt = 0\n",
    "result_dt_upsampling_plot = []\n",
    "result_dt_upsampling_plot_train = []\n",
    "for depth_dt in tqdm(range(1, 40)):\n",
    "    model_dt = DecisionTreeClassifier(random_state=12345, max_depth=depth_dt) \n",
    "    model_dt.fit(features_upsampled, target_upsampled) \n",
    "    predictions = model_dt.predict(features_valid) \n",
    "    result_dt = f1_score(target_valid, predictions) \n",
    "    result_dt_upsampling_plot.append(result_dt)\n",
    "    predictions_train = model_dt.predict(features_train) \n",
    "    result_dt_train = f1_score(target_train, predictions_train) \n",
    "    result_dt_upsampling_plot_train.append(result_dt_train)\n",
    "    if result_dt > best_result_upsampling_dt:\n",
    "        best_model_upsampling_dt = model_dt\n",
    "        best_result_upsampling_dt = result_dt\n",
    "        best_depth_upsampling_dt = depth_dt\n",
    "\n",
    "print('max_depth лучшей модели:', best_depth_upsampling_dt)\n",
    "print(\"f1 лучшей модели:\", best_result_upsampling_dt)\n",
    "\n",
    "plt.plot(range(1,40), result_dt_upsampling_plot, result_dt_upsampling_plot_train)\n",
    "plt.xlabel('Глубина дерева')\n",
    "plt.ylabel('f1')\n",
    "plt.show()"
   ]
  },
  {
   "cell_type": "code",
   "execution_count": 30,
   "metadata": {},
   "outputs": [
    {
     "data": {
      "text/html": [
       "<div>\n",
       "<style scoped>\n",
       "    .dataframe tbody tr th:only-of-type {\n",
       "        vertical-align: middle;\n",
       "    }\n",
       "\n",
       "    .dataframe tbody tr th {\n",
       "        vertical-align: top;\n",
       "    }\n",
       "\n",
       "    .dataframe thead th {\n",
       "        text-align: right;\n",
       "    }\n",
       "</style>\n",
       "<table border=\"1\" class=\"dataframe\">\n",
       "  <thead>\n",
       "    <tr style=\"text-align: right;\">\n",
       "      <th></th>\n",
       "      <th>feature</th>\n",
       "      <th>importance</th>\n",
       "    </tr>\n",
       "  </thead>\n",
       "  <tbody>\n",
       "    <tr>\n",
       "      <th>0</th>\n",
       "      <td>Age</td>\n",
       "      <td>0.363764</td>\n",
       "    </tr>\n",
       "    <tr>\n",
       "      <th>1</th>\n",
       "      <td>NumOfProducts</td>\n",
       "      <td>0.258921</td>\n",
       "    </tr>\n",
       "    <tr>\n",
       "      <th>2</th>\n",
       "      <td>Balance</td>\n",
       "      <td>0.139867</td>\n",
       "    </tr>\n",
       "    <tr>\n",
       "      <th>3</th>\n",
       "      <td>EstimatedSalary</td>\n",
       "      <td>0.056622</td>\n",
       "    </tr>\n",
       "    <tr>\n",
       "      <th>4</th>\n",
       "      <td>CreditScore</td>\n",
       "      <td>0.050680</td>\n",
       "    </tr>\n",
       "    <tr>\n",
       "      <th>5</th>\n",
       "      <td>IsActiveMember_1</td>\n",
       "      <td>0.048779</td>\n",
       "    </tr>\n",
       "    <tr>\n",
       "      <th>6</th>\n",
       "      <td>Geography_Germany</td>\n",
       "      <td>0.032006</td>\n",
       "    </tr>\n",
       "    <tr>\n",
       "      <th>7</th>\n",
       "      <td>Tenure</td>\n",
       "      <td>0.021648</td>\n",
       "    </tr>\n",
       "    <tr>\n",
       "      <th>8</th>\n",
       "      <td>Gender_Male</td>\n",
       "      <td>0.020934</td>\n",
       "    </tr>\n",
       "    <tr>\n",
       "      <th>9</th>\n",
       "      <td>HasCrCard_1</td>\n",
       "      <td>0.005411</td>\n",
       "    </tr>\n",
       "  </tbody>\n",
       "</table>\n",
       "</div>"
      ],
      "text/plain": [
       "             feature  importance\n",
       "0                Age    0.363764\n",
       "1      NumOfProducts    0.258921\n",
       "2            Balance    0.139867\n",
       "3    EstimatedSalary    0.056622\n",
       "4        CreditScore    0.050680\n",
       "5   IsActiveMember_1    0.048779\n",
       "6  Geography_Germany    0.032006\n",
       "7             Tenure    0.021648\n",
       "8        Gender_Male    0.020934\n",
       "9        HasCrCard_1    0.005411"
      ]
     },
     "metadata": {},
     "output_type": "display_data"
    },
    {
     "data": {
      "image/png": "[encoded data removed]",
      "text/plain": [
       "<Figure size 432x288 with 1 Axes>"
      ]
     },
     "metadata": {
      "needs_background": "light"
     },
     "output_type": "display_data"
    }
   ],
   "source": [
    "importances = best_model_upsampling_dt.feature_importances_\n",
    "feature_list = list(features_train.columns)\n",
    "feature_results = pd.DataFrame({'feature': feature_list,'importance': importances})\n",
    "feature_results = feature_results.sort_values('importance',ascending = False).\\\n",
    "reset_index(drop=True)\n",
    "display(feature_results.head(10))\n",
    "feature_results.plot(kind='barh', x='feature')\n",
    "plt.show()"
   ]
  },
  {
   "cell_type": "markdown",
   "metadata": {},
   "source": [
    "<div>\n",
    "    <font color='green'>AUC-ROC для модели решающего дерева с увеличением выборки</font>\n",
    "</div>"
   ]
  },
  {
   "cell_type": "code",
   "execution_count": 31,
   "metadata": {},
   "outputs": [
    {
     "name": "stdout",
     "output_type": "stream",
     "text": [
      "0.8081106387097735\n"
     ]
    }
   ],
   "source": [
    "probabilities_valid = best_model_upsampling_dt.predict_proba(features_valid)\n",
    "probabilities_one_valid = probabilities_valid[:, 1]\n",
    "\n",
    "auc_roc = roc_auc_score(target_valid, probabilities_one_valid)# < напишите код здесь >\n",
    "\n",
    "print(auc_roc)"
   ]
  },
  {
   "cell_type": "markdown",
   "metadata": {},
   "source": [
    "<div>\n",
    "    <font color='green'>Модель случайного леса с увеличением выборки</font>\n",
    "</div>"
   ]
  },
  {
   "cell_type": "code",
   "execution_count": 32,
   "metadata": {},
   "outputs": [
    {
     "name": "stderr",
     "output_type": "stream",
     "text": [
      "100%|██████████| 19/19 [00:09<00:00,  2.09it/s]"
     ]
    },
    {
     "name": "stdout",
     "output_type": "stream",
     "text": [
      "max_depth лучшей модели: 15\n",
      "f1 наилучшей модели на валидационной выборке: 0.6127167630057804\n"
     ]
    },
    {
     "name": "stderr",
     "output_type": "stream",
     "text": [
      "\n"
     ]
    }
   ],
   "source": [
    "\n",
    "best_model_upsampling_rf = None\n",
    "best_result_upsampling_rf = 0\n",
    "for depth_rf in tqdm(range(1, 20)):\n",
    "    model_rf = RandomForestClassifier(random_state=12345, n_estimators=60, \\\n",
    "                                      max_depth=depth_rf)  \n",
    "    model_rf.fit(features_upsampled, target_upsampled)\n",
    "    predictions = model_rf.predict(features_valid) \n",
    "    result_rf = f1_score(target_valid, predictions)  \n",
    "    if result_rf > best_result_upsampling_rf:\n",
    "        best_model_upsampling_rf = model_rf\n",
    "        best_result_upsampling_rf = result_rf\n",
    "        best_depth_upsampling_rf = depth_rf\n",
    "print('max_depth лучшей модели:', best_depth_upsampling_rf)\n",
    "print(\"f1 наилучшей модели на валидационной выборке:\", best_result_upsampling_rf)"
   ]
  },
  {
   "cell_type": "code",
   "execution_count": 33,
   "metadata": {},
   "outputs": [
    {
     "data": {
      "text/html": [
       "<div>\n",
       "<style scoped>\n",
       "    .dataframe tbody tr th:only-of-type {\n",
       "        vertical-align: middle;\n",
       "    }\n",
       "\n",
       "    .dataframe tbody tr th {\n",
       "        vertical-align: top;\n",
       "    }\n",
       "\n",
       "    .dataframe thead th {\n",
       "        text-align: right;\n",
       "    }\n",
       "</style>\n",
       "<table border=\"1\" class=\"dataframe\">\n",
       "  <thead>\n",
       "    <tr style=\"text-align: right;\">\n",
       "      <th></th>\n",
       "      <th>feature</th>\n",
       "      <th>importance</th>\n",
       "    </tr>\n",
       "  </thead>\n",
       "  <tbody>\n",
       "    <tr>\n",
       "      <th>0</th>\n",
       "      <td>Age</td>\n",
       "      <td>0.260928</td>\n",
       "    </tr>\n",
       "    <tr>\n",
       "      <th>1</th>\n",
       "      <td>Balance</td>\n",
       "      <td>0.144473</td>\n",
       "    </tr>\n",
       "    <tr>\n",
       "      <th>2</th>\n",
       "      <td>NumOfProducts</td>\n",
       "      <td>0.139892</td>\n",
       "    </tr>\n",
       "    <tr>\n",
       "      <th>3</th>\n",
       "      <td>CreditScore</td>\n",
       "      <td>0.132074</td>\n",
       "    </tr>\n",
       "    <tr>\n",
       "      <th>4</th>\n",
       "      <td>EstimatedSalary</td>\n",
       "      <td>0.128864</td>\n",
       "    </tr>\n",
       "    <tr>\n",
       "      <th>5</th>\n",
       "      <td>Tenure</td>\n",
       "      <td>0.076218</td>\n",
       "    </tr>\n",
       "    <tr>\n",
       "      <th>6</th>\n",
       "      <td>IsActiveMember_1</td>\n",
       "      <td>0.035676</td>\n",
       "    </tr>\n",
       "    <tr>\n",
       "      <th>7</th>\n",
       "      <td>Geography_Germany</td>\n",
       "      <td>0.030254</td>\n",
       "    </tr>\n",
       "    <tr>\n",
       "      <th>8</th>\n",
       "      <td>Gender_Male</td>\n",
       "      <td>0.020708</td>\n",
       "    </tr>\n",
       "    <tr>\n",
       "      <th>9</th>\n",
       "      <td>HasCrCard_1</td>\n",
       "      <td>0.017748</td>\n",
       "    </tr>\n",
       "  </tbody>\n",
       "</table>\n",
       "</div>"
      ],
      "text/plain": [
       "             feature  importance\n",
       "0                Age    0.260928\n",
       "1            Balance    0.144473\n",
       "2      NumOfProducts    0.139892\n",
       "3        CreditScore    0.132074\n",
       "4    EstimatedSalary    0.128864\n",
       "5             Tenure    0.076218\n",
       "6   IsActiveMember_1    0.035676\n",
       "7  Geography_Germany    0.030254\n",
       "8        Gender_Male    0.020708\n",
       "9        HasCrCard_1    0.017748"
      ]
     },
     "metadata": {},
     "output_type": "display_data"
    },
    {
     "data": {
      "image/png": "[encoded data removed]",
      "text/plain": [
       "<Figure size 432x288 with 1 Axes>"
      ]
     },
     "metadata": {
      "needs_background": "light"
     },
     "output_type": "display_data"
    }
   ],
   "source": [
    "importances = best_model_upsampling_rf.feature_importances_\n",
    "feature_list = list(features_train.columns)\n",
    "feature_results = pd.DataFrame({'feature': feature_list,'importance': importances})\n",
    "feature_results = feature_results.sort_values('importance',ascending = False).\\\n",
    "reset_index(drop=True)\n",
    "display(feature_results.head(10))\n",
    "feature_results.plot(kind='barh', x='feature')\n",
    "plt.show()"
   ]
  },
  {
   "cell_type": "markdown",
   "metadata": {},
   "source": [
    "<div>\n",
    "    <font color='green'>AUC-ROC для модели случайного леса с увеличением выборки</font>\n",
    "</div>"
   ]
  },
  {
   "cell_type": "code",
   "execution_count": 34,
   "metadata": {},
   "outputs": [
    {
     "name": "stdout",
     "output_type": "stream",
     "text": [
      "0.8385764917871662\n"
     ]
    }
   ],
   "source": [
    "probabilities_valid = best_model_upsampling_rf.predict_proba(features_valid)\n",
    "probabilities_one_valid = probabilities_valid[:, 1]\n",
    "\n",
    "auc_roc = roc_auc_score(target_valid, probabilities_one_valid)# < напишите код здесь >\n",
    "\n",
    "print(auc_roc)"
   ]
  },
  {
   "cell_type": "markdown",
   "metadata": {},
   "source": [
    "<div>\n",
    "    <font color='green'>Модель логистической регрессии с увеличением выборки</font>\n",
    "</div>"
   ]
  },
  {
   "cell_type": "code",
   "execution_count": 35,
   "metadata": {},
   "outputs": [
    {
     "name": "stdout",
     "output_type": "stream",
     "text": [
      "f1 модели: 0.5042816365366317\n"
     ]
    }
   ],
   "source": [
    "model_upsampling_lr = LogisticRegression(random_state=12345, solver='liblinear')\n",
    "\n",
    "model_upsampling_lr.fit(features_upsampled, target_upsampled)\n",
    "predictions = model_upsampling_lr.predict(features_valid) \n",
    "result_upsampling_lr = f1_score(target_valid, predictions)\n",
    "\n",
    "print('f1 модели:', result_upsampling_lr)"
   ]
  },
  {
   "cell_type": "markdown",
   "metadata": {},
   "source": [
    "<div>\n",
    "    <font color='green'>AUC-ROC для модели логистической регрессии с увеличением выборки</font>\n",
    "</div>"
   ]
  },
  {
   "cell_type": "code",
   "execution_count": 36,
   "metadata": {},
   "outputs": [
    {
     "name": "stdout",
     "output_type": "stream",
     "text": [
      "0.7781846137808819\n"
     ]
    }
   ],
   "source": [
    "probabilities_valid = model_upsampling_lr.predict_proba(features_valid)\n",
    "probabilities_one_valid = probabilities_valid[:, 1]\n",
    "\n",
    "auc_roc = roc_auc_score(target_valid, probabilities_one_valid)\n",
    "\n",
    "print(auc_roc)"
   ]
  },
  {
   "cell_type": "code",
   "execution_count": 37,
   "metadata": {},
   "outputs": [
    {
     "data": {
      "text/plain": [
       "0    1112\n",
       "1    1112\n",
       "Name: Exited, dtype: int64"
      ]
     },
     "execution_count": 37,
     "metadata": {},
     "output_type": "execute_result"
    }
   ],
   "source": [
    "def downsample(features, target, fraction):\n",
    "    features_zeros = features[target == 0]\n",
    "    features_ones = features[target == 1]\n",
    "    target_zeros = target[target == 0]\n",
    "    target_ones = target[target == 1]\n",
    "\n",
    "    features_downsampled = pd.concat(\n",
    "        [features_zeros.sample(frac=fraction, random_state=12345)] + [features_ones])\n",
    "    target_downsampled = pd.concat(\n",
    "        [target_zeros.sample(frac=fraction, random_state=12345)] + [target_ones])\n",
    "    \n",
    "    features_downsampled, target_downsampled = shuffle(\n",
    "        features_downsampled, target_downsampled, random_state=12345)\n",
    "    \n",
    "    return features_downsampled, target_downsampled\n",
    "\n",
    "fraction = target_train.value_counts()[1]/target_train.value_counts()[0]\n",
    "features_downsampled, target_downsampled = downsample(features_train, target_train, fraction)\n",
    "target_downsampled.value_counts()"
   ]
  },
  {
   "cell_type": "markdown",
   "metadata": {},
   "source": [
    "<div>\n",
    "    <font color='green'>Модель решающего дерева с уменьшением выборки</font>\n",
    "</div>"
   ]
  },
  {
   "cell_type": "code",
   "execution_count": 38,
   "metadata": {},
   "outputs": [
    {
     "name": "stderr",
     "output_type": "stream",
     "text": [
      "100%|██████████| 39/39 [00:00<00:00, 50.46it/s]\n"
     ]
    },
    {
     "name": "stdout",
     "output_type": "stream",
     "text": [
      "max_depth лучшей модели: 5\n",
      "f1 лучшей модели: 0.5582761998041136\n"
     ]
    },
    {
     "data": {
      "image/png": "[encoded data removed]",
      "text/plain": [
       "<Figure size 432x288 with 1 Axes>"
      ]
     },
     "metadata": {
      "needs_background": "light"
     },
     "output_type": "display_data"
    }
   ],
   "source": [
    "best_model_downsampling_dt = None\n",
    "best_result_downsampling_dt = 0\n",
    "result_dt_downsampling_plot = []\n",
    "result_dt_downsampling_plot_train = []\n",
    "for depth_dt in tqdm(range(1, 40)):\n",
    "    model_dt = DecisionTreeClassifier(random_state=12345, max_depth=depth_dt) \n",
    "    model_dt.fit(features_downsampled, target_downsampled) \n",
    "    predictions = model_dt.predict(features_valid) \n",
    "    result_dt = f1_score(target_valid, predictions) \n",
    "    result_dt_downsampling_plot.append(result_dt)\n",
    "    predictions_train = model_dt.predict(features_train) \n",
    "    result_dt_train = f1_score(target_train, predictions_train) \n",
    "    result_dt_downsampling_plot_train.append(result_dt_train)\n",
    "    if result_dt > best_result_downsampling_dt:\n",
    "        best_model_downsampling_dt = model_dt\n",
    "        best_result_downsampling_dt = result_dt\n",
    "        best_depth_downsampling_dt = depth_dt\n",
    "\n",
    "print('max_depth лучшей модели:', best_depth_downsampling_dt)\n",
    "print(\"f1 лучшей модели:\", best_result_downsampling_dt)\n",
    "\n",
    "plt.plot(range(1,40), result_dt_downsampling_plot, result_dt_downsampling_plot_train)\n",
    "plt.xlabel('Глубина дерева')\n",
    "plt.ylabel('f1')\n",
    "plt.show()"
   ]
  },
  {
   "cell_type": "code",
   "execution_count": 39,
   "metadata": {},
   "outputs": [
    {
     "data": {
      "text/html": [
       "<div>\n",
       "<style scoped>\n",
       "    .dataframe tbody tr th:only-of-type {\n",
       "        vertical-align: middle;\n",
       "    }\n",
       "\n",
       "    .dataframe tbody tr th {\n",
       "        vertical-align: top;\n",
       "    }\n",
       "\n",
       "    .dataframe thead th {\n",
       "        text-align: right;\n",
       "    }\n",
       "</style>\n",
       "<table border=\"1\" class=\"dataframe\">\n",
       "  <thead>\n",
       "    <tr style=\"text-align: right;\">\n",
       "      <th></th>\n",
       "      <th>feature</th>\n",
       "      <th>importance</th>\n",
       "    </tr>\n",
       "  </thead>\n",
       "  <tbody>\n",
       "    <tr>\n",
       "      <th>0</th>\n",
       "      <td>Age</td>\n",
       "      <td>0.457367</td>\n",
       "    </tr>\n",
       "    <tr>\n",
       "      <th>1</th>\n",
       "      <td>NumOfProducts</td>\n",
       "      <td>0.375260</td>\n",
       "    </tr>\n",
       "    <tr>\n",
       "      <th>2</th>\n",
       "      <td>IsActiveMember_1</td>\n",
       "      <td>0.062454</td>\n",
       "    </tr>\n",
       "    <tr>\n",
       "      <th>3</th>\n",
       "      <td>Geography_Germany</td>\n",
       "      <td>0.044102</td>\n",
       "    </tr>\n",
       "    <tr>\n",
       "      <th>4</th>\n",
       "      <td>Balance</td>\n",
       "      <td>0.043702</td>\n",
       "    </tr>\n",
       "    <tr>\n",
       "      <th>5</th>\n",
       "      <td>Gender_Male</td>\n",
       "      <td>0.006844</td>\n",
       "    </tr>\n",
       "    <tr>\n",
       "      <th>6</th>\n",
       "      <td>EstimatedSalary</td>\n",
       "      <td>0.004771</td>\n",
       "    </tr>\n",
       "    <tr>\n",
       "      <th>7</th>\n",
       "      <td>CreditScore</td>\n",
       "      <td>0.003114</td>\n",
       "    </tr>\n",
       "    <tr>\n",
       "      <th>8</th>\n",
       "      <td>Tenure</td>\n",
       "      <td>0.002386</td>\n",
       "    </tr>\n",
       "    <tr>\n",
       "      <th>9</th>\n",
       "      <td>Geography_Spain</td>\n",
       "      <td>0.000000</td>\n",
       "    </tr>\n",
       "  </tbody>\n",
       "</table>\n",
       "</div>"
      ],
      "text/plain": [
       "             feature  importance\n",
       "0                Age    0.457367\n",
       "1      NumOfProducts    0.375260\n",
       "2   IsActiveMember_1    0.062454\n",
       "3  Geography_Germany    0.044102\n",
       "4            Balance    0.043702\n",
       "5        Gender_Male    0.006844\n",
       "6    EstimatedSalary    0.004771\n",
       "7        CreditScore    0.003114\n",
       "8             Tenure    0.002386\n",
       "9    Geography_Spain    0.000000"
      ]
     },
     "metadata": {},
     "output_type": "display_data"
    },
    {
     "data": {
      "image/png": "[encoded data removed]",
      "text/plain": [
       "<Figure size 432x288 with 1 Axes>"
      ]
     },
     "metadata": {
      "needs_background": "light"
     },
     "output_type": "display_data"
    }
   ],
   "source": [
    "importances = best_model_downsampling_dt.feature_importances_\n",
    "feature_list = list(features_train.columns)\n",
    "feature_results = pd.DataFrame({'feature': feature_list,'importance': importances})\n",
    "feature_results = feature_results.sort_values('importance',ascending = False).\\\n",
    "reset_index(drop=True)\n",
    "display(feature_results.head(10))\n",
    "feature_results.plot(kind='barh', x='feature')\n",
    "plt.show()"
   ]
  },
  {
   "cell_type": "markdown",
   "metadata": {},
   "source": [
    "<div>\n",
    "    <font color='green'>AUC-ROC для модели решающего дерева с уменьшением выборки</font>\n",
    "</div>"
   ]
  },
  {
   "cell_type": "code",
   "execution_count": 40,
   "metadata": {},
   "outputs": [
    {
     "name": "stdout",
     "output_type": "stream",
     "text": [
      "0.8335216526931839\n"
     ]
    }
   ],
   "source": [
    "probabilities_valid = best_model_downsampling_dt.predict_proba(features_valid)\n",
    "probabilities_one_valid = probabilities_valid[:, 1]\n",
    "\n",
    "auc_roc = roc_auc_score(target_valid, probabilities_one_valid)# < напишите код здесь >\n",
    "\n",
    "print(auc_roc)"
   ]
  },
  {
   "cell_type": "markdown",
   "metadata": {},
   "source": [
    "<div>\n",
    "    <font color='green'>Модель случайного леса с уменьшением выборки</font>\n",
    "</div>"
   ]
  },
  {
   "cell_type": "code",
   "execution_count": 41,
   "metadata": {},
   "outputs": [
    {
     "name": "stderr",
     "output_type": "stream",
     "text": [
      "100%|██████████| 19/19 [00:04<00:00,  4.50it/s]"
     ]
    },
    {
     "name": "stdout",
     "output_type": "stream",
     "text": [
      "max_depth лучшей модели: 7\n",
      "f1 наилучшей модели на валидационной выборке: 0.5902004454342984\n"
     ]
    },
    {
     "name": "stderr",
     "output_type": "stream",
     "text": [
      "\n"
     ]
    }
   ],
   "source": [
    "\n",
    "best_model_downsampling_rf = None\n",
    "best_result_downsampling_rf = 0\n",
    "for depth_rf in tqdm(range(1, 20)):\n",
    "    model_rf = RandomForestClassifier(random_state=12345, n_estimators=60, \\\n",
    "                                      max_depth=depth_rf)  \n",
    "    model_rf.fit(features_downsampled, target_downsampled)\n",
    "    predictions = model_rf.predict(features_valid) \n",
    "    result_rf = f1_score(target_valid, predictions)  \n",
    "    if result_rf > best_result_downsampling_rf:\n",
    "        best_model_downsampling_rf = model_rf\n",
    "        best_result_downsampling_rf = result_rf\n",
    "        best_depth_downsampling_rf = depth_rf\n",
    "print('max_depth лучшей модели:', best_depth_downsampling_rf)\n",
    "print(\"f1 наилучшей модели на валидационной выборке:\", best_result_downsampling_rf)"
   ]
  },
  {
   "cell_type": "code",
   "execution_count": 42,
   "metadata": {},
   "outputs": [
    {
     "data": {
      "text/html": [
       "<div>\n",
       "<style scoped>\n",
       "    .dataframe tbody tr th:only-of-type {\n",
       "        vertical-align: middle;\n",
       "    }\n",
       "\n",
       "    .dataframe tbody tr th {\n",
       "        vertical-align: top;\n",
       "    }\n",
       "\n",
       "    .dataframe thead th {\n",
       "        text-align: right;\n",
       "    }\n",
       "</style>\n",
       "<table border=\"1\" class=\"dataframe\">\n",
       "  <thead>\n",
       "    <tr style=\"text-align: right;\">\n",
       "      <th></th>\n",
       "      <th>feature</th>\n",
       "      <th>importance</th>\n",
       "    </tr>\n",
       "  </thead>\n",
       "  <tbody>\n",
       "    <tr>\n",
       "      <th>0</th>\n",
       "      <td>Age</td>\n",
       "      <td>0.350848</td>\n",
       "    </tr>\n",
       "    <tr>\n",
       "      <th>1</th>\n",
       "      <td>NumOfProducts</td>\n",
       "      <td>0.229154</td>\n",
       "    </tr>\n",
       "    <tr>\n",
       "      <th>2</th>\n",
       "      <td>Balance</td>\n",
       "      <td>0.104579</td>\n",
       "    </tr>\n",
       "    <tr>\n",
       "      <th>3</th>\n",
       "      <td>EstimatedSalary</td>\n",
       "      <td>0.063394</td>\n",
       "    </tr>\n",
       "    <tr>\n",
       "      <th>4</th>\n",
       "      <td>CreditScore</td>\n",
       "      <td>0.060714</td>\n",
       "    </tr>\n",
       "    <tr>\n",
       "      <th>5</th>\n",
       "      <td>IsActiveMember_1</td>\n",
       "      <td>0.057367</td>\n",
       "    </tr>\n",
       "    <tr>\n",
       "      <th>6</th>\n",
       "      <td>Geography_Germany</td>\n",
       "      <td>0.056022</td>\n",
       "    </tr>\n",
       "    <tr>\n",
       "      <th>7</th>\n",
       "      <td>Tenure</td>\n",
       "      <td>0.035833</td>\n",
       "    </tr>\n",
       "    <tr>\n",
       "      <th>8</th>\n",
       "      <td>Gender_Male</td>\n",
       "      <td>0.025540</td>\n",
       "    </tr>\n",
       "    <tr>\n",
       "      <th>9</th>\n",
       "      <td>Geography_Spain</td>\n",
       "      <td>0.008971</td>\n",
       "    </tr>\n",
       "  </tbody>\n",
       "</table>\n",
       "</div>"
      ],
      "text/plain": [
       "             feature  importance\n",
       "0                Age    0.350848\n",
       "1      NumOfProducts    0.229154\n",
       "2            Balance    0.104579\n",
       "3    EstimatedSalary    0.063394\n",
       "4        CreditScore    0.060714\n",
       "5   IsActiveMember_1    0.057367\n",
       "6  Geography_Germany    0.056022\n",
       "7             Tenure    0.035833\n",
       "8        Gender_Male    0.025540\n",
       "9    Geography_Spain    0.008971"
      ]
     },
     "metadata": {},
     "output_type": "display_data"
    },
    {
     "data": {
      "image/png": "[encoded data removed]",
      "text/plain": [
       "<Figure size 432x288 with 1 Axes>"
      ]
     },
     "metadata": {
      "needs_background": "light"
     },
     "output_type": "display_data"
    }
   ],
   "source": [
    "importances = best_model_downsampling_rf.feature_importances_\n",
    "feature_list = list(features_train.columns)\n",
    "feature_results = pd.DataFrame({'feature': feature_list,'importance': importances})\n",
    "feature_results = feature_results.sort_values('importance',ascending = False).\\\n",
    "reset_index(drop=True)\n",
    "display(feature_results.head(10))\n",
    "feature_results.plot(kind='barh', x='feature')\n",
    "plt.show()"
   ]
  },
  {
   "cell_type": "markdown",
   "metadata": {},
   "source": [
    "<div>\n",
    "    <font color='green'>AUC-ROC для модели случайного леса с уменьшением выборки</font>\n",
    "</div>"
   ]
  },
  {
   "cell_type": "code",
   "execution_count": 43,
   "metadata": {},
   "outputs": [
    {
     "name": "stdout",
     "output_type": "stream",
     "text": [
      "0.8526008547899511\n"
     ]
    }
   ],
   "source": [
    "probabilities_valid = best_model_downsampling_rf.predict_proba(features_valid)\n",
    "probabilities_one_valid = probabilities_valid[:, 1]\n",
    "\n",
    "auc_roc = roc_auc_score(target_valid, probabilities_one_valid)# < напишите код здесь >\n",
    "\n",
    "print(auc_roc)"
   ]
  },
  {
   "cell_type": "markdown",
   "metadata": {},
   "source": [
    "<div>\n",
    "    <font color='green'>Модель логистической регрессии с уменьшением выборки</font>\n",
    "</div>"
   ]
  },
  {
   "cell_type": "code",
   "execution_count": 44,
   "metadata": {},
   "outputs": [
    {
     "name": "stdout",
     "output_type": "stream",
     "text": [
      "f1 модели: 0.5062082139446037\n"
     ]
    }
   ],
   "source": [
    "model_downsampling_lr = LogisticRegression(random_state=12345, solver='liblinear')\n",
    "\n",
    "model_downsampling_lr.fit(features_downsampled, target_downsampled)\n",
    "predictions = model_downsampling_lr.predict(features_valid) \n",
    "result_downsampling_lr = f1_score(target_valid, predictions)\n",
    "\n",
    "print('f1 модели:', result_downsampling_lr)"
   ]
  },
  {
   "cell_type": "markdown",
   "metadata": {},
   "source": [
    "<div>\n",
    "    <font color='green'>AUC-ROC для модели логистической регрессии с уменьшением выборки</font>\n",
    "</div>"
   ]
  },
  {
   "cell_type": "code",
   "execution_count": 45,
   "metadata": {
    "scrolled": true
   },
   "outputs": [
    {
     "name": "stdout",
     "output_type": "stream",
     "text": [
      "0.7793740971839584\n"
     ]
    }
   ],
   "source": [
    "probabilities_valid = model_downsampling_lr.predict_proba(features_valid)\n",
    "probabilities_one_valid = probabilities_valid[:, 1]\n",
    "\n",
    "auc_roc = roc_auc_score(target_valid, probabilities_one_valid)# < напишите код здесь >\n",
    "\n",
    "print(auc_roc)"
   ]
  },
  {
   "cell_type": "markdown",
   "metadata": {},
   "source": [
    "Вывод:\\\n",
    "\\\n",
    "Лучшим результатом f1-меры является значение f1=0.6171107994389902 у модели случайного леса со взвешиванием классов при глубине деревьев равной 10 и колличеством деревьев равным 20. В целом результаты лучше, чем при дисбалансе. Самыми важными признаками для обучения являются Age, NumOfProducts. AUC-ROC у некоторых моделей достигает 0.85."
   ]
  },
  {
   "cell_type": "markdown",
   "metadata": {},
   "source": [
    "## Тестирование модели"
   ]
  },
  {
   "cell_type": "markdown",
   "metadata": {},
   "source": [
    "<div>\n",
    "    <font color='green'>Тестирование модели случайного леса с глубиной деревьев равной 10 и колличеством деревьев равым 20 со взвешиванием классов.</div>"
   ]
  },
  {
   "cell_type": "code",
   "execution_count": 46,
   "metadata": {},
   "outputs": [
    {
     "name": "stdout",
     "output_type": "stream",
     "text": [
      "f1 лучшей модели на тестовой выборке: 0.606516290726817\n"
     ]
    }
   ],
   "source": [
    "features_train_valid = pd.concat([features_train]+[features_valid])\n",
    "target_train_valid = pd.concat([target_train]+[target_valid])\n",
    "features_train_valid, target_train_valid = shuffle(features_train_valid, \\\n",
    "                                                   target_train_valid, random_state=12345)\n",
    "best_model_balance_rf.fit(features_train_valid, target_train_valid)\n",
    "predictions = best_model_balance_rf.predict(features_test)\n",
    "\n",
    "result = f1_score(target_test, predictions)\n",
    "    \n",
    "\n",
    "print('f1 лучшей модели на тестовой выборке:', result)"
   ]
  },
  {
   "cell_type": "markdown",
   "metadata": {},
   "source": [
    "<div>\n",
    "    <font color='green'>AUC-ROC данной модели</div>"
   ]
  },
  {
   "cell_type": "code",
   "execution_count": 47,
   "metadata": {},
   "outputs": [
    {
     "name": "stdout",
     "output_type": "stream",
     "text": [
      "0.8623828089345557\n"
     ]
    }
   ],
   "source": [
    "probabilities_test = best_model_balance_rf.predict_proba(features_test)\n",
    "probabilities_one_test = probabilities_test[:, 1]\n",
    "\n",
    "auc_roc = roc_auc_score(target_test, probabilities_one_test)\n",
    "\n",
    "print(auc_roc)"
   ]
  },
  {
   "cell_type": "markdown",
   "metadata": {},
   "source": [
    "Вывод:\\\n",
    "\\\n",
    "Были рассмотренны модели с дисбалансом и с борьбой с дисбалансом. При уменьшении дисбаланса результаты оказались лучше как у f1 меры, так и у AUC-ROC.\\\n",
    "\\\n",
    "Самым высоким значением f1 меры вышло значение f1=0.6171107994389902 у модели случайного леса со взвешиванием классов при глубине деревьев равной 10 и колличеством деревьев равным 20. AUC-ROC при этом получилось равным 0.8424427782162589, что не является самым высоким значением среди всех результатов. С худшими результатами метрик получились модели логистической регрессии как с дисбалансом, так и с борьбой с дисбалансом.\\\n",
    "\\\n",
    "Были выявлены самые значимые для обучения признаки для каждого случая. Во всех случаях самым значимым вышел признак Age. В случаях данных с уменьшенным дисбалансом также общими по значимости оказался признак NumOfProducts.\\\n",
    "\\\n",
    "Значение AUC-ROC в случае с дисбалансом примерно равно 0.8. При уменьшении дисбаланса результат немного выше и достигает 0.85.\\\n",
    "\\\n",
    "На тестовой выборке использовалась модель случайного леса с глубиной деревьев равной 10 и колличестовом деревьев равным 20 со взвешиванием классов. Также для улучшения результата тестирование проводилось на сумме тренировочных данных с валлидационными данными. f1 мера получилось равной 0.606516290726817. AUC-ROC при этом равно 0.8623828089345557."
   ]
  }
 ],
 "metadata": {
  "ExecuteTimeLog": [
   {
    "duration": 1098,
    "start_time": "2023-03-12T08:08:03.409Z"
   },
   {
    "duration": 90,
    "start_time": "2023-03-12T08:08:57.101Z"
   },
   {
    "duration": 74,
    "start_time": "2023-03-12T08:09:08.537Z"
   },
   {
    "duration": 14,
    "start_time": "2023-03-12T08:16:53.901Z"
   },
   {
    "duration": 13,
    "start_time": "2023-03-12T08:21:01.404Z"
   },
   {
    "duration": 17,
    "start_time": "2023-03-12T08:21:34.890Z"
   },
   {
    "duration": 18,
    "start_time": "2023-03-12T08:21:57.263Z"
   },
   {
    "duration": 18,
    "start_time": "2023-03-12T08:22:08.858Z"
   },
   {
    "duration": 17,
    "start_time": "2023-03-12T08:22:26.473Z"
   },
   {
    "duration": 14,
    "start_time": "2023-03-12T08:22:47.867Z"
   },
   {
    "duration": 48,
    "start_time": "2023-03-12T13:39:41.086Z"
   },
   {
    "duration": 1082,
    "start_time": "2023-03-12T13:39:48.390Z"
   },
   {
    "duration": 135,
    "start_time": "2023-03-12T13:39:49.474Z"
   },
   {
    "duration": 18,
    "start_time": "2023-03-12T13:39:49.611Z"
   },
   {
    "duration": 7,
    "start_time": "2023-03-12T13:39:52.335Z"
   },
   {
    "duration": 12,
    "start_time": "2023-03-12T13:40:20.148Z"
   },
   {
    "duration": 68,
    "start_time": "2023-03-12T13:40:36.499Z"
   },
   {
    "duration": 515,
    "start_time": "2023-03-12T13:40:55.738Z"
   },
   {
    "duration": 9,
    "start_time": "2023-03-12T13:41:12.738Z"
   },
   {
    "duration": 12,
    "start_time": "2023-03-12T13:41:26.380Z"
   },
   {
    "duration": 520,
    "start_time": "2023-03-12T13:42:07.933Z"
   },
   {
    "duration": 526,
    "start_time": "2023-03-12T13:42:19.300Z"
   },
   {
    "duration": 11,
    "start_time": "2023-03-12T13:43:39.767Z"
   },
   {
    "duration": 3,
    "start_time": "2023-03-12T13:44:01.479Z"
   },
   {
    "duration": 107,
    "start_time": "2023-03-12T13:44:01.486Z"
   },
   {
    "duration": 14,
    "start_time": "2023-03-12T13:44:01.595Z"
   },
   {
    "duration": 11,
    "start_time": "2023-03-12T13:44:04.212Z"
   },
   {
    "duration": 10,
    "start_time": "2023-03-12T13:44:33.304Z"
   },
   {
    "duration": 10,
    "start_time": "2023-03-12T13:44:44.455Z"
   },
   {
    "duration": 17,
    "start_time": "2023-03-12T13:44:54.428Z"
   },
   {
    "duration": 12,
    "start_time": "2023-03-12T13:53:41.953Z"
   },
   {
    "duration": 8,
    "start_time": "2023-03-12T13:56:17.405Z"
   },
   {
    "duration": 21,
    "start_time": "2023-03-12T13:58:40.699Z"
   },
   {
    "duration": 2,
    "start_time": "2023-03-12T13:58:49.886Z"
   },
   {
    "duration": 63,
    "start_time": "2023-03-12T13:58:49.900Z"
   },
   {
    "duration": 14,
    "start_time": "2023-03-12T13:58:49.965Z"
   },
   {
    "duration": 11,
    "start_time": "2023-03-12T13:58:49.981Z"
   },
   {
    "duration": 11,
    "start_time": "2023-03-12T13:58:56.291Z"
   },
   {
    "duration": 28,
    "start_time": "2023-03-12T13:58:57.600Z"
   },
   {
    "duration": 3,
    "start_time": "2023-03-12T14:01:21.088Z"
   },
   {
    "duration": 62,
    "start_time": "2023-03-12T14:01:21.098Z"
   },
   {
    "duration": 15,
    "start_time": "2023-03-12T14:01:21.162Z"
   },
   {
    "duration": 16,
    "start_time": "2023-03-12T14:01:21.178Z"
   },
   {
    "duration": 7,
    "start_time": "2023-03-12T14:01:23.984Z"
   },
   {
    "duration": 19,
    "start_time": "2023-03-12T14:01:25.361Z"
   },
   {
    "duration": 1195,
    "start_time": "2023-03-12T14:01:35.980Z"
   },
   {
    "duration": 66,
    "start_time": "2023-03-12T14:01:37.178Z"
   },
   {
    "duration": 14,
    "start_time": "2023-03-12T14:01:37.246Z"
   },
   {
    "duration": 9,
    "start_time": "2023-03-12T14:01:37.262Z"
   },
   {
    "duration": 114,
    "start_time": "2023-03-12T14:01:37.273Z"
   },
   {
    "duration": 0,
    "start_time": "2023-03-12T14:01:37.388Z"
   },
   {
    "duration": 13,
    "start_time": "2023-03-12T14:02:00.675Z"
   },
   {
    "duration": 8,
    "start_time": "2023-03-12T14:02:03.505Z"
   },
   {
    "duration": 7,
    "start_time": "2023-03-12T14:32:20.238Z"
   },
   {
    "duration": 19,
    "start_time": "2023-03-12T14:34:27.642Z"
   },
   {
    "duration": 3,
    "start_time": "2023-03-12T14:34:34.877Z"
   },
   {
    "duration": 73,
    "start_time": "2023-03-12T14:34:34.887Z"
   },
   {
    "duration": 15,
    "start_time": "2023-03-12T14:34:34.962Z"
   },
   {
    "duration": 19,
    "start_time": "2023-03-12T14:34:38.531Z"
   },
   {
    "duration": 15,
    "start_time": "2023-03-12T14:36:01.028Z"
   },
   {
    "duration": 14,
    "start_time": "2023-03-12T14:36:27.141Z"
   },
   {
    "duration": 2,
    "start_time": "2023-03-12T14:36:35.507Z"
   },
   {
    "duration": 84,
    "start_time": "2023-03-12T14:36:35.516Z"
   },
   {
    "duration": 20,
    "start_time": "2023-03-12T14:36:35.602Z"
   },
   {
    "duration": 11,
    "start_time": "2023-03-12T14:36:38.105Z"
   },
   {
    "duration": 8,
    "start_time": "2023-03-12T14:36:47.349Z"
   },
   {
    "duration": 10,
    "start_time": "2023-03-12T14:36:49.337Z"
   },
   {
    "duration": 9,
    "start_time": "2023-03-12T14:36:51.020Z"
   },
   {
    "duration": 3,
    "start_time": "2023-03-12T14:40:56.545Z"
   },
   {
    "duration": 62,
    "start_time": "2023-03-12T14:40:56.557Z"
   },
   {
    "duration": 13,
    "start_time": "2023-03-12T14:40:56.621Z"
   },
   {
    "duration": 14,
    "start_time": "2023-03-12T14:40:56.636Z"
   },
   {
    "duration": 200,
    "start_time": "2023-03-12T14:40:56.653Z"
   },
   {
    "duration": 181,
    "start_time": "2023-03-12T14:40:59.110Z"
   },
   {
    "duration": 142,
    "start_time": "2023-03-12T14:41:00.891Z"
   },
   {
    "duration": 49,
    "start_time": "2023-03-12T14:41:03.418Z"
   },
   {
    "duration": 9,
    "start_time": "2023-03-12T14:46:37.491Z"
   },
   {
    "duration": 6,
    "start_time": "2023-03-12T14:47:01.774Z"
   },
   {
    "duration": 4,
    "start_time": "2023-03-12T14:47:36.139Z"
   },
   {
    "duration": 3,
    "start_time": "2023-03-12T14:50:38.446Z"
   },
   {
    "duration": 3,
    "start_time": "2023-03-12T14:58:43.438Z"
   },
   {
    "duration": 11,
    "start_time": "2023-03-12T15:03:14.846Z"
   },
   {
    "duration": 49,
    "start_time": "2023-03-12T15:03:53.388Z"
   },
   {
    "duration": 24,
    "start_time": "2023-03-12T15:03:55.465Z"
   },
   {
    "duration": 44,
    "start_time": "2023-03-12T15:24:26.220Z"
   },
   {
    "duration": 264,
    "start_time": "2023-03-12T15:27:22.424Z"
   },
   {
    "duration": 19431,
    "start_time": "2023-03-12T15:27:41.221Z"
   },
   {
    "duration": 458,
    "start_time": "2023-03-12T15:29:00.694Z"
   },
   {
    "duration": 28,
    "start_time": "2023-03-12T15:29:22.487Z"
   },
   {
    "duration": 19143,
    "start_time": "2023-03-12T15:29:50.404Z"
   },
   {
    "duration": 335,
    "start_time": "2023-03-12T15:33:20.213Z"
   },
   {
    "duration": 23565,
    "start_time": "2023-03-12T15:33:35.737Z"
   },
   {
    "duration": 108812,
    "start_time": "2023-03-12T15:44:27.479Z"
   },
   {
    "duration": 8,
    "start_time": "2023-03-12T15:49:09.633Z"
   },
   {
    "duration": 4,
    "start_time": "2023-03-12T15:52:36.722Z"
   },
   {
    "duration": 55,
    "start_time": "2023-03-12T15:52:36.742Z"
   },
   {
    "duration": 16,
    "start_time": "2023-03-12T15:52:36.799Z"
   },
   {
    "duration": 9,
    "start_time": "2023-03-12T15:52:36.816Z"
   },
   {
    "duration": 211,
    "start_time": "2023-03-12T15:52:36.827Z"
   },
   {
    "duration": 183,
    "start_time": "2023-03-12T15:52:40.050Z"
   },
   {
    "duration": 91,
    "start_time": "2023-03-12T15:52:41.748Z"
   },
   {
    "duration": 25,
    "start_time": "2023-03-12T15:52:43.590Z"
   },
   {
    "duration": 23,
    "start_time": "2023-03-12T15:52:49.153Z"
   },
   {
    "duration": 8,
    "start_time": "2023-03-12T15:52:52.499Z"
   },
   {
    "duration": 21453,
    "start_time": "2023-03-12T15:53:19.183Z"
   },
   {
    "duration": 80697,
    "start_time": "2023-03-12T15:54:01.991Z"
   },
   {
    "duration": 81149,
    "start_time": "2023-03-12T17:01:34.398Z"
   },
   {
    "duration": 11668,
    "start_time": "2023-03-12T17:03:45.192Z"
   },
   {
    "duration": 87336,
    "start_time": "2023-03-12T17:03:59.591Z"
   },
   {
    "duration": 86843,
    "start_time": "2023-03-12T17:05:45.618Z"
   },
   {
    "duration": 17,
    "start_time": "2023-03-12T17:09:01.376Z"
   },
   {
    "duration": 383,
    "start_time": "2023-03-12T17:09:22.405Z"
   },
   {
    "duration": 5,
    "start_time": "2023-03-12T17:51:32.701Z"
   },
   {
    "duration": 41,
    "start_time": "2023-03-12T17:53:50.133Z"
   },
   {
    "duration": 34,
    "start_time": "2023-03-12T17:54:29.755Z"
   },
   {
    "duration": 92,
    "start_time": "2023-03-12T17:55:01.194Z"
   },
   {
    "duration": 344,
    "start_time": "2023-03-12T18:03:04.745Z"
   },
   {
    "duration": 20254,
    "start_time": "2023-03-12T18:03:20.933Z"
   },
   {
    "duration": 32,
    "start_time": "2023-03-12T18:07:16.731Z"
   },
   {
    "duration": 85304,
    "start_time": "2023-03-12T18:09:47.337Z"
   },
   {
    "duration": 43,
    "start_time": "2023-03-12T18:12:54.316Z"
   },
   {
    "duration": 12,
    "start_time": "2023-03-12T18:14:38.327Z"
   },
   {
    "duration": 532,
    "start_time": "2023-03-12T18:15:02.252Z"
   },
   {
    "duration": 98,
    "start_time": "2023-03-12T18:15:48.396Z"
   },
   {
    "duration": 5,
    "start_time": "2023-03-12T18:17:00.678Z"
   },
   {
    "duration": 124,
    "start_time": "2023-03-12T18:19:28.427Z"
   },
   {
    "duration": 41496,
    "start_time": "2023-03-12T18:24:35.950Z"
   },
   {
    "duration": 33,
    "start_time": "2023-03-12T18:26:34.374Z"
   },
   {
    "duration": 209546,
    "start_time": "2023-03-12T18:28:48.045Z"
   },
   {
    "duration": 29573,
    "start_time": "2023-03-12T18:34:34.971Z"
   },
   {
    "duration": 217002,
    "start_time": "2023-03-12T18:35:17.467Z"
   },
   {
    "duration": 38,
    "start_time": "2023-03-12T18:40:06.083Z"
   },
   {
    "duration": 978,
    "start_time": "2023-03-12T18:41:39.327Z"
   },
   {
    "duration": 20,
    "start_time": "2023-03-12T18:42:31.432Z"
   },
   {
    "duration": 946,
    "start_time": "2023-03-12T18:43:16.640Z"
   },
   {
    "duration": 44,
    "start_time": "2023-03-12T18:44:03.721Z"
   },
   {
    "duration": 48,
    "start_time": "2023-03-12T18:46:18.086Z"
   },
   {
    "duration": 8249,
    "start_time": "2023-03-12T18:51:06.046Z"
   },
   {
    "duration": 44,
    "start_time": "2023-03-12T18:52:40.172Z"
   },
   {
    "duration": 36356,
    "start_time": "2023-03-12T19:00:04.691Z"
   },
   {
    "duration": 34838,
    "start_time": "2023-03-12T19:02:09.189Z"
   },
   {
    "duration": 34,
    "start_time": "2023-03-12T19:04:06.919Z"
   },
   {
    "duration": 167,
    "start_time": "2023-03-12T19:05:57.612Z"
   },
   {
    "duration": 52,
    "start_time": "2023-03-12T19:06:26.652Z"
   },
   {
    "duration": 188,
    "start_time": "2023-03-12T19:06:34.192Z"
   },
   {
    "duration": 46,
    "start_time": "2023-03-12T19:06:49.087Z"
   },
   {
    "duration": 126,
    "start_time": "2023-03-12T19:07:00.392Z"
   },
   {
    "duration": 43,
    "start_time": "2023-03-12T19:07:54.644Z"
   },
   {
    "duration": 104910,
    "start_time": "2023-03-12T19:10:42.181Z"
   },
   {
    "duration": 70908,
    "start_time": "2023-03-12T19:13:28.290Z"
   },
   {
    "duration": 44915,
    "start_time": "2023-03-12T19:15:17.816Z"
   },
   {
    "duration": 24925,
    "start_time": "2023-03-12T19:16:14.494Z"
   },
   {
    "duration": 4236,
    "start_time": "2023-03-12T19:19:05.192Z"
   },
   {
    "duration": 105452,
    "start_time": "2023-03-12T19:19:34.376Z"
   },
   {
    "duration": 72431,
    "start_time": "2023-03-12T19:21:50.576Z"
   },
   {
    "duration": 44884,
    "start_time": "2023-03-12T19:25:59.879Z"
   },
   {
    "duration": 60,
    "start_time": "2023-03-12T19:40:33.736Z"
   },
   {
    "duration": 1521,
    "start_time": "2023-03-12T19:40:56.812Z"
   },
   {
    "duration": 63,
    "start_time": "2023-03-12T19:41:00.285Z"
   },
   {
    "duration": 9,
    "start_time": "2023-03-12T19:41:11.031Z"
   },
   {
    "duration": 192,
    "start_time": "2023-03-12T19:41:12.552Z"
   },
   {
    "duration": 117,
    "start_time": "2023-03-12T19:41:14.188Z"
   },
   {
    "duration": 33,
    "start_time": "2023-03-12T19:41:15.799Z"
   },
   {
    "duration": 21,
    "start_time": "2023-03-12T19:41:17.696Z"
   },
   {
    "duration": 6,
    "start_time": "2023-03-12T19:41:25.437Z"
   },
   {
    "duration": 76558,
    "start_time": "2023-03-12T19:42:18.996Z"
   },
   {
    "duration": 148,
    "start_time": "2023-03-12T19:44:11.504Z"
   },
   {
    "duration": 186731,
    "start_time": "2023-03-12T19:46:19.997Z"
   },
   {
    "duration": 273844,
    "start_time": "2023-03-12T19:49:37.568Z"
   },
   {
    "duration": 115812,
    "start_time": "2023-03-12T19:55:02.553Z"
   },
   {
    "duration": 78,
    "start_time": "2023-03-12T19:57:27.403Z"
   },
   {
    "duration": 45,
    "start_time": "2023-03-12T19:57:41.070Z"
   },
   {
    "duration": 277,
    "start_time": "2023-03-12T19:57:51.123Z"
   },
   {
    "duration": 3582,
    "start_time": "2023-03-12T19:58:19.770Z"
   },
   {
    "duration": 25732,
    "start_time": "2023-03-12T19:58:34.605Z"
   },
   {
    "duration": 36620,
    "start_time": "2023-03-12T19:59:11.091Z"
   },
   {
    "duration": 75232,
    "start_time": "2023-03-12T20:01:39.794Z"
   },
   {
    "duration": 2857,
    "start_time": "2023-03-12T20:07:16.924Z"
   },
   {
    "duration": 101,
    "start_time": "2023-03-12T20:10:17.748Z"
   },
   {
    "duration": 79203,
    "start_time": "2023-03-12T20:10:55.380Z"
   },
   {
    "duration": 577144,
    "start_time": "2023-03-12T20:12:47.722Z"
   },
   {
    "duration": 27347,
    "start_time": "2023-03-12T20:23:00.941Z"
   },
   {
    "duration": 16704,
    "start_time": "2023-03-12T20:24:24.553Z"
   },
   {
    "duration": 43218,
    "start_time": "2023-03-12T20:24:53.229Z"
   },
   {
    "duration": 65054,
    "start_time": "2023-03-12T20:25:43.474Z"
   },
   {
    "duration": 4,
    "start_time": "2023-03-12T20:34:14.803Z"
   },
   {
    "duration": 91,
    "start_time": "2023-03-12T20:38:32.664Z"
   },
   {
    "duration": 1355,
    "start_time": "2023-03-12T20:38:43.689Z"
   },
   {
    "duration": 59,
    "start_time": "2023-03-12T20:38:45.045Z"
   },
   {
    "duration": 14,
    "start_time": "2023-03-12T20:38:45.106Z"
   },
   {
    "duration": 32,
    "start_time": "2023-03-12T20:38:45.123Z"
   },
   {
    "duration": 201,
    "start_time": "2023-03-12T20:38:45.157Z"
   },
   {
    "duration": 117,
    "start_time": "2023-03-12T20:38:45.360Z"
   },
   {
    "duration": 32,
    "start_time": "2023-03-12T20:38:45.479Z"
   },
   {
    "duration": 11,
    "start_time": "2023-03-12T20:38:45.512Z"
   },
   {
    "duration": 44,
    "start_time": "2023-03-12T20:38:45.525Z"
   },
   {
    "duration": 14,
    "start_time": "2023-03-12T20:38:45.572Z"
   },
   {
    "duration": 22426,
    "start_time": "2023-03-12T20:38:45.588Z"
   },
   {
    "duration": 44,
    "start_time": "2023-03-12T20:39:08.015Z"
   },
   {
    "duration": 88014,
    "start_time": "2023-03-12T20:39:08.061Z"
   },
   {
    "duration": 46,
    "start_time": "2023-03-12T20:40:36.078Z"
   },
   {
    "duration": 452,
    "start_time": "2023-03-12T20:40:36.125Z"
   },
   {
    "duration": 198,
    "start_time": "2023-03-12T20:40:36.580Z"
   },
   {
    "duration": 20451,
    "start_time": "2023-03-12T20:40:36.781Z"
   },
   {
    "duration": 55,
    "start_time": "2023-03-12T20:40:57.233Z"
   },
   {
    "duration": 72977,
    "start_time": "2023-03-12T20:40:57.290Z"
   },
   {
    "duration": 106,
    "start_time": "2023-03-12T20:42:10.277Z"
   },
   {
    "duration": 408,
    "start_time": "2023-03-12T20:42:10.385Z"
   },
   {
    "duration": 282,
    "start_time": "2023-03-12T20:42:10.796Z"
   },
   {
    "duration": 250,
    "start_time": "2023-03-12T20:42:11.081Z"
   },
   {
    "duration": 39774,
    "start_time": "2023-03-12T20:42:11.333Z"
   },
   {
    "duration": 46,
    "start_time": "2023-03-12T20:42:51.109Z"
   },
   {
    "duration": 587463,
    "start_time": "2023-03-12T20:42:51.157Z"
   },
   {
    "duration": 56,
    "start_time": "2023-03-12T20:52:38.622Z"
   },
   {
    "duration": 933,
    "start_time": "2023-03-12T20:52:38.681Z"
   },
   {
    "duration": 199,
    "start_time": "2023-03-12T20:52:39.679Z"
   },
   {
    "duration": 134,
    "start_time": "2023-03-12T20:52:39.880Z"
   },
   {
    "duration": 8469,
    "start_time": "2023-03-12T20:52:40.016Z"
   },
   {
    "duration": 42,
    "start_time": "2023-03-12T20:52:48.487Z"
   },
   {
    "duration": 40317,
    "start_time": "2023-03-12T20:52:48.532Z"
   },
   {
    "duration": 47,
    "start_time": "2023-03-12T20:53:28.851Z"
   },
   {
    "duration": 180,
    "start_time": "2023-03-12T20:53:28.900Z"
   },
   {
    "duration": 196,
    "start_time": "2023-03-12T20:53:29.081Z"
   },
   {
    "duration": 175,
    "start_time": "2023-03-12T20:53:29.281Z"
   },
   {
    "duration": 2698,
    "start_time": "2023-03-12T20:55:48.053Z"
   },
   {
    "duration": 490,
    "start_time": "2023-03-12T20:57:18.554Z"
   },
   {
    "duration": 180,
    "start_time": "2023-03-12T20:58:11.676Z"
   },
   {
    "duration": 432,
    "start_time": "2023-03-12T20:58:48.646Z"
   },
   {
    "duration": 354,
    "start_time": "2023-03-12T20:59:20.172Z"
   },
   {
    "duration": 384,
    "start_time": "2023-03-12T21:01:57.215Z"
   },
   {
    "duration": 650,
    "start_time": "2023-03-12T21:02:33.378Z"
   },
   {
    "duration": 278,
    "start_time": "2023-03-12T21:03:45.400Z"
   },
   {
    "duration": 376,
    "start_time": "2023-03-12T21:04:23.404Z"
   },
   {
    "duration": 349,
    "start_time": "2023-03-12T21:05:14.521Z"
   },
   {
    "duration": 164,
    "start_time": "2023-03-12T21:05:46.407Z"
   },
   {
    "duration": 149,
    "start_time": "2023-03-12T21:05:48.871Z"
   },
   {
    "duration": 374,
    "start_time": "2023-03-12T21:06:30.510Z"
   },
   {
    "duration": 185,
    "start_time": "2023-03-12T21:19:29.832Z"
   },
   {
    "duration": 57,
    "start_time": "2023-03-12T21:20:53.147Z"
   },
   {
    "duration": 770,
    "start_time": "2023-03-12T21:21:08.291Z"
   },
   {
    "duration": 3810,
    "start_time": "2023-03-12T21:21:56.064Z"
   },
   {
    "duration": 3836,
    "start_time": "2023-03-12T21:26:37.264Z"
   },
   {
    "duration": 3839,
    "start_time": "2023-03-12T21:28:50.116Z"
   },
   {
    "duration": 708,
    "start_time": "2023-03-12T21:43:56.835Z"
   },
   {
    "duration": 12,
    "start_time": "2023-03-12T21:45:57.227Z"
   },
   {
    "duration": 15,
    "start_time": "2023-03-12T21:46:02.468Z"
   },
   {
    "duration": 8,
    "start_time": "2023-03-12T21:46:03.954Z"
   },
   {
    "duration": 4,
    "start_time": "2023-03-12T21:46:10.955Z"
   },
   {
    "duration": 14,
    "start_time": "2023-03-12T21:46:16.641Z"
   },
   {
    "duration": 14,
    "start_time": "2023-03-12T21:46:19.257Z"
   },
   {
    "duration": 17,
    "start_time": "2023-03-12T21:47:17.569Z"
   },
   {
    "duration": 28,
    "start_time": "2023-03-12T21:48:01.700Z"
   },
   {
    "duration": 156,
    "start_time": "2023-03-12T21:49:23.500Z"
   },
   {
    "duration": 100,
    "start_time": "2023-03-12T21:49:25.029Z"
   },
   {
    "duration": 22,
    "start_time": "2023-03-12T21:49:26.601Z"
   },
   {
    "duration": 5,
    "start_time": "2023-03-12T21:49:30.890Z"
   },
   {
    "duration": 20,
    "start_time": "2023-03-12T21:49:42.718Z"
   },
   {
    "duration": 24014,
    "start_time": "2023-03-12T21:49:49.598Z"
   },
   {
    "duration": 158,
    "start_time": "2023-03-12T21:55:14.102Z"
   },
   {
    "duration": 101,
    "start_time": "2023-03-12T21:55:15.674Z"
   },
   {
    "duration": 26,
    "start_time": "2023-03-12T21:55:16.977Z"
   },
   {
    "duration": 5,
    "start_time": "2023-03-12T21:55:22.104Z"
   },
   {
    "duration": 31,
    "start_time": "2023-03-12T21:55:28.668Z"
   },
   {
    "duration": 23396,
    "start_time": "2023-03-12T21:55:40.054Z"
   },
   {
    "duration": 287879,
    "start_time": "2023-03-12T21:57:01.129Z"
   },
   {
    "duration": 421075,
    "start_time": "2023-03-12T22:10:16.827Z"
   },
   {
    "duration": 66948,
    "start_time": "2023-03-12T22:22:31.472Z"
   },
   {
    "duration": 216484,
    "start_time": "2023-03-12T22:24:31.652Z"
   },
   {
    "duration": 17193,
    "start_time": "2023-03-12T22:30:28.970Z"
   },
   {
    "duration": 42129,
    "start_time": "2023-03-12T22:31:11.430Z"
   },
   {
    "duration": 67570,
    "start_time": "2023-03-12T22:32:31.221Z"
   },
   {
    "duration": 10720,
    "start_time": "2023-03-12T22:33:51.886Z"
   },
   {
    "duration": 8679,
    "start_time": "2023-03-12T22:34:14.918Z"
   },
   {
    "duration": 7298,
    "start_time": "2023-03-12T22:34:31.668Z"
   },
   {
    "duration": 6708,
    "start_time": "2023-03-12T22:34:50.153Z"
   },
   {
    "duration": 20660,
    "start_time": "2023-03-12T22:35:09.275Z"
   },
   {
    "duration": 8776,
    "start_time": "2023-03-12T22:35:49.391Z"
   },
   {
    "duration": 726,
    "start_time": "2023-03-12T22:37:32.095Z"
   },
   {
    "duration": 101,
    "start_time": "2023-03-12T22:40:03.916Z"
   },
   {
    "duration": 29120,
    "start_time": "2023-03-12T22:40:12.779Z"
   },
   {
    "duration": 92,
    "start_time": "2023-03-12T22:41:03.724Z"
   },
   {
    "duration": 27417,
    "start_time": "2023-03-12T22:41:06.006Z"
   },
   {
    "duration": 361785,
    "start_time": "2023-03-12T22:41:46.882Z"
   },
   {
    "duration": 5221,
    "start_time": "2023-03-12T22:48:45.869Z"
   },
   {
    "duration": 68865,
    "start_time": "2023-03-12T22:49:02.703Z"
   },
   {
    "duration": 109698,
    "start_time": "2023-03-12T22:51:12.618Z"
   },
   {
    "duration": 163211,
    "start_time": "2023-03-12T22:53:27.610Z"
   },
   {
    "duration": 6392,
    "start_time": "2023-03-12T22:58:48.917Z"
   },
   {
    "duration": 887,
    "start_time": "2023-03-12T22:59:37.205Z"
   },
   {
    "duration": 588,
    "start_time": "2023-03-12T22:59:46.060Z"
   },
   {
    "duration": 1166,
    "start_time": "2023-03-12T22:59:53.081Z"
   },
   {
    "duration": 936,
    "start_time": "2023-03-12T23:00:00.062Z"
   },
   {
    "duration": 877,
    "start_time": "2023-03-12T23:00:06.766Z"
   },
   {
    "duration": 1461,
    "start_time": "2023-03-12T23:00:15.576Z"
   },
   {
    "duration": 1760,
    "start_time": "2023-03-12T23:00:23.191Z"
   },
   {
    "duration": 3802,
    "start_time": "2023-03-12T23:00:32.591Z"
   },
   {
    "duration": 0,
    "start_time": "2023-03-12T23:06:21.309Z"
   },
   {
    "duration": 60942,
    "start_time": "2023-03-12T23:06:30.603Z"
   },
   {
    "duration": 3147,
    "start_time": "2023-03-12T23:08:05.862Z"
   },
   {
    "duration": 4183,
    "start_time": "2023-03-12T23:08:18.047Z"
   },
   {
    "duration": 11963,
    "start_time": "2023-03-12T23:08:29.594Z"
   },
   {
    "duration": 1420,
    "start_time": "2023-03-12T23:08:47.438Z"
   },
   {
    "duration": 469,
    "start_time": "2023-03-12T23:09:00.378Z"
   },
   {
    "duration": 762,
    "start_time": "2023-03-12T23:09:08.792Z"
   },
   {
    "duration": 1611,
    "start_time": "2023-03-12T23:09:17.573Z"
   },
   {
    "duration": 26581,
    "start_time": "2023-03-12T23:10:27.777Z"
   },
   {
    "duration": 68,
    "start_time": "2023-03-12T23:11:09.273Z"
   },
   {
    "duration": 81864,
    "start_time": "2023-03-12T23:11:17.256Z"
   },
   {
    "duration": 107,
    "start_time": "2023-03-12T23:12:56.448Z"
   },
   {
    "duration": 134686,
    "start_time": "2023-03-12T23:13:03.691Z"
   },
   {
    "duration": 66,
    "start_time": "2023-03-12T23:15:52.462Z"
   },
   {
    "duration": 12134,
    "start_time": "2023-03-12T23:15:59.485Z"
   },
   {
    "duration": 53433,
    "start_time": "2023-03-12T23:16:30.894Z"
   },
   {
    "duration": 69,
    "start_time": "2023-03-12T23:17:50.555Z"
   },
   {
    "duration": 15673,
    "start_time": "2023-03-12T23:17:59.629Z"
   },
   {
    "duration": 60,
    "start_time": "2023-03-12T23:18:25.795Z"
   },
   {
    "duration": 13336,
    "start_time": "2023-03-12T23:18:32.685Z"
   },
   {
    "duration": 51,
    "start_time": "2023-03-12T23:19:00.063Z"
   },
   {
    "duration": 9446,
    "start_time": "2023-03-12T23:19:05.317Z"
   },
   {
    "duration": 57,
    "start_time": "2023-03-12T23:19:23.361Z"
   },
   {
    "duration": 11700,
    "start_time": "2023-03-12T23:19:28.919Z"
   },
   {
    "duration": 10,
    "start_time": "2023-03-12T23:21:08.565Z"
   },
   {
    "duration": 9,
    "start_time": "2023-03-12T23:21:23.520Z"
   },
   {
    "duration": 3,
    "start_time": "2023-03-12T23:22:44.021Z"
   },
   {
    "duration": 4,
    "start_time": "2023-03-12T23:22:56.966Z"
   },
   {
    "duration": 1464,
    "start_time": "2023-03-13T08:03:47.878Z"
   },
   {
    "duration": 109,
    "start_time": "2023-03-13T08:03:51.464Z"
   },
   {
    "duration": 16,
    "start_time": "2023-03-13T08:04:01.405Z"
   },
   {
    "duration": 10,
    "start_time": "2023-03-13T08:04:08.396Z"
   },
   {
    "duration": 168,
    "start_time": "2023-03-13T08:04:10.028Z"
   },
   {
    "duration": 107,
    "start_time": "2023-03-13T08:04:11.842Z"
   },
   {
    "duration": 31,
    "start_time": "2023-03-13T08:04:13.451Z"
   },
   {
    "duration": 5,
    "start_time": "2023-03-13T08:04:15.373Z"
   },
   {
    "duration": 20,
    "start_time": "2023-03-13T08:04:22.663Z"
   },
   {
    "duration": 6,
    "start_time": "2023-03-13T08:04:24.692Z"
   },
   {
    "duration": 21562,
    "start_time": "2023-03-13T08:04:31.878Z"
   },
   {
    "duration": 21345,
    "start_time": "2023-03-13T08:05:07.440Z"
   },
   {
    "duration": 42,
    "start_time": "2023-03-13T08:05:34.265Z"
   },
   {
    "duration": 16311,
    "start_time": "2023-03-13T08:05:59.196Z"
   },
   {
    "duration": 40769,
    "start_time": "2023-03-13T08:06:22.196Z"
   },
   {
    "duration": 8906,
    "start_time": "2023-03-13T08:07:10.030Z"
   },
   {
    "duration": 7626,
    "start_time": "2023-03-13T08:07:26.071Z"
   },
   {
    "duration": 6072,
    "start_time": "2023-03-13T08:07:41.432Z"
   },
   {
    "duration": 43,
    "start_time": "2023-03-13T08:07:56.275Z"
   },
   {
    "duration": 413,
    "start_time": "2023-03-13T08:08:05.022Z"
   },
   {
    "duration": 41,
    "start_time": "2023-03-13T08:08:07.613Z"
   },
   {
    "duration": 19035,
    "start_time": "2023-03-13T08:08:22.835Z"
   },
   {
    "duration": 41,
    "start_time": "2023-03-13T08:09:00.674Z"
   },
   {
    "duration": 258820,
    "start_time": "2023-03-13T08:11:48.932Z"
   },
   {
    "duration": 48,
    "start_time": "2023-03-13T08:18:08.170Z"
   },
   {
    "duration": 83,
    "start_time": "2023-03-13T08:18:39.992Z"
   },
   {
    "duration": 53,
    "start_time": "2023-03-13T08:18:52.321Z"
   },
   {
    "duration": 4371,
    "start_time": "2023-03-13T08:19:01.830Z"
   },
   {
    "duration": 162196,
    "start_time": "2023-03-13T08:19:42.068Z"
   },
   {
    "duration": 2710,
    "start_time": "2023-03-13T08:22:41.966Z"
   },
   {
    "duration": 261412,
    "start_time": "2023-03-13T08:23:01.102Z"
   },
   {
    "duration": 10,
    "start_time": "2023-03-13T08:27:31.141Z"
   },
   {
    "duration": 104,
    "start_time": "2023-03-13T08:27:39.569Z"
   },
   {
    "duration": 455,
    "start_time": "2023-03-13T08:27:43.280Z"
   },
   {
    "duration": 50,
    "start_time": "2023-03-13T08:27:51.409Z"
   },
   {
    "duration": 116,
    "start_time": "2023-03-13T08:27:58.784Z"
   },
   {
    "duration": 28888,
    "start_time": "2023-03-13T08:28:09.427Z"
   },
   {
    "duration": 96,
    "start_time": "2023-03-13T08:28:51.116Z"
   },
   {
    "duration": 27033,
    "start_time": "2023-03-13T08:28:55.847Z"
   },
   {
    "duration": 76,
    "start_time": "2023-03-13T08:29:38.180Z"
   },
   {
    "duration": 25156,
    "start_time": "2023-03-13T08:29:40.486Z"
   },
   {
    "duration": 65,
    "start_time": "2023-03-13T08:30:19.443Z"
   },
   {
    "duration": 22855,
    "start_time": "2023-03-13T08:30:23.887Z"
   },
   {
    "duration": 23750,
    "start_time": "2023-03-13T08:31:54.510Z"
   },
   {
    "duration": 23635,
    "start_time": "2023-03-13T08:32:28.931Z"
   },
   {
    "duration": 634,
    "start_time": "2023-03-13T08:34:57.402Z"
   },
   {
    "duration": 36,
    "start_time": "2023-03-13T08:35:16.988Z"
   },
   {
    "duration": 87370,
    "start_time": "2023-03-13T08:35:30.803Z"
   },
   {
    "duration": 104,
    "start_time": "2023-03-13T08:37:14.454Z"
   },
   {
    "duration": 108128,
    "start_time": "2023-03-13T08:37:22.966Z"
   },
   {
    "duration": 92,
    "start_time": "2023-03-13T08:39:31.093Z"
   },
   {
    "duration": 121556,
    "start_time": "2023-03-13T08:39:39.291Z"
   },
   {
    "duration": 72,
    "start_time": "2023-03-13T08:41:59.151Z"
   },
   {
    "duration": 108011,
    "start_time": "2023-03-13T08:42:04.972Z"
   },
   {
    "duration": 156761,
    "start_time": "2023-03-13T08:44:01.602Z"
   },
   {
    "duration": 66499,
    "start_time": "2023-03-13T08:46:48.472Z"
   },
   {
    "duration": 106526,
    "start_time": "2023-03-13T08:48:05.569Z"
   },
   {
    "duration": 6382,
    "start_time": "2023-03-13T08:51:10.723Z"
   },
   {
    "duration": 98,
    "start_time": "2023-03-13T08:51:37.010Z"
   },
   {
    "duration": 532,
    "start_time": "2023-03-13T08:51:39.608Z"
   },
   {
    "duration": 98,
    "start_time": "2023-03-13T08:51:59.772Z"
   },
   {
    "duration": 644,
    "start_time": "2023-03-13T08:52:07.111Z"
   },
   {
    "duration": 66,
    "start_time": "2023-03-13T08:52:20.741Z"
   },
   {
    "duration": 394,
    "start_time": "2023-03-13T08:52:27.262Z"
   },
   {
    "duration": 140,
    "start_time": "2023-03-13T08:52:39.026Z"
   },
   {
    "duration": 906,
    "start_time": "2023-03-13T08:52:46.742Z"
   },
   {
    "duration": 41,
    "start_time": "2023-03-13T08:52:56.115Z"
   },
   {
    "duration": 74,
    "start_time": "2023-03-13T08:53:02.635Z"
   },
   {
    "duration": 13303,
    "start_time": "2023-03-13T08:53:14.651Z"
   },
   {
    "duration": 62,
    "start_time": "2023-03-13T08:54:00.883Z"
   },
   {
    "duration": 11696,
    "start_time": "2023-03-13T08:54:04.284Z"
   },
   {
    "duration": 64,
    "start_time": "2023-03-13T08:54:25.855Z"
   },
   {
    "duration": 14099,
    "start_time": "2023-03-13T08:54:27.943Z"
   },
   {
    "duration": 58,
    "start_time": "2023-03-13T08:54:50.810Z"
   },
   {
    "duration": 12678,
    "start_time": "2023-03-13T08:54:52.857Z"
   },
   {
    "duration": 381,
    "start_time": "2023-03-13T08:56:38.086Z"
   },
   {
    "duration": 42,
    "start_time": "2023-03-13T08:57:03.301Z"
   },
   {
    "duration": 4683,
    "start_time": "2023-03-13T08:57:45.353Z"
   },
   {
    "duration": 43329,
    "start_time": "2023-03-13T08:58:03.537Z"
   },
   {
    "duration": 58,
    "start_time": "2023-03-13T08:59:07.996Z"
   },
   {
    "duration": 33996,
    "start_time": "2023-03-13T08:59:14.792Z"
   },
   {
    "duration": 47,
    "start_time": "2023-03-13T09:00:05.527Z"
   },
   {
    "duration": 29277,
    "start_time": "2023-03-13T09:00:14.428Z"
   },
   {
    "duration": 57,
    "start_time": "2023-03-13T09:00:58.094Z"
   },
   {
    "duration": 48402,
    "start_time": "2023-03-13T09:01:07.280Z"
   },
   {
    "duration": 136,
    "start_time": "2023-03-13T09:02:06.623Z"
   },
   {
    "duration": 239,
    "start_time": "2023-03-13T09:02:12.496Z"
   },
   {
    "duration": 60,
    "start_time": "2023-03-13T09:02:24.025Z"
   },
   {
    "duration": 301,
    "start_time": "2023-03-13T09:02:30.638Z"
   },
   {
    "duration": 72,
    "start_time": "2023-03-13T09:02:42.800Z"
   },
   {
    "duration": 313,
    "start_time": "2023-03-13T09:02:52.531Z"
   },
   {
    "duration": 57,
    "start_time": "2023-03-13T09:03:06.230Z"
   },
   {
    "duration": 324,
    "start_time": "2023-03-13T09:03:13.711Z"
   },
   {
    "duration": 42,
    "start_time": "2023-03-13T09:03:16.091Z"
   },
   {
    "duration": 44,
    "start_time": "2023-03-13T09:08:58.177Z"
   },
   {
    "duration": 1386,
    "start_time": "2023-03-13T09:38:24.804Z"
   },
   {
    "duration": 66,
    "start_time": "2023-03-13T09:38:26.192Z"
   },
   {
    "duration": 16,
    "start_time": "2023-03-13T09:38:26.260Z"
   },
   {
    "duration": 10,
    "start_time": "2023-03-13T09:38:26.278Z"
   },
   {
    "duration": 205,
    "start_time": "2023-03-13T09:38:26.290Z"
   },
   {
    "duration": 147,
    "start_time": "2023-03-13T09:38:26.497Z"
   },
   {
    "duration": 36,
    "start_time": "2023-03-13T09:38:26.646Z"
   },
   {
    "duration": 15,
    "start_time": "2023-03-13T09:38:26.685Z"
   },
   {
    "duration": 70,
    "start_time": "2023-03-13T09:38:26.702Z"
   },
   {
    "duration": 8,
    "start_time": "2023-03-13T09:38:26.776Z"
   },
   {
    "duration": 22304,
    "start_time": "2023-03-13T09:38:26.787Z"
   },
   {
    "duration": 66,
    "start_time": "2023-03-13T09:38:49.093Z"
   },
   {
    "duration": 6183,
    "start_time": "2023-03-13T09:38:49.161Z"
   },
   {
    "duration": 41,
    "start_time": "2023-03-13T09:38:55.346Z"
   },
   {
    "duration": 374,
    "start_time": "2023-03-13T09:38:55.388Z"
   },
   {
    "duration": 193,
    "start_time": "2023-03-13T09:38:55.764Z"
   },
   {
    "duration": 19760,
    "start_time": "2023-03-13T09:38:55.959Z"
   },
   {
    "duration": 46,
    "start_time": "2023-03-13T09:39:15.720Z"
   },
   {
    "duration": 286166,
    "start_time": "2023-03-13T09:39:15.768Z"
   },
   {
    "duration": 151,
    "start_time": "2023-03-13T09:44:01.936Z"
   },
   {
    "duration": 556,
    "start_time": "2023-03-13T09:44:02.089Z"
   },
   {
    "duration": 190,
    "start_time": "2023-03-13T09:44:02.649Z"
   },
   {
    "duration": 271,
    "start_time": "2023-03-13T09:44:02.842Z"
   },
   {
    "duration": 43107,
    "start_time": "2023-03-13T09:44:03.115Z"
   },
   {
    "duration": 53,
    "start_time": "2023-03-13T09:44:46.224Z"
   },
   {
    "duration": 192247,
    "start_time": "2023-03-13T09:44:46.278Z"
   },
   {
    "duration": 118,
    "start_time": "2023-03-13T09:47:58.531Z"
   },
   {
    "duration": 984,
    "start_time": "2023-03-13T09:47:58.653Z"
   },
   {
    "duration": 202,
    "start_time": "2023-03-13T09:47:59.639Z"
   },
   {
    "duration": 150,
    "start_time": "2023-03-13T09:47:59.843Z"
   },
   {
    "duration": 13398,
    "start_time": "2023-03-13T09:47:59.995Z"
   },
   {
    "duration": 70,
    "start_time": "2023-03-13T09:48:13.396Z"
   },
   {
    "duration": 67207,
    "start_time": "2023-03-13T09:48:13.469Z"
   },
   {
    "duration": 164,
    "start_time": "2023-03-13T09:49:20.678Z"
   },
   {
    "duration": 291,
    "start_time": "2023-03-13T09:49:20.844Z"
   },
   {
    "duration": 200,
    "start_time": "2023-03-13T09:49:21.137Z"
   },
   {
    "duration": 4674,
    "start_time": "2023-03-13T09:49:21.339Z"
   },
   {
    "duration": 1336,
    "start_time": "2023-03-13T09:49:26.016Z"
   },
   {
    "duration": 7113,
    "start_time": "2023-03-13T09:49:27.354Z"
   },
   {
    "duration": 453,
    "start_time": "2023-03-13T09:49:34.469Z"
   },
   {
    "duration": 6599,
    "start_time": "2023-03-14T14:23:40.721Z"
   },
   {
    "duration": 69,
    "start_time": "2023-03-14T14:23:47.322Z"
   },
   {
    "duration": 14,
    "start_time": "2023-03-14T14:23:47.393Z"
   },
   {
    "duration": 8,
    "start_time": "2023-03-14T14:23:47.409Z"
   },
   {
    "duration": 213,
    "start_time": "2023-03-14T14:23:47.419Z"
   },
   {
    "duration": 1463,
    "start_time": "2023-03-15T06:42:22.040Z"
   },
   {
    "duration": 108,
    "start_time": "2023-03-15T06:42:23.505Z"
   },
   {
    "duration": 15,
    "start_time": "2023-03-15T06:42:23.615Z"
   },
   {
    "duration": 9,
    "start_time": "2023-03-15T06:42:23.632Z"
   },
   {
    "duration": 10,
    "start_time": "2023-03-15T06:42:26.267Z"
   },
   {
    "duration": 20,
    "start_time": "2023-03-15T06:42:27.827Z"
   },
   {
    "duration": 53,
    "start_time": "2023-03-15T06:43:53.630Z"
   },
   {
    "duration": 19,
    "start_time": "2023-03-15T06:44:04.130Z"
   },
   {
    "duration": 13,
    "start_time": "2023-03-15T06:44:29.953Z"
   },
   {
    "duration": 15,
    "start_time": "2023-03-15T06:44:32.520Z"
   },
   {
    "duration": 7,
    "start_time": "2023-03-15T06:44:37.218Z"
   },
   {
    "duration": 5,
    "start_time": "2023-03-15T06:44:41.499Z"
   },
   {
    "duration": 33,
    "start_time": "2023-03-15T06:46:34.431Z"
   },
   {
    "duration": 5,
    "start_time": "2023-03-15T06:46:48.554Z"
   },
   {
    "duration": 130,
    "start_time": "2023-03-15T06:47:59.210Z"
   },
   {
    "duration": 23,
    "start_time": "2023-03-15T06:48:45.620Z"
   },
   {
    "duration": 5,
    "start_time": "2023-03-15T06:49:01.709Z"
   },
   {
    "duration": 13,
    "start_time": "2023-03-15T06:49:06.165Z"
   },
   {
    "duration": 13,
    "start_time": "2023-03-15T06:49:11.123Z"
   },
   {
    "duration": 8,
    "start_time": "2023-03-15T06:49:12.647Z"
   },
   {
    "duration": 5,
    "start_time": "2023-03-15T06:49:14.193Z"
   },
   {
    "duration": 27,
    "start_time": "2023-03-15T06:49:19.335Z"
   },
   {
    "duration": 5,
    "start_time": "2023-03-15T06:49:25.019Z"
   },
   {
    "duration": 1466,
    "start_time": "2023-03-15T07:25:24.458Z"
   },
   {
    "duration": 3,
    "start_time": "2023-03-15T07:26:03.057Z"
   },
   {
    "duration": 3,
    "start_time": "2023-03-15T07:26:51.410Z"
   },
   {
    "duration": 4,
    "start_time": "2023-03-15T07:27:18.904Z"
   },
   {
    "duration": 12,
    "start_time": "2023-03-15T07:28:16.711Z"
   },
   {
    "duration": 144,
    "start_time": "2023-03-15T07:33:37.015Z"
   },
   {
    "duration": 173,
    "start_time": "2023-03-15T07:34:01.646Z"
   },
   {
    "duration": 188,
    "start_time": "2023-03-15T07:34:35.713Z"
   },
   {
    "duration": 241,
    "start_time": "2023-03-15T07:34:47.414Z"
   },
   {
    "duration": 197,
    "start_time": "2023-03-15T07:37:17.054Z"
   },
   {
    "duration": 199,
    "start_time": "2023-03-15T07:38:55.269Z"
   },
   {
    "duration": 8,
    "start_time": "2023-03-15T07:41:17.040Z"
   },
   {
    "duration": 434,
    "start_time": "2023-03-15T07:41:37.308Z"
   },
   {
    "duration": 1423,
    "start_time": "2023-03-15T07:41:49.817Z"
   },
   {
    "duration": 2709,
    "start_time": "2023-03-15T07:41:59.005Z"
   },
   {
    "duration": 5140,
    "start_time": "2023-03-15T07:42:08.971Z"
   },
   {
    "duration": 7493,
    "start_time": "2023-03-15T07:42:21.107Z"
   },
   {
    "duration": 9717,
    "start_time": "2023-03-15T07:42:36.129Z"
   },
   {
    "duration": 15101,
    "start_time": "2023-03-15T07:42:55.144Z"
   },
   {
    "duration": 19743,
    "start_time": "2023-03-15T07:43:17.519Z"
   },
   {
    "duration": 24537,
    "start_time": "2023-03-15T07:43:45.113Z"
   },
   {
    "duration": 36616,
    "start_time": "2023-03-15T07:44:17.104Z"
   },
   {
    "duration": 16032,
    "start_time": "2023-03-15T07:45:00.545Z"
   },
   {
    "duration": 180,
    "start_time": "2023-03-15T07:46:18.208Z"
   },
   {
    "duration": 41,
    "start_time": "2023-03-15T07:46:41.660Z"
   },
   {
    "duration": 21,
    "start_time": "2023-03-15T07:46:48.219Z"
   },
   {
    "duration": 12,
    "start_time": "2023-03-15T07:48:03.327Z"
   },
   {
    "duration": 11,
    "start_time": "2023-03-15T07:48:35.802Z"
   },
   {
    "duration": 1392,
    "start_time": "2023-03-15T07:48:47.538Z"
   },
   {
    "duration": 197,
    "start_time": "2023-03-15T07:49:37.079Z"
   },
   {
    "duration": 8,
    "start_time": "2023-03-15T07:50:51.758Z"
   },
   {
    "duration": 50326,
    "start_time": "2023-03-15T07:51:03.132Z"
   },
   {
    "duration": 14657,
    "start_time": "2023-03-15T07:52:19.319Z"
   },
   {
    "duration": 2590,
    "start_time": "2023-03-15T07:52:48.866Z"
   },
   {
    "duration": 6415,
    "start_time": "2023-03-15T07:52:57.033Z"
   },
   {
    "duration": 4394,
    "start_time": "2023-03-15T07:53:14.731Z"
   },
   {
    "duration": 3071,
    "start_time": "2023-03-15T07:53:28.475Z"
   },
   {
    "duration": 2218,
    "start_time": "2023-03-15T07:53:46.243Z"
   },
   {
    "duration": 1643,
    "start_time": "2023-03-15T07:54:03.932Z"
   },
   {
    "duration": 1107,
    "start_time": "2023-03-15T07:54:12.623Z"
   },
   {
    "duration": 2151,
    "start_time": "2023-03-15T07:54:20.273Z"
   },
   {
    "duration": 18,
    "start_time": "2023-03-15T07:55:47.978Z"
   },
   {
    "duration": 184,
    "start_time": "2023-03-15T07:56:37.259Z"
   },
   {
    "duration": 18,
    "start_time": "2023-03-15T07:58:35.524Z"
   },
   {
    "duration": 27,
    "start_time": "2023-03-15T07:58:42.278Z"
   },
   {
    "duration": 13,
    "start_time": "2023-03-15T07:58:45.029Z"
   },
   {
    "duration": 4,
    "start_time": "2023-03-15T07:59:42.320Z"
   },
   {
    "duration": 1420,
    "start_time": "2023-03-15T08:00:02.362Z"
   },
   {
    "duration": 1571,
    "start_time": "2023-03-15T08:00:52.003Z"
   },
   {
    "duration": 1742,
    "start_time": "2023-03-15T08:01:04.096Z"
   },
   {
    "duration": 1713,
    "start_time": "2023-03-15T08:01:16.864Z"
   },
   {
    "duration": 1792,
    "start_time": "2023-03-15T08:01:33.164Z"
   },
   {
    "duration": 1481,
    "start_time": "2023-03-15T08:01:50.303Z"
   },
   {
    "duration": 184,
    "start_time": "2023-03-15T08:05:12.842Z"
   },
   {
    "duration": 9,
    "start_time": "2023-03-15T08:05:57.646Z"
   },
   {
    "duration": 29298,
    "start_time": "2023-03-15T08:06:40.913Z"
   },
   {
    "duration": 18029,
    "start_time": "2023-03-15T08:07:35.728Z"
   },
   {
    "duration": 7466,
    "start_time": "2023-03-15T08:08:05.047Z"
   },
   {
    "duration": 2517,
    "start_time": "2023-03-15T08:08:20.077Z"
   },
   {
    "duration": 18149,
    "start_time": "2023-03-15T08:08:29.415Z"
   },
   {
    "duration": 16730,
    "start_time": "2023-03-15T08:08:56.123Z"
   },
   {
    "duration": 19766,
    "start_time": "2023-03-15T08:09:21.065Z"
   },
   {
    "duration": 18407,
    "start_time": "2023-03-15T08:09:48.126Z"
   },
   {
    "duration": 200,
    "start_time": "2023-03-15T08:11:01.510Z"
   },
   {
    "duration": 70,
    "start_time": "2023-03-15T08:11:23.331Z"
   },
   {
    "duration": 28,
    "start_time": "2023-03-15T08:11:28.921Z"
   },
   {
    "duration": 11,
    "start_time": "2023-03-15T08:11:31.425Z"
   },
   {
    "duration": 4,
    "start_time": "2023-03-15T08:13:42.054Z"
   },
   {
    "duration": 1017,
    "start_time": "2023-03-15T08:13:55.059Z"
   },
   {
    "duration": 1056,
    "start_time": "2023-03-15T08:14:15.559Z"
   },
   {
    "duration": 909,
    "start_time": "2023-03-15T08:14:28.141Z"
   },
   {
    "duration": 1046,
    "start_time": "2023-03-15T08:14:39.171Z"
   },
   {
    "duration": 1169,
    "start_time": "2023-03-15T08:14:51.521Z"
   },
   {
    "duration": 1233,
    "start_time": "2023-03-15T08:15:03.146Z"
   },
   {
    "duration": 1075,
    "start_time": "2023-03-15T08:15:14.049Z"
   },
   {
    "duration": 187,
    "start_time": "2023-03-15T08:18:37.866Z"
   },
   {
    "duration": 8,
    "start_time": "2023-03-15T08:19:35.643Z"
   },
   {
    "duration": 24630,
    "start_time": "2023-03-15T08:20:13.735Z"
   },
   {
    "duration": 7137,
    "start_time": "2023-03-15T08:21:05.148Z"
   },
   {
    "duration": 4337,
    "start_time": "2023-03-15T08:21:21.735Z"
   },
   {
    "duration": 3002,
    "start_time": "2023-03-15T08:21:34.903Z"
   },
   {
    "duration": 2319,
    "start_time": "2023-03-15T08:21:46.409Z"
   },
   {
    "duration": 1601,
    "start_time": "2023-03-15T08:21:55.267Z"
   },
   {
    "duration": 1325,
    "start_time": "2023-03-15T08:22:17.359Z"
   },
   {
    "duration": 1608,
    "start_time": "2023-03-15T08:22:26.078Z"
   },
   {
    "duration": 1416,
    "start_time": "2023-03-15T08:22:37.965Z"
   },
   {
    "duration": 1882,
    "start_time": "2023-03-15T08:22:46.437Z"
   },
   {
    "duration": 1947,
    "start_time": "2023-03-15T08:22:55.462Z"
   },
   {
    "duration": 2099,
    "start_time": "2023-03-15T08:23:03.702Z"
   },
   {
    "duration": 1590,
    "start_time": "2023-03-15T08:23:11.727Z"
   },
   {
    "duration": 1768,
    "start_time": "2023-03-15T08:23:25.523Z"
   },
   {
    "duration": 204,
    "start_time": "2023-03-15T08:24:08.628Z"
   },
   {
    "duration": 19,
    "start_time": "2023-03-15T08:24:42.629Z"
   },
   {
    "duration": 26,
    "start_time": "2023-03-15T08:24:48.380Z"
   },
   {
    "duration": 15,
    "start_time": "2023-03-15T08:24:50.803Z"
   },
   {
    "duration": 171,
    "start_time": "2023-03-15T08:29:04.773Z"
   },
   {
    "duration": 27,
    "start_time": "2023-03-15T12:48:16.145Z"
   },
   {
    "duration": 17,
    "start_time": "2023-03-15T12:55:00.556Z"
   },
   {
    "duration": 16,
    "start_time": "2023-03-15T12:55:42.625Z"
   },
   {
    "duration": 1318,
    "start_time": "2023-03-15T12:56:42.432Z"
   },
   {
    "duration": 60,
    "start_time": "2023-03-15T12:56:43.752Z"
   },
   {
    "duration": 14,
    "start_time": "2023-03-15T12:56:43.814Z"
   },
   {
    "duration": 9,
    "start_time": "2023-03-15T12:56:43.830Z"
   },
   {
    "duration": 6,
    "start_time": "2023-03-15T12:56:43.840Z"
   },
   {
    "duration": 15,
    "start_time": "2023-03-15T12:56:43.848Z"
   },
   {
    "duration": 26,
    "start_time": "2023-03-15T12:56:43.865Z"
   },
   {
    "duration": 6,
    "start_time": "2023-03-15T12:56:43.893Z"
   },
   {
    "duration": 42,
    "start_time": "2023-03-15T12:56:43.901Z"
   },
   {
    "duration": 34,
    "start_time": "2023-03-15T12:56:43.945Z"
   },
   {
    "duration": 6,
    "start_time": "2023-03-15T12:56:43.980Z"
   },
   {
    "duration": 1342,
    "start_time": "2023-03-15T12:56:43.988Z"
   },
   {
    "duration": 208,
    "start_time": "2023-03-15T12:56:45.331Z"
   },
   {
    "duration": 8,
    "start_time": "2023-03-15T12:56:45.540Z"
   },
   {
    "duration": 13865,
    "start_time": "2023-03-15T12:56:45.550Z"
   },
   {
    "duration": 208,
    "start_time": "2023-03-15T12:56:59.417Z"
   },
   {
    "duration": 35,
    "start_time": "2023-03-15T12:56:59.627Z"
   },
   {
    "duration": 34,
    "start_time": "2023-03-15T12:56:59.664Z"
   },
   {
    "duration": 190,
    "start_time": "2023-03-15T12:56:59.700Z"
   },
   {
    "duration": 1468,
    "start_time": "2023-03-15T12:56:59.893Z"
   },
   {
    "duration": 283,
    "start_time": "2023-03-15T12:57:01.363Z"
   },
   {
    "duration": 8,
    "start_time": "2023-03-15T12:57:01.648Z"
   },
   {
    "duration": 2126,
    "start_time": "2023-03-15T12:57:01.657Z"
   },
   {
    "duration": 194,
    "start_time": "2023-03-15T12:57:03.789Z"
   },
   {
    "duration": 16,
    "start_time": "2023-03-15T12:57:03.985Z"
   },
   {
    "duration": 90,
    "start_time": "2023-03-15T12:57:04.003Z"
   },
   {
    "duration": 103,
    "start_time": "2023-03-15T12:57:04.096Z"
   },
   {
    "duration": 188,
    "start_time": "2023-03-15T12:57:04.203Z"
   },
   {
    "duration": 1536,
    "start_time": "2023-03-15T12:57:04.393Z"
   },
   {
    "duration": 218,
    "start_time": "2023-03-15T12:57:05.931Z"
   },
   {
    "duration": 8,
    "start_time": "2023-03-15T12:57:06.150Z"
   },
   {
    "duration": 17971,
    "start_time": "2023-03-15T12:57:06.160Z"
   },
   {
    "duration": 214,
    "start_time": "2023-03-15T12:57:24.133Z"
   },
   {
    "duration": 69,
    "start_time": "2023-03-15T12:57:24.348Z"
   },
   {
    "duration": 85,
    "start_time": "2023-03-15T12:57:24.419Z"
   },
   {
    "duration": 90,
    "start_time": "2023-03-15T12:57:24.506Z"
   },
   {
    "duration": 96,
    "start_time": "2023-03-15T12:57:24.598Z"
   },
   {
    "duration": 1146,
    "start_time": "2023-03-15T12:57:24.697Z"
   },
   {
    "duration": 218,
    "start_time": "2023-03-15T12:57:25.845Z"
   },
   {
    "duration": 7,
    "start_time": "2023-03-15T12:57:26.065Z"
   },
   {
    "duration": 1588,
    "start_time": "2023-03-15T12:57:26.075Z"
   },
   {
    "duration": 201,
    "start_time": "2023-03-15T12:57:27.664Z"
   },
   {
    "duration": 23,
    "start_time": "2023-03-15T12:57:27.868Z"
   },
   {
    "duration": 22,
    "start_time": "2023-03-15T12:57:27.892Z"
   },
   {
    "duration": 183,
    "start_time": "2023-03-15T12:57:27.915Z"
   },
   {
    "duration": 332,
    "start_time": "2023-03-15T12:57:28.100Z"
   },
   {
    "duration": 17,
    "start_time": "2023-03-15T12:57:28.434Z"
   },
   {
    "duration": 2548,
    "start_time": "2023-03-16T05:48:55.342Z"
   },
   {
    "duration": 903,
    "start_time": "2023-03-16T05:48:57.896Z"
   },
   {
    "duration": 49,
    "start_time": "2023-03-16T05:48:58.814Z"
   },
   {
    "duration": 19,
    "start_time": "2023-03-16T05:48:58.869Z"
   },
   {
    "duration": 9,
    "start_time": "2023-03-16T05:48:58.898Z"
   },
   {
    "duration": 19,
    "start_time": "2023-03-16T05:48:58.915Z"
   },
   {
    "duration": 25,
    "start_time": "2023-03-16T05:48:58.941Z"
   },
   {
    "duration": 17,
    "start_time": "2023-03-16T05:48:58.980Z"
   },
   {
    "duration": 18,
    "start_time": "2023-03-16T05:48:59.003Z"
   },
   {
    "duration": 92,
    "start_time": "2023-03-16T05:48:59.031Z"
   },
   {
    "duration": 20,
    "start_time": "2023-03-16T05:48:59.133Z"
   },
   {
    "duration": 1984,
    "start_time": "2023-03-16T05:48:59.163Z"
   },
   {
    "duration": 368,
    "start_time": "2023-03-16T05:49:01.154Z"
   },
   {
    "duration": 23,
    "start_time": "2023-03-16T05:49:01.529Z"
   },
   {
    "duration": 20107,
    "start_time": "2023-03-16T05:49:01.557Z"
   },
   {
    "duration": 344,
    "start_time": "2023-03-16T05:49:21.669Z"
   },
   {
    "duration": 60,
    "start_time": "2023-03-16T05:49:22.019Z"
   },
   {
    "duration": 78,
    "start_time": "2023-03-16T05:49:22.085Z"
   },
   {
    "duration": 59,
    "start_time": "2023-03-16T05:49:22.178Z"
   },
   {
    "duration": 2320,
    "start_time": "2023-03-16T05:49:22.265Z"
   },
   {
    "duration": 279,
    "start_time": "2023-03-16T05:49:24.591Z"
   },
   {
    "duration": 23,
    "start_time": "2023-03-16T05:49:24.876Z"
   },
   {
    "duration": 3057,
    "start_time": "2023-03-16T05:49:24.905Z"
   },
   {
    "duration": 437,
    "start_time": "2023-03-16T05:49:27.973Z"
   },
   {
    "duration": 31,
    "start_time": "2023-03-16T05:49:28.414Z"
   },
   {
    "duration": 36,
    "start_time": "2023-03-16T05:49:28.451Z"
   },
   {
    "duration": 30,
    "start_time": "2023-03-16T05:49:28.489Z"
   },
   {
    "duration": 26,
    "start_time": "2023-03-16T05:50:35.051Z"
   },
   {
    "duration": 23,
    "start_time": "2023-03-16T05:52:47.580Z"
   },
   {
    "duration": 32,
    "start_time": "2023-03-16T05:52:58.703Z"
   },
   {
    "duration": 3,
    "start_time": "2023-03-16T05:53:10.511Z"
   },
   {
    "duration": 108,
    "start_time": "2023-03-16T05:53:10.540Z"
   },
   {
    "duration": 28,
    "start_time": "2023-03-16T05:53:10.651Z"
   },
   {
    "duration": 15,
    "start_time": "2023-03-16T05:53:10.685Z"
   },
   {
    "duration": 17,
    "start_time": "2023-03-16T05:53:10.708Z"
   },
   {
    "duration": 17,
    "start_time": "2023-03-16T05:53:10.730Z"
   },
   {
    "duration": 14,
    "start_time": "2023-03-16T05:53:10.750Z"
   },
   {
    "duration": 9,
    "start_time": "2023-03-16T05:53:10.766Z"
   },
   {
    "duration": 9,
    "start_time": "2023-03-16T05:53:10.777Z"
   },
   {
    "duration": 43,
    "start_time": "2023-03-16T05:53:10.787Z"
   },
   {
    "duration": 9,
    "start_time": "2023-03-16T05:53:10.842Z"
   },
   {
    "duration": 1836,
    "start_time": "2023-03-16T05:53:10.852Z"
   },
   {
    "duration": 281,
    "start_time": "2023-03-16T05:53:12.690Z"
   },
   {
    "duration": 17,
    "start_time": "2023-03-16T05:53:12.977Z"
   },
   {
    "duration": 18317,
    "start_time": "2023-03-16T05:53:13.001Z"
   },
   {
    "duration": 260,
    "start_time": "2023-03-16T05:53:31.322Z"
   },
   {
    "duration": 37,
    "start_time": "2023-03-16T05:53:31.595Z"
   },
   {
    "duration": 55,
    "start_time": "2023-03-16T05:53:31.634Z"
   },
   {
    "duration": 56,
    "start_time": "2023-03-16T05:53:31.754Z"
   },
   {
    "duration": 1630,
    "start_time": "2023-03-16T05:53:31.857Z"
   },
   {
    "duration": 236,
    "start_time": "2023-03-16T05:53:33.489Z"
   },
   {
    "duration": 9,
    "start_time": "2023-03-16T05:53:33.727Z"
   },
   {
    "duration": 2700,
    "start_time": "2023-03-16T05:53:33.737Z"
   },
   {
    "duration": 238,
    "start_time": "2023-03-16T05:53:36.439Z"
   },
   {
    "duration": 20,
    "start_time": "2023-03-16T05:53:36.678Z"
   },
   {
    "duration": 76,
    "start_time": "2023-03-16T05:53:36.699Z"
   },
   {
    "duration": 139,
    "start_time": "2023-03-16T05:53:36.778Z"
   },
   {
    "duration": 19,
    "start_time": "2023-03-16T05:54:00.531Z"
   },
   {
    "duration": 175,
    "start_time": "2023-03-16T05:54:47.198Z"
   },
   {
    "duration": 44,
    "start_time": "2023-03-16T05:55:09.147Z"
   },
   {
    "duration": 15,
    "start_time": "2023-03-16T05:55:20.732Z"
   },
   {
    "duration": 23,
    "start_time": "2023-03-16T05:55:44.499Z"
   },
   {
    "duration": 27,
    "start_time": "2023-03-16T05:56:04.008Z"
   },
   {
    "duration": 1997,
    "start_time": "2023-03-16T05:56:52.228Z"
   },
   {
    "duration": 261,
    "start_time": "2023-03-16T05:57:04.437Z"
   },
   {
    "duration": 14,
    "start_time": "2023-03-16T05:57:12.831Z"
   },
   {
    "duration": 25868,
    "start_time": "2023-03-16T05:57:18.729Z"
   },
   {
    "duration": 16321,
    "start_time": "2023-03-16T05:57:58.908Z"
   },
   {
    "duration": 10109,
    "start_time": "2023-03-16T05:58:26.331Z"
   },
   {
    "duration": 6811,
    "start_time": "2023-03-16T05:58:51.436Z"
   },
   {
    "duration": 3690,
    "start_time": "2023-03-16T05:59:04.336Z"
   },
   {
    "duration": 9809,
    "start_time": "2023-03-16T05:59:15.431Z"
   },
   {
    "duration": 283,
    "start_time": "2023-03-16T05:59:31.247Z"
   },
   {
    "duration": 48,
    "start_time": "2023-03-16T06:00:38.521Z"
   },
   {
    "duration": 58,
    "start_time": "2023-03-16T06:00:40.824Z"
   },
   {
    "duration": 14,
    "start_time": "2023-03-16T06:00:46.640Z"
   },
   {
    "duration": 17,
    "start_time": "2023-03-16T06:01:13.729Z"
   },
   {
    "duration": 10,
    "start_time": "2023-03-16T06:01:47.730Z"
   },
   {
    "duration": 12,
    "start_time": "2023-03-16T06:02:21.607Z"
   },
   {
    "duration": 30,
    "start_time": "2023-03-16T06:02:42.007Z"
   },
   {
    "duration": 17,
    "start_time": "2023-03-16T06:03:08.499Z"
   },
   {
    "duration": 1020,
    "start_time": "2023-03-16T06:03:32.534Z"
   },
   {
    "duration": 222,
    "start_time": "2023-03-16T06:03:43.087Z"
   },
   {
    "duration": 9,
    "start_time": "2023-03-16T06:04:02.319Z"
   },
   {
    "duration": 1757,
    "start_time": "2023-03-16T06:04:07.513Z"
   },
   {
    "duration": 21,
    "start_time": "2023-03-16T06:04:27.833Z"
   },
   {
    "duration": 1591,
    "start_time": "2023-03-16T06:04:41.907Z"
   },
   {
    "duration": 4167,
    "start_time": "2023-03-16T06:04:52.341Z"
   },
   {
    "duration": 6739,
    "start_time": "2023-03-16T06:05:02.792Z"
   },
   {
    "duration": 9968,
    "start_time": "2023-03-16T06:05:15.816Z"
   },
   {
    "duration": 4214,
    "start_time": "2023-03-16T06:05:32.921Z"
   },
   {
    "duration": 224,
    "start_time": "2023-03-16T06:05:46.702Z"
   },
   {
    "duration": 28,
    "start_time": "2023-03-16T06:05:54.709Z"
   },
   {
    "duration": 29,
    "start_time": "2023-03-16T06:06:00.239Z"
   },
   {
    "duration": 13,
    "start_time": "2023-03-16T06:06:04.932Z"
   },
   {
    "duration": 243,
    "start_time": "2023-03-16T06:10:19.533Z"
   },
   {
    "duration": 16,
    "start_time": "2023-03-16T06:10:33.114Z"
   },
   {
    "duration": 180,
    "start_time": "2023-03-16T06:12:20.054Z"
   },
   {
    "duration": 19,
    "start_time": "2023-03-16T06:22:46.407Z"
   },
   {
    "duration": 1605,
    "start_time": "2023-03-16T06:24:32.904Z"
   },
   {
    "duration": 77,
    "start_time": "2023-03-16T06:24:34.514Z"
   },
   {
    "duration": 21,
    "start_time": "2023-03-16T06:24:34.593Z"
   },
   {
    "duration": 15,
    "start_time": "2023-03-16T06:24:34.616Z"
   },
   {
    "duration": 6,
    "start_time": "2023-03-16T06:24:34.633Z"
   },
   {
    "duration": 18,
    "start_time": "2023-03-16T06:24:34.641Z"
   },
   {
    "duration": 21,
    "start_time": "2023-03-16T06:24:34.661Z"
   },
   {
    "duration": 18,
    "start_time": "2023-03-16T06:24:34.684Z"
   },
   {
    "duration": 19,
    "start_time": "2023-03-16T06:24:34.704Z"
   },
   {
    "duration": 38,
    "start_time": "2023-03-16T06:24:34.726Z"
   },
   {
    "duration": 19,
    "start_time": "2023-03-16T06:24:34.776Z"
   },
   {
    "duration": 1445,
    "start_time": "2023-03-16T06:24:34.799Z"
   },
   {
    "duration": 238,
    "start_time": "2023-03-16T06:24:36.246Z"
   },
   {
    "duration": 10,
    "start_time": "2023-03-16T06:24:36.486Z"
   },
   {
    "duration": 15925,
    "start_time": "2023-03-16T06:24:36.502Z"
   },
   {
    "duration": 241,
    "start_time": "2023-03-16T06:24:52.429Z"
   },
   {
    "duration": 46,
    "start_time": "2023-03-16T06:24:52.674Z"
   },
   {
    "duration": 64,
    "start_time": "2023-03-16T06:24:52.721Z"
   },
   {
    "duration": 38,
    "start_time": "2023-03-16T06:24:52.862Z"
   },
   {
    "duration": 1650,
    "start_time": "2023-03-16T06:24:52.905Z"
   },
   {
    "duration": 323,
    "start_time": "2023-03-16T06:24:54.558Z"
   },
   {
    "duration": 9,
    "start_time": "2023-03-16T06:24:54.883Z"
   },
   {
    "duration": 2322,
    "start_time": "2023-03-16T06:24:54.894Z"
   },
   {
    "duration": 262,
    "start_time": "2023-03-16T06:24:57.219Z"
   },
   {
    "duration": 21,
    "start_time": "2023-03-16T06:24:57.483Z"
   },
   {
    "duration": 59,
    "start_time": "2023-03-16T06:24:57.505Z"
   },
   {
    "duration": 19,
    "start_time": "2023-03-16T06:24:57.566Z"
   },
   {
    "duration": 96,
    "start_time": "2023-03-16T06:24:57.665Z"
   },
   {
    "duration": 1812,
    "start_time": "2023-03-16T06:24:57.766Z"
   },
   {
    "duration": 254,
    "start_time": "2023-03-16T06:24:59.583Z"
   },
   {
    "duration": 18,
    "start_time": "2023-03-16T06:24:59.839Z"
   },
   {
    "duration": 9110,
    "start_time": "2023-03-16T06:24:59.863Z"
   },
   {
    "duration": 223,
    "start_time": "2023-03-16T06:25:08.988Z"
   },
   {
    "duration": 35,
    "start_time": "2023-03-16T06:25:09.213Z"
   },
   {
    "duration": 56,
    "start_time": "2023-03-16T06:25:09.250Z"
   },
   {
    "duration": 82,
    "start_time": "2023-03-16T06:25:09.308Z"
   },
   {
    "duration": 93,
    "start_time": "2023-03-16T06:25:09.404Z"
   },
   {
    "duration": 978,
    "start_time": "2023-03-16T06:25:09.501Z"
   },
   {
    "duration": 225,
    "start_time": "2023-03-16T06:25:10.482Z"
   },
   {
    "duration": 9,
    "start_time": "2023-03-16T06:25:10.710Z"
   },
   {
    "duration": 4241,
    "start_time": "2023-03-16T06:25:10.722Z"
   },
   {
    "duration": 237,
    "start_time": "2023-03-16T06:25:14.965Z"
   },
   {
    "duration": 30,
    "start_time": "2023-03-16T06:25:15.208Z"
   },
   {
    "duration": 55,
    "start_time": "2023-03-16T06:25:15.240Z"
   },
   {
    "duration": 144,
    "start_time": "2023-03-16T06:25:15.368Z"
   },
   {
    "duration": 204,
    "start_time": "2023-03-16T06:25:15.514Z"
   },
   {
    "duration": 15,
    "start_time": "2023-03-16T06:25:15.720Z"
   }
  ],
  "kernelspec": {
   "display_name": "Python 3 (ipykernel)",
   "language": "python",
   "name": "python3"
  },
  "language_info": {
   "codemirror_mode": {
    "name": "ipython",
    "version": 3
   },
   "file_extension": ".py",
   "mimetype": "text/x-python",
   "name": "python",
   "nbconvert_exporter": "python",
   "pygments_lexer": "ipython3",
   "version": "3.11.3"
  },
  "toc": {
   "base_numbering": 1,
   "nav_menu": {},
   "number_sections": true,
   "sideBar": true,
   "skip_h1_title": true,
   "title_cell": "Содержание",
   "title_sidebar": "Contents",
   "toc_cell": true,
   "toc_position": {},
   "toc_section_display": true,
   "toc_window_display": true
  }
 },
 "nbformat": 4,
 "nbformat_minor": 2
}
