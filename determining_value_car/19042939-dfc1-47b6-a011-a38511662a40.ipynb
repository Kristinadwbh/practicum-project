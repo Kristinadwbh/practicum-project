{
 "cells": [
  {
   "cell_type": "markdown",
   "metadata": {},
   "source": [
    "# Определение стоимости автомобилей"
   ]
  },
  {
   "cell_type": "markdown",
   "metadata": {},
   "source": [
    "## Подготовка данных"
   ]
  },
  {
   "cell_type": "code",
   "execution_count": 1,
   "metadata": {},
   "outputs": [],
   "source": [
    "import pandas as pd\n",
    "import numpy as np\n",
    "import matplotlib.pyplot as plt\n",
    "from sklearn.model_selection import train_test_split\n",
    "from sklearn.metrics import mean_squared_error\n",
    "from lightgbm import LGBMRegressor\n",
    "from catboost import CatBoostRegressor\n",
    "from sklearn.tree import DecisionTreeRegressor\n",
    "from tqdm import tqdm\n",
    "from time import time"
   ]
  },
  {
   "cell_type": "code",
   "execution_count": 18,
   "metadata": {},
   "outputs": [],
   "source": [
    "data = pd.read_csv('/datasets/autos.csv')"
   ]
  },
  {
   "cell_type": "code",
   "execution_count": 3,
   "metadata": {
    "scrolled": true
   },
   "outputs": [
    {
     "data": {
      "text/html": [
       "<div>\n",
       "<style scoped>\n",
       "    .dataframe tbody tr th:only-of-type {\n",
       "        vertical-align: middle;\n",
       "    }\n",
       "\n",
       "    .dataframe tbody tr th {\n",
       "        vertical-align: top;\n",
       "    }\n",
       "\n",
       "    .dataframe thead th {\n",
       "        text-align: right;\n",
       "    }\n",
       "</style>\n",
       "<table border=\"1\" class=\"dataframe\">\n",
       "  <thead>\n",
       "    <tr style=\"text-align: right;\">\n",
       "      <th></th>\n",
       "      <th>DateCrawled</th>\n",
       "      <th>Price</th>\n",
       "      <th>VehicleType</th>\n",
       "      <th>RegistrationYear</th>\n",
       "      <th>Gearbox</th>\n",
       "      <th>Power</th>\n",
       "      <th>Model</th>\n",
       "      <th>Kilometer</th>\n",
       "      <th>RegistrationMonth</th>\n",
       "      <th>FuelType</th>\n",
       "      <th>Brand</th>\n",
       "      <th>Repaired</th>\n",
       "      <th>DateCreated</th>\n",
       "      <th>NumberOfPictures</th>\n",
       "      <th>PostalCode</th>\n",
       "      <th>LastSeen</th>\n",
       "    </tr>\n",
       "  </thead>\n",
       "  <tbody>\n",
       "    <tr>\n",
       "      <th>0</th>\n",
       "      <td>2016-03-24 11:52:17</td>\n",
       "      <td>480</td>\n",
       "      <td>NaN</td>\n",
       "      <td>1993</td>\n",
       "      <td>manual</td>\n",
       "      <td>0</td>\n",
       "      <td>golf</td>\n",
       "      <td>150000</td>\n",
       "      <td>0</td>\n",
       "      <td>petrol</td>\n",
       "      <td>volkswagen</td>\n",
       "      <td>NaN</td>\n",
       "      <td>2016-03-24 00:00:00</td>\n",
       "      <td>0</td>\n",
       "      <td>70435</td>\n",
       "      <td>2016-04-07 03:16:57</td>\n",
       "    </tr>\n",
       "    <tr>\n",
       "      <th>1</th>\n",
       "      <td>2016-03-24 10:58:45</td>\n",
       "      <td>18300</td>\n",
       "      <td>coupe</td>\n",
       "      <td>2011</td>\n",
       "      <td>manual</td>\n",
       "      <td>190</td>\n",
       "      <td>NaN</td>\n",
       "      <td>125000</td>\n",
       "      <td>5</td>\n",
       "      <td>gasoline</td>\n",
       "      <td>audi</td>\n",
       "      <td>yes</td>\n",
       "      <td>2016-03-24 00:00:00</td>\n",
       "      <td>0</td>\n",
       "      <td>66954</td>\n",
       "      <td>2016-04-07 01:46:50</td>\n",
       "    </tr>\n",
       "    <tr>\n",
       "      <th>2</th>\n",
       "      <td>2016-03-14 12:52:21</td>\n",
       "      <td>9800</td>\n",
       "      <td>suv</td>\n",
       "      <td>2004</td>\n",
       "      <td>auto</td>\n",
       "      <td>163</td>\n",
       "      <td>grand</td>\n",
       "      <td>125000</td>\n",
       "      <td>8</td>\n",
       "      <td>gasoline</td>\n",
       "      <td>jeep</td>\n",
       "      <td>NaN</td>\n",
       "      <td>2016-03-14 00:00:00</td>\n",
       "      <td>0</td>\n",
       "      <td>90480</td>\n",
       "      <td>2016-04-05 12:47:46</td>\n",
       "    </tr>\n",
       "    <tr>\n",
       "      <th>3</th>\n",
       "      <td>2016-03-17 16:54:04</td>\n",
       "      <td>1500</td>\n",
       "      <td>small</td>\n",
       "      <td>2001</td>\n",
       "      <td>manual</td>\n",
       "      <td>75</td>\n",
       "      <td>golf</td>\n",
       "      <td>150000</td>\n",
       "      <td>6</td>\n",
       "      <td>petrol</td>\n",
       "      <td>volkswagen</td>\n",
       "      <td>no</td>\n",
       "      <td>2016-03-17 00:00:00</td>\n",
       "      <td>0</td>\n",
       "      <td>91074</td>\n",
       "      <td>2016-03-17 17:40:17</td>\n",
       "    </tr>\n",
       "    <tr>\n",
       "      <th>4</th>\n",
       "      <td>2016-03-31 17:25:20</td>\n",
       "      <td>3600</td>\n",
       "      <td>small</td>\n",
       "      <td>2008</td>\n",
       "      <td>manual</td>\n",
       "      <td>69</td>\n",
       "      <td>fabia</td>\n",
       "      <td>90000</td>\n",
       "      <td>7</td>\n",
       "      <td>gasoline</td>\n",
       "      <td>skoda</td>\n",
       "      <td>no</td>\n",
       "      <td>2016-03-31 00:00:00</td>\n",
       "      <td>0</td>\n",
       "      <td>60437</td>\n",
       "      <td>2016-04-06 10:17:21</td>\n",
       "    </tr>\n",
       "  </tbody>\n",
       "</table>\n",
       "</div>"
      ],
      "text/plain": [
       "           DateCrawled  Price VehicleType  RegistrationYear Gearbox  Power  \\\n",
       "0  2016-03-24 11:52:17    480         NaN              1993  manual      0   \n",
       "1  2016-03-24 10:58:45  18300       coupe              2011  manual    190   \n",
       "2  2016-03-14 12:52:21   9800         suv              2004    auto    163   \n",
       "3  2016-03-17 16:54:04   1500       small              2001  manual     75   \n",
       "4  2016-03-31 17:25:20   3600       small              2008  manual     69   \n",
       "\n",
       "   Model  Kilometer  RegistrationMonth  FuelType       Brand Repaired  \\\n",
       "0   golf     150000                  0    petrol  volkswagen      NaN   \n",
       "1    NaN     125000                  5  gasoline        audi      yes   \n",
       "2  grand     125000                  8  gasoline        jeep      NaN   \n",
       "3   golf     150000                  6    petrol  volkswagen       no   \n",
       "4  fabia      90000                  7  gasoline       skoda       no   \n",
       "\n",
       "           DateCreated  NumberOfPictures  PostalCode             LastSeen  \n",
       "0  2016-03-24 00:00:00                 0       70435  2016-04-07 03:16:57  \n",
       "1  2016-03-24 00:00:00                 0       66954  2016-04-07 01:46:50  \n",
       "2  2016-03-14 00:00:00                 0       90480  2016-04-05 12:47:46  \n",
       "3  2016-03-17 00:00:00                 0       91074  2016-03-17 17:40:17  \n",
       "4  2016-03-31 00:00:00                 0       60437  2016-04-06 10:17:21  "
      ]
     },
     "execution_count": 3,
     "metadata": {},
     "output_type": "execute_result"
    }
   ],
   "source": [
    "data.head()"
   ]
  },
  {
   "cell_type": "code",
   "execution_count": 4,
   "metadata": {},
   "outputs": [
    {
     "name": "stdout",
     "output_type": "stream",
     "text": [
      "<class 'pandas.core.frame.DataFrame'>\n",
      "RangeIndex: 354369 entries, 0 to 354368\n",
      "Data columns (total 16 columns):\n",
      " #   Column             Non-Null Count   Dtype \n",
      "---  ------             --------------   ----- \n",
      " 0   DateCrawled        354369 non-null  object\n",
      " 1   Price              354369 non-null  int64 \n",
      " 2   VehicleType        316879 non-null  object\n",
      " 3   RegistrationYear   354369 non-null  int64 \n",
      " 4   Gearbox            334536 non-null  object\n",
      " 5   Power              354369 non-null  int64 \n",
      " 6   Model              334664 non-null  object\n",
      " 7   Kilometer          354369 non-null  int64 \n",
      " 8   RegistrationMonth  354369 non-null  int64 \n",
      " 9   FuelType           321474 non-null  object\n",
      " 10  Brand              354369 non-null  object\n",
      " 11  Repaired           283215 non-null  object\n",
      " 12  DateCreated        354369 non-null  object\n",
      " 13  NumberOfPictures   354369 non-null  int64 \n",
      " 14  PostalCode         354369 non-null  int64 \n",
      " 15  LastSeen           354369 non-null  object\n",
      "dtypes: int64(7), object(9)\n",
      "memory usage: 43.3+ MB\n"
     ]
    }
   ],
   "source": [
    "data.info()"
   ]
  },
  {
   "cell_type": "code",
   "execution_count": 5,
   "metadata": {},
   "outputs": [
    {
     "data": {
      "text/plain": [
       "'2016-04-07 14:36:58'"
      ]
     },
     "execution_count": 5,
     "metadata": {},
     "output_type": "execute_result"
    }
   ],
   "source": [
    "data['DateCrawled'].max()"
   ]
  },
  {
   "cell_type": "code",
   "execution_count": 6,
   "metadata": {},
   "outputs": [
    {
     "data": {
      "text/html": [
       "<div>\n",
       "<style scoped>\n",
       "    .dataframe tbody tr th:only-of-type {\n",
       "        vertical-align: middle;\n",
       "    }\n",
       "\n",
       "    .dataframe tbody tr th {\n",
       "        vertical-align: top;\n",
       "    }\n",
       "\n",
       "    .dataframe thead th {\n",
       "        text-align: right;\n",
       "    }\n",
       "</style>\n",
       "<table border=\"1\" class=\"dataframe\">\n",
       "  <thead>\n",
       "    <tr style=\"text-align: right;\">\n",
       "      <th></th>\n",
       "      <th>Price</th>\n",
       "      <th>RegistrationYear</th>\n",
       "      <th>Power</th>\n",
       "      <th>Kilometer</th>\n",
       "      <th>RegistrationMonth</th>\n",
       "      <th>NumberOfPictures</th>\n",
       "      <th>PostalCode</th>\n",
       "    </tr>\n",
       "  </thead>\n",
       "  <tbody>\n",
       "    <tr>\n",
       "      <th>count</th>\n",
       "      <td>354369.000000</td>\n",
       "      <td>354369.000000</td>\n",
       "      <td>354369.000000</td>\n",
       "      <td>354369.000000</td>\n",
       "      <td>354369.000000</td>\n",
       "      <td>354369.0</td>\n",
       "      <td>354369.000000</td>\n",
       "    </tr>\n",
       "    <tr>\n",
       "      <th>mean</th>\n",
       "      <td>4416.656776</td>\n",
       "      <td>2004.234448</td>\n",
       "      <td>110.094337</td>\n",
       "      <td>128211.172535</td>\n",
       "      <td>5.714645</td>\n",
       "      <td>0.0</td>\n",
       "      <td>50508.689087</td>\n",
       "    </tr>\n",
       "    <tr>\n",
       "      <th>std</th>\n",
       "      <td>4514.158514</td>\n",
       "      <td>90.227958</td>\n",
       "      <td>189.850405</td>\n",
       "      <td>37905.341530</td>\n",
       "      <td>3.726421</td>\n",
       "      <td>0.0</td>\n",
       "      <td>25783.096248</td>\n",
       "    </tr>\n",
       "    <tr>\n",
       "      <th>min</th>\n",
       "      <td>0.000000</td>\n",
       "      <td>1000.000000</td>\n",
       "      <td>0.000000</td>\n",
       "      <td>5000.000000</td>\n",
       "      <td>0.000000</td>\n",
       "      <td>0.0</td>\n",
       "      <td>1067.000000</td>\n",
       "    </tr>\n",
       "    <tr>\n",
       "      <th>25%</th>\n",
       "      <td>1050.000000</td>\n",
       "      <td>1999.000000</td>\n",
       "      <td>69.000000</td>\n",
       "      <td>125000.000000</td>\n",
       "      <td>3.000000</td>\n",
       "      <td>0.0</td>\n",
       "      <td>30165.000000</td>\n",
       "    </tr>\n",
       "    <tr>\n",
       "      <th>50%</th>\n",
       "      <td>2700.000000</td>\n",
       "      <td>2003.000000</td>\n",
       "      <td>105.000000</td>\n",
       "      <td>150000.000000</td>\n",
       "      <td>6.000000</td>\n",
       "      <td>0.0</td>\n",
       "      <td>49413.000000</td>\n",
       "    </tr>\n",
       "    <tr>\n",
       "      <th>75%</th>\n",
       "      <td>6400.000000</td>\n",
       "      <td>2008.000000</td>\n",
       "      <td>143.000000</td>\n",
       "      <td>150000.000000</td>\n",
       "      <td>9.000000</td>\n",
       "      <td>0.0</td>\n",
       "      <td>71083.000000</td>\n",
       "    </tr>\n",
       "    <tr>\n",
       "      <th>max</th>\n",
       "      <td>20000.000000</td>\n",
       "      <td>9999.000000</td>\n",
       "      <td>20000.000000</td>\n",
       "      <td>150000.000000</td>\n",
       "      <td>12.000000</td>\n",
       "      <td>0.0</td>\n",
       "      <td>99998.000000</td>\n",
       "    </tr>\n",
       "  </tbody>\n",
       "</table>\n",
       "</div>"
      ],
      "text/plain": [
       "               Price  RegistrationYear          Power      Kilometer  \\\n",
       "count  354369.000000     354369.000000  354369.000000  354369.000000   \n",
       "mean     4416.656776       2004.234448     110.094337  128211.172535   \n",
       "std      4514.158514         90.227958     189.850405   37905.341530   \n",
       "min         0.000000       1000.000000       0.000000    5000.000000   \n",
       "25%      1050.000000       1999.000000      69.000000  125000.000000   \n",
       "50%      2700.000000       2003.000000     105.000000  150000.000000   \n",
       "75%      6400.000000       2008.000000     143.000000  150000.000000   \n",
       "max     20000.000000       9999.000000   20000.000000  150000.000000   \n",
       "\n",
       "       RegistrationMonth  NumberOfPictures     PostalCode  \n",
       "count      354369.000000          354369.0  354369.000000  \n",
       "mean            5.714645               0.0   50508.689087  \n",
       "std             3.726421               0.0   25783.096248  \n",
       "min             0.000000               0.0    1067.000000  \n",
       "25%             3.000000               0.0   30165.000000  \n",
       "50%             6.000000               0.0   49413.000000  \n",
       "75%             9.000000               0.0   71083.000000  \n",
       "max            12.000000               0.0   99998.000000  "
      ]
     },
     "execution_count": 6,
     "metadata": {},
     "output_type": "execute_result"
    }
   ],
   "source": [
    "data.describe()"
   ]
  },
  {
   "cell_type": "markdown",
   "metadata": {},
   "source": [
    "<div class='alert alert-success'> ✔️Отлично, первичный анализ проведен с применением диагностических инструментов Pandas,тут можно добавить первые вывод.\n",
    "</div>"
   ]
  },
  {
   "cell_type": "code",
   "execution_count": 7,
   "metadata": {},
   "outputs": [],
   "source": [
    "data.fillna('unknown', inplace=True)"
   ]
  },
  {
   "cell_type": "markdown",
   "metadata": {},
   "source": [
    "<div class='alert alert-success'> ✔️Ок, пропуски заполняем новой категорией. Отмечу, что в колонках типа кузова, модели, типа топлива есть значение 'other', которое можно было объединить с новой категорией (например, заполнять значением other)\n",
    "</div>"
   ]
  },
  {
   "cell_type": "code",
   "execution_count": 8,
   "metadata": {
    "scrolled": true
   },
   "outputs": [
    {
     "data": {
      "text/plain": [
       "<AxesSubplot:>"
      ]
     },
     "execution_count": 8,
     "metadata": {},
     "output_type": "execute_result"
    },
    {
     "data": {
      "image/png": "[encoded data removed]",
      "text/plain": [
       "<Figure size 432x288 with 1 Axes>"
      ]
     },
     "metadata": {
      "needs_background": "light"
     },
     "output_type": "display_data"
    }
   ],
   "source": [
    "data['Model'].value_counts().plot()"
   ]
  },
  {
   "cell_type": "code",
   "execution_count": 9,
   "metadata": {},
   "outputs": [
    {
     "data": {
      "image/png": "[encoded data removed]",
      "text/plain": [
       "<Figure size 1080x360 with 1 Axes>"
      ]
     },
     "metadata": {
      "needs_background": "light"
     },
     "output_type": "display_data"
    }
   ],
   "source": [
    "data['PostalCode'].hist(bins=len(data['PostalCode'].unique()), figsize=(15, 5))\n",
    "plt.show()"
   ]
  },
  {
   "cell_type": "code",
   "execution_count": 10,
   "metadata": {},
   "outputs": [
    {
     "data": {
      "image/png": "[encoded data removed]",
      "text/plain": [
       "<Figure size 1080x1080 with 4 Axes>"
      ]
     },
     "metadata": {
      "needs_background": "light"
     },
     "output_type": "display_data"
    }
   ],
   "source": [
    "fig0, axs0 = plt.subplots(2, 2, figsize=(15,15))\n",
    "data['Power'].plot(kind='box', ylim=(-50, 500), ax=axs0[0,0])\n",
    "data['Kilometer'].plot(kind='box', ax=axs0[0,1])\n",
    "data['Price'].plot(kind='box', ax=axs0[1,0])\n",
    "data['RegistrationYear'].plot(kind='box', ax=axs0[1,1])\n",
    "plt.ylim(1900,2100)\n",
    "plt.show()\n",
    "\n"
   ]
  },
  {
   "cell_type": "code",
   "execution_count": 11,
   "metadata": {},
   "outputs": [
    {
     "data": {
      "image/png": "[encoded data removed]",
      "text/plain": [
       "<Figure size 936x720 with 6 Axes>"
      ]
     },
     "metadata": {
      "needs_background": "light"
     },
     "output_type": "display_data"
    }
   ],
   "source": [
    "fig, axs = plt.subplots(3, 2, figsize=(13,10))\n",
    "fig.tight_layout(h_pad=9, w_pad=2)\n",
    "columns_bar = ['VehicleType', 'Gearbox', 'Brand', 'RegistrationMonth', 'FuelType', 'Repaired']\n",
    "for col, place_1, place_2 in zip(columns_bar, [0, 0, 1, 1, 2, 2], [0, 1, 0, 1, 0, 1]):\n",
    "    data[col].value_counts().plot(title=f'Столбчатый график для {col}', kind='bar', ax=axs[place_1, place_2])\n",
    "plt.show()"
   ]
  },
  {
   "cell_type": "code",
   "execution_count": 12,
   "metadata": {},
   "outputs": [
    {
     "data": {
      "text/plain": [
       "array([0])"
      ]
     },
     "execution_count": 12,
     "metadata": {},
     "output_type": "execute_result"
    }
   ],
   "source": [
    "data['NumberOfPictures'].unique()"
   ]
  },
  {
   "cell_type": "markdown",
   "metadata": {},
   "source": [
    "**Удаление некоторых столбцов и аномалий**"
   ]
  },
  {
   "cell_type": "code",
   "execution_count": 13,
   "metadata": {},
   "outputs": [],
   "source": [
    "data.drop(['NumberOfPictures', 'DateCrawled', 'DateCreated', 'LastSeen', 'PostalCode',\n",
    "          'RegistrationMonth', 'VehicleType', 'Gearbox'], axis=1, inplace=True)"
   ]
  },
  {
   "cell_type": "code",
   "execution_count": 14,
   "metadata": {},
   "outputs": [],
   "source": [
    "data = data.query('Power<300 and Kilometer>70000 and Price<15000 and 1980<RegistrationYear<2023')"
   ]
  },
  {
   "cell_type": "markdown",
   "metadata": {},
   "source": [
    "## Обучение моделей"
   ]
  },
  {
   "cell_type": "code",
   "execution_count": 15,
   "metadata": {},
   "outputs": [],
   "source": [
    "data_ohe = pd.get_dummies(data, columns=['Model', 'FuelType', 'Brand', 'Repaired'],  drop_first=True)"
   ]
  },
  {
   "cell_type": "code",
   "execution_count": 16,
   "metadata": {},
   "outputs": [],
   "source": [
    "features_train, features_valid, target_train, target_valid = train_test_split(\n",
    "    data_ohe.drop('Price', axis=1), data_ohe.Price, test_size=0.25, random_state=12345)\n",
    "features_valid, features_test, target_valid, target_test = train_test_split(features_valid, target_valid, test_size=0.5,\n",
    "                                                                           random_state=12345)"
   ]
  },
  {
   "cell_type": "markdown",
   "metadata": {},
   "source": [
    "**Модель LGBMRegressor**"
   ]
  },
  {
   "cell_type": "code",
   "execution_count": 17,
   "metadata": {},
   "outputs": [],
   "source": [
    "def model_lgbm(m_d, l_r):\n",
    "    model = LGBMRegressor(max_depth=m_d,  learning_rate=l_r, random_state=12345)\n",
    "    start_f = time()\n",
    "    model.fit(features_train, target_train)\n",
    "    end_f = time()\n",
    "    start_p = time()\n",
    "    prediction = model.predict(features_valid)\n",
    "    end_p = time()\n",
    "    result = np.sqrt(mean_squared_error(target_valid, prediction))\n",
    "    return 'LGBMRegressor', end_f-start_f, end_p-start_p, result, f'max_depth = {m_d}, learning_rate = {l_r}'"
   ]
  },
  {
   "cell_type": "code",
   "execution_count": 18,
   "metadata": {},
   "outputs": [],
   "source": [
    "final = []"
   ]
  },
  {
   "cell_type": "code",
   "execution_count": 19,
   "metadata": {
    "scrolled": true
   },
   "outputs": [
    {
     "name": "stderr",
     "output_type": "stream",
     "text": [
      "  0%|          | 0/3 [00:00<?, ?it/s]\n",
      "  0%|          | 0/3 [00:00<?, ?it/s]\u001b[A\n",
      " 33%|███▎      | 1/3 [00:06<00:13,  6.75s/it]\u001b[A\n",
      " 67%|██████▋   | 2/3 [00:13<00:06,  6.72s/it]\u001b[A\n",
      "100%|██████████| 3/3 [00:20<00:00,  6.75s/it]\u001b[A\n",
      " 33%|███▎      | 1/3 [00:20<00:40, 20.26s/it]\n",
      "  0%|          | 0/3 [00:00<?, ?it/s]\u001b[A\n",
      " 33%|███▎      | 1/3 [00:08<00:16,  8.11s/it]\u001b[A\n",
      " 67%|██████▋   | 2/3 [00:14<00:07,  7.28s/it]\u001b[A\n",
      "100%|██████████| 3/3 [00:22<00:00,  7.37s/it]\u001b[A\n",
      " 67%|██████▋   | 2/3 [00:42<00:21, 21.34s/it]\n",
      "  0%|          | 0/3 [00:00<?, ?it/s]\u001b[A\n",
      " 33%|███▎      | 1/3 [00:27<00:55, 27.70s/it]\u001b[A\n",
      " 67%|██████▋   | 2/3 [00:34<00:15, 15.35s/it]\u001b[A\n",
      "100%|██████████| 3/3 [00:41<00:00, 13.93s/it]\u001b[A\n",
      "100%|██████████| 3/3 [01:24<00:00, 28.05s/it]\n"
     ]
    }
   ],
   "source": [
    "for m_d in tqdm([10, 40, 60]):\n",
    "    for l_r in tqdm([0.3, 0.6, 0.9]):\n",
    "        final.append(model_lgbm(m_d, l_r))"
   ]
  },
  {
   "cell_type": "markdown",
   "metadata": {},
   "source": [
    "**Модель CatBoostRegressor**"
   ]
  },
  {
   "cell_type": "code",
   "execution_count": 21,
   "metadata": {},
   "outputs": [],
   "source": [
    "def model_cb(l_r, it):\n",
    "    model = CatBoostRegressor(learning_rate=l_r, iterations=it, random_state=12345)\n",
    "    start_f = time()\n",
    "    model.fit(features_train, target_train)\n",
    "    end_f = time()\n",
    "    start_p = time()\n",
    "    prediction = model.predict(features_valid)\n",
    "    end_p = time()\n",
    "    result = np.sqrt(mean_squared_error(target_valid, prediction))\n",
    "    return 'CatBoostRegressor', end_f-start_f, end_p-start_p, result, f'learning_rate = {l_r}, iterations={it}'"
   ]
  },
  {
   "cell_type": "code",
   "execution_count": null,
   "metadata": {},
   "outputs": [],
   "source": [
    "for l_r in tqdm([0.3, 0.6, 0.9]):\n",
    "    for it in tqdm([10, 50, 70]):\n",
    "        final.append(model_cb(l_r, it))"
   ]
  },
  {
   "cell_type": "markdown",
   "metadata": {},
   "source": [
    "**Модель DecisionTreeRegressor**"
   ]
  },
  {
   "cell_type": "code",
   "execution_count": 23,
   "metadata": {},
   "outputs": [],
   "source": [
    "def model_dt(m_d):\n",
    "    model = DecisionTreeRegressor(max_depth=m_d, random_state=12345)\n",
    "    start_f = time()\n",
    "    model.fit(features_train, target_train)\n",
    "    end_f = time()\n",
    "    start_p = time()\n",
    "    prediction = model.predict(features_valid)\n",
    "    end_p = time()\n",
    "    result = np.sqrt(mean_squared_error(target_valid, prediction))\n",
    "    return 'DecisionTreeRegressor', end_f-start_f, end_p-start_p, result, f'max_depth = {m_d}'"
   ]
  },
  {
   "cell_type": "code",
   "execution_count": 24,
   "metadata": {
    "scrolled": true
   },
   "outputs": [
    {
     "name": "stderr",
     "output_type": "stream",
     "text": [
      "100%|██████████| 120/120 [18:32<00:00,  9.27s/it]\n"
     ]
    }
   ],
   "source": [
    "for m_d in tqdm(range(10, 130)):\n",
    "    final.append(model_dt(m_d))"
   ]
  },
  {
   "cell_type": "markdown",
   "metadata": {},
   "source": [
    "**Получение таблицы с результатами**"
   ]
  },
  {
   "cell_type": "code",
   "execution_count": 25,
   "metadata": {},
   "outputs": [],
   "source": [
    "final_table = pd.DataFrame({'model_name':[final[i][0] for i in range(len(final))],\n",
    "                            'parameters':[final[i][4] for i in range(len(final))], \n",
    "                            'time_fit':[final[i][1] for i in range(len(final))], \n",
    "                            'time_pr':[final[i][2] for i in range(len(final))], \n",
    "                            'RMSE':[final[i][3] for i in range(len(final))]})"
   ]
  },
  {
   "cell_type": "code",
   "execution_count": 26,
   "metadata": {},
   "outputs": [
    {
     "data": {
      "text/html": [
       "<div>\n",
       "<style scoped>\n",
       "    .dataframe tbody tr th:only-of-type {\n",
       "        vertical-align: middle;\n",
       "    }\n",
       "\n",
       "    .dataframe tbody tr th {\n",
       "        vertical-align: top;\n",
       "    }\n",
       "\n",
       "    .dataframe thead th {\n",
       "        text-align: right;\n",
       "    }\n",
       "</style>\n",
       "<table border=\"1\" class=\"dataframe\">\n",
       "  <thead>\n",
       "    <tr style=\"text-align: right;\">\n",
       "      <th></th>\n",
       "      <th>model_name</th>\n",
       "      <th>parameters</th>\n",
       "      <th>time_fit</th>\n",
       "      <th>time_pr</th>\n",
       "      <th>RMSE</th>\n",
       "    </tr>\n",
       "  </thead>\n",
       "  <tbody>\n",
       "    <tr>\n",
       "      <th>0</th>\n",
       "      <td>LGBMRegressor</td>\n",
       "      <td>max_depth = 40, learning_rate = 0.6</td>\n",
       "      <td>6.380244</td>\n",
       "      <td>0.311653</td>\n",
       "      <td>1444.097098</td>\n",
       "    </tr>\n",
       "    <tr>\n",
       "      <th>1</th>\n",
       "      <td>LGBMRegressor</td>\n",
       "      <td>max_depth = 60, learning_rate = 0.6</td>\n",
       "      <td>6.299512</td>\n",
       "      <td>0.308246</td>\n",
       "      <td>1444.097098</td>\n",
       "    </tr>\n",
       "    <tr>\n",
       "      <th>2</th>\n",
       "      <td>LGBMRegressor</td>\n",
       "      <td>max_depth = 10, learning_rate = 0.6</td>\n",
       "      <td>6.300553</td>\n",
       "      <td>0.397629</td>\n",
       "      <td>1449.580701</td>\n",
       "    </tr>\n",
       "    <tr>\n",
       "      <th>3</th>\n",
       "      <td>LGBMRegressor</td>\n",
       "      <td>max_depth = 60, learning_rate = 0.9</td>\n",
       "      <td>7.089885</td>\n",
       "      <td>0.305600</td>\n",
       "      <td>1456.078597</td>\n",
       "    </tr>\n",
       "    <tr>\n",
       "      <th>4</th>\n",
       "      <td>LGBMRegressor</td>\n",
       "      <td>max_depth = 40, learning_rate = 0.9</td>\n",
       "      <td>6.807316</td>\n",
       "      <td>0.396496</td>\n",
       "      <td>1456.078597</td>\n",
       "    </tr>\n",
       "    <tr>\n",
       "      <th>5</th>\n",
       "      <td>LGBMRegressor</td>\n",
       "      <td>max_depth = 10, learning_rate = 0.3</td>\n",
       "      <td>6.347635</td>\n",
       "      <td>0.400183</td>\n",
       "      <td>1459.036156</td>\n",
       "    </tr>\n",
       "    <tr>\n",
       "      <th>6</th>\n",
       "      <td>LGBMRegressor</td>\n",
       "      <td>max_depth = 60, learning_rate = 0.3</td>\n",
       "      <td>27.388035</td>\n",
       "      <td>0.311705</td>\n",
       "      <td>1459.246233</td>\n",
       "    </tr>\n",
       "    <tr>\n",
       "      <th>7</th>\n",
       "      <td>LGBMRegressor</td>\n",
       "      <td>max_depth = 40, learning_rate = 0.3</td>\n",
       "      <td>7.696420</td>\n",
       "      <td>0.408783</td>\n",
       "      <td>1459.246233</td>\n",
       "    </tr>\n",
       "    <tr>\n",
       "      <th>8</th>\n",
       "      <td>LGBMRegressor</td>\n",
       "      <td>max_depth = 10, learning_rate = 0.9</td>\n",
       "      <td>6.407318</td>\n",
       "      <td>0.388375</td>\n",
       "      <td>1459.338520</td>\n",
       "    </tr>\n",
       "    <tr>\n",
       "      <th>9</th>\n",
       "      <td>CatBoostRegressor</td>\n",
       "      <td>learning_rate = 0.9, iterations=70</td>\n",
       "      <td>4.286844</td>\n",
       "      <td>0.049617</td>\n",
       "      <td>1487.082476</td>\n",
       "    </tr>\n",
       "    <tr>\n",
       "      <th>10</th>\n",
       "      <td>CatBoostRegressor</td>\n",
       "      <td>learning_rate = 0.6, iterations=70</td>\n",
       "      <td>4.302818</td>\n",
       "      <td>0.052091</td>\n",
       "      <td>1501.861711</td>\n",
       "    </tr>\n",
       "    <tr>\n",
       "      <th>11</th>\n",
       "      <td>CatBoostRegressor</td>\n",
       "      <td>learning_rate = 0.9, iterations=50</td>\n",
       "      <td>3.535346</td>\n",
       "      <td>0.028338</td>\n",
       "      <td>1510.191611</td>\n",
       "    </tr>\n",
       "    <tr>\n",
       "      <th>12</th>\n",
       "      <td>CatBoostRegressor</td>\n",
       "      <td>learning_rate = 0.6, iterations=50</td>\n",
       "      <td>4.440231</td>\n",
       "      <td>0.026387</td>\n",
       "      <td>1527.770429</td>\n",
       "    </tr>\n",
       "    <tr>\n",
       "      <th>13</th>\n",
       "      <td>CatBoostRegressor</td>\n",
       "      <td>learning_rate = 0.3, iterations=70</td>\n",
       "      <td>4.081878</td>\n",
       "      <td>0.023894</td>\n",
       "      <td>1539.703838</td>\n",
       "    </tr>\n",
       "    <tr>\n",
       "      <th>14</th>\n",
       "      <td>CatBoostRegressor</td>\n",
       "      <td>learning_rate = 0.3, iterations=50</td>\n",
       "      <td>3.513547</td>\n",
       "      <td>0.022765</td>\n",
       "      <td>1566.197210</td>\n",
       "    </tr>\n",
       "    <tr>\n",
       "      <th>15</th>\n",
       "      <td>DecisionTreeRegressor</td>\n",
       "      <td>max_depth = 18</td>\n",
       "      <td>7.837515</td>\n",
       "      <td>0.083357</td>\n",
       "      <td>1603.764770</td>\n",
       "    </tr>\n",
       "    <tr>\n",
       "      <th>16</th>\n",
       "      <td>DecisionTreeRegressor</td>\n",
       "      <td>max_depth = 17</td>\n",
       "      <td>7.780998</td>\n",
       "      <td>0.075111</td>\n",
       "      <td>1605.431546</td>\n",
       "    </tr>\n",
       "    <tr>\n",
       "      <th>17</th>\n",
       "      <td>DecisionTreeRegressor</td>\n",
       "      <td>max_depth = 20</td>\n",
       "      <td>8.081594</td>\n",
       "      <td>0.078127</td>\n",
       "      <td>1609.702547</td>\n",
       "    </tr>\n",
       "    <tr>\n",
       "      <th>18</th>\n",
       "      <td>DecisionTreeRegressor</td>\n",
       "      <td>max_depth = 16</td>\n",
       "      <td>7.470718</td>\n",
       "      <td>0.078894</td>\n",
       "      <td>1610.332022</td>\n",
       "    </tr>\n",
       "    <tr>\n",
       "      <th>19</th>\n",
       "      <td>DecisionTreeRegressor</td>\n",
       "      <td>max_depth = 19</td>\n",
       "      <td>8.018353</td>\n",
       "      <td>0.077865</td>\n",
       "      <td>1611.366497</td>\n",
       "    </tr>\n",
       "    <tr>\n",
       "      <th>20</th>\n",
       "      <td>DecisionTreeRegressor</td>\n",
       "      <td>max_depth = 21</td>\n",
       "      <td>8.448775</td>\n",
       "      <td>0.083316</td>\n",
       "      <td>1613.557353</td>\n",
       "    </tr>\n",
       "    <tr>\n",
       "      <th>21</th>\n",
       "      <td>DecisionTreeRegressor</td>\n",
       "      <td>max_depth = 22</td>\n",
       "      <td>8.311073</td>\n",
       "      <td>0.090382</td>\n",
       "      <td>1615.995650</td>\n",
       "    </tr>\n",
       "    <tr>\n",
       "      <th>22</th>\n",
       "      <td>DecisionTreeRegressor</td>\n",
       "      <td>max_depth = 14</td>\n",
       "      <td>6.917550</td>\n",
       "      <td>0.076099</td>\n",
       "      <td>1618.469555</td>\n",
       "    </tr>\n",
       "    <tr>\n",
       "      <th>23</th>\n",
       "      <td>DecisionTreeRegressor</td>\n",
       "      <td>max_depth = 15</td>\n",
       "      <td>7.373000</td>\n",
       "      <td>0.076423</td>\n",
       "      <td>1620.377807</td>\n",
       "    </tr>\n",
       "    <tr>\n",
       "      <th>24</th>\n",
       "      <td>CatBoostRegressor</td>\n",
       "      <td>learning_rate = 0.9, iterations=10</td>\n",
       "      <td>2.156730</td>\n",
       "      <td>0.012430</td>\n",
       "      <td>1668.612615</td>\n",
       "    </tr>\n",
       "    <tr>\n",
       "      <th>25</th>\n",
       "      <td>CatBoostRegressor</td>\n",
       "      <td>learning_rate = 0.6, iterations=10</td>\n",
       "      <td>2.469147</td>\n",
       "      <td>0.017242</td>\n",
       "      <td>1668.998966</td>\n",
       "    </tr>\n",
       "    <tr>\n",
       "      <th>26</th>\n",
       "      <td>CatBoostRegressor</td>\n",
       "      <td>learning_rate = 0.3, iterations=10</td>\n",
       "      <td>2.175917</td>\n",
       "      <td>0.019031</td>\n",
       "      <td>1752.158190</td>\n",
       "    </tr>\n",
       "  </tbody>\n",
       "</table>\n",
       "</div>"
      ],
      "text/plain": [
       "               model_name                           parameters   time_fit  \\\n",
       "0           LGBMRegressor  max_depth = 40, learning_rate = 0.6   6.380244   \n",
       "1           LGBMRegressor  max_depth = 60, learning_rate = 0.6   6.299512   \n",
       "2           LGBMRegressor  max_depth = 10, learning_rate = 0.6   6.300553   \n",
       "3           LGBMRegressor  max_depth = 60, learning_rate = 0.9   7.089885   \n",
       "4           LGBMRegressor  max_depth = 40, learning_rate = 0.9   6.807316   \n",
       "5           LGBMRegressor  max_depth = 10, learning_rate = 0.3   6.347635   \n",
       "6           LGBMRegressor  max_depth = 60, learning_rate = 0.3  27.388035   \n",
       "7           LGBMRegressor  max_depth = 40, learning_rate = 0.3   7.696420   \n",
       "8           LGBMRegressor  max_depth = 10, learning_rate = 0.9   6.407318   \n",
       "9       CatBoostRegressor   learning_rate = 0.9, iterations=70   4.286844   \n",
       "10      CatBoostRegressor   learning_rate = 0.6, iterations=70   4.302818   \n",
       "11      CatBoostRegressor   learning_rate = 0.9, iterations=50   3.535346   \n",
       "12      CatBoostRegressor   learning_rate = 0.6, iterations=50   4.440231   \n",
       "13      CatBoostRegressor   learning_rate = 0.3, iterations=70   4.081878   \n",
       "14      CatBoostRegressor   learning_rate = 0.3, iterations=50   3.513547   \n",
       "15  DecisionTreeRegressor                       max_depth = 18   7.837515   \n",
       "16  DecisionTreeRegressor                       max_depth = 17   7.780998   \n",
       "17  DecisionTreeRegressor                       max_depth = 20   8.081594   \n",
       "18  DecisionTreeRegressor                       max_depth = 16   7.470718   \n",
       "19  DecisionTreeRegressor                       max_depth = 19   8.018353   \n",
       "20  DecisionTreeRegressor                       max_depth = 21   8.448775   \n",
       "21  DecisionTreeRegressor                       max_depth = 22   8.311073   \n",
       "22  DecisionTreeRegressor                       max_depth = 14   6.917550   \n",
       "23  DecisionTreeRegressor                       max_depth = 15   7.373000   \n",
       "24      CatBoostRegressor   learning_rate = 0.9, iterations=10   2.156730   \n",
       "25      CatBoostRegressor   learning_rate = 0.6, iterations=10   2.469147   \n",
       "26      CatBoostRegressor   learning_rate = 0.3, iterations=10   2.175917   \n",
       "\n",
       "     time_pr         RMSE  \n",
       "0   0.311653  1444.097098  \n",
       "1   0.308246  1444.097098  \n",
       "2   0.397629  1449.580701  \n",
       "3   0.305600  1456.078597  \n",
       "4   0.396496  1456.078597  \n",
       "5   0.400183  1459.036156  \n",
       "6   0.311705  1459.246233  \n",
       "7   0.408783  1459.246233  \n",
       "8   0.388375  1459.338520  \n",
       "9   0.049617  1487.082476  \n",
       "10  0.052091  1501.861711  \n",
       "11  0.028338  1510.191611  \n",
       "12  0.026387  1527.770429  \n",
       "13  0.023894  1539.703838  \n",
       "14  0.022765  1566.197210  \n",
       "15  0.083357  1603.764770  \n",
       "16  0.075111  1605.431546  \n",
       "17  0.078127  1609.702547  \n",
       "18  0.078894  1610.332022  \n",
       "19  0.077865  1611.366497  \n",
       "20  0.083316  1613.557353  \n",
       "21  0.090382  1615.995650  \n",
       "22  0.076099  1618.469555  \n",
       "23  0.076423  1620.377807  \n",
       "24  0.012430  1668.612615  \n",
       "25  0.017242  1668.998966  \n",
       "26  0.019031  1752.158190  "
      ]
     },
     "execution_count": 26,
     "metadata": {},
     "output_type": "execute_result"
    }
   ],
   "source": [
    "final_table.loc[final_table.loc[final_table['model_name']=='DecisionTreeRegressor'].\\\n",
    "                 sort_values('RMSE')[:9].index.to_list() + final_table.\\\n",
    "                loc[final_table['model_name']=='LGBMRegressor'].index.to_list() +\n",
    "               final_table.loc[final_table['model_name']=='CatBoostRegressor'].index.to_list()].\\\n",
    "sort_values('RMSE').reset_index(drop=True)"
   ]
  },
  {
   "cell_type": "markdown",
   "metadata": {},
   "source": [
    "**С лучшим результатом RMSE=1444.097098 вышла модель LGBMRegressor со значениями learning_rate=0.6, max_depth=40**"
   ]
  },
  {
   "cell_type": "markdown",
   "metadata": {},
   "source": [
    "## Анализ моделей"
   ]
  },
  {
   "cell_type": "code",
   "execution_count": 27,
   "metadata": {},
   "outputs": [
    {
     "name": "stdout",
     "output_type": "stream",
     "text": [
      "RMSE лучшей модели на тестовой выборке: 1448.62342\n"
     ]
    }
   ],
   "source": [
    "model_test = LGBMRegressor(learning_rate=0.6, max_depth=40, random_state=12345)\n",
    "model_test.fit(features_train, target_train)\n",
    "prediction_test = model_test.predict(features_test)\n",
    "result_test = np.sqrt(mean_squared_error(target_test, prediction_test))\n",
    "print('RMSE лучшей модели на тестовой выборке:', round(result_test, 5))"
   ]
  }
 ],
 "metadata": {
  "ExecuteTimeLog": [
   {
    "duration": 466,
    "start_time": "2023-05-02T14:16:50.570Z"
   },
   {
    "duration": 57,
    "start_time": "2023-05-02T17:10:04.311Z"
   },
   {
    "duration": 358,
    "start_time": "2023-05-02T17:10:11.637Z"
   },
   {
    "duration": 1049,
    "start_time": "2023-05-02T17:10:13.518Z"
   },
   {
    "duration": 27,
    "start_time": "2023-05-02T17:12:04.164Z"
   },
   {
    "duration": 72,
    "start_time": "2023-05-03T06:19:58.118Z"
   },
   {
    "duration": 417,
    "start_time": "2023-05-03T06:20:05.917Z"
   },
   {
    "duration": 1133,
    "start_time": "2023-05-03T06:20:08.020Z"
   },
   {
    "duration": 22,
    "start_time": "2023-05-03T06:20:10.928Z"
   },
   {
    "duration": 127,
    "start_time": "2023-05-03T06:20:16.265Z"
   },
   {
    "duration": 28,
    "start_time": "2023-05-03T06:31:28.499Z"
   },
   {
    "duration": 32,
    "start_time": "2023-05-03T06:31:46.132Z"
   },
   {
    "duration": 28,
    "start_time": "2023-05-03T06:43:10.424Z"
   },
   {
    "duration": 41,
    "start_time": "2023-05-03T06:43:37.470Z"
   },
   {
    "duration": 29,
    "start_time": "2023-05-03T06:44:22.365Z"
   },
   {
    "duration": 30,
    "start_time": "2023-05-03T07:00:26.241Z"
   },
   {
    "duration": 29,
    "start_time": "2023-05-03T07:41:03.881Z"
   },
   {
    "duration": 17,
    "start_time": "2023-05-03T07:41:14.812Z"
   },
   {
    "duration": 5,
    "start_time": "2023-05-03T07:41:42.608Z"
   },
   {
    "duration": 22,
    "start_time": "2023-05-03T07:42:02.803Z"
   },
   {
    "duration": 30,
    "start_time": "2023-05-03T07:42:26.502Z"
   },
   {
    "duration": 7,
    "start_time": "2023-05-03T07:42:37.469Z"
   },
   {
    "duration": 16,
    "start_time": "2023-05-03T07:42:51.450Z"
   },
   {
    "duration": 5,
    "start_time": "2023-05-03T07:42:55.188Z"
   },
   {
    "duration": 3,
    "start_time": "2023-05-03T07:44:48.950Z"
   },
   {
    "duration": 830,
    "start_time": "2023-05-03T07:44:48.956Z"
   },
   {
    "duration": 14,
    "start_time": "2023-05-03T07:44:49.791Z"
   },
   {
    "duration": 150,
    "start_time": "2023-05-03T07:44:49.807Z"
   },
   {
    "duration": 8,
    "start_time": "2023-05-03T07:45:53.603Z"
   },
   {
    "duration": 8,
    "start_time": "2023-05-03T07:46:21.107Z"
   },
   {
    "duration": 3,
    "start_time": "2023-05-03T07:46:27.924Z"
   },
   {
    "duration": 13,
    "start_time": "2023-05-03T07:46:33.663Z"
   },
   {
    "duration": 3,
    "start_time": "2023-05-03T07:47:20.431Z"
   },
   {
    "duration": 760,
    "start_time": "2023-05-03T07:47:20.436Z"
   },
   {
    "duration": 13,
    "start_time": "2023-05-03T07:47:21.198Z"
   },
   {
    "duration": 115,
    "start_time": "2023-05-03T07:47:21.212Z"
   },
   {
    "duration": 9,
    "start_time": "2023-05-03T07:47:24.820Z"
   },
   {
    "duration": 44,
    "start_time": "2023-05-03T07:47:51.180Z"
   },
   {
    "duration": 23,
    "start_time": "2023-05-03T07:48:19.341Z"
   },
   {
    "duration": 8,
    "start_time": "2023-05-03T07:48:30.629Z"
   },
   {
    "duration": 38,
    "start_time": "2023-05-03T07:48:45.105Z"
   },
   {
    "duration": 21,
    "start_time": "2023-05-03T07:50:38.472Z"
   },
   {
    "duration": 19,
    "start_time": "2023-05-03T07:51:28.436Z"
   },
   {
    "duration": 15,
    "start_time": "2023-05-03T07:51:39.405Z"
   },
   {
    "duration": 3,
    "start_time": "2023-05-03T07:51:47.182Z"
   },
   {
    "duration": 827,
    "start_time": "2023-05-03T07:51:47.187Z"
   },
   {
    "duration": 13,
    "start_time": "2023-05-03T07:51:48.016Z"
   },
   {
    "duration": 114,
    "start_time": "2023-05-03T07:51:48.031Z"
   },
   {
    "duration": 51,
    "start_time": "2023-05-03T07:51:48.147Z"
   },
   {
    "duration": 32,
    "start_time": "2023-05-03T07:52:21.631Z"
   },
   {
    "duration": 28,
    "start_time": "2023-05-03T07:52:34.315Z"
   },
   {
    "duration": 40,
    "start_time": "2023-05-03T08:00:11.505Z"
   },
   {
    "duration": 25,
    "start_time": "2023-05-03T08:01:57.356Z"
   },
   {
    "duration": 47,
    "start_time": "2023-05-03T08:02:27.625Z"
   },
   {
    "duration": 1131,
    "start_time": "2023-05-03T08:03:54.728Z"
   },
   {
    "duration": 3,
    "start_time": "2023-05-03T08:04:00.879Z"
   },
   {
    "duration": 856,
    "start_time": "2023-05-03T08:04:00.884Z"
   },
   {
    "duration": 15,
    "start_time": "2023-05-03T08:04:01.743Z"
   },
   {
    "duration": 163,
    "start_time": "2023-05-03T08:04:01.761Z"
   },
   {
    "duration": 64,
    "start_time": "2023-05-03T08:04:01.926Z"
   },
   {
    "duration": 1396,
    "start_time": "2023-05-03T08:04:04.824Z"
   },
   {
    "duration": 26,
    "start_time": "2023-05-03T08:04:23.139Z"
   },
   {
    "duration": 5,
    "start_time": "2023-05-03T08:04:48.612Z"
   },
   {
    "duration": 10,
    "start_time": "2023-05-03T08:06:17.450Z"
   },
   {
    "duration": 10,
    "start_time": "2023-05-03T08:06:36.329Z"
   },
   {
    "duration": 1333,
    "start_time": "2023-05-03T08:08:45.040Z"
   },
   {
    "duration": 1271,
    "start_time": "2023-05-03T08:09:11.991Z"
   },
   {
    "duration": 1229,
    "start_time": "2023-05-03T08:09:18.342Z"
   },
   {
    "duration": 36,
    "start_time": "2023-05-03T08:09:33.188Z"
   },
   {
    "duration": 3,
    "start_time": "2023-05-03T08:09:40.054Z"
   },
   {
    "duration": 776,
    "start_time": "2023-05-03T08:09:40.059Z"
   },
   {
    "duration": 16,
    "start_time": "2023-05-03T08:09:40.837Z"
   },
   {
    "duration": 125,
    "start_time": "2023-05-03T08:09:40.854Z"
   },
   {
    "duration": 50,
    "start_time": "2023-05-03T08:09:40.982Z"
   },
   {
    "duration": 30,
    "start_time": "2023-05-03T08:09:45.380Z"
   },
   {
    "duration": 5,
    "start_time": "2023-05-03T08:10:08.089Z"
   },
   {
    "duration": 5,
    "start_time": "2023-05-03T08:10:09.281Z"
   },
   {
    "duration": 5,
    "start_time": "2023-05-03T08:10:10.570Z"
   },
   {
    "duration": 5,
    "start_time": "2023-05-03T08:10:11.558Z"
   },
   {
    "duration": 30,
    "start_time": "2023-05-03T08:10:13.370Z"
   },
   {
    "duration": 5,
    "start_time": "2023-05-03T08:10:16.111Z"
   },
   {
    "duration": 32,
    "start_time": "2023-05-03T08:10:17.865Z"
   },
   {
    "duration": 6,
    "start_time": "2023-05-03T08:10:19.708Z"
   },
   {
    "duration": 28,
    "start_time": "2023-05-03T08:10:25.707Z"
   },
   {
    "duration": 42,
    "start_time": "2023-05-03T08:12:38.912Z"
   },
   {
    "duration": 24,
    "start_time": "2023-05-03T08:13:06.172Z"
   },
   {
    "duration": 30,
    "start_time": "2023-05-03T08:13:17.050Z"
   },
   {
    "duration": 27,
    "start_time": "2023-05-03T08:13:58.319Z"
   },
   {
    "duration": 29,
    "start_time": "2023-05-03T08:14:07.092Z"
   },
   {
    "duration": 707,
    "start_time": "2023-05-03T08:17:20.727Z"
   },
   {
    "duration": 233,
    "start_time": "2023-05-03T08:17:48.419Z"
   },
   {
    "duration": 22,
    "start_time": "2023-05-03T08:21:30.559Z"
   },
   {
    "duration": 18,
    "start_time": "2023-05-03T08:22:21.309Z"
   },
   {
    "duration": 26,
    "start_time": "2023-05-03T08:22:28.616Z"
   },
   {
    "duration": 47,
    "start_time": "2023-05-03T08:22:43.953Z"
   },
   {
    "duration": 19,
    "start_time": "2023-05-03T08:25:57.297Z"
   },
   {
    "duration": 46,
    "start_time": "2023-05-03T08:29:04.618Z"
   },
   {
    "duration": 23,
    "start_time": "2023-05-03T08:29:32.212Z"
   },
   {
    "duration": 38,
    "start_time": "2023-05-03T08:30:11.276Z"
   },
   {
    "duration": 22,
    "start_time": "2023-05-03T08:30:26.395Z"
   },
   {
    "duration": 46,
    "start_time": "2023-05-03T08:31:05.259Z"
   },
   {
    "duration": 21,
    "start_time": "2023-05-03T08:31:18.440Z"
   },
   {
    "duration": 109,
    "start_time": "2023-05-03T08:36:30.872Z"
   },
   {
    "duration": 115,
    "start_time": "2023-05-03T08:37:33.607Z"
   },
   {
    "duration": 8,
    "start_time": "2023-05-03T08:41:35.318Z"
   },
   {
    "duration": 317,
    "start_time": "2023-05-03T08:41:51.585Z"
   },
   {
    "duration": 2,
    "start_time": "2023-05-03T08:49:06.701Z"
   },
   {
    "duration": 303,
    "start_time": "2023-05-03T08:50:12.465Z"
   },
   {
    "duration": 390,
    "start_time": "2023-05-03T08:50:32.156Z"
   },
   {
    "duration": 443,
    "start_time": "2023-05-03T08:52:16.149Z"
   },
   {
    "duration": 415,
    "start_time": "2023-05-03T08:53:17.836Z"
   },
   {
    "duration": 1044,
    "start_time": "2023-05-03T08:55:36.665Z"
   },
   {
    "duration": 1201,
    "start_time": "2023-05-03T08:55:52.220Z"
   },
   {
    "duration": 613,
    "start_time": "2023-05-03T08:56:49.817Z"
   },
   {
    "duration": 757,
    "start_time": "2023-05-03T08:57:20.758Z"
   },
   {
    "duration": 121,
    "start_time": "2023-05-03T09:01:42.679Z"
   },
   {
    "duration": 283,
    "start_time": "2023-05-03T09:15:50.771Z"
   },
   {
    "duration": 239,
    "start_time": "2023-05-03T09:16:26.405Z"
   },
   {
    "duration": 251,
    "start_time": "2023-05-03T09:18:01.538Z"
   },
   {
    "duration": 236,
    "start_time": "2023-05-03T09:18:12.836Z"
   },
   {
    "duration": 298,
    "start_time": "2023-05-03T09:18:38.664Z"
   },
   {
    "duration": 217,
    "start_time": "2023-05-03T09:19:22.305Z"
   },
   {
    "duration": 298,
    "start_time": "2023-05-03T09:19:40.416Z"
   },
   {
    "duration": 272,
    "start_time": "2023-05-03T09:22:24.697Z"
   },
   {
    "duration": 218,
    "start_time": "2023-05-03T09:22:49.895Z"
   },
   {
    "duration": 355,
    "start_time": "2023-05-03T09:23:02.745Z"
   },
   {
    "duration": 322,
    "start_time": "2023-05-03T09:28:09.121Z"
   },
   {
    "duration": 359,
    "start_time": "2023-05-03T09:28:31.720Z"
   },
   {
    "duration": 343,
    "start_time": "2023-05-03T09:28:52.692Z"
   },
   {
    "duration": 255,
    "start_time": "2023-05-03T09:29:25.695Z"
   },
   {
    "duration": 349,
    "start_time": "2023-05-03T09:34:04.415Z"
   },
   {
    "duration": 426,
    "start_time": "2023-05-03T09:34:15.353Z"
   },
   {
    "duration": 349,
    "start_time": "2023-05-03T09:37:12.747Z"
   },
   {
    "duration": 344,
    "start_time": "2023-05-03T09:37:27.093Z"
   },
   {
    "duration": 326,
    "start_time": "2023-05-03T09:37:34.024Z"
   },
   {
    "duration": 360,
    "start_time": "2023-05-03T09:38:37.633Z"
   },
   {
    "duration": 437,
    "start_time": "2023-05-03T09:38:49.698Z"
   },
   {
    "duration": 361,
    "start_time": "2023-05-03T09:39:01.603Z"
   },
   {
    "duration": 360,
    "start_time": "2023-05-03T09:39:17.348Z"
   },
   {
    "duration": 288,
    "start_time": "2023-05-03T09:39:36.060Z"
   },
   {
    "duration": 361,
    "start_time": "2023-05-03T09:39:53.888Z"
   },
   {
    "duration": 333,
    "start_time": "2023-05-03T09:40:05.218Z"
   },
   {
    "duration": 473,
    "start_time": "2023-05-03T09:40:37.047Z"
   },
   {
    "duration": 351,
    "start_time": "2023-05-03T09:40:53.024Z"
   },
   {
    "duration": 344,
    "start_time": "2023-05-03T09:41:03.000Z"
   },
   {
    "duration": 326,
    "start_time": "2023-05-03T09:41:11.146Z"
   },
   {
    "duration": 379,
    "start_time": "2023-05-03T09:41:20.516Z"
   },
   {
    "duration": 454,
    "start_time": "2023-05-03T09:42:03.292Z"
   },
   {
    "duration": 401,
    "start_time": "2023-05-03T09:42:10.849Z"
   },
   {
    "duration": 362,
    "start_time": "2023-05-03T09:42:18.563Z"
   },
   {
    "duration": 399,
    "start_time": "2023-05-03T09:42:26.786Z"
   },
   {
    "duration": 412,
    "start_time": "2023-05-03T09:42:37.843Z"
   },
   {
    "duration": 453,
    "start_time": "2023-05-03T09:42:44.615Z"
   },
   {
    "duration": 608,
    "start_time": "2023-05-03T09:42:51.009Z"
   },
   {
    "duration": 433,
    "start_time": "2023-05-03T09:42:57.390Z"
   },
   {
    "duration": 316,
    "start_time": "2023-05-03T09:43:04.231Z"
   },
   {
    "duration": 340,
    "start_time": "2023-05-03T09:43:13.873Z"
   },
   {
    "duration": 354,
    "start_time": "2023-05-03T09:44:36.896Z"
   },
   {
    "duration": 457,
    "start_time": "2023-05-03T09:44:56.429Z"
   },
   {
    "duration": 374,
    "start_time": "2023-05-03T09:45:07.593Z"
   },
   {
    "duration": 417,
    "start_time": "2023-05-03T09:50:47.595Z"
   },
   {
    "duration": 371,
    "start_time": "2023-05-03T09:51:01.600Z"
   },
   {
    "duration": 218,
    "start_time": "2023-05-03T09:51:20.946Z"
   },
   {
    "duration": 239,
    "start_time": "2023-05-03T09:55:03.930Z"
   },
   {
    "duration": 425,
    "start_time": "2023-05-03T09:55:21.617Z"
   },
   {
    "duration": 1290,
    "start_time": "2023-05-03T09:56:07.504Z"
   },
   {
    "duration": 1319,
    "start_time": "2023-05-03T09:56:22.907Z"
   },
   {
    "duration": 1269,
    "start_time": "2023-05-03T09:56:39.912Z"
   },
   {
    "duration": 1309,
    "start_time": "2023-05-03T09:57:14.257Z"
   },
   {
    "duration": 1623,
    "start_time": "2023-05-03T09:58:44.860Z"
   },
   {
    "duration": 1416,
    "start_time": "2023-05-03T09:59:17.234Z"
   },
   {
    "duration": 1415,
    "start_time": "2023-05-03T10:00:01.162Z"
   },
   {
    "duration": 449,
    "start_time": "2023-05-03T10:00:35.623Z"
   },
   {
    "duration": 446,
    "start_time": "2023-05-03T10:01:08.729Z"
   },
   {
    "duration": 904,
    "start_time": "2023-05-03T10:01:36.004Z"
   },
   {
    "duration": 793,
    "start_time": "2023-05-03T10:01:59.345Z"
   },
   {
    "duration": 857,
    "start_time": "2023-05-03T10:02:30.541Z"
   },
   {
    "duration": 844,
    "start_time": "2023-05-03T10:02:55.786Z"
   },
   {
    "duration": 209,
    "start_time": "2023-05-03T10:03:28.137Z"
   },
   {
    "duration": 692,
    "start_time": "2023-05-03T10:03:45.747Z"
   },
   {
    "duration": 389,
    "start_time": "2023-05-03T10:04:08.232Z"
   },
   {
    "duration": 688,
    "start_time": "2023-05-03T10:04:16.203Z"
   },
   {
    "duration": 719,
    "start_time": "2023-05-03T10:05:45.292Z"
   },
   {
    "duration": 214,
    "start_time": "2023-05-03T10:05:59.325Z"
   },
   {
    "duration": 658,
    "start_time": "2023-05-03T10:06:10.114Z"
   },
   {
    "duration": 218,
    "start_time": "2023-05-03T10:07:33.522Z"
   },
   {
    "duration": 239,
    "start_time": "2023-05-03T10:07:43.746Z"
   },
   {
    "duration": 461,
    "start_time": "2023-05-03T10:08:12.103Z"
   },
   {
    "duration": 360,
    "start_time": "2023-05-03T10:10:39.747Z"
   },
   {
    "duration": 368,
    "start_time": "2023-05-03T10:11:28.836Z"
   },
   {
    "duration": 369,
    "start_time": "2023-05-03T10:11:55.996Z"
   },
   {
    "duration": 398,
    "start_time": "2023-05-03T10:13:01.289Z"
   },
   {
    "duration": 411,
    "start_time": "2023-05-03T10:13:17.232Z"
   },
   {
    "duration": 507,
    "start_time": "2023-05-03T10:14:26.410Z"
   },
   {
    "duration": 399,
    "start_time": "2023-05-03T10:14:36.386Z"
   },
   {
    "duration": 266,
    "start_time": "2023-05-03T10:14:55.806Z"
   },
   {
    "duration": 296,
    "start_time": "2023-05-03T10:15:31.896Z"
   },
   {
    "duration": 471,
    "start_time": "2023-05-03T10:15:37.705Z"
   },
   {
    "duration": 418,
    "start_time": "2023-05-03T10:15:57.795Z"
   },
   {
    "duration": 565,
    "start_time": "2023-05-03T10:16:04.381Z"
   },
   {
    "duration": 444,
    "start_time": "2023-05-03T10:17:52.428Z"
   },
   {
    "duration": 416,
    "start_time": "2023-05-03T10:21:39.414Z"
   },
   {
    "duration": 389,
    "start_time": "2023-05-03T10:21:46.595Z"
   },
   {
    "duration": 375,
    "start_time": "2023-05-03T10:22:36.929Z"
   },
   {
    "duration": 389,
    "start_time": "2023-05-03T10:22:45.717Z"
   },
   {
    "duration": 475,
    "start_time": "2023-05-03T10:22:52.689Z"
   },
   {
    "duration": 424,
    "start_time": "2023-05-03T10:29:30.448Z"
   },
   {
    "duration": 385,
    "start_time": "2023-05-03T10:29:45.593Z"
   },
   {
    "duration": 366,
    "start_time": "2023-05-03T10:30:01.110Z"
   },
   {
    "duration": 360,
    "start_time": "2023-05-03T10:30:07.919Z"
   },
   {
    "duration": 357,
    "start_time": "2023-05-03T10:30:25.296Z"
   },
   {
    "duration": 119,
    "start_time": "2023-05-03T10:34:11.420Z"
   },
   {
    "duration": 26,
    "start_time": "2023-05-03T10:34:18.333Z"
   },
   {
    "duration": 371,
    "start_time": "2023-05-03T10:34:25.212Z"
   },
   {
    "duration": 3,
    "start_time": "2023-05-03T10:35:29.051Z"
   },
   {
    "duration": 740,
    "start_time": "2023-05-03T10:35:29.058Z"
   },
   {
    "duration": 13,
    "start_time": "2023-05-03T10:35:29.800Z"
   },
   {
    "duration": 117,
    "start_time": "2023-05-03T10:35:29.814Z"
   },
   {
    "duration": 111,
    "start_time": "2023-05-03T10:35:29.932Z"
   },
   {
    "duration": 129,
    "start_time": "2023-05-03T10:35:33.053Z"
   },
   {
    "duration": 328,
    "start_time": "2023-05-03T10:35:34.245Z"
   },
   {
    "duration": 172,
    "start_time": "2023-05-03T10:37:21.685Z"
   },
   {
    "duration": 335,
    "start_time": "2023-05-03T10:38:13.659Z"
   },
   {
    "duration": 329,
    "start_time": "2023-05-03T10:38:31.810Z"
   },
   {
    "duration": 312,
    "start_time": "2023-05-03T10:39:04.979Z"
   },
   {
    "duration": 909,
    "start_time": "2023-05-03T10:39:34.008Z"
   },
   {
    "duration": 860,
    "start_time": "2023-05-03T10:40:35.483Z"
   },
   {
    "duration": 906,
    "start_time": "2023-05-03T10:40:54.155Z"
   },
   {
    "duration": 810,
    "start_time": "2023-05-03T10:41:08.984Z"
   },
   {
    "duration": 840,
    "start_time": "2023-05-03T10:41:41.117Z"
   },
   {
    "duration": 899,
    "start_time": "2023-05-03T10:42:12.729Z"
   },
   {
    "duration": 970,
    "start_time": "2023-05-03T10:42:20.518Z"
   },
   {
    "duration": 830,
    "start_time": "2023-05-03T10:42:57.483Z"
   },
   {
    "duration": 889,
    "start_time": "2023-05-03T10:43:15.524Z"
   },
   {
    "duration": 1456,
    "start_time": "2023-05-03T10:44:02.852Z"
   },
   {
    "duration": 79,
    "start_time": "2023-05-03T10:44:48.124Z"
   },
   {
    "duration": 1425,
    "start_time": "2023-05-03T10:45:00.036Z"
   },
   {
    "duration": 1425,
    "start_time": "2023-05-03T10:45:09.507Z"
   },
   {
    "duration": 3,
    "start_time": "2023-05-03T10:46:46.582Z"
   },
   {
    "duration": 906,
    "start_time": "2023-05-03T10:46:46.588Z"
   },
   {
    "duration": 21,
    "start_time": "2023-05-03T10:46:47.497Z"
   },
   {
    "duration": 222,
    "start_time": "2023-05-03T10:46:47.520Z"
   },
   {
    "duration": 208,
    "start_time": "2023-05-03T10:46:47.746Z"
   },
   {
    "duration": 157,
    "start_time": "2023-05-03T10:46:47.957Z"
   },
   {
    "duration": 1545,
    "start_time": "2023-05-03T10:46:48.117Z"
   },
   {
    "duration": 27,
    "start_time": "2023-05-03T10:46:56.315Z"
   },
   {
    "duration": 374,
    "start_time": "2023-05-03T10:47:01.452Z"
   },
   {
    "duration": 3,
    "start_time": "2023-05-03T10:48:53.023Z"
   },
   {
    "duration": 827,
    "start_time": "2023-05-03T10:48:53.028Z"
   },
   {
    "duration": 15,
    "start_time": "2023-05-03T10:48:53.857Z"
   },
   {
    "duration": 150,
    "start_time": "2023-05-03T10:48:53.874Z"
   },
   {
    "duration": 114,
    "start_time": "2023-05-03T10:48:54.026Z"
   },
   {
    "duration": 149,
    "start_time": "2023-05-03T10:48:54.143Z"
   },
   {
    "duration": 1543,
    "start_time": "2023-05-03T10:48:57.462Z"
   },
   {
    "duration": 1730,
    "start_time": "2023-05-03T10:49:35.742Z"
   },
   {
    "duration": 1589,
    "start_time": "2023-05-03T10:50:03.050Z"
   },
   {
    "duration": 1693,
    "start_time": "2023-05-03T10:50:37.074Z"
   },
   {
    "duration": 1745,
    "start_time": "2023-05-03T10:50:53.627Z"
   },
   {
    "duration": 69,
    "start_time": "2023-05-03T10:51:39.847Z"
   },
   {
    "duration": 1457,
    "start_time": "2023-05-03T10:51:47.188Z"
   },
   {
    "duration": 3,
    "start_time": "2023-05-03T10:52:12.516Z"
   },
   {
    "duration": 814,
    "start_time": "2023-05-03T10:52:12.522Z"
   },
   {
    "duration": 15,
    "start_time": "2023-05-03T10:52:13.339Z"
   },
   {
    "duration": 153,
    "start_time": "2023-05-03T10:52:13.357Z"
   },
   {
    "duration": 118,
    "start_time": "2023-05-03T10:52:13.512Z"
   },
   {
    "duration": 164,
    "start_time": "2023-05-03T10:52:13.632Z"
   },
   {
    "duration": 1607,
    "start_time": "2023-05-03T10:52:13.797Z"
   },
   {
    "duration": 56,
    "start_time": "2023-05-03T10:53:30.980Z"
   },
   {
    "duration": 94,
    "start_time": "2023-05-03T10:53:40.416Z"
   },
   {
    "duration": 3,
    "start_time": "2023-05-03T11:11:20.861Z"
   },
   {
    "duration": 853,
    "start_time": "2023-05-03T11:11:20.914Z"
   },
   {
    "duration": 14,
    "start_time": "2023-05-03T11:11:21.769Z"
   },
   {
    "duration": 157,
    "start_time": "2023-05-03T11:11:21.785Z"
   },
   {
    "duration": 120,
    "start_time": "2023-05-03T11:11:21.944Z"
   },
   {
    "duration": 158,
    "start_time": "2023-05-03T11:11:30.818Z"
   },
   {
    "duration": 104,
    "start_time": "2023-05-03T11:12:12.919Z"
   },
   {
    "duration": 44,
    "start_time": "2023-05-03T11:14:50.912Z"
   },
   {
    "duration": 59,
    "start_time": "2023-05-03T11:15:07.938Z"
   },
   {
    "duration": 18,
    "start_time": "2023-05-03T11:15:14.540Z"
   },
   {
    "duration": 204,
    "start_time": "2023-05-03T11:15:24.514Z"
   },
   {
    "duration": 30706,
    "start_time": "2023-05-03T11:18:38.121Z"
   },
   {
    "duration": 171,
    "start_time": "2023-05-03T11:19:45.052Z"
   },
   {
    "duration": 19,
    "start_time": "2023-05-03T11:21:29.723Z"
   },
   {
    "duration": 87,
    "start_time": "2023-05-03T11:25:03.310Z"
   },
   {
    "duration": 55,
    "start_time": "2023-05-03T11:25:08.388Z"
   },
   {
    "duration": 85,
    "start_time": "2023-05-03T11:25:21.319Z"
   },
   {
    "duration": 54,
    "start_time": "2023-05-03T11:25:59.618Z"
   },
   {
    "duration": 1088,
    "start_time": "2023-05-03T11:26:16.662Z"
   },
   {
    "duration": 1330,
    "start_time": "2023-05-03T11:27:48.320Z"
   },
   {
    "duration": 178,
    "start_time": "2023-05-03T11:28:51.755Z"
   },
   {
    "duration": 205,
    "start_time": "2023-05-03T11:29:04.685Z"
   },
   {
    "duration": 364,
    "start_time": "2023-05-03T11:30:45.933Z"
   },
   {
    "duration": 328,
    "start_time": "2023-05-03T11:31:05.925Z"
   },
   {
    "duration": 364,
    "start_time": "2023-05-03T11:31:16.925Z"
   },
   {
    "duration": 382,
    "start_time": "2023-05-03T11:31:27.023Z"
   },
   {
    "duration": 359,
    "start_time": "2023-05-03T11:31:33.022Z"
   },
   {
    "duration": 427,
    "start_time": "2023-05-03T11:34:49.907Z"
   },
   {
    "duration": 439,
    "start_time": "2023-05-03T11:35:00.129Z"
   },
   {
    "duration": 489,
    "start_time": "2023-05-03T11:35:15.731Z"
   },
   {
    "duration": 3781,
    "start_time": "2023-05-03T11:50:26.331Z"
   },
   {
    "duration": 790,
    "start_time": "2023-05-03T11:50:49.614Z"
   },
   {
    "duration": 775,
    "start_time": "2023-05-03T11:51:00.318Z"
   },
   {
    "duration": 811,
    "start_time": "2023-05-03T11:51:16.122Z"
   },
   {
    "duration": 775,
    "start_time": "2023-05-03T11:51:24.732Z"
   },
   {
    "duration": 3689,
    "start_time": "2023-05-03T11:51:30.105Z"
   },
   {
    "duration": 797,
    "start_time": "2023-05-03T11:52:40.822Z"
   },
   {
    "duration": 795,
    "start_time": "2023-05-03T11:53:02.444Z"
   },
   {
    "duration": 2889,
    "start_time": "2023-05-03T11:53:12.013Z"
   },
   {
    "duration": 796,
    "start_time": "2023-05-03T11:53:32.741Z"
   },
   {
    "duration": 845,
    "start_time": "2023-05-03T11:53:43.205Z"
   },
   {
    "duration": 756,
    "start_time": "2023-05-03T11:53:50.338Z"
   },
   {
    "duration": 878,
    "start_time": "2023-05-03T11:54:38.577Z"
   },
   {
    "duration": 1321,
    "start_time": "2023-05-03T12:04:25.008Z"
   },
   {
    "duration": 1197,
    "start_time": "2023-05-03T12:05:17.305Z"
   },
   {
    "duration": 1081,
    "start_time": "2023-05-03T12:05:35.518Z"
   },
   {
    "duration": 1139,
    "start_time": "2023-05-03T12:05:46.113Z"
   },
   {
    "duration": 1085,
    "start_time": "2023-05-03T12:06:17.610Z"
   },
   {
    "duration": 1274,
    "start_time": "2023-05-03T12:06:25.501Z"
   },
   {
    "duration": 1155,
    "start_time": "2023-05-03T12:08:31.731Z"
   },
   {
    "duration": 10,
    "start_time": "2023-05-03T12:09:49.502Z"
   },
   {
    "duration": 207,
    "start_time": "2023-05-03T12:12:50.412Z"
   },
   {
    "duration": 111,
    "start_time": "2023-05-03T12:13:08.846Z"
   },
   {
    "duration": 11,
    "start_time": "2023-05-03T12:13:23.498Z"
   },
   {
    "duration": 200,
    "start_time": "2023-05-03T12:13:34.019Z"
   },
   {
    "duration": 8,
    "start_time": "2023-05-03T12:13:39.617Z"
   },
   {
    "duration": 15,
    "start_time": "2023-05-03T12:13:51.475Z"
   },
   {
    "duration": 10,
    "start_time": "2023-05-03T12:14:10.889Z"
   },
   {
    "duration": 3,
    "start_time": "2023-05-03T12:14:21.115Z"
   },
   {
    "duration": 781,
    "start_time": "2023-05-03T12:14:21.120Z"
   },
   {
    "duration": 13,
    "start_time": "2023-05-03T12:14:21.903Z"
   },
   {
    "duration": 14,
    "start_time": "2023-05-03T12:14:21.917Z"
   },
   {
    "duration": 120,
    "start_time": "2023-05-03T12:14:21.933Z"
   },
   {
    "duration": 1162,
    "start_time": "2023-05-03T12:16:13.708Z"
   },
   {
    "duration": 3,
    "start_time": "2023-05-03T12:16:38.506Z"
   },
   {
    "duration": 806,
    "start_time": "2023-05-03T12:16:38.514Z"
   },
   {
    "duration": 14,
    "start_time": "2023-05-03T12:16:39.322Z"
   },
   {
    "duration": 12,
    "start_time": "2023-05-03T12:16:39.338Z"
   },
   {
    "duration": 120,
    "start_time": "2023-05-03T12:16:39.352Z"
   },
   {
    "duration": 97,
    "start_time": "2023-05-03T12:16:39.474Z"
   },
   {
    "duration": 42,
    "start_time": "2023-05-03T12:16:39.572Z"
   },
   {
    "duration": 114,
    "start_time": "2023-05-03T12:16:39.615Z"
   },
   {
    "duration": 1468,
    "start_time": "2023-05-03T12:16:39.731Z"
   },
   {
    "duration": 152,
    "start_time": "2023-05-03T12:16:41.200Z"
   },
   {
    "duration": 28,
    "start_time": "2023-05-03T12:16:41.354Z"
   },
   {
    "duration": 1163,
    "start_time": "2023-05-03T12:16:45.358Z"
   },
   {
    "duration": 2588,
    "start_time": "2023-05-03T13:26:39.701Z"
   },
   {
    "duration": 2876,
    "start_time": "2023-05-03T13:27:05.178Z"
   },
   {
    "duration": 3149,
    "start_time": "2023-05-03T13:27:20.258Z"
   },
   {
    "duration": 2440,
    "start_time": "2023-05-03T13:27:55.043Z"
   },
   {
    "duration": 3045,
    "start_time": "2023-05-03T13:28:10.997Z"
   },
   {
    "duration": 2870,
    "start_time": "2023-05-03T13:28:30.612Z"
   },
   {
    "duration": 2886,
    "start_time": "2023-05-03T13:28:55.740Z"
   },
   {
    "duration": 2626,
    "start_time": "2023-05-03T13:29:11.110Z"
   },
   {
    "duration": 2736,
    "start_time": "2023-05-03T13:29:37.502Z"
   },
   {
    "duration": 2435,
    "start_time": "2023-05-03T13:30:04.358Z"
   },
   {
    "duration": 3,
    "start_time": "2023-05-03T13:32:08.103Z"
   },
   {
    "duration": 838,
    "start_time": "2023-05-03T13:32:08.111Z"
   },
   {
    "duration": 14,
    "start_time": "2023-05-03T13:32:08.951Z"
   },
   {
    "duration": 28,
    "start_time": "2023-05-03T13:32:08.967Z"
   },
   {
    "duration": 116,
    "start_time": "2023-05-03T13:32:08.998Z"
   },
   {
    "duration": 107,
    "start_time": "2023-05-03T13:32:09.116Z"
   },
   {
    "duration": 27,
    "start_time": "2023-05-03T13:32:09.225Z"
   },
   {
    "duration": 119,
    "start_time": "2023-05-03T13:32:09.254Z"
   },
   {
    "duration": 188,
    "start_time": "2023-05-03T13:32:12.152Z"
   },
   {
    "duration": 2119,
    "start_time": "2023-05-03T13:32:13.427Z"
   },
   {
    "duration": 22,
    "start_time": "2023-05-03T13:34:34.907Z"
   },
   {
    "duration": 32,
    "start_time": "2023-05-03T13:34:54.580Z"
   },
   {
    "duration": 17,
    "start_time": "2023-05-03T13:35:07.911Z"
   },
   {
    "duration": 2210,
    "start_time": "2023-05-03T13:36:03.313Z"
   },
   {
    "duration": 2124,
    "start_time": "2023-05-03T13:36:21.128Z"
   },
   {
    "duration": 2173,
    "start_time": "2023-05-03T13:37:03.250Z"
   },
   {
    "duration": 2152,
    "start_time": "2023-05-03T13:37:20.108Z"
   },
   {
    "duration": 1966,
    "start_time": "2023-05-03T13:37:40.775Z"
   },
   {
    "duration": 2197,
    "start_time": "2023-05-03T13:40:26.364Z"
   },
   {
    "duration": 2080,
    "start_time": "2023-05-03T13:40:45.660Z"
   },
   {
    "duration": 2321,
    "start_time": "2023-05-03T13:41:42.611Z"
   },
   {
    "duration": 2302,
    "start_time": "2023-05-03T13:42:16.441Z"
   },
   {
    "duration": 89,
    "start_time": "2023-05-03T13:42:48.616Z"
   },
   {
    "duration": 1492,
    "start_time": "2023-05-03T13:43:42.072Z"
   },
   {
    "duration": 1576,
    "start_time": "2023-05-03T13:44:38.081Z"
   },
   {
    "duration": 1592,
    "start_time": "2023-05-03T13:44:57.863Z"
   },
   {
    "duration": 2150,
    "start_time": "2023-05-03T13:46:52.370Z"
   },
   {
    "duration": 1718,
    "start_time": "2023-05-03T13:47:12.942Z"
   },
   {
    "duration": 1494,
    "start_time": "2023-05-03T13:47:34.931Z"
   },
   {
    "duration": 1770,
    "start_time": "2023-05-03T13:47:44.677Z"
   },
   {
    "duration": 1459,
    "start_time": "2023-05-03T13:48:05.125Z"
   },
   {
    "duration": 1545,
    "start_time": "2023-05-03T13:48:12.749Z"
   },
   {
    "duration": 1738,
    "start_time": "2023-05-03T13:48:36.471Z"
   },
   {
    "duration": 1711,
    "start_time": "2023-05-03T13:48:52.240Z"
   },
   {
    "duration": 706,
    "start_time": "2023-05-03T13:54:31.465Z"
   },
   {
    "duration": 740,
    "start_time": "2023-05-03T13:54:50.798Z"
   },
   {
    "duration": 725,
    "start_time": "2023-05-03T13:55:23.419Z"
   },
   {
    "duration": 1789,
    "start_time": "2023-05-03T13:58:30.127Z"
   },
   {
    "duration": 1570,
    "start_time": "2023-05-03T13:59:37.246Z"
   },
   {
    "duration": 1473,
    "start_time": "2023-05-03T14:00:30.748Z"
   },
   {
    "duration": 761,
    "start_time": "2023-05-03T14:03:36.068Z"
   },
   {
    "duration": 25,
    "start_time": "2023-05-03T14:04:37.091Z"
   },
   {
    "duration": 8,
    "start_time": "2023-05-03T14:04:42.559Z"
   },
   {
    "duration": 5,
    "start_time": "2023-05-03T14:05:06.845Z"
   },
   {
    "duration": 6,
    "start_time": "2023-05-03T14:05:27.918Z"
   },
   {
    "duration": 1543,
    "start_time": "2023-05-03T14:06:25.623Z"
   },
   {
    "duration": 474,
    "start_time": "2023-05-03T14:14:45.785Z"
   },
   {
    "duration": 1489,
    "start_time": "2023-05-03T14:15:07.345Z"
   },
   {
    "duration": 1662,
    "start_time": "2023-05-03T14:15:18.870Z"
   },
   {
    "duration": 11,
    "start_time": "2023-05-03T14:15:31.881Z"
   },
   {
    "duration": 14534,
    "start_time": "2023-05-03T14:15:48.052Z"
   },
   {
    "duration": 13456,
    "start_time": "2023-05-03T14:16:26.106Z"
   },
   {
    "duration": 12998,
    "start_time": "2023-05-03T14:16:52.649Z"
   },
   {
    "duration": 13278,
    "start_time": "2023-05-03T14:19:03.961Z"
   },
   {
    "duration": 14340,
    "start_time": "2023-05-03T14:19:36.420Z"
   },
   {
    "duration": 12,
    "start_time": "2023-05-03T14:20:14.090Z"
   },
   {
    "duration": 9,
    "start_time": "2023-05-03T14:21:30.141Z"
   },
   {
    "duration": 14,
    "start_time": "2023-05-03T14:21:45.509Z"
   },
   {
    "duration": 11,
    "start_time": "2023-05-03T14:22:02.008Z"
   },
   {
    "duration": 18,
    "start_time": "2023-05-03T14:22:14.755Z"
   },
   {
    "duration": 10,
    "start_time": "2023-05-03T14:23:21.613Z"
   },
   {
    "duration": 16,
    "start_time": "2023-05-03T14:23:30.117Z"
   },
   {
    "duration": 110,
    "start_time": "2023-05-03T14:23:49.732Z"
   },
   {
    "duration": 167,
    "start_time": "2023-05-03T14:25:24.868Z"
   },
   {
    "duration": 3,
    "start_time": "2023-05-03T14:25:34.522Z"
   },
   {
    "duration": 762,
    "start_time": "2023-05-03T14:25:34.526Z"
   },
   {
    "duration": 13,
    "start_time": "2023-05-03T14:25:35.292Z"
   },
   {
    "duration": 12731,
    "start_time": "2023-05-03T14:25:35.306Z"
   },
   {
    "duration": 190,
    "start_time": "2023-05-03T14:26:05.923Z"
   },
   {
    "duration": 12,
    "start_time": "2023-05-03T14:26:50.654Z"
   },
   {
    "duration": 135,
    "start_time": "2023-05-03T14:27:09.470Z"
   },
   {
    "duration": 187,
    "start_time": "2023-05-03T14:27:55.408Z"
   },
   {
    "duration": 10,
    "start_time": "2023-05-03T14:27:57.743Z"
   },
   {
    "duration": 11,
    "start_time": "2023-05-03T14:28:41.033Z"
   },
   {
    "duration": 3,
    "start_time": "2023-05-03T14:28:45.944Z"
   },
   {
    "duration": 744,
    "start_time": "2023-05-03T14:28:45.949Z"
   },
   {
    "duration": 21,
    "start_time": "2023-05-03T14:28:46.695Z"
   },
   {
    "duration": 12961,
    "start_time": "2023-05-03T14:28:50.970Z"
   },
   {
    "duration": 12,
    "start_time": "2023-05-03T14:29:58.088Z"
   },
   {
    "duration": 13626,
    "start_time": "2023-05-03T14:30:10.638Z"
   },
   {
    "duration": 10683,
    "start_time": "2023-05-03T14:34:00.612Z"
   },
   {
    "duration": 17,
    "start_time": "2023-05-03T14:35:50.428Z"
   },
   {
    "duration": 11,
    "start_time": "2023-05-03T14:36:05.980Z"
   },
   {
    "duration": 9,
    "start_time": "2023-05-03T15:06:53.022Z"
   },
   {
    "duration": 4500,
    "start_time": "2023-05-03T15:07:27.323Z"
   },
   {
    "duration": 322,
    "start_time": "2023-05-03T15:08:01.572Z"
   },
   {
    "duration": 297,
    "start_time": "2023-05-03T15:09:09.295Z"
   },
   {
    "duration": 311,
    "start_time": "2023-05-03T15:10:20.698Z"
   },
   {
    "duration": 519,
    "start_time": "2023-05-03T15:10:53.998Z"
   },
   {
    "duration": 46,
    "start_time": "2023-05-03T15:12:34.418Z"
   },
   {
    "duration": 4,
    "start_time": "2023-05-03T15:21:30.256Z"
   },
   {
    "duration": 905,
    "start_time": "2023-05-03T15:21:30.263Z"
   },
   {
    "duration": 25,
    "start_time": "2023-05-03T15:21:31.171Z"
   },
   {
    "duration": 10823,
    "start_time": "2023-05-03T15:21:31.198Z"
   },
   {
    "duration": 128,
    "start_time": "2023-05-03T15:21:42.023Z"
   },
   {
    "duration": 116,
    "start_time": "2023-05-03T15:21:42.152Z"
   },
   {
    "duration": 41,
    "start_time": "2023-05-03T15:21:42.269Z"
   },
   {
    "duration": 114,
    "start_time": "2023-05-03T15:21:42.311Z"
   },
   {
    "duration": 1678,
    "start_time": "2023-05-03T15:21:42.428Z"
   },
   {
    "duration": 159,
    "start_time": "2023-05-03T15:21:44.109Z"
   },
   {
    "duration": 1484,
    "start_time": "2023-05-03T15:21:44.270Z"
   },
   {
    "duration": 190,
    "start_time": "2023-05-03T15:21:45.755Z"
   },
   {
    "duration": 176,
    "start_time": "2023-05-03T15:21:49.623Z"
   },
   {
    "duration": 206,
    "start_time": "2023-05-03T15:27:55.698Z"
   },
   {
    "duration": 53,
    "start_time": "2023-05-03T15:29:44.882Z"
   },
   {
    "duration": 5,
    "start_time": "2023-05-03T15:30:19.288Z"
   },
   {
    "duration": 4980,
    "start_time": "2023-05-03T15:48:53.235Z"
   },
   {
    "duration": 31,
    "start_time": "2023-05-03T15:49:57.052Z"
   },
   {
    "duration": 1681,
    "start_time": "2023-05-03T15:50:23.467Z"
   },
   {
    "duration": 5239,
    "start_time": "2023-05-03T15:50:36.535Z"
   },
   {
    "duration": 136,
    "start_time": "2023-05-03T16:16:55.546Z"
   },
   {
    "duration": 4,
    "start_time": "2023-05-03T16:20:01.397Z"
   },
   {
    "duration": 833,
    "start_time": "2023-05-03T16:20:01.403Z"
   },
   {
    "duration": 15,
    "start_time": "2023-05-03T16:20:02.238Z"
   },
   {
    "duration": 181,
    "start_time": "2023-05-03T16:20:02.255Z"
   },
   {
    "duration": 10892,
    "start_time": "2023-05-03T16:20:02.439Z"
   },
   {
    "duration": 7,
    "start_time": "2023-05-03T16:20:21.535Z"
   },
   {
    "duration": 2781,
    "start_time": "2023-05-03T16:23:38.917Z"
   },
   {
    "duration": 24,
    "start_time": "2023-05-03T16:24:57.160Z"
   },
   {
    "duration": 3,
    "start_time": "2023-05-03T16:25:09.696Z"
   },
   {
    "duration": 776,
    "start_time": "2023-05-03T16:25:09.702Z"
   },
   {
    "duration": 19,
    "start_time": "2023-05-03T16:25:10.480Z"
   },
   {
    "duration": 168,
    "start_time": "2023-05-03T16:25:10.502Z"
   },
   {
    "duration": 14627,
    "start_time": "2023-05-03T16:25:10.672Z"
   },
   {
    "duration": 136,
    "start_time": "2023-05-03T16:25:25.301Z"
   },
   {
    "duration": 107,
    "start_time": "2023-05-03T16:25:25.438Z"
   },
   {
    "duration": 5,
    "start_time": "2023-05-03T16:25:25.547Z"
   },
   {
    "duration": 39,
    "start_time": "2023-05-03T16:25:25.554Z"
   },
   {
    "duration": 116,
    "start_time": "2023-05-03T16:25:25.595Z"
   },
   {
    "duration": 1567,
    "start_time": "2023-05-03T16:25:25.713Z"
   },
   {
    "duration": 130,
    "start_time": "2023-05-03T16:25:27.282Z"
   },
   {
    "duration": 1506,
    "start_time": "2023-05-03T16:25:27.414Z"
   },
   {
    "duration": 167,
    "start_time": "2023-05-03T16:25:38.303Z"
   },
   {
    "duration": 2986,
    "start_time": "2023-05-03T16:25:40.322Z"
   },
   {
    "duration": 3,
    "start_time": "2023-05-03T16:26:29.791Z"
   },
   {
    "duration": 773,
    "start_time": "2023-05-03T16:26:29.796Z"
   },
   {
    "duration": 20,
    "start_time": "2023-05-03T16:26:30.571Z"
   },
   {
    "duration": 184,
    "start_time": "2023-05-03T16:26:30.593Z"
   },
   {
    "duration": 14593,
    "start_time": "2023-05-03T16:26:30.779Z"
   },
   {
    "duration": 121,
    "start_time": "2023-05-03T16:26:45.374Z"
   },
   {
    "duration": 96,
    "start_time": "2023-05-03T16:26:45.497Z"
   },
   {
    "duration": 6,
    "start_time": "2023-05-03T16:26:45.594Z"
   },
   {
    "duration": 22,
    "start_time": "2023-05-03T16:26:45.602Z"
   },
   {
    "duration": 108,
    "start_time": "2023-05-03T16:26:45.626Z"
   },
   {
    "duration": 1600,
    "start_time": "2023-05-03T16:26:45.736Z"
   },
   {
    "duration": 76,
    "start_time": "2023-05-03T16:26:47.338Z"
   },
   {
    "duration": 1460,
    "start_time": "2023-05-03T16:26:47.417Z"
   },
   {
    "duration": 154,
    "start_time": "2023-05-03T16:26:48.879Z"
   },
   {
    "duration": 153,
    "start_time": "2023-05-03T16:26:56.491Z"
   },
   {
    "duration": 2992,
    "start_time": "2023-05-03T16:26:58.488Z"
   },
   {
    "duration": 16,
    "start_time": "2023-05-03T16:27:27.539Z"
   },
   {
    "duration": 14,
    "start_time": "2023-05-03T16:27:45.582Z"
   },
   {
    "duration": 3,
    "start_time": "2023-05-03T16:28:07.214Z"
   },
   {
    "duration": 885,
    "start_time": "2023-05-03T16:28:07.219Z"
   },
   {
    "duration": 17,
    "start_time": "2023-05-03T16:28:08.106Z"
   },
   {
    "duration": 180,
    "start_time": "2023-05-03T16:28:08.125Z"
   },
   {
    "duration": 1411,
    "start_time": "2023-05-03T16:28:24.501Z"
   },
   {
    "duration": 1088,
    "start_time": "2023-05-03T16:28:25.914Z"
   },
   {
    "duration": 17,
    "start_time": "2023-05-03T16:28:27.004Z"
   },
   {
    "duration": 172,
    "start_time": "2023-05-03T16:28:27.023Z"
   },
   {
    "duration": 11668,
    "start_time": "2023-05-03T16:28:27.196Z"
   },
   {
    "duration": 128,
    "start_time": "2023-05-03T16:28:38.866Z"
   },
   {
    "duration": 119,
    "start_time": "2023-05-03T16:28:38.996Z"
   },
   {
    "duration": 7,
    "start_time": "2023-05-03T16:28:39.117Z"
   },
   {
    "duration": 40,
    "start_time": "2023-05-03T16:28:39.125Z"
   },
   {
    "duration": 89,
    "start_time": "2023-05-03T16:28:39.167Z"
   },
   {
    "duration": 1529,
    "start_time": "2023-05-03T16:28:39.258Z"
   },
   {
    "duration": 82,
    "start_time": "2023-05-03T16:28:40.791Z"
   },
   {
    "duration": 2650,
    "start_time": "2023-05-03T16:28:40.875Z"
   },
   {
    "duration": 102,
    "start_time": "2023-05-03T16:28:54.696Z"
   },
   {
    "duration": 1667,
    "start_time": "2023-05-03T16:28:56.339Z"
   },
   {
    "duration": 1411,
    "start_time": "2023-05-03T16:31:11.550Z"
   },
   {
    "duration": 1206,
    "start_time": "2023-05-03T16:31:12.963Z"
   },
   {
    "duration": 18,
    "start_time": "2023-05-03T16:31:14.170Z"
   },
   {
    "duration": 161,
    "start_time": "2023-05-03T16:31:14.191Z"
   },
   {
    "duration": 12040,
    "start_time": "2023-05-03T16:31:14.354Z"
   },
   {
    "duration": 133,
    "start_time": "2023-05-03T16:31:26.395Z"
   },
   {
    "duration": 110,
    "start_time": "2023-05-03T16:31:26.529Z"
   },
   {
    "duration": 6,
    "start_time": "2023-05-03T16:31:26.640Z"
   },
   {
    "duration": 45,
    "start_time": "2023-05-03T16:31:26.647Z"
   },
   {
    "duration": 69,
    "start_time": "2023-05-03T16:31:26.695Z"
   },
   {
    "duration": 1617,
    "start_time": "2023-05-03T16:31:26.766Z"
   },
   {
    "duration": 86,
    "start_time": "2023-05-03T16:31:28.385Z"
   },
   {
    "duration": 2546,
    "start_time": "2023-05-03T16:31:28.473Z"
   },
   {
    "duration": 105,
    "start_time": "2023-05-03T16:31:31.021Z"
   },
   {
    "duration": 63,
    "start_time": "2023-05-03T16:31:47.732Z"
   },
   {
    "duration": 1439,
    "start_time": "2023-05-03T16:32:15.134Z"
   },
   {
    "duration": 1199,
    "start_time": "2023-05-03T16:32:16.576Z"
   },
   {
    "duration": 17,
    "start_time": "2023-05-03T16:32:17.777Z"
   },
   {
    "duration": 162,
    "start_time": "2023-05-03T16:32:17.795Z"
   },
   {
    "duration": 11867,
    "start_time": "2023-05-03T16:32:17.959Z"
   },
   {
    "duration": 118,
    "start_time": "2023-05-03T16:32:29.827Z"
   },
   {
    "duration": 108,
    "start_time": "2023-05-03T16:32:29.947Z"
   },
   {
    "duration": 5,
    "start_time": "2023-05-03T16:32:30.057Z"
   },
   {
    "duration": 37,
    "start_time": "2023-05-03T16:32:30.064Z"
   },
   {
    "duration": 94,
    "start_time": "2023-05-03T16:32:30.103Z"
   },
   {
    "duration": 1552,
    "start_time": "2023-05-03T16:32:30.199Z"
   },
   {
    "duration": 88,
    "start_time": "2023-05-03T16:32:31.753Z"
   },
   {
    "duration": 2502,
    "start_time": "2023-05-03T16:32:31.843Z"
   },
   {
    "duration": 97,
    "start_time": "2023-05-03T16:32:39.255Z"
   },
   {
    "duration": 1396,
    "start_time": "2023-05-03T16:36:04.824Z"
   },
   {
    "duration": 113,
    "start_time": "2023-05-03T16:37:26.733Z"
   },
   {
    "duration": 11,
    "start_time": "2023-05-03T16:37:34.249Z"
   },
   {
    "duration": 3,
    "start_time": "2023-05-03T16:37:43.270Z"
   },
   {
    "duration": 1169,
    "start_time": "2023-05-03T16:37:43.275Z"
   },
   {
    "duration": 19,
    "start_time": "2023-05-03T16:37:44.446Z"
   },
   {
    "duration": 187,
    "start_time": "2023-05-03T16:37:44.467Z"
   },
   {
    "duration": 12644,
    "start_time": "2023-05-03T16:37:44.656Z"
   },
   {
    "duration": 154,
    "start_time": "2023-05-03T16:37:57.303Z"
   },
   {
    "duration": 138,
    "start_time": "2023-05-03T16:37:57.462Z"
   },
   {
    "duration": 8,
    "start_time": "2023-05-03T16:37:57.603Z"
   },
   {
    "duration": 38,
    "start_time": "2023-05-03T16:37:57.615Z"
   },
   {
    "duration": 154,
    "start_time": "2023-05-03T16:37:57.656Z"
   },
   {
    "duration": 1814,
    "start_time": "2023-05-03T16:37:57.812Z"
   },
   {
    "duration": 89,
    "start_time": "2023-05-03T16:37:59.629Z"
   },
   {
    "duration": 2932,
    "start_time": "2023-05-03T16:37:59.721Z"
   },
   {
    "duration": 129,
    "start_time": "2023-05-03T16:38:02.655Z"
   },
   {
    "duration": 116,
    "start_time": "2023-05-03T16:38:22.213Z"
   },
   {
    "duration": 59,
    "start_time": "2023-05-03T16:40:15.074Z"
   },
   {
    "duration": 1519,
    "start_time": "2023-05-03T16:40:23.940Z"
   },
   {
    "duration": 1220,
    "start_time": "2023-05-03T16:40:25.461Z"
   },
   {
    "duration": 22,
    "start_time": "2023-05-03T16:40:26.683Z"
   },
   {
    "duration": 185,
    "start_time": "2023-05-03T16:40:26.707Z"
   },
   {
    "duration": 12596,
    "start_time": "2023-05-03T16:40:26.896Z"
   },
   {
    "duration": 136,
    "start_time": "2023-05-03T16:40:39.494Z"
   },
   {
    "duration": 103,
    "start_time": "2023-05-03T16:40:39.632Z"
   },
   {
    "duration": 6,
    "start_time": "2023-05-03T16:40:39.736Z"
   },
   {
    "duration": 29,
    "start_time": "2023-05-03T16:40:39.744Z"
   },
   {
    "duration": 72,
    "start_time": "2023-05-03T16:40:39.794Z"
   },
   {
    "duration": 1727,
    "start_time": "2023-05-03T16:40:39.867Z"
   },
   {
    "duration": 77,
    "start_time": "2023-05-03T16:40:41.598Z"
   },
   {
    "duration": 2746,
    "start_time": "2023-05-03T16:40:41.676Z"
   },
   {
    "duration": 125,
    "start_time": "2023-05-03T16:40:44.424Z"
   },
   {
    "duration": 113,
    "start_time": "2023-05-03T16:40:51.006Z"
   },
   {
    "duration": 56,
    "start_time": "2023-05-03T16:41:01.373Z"
   },
   {
    "duration": 1492,
    "start_time": "2023-05-03T16:41:10.924Z"
   },
   {
    "duration": 1438,
    "start_time": "2023-05-03T16:41:12.419Z"
   },
   {
    "duration": 19,
    "start_time": "2023-05-03T16:41:13.859Z"
   },
   {
    "duration": 190,
    "start_time": "2023-05-03T16:41:13.881Z"
   },
   {
    "duration": 13080,
    "start_time": "2023-05-03T16:41:14.073Z"
   },
   {
    "duration": 151,
    "start_time": "2023-05-03T16:41:27.155Z"
   },
   {
    "duration": 115,
    "start_time": "2023-05-03T16:41:27.308Z"
   },
   {
    "duration": 8,
    "start_time": "2023-05-03T16:41:27.425Z"
   },
   {
    "duration": 35,
    "start_time": "2023-05-03T16:41:27.435Z"
   },
   {
    "duration": 128,
    "start_time": "2023-05-03T16:41:27.493Z"
   },
   {
    "duration": 1766,
    "start_time": "2023-05-03T16:41:27.623Z"
   },
   {
    "duration": 81,
    "start_time": "2023-05-03T16:41:29.391Z"
   },
   {
    "duration": 2849,
    "start_time": "2023-05-03T16:41:29.474Z"
   },
   {
    "duration": 105,
    "start_time": "2023-05-03T16:41:39.437Z"
   },
   {
    "duration": 56,
    "start_time": "2023-05-03T16:49:50.570Z"
   },
   {
    "duration": 1504,
    "start_time": "2023-05-03T16:50:19.216Z"
   },
   {
    "duration": 1240,
    "start_time": "2023-05-03T16:50:20.723Z"
   },
   {
    "duration": 22,
    "start_time": "2023-05-03T16:50:21.965Z"
   },
   {
    "duration": 182,
    "start_time": "2023-05-03T16:50:21.989Z"
   },
   {
    "duration": 12662,
    "start_time": "2023-05-03T16:50:22.173Z"
   },
   {
    "duration": 127,
    "start_time": "2023-05-03T16:50:34.837Z"
   },
   {
    "duration": 115,
    "start_time": "2023-05-03T16:50:34.966Z"
   },
   {
    "duration": 12,
    "start_time": "2023-05-03T16:50:35.082Z"
   },
   {
    "duration": 34,
    "start_time": "2023-05-03T16:50:35.096Z"
   },
   {
    "duration": 101,
    "start_time": "2023-05-03T16:50:35.133Z"
   },
   {
    "duration": 1640,
    "start_time": "2023-05-03T16:50:35.236Z"
   },
   {
    "duration": 86,
    "start_time": "2023-05-03T16:50:36.877Z"
   },
   {
    "duration": 2714,
    "start_time": "2023-05-03T16:50:36.964Z"
   },
   {
    "duration": 105,
    "start_time": "2023-05-03T16:50:39.679Z"
   },
   {
    "duration": 81,
    "start_time": "2023-05-03T17:09:29.945Z"
   },
   {
    "duration": 1657,
    "start_time": "2023-05-03T17:09:35.495Z"
   },
   {
    "duration": 1515,
    "start_time": "2023-05-03T17:09:37.154Z"
   },
   {
    "duration": 26,
    "start_time": "2023-05-03T17:09:38.672Z"
   },
   {
    "duration": 212,
    "start_time": "2023-05-03T17:09:38.701Z"
   },
   {
    "duration": 12928,
    "start_time": "2023-05-03T17:09:38.916Z"
   },
   {
    "duration": 129,
    "start_time": "2023-05-03T17:09:51.846Z"
   },
   {
    "duration": 127,
    "start_time": "2023-05-03T17:09:51.977Z"
   },
   {
    "duration": 8,
    "start_time": "2023-05-03T17:09:52.106Z"
   },
   {
    "duration": 43,
    "start_time": "2023-05-03T17:09:52.116Z"
   },
   {
    "duration": 92,
    "start_time": "2023-05-03T17:09:52.160Z"
   },
   {
    "duration": 1786,
    "start_time": "2023-05-03T17:09:52.254Z"
   },
   {
    "duration": 88,
    "start_time": "2023-05-03T17:09:54.042Z"
   },
   {
    "duration": 2629,
    "start_time": "2023-05-03T17:09:54.132Z"
   },
   {
    "duration": 143,
    "start_time": "2023-05-03T17:09:56.765Z"
   },
   {
    "duration": 70,
    "start_time": "2023-05-03T17:10:18.706Z"
   },
   {
    "duration": 1495,
    "start_time": "2023-05-03T17:10:52.591Z"
   },
   {
    "duration": 1143,
    "start_time": "2023-05-03T17:10:54.088Z"
   },
   {
    "duration": 16,
    "start_time": "2023-05-03T17:10:55.233Z"
   },
   {
    "duration": 155,
    "start_time": "2023-05-03T17:10:55.250Z"
   },
   {
    "duration": 12119,
    "start_time": "2023-05-03T17:10:55.407Z"
   },
   {
    "duration": 141,
    "start_time": "2023-05-03T17:11:07.528Z"
   },
   {
    "duration": 134,
    "start_time": "2023-05-03T17:11:07.670Z"
   },
   {
    "duration": 7,
    "start_time": "2023-05-03T17:11:07.806Z"
   },
   {
    "duration": 43,
    "start_time": "2023-05-03T17:11:07.815Z"
   },
   {
    "duration": 136,
    "start_time": "2023-05-03T17:11:07.865Z"
   },
   {
    "duration": 1736,
    "start_time": "2023-05-03T17:11:08.004Z"
   },
   {
    "duration": 85,
    "start_time": "2023-05-03T17:11:09.742Z"
   },
   {
    "duration": 2702,
    "start_time": "2023-05-03T17:11:09.829Z"
   },
   {
    "duration": 115,
    "start_time": "2023-05-03T17:11:12.533Z"
   },
   {
    "duration": 1509,
    "start_time": "2023-05-03T17:11:42.659Z"
   },
   {
    "duration": 1257,
    "start_time": "2023-05-03T17:11:44.170Z"
   },
   {
    "duration": 20,
    "start_time": "2023-05-03T17:11:45.428Z"
   },
   {
    "duration": 201,
    "start_time": "2023-05-03T17:11:45.450Z"
   },
   {
    "duration": 13018,
    "start_time": "2023-05-03T17:11:45.653Z"
   },
   {
    "duration": 197,
    "start_time": "2023-05-03T17:11:58.674Z"
   },
   {
    "duration": 120,
    "start_time": "2023-05-03T17:11:58.873Z"
   },
   {
    "duration": 7,
    "start_time": "2023-05-03T17:11:58.995Z"
   },
   {
    "duration": 42,
    "start_time": "2023-05-03T17:11:59.005Z"
   },
   {
    "duration": 124,
    "start_time": "2023-05-03T17:11:59.049Z"
   },
   {
    "duration": 1756,
    "start_time": "2023-05-03T17:11:59.175Z"
   },
   {
    "duration": 88,
    "start_time": "2023-05-03T17:12:00.933Z"
   },
   {
    "duration": 2659,
    "start_time": "2023-05-03T17:12:01.024Z"
   },
   {
    "duration": 129,
    "start_time": "2023-05-03T17:12:03.685Z"
   },
   {
    "duration": 69,
    "start_time": "2023-05-03T17:12:49.964Z"
   },
   {
    "duration": 9,
    "start_time": "2023-05-03T17:12:51.627Z"
   },
   {
    "duration": 9,
    "start_time": "2023-05-03T17:12:52.960Z"
   },
   {
    "duration": 10,
    "start_time": "2023-05-03T17:12:53.712Z"
   },
   {
    "duration": 10,
    "start_time": "2023-05-03T17:12:53.926Z"
   },
   {
    "duration": 10,
    "start_time": "2023-05-03T17:12:54.142Z"
   },
   {
    "duration": 1465,
    "start_time": "2023-05-03T17:13:24.797Z"
   },
   {
    "duration": 1226,
    "start_time": "2023-05-03T17:13:26.264Z"
   },
   {
    "duration": 19,
    "start_time": "2023-05-03T17:13:27.491Z"
   },
   {
    "duration": 185,
    "start_time": "2023-05-03T17:13:27.513Z"
   },
   {
    "duration": 12009,
    "start_time": "2023-05-03T17:13:27.701Z"
   },
   {
    "duration": 122,
    "start_time": "2023-05-03T17:13:39.712Z"
   },
   {
    "duration": 111,
    "start_time": "2023-05-03T17:13:39.835Z"
   },
   {
    "duration": 6,
    "start_time": "2023-05-03T17:13:39.947Z"
   },
   {
    "duration": 61,
    "start_time": "2023-05-03T17:13:39.955Z"
   },
   {
    "duration": 107,
    "start_time": "2023-05-03T17:13:40.019Z"
   },
   {
    "duration": 1559,
    "start_time": "2023-05-03T17:13:40.128Z"
   },
   {
    "duration": 75,
    "start_time": "2023-05-03T17:13:41.692Z"
   },
   {
    "duration": 2575,
    "start_time": "2023-05-03T17:13:41.769Z"
   },
   {
    "duration": 96,
    "start_time": "2023-05-03T17:13:50.674Z"
   },
   {
    "duration": 1507,
    "start_time": "2023-05-03T17:17:15.984Z"
   },
   {
    "duration": 1156,
    "start_time": "2023-05-03T17:17:17.493Z"
   },
   {
    "duration": 19,
    "start_time": "2023-05-03T17:17:18.651Z"
   },
   {
    "duration": 166,
    "start_time": "2023-05-03T17:17:18.671Z"
   },
   {
    "duration": 11695,
    "start_time": "2023-05-03T17:17:18.840Z"
   },
   {
    "duration": 154,
    "start_time": "2023-05-03T17:17:30.538Z"
   },
   {
    "duration": 117,
    "start_time": "2023-05-03T17:17:30.694Z"
   },
   {
    "duration": 5,
    "start_time": "2023-05-03T17:17:30.813Z"
   },
   {
    "duration": 37,
    "start_time": "2023-05-03T17:17:30.820Z"
   },
   {
    "duration": 94,
    "start_time": "2023-05-03T17:17:30.858Z"
   },
   {
    "duration": 1638,
    "start_time": "2023-05-03T17:17:30.954Z"
   },
   {
    "duration": 82,
    "start_time": "2023-05-03T17:17:32.594Z"
   },
   {
    "duration": 2481,
    "start_time": "2023-05-03T17:17:32.678Z"
   },
   {
    "duration": 109,
    "start_time": "2023-05-03T17:17:42.605Z"
   },
   {
    "duration": 4,
    "start_time": "2023-05-03T17:17:52.761Z"
   },
   {
    "duration": 811,
    "start_time": "2023-05-03T17:17:52.767Z"
   },
   {
    "duration": 18,
    "start_time": "2023-05-03T17:17:53.580Z"
   },
   {
    "duration": 169,
    "start_time": "2023-05-03T17:17:53.600Z"
   },
   {
    "duration": 11642,
    "start_time": "2023-05-03T17:17:53.771Z"
   },
   {
    "duration": 116,
    "start_time": "2023-05-03T17:18:05.415Z"
   },
   {
    "duration": 102,
    "start_time": "2023-05-03T17:18:05.533Z"
   },
   {
    "duration": 7,
    "start_time": "2023-05-03T17:18:05.636Z"
   },
   {
    "duration": 27,
    "start_time": "2023-05-03T17:18:05.645Z"
   },
   {
    "duration": 76,
    "start_time": "2023-05-03T17:18:05.674Z"
   },
   {
    "duration": 1529,
    "start_time": "2023-05-03T17:18:05.753Z"
   },
   {
    "duration": 69,
    "start_time": "2023-05-03T17:18:07.292Z"
   },
   {
    "duration": 1533,
    "start_time": "2023-05-03T17:18:07.363Z"
   },
   {
    "duration": 113,
    "start_time": "2023-05-03T17:18:12.673Z"
   },
   {
    "duration": 90,
    "start_time": "2023-05-03T17:50:43.359Z"
   },
   {
    "duration": 1575,
    "start_time": "2023-05-03T18:12:58.173Z"
   },
   {
    "duration": 1503,
    "start_time": "2023-05-03T18:13:20.274Z"
   },
   {
    "duration": 24,
    "start_time": "2023-05-03T18:13:41.721Z"
   },
   {
    "duration": 220,
    "start_time": "2023-05-03T18:14:03.330Z"
   },
   {
    "duration": 15047,
    "start_time": "2023-05-03T18:14:24.926Z"
   },
   {
    "duration": 148,
    "start_time": "2023-05-03T18:14:59.713Z"
   },
   {
    "duration": 131,
    "start_time": "2023-05-03T18:15:17.034Z"
   },
   {
    "duration": 9,
    "start_time": "2023-05-03T18:15:37.645Z"
   },
   {
    "duration": 30,
    "start_time": "2023-05-03T18:15:57.020Z"
   },
   {
    "duration": 86,
    "start_time": "2023-05-03T18:16:25.612Z"
   },
   {
    "duration": 1929,
    "start_time": "2023-05-03T18:16:44.007Z"
   },
   {
    "duration": 85,
    "start_time": "2023-05-03T18:17:06.241Z"
   },
   {
    "duration": 2748,
    "start_time": "2023-05-03T18:17:26.456Z"
   },
   {
    "duration": 132,
    "start_time": "2023-05-03T18:18:22.118Z"
   },
   {
    "duration": 69,
    "start_time": "2023-05-03T18:20:28.160Z"
   },
   {
    "duration": 27,
    "start_time": "2023-05-03T18:27:16.548Z"
   },
   {
    "duration": 1966,
    "start_time": "2023-05-03T18:27:24.779Z"
   },
   {
    "duration": 2697,
    "start_time": "2023-05-03T18:27:26.750Z"
   },
   {
    "duration": 29,
    "start_time": "2023-05-03T18:27:29.448Z"
   },
   {
    "duration": 239,
    "start_time": "2023-05-03T18:27:29.479Z"
   },
   {
    "duration": 14322,
    "start_time": "2023-05-03T18:27:29.721Z"
   },
   {
    "duration": 165,
    "start_time": "2023-05-03T18:27:44.047Z"
   },
   {
    "duration": 136,
    "start_time": "2023-05-03T18:27:44.216Z"
   },
   {
    "duration": 7,
    "start_time": "2023-05-03T18:27:44.355Z"
   },
   {
    "duration": 59,
    "start_time": "2023-05-03T18:27:44.364Z"
   },
   {
    "duration": 108,
    "start_time": "2023-05-03T18:27:44.425Z"
   },
   {
    "duration": 2178,
    "start_time": "2023-05-03T18:27:44.541Z"
   },
   {
    "duration": 119,
    "start_time": "2023-05-03T18:27:46.721Z"
   },
   {
    "duration": 3082,
    "start_time": "2023-05-03T18:27:46.846Z"
   },
   {
    "duration": 173,
    "start_time": "2023-05-03T18:27:51.041Z"
   },
   {
    "duration": 61,
    "start_time": "2023-05-03T18:29:35.924Z"
   },
   {
    "duration": 1850,
    "start_time": "2023-05-03T18:39:18.354Z"
   },
   {
    "duration": 2061,
    "start_time": "2023-05-03T18:39:20.208Z"
   },
   {
    "duration": 43,
    "start_time": "2023-05-03T18:39:22.270Z"
   },
   {
    "duration": 251,
    "start_time": "2023-05-03T18:39:22.322Z"
   },
   {
    "duration": 14964,
    "start_time": "2023-05-03T18:39:22.586Z"
   },
   {
    "duration": 220,
    "start_time": "2023-05-03T18:39:37.552Z"
   },
   {
    "duration": 151,
    "start_time": "2023-05-03T18:39:37.774Z"
   },
   {
    "duration": 14,
    "start_time": "2023-05-03T18:39:37.930Z"
   },
   {
    "duration": 43,
    "start_time": "2023-05-03T18:39:37.947Z"
   },
   {
    "duration": 127,
    "start_time": "2023-05-03T18:39:37.994Z"
   },
   {
    "duration": 2238,
    "start_time": "2023-05-03T18:39:38.124Z"
   },
   {
    "duration": 88,
    "start_time": "2023-05-03T18:39:40.364Z"
   },
   {
    "duration": 2965,
    "start_time": "2023-05-03T18:39:40.454Z"
   },
   {
    "duration": 46,
    "start_time": "2023-05-03T18:39:47.083Z"
   },
   {
    "duration": 1894,
    "start_time": "2023-05-03T18:39:48.615Z"
   },
   {
    "duration": 127,
    "start_time": "2023-05-03T18:39:55.847Z"
   },
   {
    "duration": 66,
    "start_time": "2023-05-03T18:54:27.180Z"
   },
   {
    "duration": 1744,
    "start_time": "2023-05-03T18:54:32.123Z"
   },
   {
    "duration": 1670,
    "start_time": "2023-05-03T18:54:33.870Z"
   },
   {
    "duration": 18,
    "start_time": "2023-05-03T18:54:35.552Z"
   },
   {
    "duration": 191,
    "start_time": "2023-05-03T18:54:35.572Z"
   },
   {
    "duration": 14668,
    "start_time": "2023-05-03T18:54:35.765Z"
   },
   {
    "duration": 177,
    "start_time": "2023-05-03T18:54:50.435Z"
   },
   {
    "duration": 135,
    "start_time": "2023-05-03T18:54:50.614Z"
   },
   {
    "duration": 9,
    "start_time": "2023-05-03T18:54:50.753Z"
   },
   {
    "duration": 29,
    "start_time": "2023-05-03T18:54:50.766Z"
   },
   {
    "duration": 128,
    "start_time": "2023-05-03T18:54:50.797Z"
   },
   {
    "duration": 2062,
    "start_time": "2023-05-03T18:54:50.926Z"
   },
   {
    "duration": 83,
    "start_time": "2023-05-03T18:54:52.990Z"
   },
   {
    "duration": 2944,
    "start_time": "2023-05-03T18:54:53.075Z"
   },
   {
    "duration": 129,
    "start_time": "2023-05-03T18:54:56.020Z"
   },
   {
    "duration": 4,
    "start_time": "2023-05-03T18:55:02.547Z"
   },
   {
    "duration": 1539,
    "start_time": "2023-05-03T19:35:55.388Z"
   },
   {
    "duration": 3,
    "start_time": "2023-05-03T19:36:23.513Z"
   },
   {
    "duration": 127,
    "start_time": "2023-05-03T19:36:46.252Z"
   },
   {
    "duration": 3,
    "start_time": "2023-05-03T19:36:52.680Z"
   },
   {
    "duration": 1489,
    "start_time": "2023-05-03T19:36:52.685Z"
   },
   {
    "duration": 23,
    "start_time": "2023-05-03T19:36:54.176Z"
   },
   {
    "duration": 209,
    "start_time": "2023-05-03T19:36:54.202Z"
   },
   {
    "duration": 14241,
    "start_time": "2023-05-03T19:36:54.414Z"
   },
   {
    "duration": 200,
    "start_time": "2023-05-03T19:37:08.657Z"
   },
   {
    "duration": 127,
    "start_time": "2023-05-03T19:37:08.859Z"
   },
   {
    "duration": 13,
    "start_time": "2023-05-03T19:37:08.988Z"
   },
   {
    "duration": 32,
    "start_time": "2023-05-03T19:37:09.008Z"
   },
   {
    "duration": 102,
    "start_time": "2023-05-03T19:37:09.041Z"
   },
   {
    "duration": 1931,
    "start_time": "2023-05-03T19:37:09.146Z"
   },
   {
    "duration": 94,
    "start_time": "2023-05-03T19:37:11.079Z"
   },
   {
    "duration": 2844,
    "start_time": "2023-05-03T19:37:11.175Z"
   },
   {
    "duration": 128,
    "start_time": "2023-05-03T19:37:14.021Z"
   },
   {
    "duration": 2,
    "start_time": "2023-05-03T19:37:14.151Z"
   },
   {
    "duration": 3,
    "start_time": "2023-05-03T19:37:26.844Z"
   },
   {
    "duration": 84,
    "start_time": "2023-05-03T19:37:28.385Z"
   },
   {
    "duration": 3,
    "start_time": "2023-05-03T19:45:23.108Z"
   },
   {
    "duration": 4,
    "start_time": "2023-05-03T19:46:20.142Z"
   },
   {
    "duration": 85,
    "start_time": "2023-05-03T19:46:21.551Z"
   },
   {
    "duration": 3,
    "start_time": "2023-05-03T19:48:32.671Z"
   },
   {
    "duration": 85,
    "start_time": "2023-05-03T19:48:34.920Z"
   },
   {
    "duration": 4,
    "start_time": "2023-05-03T19:54:17.343Z"
   },
   {
    "duration": 92,
    "start_time": "2023-05-03T19:54:18.871Z"
   },
   {
    "duration": 3,
    "start_time": "2023-05-03T19:58:49.898Z"
   },
   {
    "duration": 66,
    "start_time": "2023-05-03T19:58:51.337Z"
   },
   {
    "duration": 981,
    "start_time": "2023-05-03T20:11:21.285Z"
   },
   {
    "duration": 747,
    "start_time": "2023-05-03T20:11:24.490Z"
   },
   {
    "duration": 17,
    "start_time": "2023-05-03T20:11:27.618Z"
   },
   {
    "duration": 1675,
    "start_time": "2023-05-03T20:12:15.188Z"
   },
   {
    "duration": 1285,
    "start_time": "2023-05-03T20:12:16.865Z"
   },
   {
    "duration": 24,
    "start_time": "2023-05-03T20:12:18.153Z"
   },
   {
    "duration": 229,
    "start_time": "2023-05-03T20:12:18.180Z"
   },
   {
    "duration": 13663,
    "start_time": "2023-05-03T20:12:18.412Z"
   },
   {
    "duration": 157,
    "start_time": "2023-05-03T20:12:32.077Z"
   },
   {
    "duration": 125,
    "start_time": "2023-05-03T20:12:32.240Z"
   },
   {
    "duration": 7,
    "start_time": "2023-05-03T20:12:32.367Z"
   },
   {
    "duration": 44,
    "start_time": "2023-05-03T20:12:32.376Z"
   },
   {
    "duration": 130,
    "start_time": "2023-05-03T20:12:32.424Z"
   },
   {
    "duration": 1864,
    "start_time": "2023-05-03T20:12:32.557Z"
   },
   {
    "duration": 91,
    "start_time": "2023-05-03T20:12:34.423Z"
   },
   {
    "duration": 2630,
    "start_time": "2023-05-03T20:12:34.516Z"
   },
   {
    "duration": 932,
    "start_time": "2023-05-03T20:12:37.148Z"
   },
   {
    "duration": 582,
    "start_time": "2023-05-03T20:12:38.083Z"
   },
   {
    "duration": 3,
    "start_time": "2023-05-03T20:13:09.583Z"
   },
   {
    "duration": 48,
    "start_time": "2023-05-03T20:13:57.209Z"
   },
   {
    "duration": 1555,
    "start_time": "2023-05-03T20:14:02.782Z"
   },
   {
    "duration": 1324,
    "start_time": "2023-05-03T20:14:04.340Z"
   },
   {
    "duration": 21,
    "start_time": "2023-05-03T20:14:05.666Z"
   },
   {
    "duration": 192,
    "start_time": "2023-05-03T20:14:05.689Z"
   },
   {
    "duration": 13760,
    "start_time": "2023-05-03T20:14:05.884Z"
   },
   {
    "duration": 136,
    "start_time": "2023-05-03T20:14:19.646Z"
   },
   {
    "duration": 131,
    "start_time": "2023-05-03T20:14:19.784Z"
   },
   {
    "duration": 6,
    "start_time": "2023-05-03T20:14:19.917Z"
   },
   {
    "duration": 57,
    "start_time": "2023-05-03T20:14:19.925Z"
   },
   {
    "duration": 137,
    "start_time": "2023-05-03T20:14:19.984Z"
   },
   {
    "duration": 1861,
    "start_time": "2023-05-03T20:14:20.124Z"
   },
   {
    "duration": 94,
    "start_time": "2023-05-03T20:14:21.986Z"
   },
   {
    "duration": 2996,
    "start_time": "2023-05-03T20:14:22.082Z"
   },
   {
    "duration": 920,
    "start_time": "2023-05-03T20:14:25.080Z"
   },
   {
    "duration": 571,
    "start_time": "2023-05-03T20:14:26.002Z"
   },
   {
    "duration": 3,
    "start_time": "2023-05-03T20:14:31.453Z"
   },
   {
    "duration": 44,
    "start_time": "2023-05-03T20:16:10.041Z"
   },
   {
    "duration": 1663,
    "start_time": "2023-05-03T20:16:45.284Z"
   },
   {
    "duration": 1365,
    "start_time": "2023-05-03T20:16:46.950Z"
   },
   {
    "duration": 28,
    "start_time": "2023-05-03T20:16:48.317Z"
   },
   {
    "duration": 44,
    "start_time": "2023-05-03T20:17:29.428Z"
   },
   {
    "duration": 37,
    "start_time": "2023-05-03T20:17:46.452Z"
   },
   {
    "duration": 61,
    "start_time": "2023-05-03T20:18:27.687Z"
   },
   {
    "duration": 63,
    "start_time": "2023-05-03T20:18:29.076Z"
   },
   {
    "duration": 54,
    "start_time": "2023-05-03T20:18:34.514Z"
   },
   {
    "duration": 71,
    "start_time": "2023-05-03T20:18:51.787Z"
   },
   {
    "duration": 2091,
    "start_time": "2023-05-03T20:19:07.968Z"
   },
   {
    "duration": 54,
    "start_time": "2023-05-03T20:19:18.133Z"
   },
   {
    "duration": 1338,
    "start_time": "2023-05-03T20:19:39.280Z"
   },
   {
    "duration": 57,
    "start_time": "2023-05-03T20:20:44.486Z"
   },
   {
    "duration": 108,
    "start_time": "2023-05-03T20:21:55.997Z"
   },
   {
    "duration": 74,
    "start_time": "2023-05-03T20:22:05.923Z"
   },
   {
    "duration": 67,
    "start_time": "2023-05-03T20:22:26.957Z"
   },
   {
    "duration": 73,
    "start_time": "2023-05-03T20:22:37.492Z"
   },
   {
    "duration": 68,
    "start_time": "2023-05-03T20:22:49.944Z"
   },
   {
    "duration": 72,
    "start_time": "2023-05-03T20:22:58.139Z"
   },
   {
    "duration": 68,
    "start_time": "2023-05-03T20:23:06.028Z"
   },
   {
    "duration": 67,
    "start_time": "2023-05-03T20:23:18.207Z"
   },
   {
    "duration": 76,
    "start_time": "2023-05-03T20:23:28.489Z"
   },
   {
    "duration": 66,
    "start_time": "2023-05-03T20:23:53.489Z"
   },
   {
    "duration": 49,
    "start_time": "2023-05-03T20:24:04.781Z"
   },
   {
    "duration": 67,
    "start_time": "2023-05-03T20:26:37.688Z"
   },
   {
    "duration": 74,
    "start_time": "2023-05-03T20:27:32.731Z"
   },
   {
    "duration": 69,
    "start_time": "2023-05-03T20:27:41.549Z"
   },
   {
    "duration": 89,
    "start_time": "2023-05-03T20:27:47.736Z"
   },
   {
    "duration": 76,
    "start_time": "2023-05-03T20:28:02.395Z"
   },
   {
    "duration": 38,
    "start_time": "2023-05-03T20:28:22.574Z"
   },
   {
    "duration": 46,
    "start_time": "2023-05-03T20:28:36.322Z"
   },
   {
    "duration": 38,
    "start_time": "2023-05-03T20:29:08.659Z"
   },
   {
    "duration": 66,
    "start_time": "2023-05-03T20:29:14.609Z"
   },
   {
    "duration": 46,
    "start_time": "2023-05-03T20:29:28.238Z"
   },
   {
    "duration": 39,
    "start_time": "2023-05-03T20:29:37.817Z"
   },
   {
    "duration": 53,
    "start_time": "2023-05-03T20:29:42.816Z"
   },
   {
    "duration": 36,
    "start_time": "2023-05-03T20:29:54.188Z"
   },
   {
    "duration": 131,
    "start_time": "2023-05-03T20:31:42.387Z"
   },
   {
    "duration": 110,
    "start_time": "2023-05-03T20:32:21.160Z"
   },
   {
    "duration": 65,
    "start_time": "2023-05-03T20:34:37.680Z"
   },
   {
    "duration": 53,
    "start_time": "2023-05-03T20:35:31.787Z"
   },
   {
    "duration": 36,
    "start_time": "2023-05-03T20:36:06.175Z"
   },
   {
    "duration": 26,
    "start_time": "2023-05-03T20:36:48.168Z"
   },
   {
    "duration": 91,
    "start_time": "2023-05-03T20:38:06.708Z"
   },
   {
    "duration": 15,
    "start_time": "2023-05-03T20:38:39.738Z"
   },
   {
    "duration": 34,
    "start_time": "2023-05-03T20:41:10.364Z"
   },
   {
    "duration": 81,
    "start_time": "2023-05-03T20:42:44.709Z"
   },
   {
    "duration": 21,
    "start_time": "2023-05-03T20:42:59.499Z"
   },
   {
    "duration": 3,
    "start_time": "2023-05-03T20:44:30.045Z"
   },
   {
    "duration": 1046,
    "start_time": "2023-05-03T20:44:30.051Z"
   },
   {
    "duration": 14,
    "start_time": "2023-05-03T20:44:31.100Z"
   },
   {
    "duration": 280,
    "start_time": "2023-05-03T20:44:31.116Z"
   },
   {
    "duration": 122,
    "start_time": "2023-05-03T20:44:31.399Z"
   },
   {
    "duration": 15280,
    "start_time": "2023-05-03T20:44:31.524Z"
   },
   {
    "duration": 169,
    "start_time": "2023-05-03T20:44:46.808Z"
   },
   {
    "duration": 129,
    "start_time": "2023-05-03T20:44:46.978Z"
   },
   {
    "duration": 8,
    "start_time": "2023-05-03T20:44:47.110Z"
   },
   {
    "duration": 28,
    "start_time": "2023-05-03T20:44:47.122Z"
   },
   {
    "duration": 105,
    "start_time": "2023-05-03T20:44:47.151Z"
   },
   {
    "duration": 1750,
    "start_time": "2023-05-03T20:44:47.258Z"
   },
   {
    "duration": 61,
    "start_time": "2023-05-03T20:44:49.010Z"
   },
   {
    "duration": 1706,
    "start_time": "2023-05-03T20:44:49.073Z"
   },
   {
    "duration": 67,
    "start_time": "2023-05-03T20:44:50.781Z"
   },
   {
    "duration": 84,
    "start_time": "2023-05-03T20:44:50.851Z"
   },
   {
    "duration": 160,
    "start_time": "2023-05-03T20:44:57.899Z"
   },
   {
    "duration": 136,
    "start_time": "2023-05-03T20:44:59.657Z"
   },
   {
    "duration": 3,
    "start_time": "2023-05-03T20:45:01.312Z"
   },
   {
    "duration": 50,
    "start_time": "2023-05-03T20:45:13.507Z"
   },
   {
    "duration": 1615,
    "start_time": "2023-05-03T20:55:54.444Z"
   },
   {
    "duration": 1418,
    "start_time": "2023-05-03T20:55:56.061Z"
   },
   {
    "duration": 26,
    "start_time": "2023-05-03T20:55:57.482Z"
   },
   {
    "duration": 248,
    "start_time": "2023-05-03T20:55:57.510Z"
   },
   {
    "duration": 112,
    "start_time": "2023-05-03T20:55:57.761Z"
   },
   {
    "duration": 13819,
    "start_time": "2023-05-03T20:55:57.877Z"
   },
   {
    "duration": 124,
    "start_time": "2023-05-03T20:56:11.699Z"
   },
   {
    "duration": 100,
    "start_time": "2023-05-03T20:56:11.832Z"
   },
   {
    "duration": 5,
    "start_time": "2023-05-03T20:56:11.934Z"
   },
   {
    "duration": 31,
    "start_time": "2023-05-03T20:56:11.942Z"
   },
   {
    "duration": 76,
    "start_time": "2023-05-03T20:56:11.975Z"
   },
   {
    "duration": 1576,
    "start_time": "2023-05-03T20:56:12.053Z"
   },
   {
    "duration": 70,
    "start_time": "2023-05-03T20:56:13.631Z"
   },
   {
    "duration": 1599,
    "start_time": "2023-05-03T20:56:13.704Z"
   },
   {
    "duration": 56,
    "start_time": "2023-05-03T20:56:15.304Z"
   },
   {
    "duration": 51,
    "start_time": "2023-05-03T20:56:15.362Z"
   },
   {
    "duration": 71,
    "start_time": "2023-05-03T20:56:20.636Z"
   },
   {
    "duration": 80,
    "start_time": "2023-05-03T20:56:23.008Z"
   },
   {
    "duration": 30,
    "start_time": "2023-05-03T20:56:32.916Z"
   },
   {
    "duration": 75,
    "start_time": "2023-05-03T20:56:41.430Z"
   },
   {
    "duration": 3,
    "start_time": "2023-05-03T20:56:43.488Z"
   },
   {
    "duration": 61,
    "start_time": "2023-05-03T20:56:47.019Z"
   },
   {
    "duration": 16,
    "start_time": "2023-05-03T20:59:39.888Z"
   },
   {
    "duration": 5,
    "start_time": "2023-05-03T20:59:46.415Z"
   },
   {
    "duration": 1144,
    "start_time": "2023-05-03T20:59:46.422Z"
   },
   {
    "duration": 14,
    "start_time": "2023-05-03T20:59:47.568Z"
   },
   {
    "duration": 1521,
    "start_time": "2023-05-03T20:59:47.591Z"
   },
   {
    "duration": 118,
    "start_time": "2023-05-03T20:59:49.114Z"
   },
   {
    "duration": 16855,
    "start_time": "2023-05-03T20:59:49.234Z"
   },
   {
    "duration": 142,
    "start_time": "2023-05-03T21:00:06.100Z"
   },
   {
    "duration": 108,
    "start_time": "2023-05-03T21:00:06.245Z"
   },
   {
    "duration": 11,
    "start_time": "2023-05-03T21:00:06.356Z"
   },
   {
    "duration": 76,
    "start_time": "2023-05-03T21:00:06.370Z"
   },
   {
    "duration": 237,
    "start_time": "2023-05-03T21:00:06.452Z"
   },
   {
    "duration": 2003,
    "start_time": "2023-05-03T21:00:06.691Z"
   },
   {
    "duration": 55,
    "start_time": "2023-05-03T21:00:08.696Z"
   },
   {
    "duration": 2064,
    "start_time": "2023-05-03T21:00:08.753Z"
   },
   {
    "duration": 69,
    "start_time": "2023-05-03T21:00:10.819Z"
   },
   {
    "duration": 78,
    "start_time": "2023-05-03T21:00:10.891Z"
   },
   {
    "duration": 208,
    "start_time": "2023-05-03T21:00:10.970Z"
   },
   {
    "duration": 115,
    "start_time": "2023-05-03T21:00:11.181Z"
   },
   {
    "duration": 108,
    "start_time": "2023-05-03T21:00:14.873Z"
   },
   {
    "duration": 8,
    "start_time": "2023-05-03T21:00:17.932Z"
   },
   {
    "duration": 22,
    "start_time": "2023-05-03T21:00:20.347Z"
   },
   {
    "duration": 4,
    "start_time": "2023-05-03T21:02:51.958Z"
   },
   {
    "duration": 1068,
    "start_time": "2023-05-03T21:02:51.964Z"
   },
   {
    "duration": 21,
    "start_time": "2023-05-03T21:02:53.039Z"
   },
   {
    "duration": 1622,
    "start_time": "2023-05-03T21:02:53.062Z"
   },
   {
    "duration": 145,
    "start_time": "2023-05-03T21:02:54.687Z"
   },
   {
    "duration": 17005,
    "start_time": "2023-05-03T21:02:54.841Z"
   },
   {
    "duration": 116,
    "start_time": "2023-05-03T21:03:11.848Z"
   },
   {
    "duration": 120,
    "start_time": "2023-05-03T21:03:11.966Z"
   },
   {
    "duration": 20,
    "start_time": "2023-05-03T21:03:12.093Z"
   },
   {
    "duration": 86,
    "start_time": "2023-05-03T21:03:12.120Z"
   },
   {
    "duration": 131,
    "start_time": "2023-05-03T21:03:12.210Z"
   },
   {
    "duration": 1879,
    "start_time": "2023-05-03T21:03:12.344Z"
   },
   {
    "duration": 46,
    "start_time": "2023-05-03T21:03:14.225Z"
   },
   {
    "duration": 2067,
    "start_time": "2023-05-03T21:03:14.274Z"
   },
   {
    "duration": 77,
    "start_time": "2023-05-03T21:03:16.344Z"
   },
   {
    "duration": 84,
    "start_time": "2023-05-03T21:03:16.427Z"
   },
   {
    "duration": 109,
    "start_time": "2023-05-03T21:03:16.524Z"
   },
   {
    "duration": 104,
    "start_time": "2023-05-03T21:03:19.455Z"
   },
   {
    "duration": 14,
    "start_time": "2023-05-03T21:03:21.212Z"
   },
   {
    "duration": 16,
    "start_time": "2023-05-03T21:03:23.117Z"
   },
   {
    "duration": 4,
    "start_time": "2023-05-03T21:11:51.133Z"
   },
   {
    "duration": 4,
    "start_time": "2023-05-03T21:12:07.821Z"
   },
   {
    "duration": 21,
    "start_time": "2023-05-03T21:12:09.459Z"
   },
   {
    "duration": 14,
    "start_time": "2023-05-03T21:20:18.117Z"
   },
   {
    "duration": 1182,
    "start_time": "2023-05-03T21:20:34.981Z"
   },
   {
    "duration": 3,
    "start_time": "2023-05-03T21:20:54.078Z"
   },
   {
    "duration": 938,
    "start_time": "2023-05-03T21:20:54.084Z"
   },
   {
    "duration": 16,
    "start_time": "2023-05-03T21:20:55.025Z"
   },
   {
    "duration": 1318,
    "start_time": "2023-05-03T21:20:55.047Z"
   },
   {
    "duration": 92,
    "start_time": "2023-05-03T21:20:56.367Z"
   },
   {
    "duration": 13569,
    "start_time": "2023-05-03T21:20:56.461Z"
   },
   {
    "duration": 112,
    "start_time": "2023-05-03T21:21:10.032Z"
   },
   {
    "duration": 102,
    "start_time": "2023-05-03T21:21:10.146Z"
   },
   {
    "duration": 6,
    "start_time": "2023-05-03T21:21:10.250Z"
   },
   {
    "duration": 41,
    "start_time": "2023-05-03T21:21:10.257Z"
   },
   {
    "duration": 61,
    "start_time": "2023-05-03T21:21:10.301Z"
   },
   {
    "duration": 1493,
    "start_time": "2023-05-03T21:21:10.364Z"
   },
   {
    "duration": 55,
    "start_time": "2023-05-03T21:21:11.859Z"
   },
   {
    "duration": 1579,
    "start_time": "2023-05-03T21:21:11.916Z"
   },
   {
    "duration": 59,
    "start_time": "2023-05-03T21:21:13.497Z"
   },
   {
    "duration": 73,
    "start_time": "2023-05-03T21:21:13.558Z"
   },
   {
    "duration": 12,
    "start_time": "2023-05-03T21:21:13.634Z"
   },
   {
    "duration": 23,
    "start_time": "2023-05-03T21:21:18.174Z"
   },
   {
    "duration": 1187,
    "start_time": "2023-05-03T21:21:26.519Z"
   },
   {
    "duration": 97,
    "start_time": "2023-05-03T21:22:59.379Z"
   },
   {
    "duration": 83,
    "start_time": "2023-05-03T21:23:03.653Z"
   },
   {
    "duration": 3,
    "start_time": "2023-05-03T21:23:05.843Z"
   },
   {
    "duration": 32,
    "start_time": "2023-05-03T21:23:07.444Z"
   },
   {
    "duration": 115,
    "start_time": "2023-05-03T21:23:36.441Z"
   },
   {
    "duration": 100,
    "start_time": "2023-05-03T21:23:37.967Z"
   },
   {
    "duration": 4,
    "start_time": "2023-05-03T21:23:39.686Z"
   },
   {
    "duration": 382520,
    "start_time": "2023-05-03T21:23:41.874Z"
   },
   {
    "duration": 284,
    "start_time": "2023-05-03T21:42:55.511Z"
   },
   {
    "duration": 3,
    "start_time": "2023-05-03T21:47:29.536Z"
   },
   {
    "duration": 47755,
    "start_time": "2023-05-03T21:47:31.266Z"
   },
   {
    "duration": 141,
    "start_time": "2023-05-03T21:48:29.754Z"
   },
   {
    "duration": 4,
    "start_time": "2023-05-03T21:48:37.331Z"
   },
   {
    "duration": 347895,
    "start_time": "2023-05-03T21:48:39.029Z"
   },
   {
    "duration": 250,
    "start_time": "2023-05-03T21:54:39.842Z"
   },
   {
    "duration": 4,
    "start_time": "2023-05-03T21:55:47.492Z"
   },
   {
    "duration": 45610,
    "start_time": "2023-05-03T21:55:48.899Z"
   },
   {
    "duration": 3,
    "start_time": "2023-05-03T21:56:41.212Z"
   },
   {
    "duration": 362049,
    "start_time": "2023-05-03T21:56:43.566Z"
   },
   {
    "duration": 153,
    "start_time": "2023-05-03T22:02:51.647Z"
   },
   {
    "duration": 3,
    "start_time": "2023-05-03T22:03:19.111Z"
   },
   {
    "duration": 750,
    "start_time": "2023-05-03T22:03:19.116Z"
   },
   {
    "duration": 13,
    "start_time": "2023-05-03T22:03:19.868Z"
   },
   {
    "duration": 157,
    "start_time": "2023-05-03T22:03:19.882Z"
   },
   {
    "duration": 81,
    "start_time": "2023-05-03T22:03:20.041Z"
   },
   {
    "duration": 12587,
    "start_time": "2023-05-03T22:03:20.124Z"
   },
   {
    "duration": 115,
    "start_time": "2023-05-03T22:03:32.714Z"
   },
   {
    "duration": 101,
    "start_time": "2023-05-03T22:03:32.831Z"
   },
   {
    "duration": 5,
    "start_time": "2023-05-03T22:03:32.933Z"
   },
   {
    "duration": 23,
    "start_time": "2023-05-03T22:03:32.940Z"
   },
   {
    "duration": 78,
    "start_time": "2023-05-03T22:03:32.966Z"
   },
   {
    "duration": 1255,
    "start_time": "2023-05-03T22:03:33.046Z"
   },
   {
    "duration": 36,
    "start_time": "2023-05-03T22:03:34.303Z"
   },
   {
    "duration": 1428,
    "start_time": "2023-05-03T22:03:34.341Z"
   },
   {
    "duration": 61,
    "start_time": "2023-05-03T22:03:35.771Z"
   },
   {
    "duration": 55,
    "start_time": "2023-05-03T22:03:35.833Z"
   },
   {
    "duration": 11,
    "start_time": "2023-05-03T22:03:42.370Z"
   },
   {
    "duration": 2616,
    "start_time": "2023-05-03T22:05:42.325Z"
   },
   {
    "duration": 1019,
    "start_time": "2023-05-03T22:05:59.238Z"
   },
   {
    "duration": 535,
    "start_time": "2023-05-03T22:07:14.164Z"
   },
   {
    "duration": 695,
    "start_time": "2023-05-03T22:07:25.228Z"
   },
   {
    "duration": 733,
    "start_time": "2023-05-03T22:07:56.346Z"
   },
   {
    "duration": 390,
    "start_time": "2023-05-03T22:08:44.139Z"
   },
   {
    "duration": 555,
    "start_time": "2023-05-03T22:09:08.875Z"
   },
   {
    "duration": 4,
    "start_time": "2023-05-03T22:09:31.337Z"
   },
   {
    "duration": 905,
    "start_time": "2023-05-03T22:09:31.344Z"
   },
   {
    "duration": 15,
    "start_time": "2023-05-03T22:09:32.252Z"
   },
   {
    "duration": 197,
    "start_time": "2023-05-03T22:09:32.269Z"
   },
   {
    "duration": 86,
    "start_time": "2023-05-03T22:09:32.469Z"
   },
   {
    "duration": 12162,
    "start_time": "2023-05-03T22:09:32.557Z"
   },
   {
    "duration": 120,
    "start_time": "2023-05-03T22:09:44.721Z"
   },
   {
    "duration": 92,
    "start_time": "2023-05-03T22:09:44.843Z"
   },
   {
    "duration": 5,
    "start_time": "2023-05-03T22:09:44.936Z"
   },
   {
    "duration": 30,
    "start_time": "2023-05-03T22:09:44.942Z"
   },
   {
    "duration": 72,
    "start_time": "2023-05-03T22:09:44.974Z"
   },
   {
    "duration": 66,
    "start_time": "2023-05-03T22:09:48.592Z"
   },
   {
    "duration": 547,
    "start_time": "2023-05-03T22:09:50.121Z"
   },
   {
    "duration": 1474,
    "start_time": "2023-05-03T22:10:25.942Z"
   },
   {
    "duration": 3,
    "start_time": "2023-05-03T22:13:23.184Z"
   },
   {
    "duration": 813,
    "start_time": "2023-05-03T22:13:23.191Z"
   },
   {
    "duration": 14,
    "start_time": "2023-05-03T22:13:24.007Z"
   },
   {
    "duration": 171,
    "start_time": "2023-05-03T22:13:24.022Z"
   },
   {
    "duration": 82,
    "start_time": "2023-05-03T22:13:24.196Z"
   },
   {
    "duration": 12031,
    "start_time": "2023-05-03T22:13:24.291Z"
   },
   {
    "duration": 94,
    "start_time": "2023-05-03T22:13:36.324Z"
   },
   {
    "duration": 91,
    "start_time": "2023-05-03T22:13:36.419Z"
   },
   {
    "duration": 5,
    "start_time": "2023-05-03T22:13:36.511Z"
   },
   {
    "duration": 22,
    "start_time": "2023-05-03T22:13:36.518Z"
   },
   {
    "duration": 82,
    "start_time": "2023-05-03T22:13:36.543Z"
   },
   {
    "duration": 530,
    "start_time": "2023-05-03T22:13:36.627Z"
   },
   {
    "duration": 52,
    "start_time": "2023-05-03T22:13:37.159Z"
   },
   {
    "duration": 1534,
    "start_time": "2023-05-03T22:13:37.212Z"
   },
   {
    "duration": 58,
    "start_time": "2023-05-03T22:13:38.748Z"
   },
   {
    "duration": 41,
    "start_time": "2023-05-03T22:13:38.808Z"
   },
   {
    "duration": 26,
    "start_time": "2023-05-03T22:13:38.851Z"
   },
   {
    "duration": 19,
    "start_time": "2023-05-03T22:13:42.411Z"
   },
   {
    "duration": 146,
    "start_time": "2023-05-03T22:17:44.849Z"
   },
   {
    "duration": 176,
    "start_time": "2023-05-03T22:27:23.722Z"
   },
   {
    "duration": 3381,
    "start_time": "2023-05-03T22:38:41.353Z"
   },
   {
    "duration": 4,
    "start_time": "2023-05-03T22:38:49.485Z"
   },
   {
    "duration": 814,
    "start_time": "2023-05-03T22:38:49.499Z"
   },
   {
    "duration": 15,
    "start_time": "2023-05-03T22:38:50.315Z"
   },
   {
    "duration": 136,
    "start_time": "2023-05-03T22:38:50.332Z"
   },
   {
    "duration": 111,
    "start_time": "2023-05-03T22:38:50.471Z"
   },
   {
    "duration": 153,
    "start_time": "2023-05-03T22:38:50.584Z"
   },
   {
    "duration": 194,
    "start_time": "2023-05-03T22:38:50.739Z"
   },
   {
    "duration": 13676,
    "start_time": "2023-05-03T22:38:50.937Z"
   },
   {
    "duration": 606,
    "start_time": "2023-05-03T22:39:04.615Z"
   },
   {
    "duration": 161,
    "start_time": "2023-05-03T22:39:05.223Z"
   },
   {
    "duration": 1833,
    "start_time": "2023-05-03T22:39:12.170Z"
   },
   {
    "duration": 3603,
    "start_time": "2023-05-03T22:39:49.485Z"
   },
   {
    "duration": 2345,
    "start_time": "2023-05-03T22:40:09.022Z"
   },
   {
    "duration": 2628,
    "start_time": "2023-05-03T22:40:20.360Z"
   },
   {
    "duration": 2710,
    "start_time": "2023-05-03T22:40:36.021Z"
   },
   {
    "duration": 2333,
    "start_time": "2023-05-03T22:40:47.217Z"
   },
   {
    "duration": 2366,
    "start_time": "2023-05-03T22:41:11.876Z"
   },
   {
    "duration": 2132,
    "start_time": "2023-05-03T22:41:27.990Z"
   },
   {
    "duration": 2386,
    "start_time": "2023-05-03T22:41:43.381Z"
   },
   {
    "duration": 2147,
    "start_time": "2023-05-03T22:41:59.654Z"
   },
   {
    "duration": 2217,
    "start_time": "2023-05-03T22:42:17.908Z"
   },
   {
    "duration": 2125,
    "start_time": "2023-05-03T22:46:32.668Z"
   },
   {
    "duration": 5,
    "start_time": "2023-05-03T22:46:52.175Z"
   },
   {
    "duration": 928,
    "start_time": "2023-05-03T22:46:52.182Z"
   },
   {
    "duration": 16,
    "start_time": "2023-05-03T22:46:53.113Z"
   },
   {
    "duration": 152,
    "start_time": "2023-05-03T22:46:53.132Z"
   },
   {
    "duration": 118,
    "start_time": "2023-05-03T22:46:53.292Z"
   },
   {
    "duration": 133,
    "start_time": "2023-05-03T22:46:53.413Z"
   },
   {
    "duration": 188,
    "start_time": "2023-05-03T22:46:53.548Z"
   },
   {
    "duration": 13428,
    "start_time": "2023-05-03T22:46:53.738Z"
   },
   {
    "duration": 742,
    "start_time": "2023-05-03T22:47:07.168Z"
   },
   {
    "duration": 97,
    "start_time": "2023-05-03T22:47:07.911Z"
   },
   {
    "duration": 2257,
    "start_time": "2023-05-03T22:47:14.628Z"
   },
   {
    "duration": 2038,
    "start_time": "2023-05-03T22:48:28.314Z"
   },
   {
    "duration": 3,
    "start_time": "2023-05-03T22:48:47.810Z"
   },
   {
    "duration": 825,
    "start_time": "2023-05-03T22:48:47.815Z"
   },
   {
    "duration": 14,
    "start_time": "2023-05-03T22:48:48.642Z"
   },
   {
    "duration": 145,
    "start_time": "2023-05-03T22:48:48.658Z"
   },
   {
    "duration": 110,
    "start_time": "2023-05-03T22:48:48.804Z"
   },
   {
    "duration": 121,
    "start_time": "2023-05-03T22:48:48.916Z"
   },
   {
    "duration": 176,
    "start_time": "2023-05-03T22:48:49.039Z"
   },
   {
    "duration": 13375,
    "start_time": "2023-05-03T22:48:49.217Z"
   },
   {
    "duration": 692,
    "start_time": "2023-05-03T22:49:07.181Z"
   },
   {
    "duration": 1894,
    "start_time": "2023-05-04T08:22:32.291Z"
   },
   {
    "duration": 3,
    "start_time": "2023-05-04T08:25:26.974Z"
   },
   {
    "duration": 3169,
    "start_time": "2023-05-04T08:25:26.980Z"
   },
   {
    "duration": 21,
    "start_time": "2023-05-04T08:25:30.151Z"
   },
   {
    "duration": 179,
    "start_time": "2023-05-04T08:25:30.174Z"
   },
   {
    "duration": 144,
    "start_time": "2023-05-04T08:25:30.356Z"
   },
   {
    "duration": 118,
    "start_time": "2023-05-04T08:25:30.502Z"
   },
   {
    "duration": 202,
    "start_time": "2023-05-04T08:25:30.622Z"
   },
   {
    "duration": 13773,
    "start_time": "2023-05-04T08:25:30.826Z"
   },
   {
    "duration": 664,
    "start_time": "2023-05-04T08:25:44.602Z"
   },
   {
    "duration": 1842,
    "start_time": "2023-05-04T08:25:45.269Z"
   },
   {
    "duration": 7,
    "start_time": "2023-05-04T08:25:47.115Z"
   },
   {
    "duration": 166,
    "start_time": "2023-05-04T08:25:47.137Z"
   },
   {
    "duration": 43,
    "start_time": "2023-05-04T08:25:47.305Z"
   },
   {
    "duration": 55,
    "start_time": "2023-05-04T08:25:47.350Z"
   },
   {
    "duration": 69,
    "start_time": "2023-05-04T08:25:47.407Z"
   },
   {
    "duration": 67,
    "start_time": "2023-05-04T08:25:47.478Z"
   },
   {
    "duration": 55,
    "start_time": "2023-05-04T08:26:25.388Z"
   },
   {
    "duration": 150,
    "start_time": "2023-05-04T08:26:32.722Z"
   },
   {
    "duration": 121,
    "start_time": "2023-05-04T08:26:34.337Z"
   },
   {
    "duration": 4,
    "start_time": "2023-05-04T08:26:36.287Z"
   },
   {
    "duration": 359237,
    "start_time": "2023-05-04T08:26:42.618Z"
   },
   {
    "duration": 175,
    "start_time": "2023-05-04T08:41:53.176Z"
   },
   {
    "duration": 154,
    "start_time": "2023-05-04T08:42:01.694Z"
   },
   {
    "duration": 3,
    "start_time": "2023-05-04T08:47:08.406Z"
   },
   {
    "duration": 2462,
    "start_time": "2023-05-04T08:47:50.256Z"
   },
   {
    "duration": 3,
    "start_time": "2023-05-04T08:48:21.709Z"
   },
   {
    "duration": 2518,
    "start_time": "2023-05-04T08:48:23.180Z"
   },
   {
    "duration": 21,
    "start_time": "2023-05-04T08:48:37.896Z"
   },
   {
    "duration": 166,
    "start_time": "2023-05-04T08:50:09.432Z"
   },
   {
    "duration": 18,
    "start_time": "2023-05-04T08:50:41.972Z"
   },
   {
    "duration": 1385,
    "start_time": "2023-05-04T08:54:53.161Z"
   },
   {
    "duration": 5484,
    "start_time": "2023-05-04T08:57:34.598Z"
   },
   {
    "duration": 2313,
    "start_time": "2023-05-04T08:58:11.474Z"
   },
   {
    "duration": 307,
    "start_time": "2023-05-04T09:01:12.760Z"
   },
   {
    "duration": 1788,
    "start_time": "2023-05-04T10:46:43.121Z"
   },
   {
    "duration": 1322,
    "start_time": "2023-05-04T10:46:44.912Z"
   },
   {
    "duration": 20,
    "start_time": "2023-05-04T10:46:46.235Z"
   },
   {
    "duration": 166,
    "start_time": "2023-05-04T10:46:46.258Z"
   },
   {
    "duration": 115,
    "start_time": "2023-05-04T10:46:46.430Z"
   },
   {
    "duration": 111,
    "start_time": "2023-05-04T10:46:46.547Z"
   },
   {
    "duration": 196,
    "start_time": "2023-05-04T10:46:46.659Z"
   },
   {
    "duration": 12317,
    "start_time": "2023-05-04T10:46:46.857Z"
   },
   {
    "duration": 657,
    "start_time": "2023-05-04T10:46:59.175Z"
   },
   {
    "duration": 1757,
    "start_time": "2023-05-04T10:46:59.835Z"
   },
   {
    "duration": 8,
    "start_time": "2023-05-04T10:47:01.594Z"
   },
   {
    "duration": 158,
    "start_time": "2023-05-04T10:47:01.604Z"
   },
   {
    "duration": 40,
    "start_time": "2023-05-04T10:47:01.764Z"
   },
   {
    "duration": 67,
    "start_time": "2023-05-04T10:47:01.806Z"
   },
   {
    "duration": 78,
    "start_time": "2023-05-04T10:47:01.874Z"
   },
   {
    "duration": 67,
    "start_time": "2023-05-04T10:47:01.954Z"
   },
   {
    "duration": 145,
    "start_time": "2023-05-04T10:47:02.023Z"
   },
   {
    "duration": 132,
    "start_time": "2023-05-04T10:47:05.634Z"
   },
   {
    "duration": 108,
    "start_time": "2023-05-04T10:47:07.481Z"
   },
   {
    "duration": 102,
    "start_time": "2023-05-04T10:47:10.164Z"
   },
   {
    "duration": 4,
    "start_time": "2023-05-04T10:47:20.648Z"
   },
   {
    "duration": 245330,
    "start_time": "2023-05-04T10:47:23.332Z"
   },
   {
    "duration": 7,
    "start_time": "2023-05-04T10:52:31.211Z"
   },
   {
    "duration": 205735,
    "start_time": "2023-05-04T10:52:34.408Z"
   },
   {
    "duration": 6,
    "start_time": "2023-05-04T10:56:47.434Z"
   },
   {
    "duration": 9,
    "start_time": "2023-05-04T10:57:10.439Z"
   },
   {
    "duration": 6800,
    "start_time": "2023-05-04T10:57:29.157Z"
   },
   {
    "duration": 140,
    "start_time": "2023-05-04T11:00:27.125Z"
   },
   {
    "duration": 121442,
    "start_time": "2023-05-04T11:00:45.216Z"
   },
   {
    "duration": 5,
    "start_time": "2023-05-04T11:03:15.221Z"
   },
   {
    "duration": 13024,
    "start_time": "2023-05-04T11:03:18.021Z"
   },
   {
    "duration": 6,
    "start_time": "2023-05-04T11:03:40.644Z"
   },
   {
    "duration": 8,
    "start_time": "2023-05-04T11:04:11.294Z"
   },
   {
    "duration": 6,
    "start_time": "2023-05-04T11:04:26.823Z"
   },
   {
    "duration": 97198,
    "start_time": "2023-05-04T11:04:29.012Z"
   },
   {
    "duration": 1615,
    "start_time": "2023-05-04T12:48:04.707Z"
   },
   {
    "duration": 3056,
    "start_time": "2023-05-04T12:48:06.323Z"
   },
   {
    "duration": 17,
    "start_time": "2023-05-04T12:48:09.381Z"
   },
   {
    "duration": 124,
    "start_time": "2023-05-04T12:48:09.400Z"
   },
   {
    "duration": 103,
    "start_time": "2023-05-04T12:48:09.526Z"
   },
   {
    "duration": 139,
    "start_time": "2023-05-04T12:48:09.630Z"
   },
   {
    "duration": 196,
    "start_time": "2023-05-04T12:48:09.771Z"
   },
   {
    "duration": 9848,
    "start_time": "2023-05-04T12:48:09.969Z"
   },
   {
    "duration": 589,
    "start_time": "2023-05-04T12:48:19.820Z"
   },
   {
    "duration": 1492,
    "start_time": "2023-05-04T12:48:20.412Z"
   },
   {
    "duration": 7,
    "start_time": "2023-05-04T12:48:21.907Z"
   },
   {
    "duration": 136,
    "start_time": "2023-05-04T12:48:21.916Z"
   },
   {
    "duration": 34,
    "start_time": "2023-05-04T12:48:22.053Z"
   },
   {
    "duration": 62,
    "start_time": "2023-05-04T12:48:22.089Z"
   },
   {
    "duration": 48,
    "start_time": "2023-05-04T12:48:22.152Z"
   },
   {
    "duration": 70,
    "start_time": "2023-05-04T12:48:22.201Z"
   },
   {
    "duration": 124,
    "start_time": "2023-05-04T12:48:22.272Z"
   },
   {
    "duration": 85,
    "start_time": "2023-05-04T12:48:22.398Z"
   },
   {
    "duration": 106,
    "start_time": "2023-05-04T12:48:26.325Z"
   },
   {
    "duration": 6,
    "start_time": "2023-05-04T12:48:29.273Z"
   },
   {
    "duration": 475647,
    "start_time": "2023-05-04T12:48:37.212Z"
   },
   {
    "duration": 1142,
    "start_time": "2023-05-04T13:00:24.209Z"
   },
   {
    "duration": 4,
    "start_time": "2023-05-04T13:04:26.785Z"
   },
   {
    "duration": 17660,
    "start_time": "2023-05-04T13:04:34.491Z"
   },
   {
    "duration": 913,
    "start_time": "2023-05-04T13:05:26.238Z"
   },
   {
    "duration": 4,
    "start_time": "2023-05-04T13:10:03.666Z"
   },
   {
    "duration": 4,
    "start_time": "2023-05-04T13:10:40.530Z"
   },
   {
    "duration": 3,
    "start_time": "2023-05-04T13:13:26.684Z"
   },
   {
    "duration": 3,
    "start_time": "2023-05-04T13:13:48.501Z"
   },
   {
    "duration": 2091,
    "start_time": "2023-05-04T13:13:52.147Z"
   },
   {
    "duration": 3,
    "start_time": "2023-05-04T13:14:13.916Z"
   },
   {
    "duration": 1925,
    "start_time": "2023-05-04T13:14:15.839Z"
   },
   {
    "duration": 16,
    "start_time": "2023-05-04T13:14:20.680Z"
   },
   {
    "duration": 3,
    "start_time": "2023-05-04T13:14:39.084Z"
   },
   {
    "duration": 2211,
    "start_time": "2023-05-04T13:14:40.760Z"
   },
   {
    "duration": 21,
    "start_time": "2023-05-04T13:14:45.353Z"
   },
   {
    "duration": 3,
    "start_time": "2023-05-04T13:14:55.107Z"
   },
   {
    "duration": 2059,
    "start_time": "2023-05-04T13:14:56.525Z"
   },
   {
    "duration": 12,
    "start_time": "2023-05-04T13:15:02.285Z"
   },
   {
    "duration": 3,
    "start_time": "2023-05-04T13:15:11.781Z"
   },
   {
    "duration": 4024,
    "start_time": "2023-05-04T13:15:13.577Z"
   },
   {
    "duration": 14,
    "start_time": "2023-05-04T13:15:19.698Z"
   },
   {
    "duration": 168,
    "start_time": "2023-05-04T13:18:16.941Z"
   },
   {
    "duration": 4,
    "start_time": "2023-05-04T13:18:31.444Z"
   },
   {
    "duration": 6,
    "start_time": "2023-05-04T13:23:02.471Z"
   },
   {
    "duration": 95,
    "start_time": "2023-05-04T13:23:04.533Z"
   },
   {
    "duration": 10138,
    "start_time": "2023-05-04T13:23:18.649Z"
   },
   {
    "duration": 86,
    "start_time": "2023-05-04T13:23:54.042Z"
   },
   {
    "duration": 51,
    "start_time": "2023-05-04T13:24:03.014Z"
   },
   {
    "duration": 57,
    "start_time": "2023-05-04T13:24:23.421Z"
   },
   {
    "duration": 266,
    "start_time": "2023-05-04T13:24:49.746Z"
   },
   {
    "duration": 57,
    "start_time": "2023-05-04T13:26:56.410Z"
   },
   {
    "duration": 4,
    "start_time": "2023-05-04T13:32:50.700Z"
   },
   {
    "duration": 3502,
    "start_time": "2023-05-04T13:33:35.577Z"
   },
   {
    "duration": 3173,
    "start_time": "2023-05-04T13:34:17.206Z"
   },
   {
    "duration": 5570,
    "start_time": "2023-05-04T13:34:30.430Z"
   },
   {
    "duration": 4,
    "start_time": "2023-05-04T13:37:50.678Z"
   },
   {
    "duration": 3596,
    "start_time": "2023-05-04T13:37:50.685Z"
   },
   {
    "duration": 13,
    "start_time": "2023-05-04T13:37:54.284Z"
   },
   {
    "duration": 218,
    "start_time": "2023-05-04T13:37:54.300Z"
   },
   {
    "duration": 211,
    "start_time": "2023-05-04T13:37:54.521Z"
   },
   {
    "duration": 179,
    "start_time": "2023-05-04T13:37:54.734Z"
   },
   {
    "duration": 326,
    "start_time": "2023-05-04T13:37:54.916Z"
   },
   {
    "duration": 11933,
    "start_time": "2023-05-04T13:37:55.245Z"
   },
   {
    "duration": 646,
    "start_time": "2023-05-04T13:38:07.180Z"
   },
   {
    "duration": 1460,
    "start_time": "2023-05-04T13:38:07.828Z"
   },
   {
    "duration": 6,
    "start_time": "2023-05-04T13:38:09.291Z"
   },
   {
    "duration": 107,
    "start_time": "2023-05-04T13:38:09.298Z"
   },
   {
    "duration": 34,
    "start_time": "2023-05-04T13:38:09.406Z"
   },
   {
    "duration": 80,
    "start_time": "2023-05-04T13:38:09.442Z"
   },
   {
    "duration": 73,
    "start_time": "2023-05-04T13:38:09.524Z"
   },
   {
    "duration": 63,
    "start_time": "2023-05-04T13:38:09.600Z"
   },
   {
    "duration": 129,
    "start_time": "2023-05-04T13:38:09.665Z"
   },
   {
    "duration": 110,
    "start_time": "2023-05-04T13:38:09.796Z"
   },
   {
    "duration": 2,
    "start_time": "2023-05-04T13:38:09.908Z"
   },
   {
    "duration": 22,
    "start_time": "2023-05-04T13:38:09.912Z"
   },
   {
    "duration": 47416,
    "start_time": "2023-05-04T13:38:09.937Z"
   },
   {
    "duration": 87,
    "start_time": "2023-05-04T13:38:57.356Z"
   },
   {
    "duration": 28,
    "start_time": "2023-05-04T13:38:57.445Z"
   },
   {
    "duration": 9704,
    "start_time": "2023-05-04T13:38:57.475Z"
   },
   {
    "duration": 84,
    "start_time": "2023-05-04T13:39:07.181Z"
   },
   {
    "duration": 4326,
    "start_time": "2023-05-04T13:39:07.267Z"
   },
   {
    "duration": 5,
    "start_time": "2023-05-04T13:39:11.601Z"
   },
   {
    "duration": 173960,
    "start_time": "2023-05-04T13:39:17.839Z"
   },
   {
    "duration": 357186,
    "start_time": "2023-05-04T13:43:10.679Z"
   },
   {
    "duration": 117,
    "start_time": "2023-05-04T13:50:55.441Z"
   },
   {
    "duration": 72,
    "start_time": "2023-05-04T13:50:56.919Z"
   },
   {
    "duration": 8,
    "start_time": "2023-05-04T13:50:58.368Z"
   },
   {
    "duration": 1531440,
    "start_time": "2023-05-04T13:51:03.210Z"
   },
   {
    "duration": 1153,
    "start_time": "2023-05-04T14:31:59.999Z"
   },
   {
    "duration": 3,
    "start_time": "2023-05-04T14:32:07.644Z"
   },
   {
    "duration": 12445,
    "start_time": "2023-05-04T14:32:09.608Z"
   },
   {
    "duration": 40,
    "start_time": "2023-05-04T14:32:26.986Z"
   },
   {
    "duration": 4381,
    "start_time": "2023-05-04T14:32:33.891Z"
   },
   {
    "duration": 4,
    "start_time": "2023-05-04T14:33:40.719Z"
   },
   {
    "duration": 228,
    "start_time": "2023-05-04T14:37:43.222Z"
   },
   {
    "duration": 4,
    "start_time": "2023-05-04T14:38:02.734Z"
   },
   {
    "duration": 189,
    "start_time": "2023-05-04T14:39:23.275Z"
   },
   {
    "duration": 1536,
    "start_time": "2023-05-05T08:21:44.953Z"
   },
   {
    "duration": 991,
    "start_time": "2023-05-05T08:21:46.492Z"
   },
   {
    "duration": 18,
    "start_time": "2023-05-05T08:21:47.485Z"
   },
   {
    "duration": 416,
    "start_time": "2023-05-05T08:21:47.516Z"
   },
   {
    "duration": 99,
    "start_time": "2023-05-05T08:21:49.873Z"
   },
   {
    "duration": 499,
    "start_time": "2023-05-05T08:22:27.292Z"
   },
   {
    "duration": 17,
    "start_time": "2023-05-05T08:40:17.593Z"
   },
   {
    "duration": 62,
    "start_time": "2023-05-05T08:41:01.932Z"
   },
   {
    "duration": 47,
    "start_time": "2023-05-05T08:43:06.933Z"
   },
   {
    "duration": 40,
    "start_time": "2023-05-05T08:43:10.493Z"
   },
   {
    "duration": 38,
    "start_time": "2023-05-05T08:43:16.052Z"
   },
   {
    "duration": 6,
    "start_time": "2023-05-05T08:43:20.952Z"
   },
   {
    "duration": 151,
    "start_time": "2023-05-05T08:44:15.533Z"
   },
   {
    "duration": 166,
    "start_time": "2023-05-05T08:44:45.573Z"
   },
   {
    "duration": 16,
    "start_time": "2023-05-05T08:45:01.692Z"
   },
   {
    "duration": 6,
    "start_time": "2023-05-05T08:45:09.472Z"
   },
   {
    "duration": 2088,
    "start_time": "2023-05-05T11:23:31.015Z"
   },
   {
    "duration": 3953,
    "start_time": "2023-05-05T11:23:33.106Z"
   },
   {
    "duration": 23,
    "start_time": "2023-05-05T11:23:37.062Z"
   },
   {
    "duration": 146,
    "start_time": "2023-05-05T11:23:37.087Z"
   },
   {
    "duration": 7,
    "start_time": "2023-05-05T11:23:52.415Z"
   },
   {
    "duration": 30,
    "start_time": "2023-05-05T11:24:07.762Z"
   },
   {
    "duration": 28,
    "start_time": "2023-05-05T11:24:20.572Z"
   },
   {
    "duration": 30,
    "start_time": "2023-05-05T11:24:32.466Z"
   },
   {
    "duration": 62,
    "start_time": "2023-05-05T11:32:05.421Z"
   },
   {
    "duration": 7,
    "start_time": "2023-05-05T11:46:03.025Z"
   },
   {
    "duration": 1051,
    "start_time": "2023-05-05T11:46:03.034Z"
   },
   {
    "duration": 14,
    "start_time": "2023-05-05T11:46:04.087Z"
   },
   {
    "duration": 157,
    "start_time": "2023-05-05T11:46:04.103Z"
   },
   {
    "duration": 27,
    "start_time": "2023-05-05T11:46:04.262Z"
   },
   {
    "duration": 124,
    "start_time": "2023-05-05T11:46:04.291Z"
   },
   {
    "duration": 149,
    "start_time": "2023-05-05T11:46:04.418Z"
   },
   {
    "duration": 225,
    "start_time": "2023-05-05T11:46:04.568Z"
   },
   {
    "duration": 14887,
    "start_time": "2023-05-05T11:46:04.795Z"
   },
   {
    "duration": 728,
    "start_time": "2023-05-05T11:46:19.684Z"
   },
   {
    "duration": 1877,
    "start_time": "2023-05-05T11:46:20.414Z"
   },
   {
    "duration": 6,
    "start_time": "2023-05-05T11:46:22.294Z"
   },
   {
    "duration": 149,
    "start_time": "2023-05-05T11:46:22.302Z"
   },
   {
    "duration": 42,
    "start_time": "2023-05-05T11:46:22.459Z"
   },
   {
    "duration": 66,
    "start_time": "2023-05-05T11:46:22.502Z"
   },
   {
    "duration": 57,
    "start_time": "2023-05-05T11:46:22.571Z"
   },
   {
    "duration": 98,
    "start_time": "2023-05-05T11:46:22.630Z"
   },
   {
    "duration": 53,
    "start_time": "2023-05-05T11:46:32.699Z"
   },
   {
    "duration": 95,
    "start_time": "2023-05-05T11:46:45.578Z"
   },
   {
    "duration": 6,
    "start_time": "2023-05-05T11:47:22.721Z"
   },
   {
    "duration": 4,
    "start_time": "2023-05-05T11:50:57.286Z"
   },
   {
    "duration": 1061,
    "start_time": "2023-05-05T11:50:57.292Z"
   },
   {
    "duration": 17,
    "start_time": "2023-05-05T11:50:58.356Z"
   },
   {
    "duration": 184,
    "start_time": "2023-05-05T11:50:58.375Z"
   },
   {
    "duration": 27,
    "start_time": "2023-05-05T11:50:58.562Z"
   },
   {
    "duration": 126,
    "start_time": "2023-05-05T11:50:58.591Z"
   },
   {
    "duration": 141,
    "start_time": "2023-05-05T11:50:58.719Z"
   },
   {
    "duration": 172,
    "start_time": "2023-05-05T11:50:58.862Z"
   },
   {
    "duration": 15333,
    "start_time": "2023-05-05T11:50:59.041Z"
   },
   {
    "duration": 655,
    "start_time": "2023-05-05T11:51:14.376Z"
   },
   {
    "duration": 1721,
    "start_time": "2023-05-05T11:51:15.040Z"
   },
   {
    "duration": 9,
    "start_time": "2023-05-05T11:51:16.768Z"
   },
   {
    "duration": 82,
    "start_time": "2023-05-05T11:51:16.779Z"
   },
   {
    "duration": 28,
    "start_time": "2023-05-05T11:51:16.864Z"
   },
   {
    "duration": 57,
    "start_time": "2023-05-05T11:51:48.892Z"
   },
   {
    "duration": 4,
    "start_time": "2023-05-05T12:07:33.668Z"
   },
   {
    "duration": 6,
    "start_time": "2023-05-05T12:10:30.060Z"
   },
   {
    "duration": 123,
    "start_time": "2023-05-05T12:14:40.570Z"
   },
   {
    "duration": 12,
    "start_time": "2023-05-05T12:14:58.755Z"
   },
   {
    "duration": 868,
    "start_time": "2023-05-05T12:15:01.954Z"
   },
   {
    "duration": 576,
    "start_time": "2023-05-05T12:15:05.292Z"
   },
   {
    "duration": 5,
    "start_time": "2023-05-05T12:15:10.559Z"
   },
   {
    "duration": 1673288,
    "start_time": "2023-05-05T12:15:12.394Z"
   },
   {
    "duration": 62,
    "start_time": "2023-05-05T16:02:24.098Z"
   },
   {
    "duration": 1535,
    "start_time": "2023-05-05T16:05:48.355Z"
   },
   {
    "duration": 3032,
    "start_time": "2023-05-05T16:05:49.894Z"
   },
   {
    "duration": 18,
    "start_time": "2023-05-05T16:05:52.927Z"
   },
   {
    "duration": 166,
    "start_time": "2023-05-05T16:05:52.947Z"
   },
   {
    "duration": 27,
    "start_time": "2023-05-05T16:05:53.117Z"
   },
   {
    "duration": 119,
    "start_time": "2023-05-05T16:05:53.146Z"
   },
   {
    "duration": 137,
    "start_time": "2023-05-05T16:05:53.267Z"
   },
   {
    "duration": 180,
    "start_time": "2023-05-05T16:05:53.406Z"
   },
   {
    "duration": 11718,
    "start_time": "2023-05-05T16:05:53.588Z"
   },
   {
    "duration": 602,
    "start_time": "2023-05-05T16:06:05.309Z"
   },
   {
    "duration": 1578,
    "start_time": "2023-05-05T16:06:05.913Z"
   },
   {
    "duration": 6,
    "start_time": "2023-05-05T16:06:07.494Z"
   },
   {
    "duration": 138,
    "start_time": "2023-05-05T16:06:07.501Z"
   },
   {
    "duration": 37,
    "start_time": "2023-05-05T16:06:07.641Z"
   },
   {
    "duration": 645,
    "start_time": "2023-05-05T16:06:07.680Z"
   },
   {
    "duration": 502,
    "start_time": "2023-05-05T16:06:08.327Z"
   },
   {
    "duration": 4,
    "start_time": "2023-05-05T16:06:08.830Z"
   },
   {
    "duration": 23,
    "start_time": "2023-05-05T16:06:08.836Z"
   },
   {
    "duration": 26475,
    "start_time": "2023-05-05T16:06:08.860Z"
   },
   {
    "duration": 3,
    "start_time": "2023-05-05T16:06:35.337Z"
   },
   {
    "duration": 1684,
    "start_time": "2023-05-05T16:06:35.342Z"
   },
   {
    "duration": 4,
    "start_time": "2023-05-05T16:06:37.027Z"
   },
   {
    "duration": 3,
    "start_time": "2023-05-05T16:12:49.752Z"
   },
   {
    "duration": 80,
    "start_time": "2023-05-05T16:12:51.089Z"
   },
   {
    "duration": 3,
    "start_time": "2023-05-05T16:13:28.202Z"
   },
   {
    "duration": 4,
    "start_time": "2023-05-05T16:13:39.499Z"
   },
   {
    "duration": 3,
    "start_time": "2023-05-05T16:15:20.111Z"
   },
   {
    "duration": 4,
    "start_time": "2023-05-05T16:15:21.729Z"
   },
   {
    "duration": 11,
    "start_time": "2023-05-05T16:18:07.611Z"
   },
   {
    "duration": 4,
    "start_time": "2023-05-05T16:18:11.071Z"
   },
   {
    "duration": 12,
    "start_time": "2023-05-05T16:18:12.746Z"
   },
   {
    "duration": 4,
    "start_time": "2023-05-05T16:18:46.913Z"
   },
   {
    "duration": 5,
    "start_time": "2023-05-05T16:18:49.393Z"
   },
   {
    "duration": 10,
    "start_time": "2023-05-05T16:18:57.584Z"
   },
   {
    "duration": 11,
    "start_time": "2023-05-05T16:19:38.724Z"
   },
   {
    "duration": 5,
    "start_time": "2023-05-05T16:20:00.765Z"
   },
   {
    "duration": 10,
    "start_time": "2023-05-05T16:20:23.790Z"
   },
   {
    "duration": 12,
    "start_time": "2023-05-05T16:20:32.490Z"
   },
   {
    "duration": 9,
    "start_time": "2023-05-05T16:20:50.966Z"
   },
   {
    "duration": 5,
    "start_time": "2023-05-05T16:23:30.664Z"
   },
   {
    "duration": 10,
    "start_time": "2023-05-05T16:24:55.036Z"
   },
   {
    "duration": 10,
    "start_time": "2023-05-05T16:25:24.967Z"
   },
   {
    "duration": 4,
    "start_time": "2023-05-05T16:26:00.288Z"
   },
   {
    "duration": 5,
    "start_time": "2023-05-05T16:26:10.389Z"
   },
   {
    "duration": 3,
    "start_time": "2023-05-05T16:27:02.665Z"
   },
   {
    "duration": 7,
    "start_time": "2023-05-05T16:27:12.340Z"
   },
   {
    "duration": 3,
    "start_time": "2023-05-05T16:27:58.094Z"
   },
   {
    "duration": 5,
    "start_time": "2023-05-05T16:28:18.307Z"
   },
   {
    "duration": 3,
    "start_time": "2023-05-05T16:28:21.852Z"
   },
   {
    "duration": 4,
    "start_time": "2023-05-05T16:28:24.012Z"
   },
   {
    "duration": 3,
    "start_time": "2023-05-05T16:28:33.029Z"
   },
   {
    "duration": 4,
    "start_time": "2023-05-05T16:28:34.594Z"
   },
   {
    "duration": 4,
    "start_time": "2023-05-05T16:28:36.104Z"
   },
   {
    "duration": 3,
    "start_time": "2023-05-05T16:28:44.159Z"
   },
   {
    "duration": 3,
    "start_time": "2023-05-05T16:28:48.993Z"
   },
   {
    "duration": 4,
    "start_time": "2023-05-05T16:28:53.715Z"
   },
   {
    "duration": 3,
    "start_time": "2023-05-05T16:28:55.132Z"
   },
   {
    "duration": 4,
    "start_time": "2023-05-05T16:28:56.362Z"
   },
   {
    "duration": 3,
    "start_time": "2023-05-05T16:28:59.525Z"
   },
   {
    "duration": 5,
    "start_time": "2023-05-05T16:29:04.607Z"
   },
   {
    "duration": 1885,
    "start_time": "2023-05-05T19:27:58.715Z"
   },
   {
    "duration": 1447,
    "start_time": "2023-05-05T19:28:00.602Z"
   },
   {
    "duration": 23,
    "start_time": "2023-05-05T19:28:02.051Z"
   },
   {
    "duration": 132,
    "start_time": "2023-05-05T19:28:02.077Z"
   },
   {
    "duration": 42,
    "start_time": "2023-05-05T19:28:02.212Z"
   },
   {
    "duration": 134,
    "start_time": "2023-05-05T19:28:02.257Z"
   },
   {
    "duration": 140,
    "start_time": "2023-05-05T19:28:02.393Z"
   },
   {
    "duration": 256,
    "start_time": "2023-05-05T19:28:02.535Z"
   },
   {
    "duration": 13476,
    "start_time": "2023-05-05T19:28:02.793Z"
   },
   {
    "duration": 666,
    "start_time": "2023-05-05T19:28:16.272Z"
   },
   {
    "duration": 1653,
    "start_time": "2023-05-05T19:28:16.940Z"
   },
   {
    "duration": 9,
    "start_time": "2023-05-05T19:28:18.595Z"
   },
   {
    "duration": 149,
    "start_time": "2023-05-05T19:28:18.605Z"
   },
   {
    "duration": 45,
    "start_time": "2023-05-05T19:28:18.756Z"
   },
   {
    "duration": 814,
    "start_time": "2023-05-05T19:28:18.804Z"
   },
   {
    "duration": 546,
    "start_time": "2023-05-05T19:28:19.621Z"
   },
   {
    "duration": 4,
    "start_time": "2023-05-05T19:28:20.169Z"
   },
   {
    "duration": 15,
    "start_time": "2023-05-05T19:28:20.176Z"
   },
   {
    "duration": 25,
    "start_time": "2023-05-05T19:28:20.193Z"
   },
   {
    "duration": 1560371,
    "start_time": "2023-05-05T19:28:20.220Z"
   },
   {
    "duration": 4,
    "start_time": "2023-05-05T19:54:20.593Z"
   },
   {
    "duration": 1704,
    "start_time": "2023-05-05T19:54:20.599Z"
   },
   {
    "duration": 3,
    "start_time": "2023-05-05T19:54:22.304Z"
   },
   {
    "duration": 11,
    "start_time": "2023-05-05T19:54:22.309Z"
   },
   {
    "duration": 7,
    "start_time": "2023-05-05T19:54:22.322Z"
   },
   {
    "duration": 21,
    "start_time": "2023-05-05T19:54:22.331Z"
   },
   {
    "duration": 16161,
    "start_time": "2023-05-05T19:54:22.354Z"
   },
   {
    "duration": 0,
    "start_time": "2023-05-05T19:54:38.517Z"
   },
   {
    "duration": 0,
    "start_time": "2023-05-05T19:54:38.519Z"
   },
   {
    "duration": 0,
    "start_time": "2023-05-05T19:54:38.520Z"
   },
   {
    "duration": 0,
    "start_time": "2023-05-05T19:54:38.521Z"
   },
   {
    "duration": 0,
    "start_time": "2023-05-05T19:54:38.523Z"
   },
   {
    "duration": 0,
    "start_time": "2023-05-05T19:54:38.524Z"
   },
   {
    "duration": 0,
    "start_time": "2023-05-05T19:54:38.525Z"
   },
   {
    "duration": 0,
    "start_time": "2023-05-05T19:54:38.526Z"
   },
   {
    "duration": 0,
    "start_time": "2023-05-05T19:54:38.528Z"
   },
   {
    "duration": 0,
    "start_time": "2023-05-05T19:54:38.530Z"
   },
   {
    "duration": 18931,
    "start_time": "2023-05-05T20:16:28.301Z"
   },
   {
    "duration": 3,
    "start_time": "2023-05-05T20:17:01.500Z"
   },
   {
    "duration": 211,
    "start_time": "2023-05-05T20:17:04.441Z"
   },
   {
    "duration": 7,
    "start_time": "2023-05-05T20:17:13.454Z"
   },
   {
    "duration": 5,
    "start_time": "2023-05-05T20:17:16.496Z"
   },
   {
    "duration": 5,
    "start_time": "2023-05-05T20:17:17.998Z"
   },
   {
    "duration": 4,
    "start_time": "2023-05-05T20:17:19.296Z"
   },
   {
    "duration": 32603,
    "start_time": "2023-05-05T20:17:25.709Z"
   },
   {
    "duration": 4,
    "start_time": "2023-05-05T20:18:17.848Z"
   },
   {
    "duration": 443,
    "start_time": "2023-05-05T20:18:19.695Z"
   },
   {
    "duration": 4,
    "start_time": "2023-05-05T20:18:27.259Z"
   },
   {
    "duration": 6,
    "start_time": "2023-05-05T20:18:28.899Z"
   },
   {
    "duration": 24,
    "start_time": "2023-05-05T20:19:05.611Z"
   },
   {
    "duration": 4,
    "start_time": "2023-05-05T20:21:46.653Z"
   },
   {
    "duration": 5,
    "start_time": "2023-05-05T20:21:54.403Z"
   },
   {
    "duration": 16,
    "start_time": "2023-05-05T20:21:55.987Z"
   },
   {
    "duration": 5,
    "start_time": "2023-05-05T20:26:24.740Z"
   },
   {
    "duration": 16,
    "start_time": "2023-05-05T20:26:59.484Z"
   },
   {
    "duration": 5,
    "start_time": "2023-05-05T20:43:14.535Z"
   },
   {
    "duration": 349,
    "start_time": "2023-05-05T20:43:34.555Z"
   },
   {
    "duration": 357,
    "start_time": "2023-05-05T20:50:39.752Z"
   },
   {
    "duration": 1812,
    "start_time": "2023-05-06T11:11:00.285Z"
   },
   {
    "duration": 1115,
    "start_time": "2023-05-06T11:11:02.099Z"
   },
   {
    "duration": 18,
    "start_time": "2023-05-06T11:11:03.216Z"
   },
   {
    "duration": 134,
    "start_time": "2023-05-06T11:11:03.236Z"
   },
   {
    "duration": 28,
    "start_time": "2023-05-06T11:11:03.372Z"
   },
   {
    "duration": 154,
    "start_time": "2023-05-06T11:11:03.402Z"
   },
   {
    "duration": 112,
    "start_time": "2023-05-06T11:11:03.558Z"
   },
   {
    "duration": 179,
    "start_time": "2023-05-06T11:11:03.671Z"
   },
   {
    "duration": 12037,
    "start_time": "2023-05-06T11:11:03.852Z"
   },
   {
    "duration": 607,
    "start_time": "2023-05-06T11:11:15.891Z"
   },
   {
    "duration": 1550,
    "start_time": "2023-05-06T11:11:16.500Z"
   },
   {
    "duration": 7,
    "start_time": "2023-05-06T11:11:18.051Z"
   },
   {
    "duration": 132,
    "start_time": "2023-05-06T11:11:18.059Z"
   },
   {
    "duration": 37,
    "start_time": "2023-05-06T11:11:18.193Z"
   },
   {
    "duration": 658,
    "start_time": "2023-05-06T11:11:18.232Z"
   },
   {
    "duration": 500,
    "start_time": "2023-05-06T11:11:18.892Z"
   },
   {
    "duration": 424,
    "start_time": "2023-05-06T11:15:14.801Z"
   },
   {
    "duration": 5,
    "start_time": "2023-05-06T11:15:22.605Z"
   },
   {
    "duration": 5,
    "start_time": "2023-05-06T11:15:44.963Z"
   },
   {
    "duration": 6823,
    "start_time": "2023-05-06T11:16:00.274Z"
   },
   {
    "duration": 6582,
    "start_time": "2023-05-06T11:16:44.023Z"
   },
   {
    "duration": 6706,
    "start_time": "2023-05-06T11:17:39.324Z"
   },
   {
    "duration": 6386,
    "start_time": "2023-05-06T11:18:24.309Z"
   },
   {
    "duration": 4,
    "start_time": "2023-05-06T11:18:36.953Z"
   },
   {
    "duration": 6989,
    "start_time": "2023-05-06T11:18:38.509Z"
   },
   {
    "duration": 3,
    "start_time": "2023-05-06T11:22:25.946Z"
   },
   {
    "duration": 27859,
    "start_time": "2023-05-06T11:22:31.235Z"
   },
   {
    "duration": 4,
    "start_time": "2023-05-06T11:23:15.877Z"
   },
   {
    "duration": 3,
    "start_time": "2023-05-06T11:24:03.716Z"
   },
   {
    "duration": 77237,
    "start_time": "2023-05-06T11:24:05.670Z"
   },
   {
    "duration": 4,
    "start_time": "2023-05-06T12:14:45.202Z"
   },
   {
    "duration": 4,
    "start_time": "2023-05-06T12:14:46.902Z"
   },
   {
    "duration": 64108,
    "start_time": "2023-05-06T12:14:48.211Z"
   },
   {
    "duration": 515909,
    "start_time": "2023-05-06T12:16:11.590Z"
   },
   {
    "duration": 5,
    "start_time": "2023-05-06T12:26:07.272Z"
   },
   {
    "duration": 5,
    "start_time": "2023-05-06T12:27:06.926Z"
   },
   {
    "duration": 29778,
    "start_time": "2023-05-06T12:27:09.430Z"
   },
   {
    "duration": 5,
    "start_time": "2023-05-06T12:29:59.197Z"
   },
   {
    "duration": 4,
    "start_time": "2023-05-06T12:30:55.125Z"
   },
   {
    "duration": 3,
    "start_time": "2023-05-06T12:30:59.307Z"
   },
   {
    "duration": 59424,
    "start_time": "2023-05-06T12:31:00.777Z"
   },
   {
    "duration": 5,
    "start_time": "2023-05-06T12:32:17.859Z"
   },
   {
    "duration": 4,
    "start_time": "2023-05-06T12:32:27.564Z"
   },
   {
    "duration": 30877,
    "start_time": "2023-05-06T12:32:30.038Z"
   },
   {
    "duration": 8,
    "start_time": "2023-05-06T12:33:08.859Z"
   },
   {
    "duration": 13,
    "start_time": "2023-05-06T12:37:38.886Z"
   },
   {
    "duration": 4,
    "start_time": "2023-05-06T12:37:42.124Z"
   },
   {
    "duration": 390,
    "start_time": "2023-05-06T12:37:43.762Z"
   },
   {
    "duration": 952190,
    "start_time": "2023-05-06T12:37:59.697Z"
   },
   {
    "duration": 14,
    "start_time": "2023-05-06T12:54:04.310Z"
   },
   {
    "duration": 13,
    "start_time": "2023-05-06T13:05:15.607Z"
   },
   {
    "duration": 4,
    "start_time": "2023-05-06T13:07:01.870Z"
   },
   {
    "duration": 4,
    "start_time": "2023-05-06T13:07:55.062Z"
   },
   {
    "duration": 12,
    "start_time": "2023-05-06T13:08:42.282Z"
   },
   {
    "duration": 4,
    "start_time": "2023-05-06T13:08:58.725Z"
   },
   {
    "duration": 10,
    "start_time": "2023-05-06T13:09:21.324Z"
   },
   {
    "duration": 20,
    "start_time": "2023-05-06T13:09:37.860Z"
   },
   {
    "duration": 6,
    "start_time": "2023-05-06T13:29:34.906Z"
   },
   {
    "duration": 20,
    "start_time": "2023-05-06T13:29:36.738Z"
   },
   {
    "duration": 7,
    "start_time": "2023-05-06T13:29:47.743Z"
   },
   {
    "duration": 5,
    "start_time": "2023-05-06T13:30:01.032Z"
   },
   {
    "duration": 7,
    "start_time": "2023-05-06T13:30:02.876Z"
   },
   {
    "duration": 6,
    "start_time": "2023-05-06T13:30:18.561Z"
   },
   {
    "duration": 5,
    "start_time": "2023-05-06T13:30:33.339Z"
   },
   {
    "duration": 5,
    "start_time": "2023-05-06T13:30:44.981Z"
   },
   {
    "duration": 4,
    "start_time": "2023-05-06T13:31:58.602Z"
   },
   {
    "duration": 4,
    "start_time": "2023-05-06T13:32:18.852Z"
   },
   {
    "duration": 12,
    "start_time": "2023-05-06T13:32:21.724Z"
   },
   {
    "duration": 5,
    "start_time": "2023-05-06T13:42:56.782Z"
   },
   {
    "duration": 5,
    "start_time": "2023-05-06T13:42:58.958Z"
   },
   {
    "duration": 6,
    "start_time": "2023-05-06T13:45:31.610Z"
   },
   {
    "duration": 4,
    "start_time": "2023-05-06T13:45:41.002Z"
   },
   {
    "duration": 4,
    "start_time": "2023-05-06T13:45:58.035Z"
   },
   {
    "duration": 13,
    "start_time": "2023-05-06T13:45:59.655Z"
   },
   {
    "duration": 13,
    "start_time": "2023-05-06T13:46:54.179Z"
   },
   {
    "duration": 15,
    "start_time": "2023-05-06T13:47:03.094Z"
   },
   {
    "duration": 11,
    "start_time": "2023-05-06T13:47:12.651Z"
   },
   {
    "duration": 11,
    "start_time": "2023-05-06T13:47:19.206Z"
   },
   {
    "duration": 16,
    "start_time": "2023-05-06T13:48:57.173Z"
   },
   {
    "duration": 6,
    "start_time": "2023-05-06T13:55:25.995Z"
   },
   {
    "duration": 17,
    "start_time": "2023-05-06T13:59:11.234Z"
   },
   {
    "duration": 11,
    "start_time": "2023-05-06T13:59:30.375Z"
   },
   {
    "duration": 5,
    "start_time": "2023-05-06T13:59:40.508Z"
   },
   {
    "duration": 13,
    "start_time": "2023-05-06T13:59:41.895Z"
   },
   {
    "duration": 13,
    "start_time": "2023-05-06T14:00:08.028Z"
   },
   {
    "duration": 15,
    "start_time": "2023-05-06T14:00:21.919Z"
   },
   {
    "duration": 14,
    "start_time": "2023-05-06T14:00:35.592Z"
   },
   {
    "duration": 9,
    "start_time": "2023-05-06T14:03:10.097Z"
   },
   {
    "duration": 6,
    "start_time": "2023-05-06T14:03:12.095Z"
   },
   {
    "duration": 13,
    "start_time": "2023-05-06T14:03:13.505Z"
   },
   {
    "duration": 14,
    "start_time": "2023-05-06T14:03:52.701Z"
   },
   {
    "duration": 4,
    "start_time": "2023-05-06T14:20:30.453Z"
   },
   {
    "duration": 13,
    "start_time": "2023-05-06T14:20:44.812Z"
   },
   {
    "duration": 7707,
    "start_time": "2023-05-06T14:21:47.782Z"
   },
   {
    "duration": 46,
    "start_time": "2023-05-07T09:13:38.525Z"
   },
   {
    "duration": 2720,
    "start_time": "2023-05-07T09:14:13.270Z"
   },
   {
    "duration": 3062,
    "start_time": "2023-05-07T09:14:15.992Z"
   },
   {
    "duration": 18,
    "start_time": "2023-05-07T09:14:19.056Z"
   },
   {
    "duration": 157,
    "start_time": "2023-05-07T09:14:19.076Z"
   },
   {
    "duration": 34,
    "start_time": "2023-05-07T09:14:19.236Z"
   },
   {
    "duration": 121,
    "start_time": "2023-05-07T09:14:19.272Z"
   },
   {
    "duration": 149,
    "start_time": "2023-05-07T09:14:19.395Z"
   },
   {
    "duration": 192,
    "start_time": "2023-05-07T09:14:19.546Z"
   },
   {
    "duration": 11820,
    "start_time": "2023-05-07T09:14:19.740Z"
   },
   {
    "duration": 558,
    "start_time": "2023-05-07T09:14:31.562Z"
   },
   {
    "duration": 1488,
    "start_time": "2023-05-07T09:14:32.122Z"
   },
   {
    "duration": 6,
    "start_time": "2023-05-07T09:14:33.612Z"
   },
   {
    "duration": 135,
    "start_time": "2023-05-07T09:14:33.620Z"
   },
   {
    "duration": 34,
    "start_time": "2023-05-07T09:14:33.758Z"
   },
   {
    "duration": 561,
    "start_time": "2023-05-07T09:14:33.793Z"
   },
   {
    "duration": 487,
    "start_time": "2023-05-07T09:14:34.356Z"
   },
   {
    "duration": 5,
    "start_time": "2023-05-07T09:14:34.845Z"
   },
   {
    "duration": 9,
    "start_time": "2023-05-07T09:14:34.851Z"
   },
   {
    "duration": 59483,
    "start_time": "2023-05-07T09:14:34.861Z"
   },
   {
    "duration": 6,
    "start_time": "2023-05-07T09:15:34.346Z"
   },
   {
    "duration": 33471,
    "start_time": "2023-05-07T09:15:34.354Z"
   },
   {
    "duration": 5,
    "start_time": "2023-05-07T09:16:07.827Z"
   },
   {
    "duration": 949458,
    "start_time": "2023-05-07T09:16:07.834Z"
   },
   {
    "duration": 60,
    "start_time": "2023-05-07T09:38:38.721Z"
   },
   {
    "duration": 105,
    "start_time": "2023-05-07T09:38:55.820Z"
   },
   {
    "duration": 22,
    "start_time": "2023-05-07T09:41:36.060Z"
   },
   {
    "duration": 10,
    "start_time": "2023-05-07T09:50:19.683Z"
   },
   {
    "duration": 5,
    "start_time": "2023-05-07T09:56:35.462Z"
   },
   {
    "duration": 9,
    "start_time": "2023-05-07T09:56:57.961Z"
   },
   {
    "duration": 4,
    "start_time": "2023-05-07T09:59:22.710Z"
   },
   {
    "duration": 10,
    "start_time": "2023-05-07T09:59:24.003Z"
   },
   {
    "duration": 5,
    "start_time": "2023-05-07T09:59:54.525Z"
   },
   {
    "duration": 12,
    "start_time": "2023-05-07T09:59:56.014Z"
   },
   {
    "duration": 5,
    "start_time": "2023-05-07T10:00:38.685Z"
   },
   {
    "duration": 14,
    "start_time": "2023-05-07T10:00:40.083Z"
   },
   {
    "duration": 6,
    "start_time": "2023-05-07T10:01:11.580Z"
   },
   {
    "duration": 13,
    "start_time": "2023-05-07T10:01:13.498Z"
   },
   {
    "duration": 12,
    "start_time": "2023-05-07T10:02:33.274Z"
   },
   {
    "duration": 14,
    "start_time": "2023-05-07T10:02:57.945Z"
   },
   {
    "duration": 14,
    "start_time": "2023-05-07T10:03:11.967Z"
   },
   {
    "duration": 73,
    "start_time": "2023-05-07T10:05:00.442Z"
   },
   {
    "duration": 6,
    "start_time": "2023-05-07T10:05:11.840Z"
   },
   {
    "duration": 13,
    "start_time": "2023-05-07T10:05:13.787Z"
   },
   {
    "duration": 75,
    "start_time": "2023-05-07T10:06:22.518Z"
   },
   {
    "duration": 5,
    "start_time": "2023-05-07T10:06:30.239Z"
   },
   {
    "duration": 13,
    "start_time": "2023-05-07T10:06:32.057Z"
   },
   {
    "duration": 8,
    "start_time": "2023-05-07T10:06:45.816Z"
   },
   {
    "duration": 44,
    "start_time": "2023-05-07T10:06:58.680Z"
   },
   {
    "duration": 780,
    "start_time": "2023-05-07T10:07:08.302Z"
   },
   {
    "duration": 7,
    "start_time": "2023-05-07T10:07:33.242Z"
   },
   {
    "duration": 15,
    "start_time": "2023-05-07T10:07:34.803Z"
   },
   {
    "duration": 10,
    "start_time": "2023-05-07T10:07:39.105Z"
   },
   {
    "duration": 17,
    "start_time": "2023-05-07T10:09:29.029Z"
   },
   {
    "duration": 6,
    "start_time": "2023-05-07T10:10:25.212Z"
   },
   {
    "duration": 44,
    "start_time": "2023-05-07T10:11:16.555Z"
   },
   {
    "duration": 45,
    "start_time": "2023-05-07T10:11:24.740Z"
   },
   {
    "duration": 8,
    "start_time": "2023-05-07T10:11:29.322Z"
   },
   {
    "duration": 16,
    "start_time": "2023-05-07T10:11:43.047Z"
   },
   {
    "duration": 13,
    "start_time": "2023-05-07T10:13:06.729Z"
   },
   {
    "duration": 12,
    "start_time": "2023-05-07T10:13:33.039Z"
   },
   {
    "duration": 11,
    "start_time": "2023-05-07T10:18:49.584Z"
   },
   {
    "duration": 10,
    "start_time": "2023-05-07T10:19:03.460Z"
   },
   {
    "duration": 11,
    "start_time": "2023-05-07T10:21:15.454Z"
   },
   {
    "duration": 12,
    "start_time": "2023-05-07T10:22:16.386Z"
   },
   {
    "duration": 12,
    "start_time": "2023-05-07T10:24:07.603Z"
   },
   {
    "duration": 5,
    "start_time": "2023-05-07T10:24:46.373Z"
   },
   {
    "duration": 12,
    "start_time": "2023-05-07T10:25:14.907Z"
   },
   {
    "duration": 6,
    "start_time": "2023-05-07T10:25:43.339Z"
   },
   {
    "duration": 11,
    "start_time": "2023-05-07T10:26:18.089Z"
   },
   {
    "duration": 16,
    "start_time": "2023-05-07T10:26:34.483Z"
   },
   {
    "duration": 14,
    "start_time": "2023-05-07T10:26:44.083Z"
   },
   {
    "duration": 16,
    "start_time": "2023-05-07T10:27:02.774Z"
   },
   {
    "duration": 13,
    "start_time": "2023-05-07T10:27:16.783Z"
   },
   {
    "duration": 11,
    "start_time": "2023-05-07T10:27:48.624Z"
   },
   {
    "duration": 24,
    "start_time": "2023-05-07T10:28:13.535Z"
   },
   {
    "duration": 5,
    "start_time": "2023-05-07T10:29:16.557Z"
   },
   {
    "duration": 6,
    "start_time": "2023-05-07T10:29:21.623Z"
   },
   {
    "duration": 62,
    "start_time": "2023-05-07T10:29:41.105Z"
   },
   {
    "duration": 6,
    "start_time": "2023-05-07T10:29:50.465Z"
   },
   {
    "duration": 16,
    "start_time": "2023-05-07T10:30:29.565Z"
   },
   {
    "duration": 19,
    "start_time": "2023-05-07T10:33:53.168Z"
   },
   {
    "duration": 16,
    "start_time": "2023-05-07T10:34:19.643Z"
   },
   {
    "duration": 15,
    "start_time": "2023-05-07T10:34:55.485Z"
   },
   {
    "duration": 17,
    "start_time": "2023-05-07T10:35:05.925Z"
   },
   {
    "duration": 17,
    "start_time": "2023-05-07T10:35:22.623Z"
   },
   {
    "duration": 15,
    "start_time": "2023-05-07T10:37:11.189Z"
   },
   {
    "duration": 16,
    "start_time": "2023-05-07T10:51:19.882Z"
   },
   {
    "duration": 1866,
    "start_time": "2023-05-07T17:10:09.908Z"
   },
   {
    "duration": 3027,
    "start_time": "2023-05-07T17:10:11.776Z"
   },
   {
    "duration": 16,
    "start_time": "2023-05-07T17:10:14.805Z"
   },
   {
    "duration": 131,
    "start_time": "2023-05-07T17:10:14.822Z"
   },
   {
    "duration": 25,
    "start_time": "2023-05-07T17:10:14.956Z"
   },
   {
    "duration": 118,
    "start_time": "2023-05-07T17:10:14.982Z"
   },
   {
    "duration": 112,
    "start_time": "2023-05-07T17:10:15.102Z"
   },
   {
    "duration": 172,
    "start_time": "2023-05-07T17:10:15.216Z"
   },
   {
    "duration": 11842,
    "start_time": "2023-05-07T17:10:15.390Z"
   },
   {
    "duration": 606,
    "start_time": "2023-05-07T17:10:27.240Z"
   },
   {
    "duration": 1471,
    "start_time": "2023-05-07T17:10:27.848Z"
   },
   {
    "duration": 6,
    "start_time": "2023-05-07T17:10:29.322Z"
   },
   {
    "duration": 130,
    "start_time": "2023-05-07T17:10:29.329Z"
   },
   {
    "duration": 38,
    "start_time": "2023-05-07T17:10:29.462Z"
   },
   {
    "duration": 766,
    "start_time": "2023-05-07T17:10:29.502Z"
   },
   {
    "duration": 558,
    "start_time": "2023-05-07T17:10:30.270Z"
   },
   {
    "duration": 5,
    "start_time": "2023-05-07T17:10:38.150Z"
   },
   {
    "duration": 2,
    "start_time": "2023-05-07T17:10:39.863Z"
   },
   {
    "duration": 84169,
    "start_time": "2023-05-07T17:10:45.588Z"
   },
   {
    "duration": 5,
    "start_time": "2023-05-07T17:20:53.625Z"
   },
   {
    "duration": 5,
    "start_time": "2023-05-07T17:24:47.111Z"
   },
   {
    "duration": 31273,
    "start_time": "2023-05-07T17:24:48.895Z"
   },
   {
    "duration": 5,
    "start_time": "2023-05-07T17:25:38.834Z"
   },
   {
    "duration": 1112409,
    "start_time": "2023-05-07T17:25:40.606Z"
   },
   {
    "duration": 5,
    "start_time": "2023-05-07T17:48:02.202Z"
   },
   {
    "duration": 18,
    "start_time": "2023-05-07T17:48:04.080Z"
   },
   {
    "duration": 6785,
    "start_time": "2023-05-07T17:48:52.265Z"
   },
   {
    "duration": 1686,
    "start_time": "2023-05-26T19:58:45.479Z"
   },
   {
    "duration": 142,
    "start_time": "2023-05-26T19:59:11.690Z"
   },
   {
    "duration": 4287,
    "start_time": "2023-05-26T19:59:36.890Z"
   },
   {
    "duration": 180,
    "start_time": "2023-05-26T19:59:47.724Z"
   },
   {
    "duration": 6,
    "start_time": "2023-05-26T20:00:06.432Z"
   },
   {
    "duration": 32,
    "start_time": "2023-05-26T20:00:44.391Z"
   },
   {
    "duration": 3217,
    "start_time": "2023-05-26T20:01:25.298Z"
   },
   {
    "duration": 3,
    "start_time": "2023-05-26T20:01:35.324Z"
   },
   {
    "duration": 9,
    "start_time": "2023-05-26T20:01:36.699Z"
   },
   {
    "duration": 42,
    "start_time": "2023-05-26T20:01:58.793Z"
   },
   {
    "duration": 18,
    "start_time": "2023-05-26T20:07:53.380Z"
   },
   {
    "duration": 82,
    "start_time": "2023-05-26T20:14:32.890Z"
   },
   {
    "duration": 103,
    "start_time": "2023-05-26T20:14:51.192Z"
   },
   {
    "duration": 14,
    "start_time": "2023-05-26T20:15:58.098Z"
   },
   {
    "duration": 248,
    "start_time": "2023-05-26T20:16:10.852Z"
   },
   {
    "duration": 239,
    "start_time": "2023-05-26T20:16:28.285Z"
   },
   {
    "duration": 10,
    "start_time": "2023-05-26T20:24:23.597Z"
   },
   {
    "duration": 1135,
    "start_time": "2023-05-26T20:24:27.224Z"
   },
   {
    "duration": 181,
    "start_time": "2023-05-26T20:24:29.950Z"
   },
   {
    "duration": 62,
    "start_time": "2023-05-26T20:25:09.604Z"
   },
   {
    "duration": 16,
    "start_time": "2023-05-26T21:06:51.719Z"
   },
   {
    "duration": 10,
    "start_time": "2023-05-26T21:06:59.825Z"
   },
   {
    "duration": 30,
    "start_time": "2023-05-26T21:07:09.607Z"
   },
   {
    "duration": 18,
    "start_time": "2023-05-26T21:07:45.123Z"
   },
   {
    "duration": 18,
    "start_time": "2023-05-26T21:07:52.395Z"
   },
   {
    "duration": 116,
    "start_time": "2023-05-26T21:08:45.020Z"
   }
  ],
  "kernelspec": {
   "display_name": "Python 3 (ipykernel)",
   "language": "python",
   "name": "python3"
  },
  "language_info": {
   "codemirror_mode": {
    "name": "ipython",
    "version": 3
   },
   "file_extension": ".py",
   "mimetype": "text/x-python",
   "name": "python",
   "nbconvert_exporter": "python",
   "pygments_lexer": "ipython3",
   "version": "3.11.3"
  },
  "toc": {
   "base_numbering": 1,
   "nav_menu": {},
   "number_sections": true,
   "sideBar": true,
   "skip_h1_title": true,
   "title_cell": "Table of Contents",
   "title_sidebar": "Contents",
   "toc_cell": false,
   "toc_position": {
    "height": "calc(100% - 180px)",
    "left": "10px",
    "top": "150px",
    "width": "165px"
   },
   "toc_section_display": true,
   "toc_window_display": false
  }
 },
 "nbformat": 4,
 "nbformat_minor": 2
}
