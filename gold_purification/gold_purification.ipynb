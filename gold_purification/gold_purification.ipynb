{
 "cells": [
  {
   "cell_type": "markdown",
   "metadata": {
    "toc": true
   },
   "source": [
    "<h1>Содержание<span class=\"tocSkip\"></span></h1>\n",
    "<div class=\"toc\"><ul class=\"toc-item\"><li><span><a href=\"#Подготовка-данных\" data-toc-modified-id=\"Подготовка-данных-1\"><span class=\"toc-item-num\">1&nbsp;&nbsp;</span>Подготовка данных</a></span></li><li><span><a href=\"#Анализ-данных\" data-toc-modified-id=\"Анализ-данных-2\"><span class=\"toc-item-num\">2&nbsp;&nbsp;</span>Анализ данных</a></span></li><li><span><a href=\"#Модель\" data-toc-modified-id=\"Модель-3\"><span class=\"toc-item-num\">3&nbsp;&nbsp;</span>Модель</a></span></li><li><span><a href=\"#Чек-лист-готовности-проекта\" data-toc-modified-id=\"Чек-лист-готовности-проекта-4\"><span class=\"toc-item-num\">4&nbsp;&nbsp;</span>Чек-лист готовности проекта</a></span></li></ul></div>"
   ]
  },
  {
   "cell_type": "markdown",
   "metadata": {},
   "source": [
    "# Восстановление золота из руды"
   ]
  },
  {
   "cell_type": "markdown",
   "metadata": {},
   "source": [
    "## Подготовка данных"
   ]
  },
  {
   "cell_type": "code",
   "execution_count": 1,
   "metadata": {},
   "outputs": [],
   "source": [
    "import pandas as pd\n",
    "import matplotlib.pyplot as plt\n",
    "import seaborn as sns\n",
    "from tqdm import tqdm\n",
    "from sklearn.dummy import DummyRegressor\n",
    "from sklearn.metrics import mean_absolute_error, make_scorer\n",
    "from scipy import stats as st\n",
    "from sklearn.tree import DecisionTreeClassifier\n",
    "from sklearn.ensemble import RandomForestRegressor\n",
    "from sklearn.linear_model import LinearRegression\n",
    "from sklearn.model_selection import cross_val_score\n"
   ]
  },
  {
   "cell_type": "markdown",
   "metadata": {},
   "source": [
    "## Анализ данных"
   ]
  },
  {
   "cell_type": "markdown",
   "metadata": {},
   "source": [
    "<div>\n",
    "    <font color='green'>Информация о таблице с обучающей выборкой</font>\n",
    "</div>"
   ]
  },
  {
   "cell_type": "code",
   "execution_count": 6,
   "metadata": {
    "scrolled": true
   },
   "outputs": [
    {
     "name": "stdout",
     "output_type": "stream",
     "text": [
      "<class 'pandas.core.frame.DataFrame'>\n",
      "RangeIndex: 14149 entries, 0 to 14148\n",
      "Data columns (total 87 columns):\n",
      " #   Column                                              Non-Null Count  Dtype  \n",
      "---  ------                                              --------------  -----  \n",
      " 0   date                                                14149 non-null  object \n",
      " 1   final.output.concentrate_ag                         14148 non-null  float64\n",
      " 2   final.output.concentrate_pb                         14148 non-null  float64\n",
      " 3   final.output.concentrate_sol                        13938 non-null  float64\n",
      " 4   final.output.concentrate_au                         14149 non-null  float64\n",
      " 5   final.output.recovery                               14149 non-null  float64\n",
      " 6   final.output.tail_ag                                14149 non-null  float64\n",
      " 7   final.output.tail_pb                                14049 non-null  float64\n",
      " 8   final.output.tail_sol                               14144 non-null  float64\n",
      " 9   final.output.tail_au                                14149 non-null  float64\n",
      " 10  primary_cleaner.input.sulfate                       14129 non-null  float64\n",
      " 11  primary_cleaner.input.depressant                    14117 non-null  float64\n",
      " 12  primary_cleaner.input.feed_size                     14149 non-null  float64\n",
      " 13  primary_cleaner.input.xanthate                      14049 non-null  float64\n",
      " 14  primary_cleaner.output.concentrate_ag               14149 non-null  float64\n",
      " 15  primary_cleaner.output.concentrate_pb               14063 non-null  float64\n",
      " 16  primary_cleaner.output.concentrate_sol              13863 non-null  float64\n",
      " 17  primary_cleaner.output.concentrate_au               14149 non-null  float64\n",
      " 18  primary_cleaner.output.tail_ag                      14148 non-null  float64\n",
      " 19  primary_cleaner.output.tail_pb                      14134 non-null  float64\n",
      " 20  primary_cleaner.output.tail_sol                     14103 non-null  float64\n",
      " 21  primary_cleaner.output.tail_au                      14149 non-null  float64\n",
      " 22  primary_cleaner.state.floatbank8_a_air              14145 non-null  float64\n",
      " 23  primary_cleaner.state.floatbank8_a_level            14148 non-null  float64\n",
      " 24  primary_cleaner.state.floatbank8_b_air              14145 non-null  float64\n",
      " 25  primary_cleaner.state.floatbank8_b_level            14148 non-null  float64\n",
      " 26  primary_cleaner.state.floatbank8_c_air              14147 non-null  float64\n",
      " 27  primary_cleaner.state.floatbank8_c_level            14148 non-null  float64\n",
      " 28  primary_cleaner.state.floatbank8_d_air              14146 non-null  float64\n",
      " 29  primary_cleaner.state.floatbank8_d_level            14148 non-null  float64\n",
      " 30  rougher.calculation.sulfate_to_au_concentrate       14148 non-null  float64\n",
      " 31  rougher.calculation.floatbank10_sulfate_to_au_feed  14148 non-null  float64\n",
      " 32  rougher.calculation.floatbank11_sulfate_to_au_feed  14148 non-null  float64\n",
      " 33  rougher.calculation.au_pb_ratio                     14149 non-null  float64\n",
      " 34  rougher.input.feed_ag                               14149 non-null  float64\n",
      " 35  rougher.input.feed_pb                               14049 non-null  float64\n",
      " 36  rougher.input.feed_rate                             14141 non-null  float64\n",
      " 37  rougher.input.feed_size                             14005 non-null  float64\n",
      " 38  rougher.input.feed_sol                              14071 non-null  float64\n",
      " 39  rougher.input.feed_au                               14149 non-null  float64\n",
      " 40  rougher.input.floatbank10_sulfate                   14120 non-null  float64\n",
      " 41  rougher.input.floatbank10_xanthate                  14141 non-null  float64\n",
      " 42  rougher.input.floatbank11_sulfate                   14113 non-null  float64\n",
      " 43  rougher.input.floatbank11_xanthate                  13721 non-null  float64\n",
      " 44  rougher.output.concentrate_ag                       14149 non-null  float64\n",
      " 45  rougher.output.concentrate_pb                       14149 non-null  float64\n",
      " 46  rougher.output.concentrate_sol                      14127 non-null  float64\n",
      " 47  rougher.output.concentrate_au                       14149 non-null  float64\n",
      " 48  rougher.output.recovery                             14149 non-null  float64\n",
      " 49  rougher.output.tail_ag                              14148 non-null  float64\n",
      " 50  rougher.output.tail_pb                              14149 non-null  float64\n",
      " 51  rougher.output.tail_sol                             14149 non-null  float64\n",
      " 52  rougher.output.tail_au                              14149 non-null  float64\n",
      " 53  rougher.state.floatbank10_a_air                     14148 non-null  float64\n",
      " 54  rougher.state.floatbank10_a_level                   14148 non-null  float64\n",
      " 55  rougher.state.floatbank10_b_air                     14148 non-null  float64\n",
      " 56  rougher.state.floatbank10_b_level                   14148 non-null  float64\n",
      " 57  rougher.state.floatbank10_c_air                     14148 non-null  float64\n",
      " 58  rougher.state.floatbank10_c_level                   14148 non-null  float64\n",
      " 59  rougher.state.floatbank10_d_air                     14149 non-null  float64\n",
      " 60  rougher.state.floatbank10_d_level                   14149 non-null  float64\n",
      " 61  rougher.state.floatbank10_e_air                     13713 non-null  float64\n",
      " 62  rougher.state.floatbank10_e_level                   14149 non-null  float64\n",
      " 63  rougher.state.floatbank10_f_air                     14149 non-null  float64\n",
      " 64  rougher.state.floatbank10_f_level                   14149 non-null  float64\n",
      " 65  secondary_cleaner.output.tail_ag                    14147 non-null  float64\n",
      " 66  secondary_cleaner.output.tail_pb                    14139 non-null  float64\n",
      " 67  secondary_cleaner.output.tail_sol                   12544 non-null  float64\n",
      " 68  secondary_cleaner.output.tail_au                    14149 non-null  float64\n",
      " 69  secondary_cleaner.state.floatbank2_a_air            13932 non-null  float64\n",
      " 70  secondary_cleaner.state.floatbank2_a_level          14148 non-null  float64\n",
      " 71  secondary_cleaner.state.floatbank2_b_air            14128 non-null  float64\n",
      " 72  secondary_cleaner.state.floatbank2_b_level          14148 non-null  float64\n",
      " 73  secondary_cleaner.state.floatbank3_a_air            14145 non-null  float64\n",
      " 74  secondary_cleaner.state.floatbank3_a_level          14148 non-null  float64\n",
      " 75  secondary_cleaner.state.floatbank3_b_air            14148 non-null  float64\n",
      " 76  secondary_cleaner.state.floatbank3_b_level          14148 non-null  float64\n",
      " 77  secondary_cleaner.state.floatbank4_a_air            14143 non-null  float64\n",
      " 78  secondary_cleaner.state.floatbank4_a_level          14148 non-null  float64\n",
      " 79  secondary_cleaner.state.floatbank4_b_air            14148 non-null  float64\n",
      " 80  secondary_cleaner.state.floatbank4_b_level          14148 non-null  float64\n",
      " 81  secondary_cleaner.state.floatbank5_a_air            14148 non-null  float64\n",
      " 82  secondary_cleaner.state.floatbank5_a_level          14148 non-null  float64\n",
      " 83  secondary_cleaner.state.floatbank5_b_air            14148 non-null  float64\n",
      " 84  secondary_cleaner.state.floatbank5_b_level          14148 non-null  float64\n",
      " 85  secondary_cleaner.state.floatbank6_a_air            14147 non-null  float64\n",
      " 86  secondary_cleaner.state.floatbank6_a_level          14148 non-null  float64\n",
      "dtypes: float64(86), object(1)\n",
      "memory usage: 9.4+ MB\n"
     ]
    }
   ],
   "source": [
    "data_train.info()"
   ]
  },
  {
   "cell_type": "markdown",
   "metadata": {},
   "source": [
    "<div>\n",
    "    <font color='green'>Информация о таблице с тестовой выборкой</font>\n",
    "</div>"
   ]
  },
  {
   "cell_type": "code",
   "execution_count": 7,
   "metadata": {
    "scrolled": true
   },
   "outputs": [
    {
     "name": "stdout",
     "output_type": "stream",
     "text": [
      "<class 'pandas.core.frame.DataFrame'>\n",
      "RangeIndex: 5290 entries, 0 to 5289\n",
      "Data columns (total 53 columns):\n",
      " #   Column                                      Non-Null Count  Dtype  \n",
      "---  ------                                      --------------  -----  \n",
      " 0   date                                        5290 non-null   object \n",
      " 1   primary_cleaner.input.sulfate               5286 non-null   float64\n",
      " 2   primary_cleaner.input.depressant            5285 non-null   float64\n",
      " 3   primary_cleaner.input.feed_size             5290 non-null   float64\n",
      " 4   primary_cleaner.input.xanthate              5286 non-null   float64\n",
      " 5   primary_cleaner.state.floatbank8_a_air      5290 non-null   float64\n",
      " 6   primary_cleaner.state.floatbank8_a_level    5290 non-null   float64\n",
      " 7   primary_cleaner.state.floatbank8_b_air      5290 non-null   float64\n",
      " 8   primary_cleaner.state.floatbank8_b_level    5290 non-null   float64\n",
      " 9   primary_cleaner.state.floatbank8_c_air      5290 non-null   float64\n",
      " 10  primary_cleaner.state.floatbank8_c_level    5290 non-null   float64\n",
      " 11  primary_cleaner.state.floatbank8_d_air      5290 non-null   float64\n",
      " 12  primary_cleaner.state.floatbank8_d_level    5290 non-null   float64\n",
      " 13  rougher.input.feed_ag                       5290 non-null   float64\n",
      " 14  rougher.input.feed_pb                       5290 non-null   float64\n",
      " 15  rougher.input.feed_rate                     5287 non-null   float64\n",
      " 16  rougher.input.feed_size                     5289 non-null   float64\n",
      " 17  rougher.input.feed_sol                      5269 non-null   float64\n",
      " 18  rougher.input.feed_au                       5290 non-null   float64\n",
      " 19  rougher.input.floatbank10_sulfate           5285 non-null   float64\n",
      " 20  rougher.input.floatbank10_xanthate          5290 non-null   float64\n",
      " 21  rougher.input.floatbank11_sulfate           5282 non-null   float64\n",
      " 22  rougher.input.floatbank11_xanthate          5265 non-null   float64\n",
      " 23  rougher.state.floatbank10_a_air             5290 non-null   float64\n",
      " 24  rougher.state.floatbank10_a_level           5290 non-null   float64\n",
      " 25  rougher.state.floatbank10_b_air             5290 non-null   float64\n",
      " 26  rougher.state.floatbank10_b_level           5290 non-null   float64\n",
      " 27  rougher.state.floatbank10_c_air             5290 non-null   float64\n",
      " 28  rougher.state.floatbank10_c_level           5290 non-null   float64\n",
      " 29  rougher.state.floatbank10_d_air             5290 non-null   float64\n",
      " 30  rougher.state.floatbank10_d_level           5290 non-null   float64\n",
      " 31  rougher.state.floatbank10_e_air             5290 non-null   float64\n",
      " 32  rougher.state.floatbank10_e_level           5290 non-null   float64\n",
      " 33  rougher.state.floatbank10_f_air             5290 non-null   float64\n",
      " 34  rougher.state.floatbank10_f_level           5290 non-null   float64\n",
      " 35  secondary_cleaner.state.floatbank2_a_air    5287 non-null   float64\n",
      " 36  secondary_cleaner.state.floatbank2_a_level  5290 non-null   float64\n",
      " 37  secondary_cleaner.state.floatbank2_b_air    5288 non-null   float64\n",
      " 38  secondary_cleaner.state.floatbank2_b_level  5290 non-null   float64\n",
      " 39  secondary_cleaner.state.floatbank3_a_air    5281 non-null   float64\n",
      " 40  secondary_cleaner.state.floatbank3_a_level  5290 non-null   float64\n",
      " 41  secondary_cleaner.state.floatbank3_b_air    5290 non-null   float64\n",
      " 42  secondary_cleaner.state.floatbank3_b_level  5290 non-null   float64\n",
      " 43  secondary_cleaner.state.floatbank4_a_air    5290 non-null   float64\n",
      " 44  secondary_cleaner.state.floatbank4_a_level  5290 non-null   float64\n",
      " 45  secondary_cleaner.state.floatbank4_b_air    5290 non-null   float64\n",
      " 46  secondary_cleaner.state.floatbank4_b_level  5290 non-null   float64\n",
      " 47  secondary_cleaner.state.floatbank5_a_air    5290 non-null   float64\n",
      " 48  secondary_cleaner.state.floatbank5_a_level  5290 non-null   float64\n",
      " 49  secondary_cleaner.state.floatbank5_b_air    5290 non-null   float64\n",
      " 50  secondary_cleaner.state.floatbank5_b_level  5290 non-null   float64\n",
      " 51  secondary_cleaner.state.floatbank6_a_air    5290 non-null   float64\n",
      " 52  secondary_cleaner.state.floatbank6_a_level  5290 non-null   float64\n",
      "dtypes: float64(52), object(1)\n",
      "memory usage: 2.1+ MB\n"
     ]
    }
   ],
   "source": [
    "data_test.info()"
   ]
  },
  {
   "cell_type": "markdown",
   "metadata": {},
   "source": [
    "<div>\n",
    "    <font color='green'>Столбцы из обучающей выборки, которые отсутствуют в тестовой выборке.</font>\n",
    "</div>"
   ]
  },
  {
   "cell_type": "code",
   "execution_count": 8,
   "metadata": {
    "scrolled": true
   },
   "outputs": [
    {
     "name": "stdout",
     "output_type": "stream",
     "text": [
      "final.output.concentrate_ag\n",
      "final.output.concentrate_pb\n",
      "final.output.concentrate_sol\n",
      "final.output.concentrate_au\n",
      "final.output.recovery\n",
      "final.output.tail_ag\n",
      "final.output.tail_pb\n",
      "final.output.tail_sol\n",
      "final.output.tail_au\n",
      "primary_cleaner.output.concentrate_ag\n",
      "primary_cleaner.output.concentrate_pb\n",
      "primary_cleaner.output.concentrate_sol\n",
      "primary_cleaner.output.concentrate_au\n",
      "primary_cleaner.output.tail_ag\n",
      "primary_cleaner.output.tail_pb\n",
      "primary_cleaner.output.tail_sol\n",
      "primary_cleaner.output.tail_au\n",
      "rougher.calculation.sulfate_to_au_concentrate\n",
      "rougher.calculation.floatbank10_sulfate_to_au_feed\n",
      "rougher.calculation.floatbank11_sulfate_to_au_feed\n",
      "rougher.calculation.au_pb_ratio\n",
      "rougher.output.concentrate_ag\n",
      "rougher.output.concentrate_pb\n",
      "rougher.output.concentrate_sol\n",
      "rougher.output.concentrate_au\n",
      "rougher.output.recovery\n",
      "rougher.output.tail_ag\n",
      "rougher.output.tail_pb\n",
      "rougher.output.tail_sol\n",
      "rougher.output.tail_au\n",
      "secondary_cleaner.output.tail_ag\n",
      "secondary_cleaner.output.tail_pb\n",
      "secondary_cleaner.output.tail_sol\n",
      "secondary_cleaner.output.tail_au\n"
     ]
    }
   ],
   "source": [
    "del_columns = []\n",
    "for columns in data_train.columns:\n",
    "    if columns not in data_test.columns:\n",
    "        print(columns)\n",
    "        del_columns.append(columns.replace('/n', ''))"
   ]
  },
  {
   "cell_type": "markdown",
   "metadata": {},
   "source": [
    "**В тестовой таблице отсутствуют целевые признаки и признаки, которые выходят позже предсказания**"
   ]
  },
  {
   "cell_type": "markdown",
   "metadata": {},
   "source": [
    "<div>\n",
    "    <font color='green'>Вычисление эффективности обогащения по формуле для au</font>\n",
    "</div>"
   ]
  },
  {
   "cell_type": "code",
   "execution_count": 9,
   "metadata": {},
   "outputs": [
    {
     "data": {
      "text/html": [
       "<div>\n",
       "<style scoped>\n",
       "    .dataframe tbody tr th:only-of-type {\n",
       "        vertical-align: middle;\n",
       "    }\n",
       "\n",
       "    .dataframe tbody tr th {\n",
       "        vertical-align: top;\n",
       "    }\n",
       "\n",
       "    .dataframe thead th {\n",
       "        text-align: right;\n",
       "    }\n",
       "</style>\n",
       "<table border=\"1\" class=\"dataframe\">\n",
       "  <thead>\n",
       "    <tr style=\"text-align: right;\">\n",
       "      <th></th>\n",
       "      <th>rougher.output.recovery</th>\n",
       "      <th>recovery</th>\n",
       "    </tr>\n",
       "  </thead>\n",
       "  <tbody>\n",
       "    <tr>\n",
       "      <th>0</th>\n",
       "      <td>87.107763</td>\n",
       "      <td>87.107763</td>\n",
       "    </tr>\n",
       "    <tr>\n",
       "      <th>1</th>\n",
       "      <td>86.843261</td>\n",
       "      <td>86.843261</td>\n",
       "    </tr>\n",
       "    <tr>\n",
       "      <th>2</th>\n",
       "      <td>86.842308</td>\n",
       "      <td>86.842308</td>\n",
       "    </tr>\n",
       "    <tr>\n",
       "      <th>3</th>\n",
       "      <td>87.226430</td>\n",
       "      <td>87.226430</td>\n",
       "    </tr>\n",
       "    <tr>\n",
       "      <th>4</th>\n",
       "      <td>86.688794</td>\n",
       "      <td>86.688794</td>\n",
       "    </tr>\n",
       "    <tr>\n",
       "      <th>...</th>\n",
       "      <td>...</td>\n",
       "      <td>...</td>\n",
       "    </tr>\n",
       "    <tr>\n",
       "      <th>14144</th>\n",
       "      <td>89.574376</td>\n",
       "      <td>89.574376</td>\n",
       "    </tr>\n",
       "    <tr>\n",
       "      <th>14145</th>\n",
       "      <td>87.724007</td>\n",
       "      <td>87.724007</td>\n",
       "    </tr>\n",
       "    <tr>\n",
       "      <th>14146</th>\n",
       "      <td>88.890579</td>\n",
       "      <td>88.890579</td>\n",
       "    </tr>\n",
       "    <tr>\n",
       "      <th>14147</th>\n",
       "      <td>89.858126</td>\n",
       "      <td>89.858126</td>\n",
       "    </tr>\n",
       "    <tr>\n",
       "      <th>14148</th>\n",
       "      <td>89.514960</td>\n",
       "      <td>89.514960</td>\n",
       "    </tr>\n",
       "  </tbody>\n",
       "</table>\n",
       "<p>14149 rows × 2 columns</p>\n",
       "</div>"
      ],
      "text/plain": [
       "       rougher.output.recovery   recovery\n",
       "0                    87.107763  87.107763\n",
       "1                    86.843261  86.843261\n",
       "2                    86.842308  86.842308\n",
       "3                    87.226430  87.226430\n",
       "4                    86.688794  86.688794\n",
       "...                        ...        ...\n",
       "14144                89.574376  89.574376\n",
       "14145                87.724007  87.724007\n",
       "14146                88.890579  88.890579\n",
       "14147                89.858126  89.858126\n",
       "14148                89.514960  89.514960\n",
       "\n",
       "[14149 rows x 2 columns]"
      ]
     },
     "execution_count": 9,
     "metadata": {},
     "output_type": "execute_result"
    }
   ],
   "source": [
    "data_train['recovery'] = data_train['rougher.output.concentrate_au']*(data_train['rougher.input.feed_au']-\\\n",
    "data_train['rougher.output.tail_au'])/(data_train['rougher.input.feed_au']*(data_train['rougher.output.concentrate_au']\\\n",
    "-data_train['rougher.output.tail_au']))*100\n",
    "data_train[['rougher.output.recovery', 'recovery']]\n",
    "                                                                                 \n"
   ]
  },
  {
   "cell_type": "markdown",
   "metadata": {},
   "source": [
    "<div>\n",
    "    <font color='green'>Метрика mae для вычисленной эффективности обогащения и приведённой в таблице</font>\n",
    "</div>"
   ]
  },
  {
   "cell_type": "code",
   "execution_count": 10,
   "metadata": {},
   "outputs": [
    {
     "data": {
      "text/plain": [
       "9.73512347450521e-15"
      ]
     },
     "execution_count": 10,
     "metadata": {},
     "output_type": "execute_result"
    }
   ],
   "source": [
    "mean_absolute_error(data_train['rougher.output.recovery'], data_train['recovery'])\n"
   ]
  },
  {
   "cell_type": "code",
   "execution_count": 11,
   "metadata": {},
   "outputs": [],
   "source": [
    "data_test = data_test.merge(data[['rougher.output.recovery', 'final.output.recovery', 'date']],\\\n",
    "how = 'inner', on = 'date')"
   ]
  },
  {
   "cell_type": "markdown",
   "metadata": {},
   "source": [
    "<div>\n",
    "    <font color='green'>Удаление столбца recovery</font>\n",
    "</div>"
   ]
  },
  {
   "cell_type": "code",
   "execution_count": 12,
   "metadata": {},
   "outputs": [],
   "source": [
    "data_train.drop('recovery', axis=1, inplace=True)"
   ]
  },
  {
   "cell_type": "markdown",
   "metadata": {},
   "source": [
    "<div>\n",
    "    <font color='green'>Удаление пропусков</font>\n",
    "</div>"
   ]
  },
  {
   "cell_type": "code",
   "execution_count": 13,
   "metadata": {},
   "outputs": [],
   "source": [
    "data_train.dropna(inplace=True)\n",
    "data_test.dropna(inplace=True)\n",
    "data.dropna(inplace=True)"
   ]
  },
  {
   "cell_type": "markdown",
   "metadata": {},
   "source": [
    "<div>\n",
    "    <font color='green'>Функция для построения средних значений концентраций в зависимости от \n",
    "    этапов очистки для au, ag, pb</font>\n",
    "</div>"
   ]
  },
  {
   "cell_type": "code",
   "execution_count": 14,
   "metadata": {},
   "outputs": [],
   "source": [
    "def plot(column1, column2, column3, column4):\n",
    "    data_clearing = data_train[[column1, column2, column3, column4]]\n",
    "    data_clearing.mean()\n",
    "    data_clearing.columns = ['исходное сырьё', 'перед 1 очисткой', 'после 1 очистки', 'после 2 очистки']\n",
    "    data_clearing.mean().plot(kind='bar', rot=0, figsize=(7, 4))\n",
    "    plt.show()"
   ]
  },
  {
   "cell_type": "markdown",
   "metadata": {},
   "source": [
    "<div>\n",
    "    <font color='green'>Построение графиков</font>\n",
    "</div>"
   ]
  },
  {
   "cell_type": "code",
   "execution_count": 15,
   "metadata": {},
   "outputs": [
    {
     "name": "stdout",
     "output_type": "stream",
     "text": [
      "Au\n"
     ]
    },
    {
     "data": {
      "image/png": "[encoded data removed]",
      "text/plain": [
       "<Figure size 504x288 with 1 Axes>"
      ]
     },
     "metadata": {
      "needs_background": "light"
     },
     "output_type": "display_data"
    },
    {
     "name": "stdout",
     "output_type": "stream",
     "text": [
      "Ag\n"
     ]
    },
    {
     "data": {
      "image/png": "[encoded data removed]",
      "text/plain": [
       "<Figure size 504x288 with 1 Axes>"
      ]
     },
     "metadata": {
      "needs_background": "light"
     },
     "output_type": "display_data"
    },
    {
     "name": "stdout",
     "output_type": "stream",
     "text": [
      "Pb\n"
     ]
    },
    {
     "data": {
      "image/png": "[encoded data removed]",
      "text/plain": [
       "<Figure size 504x288 with 1 Axes>"
      ]
     },
     "metadata": {
      "needs_background": "light"
     },
     "output_type": "display_data"
    }
   ],
   "source": [
    "print('Au')\n",
    "plot('rougher.input.feed_au','rougher.output.concentrate_au' ,'primary_cleaner.output.concentrate_au', \\\n",
    "            'final.output.concentrate_au')\n",
    "print('Ag')\n",
    "plot('rougher.input.feed_ag', 'rougher.output.concentrate_ag' ,'primary_cleaner.output.concentrate_ag', \\\n",
    "            'final.output.concentrate_ag')\n",
    "print('Pb')\n",
    "plot('rougher.input.feed_pb', 'rougher.output.concentrate_pb' ,'primary_cleaner.output.concentrate_pb', \\\n",
    "            'final.output.concentrate_pb')\n",
    "        "
   ]
  },
  {
   "cell_type": "markdown",
   "metadata": {},
   "source": [
    "**У Au средняя концентрация стабильно повышается с каждым этапом. У Ag имеется пик перед первой очисткой, но затем значение понижается и к концу становится ниже значения средней концентрации в сырье. У Pb незначительно повышается.**"
   ]
  },
  {
   "cell_type": "markdown",
   "metadata": {},
   "source": [
    "<div>\n",
    "    <font color='green'>Графики распределения размеров гранул сырья в обучающей и тестовой выборках </font>\n",
    "    </div>"
   ]
  },
  {
   "cell_type": "code",
   "execution_count": 16,
   "metadata": {},
   "outputs": [
    {
     "data": {
      "image/png": "[encoded data removed]",
      "text/plain": [
       "<Figure size 720x360 with 1 Axes>"
      ]
     },
     "metadata": {
      "needs_background": "light"
     },
     "output_type": "display_data"
    }
   ],
   "source": [
    "data_plot = pd.DataFrame({'обучающая выборка':data_train['rougher.input.feed_size'],\\\n",
    "                          'тестовая выборка':data_test['rougher.input.feed_size']})\n",
    "data_plot.plot.kde(figsize=(10, 5))\n",
    "\n",
    "plt.show()\n"
   ]
  },
  {
   "cell_type": "markdown",
   "metadata": {},
   "source": [
    "**Распределения мало отличаются.**"
   ]
  },
  {
   "cell_type": "markdown",
   "metadata": {},
   "source": [
    "<div>\n",
    "    <font color='green'>Суммарная концентрация всех веществ на разных этапах</font>\n",
    "</div>"
   ]
  },
  {
   "cell_type": "code",
   "execution_count": 17,
   "metadata": {},
   "outputs": [],
   "source": [
    "data['rougher.input.feed_sum'] = data['rougher.input.feed_au'] + data['rougher.input.feed_ag'] + \\\n",
    "data['rougher.input.feed_pb'] + data['rougher.input.feed_sol']\n",
    "\n",
    "data['rougher.output.concentrate_sum'] = data['rougher.output.concentrate_au'] + \\\n",
    "data['rougher.output.concentrate_ag'] +data['rougher.output.concentrate_pb'] + data['rougher.output.concentrate_sol']\n",
    "\n",
    "data['primary_cleaner.output.concentrate_sum'] = data['primary_cleaner.output.concentrate_au'] + \\\n",
    "data['primary_cleaner.output.concentrate_ag'] + data['primary_cleaner.output.concentrate_pb'] +\\\n",
    "data['primary_cleaner.output.concentrate_sol']\n",
    "\n",
    "data['final.output.concentrate_sum'] = data['final.output.concentrate_au'] + \\\n",
    "data['final.output.concentrate_ag'] + data['final.output.concentrate_pb'] + data['final.output.concentrate_sol']\n",
    "\n",
    "\n"
   ]
  },
  {
   "cell_type": "code",
   "execution_count": 18,
   "metadata": {},
   "outputs": [
    {
     "name": "stdout",
     "output_type": "stream",
     "text": [
      "Расспределение суммы всех веществ для этапа сырья\n"
     ]
    },
    {
     "data": {
      "image/png": "[encoded data removed]",
      "text/plain": [
       "<Figure size 432x288 with 1 Axes>"
      ]
     },
     "metadata": {
      "needs_background": "light"
     },
     "output_type": "display_data"
    },
    {
     "name": "stdout",
     "output_type": "stream",
     "text": [
      "Расспределение суммы всех веществ для чернового этапа\n"
     ]
    },
    {
     "data": {
      "image/png": "[encoded data removed]",
      "text/plain": [
       "<Figure size 432x288 with 1 Axes>"
      ]
     },
     "metadata": {
      "needs_background": "light"
     },
     "output_type": "display_data"
    },
    {
     "name": "stdout",
     "output_type": "stream",
     "text": [
      "Расспределение суммы всех веществ после первой очистки\n"
     ]
    },
    {
     "data": {
      "image/png": "[encoded data removed]",
      "text/plain": [
       "<Figure size 432x288 with 1 Axes>"
      ]
     },
     "metadata": {
      "needs_background": "light"
     },
     "output_type": "display_data"
    },
    {
     "name": "stdout",
     "output_type": "stream",
     "text": [
      "Расспределение суммы всех веществ для финального этапа\n"
     ]
    },
    {
     "data": {
      "image/png": "[encoded data removed]",
      "text/plain": [
       "<Figure size 432x288 with 1 Axes>"
      ]
     },
     "metadata": {
      "needs_background": "light"
     },
     "output_type": "display_data"
    }
   ],
   "source": [
    "print(\"Расспределение суммы всех веществ для этапа сырья\")\n",
    "data['rougher.input.feed_sum'].plot.hist(bins=50)\n",
    "plt.show()\n",
    "print(\"Расспределение суммы всех веществ для чернового этапа\")\n",
    "data['rougher.output.concentrate_sum'].plot.hist(bins=50)\n",
    "plt.show()\n",
    "print(\"Расспределение суммы всех веществ после первой очистки\")\n",
    "data['primary_cleaner.output.concentrate_sum'].plot.hist(bins=50)\n",
    "plt.show()\n",
    "print(\"Расспределение суммы всех веществ для финального этапа\")\n",
    "data['final.output.concentrate_sum'].plot.hist(bins=50)\n",
    "plt.show()"
   ]
  },
  {
   "cell_type": "markdown",
   "metadata": {},
   "source": [
    "<div>\n",
    "    <font color='green'>Удаление аномалий в распределениях суммы всех 4-ёх веществ по каждаму этапу</font>\n",
    "    </div>"
   ]
  },
  {
   "cell_type": "code",
   "execution_count": 19,
   "metadata": {},
   "outputs": [],
   "source": [
    "for col in ['rougher.input.feed_sum', 'rougher.output.concentrate_sum', \\\n",
    "            'primary_cleaner.output.concentrate_sum', 'final.output.concentrate_sum']:\n",
    "    data = data[data[col]>20]"
   ]
  },
  {
   "cell_type": "code",
   "execution_count": 20,
   "metadata": {},
   "outputs": [],
   "source": [
    "data_train = data_train.set_index('date')\n",
    "data = data.set_index('date')\n",
    "data_train = data_train.loc[data_train.index.isin(data.index)]"
   ]
  },
  {
   "cell_type": "markdown",
   "metadata": {},
   "source": [
    "**Самое узкое и высокое получилось распределение после финального этапа. Это может говорить о близких к  постоянству результатах. Самое широкое - на этапе сырья. Также были обнаруженны аномалии в распределениях сумм 4-ёх веществ по этапам и по датам, которые были удаленны.**\n"
   ]
  },
  {
   "cell_type": "markdown",
   "metadata": {},
   "source": [
    "<div>\n",
    "    <font color='green'>Функция для рассчёта метрики smape</font>\n",
    "</div>"
   ]
  },
  {
   "cell_type": "code",
   "execution_count": 21,
   "metadata": {},
   "outputs": [],
   "source": [
    "def smape(target, predict):\n",
    "    numerator = abs(target-predict)\n",
    "    denominator = (abs(target)+abs(predict))/2\n",
    "    smape = ((numerator/denominator).sum()/target.shape[0])*100\n",
    "    return smape\n",
    "def final_smape(smape_r, smape_f):\n",
    "    return (0.25*smape_r + 0.75*smape_f)"
   ]
  },
  {
   "cell_type": "markdown",
   "metadata": {},
   "source": [
    "<div>\n",
    "    <font color='green'>Удаление признаков из data_train. Обучающие и тестовые признаки. Целевые признаки rougher.output.recovery\n",
    "    и final.output.recovery</font>\n",
    "</div>"
   ]
  },
  {
   "cell_type": "code",
   "execution_count": 22,
   "metadata": {},
   "outputs": [],
   "source": [
    "columns_for_model = ['rougher.output.recovery', 'final.output.recovery']\n",
    "for col in del_columns:\n",
    "    if col not in columns_for_model:\n",
    "        data_train.drop([col], axis=1, inplace=True)\n",
    "    "
   ]
  },
  {
   "cell_type": "code",
   "execution_count": 23,
   "metadata": {},
   "outputs": [],
   "source": [
    "data_train.reset_index(drop=True, inplace=True)\n",
    "data_test.reset_index(drop=True, inplace=True)\n",
    "data.reset_index(drop=True, inplace=True)"
   ]
  },
  {
   "cell_type": "code",
   "execution_count": 24,
   "metadata": {},
   "outputs": [],
   "source": [
    "data_test.drop('date', axis=1, inplace=True)"
   ]
  },
  {
   "cell_type": "code",
   "execution_count": 25,
   "metadata": {},
   "outputs": [],
   "source": [
    "features_train_r = data_train.drop(['rougher.output.recovery', 'final.output.recovery'], axis=1)\n",
    "target_train_r = data_train['rougher.output.recovery']\n",
    "\n",
    "\n",
    "features_test_r = data_test.drop(['rougher.output.recovery', 'final.output.recovery'], axis=1)\n",
    "target_test_r = data_test['rougher.output.recovery']\n"
   ]
  },
  {
   "cell_type": "code",
   "execution_count": 26,
   "metadata": {},
   "outputs": [],
   "source": [
    "features_train_f = data_train.drop(['rougher.output.recovery', 'final.output.recovery'], axis=1)\n",
    "target_train_f = data_train['final.output.recovery']\n",
    "\n",
    "features_test_f = data_test.drop(['rougher.output.recovery', 'final.output.recovery'], axis=1)\n",
    "target_test_f = data_test['final.output.recovery']"
   ]
  },
  {
   "cell_type": "markdown",
   "metadata": {},
   "source": [
    "<div>\n",
    "    <font color='green'>Функция для поиска лучшей модели Случайного леса с помощью кросс-корреляции</font>\n",
    "</div>"
   ]
  },
  {
   "cell_type": "code",
   "execution_count": 27,
   "metadata": {},
   "outputs": [],
   "source": [
    "def scores_model(features, target, features2, target2):\n",
    "    final_smape_best = 1000\n",
    "    best_model = None\n",
    "    best_est = 0\n",
    "    best_depth = 0\n",
    "    for est in tqdm(range(1, 20)):\n",
    "        for depth in range (1, 11):\n",
    "            model = RandomForestRegressor(random_state=12345, n_estimators=est, max_depth=depth)\n",
    "            #сразу для двух признаков\n",
    "            scores = cross_val_score(model, features, target, cv=5, scoring=make_scorer(smape, \\\n",
    "                                                                                 greater_is_better=False))\n",
    "            scores2 = cross_val_score(model, features2, target2, cv=5, scoring=make_scorer(smape, \\\n",
    "                                                                                 greater_is_better=False))\n",
    "            final_score = abs(sum(scores)/len(scores))\n",
    "            final_score2 = abs(sum(scores2)/len(scores2))\n",
    "            #итоговая smape\n",
    "            final_sm = final_smape(final_score, final_score2)\n",
    "            if final_sm < final_smape_best:\n",
    "                final_smape_best = final_sm\n",
    "                best_model = model\n",
    "                best_est = est\n",
    "                best_depth = depth\n",
    "    print(best_model)\n",
    "    return final_smape_best\n",
    "\n"
   ]
  },
  {
   "cell_type": "markdown",
   "metadata": {},
   "source": [
    "<div>\n",
    "    <font color='green'>Функция для модели Линейной регрессии</font>\n",
    "</div>"
   ]
  },
  {
   "cell_type": "code",
   "execution_count": 28,
   "metadata": {},
   "outputs": [],
   "source": [
    "def linear_model(features, target, features2, target2):\n",
    "    model = LinearRegression()\n",
    "    scores = cross_val_score(model, features, target, cv=5, scoring=make_scorer(smape, \\\n",
    "                                                                                 greater_is_better=False))\n",
    "    scores2 = cross_val_score(model, features, target, cv=5, scoring=make_scorer(smape, \\\n",
    "                                                                                 greater_is_better=False))\n",
    "    final_score = sum(scores)/len(scores)\n",
    "    final_score2 = sum(scores2)/len(scores2)\n",
    "    final_sm = final_smape(final_score, final_score2)\n",
    "    print(model)\n",
    "    return abs(final_sm)"
   ]
  },
  {
   "cell_type": "markdown",
   "metadata": {},
   "source": [
    "<div>\n",
    "    <font color='green'>Обучение моделей и выбор лучшей</font>\n",
    "</div>\n"
   ]
  },
  {
   "cell_type": "code",
   "execution_count": null,
   "metadata": {},
   "outputs": [],
   "source": [
    "scores_model(features_train_r, target_train_r, features_train_f, target_train_f)"
   ]
  },
  {
   "cell_type": "code",
   "execution_count": 29,
   "metadata": {},
   "outputs": [
    {
     "name": "stdout",
     "output_type": "stream",
     "text": [
      "LinearRegression()\n",
      "Значение лучшей smape для модели Линейной регрессии: 6.096320698742099\n"
     ]
    }
   ],
   "source": [
    "print('Значение лучшей smape для модели Линейной регрессии:', linear_model(features_train_r, target_train_r, \\\n",
    "                                                 features_train_f, target_train_f))"
   ]
  },
  {
   "cell_type": "markdown",
   "metadata": {},
   "source": [
    "**По перебору итоговой sMAPE с наименьшим значением метрики стала модель Линейной регрессии. Значение итоговой sMAPE вышло равным 6.096320698742099. Среди моделей с различными гиперпараметрами Случайного леса - с наименьшей итоговой sMAPE вышла модель с глубиной деревьев равной 4 и колличеством деревьев, равным 18. Значение метрики равно 6.766582273034956.**"
   ]
  },
  {
   "cell_type": "markdown",
   "metadata": {},
   "source": [
    "## Модель"
   ]
  },
  {
   "cell_type": "markdown",
   "metadata": {},
   "source": [
    "<div>\n",
    "    <font color='green'>Обучение модели Линейной регрессии и предсказание признаков final.output.recovery и rougher.output.recovery. Метрики smape и итоговые smape</font>\n",
    "</div>"
   ]
  },
  {
   "cell_type": "code",
   "execution_count": 30,
   "metadata": {},
   "outputs": [],
   "source": [
    "model_rougher = LinearRegression()\n",
    "model_rougher.fit(features_train_r, target_train_r)\n",
    "prediction_r = model_rougher.predict(features_test_r)\n"
   ]
  },
  {
   "cell_type": "code",
   "execution_count": 31,
   "metadata": {},
   "outputs": [
    {
     "name": "stdout",
     "output_type": "stream",
     "text": [
      "Метрика качества sMAPE для признака rougher.output.recovery: 8.33654799159304\n"
     ]
    }
   ],
   "source": [
    "smape_rougher = smape(target_test_r, prediction_r)\n",
    "print('Метрика качества sMAPE для признака rougher.output.recovery:', smape_rougher)"
   ]
  },
  {
   "cell_type": "code",
   "execution_count": 32,
   "metadata": {},
   "outputs": [],
   "source": [
    "model_final = LinearRegression()\n",
    "model_final.fit(features_train_f, target_train_f)\n",
    "prediction_f = model_final.predict(features_test_f)"
   ]
  },
  {
   "cell_type": "code",
   "execution_count": 33,
   "metadata": {},
   "outputs": [
    {
     "name": "stdout",
     "output_type": "stream",
     "text": [
      "Метрика качества sMAPE для признака final.output.recovery: 8.960799148250695\n"
     ]
    }
   ],
   "source": [
    "smape_final = smape(target_test_f, prediction_f)\n",
    "print('Метрика качества sMAPE для признака final.output.recovery:', smape_final)"
   ]
  },
  {
   "cell_type": "code",
   "execution_count": 34,
   "metadata": {},
   "outputs": [
    {
     "name": "stdout",
     "output_type": "stream",
     "text": [
      "Итоговая sMAPE: 8.80473635908628\n"
     ]
    }
   ],
   "source": [
    "fin_smape = final_smape(smape_rougher, smape_final)\n",
    "print('Итоговая sMAPE:', fin_smape)"
   ]
  },
  {
   "cell_type": "markdown",
   "metadata": {},
   "source": [
    "<div>\n",
    "    <font color='green'>Сравнение с константной моделью</font>\n",
    "    </div>\n"
   ]
  },
  {
   "cell_type": "code",
   "execution_count": 35,
   "metadata": {},
   "outputs": [
    {
     "name": "stdout",
     "output_type": "stream",
     "text": [
      "Итоговая smape у константной модели: 9.126338756101312\n"
     ]
    }
   ],
   "source": [
    "dummy_r = DummyRegressor(strategy='median')\n",
    "dummy_r.fit(features_train_r, target_train_r)\n",
    "prediction_r = dummy_r.predict(features_test_r)\n",
    "dummy_smape_rougher = smape(target_test_r, prediction_r)\n",
    "\n",
    "\n",
    "dummy_f = DummyRegressor(strategy='median')\n",
    "dummy_f.fit(features_train_f, target_train_f)\n",
    "prediction_f = dummy_f.predict(features_test_f)\n",
    "dummy_smape_final = smape(target_test_f, prediction_f)\n",
    "\n",
    "print('Итоговая smape у константной модели:', final_smape(dummy_smape_rougher, dummy_smape_final))\n"
   ]
  },
  {
   "cell_type": "markdown",
   "metadata": {},
   "source": [
    "**Вывод:\\\n",
    "\\\n",
    "Лучше всего добыть вещество из руды получается у au. Cредняя концентрация стабильно и заметно повышается к финальному продукту и имеет высокие значения по сравнению с другими веществами. У Ag имеется пик перед первой очисткой, но затем значение понижается и к концу становится ниже значения средней концентрации в сырье. У pb также повышается концентрация, но заметно слабее. У ag и sol концентрации к финальному продукту понижаются.\\\n",
    "\\\n",
    "При построении распределений сумм 4-ёх веществ для каждого этапа, выявилось, что самое узкое и высокое получилось распределение после финального этапа. Это может говорить о близких к  постоянству результатах. Самое широкое - на этапе сырья. Также были обнаруженны аномалии в распределениях сумм 4-ёх веществ по датам для каждого из 4-ёх этапов, которые были удаленны.\\\n",
    "\\\n",
    "Из рассмотренных моделей лучшей стала модель Линейной регрессии. Значение итоговой sMAPE на тренировочной выборке вышло равным 6.096320698742099. Среди моделей с различными гиперпараметрами Случайного леса - с наименьшей итоговой sMAPE вышла модель с глубиной деревьев равной 4 и колличеством деревьев, равным 18. Значение метрики равно 6.766582273034956.\\\n",
    "\\\n",
    "На тестовых выборках модель Линейной регрессии предсказала целевые признаки rougher.output.recovery и final.output.recovery с итоговой smape равной 8.80473635908628. Итоговая smape у константной модели вышла больше, чем у модели Линейной регрессии и равна 9.126338756101312.**\n",
    "    "
   ]
  }
 ],
 "metadata": {
  "ExecuteTimeLog": [
   {
    "duration": 56,
    "start_time": "2023-03-30T19:36:31.230Z"
   },
   {
    "duration": 387,
    "start_time": "2023-03-30T19:37:05.504Z"
   },
   {
    "duration": 27,
    "start_time": "2023-03-30T19:37:07.692Z"
   },
   {
    "duration": 3331,
    "start_time": "2023-03-30T19:37:21.696Z"
   },
   {
    "duration": 34,
    "start_time": "2023-03-30T19:38:07.751Z"
   },
   {
    "duration": 16,
    "start_time": "2023-03-30T19:39:03.128Z"
   },
   {
    "duration": 26,
    "start_time": "2023-03-30T19:42:04.447Z"
   },
   {
    "duration": 16,
    "start_time": "2023-03-30T19:43:00.133Z"
   },
   {
    "duration": 16,
    "start_time": "2023-03-30T19:56:59.172Z"
   },
   {
    "duration": 928,
    "start_time": "2023-03-30T19:57:22.816Z"
   },
   {
    "duration": 55,
    "start_time": "2023-03-30T19:57:34.490Z"
   },
   {
    "duration": 16,
    "start_time": "2023-03-30T19:57:42.972Z"
   },
   {
    "duration": 14,
    "start_time": "2023-03-30T19:57:54.295Z"
   },
   {
    "duration": 993,
    "start_time": "2023-03-30T19:58:02.306Z"
   },
   {
    "duration": 1219,
    "start_time": "2023-03-30T19:58:29.255Z"
   },
   {
    "duration": 5,
    "start_time": "2023-03-30T19:58:47.889Z"
   },
   {
    "duration": 6,
    "start_time": "2023-03-30T19:59:10.179Z"
   },
   {
    "duration": 13,
    "start_time": "2023-03-30T20:00:24.989Z"
   },
   {
    "duration": 931,
    "start_time": "2023-03-30T20:00:36.750Z"
   },
   {
    "duration": 6,
    "start_time": "2023-03-30T20:00:47.728Z"
   },
   {
    "duration": 1475,
    "start_time": "2023-03-30T20:02:38.100Z"
   },
   {
    "duration": 12,
    "start_time": "2023-03-30T20:02:54.139Z"
   },
   {
    "duration": 8,
    "start_time": "2023-03-30T20:16:53.333Z"
   },
   {
    "duration": 7,
    "start_time": "2023-03-30T22:49:28.864Z"
   },
   {
    "duration": 6,
    "start_time": "2023-03-30T22:57:34.899Z"
   },
   {
    "duration": 639,
    "start_time": "2023-03-30T22:57:45.497Z"
   },
   {
    "duration": 36,
    "start_time": "2023-03-30T22:57:53.052Z"
   },
   {
    "duration": 11,
    "start_time": "2023-03-30T22:59:28.599Z"
   },
   {
    "duration": 5,
    "start_time": "2023-03-30T22:59:43.204Z"
   },
   {
    "duration": 437,
    "start_time": "2023-03-30T23:00:47.856Z"
   },
   {
    "duration": 7,
    "start_time": "2023-03-30T23:00:57.767Z"
   },
   {
    "duration": 6,
    "start_time": "2023-03-30T23:04:07.730Z"
   },
   {
    "duration": 4,
    "start_time": "2023-03-30T23:04:18.604Z"
   },
   {
    "duration": 20,
    "start_time": "2023-03-30T23:06:48.436Z"
   },
   {
    "duration": 5,
    "start_time": "2023-03-30T23:07:21.220Z"
   },
   {
    "duration": 17,
    "start_time": "2023-03-30T23:07:57.634Z"
   },
   {
    "duration": 10,
    "start_time": "2023-03-30T23:08:09.554Z"
   },
   {
    "duration": 11,
    "start_time": "2023-03-30T23:08:40.388Z"
   },
   {
    "duration": 4,
    "start_time": "2023-03-30T23:08:51.729Z"
   },
   {
    "duration": 55,
    "start_time": "2023-03-30T23:25:34.722Z"
   },
   {
    "duration": 702,
    "start_time": "2023-03-30T23:25:53.962Z"
   },
   {
    "duration": 719,
    "start_time": "2023-03-30T23:26:34.165Z"
   },
   {
    "duration": 7,
    "start_time": "2023-03-30T23:28:01.779Z"
   },
   {
    "duration": 3,
    "start_time": "2023-03-30T23:28:35.320Z"
   },
   {
    "duration": 7,
    "start_time": "2023-03-30T23:29:41.589Z"
   },
   {
    "duration": 12,
    "start_time": "2023-03-30T23:29:54.358Z"
   },
   {
    "duration": 11,
    "start_time": "2023-03-30T23:31:05.818Z"
   },
   {
    "duration": 14,
    "start_time": "2023-03-30T23:31:14.117Z"
   },
   {
    "duration": 4,
    "start_time": "2023-03-30T23:31:27.399Z"
   },
   {
    "duration": 42,
    "start_time": "2023-03-30T23:32:59.393Z"
   },
   {
    "duration": 7,
    "start_time": "2023-03-30T23:33:05.817Z"
   },
   {
    "duration": 11,
    "start_time": "2023-03-30T23:33:17.134Z"
   },
   {
    "duration": 12,
    "start_time": "2023-03-30T23:33:26.591Z"
   },
   {
    "duration": 10,
    "start_time": "2023-03-30T23:33:36.587Z"
   },
   {
    "duration": 13,
    "start_time": "2023-03-30T23:34:44.417Z"
   },
   {
    "duration": 12,
    "start_time": "2023-03-30T23:35:05.646Z"
   },
   {
    "duration": 5,
    "start_time": "2023-03-30T23:37:00.678Z"
   },
   {
    "duration": 12,
    "start_time": "2023-03-30T23:41:15.355Z"
   },
   {
    "duration": 19,
    "start_time": "2023-03-31T00:06:06.411Z"
   },
   {
    "duration": 16,
    "start_time": "2023-03-31T00:06:25.272Z"
   },
   {
    "duration": 20,
    "start_time": "2023-03-31T00:25:29.484Z"
   },
   {
    "duration": 16,
    "start_time": "2023-03-31T00:25:56.202Z"
   },
   {
    "duration": 7,
    "start_time": "2023-03-31T01:16:23.223Z"
   },
   {
    "duration": 8,
    "start_time": "2023-03-31T01:18:13.964Z"
   },
   {
    "duration": 8,
    "start_time": "2023-03-31T01:18:58.635Z"
   },
   {
    "duration": 370,
    "start_time": "2023-03-31T01:24:45.221Z"
   },
   {
    "duration": 4,
    "start_time": "2023-03-31T01:27:26.098Z"
   },
   {
    "duration": 15,
    "start_time": "2023-03-31T01:27:51.100Z"
   },
   {
    "duration": 8,
    "start_time": "2023-03-31T01:27:57.552Z"
   },
   {
    "duration": 7,
    "start_time": "2023-03-31T01:28:14.868Z"
   },
   {
    "duration": 8,
    "start_time": "2023-03-31T01:28:35.913Z"
   },
   {
    "duration": 8,
    "start_time": "2023-03-31T01:29:48.483Z"
   },
   {
    "duration": 8,
    "start_time": "2023-03-31T01:30:38.704Z"
   },
   {
    "duration": 61,
    "start_time": "2023-03-31T01:32:30.038Z"
   },
   {
    "duration": 8,
    "start_time": "2023-03-31T01:32:38.681Z"
   },
   {
    "duration": 9,
    "start_time": "2023-03-31T01:32:49.559Z"
   },
   {
    "duration": 6,
    "start_time": "2023-03-31T01:34:33.961Z"
   },
   {
    "duration": 9,
    "start_time": "2023-03-31T01:34:53.806Z"
   },
   {
    "duration": 148,
    "start_time": "2023-03-31T01:41:26.878Z"
   },
   {
    "duration": 76,
    "start_time": "2023-03-31T01:41:33.634Z"
   },
   {
    "duration": 96,
    "start_time": "2023-03-31T01:41:52.858Z"
   },
   {
    "duration": 93,
    "start_time": "2023-03-31T01:42:39.308Z"
   },
   {
    "duration": 90,
    "start_time": "2023-03-31T01:43:35.563Z"
   },
   {
    "duration": 73,
    "start_time": "2023-03-31T01:44:04.632Z"
   },
   {
    "duration": 92,
    "start_time": "2023-03-31T01:44:21.314Z"
   },
   {
    "duration": 9,
    "start_time": "2023-03-31T01:50:01.463Z"
   },
   {
    "duration": 8,
    "start_time": "2023-03-31T01:50:08.598Z"
   },
   {
    "duration": 108,
    "start_time": "2023-03-31T01:50:26.620Z"
   },
   {
    "duration": 85,
    "start_time": "2023-03-31T01:54:18.609Z"
   },
   {
    "duration": 156,
    "start_time": "2023-03-31T01:54:24.750Z"
   },
   {
    "duration": 95,
    "start_time": "2023-03-31T01:54:41.315Z"
   },
   {
    "duration": 4,
    "start_time": "2023-03-31T01:55:04.342Z"
   },
   {
    "duration": 101,
    "start_time": "2023-03-31T01:55:06.149Z"
   },
   {
    "duration": 54,
    "start_time": "2023-03-31T01:55:42.651Z"
   },
   {
    "duration": 100,
    "start_time": "2023-03-31T01:55:47.636Z"
   },
   {
    "duration": 93,
    "start_time": "2023-03-31T01:56:12.967Z"
   },
   {
    "duration": 103,
    "start_time": "2023-03-31T01:56:27.951Z"
   },
   {
    "duration": 102,
    "start_time": "2023-03-31T01:56:37.320Z"
   },
   {
    "duration": 109,
    "start_time": "2023-03-31T01:56:48.393Z"
   },
   {
    "duration": 94,
    "start_time": "2023-03-31T01:57:01.229Z"
   },
   {
    "duration": 67,
    "start_time": "2023-03-31T02:00:58.586Z"
   },
   {
    "duration": 44,
    "start_time": "2023-03-31T02:01:05.074Z"
   },
   {
    "duration": 144,
    "start_time": "2023-03-31T02:01:14.521Z"
   },
   {
    "duration": 89,
    "start_time": "2023-03-31T02:01:22.129Z"
   },
   {
    "duration": 71,
    "start_time": "2023-03-31T02:01:29.407Z"
   },
   {
    "duration": 3,
    "start_time": "2023-03-31T02:01:37.371Z"
   },
   {
    "duration": 404,
    "start_time": "2023-03-31T02:01:51.485Z"
   },
   {
    "duration": 784,
    "start_time": "2023-03-31T02:03:16.337Z"
   },
   {
    "duration": 469,
    "start_time": "2023-03-31T02:03:46.137Z"
   },
   {
    "duration": 2,
    "start_time": "2023-03-31T02:04:50.467Z"
   },
   {
    "duration": 828,
    "start_time": "2023-03-31T02:04:52.408Z"
   },
   {
    "duration": 3,
    "start_time": "2023-03-31T02:05:46.141Z"
   },
   {
    "duration": 60,
    "start_time": "2023-03-31T02:06:00.281Z"
   },
   {
    "duration": 3,
    "start_time": "2023-03-31T02:06:10.278Z"
   },
   {
    "duration": 10,
    "start_time": "2023-03-31T02:06:12.776Z"
   },
   {
    "duration": 2,
    "start_time": "2023-03-31T02:06:24.927Z"
   },
   {
    "duration": 836,
    "start_time": "2023-03-31T02:06:30.371Z"
   },
   {
    "duration": 3,
    "start_time": "2023-03-31T02:07:05.692Z"
   },
   {
    "duration": 84,
    "start_time": "2023-03-31T02:07:07.053Z"
   },
   {
    "duration": 248,
    "start_time": "2023-03-31T02:08:24.886Z"
   },
   {
    "duration": 12,
    "start_time": "2023-03-31T02:46:30.549Z"
   },
   {
    "duration": 2,
    "start_time": "2023-03-31T03:08:55.001Z"
   },
   {
    "duration": 9,
    "start_time": "2023-03-31T03:25:40.467Z"
   },
   {
    "duration": 4,
    "start_time": "2023-03-31T03:26:31.959Z"
   },
   {
    "duration": 5,
    "start_time": "2023-03-31T03:31:45.099Z"
   },
   {
    "duration": 5,
    "start_time": "2023-03-31T03:33:19.365Z"
   },
   {
    "duration": 10,
    "start_time": "2023-03-31T03:34:33.586Z"
   },
   {
    "duration": 14,
    "start_time": "2023-03-31T03:34:40.327Z"
   },
   {
    "duration": 9,
    "start_time": "2023-03-31T04:39:48.759Z"
   },
   {
    "duration": 14,
    "start_time": "2023-03-31T04:46:19.307Z"
   },
   {
    "duration": 126,
    "start_time": "2023-03-31T04:51:06.283Z"
   },
   {
    "duration": 196,
    "start_time": "2023-03-31T04:51:42.265Z"
   },
   {
    "duration": 3,
    "start_time": "2023-03-31T04:52:01.483Z"
   },
   {
    "duration": 236,
    "start_time": "2023-03-31T04:52:03.408Z"
   },
   {
    "duration": 144,
    "start_time": "2023-03-31T04:53:22.118Z"
   },
   {
    "duration": 126,
    "start_time": "2023-03-31T04:55:37.580Z"
   },
   {
    "duration": 2510,
    "start_time": "2023-03-31T09:40:05.187Z"
   },
   {
    "duration": 3279,
    "start_time": "2023-03-31T09:40:07.700Z"
   },
   {
    "duration": 28,
    "start_time": "2023-03-31T09:40:10.981Z"
   },
   {
    "duration": 32,
    "start_time": "2023-03-31T09:40:11.011Z"
   },
   {
    "duration": 40,
    "start_time": "2023-03-31T09:40:11.045Z"
   },
   {
    "duration": 32,
    "start_time": "2023-03-31T09:40:11.087Z"
   },
   {
    "duration": 24,
    "start_time": "2023-03-31T09:40:11.121Z"
   },
   {
    "duration": 16,
    "start_time": "2023-03-31T09:40:11.147Z"
   },
   {
    "duration": 50,
    "start_time": "2023-03-31T09:40:11.165Z"
   },
   {
    "duration": 6,
    "start_time": "2023-03-31T09:40:11.217Z"
   },
   {
    "duration": 27,
    "start_time": "2023-03-31T09:40:11.225Z"
   },
   {
    "duration": 39,
    "start_time": "2023-03-31T09:40:11.254Z"
   },
   {
    "duration": 22,
    "start_time": "2023-03-31T09:40:11.295Z"
   },
   {
    "duration": 24,
    "start_time": "2023-03-31T09:40:11.318Z"
   },
   {
    "duration": 15,
    "start_time": "2023-03-31T09:40:11.344Z"
   },
   {
    "duration": 397,
    "start_time": "2023-03-31T09:40:11.361Z"
   },
   {
    "duration": 8,
    "start_time": "2023-03-31T09:40:11.760Z"
   },
   {
    "duration": 152,
    "start_time": "2023-03-31T09:40:25.977Z"
   },
   {
    "duration": 4,
    "start_time": "2023-03-31T10:46:54.778Z"
   },
   {
    "duration": 42,
    "start_time": "2023-03-31T13:54:41.368Z"
   },
   {
    "duration": 249,
    "start_time": "2023-03-31T15:01:59.485Z"
   },
   {
    "duration": 238,
    "start_time": "2023-03-31T15:24:14.604Z"
   },
   {
    "duration": 197,
    "start_time": "2023-03-31T15:25:09.767Z"
   },
   {
    "duration": 3,
    "start_time": "2023-03-31T15:48:36.828Z"
   },
   {
    "duration": 768,
    "start_time": "2023-03-31T15:48:36.835Z"
   },
   {
    "duration": 20,
    "start_time": "2023-03-31T15:48:37.605Z"
   },
   {
    "duration": 27,
    "start_time": "2023-03-31T15:48:37.626Z"
   },
   {
    "duration": 42,
    "start_time": "2023-03-31T15:48:37.655Z"
   },
   {
    "duration": 22,
    "start_time": "2023-03-31T15:48:37.699Z"
   },
   {
    "duration": 13,
    "start_time": "2023-03-31T15:48:37.722Z"
   },
   {
    "duration": 9,
    "start_time": "2023-03-31T15:48:37.736Z"
   },
   {
    "duration": 45,
    "start_time": "2023-03-31T15:48:37.746Z"
   },
   {
    "duration": 5,
    "start_time": "2023-03-31T15:48:37.793Z"
   },
   {
    "duration": 19,
    "start_time": "2023-03-31T15:48:37.800Z"
   },
   {
    "duration": 25,
    "start_time": "2023-03-31T15:48:37.821Z"
   },
   {
    "duration": 38,
    "start_time": "2023-03-31T15:48:37.847Z"
   },
   {
    "duration": 24,
    "start_time": "2023-03-31T15:48:37.887Z"
   },
   {
    "duration": 0,
    "start_time": "2023-03-31T15:48:37.913Z"
   },
   {
    "duration": 0,
    "start_time": "2023-03-31T15:48:37.914Z"
   },
   {
    "duration": 0,
    "start_time": "2023-03-31T15:48:37.915Z"
   },
   {
    "duration": 0,
    "start_time": "2023-03-31T15:48:37.916Z"
   },
   {
    "duration": 0,
    "start_time": "2023-03-31T15:48:37.917Z"
   },
   {
    "duration": 0,
    "start_time": "2023-03-31T15:48:37.919Z"
   },
   {
    "duration": 81,
    "start_time": "2023-03-31T15:48:49.215Z"
   },
   {
    "duration": 14,
    "start_time": "2023-03-31T16:00:20.074Z"
   },
   {
    "duration": 5,
    "start_time": "2023-03-31T16:00:48.917Z"
   },
   {
    "duration": 16,
    "start_time": "2023-03-31T16:01:00.222Z"
   },
   {
    "duration": 12,
    "start_time": "2023-03-31T16:01:53.113Z"
   },
   {
    "duration": 3,
    "start_time": "2023-03-31T16:02:40.600Z"
   },
   {
    "duration": 740,
    "start_time": "2023-03-31T16:02:40.605Z"
   },
   {
    "duration": 24,
    "start_time": "2023-03-31T16:02:41.347Z"
   },
   {
    "duration": 29,
    "start_time": "2023-03-31T16:02:41.384Z"
   },
   {
    "duration": 52,
    "start_time": "2023-03-31T16:02:41.415Z"
   },
   {
    "duration": 43,
    "start_time": "2023-03-31T16:02:41.468Z"
   },
   {
    "duration": 31,
    "start_time": "2023-03-31T16:02:41.513Z"
   },
   {
    "duration": 7,
    "start_time": "2023-03-31T16:02:44.748Z"
   },
   {
    "duration": 29,
    "start_time": "2023-03-31T16:02:55.428Z"
   },
   {
    "duration": 56,
    "start_time": "2023-03-31T16:06:53.735Z"
   },
   {
    "duration": 50,
    "start_time": "2023-03-31T16:33:01.038Z"
   },
   {
    "duration": 14,
    "start_time": "2023-03-31T16:39:03.466Z"
   },
   {
    "duration": 3,
    "start_time": "2023-03-31T16:52:00.259Z"
   },
   {
    "duration": 14,
    "start_time": "2023-03-31T16:52:11.391Z"
   },
   {
    "duration": 3,
    "start_time": "2023-03-31T16:52:21.657Z"
   },
   {
    "duration": 13,
    "start_time": "2023-03-31T16:52:31.252Z"
   },
   {
    "duration": 98,
    "start_time": "2023-03-31T16:54:04.753Z"
   },
   {
    "duration": 1836,
    "start_time": "2023-03-31T16:54:14.910Z"
   },
   {
    "duration": 2011,
    "start_time": "2023-03-31T16:54:55.675Z"
   },
   {
    "duration": 5,
    "start_time": "2023-03-31T17:09:17.605Z"
   },
   {
    "duration": 795,
    "start_time": "2023-03-31T17:09:17.612Z"
   },
   {
    "duration": 23,
    "start_time": "2023-03-31T17:09:18.409Z"
   },
   {
    "duration": 24,
    "start_time": "2023-03-31T17:09:18.433Z"
   },
   {
    "duration": 42,
    "start_time": "2023-03-31T17:09:18.460Z"
   },
   {
    "duration": 22,
    "start_time": "2023-03-31T17:09:18.504Z"
   },
   {
    "duration": 12,
    "start_time": "2023-03-31T17:09:18.528Z"
   },
   {
    "duration": 10,
    "start_time": "2023-03-31T17:09:18.541Z"
   },
   {
    "duration": 42,
    "start_time": "2023-03-31T17:09:18.553Z"
   },
   {
    "duration": 51,
    "start_time": "2023-03-31T17:09:18.599Z"
   },
   {
    "duration": 5,
    "start_time": "2023-03-31T17:09:18.652Z"
   },
   {
    "duration": 16,
    "start_time": "2023-03-31T17:09:18.659Z"
   },
   {
    "duration": 31,
    "start_time": "2023-03-31T17:09:18.676Z"
   },
   {
    "duration": 18,
    "start_time": "2023-03-31T17:09:18.709Z"
   },
   {
    "duration": 13,
    "start_time": "2023-03-31T17:09:18.729Z"
   },
   {
    "duration": 0,
    "start_time": "2023-03-31T17:09:18.743Z"
   },
   {
    "duration": 0,
    "start_time": "2023-03-31T17:09:18.744Z"
   },
   {
    "duration": 0,
    "start_time": "2023-03-31T17:09:18.745Z"
   },
   {
    "duration": 0,
    "start_time": "2023-03-31T17:09:18.747Z"
   },
   {
    "duration": 0,
    "start_time": "2023-03-31T17:09:18.748Z"
   },
   {
    "duration": 0,
    "start_time": "2023-03-31T17:09:18.749Z"
   },
   {
    "duration": 99641,
    "start_time": "2023-03-31T17:09:21.845Z"
   },
   {
    "duration": 9,
    "start_time": "2023-03-31T17:11:45.771Z"
   },
   {
    "duration": 3,
    "start_time": "2023-03-31T17:15:29.076Z"
   },
   {
    "duration": 793,
    "start_time": "2023-03-31T17:15:29.083Z"
   },
   {
    "duration": 35,
    "start_time": "2023-03-31T17:15:29.877Z"
   },
   {
    "duration": 18,
    "start_time": "2023-03-31T17:15:29.914Z"
   },
   {
    "duration": 23,
    "start_time": "2023-03-31T17:15:29.934Z"
   },
   {
    "duration": 38,
    "start_time": "2023-03-31T17:15:29.959Z"
   },
   {
    "duration": 17,
    "start_time": "2023-03-31T17:15:29.999Z"
   },
   {
    "duration": 25,
    "start_time": "2023-03-31T17:15:30.018Z"
   },
   {
    "duration": 74,
    "start_time": "2023-03-31T17:15:30.044Z"
   },
   {
    "duration": 78,
    "start_time": "2023-03-31T17:15:30.119Z"
   },
   {
    "duration": 53,
    "start_time": "2023-03-31T17:15:30.202Z"
   },
   {
    "duration": 24,
    "start_time": "2023-03-31T17:15:30.256Z"
   },
   {
    "duration": 54,
    "start_time": "2023-03-31T17:15:30.282Z"
   },
   {
    "duration": 30,
    "start_time": "2023-03-31T17:15:30.337Z"
   },
   {
    "duration": 41,
    "start_time": "2023-03-31T17:15:30.369Z"
   },
   {
    "duration": 0,
    "start_time": "2023-03-31T17:15:30.412Z"
   },
   {
    "duration": 0,
    "start_time": "2023-03-31T17:15:30.414Z"
   },
   {
    "duration": 0,
    "start_time": "2023-03-31T17:15:30.415Z"
   },
   {
    "duration": 0,
    "start_time": "2023-03-31T17:15:30.417Z"
   },
   {
    "duration": 0,
    "start_time": "2023-03-31T17:15:30.418Z"
   },
   {
    "duration": 0,
    "start_time": "2023-03-31T17:15:30.420Z"
   },
   {
    "duration": 8,
    "start_time": "2023-03-31T17:15:35.459Z"
   },
   {
    "duration": 36,
    "start_time": "2023-03-31T17:15:41.515Z"
   },
   {
    "duration": 8,
    "start_time": "2023-03-31T17:29:55.584Z"
   },
   {
    "duration": 10635,
    "start_time": "2023-03-31T17:31:14.357Z"
   },
   {
    "duration": 46320,
    "start_time": "2023-03-31T17:31:42.053Z"
   },
   {
    "duration": 3282,
    "start_time": "2023-03-31T17:33:23.287Z"
   },
   {
    "duration": 119386,
    "start_time": "2023-03-31T17:33:46.711Z"
   },
   {
    "duration": 5,
    "start_time": "2023-03-31T17:37:49.256Z"
   },
   {
    "duration": 1657532,
    "start_time": "2023-03-31T17:39:20.952Z"
   },
   {
    "duration": 1675695,
    "start_time": "2023-03-31T18:42:42.316Z"
   },
   {
    "duration": 4,
    "start_time": "2023-03-31T19:21:25.040Z"
   },
   {
    "duration": 5,
    "start_time": "2023-03-31T19:24:55.491Z"
   },
   {
    "duration": 4,
    "start_time": "2023-03-31T19:25:04.926Z"
   },
   {
    "duration": 18,
    "start_time": "2023-03-31T19:54:33.450Z"
   },
   {
    "duration": 3,
    "start_time": "2023-03-31T19:54:55.629Z"
   },
   {
    "duration": 725,
    "start_time": "2023-03-31T19:54:55.636Z"
   },
   {
    "duration": 28,
    "start_time": "2023-03-31T19:54:56.363Z"
   },
   {
    "duration": 26,
    "start_time": "2023-03-31T19:54:56.392Z"
   },
   {
    "duration": 31,
    "start_time": "2023-03-31T19:54:56.419Z"
   },
   {
    "duration": 24,
    "start_time": "2023-03-31T19:54:56.452Z"
   },
   {
    "duration": 20,
    "start_time": "2023-03-31T19:54:56.477Z"
   },
   {
    "duration": 11,
    "start_time": "2023-03-31T19:54:56.500Z"
   },
   {
    "duration": 25,
    "start_time": "2023-03-31T19:54:56.513Z"
   },
   {
    "duration": 33,
    "start_time": "2023-03-31T19:54:56.540Z"
   },
   {
    "duration": 11,
    "start_time": "2023-03-31T19:54:56.575Z"
   },
   {
    "duration": 17,
    "start_time": "2023-03-31T19:54:56.588Z"
   },
   {
    "duration": 33,
    "start_time": "2023-03-31T19:54:56.607Z"
   },
   {
    "duration": 16,
    "start_time": "2023-03-31T19:54:56.642Z"
   },
   {
    "duration": 27,
    "start_time": "2023-03-31T19:54:56.661Z"
   },
   {
    "duration": 0,
    "start_time": "2023-03-31T19:54:56.690Z"
   },
   {
    "duration": 0,
    "start_time": "2023-03-31T19:54:56.691Z"
   },
   {
    "duration": 0,
    "start_time": "2023-03-31T19:54:56.692Z"
   },
   {
    "duration": 0,
    "start_time": "2023-03-31T19:54:56.693Z"
   },
   {
    "duration": 0,
    "start_time": "2023-03-31T19:54:56.694Z"
   },
   {
    "duration": 0,
    "start_time": "2023-03-31T19:54:56.695Z"
   },
   {
    "duration": 0,
    "start_time": "2023-03-31T19:54:56.697Z"
   },
   {
    "duration": 21,
    "start_time": "2023-03-31T19:55:01.839Z"
   },
   {
    "duration": 3,
    "start_time": "2023-03-31T19:55:23.470Z"
   },
   {
    "duration": 697,
    "start_time": "2023-03-31T19:55:23.475Z"
   },
   {
    "duration": 31,
    "start_time": "2023-03-31T19:55:24.174Z"
   },
   {
    "duration": 41,
    "start_time": "2023-03-31T19:55:24.207Z"
   },
   {
    "duration": 27,
    "start_time": "2023-03-31T19:55:24.251Z"
   },
   {
    "duration": 28,
    "start_time": "2023-03-31T19:55:24.283Z"
   },
   {
    "duration": 15,
    "start_time": "2023-03-31T19:55:24.313Z"
   },
   {
    "duration": 19,
    "start_time": "2023-03-31T19:55:24.329Z"
   },
   {
    "duration": 12,
    "start_time": "2023-03-31T19:55:24.350Z"
   },
   {
    "duration": 34,
    "start_time": "2023-03-31T19:55:24.364Z"
   },
   {
    "duration": 9,
    "start_time": "2023-03-31T19:55:24.401Z"
   },
   {
    "duration": 21,
    "start_time": "2023-03-31T19:55:24.411Z"
   },
   {
    "duration": 27,
    "start_time": "2023-03-31T19:55:24.434Z"
   },
   {
    "duration": 17,
    "start_time": "2023-03-31T19:55:24.462Z"
   },
   {
    "duration": 23,
    "start_time": "2023-03-31T19:55:24.484Z"
   },
   {
    "duration": 0,
    "start_time": "2023-03-31T19:55:24.508Z"
   },
   {
    "duration": 0,
    "start_time": "2023-03-31T19:55:24.509Z"
   },
   {
    "duration": 0,
    "start_time": "2023-03-31T19:55:24.510Z"
   },
   {
    "duration": 0,
    "start_time": "2023-03-31T19:55:24.511Z"
   },
   {
    "duration": 0,
    "start_time": "2023-03-31T19:55:24.512Z"
   },
   {
    "duration": 0,
    "start_time": "2023-03-31T19:55:24.514Z"
   },
   {
    "duration": 0,
    "start_time": "2023-03-31T19:55:24.515Z"
   },
   {
    "duration": 6,
    "start_time": "2023-03-31T19:56:02.049Z"
   },
   {
    "duration": 19,
    "start_time": "2023-03-31T19:56:03.778Z"
   },
   {
    "duration": 4,
    "start_time": "2023-03-31T19:56:21.913Z"
   },
   {
    "duration": 684,
    "start_time": "2023-03-31T19:56:21.919Z"
   },
   {
    "duration": 20,
    "start_time": "2023-03-31T19:56:22.605Z"
   },
   {
    "duration": 42,
    "start_time": "2023-03-31T19:56:22.627Z"
   },
   {
    "duration": 40,
    "start_time": "2023-03-31T19:56:22.671Z"
   },
   {
    "duration": 42,
    "start_time": "2023-03-31T19:56:22.712Z"
   },
   {
    "duration": 17,
    "start_time": "2023-03-31T19:56:22.756Z"
   },
   {
    "duration": 10,
    "start_time": "2023-03-31T19:56:22.775Z"
   },
   {
    "duration": 17,
    "start_time": "2023-03-31T19:56:22.787Z"
   },
   {
    "duration": 38,
    "start_time": "2023-03-31T19:56:22.805Z"
   },
   {
    "duration": 20,
    "start_time": "2023-03-31T19:56:22.845Z"
   },
   {
    "duration": 24,
    "start_time": "2023-03-31T19:56:22.866Z"
   },
   {
    "duration": 36,
    "start_time": "2023-03-31T19:56:22.892Z"
   },
   {
    "duration": 23,
    "start_time": "2023-03-31T19:56:22.929Z"
   },
   {
    "duration": 15,
    "start_time": "2023-03-31T19:56:22.954Z"
   },
   {
    "duration": 0,
    "start_time": "2023-03-31T19:56:22.971Z"
   },
   {
    "duration": 0,
    "start_time": "2023-03-31T19:56:22.972Z"
   },
   {
    "duration": 0,
    "start_time": "2023-03-31T19:56:22.973Z"
   },
   {
    "duration": 0,
    "start_time": "2023-03-31T19:56:22.974Z"
   },
   {
    "duration": 0,
    "start_time": "2023-03-31T19:56:22.975Z"
   },
   {
    "duration": 0,
    "start_time": "2023-03-31T19:56:22.976Z"
   },
   {
    "duration": 0,
    "start_time": "2023-03-31T19:56:22.977Z"
   },
   {
    "duration": 6,
    "start_time": "2023-03-31T19:56:25.656Z"
   },
   {
    "duration": 1712646,
    "start_time": "2023-03-31T19:56:56.609Z"
   },
   {
    "duration": 4,
    "start_time": "2023-03-31T20:34:32.926Z"
   },
   {
    "duration": 174689,
    "start_time": "2023-03-31T20:41:00.478Z"
   },
   {
    "duration": 12,
    "start_time": "2023-03-31T20:50:07.949Z"
   },
   {
    "duration": 6,
    "start_time": "2023-03-31T20:50:22.743Z"
   },
   {
    "duration": 11,
    "start_time": "2023-03-31T20:50:27.722Z"
   },
   {
    "duration": 557106,
    "start_time": "2023-03-31T20:50:52.903Z"
   },
   {
    "duration": 7550,
    "start_time": "2023-03-31T21:02:12.738Z"
   },
   {
    "duration": 5,
    "start_time": "2023-03-31T21:02:36.170Z"
   },
   {
    "duration": 567440,
    "start_time": "2023-03-31T21:02:43.846Z"
   },
   {
    "duration": 11,
    "start_time": "2023-03-31T21:19:23.248Z"
   },
   {
    "duration": 15,
    "start_time": "2023-03-31T21:28:53.822Z"
   },
   {
    "duration": 3,
    "start_time": "2023-03-31T21:29:26.547Z"
   },
   {
    "duration": 710,
    "start_time": "2023-03-31T21:29:26.557Z"
   },
   {
    "duration": 24,
    "start_time": "2023-03-31T21:29:27.269Z"
   },
   {
    "duration": 21,
    "start_time": "2023-03-31T21:29:27.294Z"
   },
   {
    "duration": 19,
    "start_time": "2023-03-31T21:29:27.316Z"
   },
   {
    "duration": 18,
    "start_time": "2023-03-31T21:29:27.337Z"
   },
   {
    "duration": 12,
    "start_time": "2023-03-31T21:29:27.382Z"
   },
   {
    "duration": 6,
    "start_time": "2023-03-31T21:29:27.395Z"
   },
   {
    "duration": 23,
    "start_time": "2023-03-31T21:29:27.403Z"
   },
   {
    "duration": 20,
    "start_time": "2023-03-31T21:29:27.427Z"
   },
   {
    "duration": 4,
    "start_time": "2023-03-31T21:29:27.448Z"
   },
   {
    "duration": 32,
    "start_time": "2023-03-31T21:29:27.454Z"
   },
   {
    "duration": 20,
    "start_time": "2023-03-31T21:29:27.487Z"
   },
   {
    "duration": 19,
    "start_time": "2023-03-31T21:29:27.508Z"
   },
   {
    "duration": 21,
    "start_time": "2023-03-31T21:29:27.529Z"
   },
   {
    "duration": 0,
    "start_time": "2023-03-31T21:29:27.552Z"
   },
   {
    "duration": 0,
    "start_time": "2023-03-31T21:29:27.553Z"
   },
   {
    "duration": 0,
    "start_time": "2023-03-31T21:29:27.553Z"
   },
   {
    "duration": 0,
    "start_time": "2023-03-31T21:29:27.555Z"
   },
   {
    "duration": 0,
    "start_time": "2023-03-31T21:29:27.555Z"
   },
   {
    "duration": 0,
    "start_time": "2023-03-31T21:29:27.556Z"
   },
   {
    "duration": 17,
    "start_time": "2023-03-31T21:29:30.008Z"
   },
   {
    "duration": 839,
    "start_time": "2023-03-31T21:30:44.686Z"
   },
   {
    "duration": 754,
    "start_time": "2023-03-31T21:56:36.674Z"
   },
   {
    "duration": 4,
    "start_time": "2023-03-31T22:04:59.348Z"
   },
   {
    "duration": 747,
    "start_time": "2023-03-31T22:04:59.354Z"
   },
   {
    "duration": 20,
    "start_time": "2023-03-31T22:05:00.103Z"
   },
   {
    "duration": 34,
    "start_time": "2023-03-31T22:05:00.124Z"
   },
   {
    "duration": 38,
    "start_time": "2023-03-31T22:05:00.160Z"
   },
   {
    "duration": 20,
    "start_time": "2023-03-31T22:05:00.200Z"
   },
   {
    "duration": 24,
    "start_time": "2023-03-31T22:05:00.222Z"
   },
   {
    "duration": 13,
    "start_time": "2023-03-31T22:05:00.248Z"
   },
   {
    "duration": 34,
    "start_time": "2023-03-31T22:05:00.262Z"
   },
   {
    "duration": 54,
    "start_time": "2023-03-31T22:05:00.298Z"
   },
   {
    "duration": 11,
    "start_time": "2023-03-31T22:05:00.355Z"
   },
   {
    "duration": 29,
    "start_time": "2023-03-31T22:05:00.368Z"
   },
   {
    "duration": 32,
    "start_time": "2023-03-31T22:05:00.398Z"
   },
   {
    "duration": 27,
    "start_time": "2023-03-31T22:05:00.432Z"
   },
   {
    "duration": 28,
    "start_time": "2023-03-31T22:05:00.461Z"
   },
   {
    "duration": 32,
    "start_time": "2023-03-31T22:05:00.491Z"
   },
   {
    "duration": 314,
    "start_time": "2023-03-31T22:05:00.525Z"
   },
   {
    "duration": 6,
    "start_time": "2023-03-31T22:05:00.841Z"
   },
   {
    "duration": 187,
    "start_time": "2023-03-31T22:05:00.849Z"
   },
   {
    "duration": 3,
    "start_time": "2023-03-31T22:05:01.038Z"
   },
   {
    "duration": 36,
    "start_time": "2023-03-31T22:05:01.043Z"
   },
   {
    "duration": 58,
    "start_time": "2023-03-31T22:05:01.081Z"
   },
   {
    "duration": 0,
    "start_time": "2023-03-31T22:05:01.141Z"
   },
   {
    "duration": 0,
    "start_time": "2023-03-31T22:05:01.142Z"
   },
   {
    "duration": 0,
    "start_time": "2023-03-31T22:05:01.143Z"
   },
   {
    "duration": 801,
    "start_time": "2023-03-31T22:06:48.776Z"
   },
   {
    "duration": 24306,
    "start_time": "2023-03-31T22:07:11.621Z"
   },
   {
    "duration": 6,
    "start_time": "2023-03-31T22:18:50.986Z"
   },
   {
    "duration": 23553,
    "start_time": "2023-03-31T22:19:10.624Z"
   },
   {
    "duration": 8,
    "start_time": "2023-03-31T22:21:01.080Z"
   },
   {
    "duration": 5,
    "start_time": "2023-03-31T22:21:41.502Z"
   },
   {
    "duration": 3,
    "start_time": "2023-03-31T22:22:20.404Z"
   },
   {
    "duration": 690,
    "start_time": "2023-03-31T22:22:22.429Z"
   },
   {
    "duration": 18,
    "start_time": "2023-03-31T22:22:24.879Z"
   },
   {
    "duration": 20,
    "start_time": "2023-03-31T22:22:31.386Z"
   },
   {
    "duration": 27,
    "start_time": "2023-03-31T22:23:04.738Z"
   },
   {
    "duration": 20,
    "start_time": "2023-03-31T22:23:12.580Z"
   },
   {
    "duration": 13,
    "start_time": "2023-03-31T22:23:19.509Z"
   },
   {
    "duration": 8,
    "start_time": "2023-03-31T22:23:26.748Z"
   },
   {
    "duration": 8,
    "start_time": "2023-03-31T22:23:29.306Z"
   },
   {
    "duration": 19,
    "start_time": "2023-03-31T22:23:36.318Z"
   },
   {
    "duration": 6,
    "start_time": "2023-03-31T22:23:42.227Z"
   },
   {
    "duration": 6,
    "start_time": "2023-03-31T22:23:45.298Z"
   },
   {
    "duration": 6,
    "start_time": "2023-03-31T22:23:51.497Z"
   },
   {
    "duration": 5,
    "start_time": "2023-03-31T22:23:56.025Z"
   },
   {
    "duration": 18,
    "start_time": "2023-03-31T22:24:03.821Z"
   },
   {
    "duration": 18,
    "start_time": "2023-03-31T22:24:05.554Z"
   },
   {
    "duration": 14,
    "start_time": "2023-03-31T22:24:12.232Z"
   },
   {
    "duration": 3,
    "start_time": "2023-03-31T22:24:38.332Z"
   },
   {
    "duration": 14,
    "start_time": "2023-03-31T22:24:40.109Z"
   },
   {
    "duration": 12,
    "start_time": "2023-03-31T22:27:06.792Z"
   },
   {
    "duration": 11,
    "start_time": "2023-03-31T22:27:13.376Z"
   },
   {
    "duration": 791,
    "start_time": "2023-03-31T22:27:21.606Z"
   },
   {
    "duration": 3,
    "start_time": "2023-03-31T22:28:01.826Z"
   },
   {
    "duration": 751,
    "start_time": "2023-03-31T22:28:01.833Z"
   },
   {
    "duration": 20,
    "start_time": "2023-03-31T22:28:02.586Z"
   },
   {
    "duration": 42,
    "start_time": "2023-03-31T22:28:02.608Z"
   },
   {
    "duration": 48,
    "start_time": "2023-03-31T22:28:02.653Z"
   },
   {
    "duration": 38,
    "start_time": "2023-03-31T22:28:02.703Z"
   },
   {
    "duration": 16,
    "start_time": "2023-03-31T22:28:02.743Z"
   },
   {
    "duration": 10,
    "start_time": "2023-03-31T22:28:07.060Z"
   },
   {
    "duration": 9,
    "start_time": "2023-03-31T22:28:09.387Z"
   },
   {
    "duration": 18,
    "start_time": "2023-03-31T22:28:48.934Z"
   },
   {
    "duration": 5,
    "start_time": "2023-03-31T22:28:54.602Z"
   },
   {
    "duration": 6,
    "start_time": "2023-03-31T22:28:56.492Z"
   },
   {
    "duration": 7,
    "start_time": "2023-03-31T22:29:05.670Z"
   },
   {
    "duration": 5,
    "start_time": "2023-03-31T22:29:11.567Z"
   },
   {
    "duration": 4,
    "start_time": "2023-03-31T22:29:50.284Z"
   },
   {
    "duration": 713,
    "start_time": "2023-03-31T22:29:50.290Z"
   },
   {
    "duration": 22,
    "start_time": "2023-03-31T22:29:51.005Z"
   },
   {
    "duration": 26,
    "start_time": "2023-03-31T22:29:51.029Z"
   },
   {
    "duration": 39,
    "start_time": "2023-03-31T22:29:51.058Z"
   },
   {
    "duration": 29,
    "start_time": "2023-03-31T22:29:51.099Z"
   },
   {
    "duration": 13,
    "start_time": "2023-03-31T22:29:51.130Z"
   },
   {
    "duration": 8,
    "start_time": "2023-03-31T22:29:51.144Z"
   },
   {
    "duration": 26,
    "start_time": "2023-03-31T22:29:51.154Z"
   },
   {
    "duration": 31,
    "start_time": "2023-03-31T22:29:51.182Z"
   },
   {
    "duration": 5,
    "start_time": "2023-03-31T22:29:51.215Z"
   },
   {
    "duration": 26,
    "start_time": "2023-03-31T22:29:51.221Z"
   },
   {
    "duration": 18,
    "start_time": "2023-03-31T22:29:51.249Z"
   },
   {
    "duration": 7,
    "start_time": "2023-03-31T22:30:00.677Z"
   },
   {
    "duration": 1639,
    "start_time": "2023-04-01T04:43:18.913Z"
   },
   {
    "duration": 1818,
    "start_time": "2023-04-01T04:43:24.086Z"
   },
   {
    "duration": 26,
    "start_time": "2023-04-01T04:43:27.526Z"
   },
   {
    "duration": 22,
    "start_time": "2023-04-01T04:43:35.651Z"
   },
   {
    "duration": 23,
    "start_time": "2023-04-01T04:43:46.402Z"
   },
   {
    "duration": 20,
    "start_time": "2023-04-01T04:43:59.122Z"
   },
   {
    "duration": 14,
    "start_time": "2023-04-01T04:44:09.389Z"
   },
   {
    "duration": 9,
    "start_time": "2023-04-01T04:44:16.754Z"
   },
   {
    "duration": 10,
    "start_time": "2023-04-01T04:44:23.030Z"
   },
   {
    "duration": 24,
    "start_time": "2023-04-01T04:48:59.782Z"
   },
   {
    "duration": 14,
    "start_time": "2023-04-01T04:58:37.779Z"
   },
   {
    "duration": 7,
    "start_time": "2023-04-01T04:58:45.923Z"
   },
   {
    "duration": 7,
    "start_time": "2023-04-01T05:05:10.746Z"
   },
   {
    "duration": 6,
    "start_time": "2023-04-01T05:05:30.199Z"
   },
   {
    "duration": 26,
    "start_time": "2023-04-01T05:05:43.743Z"
   },
   {
    "duration": 4,
    "start_time": "2023-04-01T05:08:43.496Z"
   },
   {
    "duration": 342,
    "start_time": "2023-04-01T05:08:49.622Z"
   },
   {
    "duration": 6,
    "start_time": "2023-04-01T05:22:34.250Z"
   },
   {
    "duration": 140,
    "start_time": "2023-04-01T06:23:50.494Z"
   },
   {
    "duration": 20,
    "start_time": "2023-04-01T06:24:33.329Z"
   },
   {
    "duration": 6,
    "start_time": "2023-04-01T06:24:44.084Z"
   },
   {
    "duration": 175,
    "start_time": "2023-04-01T06:25:58.941Z"
   },
   {
    "duration": 24,
    "start_time": "2023-04-01T06:34:34.649Z"
   },
   {
    "duration": 24,
    "start_time": "2023-04-01T06:52:19.245Z"
   },
   {
    "duration": 15,
    "start_time": "2023-04-01T06:52:33.900Z"
   },
   {
    "duration": 94,
    "start_time": "2023-04-01T07:01:44.603Z"
   },
   {
    "duration": 98,
    "start_time": "2023-04-01T07:01:59.638Z"
   },
   {
    "duration": 74,
    "start_time": "2023-04-01T07:03:17.225Z"
   },
   {
    "duration": 1297,
    "start_time": "2023-04-01T07:03:37.874Z"
   },
   {
    "duration": 6,
    "start_time": "2023-04-01T07:08:32.760Z"
   },
   {
    "duration": 12,
    "start_time": "2023-04-01T07:10:58.192Z"
   },
   {
    "duration": 16,
    "start_time": "2023-04-01T07:20:14.141Z"
   },
   {
    "duration": 86,
    "start_time": "2023-04-01T07:20:28.128Z"
   },
   {
    "duration": 614344,
    "start_time": "2023-04-01T07:20:37.272Z"
   },
   {
    "duration": 605848,
    "start_time": "2023-04-01T07:31:34.337Z"
   },
   {
    "duration": 25047,
    "start_time": "2023-04-01T07:43:14.104Z"
   },
   {
    "duration": 25202,
    "start_time": "2023-04-01T07:44:51.937Z"
   },
   {
    "duration": 11,
    "start_time": "2023-04-01T07:47:11.575Z"
   },
   {
    "duration": 26362,
    "start_time": "2023-04-01T07:47:18.347Z"
   },
   {
    "duration": 22,
    "start_time": "2023-04-01T07:49:02.898Z"
   },
   {
    "duration": 0,
    "start_time": "2023-04-01T07:49:07.174Z"
   },
   {
    "duration": 4,
    "start_time": "2023-04-01T07:49:14.958Z"
   },
   {
    "duration": 814,
    "start_time": "2023-04-01T07:49:14.964Z"
   },
   {
    "duration": 24,
    "start_time": "2023-04-01T07:49:15.780Z"
   },
   {
    "duration": 37,
    "start_time": "2023-04-01T07:49:15.806Z"
   },
   {
    "duration": 27,
    "start_time": "2023-04-01T07:49:15.845Z"
   },
   {
    "duration": 40,
    "start_time": "2023-04-01T07:49:15.873Z"
   },
   {
    "duration": 21,
    "start_time": "2023-04-01T07:49:15.915Z"
   },
   {
    "duration": 10,
    "start_time": "2023-04-01T07:49:15.938Z"
   },
   {
    "duration": 26,
    "start_time": "2023-04-01T07:49:15.950Z"
   },
   {
    "duration": 33,
    "start_time": "2023-04-01T07:49:15.978Z"
   },
   {
    "duration": 5,
    "start_time": "2023-04-01T07:49:16.013Z"
   },
   {
    "duration": 23,
    "start_time": "2023-04-01T07:49:16.020Z"
   },
   {
    "duration": 16,
    "start_time": "2023-04-01T07:49:16.045Z"
   },
   {
    "duration": 38,
    "start_time": "2023-04-01T07:49:16.063Z"
   },
   {
    "duration": 3,
    "start_time": "2023-04-01T07:49:16.103Z"
   },
   {
    "duration": 370,
    "start_time": "2023-04-01T07:49:16.108Z"
   },
   {
    "duration": 7,
    "start_time": "2023-04-01T07:49:16.480Z"
   },
   {
    "duration": 186,
    "start_time": "2023-04-01T07:49:16.489Z"
   },
   {
    "duration": 4,
    "start_time": "2023-04-01T07:49:16.676Z"
   },
   {
    "duration": 18,
    "start_time": "2023-04-01T07:49:16.682Z"
   },
   {
    "duration": 26,
    "start_time": "2023-04-01T07:49:18.741Z"
   },
   {
    "duration": 1187,
    "start_time": "2023-04-01T07:50:51.587Z"
   },
   {
    "duration": 17,
    "start_time": "2023-04-01T08:08:50.100Z"
   },
   {
    "duration": 14,
    "start_time": "2023-04-01T08:08:56.921Z"
   },
   {
    "duration": 808,
    "start_time": "2023-04-01T08:08:56.938Z"
   },
   {
    "duration": 23,
    "start_time": "2023-04-01T08:08:57.749Z"
   },
   {
    "duration": 34,
    "start_time": "2023-04-01T08:08:57.774Z"
   },
   {
    "duration": 42,
    "start_time": "2023-04-01T08:08:57.811Z"
   },
   {
    "duration": 27,
    "start_time": "2023-04-01T08:08:57.854Z"
   },
   {
    "duration": 15,
    "start_time": "2023-04-01T08:08:57.883Z"
   },
   {
    "duration": 21,
    "start_time": "2023-04-01T08:09:00.462Z"
   },
   {
    "duration": 10,
    "start_time": "2023-04-01T08:09:02.861Z"
   },
   {
    "duration": 32,
    "start_time": "2023-04-01T08:09:19.104Z"
   },
   {
    "duration": 8,
    "start_time": "2023-04-01T08:09:26.809Z"
   },
   {
    "duration": 6,
    "start_time": "2023-04-01T08:09:28.800Z"
   },
   {
    "duration": 6,
    "start_time": "2023-04-01T08:09:32.505Z"
   },
   {
    "duration": 24,
    "start_time": "2023-04-01T08:09:57.136Z"
   },
   {
    "duration": 4,
    "start_time": "2023-04-01T08:09:58.843Z"
   },
   {
    "duration": 429,
    "start_time": "2023-04-01T08:10:00.367Z"
   },
   {
    "duration": 6,
    "start_time": "2023-04-01T08:10:19.741Z"
   },
   {
    "duration": 3,
    "start_time": "2023-04-01T08:11:38.991Z"
   },
   {
    "duration": 3,
    "start_time": "2023-04-01T08:11:40.803Z"
   },
   {
    "duration": 332,
    "start_time": "2023-04-01T08:11:42.957Z"
   },
   {
    "duration": 15,
    "start_time": "2023-04-01T08:11:49.117Z"
   },
   {
    "duration": 23,
    "start_time": "2023-04-01T08:12:08.337Z"
   },
   {
    "duration": 3,
    "start_time": "2023-04-01T08:12:12.211Z"
   },
   {
    "duration": 741,
    "start_time": "2023-04-01T08:12:12.218Z"
   },
   {
    "duration": 22,
    "start_time": "2023-04-01T08:12:12.961Z"
   },
   {
    "duration": 34,
    "start_time": "2023-04-01T08:12:12.985Z"
   },
   {
    "duration": 39,
    "start_time": "2023-04-01T08:12:13.024Z"
   },
   {
    "duration": 28,
    "start_time": "2023-04-01T08:12:13.064Z"
   },
   {
    "duration": 22,
    "start_time": "2023-04-01T08:12:13.093Z"
   },
   {
    "duration": 17,
    "start_time": "2023-04-01T08:12:13.117Z"
   },
   {
    "duration": 30,
    "start_time": "2023-04-01T08:12:13.135Z"
   },
   {
    "duration": 35,
    "start_time": "2023-04-01T08:12:13.167Z"
   },
   {
    "duration": 5,
    "start_time": "2023-04-01T08:12:13.204Z"
   },
   {
    "duration": 13,
    "start_time": "2023-04-01T08:12:13.211Z"
   },
   {
    "duration": 26,
    "start_time": "2023-04-01T08:12:13.225Z"
   },
   {
    "duration": 26,
    "start_time": "2023-04-01T08:12:13.253Z"
   },
   {
    "duration": 18,
    "start_time": "2023-04-01T08:12:16.491Z"
   },
   {
    "duration": 3,
    "start_time": "2023-04-01T08:12:22.895Z"
   },
   {
    "duration": 4,
    "start_time": "2023-04-01T08:12:24.240Z"
   },
   {
    "duration": 348,
    "start_time": "2023-04-01T08:12:25.992Z"
   },
   {
    "duration": 7,
    "start_time": "2023-04-01T08:12:36.298Z"
   },
   {
    "duration": 10,
    "start_time": "2023-04-01T08:13:25.636Z"
   },
   {
    "duration": 4,
    "start_time": "2023-04-01T08:13:36.213Z"
   },
   {
    "duration": 7,
    "start_time": "2023-04-01T08:14:09.048Z"
   },
   {
    "duration": 18,
    "start_time": "2023-04-01T08:14:43.091Z"
   },
   {
    "duration": 4,
    "start_time": "2023-04-01T08:14:48.137Z"
   },
   {
    "duration": 730,
    "start_time": "2023-04-01T08:14:48.143Z"
   },
   {
    "duration": 23,
    "start_time": "2023-04-01T08:14:48.876Z"
   },
   {
    "duration": 37,
    "start_time": "2023-04-01T08:14:48.901Z"
   },
   {
    "duration": 134,
    "start_time": "2023-04-01T08:14:48.940Z"
   },
   {
    "duration": 20,
    "start_time": "2023-04-01T08:14:49.076Z"
   },
   {
    "duration": 38,
    "start_time": "2023-04-01T08:14:49.098Z"
   },
   {
    "duration": 15,
    "start_time": "2023-04-01T08:14:49.138Z"
   },
   {
    "duration": 24,
    "start_time": "2023-04-01T08:14:49.156Z"
   },
   {
    "duration": 56,
    "start_time": "2023-04-01T08:14:49.182Z"
   },
   {
    "duration": 6,
    "start_time": "2023-04-01T08:14:49.240Z"
   },
   {
    "duration": 7,
    "start_time": "2023-04-01T08:14:49.247Z"
   },
   {
    "duration": 9,
    "start_time": "2023-04-01T08:14:49.255Z"
   },
   {
    "duration": 19,
    "start_time": "2023-04-01T08:14:49.266Z"
   },
   {
    "duration": 30,
    "start_time": "2023-04-01T08:14:52.917Z"
   },
   {
    "duration": 14,
    "start_time": "2023-04-01T08:14:54.483Z"
   },
   {
    "duration": 15,
    "start_time": "2023-04-01T08:15:29.590Z"
   },
   {
    "duration": 16,
    "start_time": "2023-04-01T08:15:34.437Z"
   },
   {
    "duration": 14,
    "start_time": "2023-04-01T08:16:57.046Z"
   },
   {
    "duration": 3,
    "start_time": "2023-04-01T08:17:21.419Z"
   },
   {
    "duration": 718,
    "start_time": "2023-04-01T08:17:21.436Z"
   },
   {
    "duration": 27,
    "start_time": "2023-04-01T08:17:22.156Z"
   },
   {
    "duration": 34,
    "start_time": "2023-04-01T08:17:22.184Z"
   },
   {
    "duration": 26,
    "start_time": "2023-04-01T08:17:22.233Z"
   },
   {
    "duration": 21,
    "start_time": "2023-04-01T08:17:22.261Z"
   },
   {
    "duration": 14,
    "start_time": "2023-04-01T08:17:22.284Z"
   },
   {
    "duration": 45,
    "start_time": "2023-04-01T08:17:22.300Z"
   },
   {
    "duration": 23,
    "start_time": "2023-04-01T08:17:22.347Z"
   },
   {
    "duration": 27,
    "start_time": "2023-04-01T08:17:22.372Z"
   },
   {
    "duration": 6,
    "start_time": "2023-04-01T08:17:22.401Z"
   },
   {
    "duration": 27,
    "start_time": "2023-04-01T08:17:22.408Z"
   },
   {
    "duration": 17,
    "start_time": "2023-04-01T08:17:22.437Z"
   },
   {
    "duration": 20,
    "start_time": "2023-04-01T08:17:22.456Z"
   },
   {
    "duration": 18,
    "start_time": "2023-04-01T08:17:24.736Z"
   },
   {
    "duration": 3,
    "start_time": "2023-04-01T08:17:26.283Z"
   },
   {
    "duration": 4,
    "start_time": "2023-04-01T08:17:28.794Z"
   },
   {
    "duration": 346,
    "start_time": "2023-04-01T08:17:32.194Z"
   },
   {
    "duration": 4,
    "start_time": "2023-04-01T08:17:45.269Z"
   },
   {
    "duration": 10,
    "start_time": "2023-04-01T08:18:06.565Z"
   },
   {
    "duration": 4,
    "start_time": "2023-04-01T08:18:53.007Z"
   },
   {
    "duration": 6,
    "start_time": "2023-04-01T08:19:05.158Z"
   },
   {
    "duration": 6,
    "start_time": "2023-04-01T08:19:35.903Z"
   },
   {
    "duration": 6,
    "start_time": "2023-04-01T08:20:23.294Z"
   },
   {
    "duration": 4,
    "start_time": "2023-04-01T08:20:45.696Z"
   },
   {
    "duration": 714,
    "start_time": "2023-04-01T08:20:45.703Z"
   },
   {
    "duration": 31,
    "start_time": "2023-04-01T08:20:46.419Z"
   },
   {
    "duration": 31,
    "start_time": "2023-04-01T08:20:46.452Z"
   },
   {
    "duration": 23,
    "start_time": "2023-04-01T08:20:46.485Z"
   },
   {
    "duration": 29,
    "start_time": "2023-04-01T08:20:46.510Z"
   },
   {
    "duration": 19,
    "start_time": "2023-04-01T08:20:46.541Z"
   },
   {
    "duration": 16,
    "start_time": "2023-04-01T08:20:46.563Z"
   },
   {
    "duration": 22,
    "start_time": "2023-04-01T08:20:49.218Z"
   },
   {
    "duration": 3,
    "start_time": "2023-04-01T08:22:54.370Z"
   },
   {
    "duration": 775,
    "start_time": "2023-04-01T08:22:54.381Z"
   },
   {
    "duration": 22,
    "start_time": "2023-04-01T08:22:55.158Z"
   },
   {
    "duration": 39,
    "start_time": "2023-04-01T08:22:55.181Z"
   },
   {
    "duration": 50,
    "start_time": "2023-04-01T08:22:55.224Z"
   },
   {
    "duration": 21,
    "start_time": "2023-04-01T08:22:55.276Z"
   },
   {
    "duration": 15,
    "start_time": "2023-04-01T08:22:55.299Z"
   },
   {
    "duration": 13,
    "start_time": "2023-04-01T08:22:58.266Z"
   },
   {
    "duration": 29,
    "start_time": "2023-04-01T08:23:02.451Z"
   },
   {
    "duration": 17,
    "start_time": "2023-04-01T08:23:14.534Z"
   },
   {
    "duration": 24,
    "start_time": "2023-04-01T08:23:25.397Z"
   },
   {
    "duration": 5,
    "start_time": "2023-04-01T08:23:31.751Z"
   },
   {
    "duration": 6,
    "start_time": "2023-04-01T08:23:33.967Z"
   },
   {
    "duration": 7,
    "start_time": "2023-04-01T08:23:35.803Z"
   },
   {
    "duration": 20,
    "start_time": "2023-04-01T08:23:43.946Z"
   },
   {
    "duration": 28,
    "start_time": "2023-04-01T08:23:45.546Z"
   },
   {
    "duration": 37,
    "start_time": "2023-04-01T08:26:41.922Z"
   },
   {
    "duration": 4,
    "start_time": "2023-04-01T08:27:20.315Z"
   },
   {
    "duration": 813,
    "start_time": "2023-04-01T08:27:20.323Z"
   },
   {
    "duration": 22,
    "start_time": "2023-04-01T08:27:21.139Z"
   },
   {
    "duration": 24,
    "start_time": "2023-04-01T08:27:21.163Z"
   },
   {
    "duration": 46,
    "start_time": "2023-04-01T08:27:21.190Z"
   },
   {
    "duration": 18,
    "start_time": "2023-04-01T08:27:21.239Z"
   },
   {
    "duration": 15,
    "start_time": "2023-04-01T08:27:29.293Z"
   },
   {
    "duration": 37,
    "start_time": "2023-04-01T08:27:30.916Z"
   },
   {
    "duration": 4,
    "start_time": "2023-04-01T08:28:11.408Z"
   },
   {
    "duration": 14,
    "start_time": "2023-04-01T08:28:13.404Z"
   },
   {
    "duration": 3,
    "start_time": "2023-04-01T08:28:18.366Z"
   },
   {
    "duration": 748,
    "start_time": "2023-04-01T08:28:18.373Z"
   },
   {
    "duration": 31,
    "start_time": "2023-04-01T08:28:19.123Z"
   },
   {
    "duration": 33,
    "start_time": "2023-04-01T08:28:19.156Z"
   },
   {
    "duration": 44,
    "start_time": "2023-04-01T08:28:19.192Z"
   },
   {
    "duration": 20,
    "start_time": "2023-04-01T08:28:19.238Z"
   },
   {
    "duration": 14,
    "start_time": "2023-04-01T08:28:19.260Z"
   },
   {
    "duration": 5,
    "start_time": "2023-04-01T08:28:27.083Z"
   },
   {
    "duration": 35,
    "start_time": "2023-04-01T08:28:39.610Z"
   },
   {
    "duration": 16,
    "start_time": "2023-04-01T08:28:59.201Z"
   },
   {
    "duration": 25,
    "start_time": "2023-04-01T08:29:08.922Z"
   },
   {
    "duration": 17,
    "start_time": "2023-04-01T08:29:22.702Z"
   },
   {
    "duration": 10,
    "start_time": "2023-04-01T08:29:34.587Z"
   },
   {
    "duration": 24,
    "start_time": "2023-04-01T08:29:39.940Z"
   },
   {
    "duration": 7,
    "start_time": "2023-04-01T08:29:45.198Z"
   },
   {
    "duration": 5,
    "start_time": "2023-04-01T08:29:55.148Z"
   },
   {
    "duration": 7,
    "start_time": "2023-04-01T08:29:56.693Z"
   },
   {
    "duration": 3,
    "start_time": "2023-04-01T08:29:58.637Z"
   },
   {
    "duration": 3,
    "start_time": "2023-04-01T08:30:07.964Z"
   },
   {
    "duration": 4,
    "start_time": "2023-04-01T08:30:42.609Z"
   },
   {
    "duration": 3,
    "start_time": "2023-04-01T08:30:46.410Z"
   },
   {
    "duration": 737,
    "start_time": "2023-04-01T08:30:46.416Z"
   },
   {
    "duration": 22,
    "start_time": "2023-04-01T08:30:47.155Z"
   },
   {
    "duration": 22,
    "start_time": "2023-04-01T08:30:47.179Z"
   },
   {
    "duration": 44,
    "start_time": "2023-04-01T08:30:47.204Z"
   },
   {
    "duration": 19,
    "start_time": "2023-04-01T08:30:47.250Z"
   },
   {
    "duration": 16,
    "start_time": "2023-04-01T08:30:47.271Z"
   },
   {
    "duration": 8,
    "start_time": "2023-04-01T08:30:50.998Z"
   },
   {
    "duration": 6,
    "start_time": "2023-04-01T08:30:55.595Z"
   },
   {
    "duration": 17,
    "start_time": "2023-04-01T08:30:57.045Z"
   },
   {
    "duration": 25,
    "start_time": "2023-04-01T08:30:58.622Z"
   },
   {
    "duration": 28,
    "start_time": "2023-04-01T08:31:03.723Z"
   },
   {
    "duration": 6,
    "start_time": "2023-04-01T08:31:09.437Z"
   },
   {
    "duration": 7,
    "start_time": "2023-04-01T08:31:11.205Z"
   },
   {
    "duration": 23,
    "start_time": "2023-04-01T08:31:20.460Z"
   },
   {
    "duration": 32,
    "start_time": "2023-04-01T08:31:25.915Z"
   },
   {
    "duration": 4,
    "start_time": "2023-04-01T08:31:31.138Z"
   },
   {
    "duration": 342,
    "start_time": "2023-04-01T08:31:32.639Z"
   },
   {
    "duration": 24,
    "start_time": "2023-04-01T08:31:39.058Z"
   },
   {
    "duration": 7,
    "start_time": "2023-04-01T08:31:49.499Z"
   },
   {
    "duration": 185,
    "start_time": "2023-04-01T08:32:45.216Z"
   },
   {
    "duration": 4,
    "start_time": "2023-04-01T08:32:55.042Z"
   },
   {
    "duration": 6,
    "start_time": "2023-04-01T08:32:57.940Z"
   },
   {
    "duration": 9,
    "start_time": "2023-04-01T08:33:30.968Z"
   },
   {
    "duration": 10,
    "start_time": "2023-04-01T08:34:12.037Z"
   },
   {
    "duration": 5,
    "start_time": "2023-04-01T08:34:16.939Z"
   },
   {
    "duration": 599201,
    "start_time": "2023-04-01T08:34:22.667Z"
   },
   {
    "duration": 25114,
    "start_time": "2023-04-01T08:48:35.075Z"
   },
   {
    "duration": 7,
    "start_time": "2023-04-01T08:50:24.076Z"
   },
   {
    "duration": 617141,
    "start_time": "2023-04-01T08:50:40.758Z"
   },
   {
    "duration": 26816,
    "start_time": "2023-04-01T09:06:49.902Z"
   },
   {
    "duration": 8,
    "start_time": "2023-04-01T09:08:37.261Z"
   },
   {
    "duration": 5,
    "start_time": "2023-04-01T09:09:37.021Z"
   },
   {
    "duration": 9,
    "start_time": "2023-04-01T09:09:43.477Z"
   },
   {
    "duration": 6,
    "start_time": "2023-04-01T09:09:58.177Z"
   },
   {
    "duration": 152,
    "start_time": "2023-04-01T09:12:51.274Z"
   },
   {
    "duration": 13,
    "start_time": "2023-04-01T09:29:47.720Z"
   },
   {
    "duration": 797,
    "start_time": "2023-04-01T09:29:49.741Z"
   },
   {
    "duration": 1338,
    "start_time": "2023-04-01T09:30:13.912Z"
   },
   {
    "duration": 9,
    "start_time": "2023-04-01T09:32:30.144Z"
   },
   {
    "duration": 18,
    "start_time": "2023-04-01T09:32:32.253Z"
   },
   {
    "duration": 22,
    "start_time": "2023-04-01T09:37:29.865Z"
   },
   {
    "duration": 7,
    "start_time": "2023-04-01T09:40:35.066Z"
   },
   {
    "duration": 82,
    "start_time": "2023-04-01T10:12:45.938Z"
   },
   {
    "duration": 391,
    "start_time": "2023-04-01T10:17:54.540Z"
   },
   {
    "duration": 7,
    "start_time": "2023-04-01T10:22:34.382Z"
   },
   {
    "duration": 5,
    "start_time": "2023-04-01T10:23:00.432Z"
   },
   {
    "duration": 920,
    "start_time": "2023-04-01T10:23:00.440Z"
   },
   {
    "duration": 30,
    "start_time": "2023-04-01T10:23:01.364Z"
   },
   {
    "duration": 72,
    "start_time": "2023-04-01T10:23:01.396Z"
   },
   {
    "duration": 44,
    "start_time": "2023-04-01T10:23:01.471Z"
   },
   {
    "duration": 53,
    "start_time": "2023-04-01T10:23:01.518Z"
   },
   {
    "duration": 30,
    "start_time": "2023-04-01T10:23:01.573Z"
   },
   {
    "duration": 30,
    "start_time": "2023-04-01T10:23:01.605Z"
   },
   {
    "duration": 21,
    "start_time": "2023-04-01T10:23:01.641Z"
   },
   {
    "duration": 49,
    "start_time": "2023-04-01T10:23:01.665Z"
   },
   {
    "duration": 55,
    "start_time": "2023-04-01T10:23:01.719Z"
   },
   {
    "duration": 15,
    "start_time": "2023-04-01T10:23:01.776Z"
   },
   {
    "duration": 68,
    "start_time": "2023-04-01T10:23:01.794Z"
   },
   {
    "duration": 49,
    "start_time": "2023-04-01T10:23:01.864Z"
   },
   {
    "duration": 4,
    "start_time": "2023-04-01T10:23:01.915Z"
   },
   {
    "duration": 561,
    "start_time": "2023-04-01T10:23:01.922Z"
   },
   {
    "duration": 14,
    "start_time": "2023-04-01T10:26:10.981Z"
   },
   {
    "duration": 8,
    "start_time": "2023-04-01T10:27:46.267Z"
   },
   {
    "duration": 1720,
    "start_time": "2023-04-01T13:15:26.853Z"
   },
   {
    "duration": 3234,
    "start_time": "2023-04-01T13:15:28.575Z"
   },
   {
    "duration": 31,
    "start_time": "2023-04-01T13:15:31.811Z"
   },
   {
    "duration": 80,
    "start_time": "2023-04-01T13:15:31.845Z"
   },
   {
    "duration": 134,
    "start_time": "2023-04-01T13:15:31.928Z"
   },
   {
    "duration": 234,
    "start_time": "2023-04-01T13:15:32.065Z"
   },
   {
    "duration": 64,
    "start_time": "2023-04-01T13:15:32.302Z"
   },
   {
    "duration": 102,
    "start_time": "2023-04-01T13:15:32.369Z"
   },
   {
    "duration": 90,
    "start_time": "2023-04-01T13:15:32.473Z"
   },
   {
    "duration": 243,
    "start_time": "2023-04-01T13:15:32.566Z"
   },
   {
    "duration": 111,
    "start_time": "2023-04-01T13:15:32.811Z"
   },
   {
    "duration": 45,
    "start_time": "2023-04-01T13:15:32.924Z"
   },
   {
    "duration": 27,
    "start_time": "2023-04-01T13:15:32.971Z"
   },
   {
    "duration": 48,
    "start_time": "2023-04-01T13:15:33.000Z"
   },
   {
    "duration": 4,
    "start_time": "2023-04-01T13:15:33.050Z"
   },
   {
    "duration": 459,
    "start_time": "2023-04-01T13:15:33.056Z"
   },
   {
    "duration": 8,
    "start_time": "2023-04-01T13:15:33.517Z"
   },
   {
    "duration": 195,
    "start_time": "2023-04-01T13:15:33.540Z"
   },
   {
    "duration": 4,
    "start_time": "2023-04-01T13:15:33.738Z"
   },
   {
    "duration": 17,
    "start_time": "2023-04-01T13:15:33.745Z"
   },
   {
    "duration": 16,
    "start_time": "2023-04-01T13:15:33.764Z"
   },
   {
    "duration": 21,
    "start_time": "2023-04-01T13:15:33.783Z"
   },
   {
    "duration": 583982,
    "start_time": "2023-04-01T13:15:33.806Z"
   },
   {
    "duration": 614693,
    "start_time": "2023-04-01T13:25:17.789Z"
   },
   {
    "duration": 24919,
    "start_time": "2023-04-01T13:35:32.484Z"
   },
   {
    "duration": 0,
    "start_time": "2023-04-01T13:35:57.404Z"
   },
   {
    "duration": 0,
    "start_time": "2023-04-01T13:35:57.405Z"
   },
   {
    "duration": 0,
    "start_time": "2023-04-01T13:35:57.407Z"
   },
   {
    "duration": 0,
    "start_time": "2023-04-01T13:35:57.409Z"
   },
   {
    "duration": 17,
    "start_time": "2023-04-01T13:39:29.669Z"
   },
   {
    "duration": 4,
    "start_time": "2023-04-01T13:39:48.409Z"
   },
   {
    "duration": 798,
    "start_time": "2023-04-01T13:39:48.416Z"
   },
   {
    "duration": 40,
    "start_time": "2023-04-01T13:39:49.218Z"
   },
   {
    "duration": 38,
    "start_time": "2023-04-01T13:39:49.265Z"
   },
   {
    "duration": 52,
    "start_time": "2023-04-01T13:39:49.306Z"
   },
   {
    "duration": 32,
    "start_time": "2023-04-01T13:39:49.360Z"
   },
   {
    "duration": 15,
    "start_time": "2023-04-01T13:39:49.393Z"
   },
   {
    "duration": 5,
    "start_time": "2023-04-01T13:39:52.269Z"
   },
   {
    "duration": 19,
    "start_time": "2023-04-01T13:40:06.859Z"
   },
   {
    "duration": 31,
    "start_time": "2023-04-01T13:40:08.525Z"
   },
   {
    "duration": 7,
    "start_time": "2023-04-01T13:40:14.630Z"
   },
   {
    "duration": 7,
    "start_time": "2023-04-01T13:40:17.112Z"
   },
   {
    "duration": 29,
    "start_time": "2023-04-01T13:40:24.805Z"
   },
   {
    "duration": 4,
    "start_time": "2023-04-01T13:40:28.900Z"
   },
   {
    "duration": 338,
    "start_time": "2023-04-01T13:40:30.322Z"
   },
   {
    "duration": 6,
    "start_time": "2023-04-01T13:40:37.995Z"
   },
   {
    "duration": 169,
    "start_time": "2023-04-01T13:40:53.260Z"
   },
   {
    "duration": 6,
    "start_time": "2023-04-01T13:41:07.642Z"
   },
   {
    "duration": 13,
    "start_time": "2023-04-01T13:41:12.552Z"
   },
   {
    "duration": 9,
    "start_time": "2023-04-01T13:41:14.155Z"
   },
   {
    "duration": 4,
    "start_time": "2023-04-01T13:41:15.791Z"
   },
   {
    "duration": 26115,
    "start_time": "2023-04-01T13:41:23.264Z"
   },
   {
    "duration": 7,
    "start_time": "2023-04-01T13:43:34.530Z"
   },
   {
    "duration": 28606,
    "start_time": "2023-04-01T13:43:37.505Z"
   },
   {
    "duration": 7,
    "start_time": "2023-04-01T13:44:15.796Z"
   },
   {
    "duration": 4,
    "start_time": "2023-04-01T13:44:18.536Z"
   },
   {
    "duration": 5,
    "start_time": "2023-04-01T13:46:41.037Z"
   },
   {
    "duration": 4,
    "start_time": "2023-04-01T13:46:48.625Z"
   },
   {
    "duration": 1603,
    "start_time": "2023-04-01T13:47:45.723Z"
   },
   {
    "duration": 691,
    "start_time": "2023-04-01T13:47:47.328Z"
   },
   {
    "duration": 35,
    "start_time": "2023-04-01T13:47:48.022Z"
   },
   {
    "duration": 23,
    "start_time": "2023-04-01T13:47:48.059Z"
   },
   {
    "duration": 29,
    "start_time": "2023-04-01T13:47:48.084Z"
   },
   {
    "duration": 43,
    "start_time": "2023-04-01T13:47:48.114Z"
   },
   {
    "duration": 16,
    "start_time": "2023-04-01T13:47:48.159Z"
   },
   {
    "duration": 10,
    "start_time": "2023-04-01T13:47:48.177Z"
   },
   {
    "duration": 10,
    "start_time": "2023-04-01T13:47:48.189Z"
   },
   {
    "duration": 50,
    "start_time": "2023-04-01T13:47:48.202Z"
   },
   {
    "duration": 32,
    "start_time": "2023-04-01T13:47:48.254Z"
   },
   {
    "duration": 5,
    "start_time": "2023-04-01T13:47:48.288Z"
   },
   {
    "duration": 15,
    "start_time": "2023-04-01T13:47:48.295Z"
   },
   {
    "duration": 46,
    "start_time": "2023-04-01T13:47:48.312Z"
   },
   {
    "duration": 3,
    "start_time": "2023-04-01T13:47:48.361Z"
   },
   {
    "duration": 353,
    "start_time": "2023-04-01T13:47:48.366Z"
   },
   {
    "duration": 7,
    "start_time": "2023-04-01T13:47:48.721Z"
   },
   {
    "duration": 169,
    "start_time": "2023-04-01T13:47:48.741Z"
   },
   {
    "duration": 3,
    "start_time": "2023-04-01T13:47:48.912Z"
   },
   {
    "duration": 24,
    "start_time": "2023-04-01T13:47:48.917Z"
   },
   {
    "duration": 20,
    "start_time": "2023-04-01T13:47:48.943Z"
   },
   {
    "duration": 20,
    "start_time": "2023-04-01T13:47:48.965Z"
   },
   {
    "duration": 563625,
    "start_time": "2023-04-01T13:47:48.986Z"
   },
   {
    "duration": 579316,
    "start_time": "2023-04-01T13:57:12.614Z"
   },
   {
    "duration": 24400,
    "start_time": "2023-04-01T14:06:51.932Z"
   },
   {
    "duration": 9,
    "start_time": "2023-04-01T14:07:16.334Z"
   },
   {
    "duration": 25470,
    "start_time": "2023-04-01T14:07:16.346Z"
   },
   {
    "duration": 6,
    "start_time": "2023-04-01T14:07:41.821Z"
   },
   {
    "duration": 16,
    "start_time": "2023-04-01T14:07:41.829Z"
   },
   {
    "duration": 213,
    "start_time": "2023-04-02T08:47:52.748Z"
   },
   {
    "duration": 110,
    "start_time": "2023-04-02T08:48:06.849Z"
   },
   {
    "duration": 1662,
    "start_time": "2023-04-02T20:12:04.308Z"
   },
   {
    "duration": 3081,
    "start_time": "2023-04-02T20:12:05.972Z"
   },
   {
    "duration": 28,
    "start_time": "2023-04-02T20:12:09.055Z"
   },
   {
    "duration": 29,
    "start_time": "2023-04-02T20:12:09.085Z"
   },
   {
    "duration": 23,
    "start_time": "2023-04-02T20:12:09.117Z"
   },
   {
    "duration": 25,
    "start_time": "2023-04-02T20:12:09.142Z"
   },
   {
    "duration": 33,
    "start_time": "2023-04-02T20:12:09.169Z"
   },
   {
    "duration": 7,
    "start_time": "2023-04-02T20:12:09.204Z"
   },
   {
    "duration": 5,
    "start_time": "2023-04-02T20:12:09.212Z"
   },
   {
    "duration": 3,
    "start_time": "2023-04-02T20:12:11.558Z"
   },
   {
    "duration": 1891,
    "start_time": "2023-04-03T06:13:58.412Z"
   },
   {
    "duration": 4364,
    "start_time": "2023-04-03T06:14:00.311Z"
   },
   {
    "duration": 32,
    "start_time": "2023-04-03T06:14:04.677Z"
   },
   {
    "duration": 58,
    "start_time": "2023-04-03T06:14:04.712Z"
   },
   {
    "duration": 97,
    "start_time": "2023-04-03T06:14:04.772Z"
   },
   {
    "duration": 47,
    "start_time": "2023-04-03T06:14:04.871Z"
   },
   {
    "duration": 40,
    "start_time": "2023-04-03T06:14:04.920Z"
   },
   {
    "duration": 27,
    "start_time": "2023-04-03T06:14:04.962Z"
   },
   {
    "duration": 25,
    "start_time": "2023-04-03T06:15:21.579Z"
   },
   {
    "duration": 15,
    "start_time": "2023-04-03T06:15:42.029Z"
   },
   {
    "duration": 8,
    "start_time": "2023-04-03T06:31:13.501Z"
   },
   {
    "duration": 22,
    "start_time": "2023-04-03T06:31:44.688Z"
   },
   {
    "duration": 8072,
    "start_time": "2023-04-03T06:40:03.006Z"
   },
   {
    "duration": 17,
    "start_time": "2023-04-03T06:40:32.241Z"
   },
   {
    "duration": 3,
    "start_time": "2023-04-03T06:40:37.227Z"
   },
   {
    "duration": 939,
    "start_time": "2023-04-03T06:40:37.237Z"
   },
   {
    "duration": 30,
    "start_time": "2023-04-03T06:40:38.179Z"
   },
   {
    "duration": 80,
    "start_time": "2023-04-03T06:40:38.211Z"
   },
   {
    "duration": 57,
    "start_time": "2023-04-03T06:40:38.304Z"
   },
   {
    "duration": 71,
    "start_time": "2023-04-03T06:40:38.363Z"
   },
   {
    "duration": 26,
    "start_time": "2023-04-03T06:40:38.436Z"
   },
   {
    "duration": 63,
    "start_time": "2023-04-03T06:40:38.463Z"
   },
   {
    "duration": 37,
    "start_time": "2023-04-03T06:40:38.529Z"
   },
   {
    "duration": 69,
    "start_time": "2023-04-03T06:40:38.568Z"
   },
   {
    "duration": 11,
    "start_time": "2023-04-03T06:40:43.343Z"
   },
   {
    "duration": 4274,
    "start_time": "2023-04-03T06:40:46.062Z"
   },
   {
    "duration": 13,
    "start_time": "2023-04-03T06:53:15.629Z"
   },
   {
    "duration": 12,
    "start_time": "2023-04-03T06:53:21.109Z"
   },
   {
    "duration": 873,
    "start_time": "2023-04-03T06:53:21.125Z"
   },
   {
    "duration": 31,
    "start_time": "2023-04-03T06:53:22.000Z"
   },
   {
    "duration": 27,
    "start_time": "2023-04-03T06:53:22.033Z"
   },
   {
    "duration": 56,
    "start_time": "2023-04-03T06:53:22.062Z"
   },
   {
    "duration": 28,
    "start_time": "2023-04-03T06:53:22.123Z"
   },
   {
    "duration": 13,
    "start_time": "2023-04-03T06:53:22.153Z"
   },
   {
    "duration": 25,
    "start_time": "2023-04-03T06:53:22.168Z"
   },
   {
    "duration": 47,
    "start_time": "2023-04-03T06:53:22.201Z"
   },
   {
    "duration": 5,
    "start_time": "2023-04-03T06:53:22.251Z"
   },
   {
    "duration": 32,
    "start_time": "2023-04-03T06:53:22.258Z"
   },
   {
    "duration": 12,
    "start_time": "2023-04-03T06:53:22.297Z"
   },
   {
    "duration": 18,
    "start_time": "2023-04-03T06:53:37.501Z"
   },
   {
    "duration": 23,
    "start_time": "2023-04-03T06:53:39.982Z"
   },
   {
    "duration": 5,
    "start_time": "2023-04-03T06:56:06.614Z"
   },
   {
    "duration": 5,
    "start_time": "2023-04-03T07:01:19.638Z"
   },
   {
    "duration": 1097,
    "start_time": "2023-04-03T07:01:19.646Z"
   },
   {
    "duration": 34,
    "start_time": "2023-04-03T07:01:20.747Z"
   },
   {
    "duration": 116,
    "start_time": "2023-04-03T07:01:20.787Z"
   },
   {
    "duration": 110,
    "start_time": "2023-04-03T07:01:20.910Z"
   },
   {
    "duration": 44,
    "start_time": "2023-04-03T07:01:21.027Z"
   },
   {
    "duration": 45,
    "start_time": "2023-04-03T07:01:21.073Z"
   },
   {
    "duration": 7,
    "start_time": "2023-04-03T07:01:30.752Z"
   },
   {
    "duration": 49,
    "start_time": "2023-04-03T07:01:40.797Z"
   },
   {
    "duration": 6,
    "start_time": "2023-04-03T07:01:46.673Z"
   },
   {
    "duration": 18,
    "start_time": "2023-04-03T07:01:54.525Z"
   },
   {
    "duration": 6,
    "start_time": "2023-04-03T07:02:02.478Z"
   },
   {
    "duration": 17,
    "start_time": "2023-04-03T07:02:09.472Z"
   },
   {
    "duration": 6,
    "start_time": "2023-04-03T07:02:34.524Z"
   },
   {
    "duration": 20,
    "start_time": "2023-04-03T07:02:39.123Z"
   },
   {
    "duration": 3,
    "start_time": "2023-04-03T07:21:03.014Z"
   },
   {
    "duration": 22,
    "start_time": "2023-04-03T07:21:05.268Z"
   },
   {
    "duration": 4,
    "start_time": "2023-04-03T07:23:11.162Z"
   },
   {
    "duration": 747,
    "start_time": "2023-04-03T07:23:13.660Z"
   },
   {
    "duration": 33,
    "start_time": "2023-04-03T07:23:20.118Z"
   },
   {
    "duration": 32,
    "start_time": "2023-04-03T07:23:25.548Z"
   },
   {
    "duration": 29,
    "start_time": "2023-04-03T07:23:31.363Z"
   },
   {
    "duration": 27,
    "start_time": "2023-04-03T07:23:38.176Z"
   },
   {
    "duration": 18,
    "start_time": "2023-04-03T07:24:05.240Z"
   },
   {
    "duration": 9,
    "start_time": "2023-04-03T07:24:12.605Z"
   },
   {
    "duration": 25,
    "start_time": "2023-04-03T07:24:20.590Z"
   },
   {
    "duration": 7,
    "start_time": "2023-04-03T07:24:26.413Z"
   },
   {
    "duration": 17,
    "start_time": "2023-04-03T07:24:47.580Z"
   },
   {
    "duration": 19,
    "start_time": "2023-04-03T07:24:49.826Z"
   },
   {
    "duration": 10,
    "start_time": "2023-04-03T07:24:56.126Z"
   },
   {
    "duration": 19,
    "start_time": "2023-04-03T07:24:59.492Z"
   },
   {
    "duration": 7,
    "start_time": "2023-04-03T07:25:06.134Z"
   },
   {
    "duration": 449,
    "start_time": "2023-04-03T07:25:11.865Z"
   },
   {
    "duration": 5,
    "start_time": "2023-04-03T07:26:24.823Z"
   },
   {
    "duration": 461,
    "start_time": "2023-04-03T07:26:30.446Z"
   },
   {
    "duration": 6,
    "start_time": "2023-04-03T07:26:44.970Z"
   },
   {
    "duration": 561,
    "start_time": "2023-04-03T07:26:51.859Z"
   },
   {
    "duration": 5,
    "start_time": "2023-04-03T07:27:13.368Z"
   },
   {
    "duration": 530,
    "start_time": "2023-04-03T07:27:19.875Z"
   },
   {
    "duration": 5,
    "start_time": "2023-04-03T07:27:36.592Z"
   },
   {
    "duration": 509,
    "start_time": "2023-04-03T07:27:38.097Z"
   },
   {
    "duration": 166,
    "start_time": "2023-04-03T07:57:40.699Z"
   },
   {
    "duration": 367,
    "start_time": "2023-04-03T08:14:01.679Z"
   },
   {
    "duration": 355,
    "start_time": "2023-04-03T08:14:30.219Z"
   },
   {
    "duration": 392,
    "start_time": "2023-04-03T08:14:38.282Z"
   },
   {
    "duration": 411,
    "start_time": "2023-04-03T08:18:32.858Z"
   },
   {
    "duration": 364,
    "start_time": "2023-04-03T08:19:34.671Z"
   },
   {
    "duration": 170,
    "start_time": "2023-04-03T08:19:55.362Z"
   },
   {
    "duration": 351,
    "start_time": "2023-04-03T08:20:52.110Z"
   },
   {
    "duration": 17,
    "start_time": "2023-04-03T08:25:10.827Z"
   },
   {
    "duration": 347,
    "start_time": "2023-04-03T08:25:28.721Z"
   },
   {
    "duration": 3929,
    "start_time": "2023-04-03T08:41:34.189Z"
   },
   {
    "duration": 6635,
    "start_time": "2023-04-03T08:44:52.763Z"
   },
   {
    "duration": 333,
    "start_time": "2023-04-03T08:47:47.598Z"
   },
   {
    "duration": 357,
    "start_time": "2023-04-03T08:48:32.770Z"
   },
   {
    "duration": 346,
    "start_time": "2023-04-03T08:51:01.876Z"
   },
   {
    "duration": 5,
    "start_time": "2023-04-03T09:02:02.064Z"
   },
   {
    "duration": 7,
    "start_time": "2023-04-03T09:03:47.882Z"
   },
   {
    "duration": 16,
    "start_time": "2023-04-03T09:03:57.522Z"
   },
   {
    "duration": 16,
    "start_time": "2023-04-03T09:04:08.246Z"
   },
   {
    "duration": 12,
    "start_time": "2023-04-03T09:04:15.568Z"
   },
   {
    "duration": 16,
    "start_time": "2023-04-03T09:07:31.836Z"
   },
   {
    "duration": 11,
    "start_time": "2023-04-03T09:07:52.138Z"
   },
   {
    "duration": 16,
    "start_time": "2023-04-03T09:08:08.303Z"
   },
   {
    "duration": 696,
    "start_time": "2023-04-03T09:10:50.442Z"
   },
   {
    "duration": 658,
    "start_time": "2023-04-03T09:11:53.127Z"
   },
   {
    "duration": 598,
    "start_time": "2023-04-03T09:12:02.003Z"
   },
   {
    "duration": 603,
    "start_time": "2023-04-03T09:13:09.801Z"
   },
   {
    "duration": 613,
    "start_time": "2023-04-03T09:13:30.432Z"
   },
   {
    "duration": 247,
    "start_time": "2023-04-03T09:52:03.876Z"
   },
   {
    "duration": 235,
    "start_time": "2023-04-03T09:52:49.415Z"
   },
   {
    "duration": 4588,
    "start_time": "2023-04-03T09:53:19.452Z"
   },
   {
    "duration": 211,
    "start_time": "2023-04-03T09:56:20.651Z"
   },
   {
    "duration": 352,
    "start_time": "2023-04-03T09:56:53.671Z"
   },
   {
    "duration": 288,
    "start_time": "2023-04-03T09:57:33.849Z"
   },
   {
    "duration": 593,
    "start_time": "2023-04-03T09:57:54.002Z"
   },
   {
    "duration": 735,
    "start_time": "2023-04-03T10:00:08.548Z"
   },
   {
    "duration": 969,
    "start_time": "2023-04-03T10:04:16.769Z"
   },
   {
    "duration": 150,
    "start_time": "2023-04-03T10:07:10.397Z"
   },
   {
    "duration": 13,
    "start_time": "2023-04-03T10:07:23.850Z"
   },
   {
    "duration": 21,
    "start_time": "2023-04-03T10:08:06.702Z"
   },
   {
    "duration": 22,
    "start_time": "2023-04-03T10:10:45.125Z"
   },
   {
    "duration": 13,
    "start_time": "2023-04-03T10:11:05.926Z"
   },
   {
    "duration": 6,
    "start_time": "2023-04-03T10:12:21.016Z"
   },
   {
    "duration": 10,
    "start_time": "2023-04-03T10:12:53.979Z"
   },
   {
    "duration": 17,
    "start_time": "2023-04-03T10:13:06.325Z"
   },
   {
    "duration": 18,
    "start_time": "2023-04-03T10:13:19.943Z"
   },
   {
    "duration": 848,
    "start_time": "2023-04-03T10:13:41.295Z"
   },
   {
    "duration": 10,
    "start_time": "2023-04-03T10:17:07.912Z"
   },
   {
    "duration": 3,
    "start_time": "2023-04-03T10:17:21.127Z"
   },
   {
    "duration": 705,
    "start_time": "2023-04-03T10:17:21.139Z"
   },
   {
    "duration": 21,
    "start_time": "2023-04-03T10:17:21.846Z"
   },
   {
    "duration": 69,
    "start_time": "2023-04-03T10:17:21.869Z"
   },
   {
    "duration": 61,
    "start_time": "2023-04-03T10:17:21.940Z"
   },
   {
    "duration": 68,
    "start_time": "2023-04-03T10:17:22.003Z"
   },
   {
    "duration": 64,
    "start_time": "2023-04-03T10:17:22.072Z"
   },
   {
    "duration": 57,
    "start_time": "2023-04-03T10:17:22.137Z"
   },
   {
    "duration": 77,
    "start_time": "2023-04-03T10:17:22.196Z"
   },
   {
    "duration": 42,
    "start_time": "2023-04-03T10:17:22.274Z"
   },
   {
    "duration": 52,
    "start_time": "2023-04-03T10:17:22.319Z"
   },
   {
    "duration": 42,
    "start_time": "2023-04-03T10:17:22.373Z"
   },
   {
    "duration": 68,
    "start_time": "2023-04-03T10:17:22.416Z"
   },
   {
    "duration": 14,
    "start_time": "2023-04-03T10:17:22.486Z"
   },
   {
    "duration": 384,
    "start_time": "2023-04-03T10:17:22.501Z"
   },
   {
    "duration": 533,
    "start_time": "2023-04-03T10:17:22.887Z"
   },
   {
    "duration": 158,
    "start_time": "2023-04-03T10:17:23.421Z"
   },
   {
    "duration": 975,
    "start_time": "2023-04-03T10:17:23.583Z"
   },
   {
    "duration": 34,
    "start_time": "2023-04-03T10:17:24.560Z"
   },
   {
    "duration": 18,
    "start_time": "2023-04-03T10:17:27.586Z"
   },
   {
    "duration": 37,
    "start_time": "2023-04-03T10:17:29.549Z"
   },
   {
    "duration": 15,
    "start_time": "2023-04-03T10:20:20.867Z"
   },
   {
    "duration": 5,
    "start_time": "2023-04-03T10:20:42.371Z"
   },
   {
    "duration": 764,
    "start_time": "2023-04-03T10:20:42.379Z"
   },
   {
    "duration": 23,
    "start_time": "2023-04-03T10:20:43.146Z"
   },
   {
    "duration": 43,
    "start_time": "2023-04-03T10:20:43.171Z"
   },
   {
    "duration": 21,
    "start_time": "2023-04-03T10:20:43.217Z"
   },
   {
    "duration": 43,
    "start_time": "2023-04-03T10:20:43.240Z"
   },
   {
    "duration": 14,
    "start_time": "2023-04-03T10:20:43.285Z"
   },
   {
    "duration": 10,
    "start_time": "2023-04-03T10:20:43.301Z"
   },
   {
    "duration": 36,
    "start_time": "2023-04-03T10:20:43.313Z"
   },
   {
    "duration": 20,
    "start_time": "2023-04-03T10:20:43.355Z"
   },
   {
    "duration": 43,
    "start_time": "2023-04-03T10:20:43.378Z"
   },
   {
    "duration": 34,
    "start_time": "2023-04-03T10:20:43.423Z"
   },
   {
    "duration": 52,
    "start_time": "2023-04-03T10:20:43.459Z"
   },
   {
    "duration": 30,
    "start_time": "2023-04-03T10:20:43.513Z"
   },
   {
    "duration": 375,
    "start_time": "2023-04-03T10:20:43.545Z"
   },
   {
    "duration": 534,
    "start_time": "2023-04-03T10:20:43.922Z"
   },
   {
    "duration": 176,
    "start_time": "2023-04-03T10:20:44.458Z"
   },
   {
    "duration": 918,
    "start_time": "2023-04-03T10:20:44.636Z"
   },
   {
    "duration": 37,
    "start_time": "2023-04-03T10:20:45.556Z"
   },
   {
    "duration": 15,
    "start_time": "2023-04-03T10:20:51.237Z"
   },
   {
    "duration": 13,
    "start_time": "2023-04-03T10:20:58.178Z"
   },
   {
    "duration": 5,
    "start_time": "2023-04-03T10:21:06.438Z"
   },
   {
    "duration": 825,
    "start_time": "2023-04-03T10:21:06.450Z"
   },
   {
    "duration": 26,
    "start_time": "2023-04-03T10:21:07.278Z"
   },
   {
    "duration": 45,
    "start_time": "2023-04-03T10:21:07.306Z"
   },
   {
    "duration": 28,
    "start_time": "2023-04-03T10:21:07.355Z"
   },
   {
    "duration": 69,
    "start_time": "2023-04-03T10:21:07.385Z"
   },
   {
    "duration": 22,
    "start_time": "2023-04-03T10:21:07.456Z"
   },
   {
    "duration": 9,
    "start_time": "2023-04-03T10:21:07.480Z"
   },
   {
    "duration": 27,
    "start_time": "2023-04-03T10:21:07.492Z"
   },
   {
    "duration": 8,
    "start_time": "2023-04-03T10:21:07.521Z"
   },
   {
    "duration": 51,
    "start_time": "2023-04-03T10:21:07.533Z"
   },
   {
    "duration": 9,
    "start_time": "2023-04-03T10:21:07.586Z"
   },
   {
    "duration": 52,
    "start_time": "2023-04-03T10:21:07.597Z"
   },
   {
    "duration": 5,
    "start_time": "2023-04-03T10:21:07.651Z"
   },
   {
    "duration": 366,
    "start_time": "2023-04-03T10:21:07.659Z"
   },
   {
    "duration": 723,
    "start_time": "2023-04-03T10:21:08.027Z"
   },
   {
    "duration": 196,
    "start_time": "2023-04-03T10:21:08.752Z"
   },
   {
    "duration": 1190,
    "start_time": "2023-04-03T10:21:08.949Z"
   },
   {
    "duration": 32,
    "start_time": "2023-04-03T10:21:13.621Z"
   },
   {
    "duration": 15,
    "start_time": "2023-04-03T10:21:15.158Z"
   },
   {
    "duration": 14,
    "start_time": "2023-04-03T10:21:26.846Z"
   },
   {
    "duration": 4,
    "start_time": "2023-04-03T10:25:30.731Z"
   },
   {
    "duration": 6,
    "start_time": "2023-04-03T10:26:40.791Z"
   },
   {
    "duration": 5,
    "start_time": "2023-04-03T10:57:17.414Z"
   },
   {
    "duration": 17,
    "start_time": "2023-04-03T10:59:29.222Z"
   },
   {
    "duration": 4,
    "start_time": "2023-04-03T11:00:00.816Z"
   },
   {
    "duration": 821,
    "start_time": "2023-04-03T11:00:00.828Z"
   },
   {
    "duration": 41,
    "start_time": "2023-04-03T11:00:01.652Z"
   },
   {
    "duration": 85,
    "start_time": "2023-04-03T11:00:01.695Z"
   },
   {
    "duration": 91,
    "start_time": "2023-04-03T11:00:01.783Z"
   },
   {
    "duration": 73,
    "start_time": "2023-04-03T11:00:01.876Z"
   },
   {
    "duration": 81,
    "start_time": "2023-04-03T11:00:01.951Z"
   },
   {
    "duration": 80,
    "start_time": "2023-04-03T11:00:02.034Z"
   },
   {
    "duration": 73,
    "start_time": "2023-04-03T11:00:02.116Z"
   },
   {
    "duration": 158,
    "start_time": "2023-04-03T11:00:02.191Z"
   },
   {
    "duration": 153,
    "start_time": "2023-04-03T11:00:02.352Z"
   },
   {
    "duration": 91,
    "start_time": "2023-04-03T11:00:02.508Z"
   },
   {
    "duration": 95,
    "start_time": "2023-04-03T11:00:02.601Z"
   },
   {
    "duration": 12,
    "start_time": "2023-04-03T11:00:02.698Z"
   },
   {
    "duration": 429,
    "start_time": "2023-04-03T11:00:02.713Z"
   },
   {
    "duration": 629,
    "start_time": "2023-04-03T11:00:03.144Z"
   },
   {
    "duration": 196,
    "start_time": "2023-04-03T11:00:03.776Z"
   },
   {
    "duration": 853,
    "start_time": "2023-04-03T11:00:03.974Z"
   },
   {
    "duration": 30,
    "start_time": "2023-04-03T11:00:04.829Z"
   },
   {
    "duration": 54,
    "start_time": "2023-04-03T11:00:04.861Z"
   },
   {
    "duration": 46,
    "start_time": "2023-04-03T11:00:04.917Z"
   },
   {
    "duration": 90,
    "start_time": "2023-04-03T11:00:04.969Z"
   },
   {
    "duration": 66,
    "start_time": "2023-04-03T11:00:05.061Z"
   },
   {
    "duration": 12,
    "start_time": "2023-04-03T11:00:08.394Z"
   },
   {
    "duration": 5,
    "start_time": "2023-04-03T11:00:10.370Z"
   },
   {
    "duration": 4,
    "start_time": "2023-04-03T11:00:46.529Z"
   },
   {
    "duration": 18,
    "start_time": "2023-04-03T11:00:56.772Z"
   },
   {
    "duration": 4,
    "start_time": "2023-04-03T11:02:13.280Z"
   },
   {
    "duration": 11791,
    "start_time": "2023-04-03T11:02:27.679Z"
   },
   {
    "duration": 5,
    "start_time": "2023-04-03T11:10:23.102Z"
   },
   {
    "duration": 11919,
    "start_time": "2023-04-03T11:10:29.405Z"
   },
   {
    "duration": 6,
    "start_time": "2023-04-03T11:13:16.873Z"
   },
   {
    "duration": 11581,
    "start_time": "2023-04-03T11:13:21.923Z"
   },
   {
    "duration": 7,
    "start_time": "2023-04-03T11:15:01.467Z"
   },
   {
    "duration": 531453,
    "start_time": "2023-04-03T11:15:08.088Z"
   },
   {
    "duration": 7,
    "start_time": "2023-04-03T11:27:38.350Z"
   },
   {
    "duration": 11251,
    "start_time": "2023-04-03T11:27:46.193Z"
   },
   {
    "duration": 6,
    "start_time": "2023-04-03T11:28:14.724Z"
   },
   {
    "duration": 8,
    "start_time": "2023-04-03T11:28:32.584Z"
   },
   {
    "duration": 12022,
    "start_time": "2023-04-03T11:28:50.627Z"
   },
   {
    "duration": 5,
    "start_time": "2023-04-03T11:29:50.495Z"
   },
   {
    "duration": 10755,
    "start_time": "2023-04-03T11:29:57.374Z"
   },
   {
    "duration": 4,
    "start_time": "2023-04-03T11:40:32.735Z"
   },
   {
    "duration": 11042,
    "start_time": "2023-04-03T11:40:40.217Z"
   },
   {
    "duration": 11387,
    "start_time": "2023-04-03T11:41:08.715Z"
   },
   {
    "duration": 5,
    "start_time": "2023-04-03T11:42:25.749Z"
   },
   {
    "duration": 4,
    "start_time": "2023-04-03T11:43:04.220Z"
   },
   {
    "duration": 2075737,
    "start_time": "2023-04-03T12:18:21.015Z"
   },
   {
    "duration": 46,
    "start_time": "2023-04-03T12:52:56.754Z"
   },
   {
    "duration": 5,
    "start_time": "2023-04-03T13:22:55.353Z"
   },
   {
    "duration": 806,
    "start_time": "2023-04-03T13:22:55.360Z"
   },
   {
    "duration": 35,
    "start_time": "2023-04-03T13:22:56.168Z"
   },
   {
    "duration": 25,
    "start_time": "2023-04-03T13:22:56.207Z"
   },
   {
    "duration": 35,
    "start_time": "2023-04-03T13:22:56.235Z"
   },
   {
    "duration": 20,
    "start_time": "2023-04-03T13:22:56.272Z"
   },
   {
    "duration": 26,
    "start_time": "2023-04-03T13:22:56.299Z"
   },
   {
    "duration": 15,
    "start_time": "2023-04-03T13:22:56.327Z"
   },
   {
    "duration": 21,
    "start_time": "2023-04-03T13:22:56.344Z"
   },
   {
    "duration": 14,
    "start_time": "2023-04-03T13:22:56.367Z"
   },
   {
    "duration": 45,
    "start_time": "2023-04-03T13:22:56.384Z"
   },
   {
    "duration": 11,
    "start_time": "2023-04-03T13:22:56.431Z"
   },
   {
    "duration": 36,
    "start_time": "2023-04-03T13:22:56.445Z"
   },
   {
    "duration": 5,
    "start_time": "2023-04-03T13:22:56.483Z"
   },
   {
    "duration": 421,
    "start_time": "2023-04-03T13:22:56.490Z"
   },
   {
    "duration": 693,
    "start_time": "2023-04-03T13:22:56.913Z"
   },
   {
    "duration": 11,
    "start_time": "2023-04-03T13:22:57.608Z"
   },
   {
    "duration": 1142,
    "start_time": "2023-04-03T13:22:57.620Z"
   },
   {
    "duration": 44,
    "start_time": "2023-04-03T13:22:58.764Z"
   },
   {
    "duration": 18,
    "start_time": "2023-04-03T13:22:58.810Z"
   },
   {
    "duration": 35,
    "start_time": "2023-04-03T13:23:43.733Z"
   },
   {
    "duration": 16,
    "start_time": "2023-04-03T13:23:45.914Z"
   },
   {
    "duration": 5,
    "start_time": "2023-04-03T13:23:52.354Z"
   },
   {
    "duration": 870,
    "start_time": "2023-04-03T13:23:52.361Z"
   },
   {
    "duration": 34,
    "start_time": "2023-04-03T13:23:53.234Z"
   },
   {
    "duration": 49,
    "start_time": "2023-04-03T13:23:53.270Z"
   },
   {
    "duration": 51,
    "start_time": "2023-04-03T13:23:53.323Z"
   },
   {
    "duration": 75,
    "start_time": "2023-04-03T13:23:53.377Z"
   },
   {
    "duration": 17,
    "start_time": "2023-04-03T13:23:53.454Z"
   },
   {
    "duration": 9,
    "start_time": "2023-04-03T13:23:53.473Z"
   },
   {
    "duration": 61,
    "start_time": "2023-04-03T13:23:53.484Z"
   },
   {
    "duration": 8,
    "start_time": "2023-04-03T13:23:53.547Z"
   },
   {
    "duration": 30,
    "start_time": "2023-04-03T13:23:53.558Z"
   },
   {
    "duration": 36,
    "start_time": "2023-04-03T13:23:53.590Z"
   },
   {
    "duration": 50,
    "start_time": "2023-04-03T13:23:53.629Z"
   },
   {
    "duration": 20,
    "start_time": "2023-04-03T13:23:53.682Z"
   },
   {
    "duration": 539,
    "start_time": "2023-04-03T13:23:53.703Z"
   },
   {
    "duration": 775,
    "start_time": "2023-04-03T13:23:54.244Z"
   },
   {
    "duration": 12,
    "start_time": "2023-04-03T13:23:55.021Z"
   },
   {
    "duration": 976,
    "start_time": "2023-04-03T13:23:55.035Z"
   },
   {
    "duration": 34,
    "start_time": "2023-04-03T13:24:05.470Z"
   },
   {
    "duration": 23,
    "start_time": "2023-04-03T13:24:07.110Z"
   },
   {
    "duration": 51,
    "start_time": "2023-04-03T13:30:29.430Z"
   },
   {
    "duration": 29,
    "start_time": "2023-04-03T13:30:42.553Z"
   },
   {
    "duration": 38,
    "start_time": "2023-04-03T13:31:02.825Z"
   },
   {
    "duration": 4,
    "start_time": "2023-04-03T13:34:13.205Z"
   },
   {
    "duration": 55,
    "start_time": "2023-04-03T13:48:37.920Z"
   },
   {
    "duration": 5,
    "start_time": "2023-04-03T13:48:48.910Z"
   },
   {
    "duration": 9,
    "start_time": "2023-04-03T13:48:57.268Z"
   },
   {
    "duration": 23,
    "start_time": "2023-04-03T13:48:58.900Z"
   },
   {
    "duration": 8,
    "start_time": "2023-04-03T13:57:39.941Z"
   },
   {
    "duration": 13,
    "start_time": "2023-04-03T14:02:15.240Z"
   },
   {
    "duration": 1436952,
    "start_time": "2023-04-03T14:02:22.966Z"
   },
   {
    "duration": 13,
    "start_time": "2023-04-03T14:29:46.230Z"
   },
   {
    "duration": 4,
    "start_time": "2023-04-03T14:29:53.474Z"
   },
   {
    "duration": 23,
    "start_time": "2023-04-03T14:29:59.275Z"
   },
   {
    "duration": 8,
    "start_time": "2023-04-03T14:30:24.612Z"
   },
   {
    "duration": 1980,
    "start_time": "2023-04-03T14:30:32.419Z"
   },
   {
    "duration": 4,
    "start_time": "2023-04-03T14:31:53.677Z"
   },
   {
    "duration": 1947,
    "start_time": "2023-04-03T14:32:01.251Z"
   },
   {
    "duration": 2750,
    "start_time": "2023-04-03T14:32:56.869Z"
   },
   {
    "duration": 4,
    "start_time": "2023-04-03T14:33:36.224Z"
   },
   {
    "duration": 1914,
    "start_time": "2023-04-03T14:33:43.381Z"
   },
   {
    "duration": 2151,
    "start_time": "2023-04-03T14:33:48.880Z"
   },
   {
    "duration": 3195,
    "start_time": "2023-04-03T14:36:01.015Z"
   },
   {
    "duration": 2715986,
    "start_time": "2023-04-03T14:51:49.605Z"
   },
   {
    "duration": 5,
    "start_time": "2023-04-03T16:04:36.513Z"
   },
   {
    "duration": 9674,
    "start_time": "2023-04-03T16:11:49.796Z"
   },
   {
    "duration": 8,
    "start_time": "2023-04-03T16:13:16.102Z"
   },
   {
    "duration": 254553,
    "start_time": "2023-04-03T16:13:24.683Z"
   },
   {
    "duration": 5,
    "start_time": "2023-04-03T16:22:32.008Z"
   },
   {
    "duration": 400,
    "start_time": "2023-04-03T16:23:21.123Z"
   },
   {
    "duration": 5,
    "start_time": "2023-04-03T16:26:26.119Z"
   },
   {
    "duration": 9,
    "start_time": "2023-04-03T16:26:33.127Z"
   },
   {
    "duration": 7,
    "start_time": "2023-04-03T16:27:09.607Z"
   },
   {
    "duration": 414,
    "start_time": "2023-04-03T16:27:16.403Z"
   },
   {
    "duration": 8,
    "start_time": "2023-04-03T16:27:58.104Z"
   },
   {
    "duration": 986,
    "start_time": "2023-04-03T16:28:05.990Z"
   },
   {
    "duration": 1097,
    "start_time": "2023-04-03T16:28:16.260Z"
   },
   {
    "duration": 5,
    "start_time": "2023-04-03T16:30:28.971Z"
   },
   {
    "duration": 1169,
    "start_time": "2023-04-03T16:30:35.880Z"
   },
   {
    "duration": 6,
    "start_time": "2023-04-03T16:31:03.506Z"
   },
   {
    "duration": 748,
    "start_time": "2023-04-03T16:31:03.515Z"
   },
   {
    "duration": 24,
    "start_time": "2023-04-03T16:31:04.265Z"
   },
   {
    "duration": 48,
    "start_time": "2023-04-03T16:31:04.292Z"
   },
   {
    "duration": 37,
    "start_time": "2023-04-03T16:31:04.342Z"
   },
   {
    "duration": 56,
    "start_time": "2023-04-03T16:31:04.381Z"
   },
   {
    "duration": 31,
    "start_time": "2023-04-03T16:31:04.439Z"
   },
   {
    "duration": 7,
    "start_time": "2023-04-03T16:31:04.471Z"
   },
   {
    "duration": 52,
    "start_time": "2023-04-03T16:31:04.481Z"
   },
   {
    "duration": 5,
    "start_time": "2023-04-03T16:31:04.535Z"
   },
   {
    "duration": 21,
    "start_time": "2023-04-03T16:31:04.542Z"
   },
   {
    "duration": 15,
    "start_time": "2023-04-03T16:31:04.564Z"
   },
   {
    "duration": 59,
    "start_time": "2023-04-03T16:31:04.580Z"
   },
   {
    "duration": 5,
    "start_time": "2023-04-03T16:31:04.640Z"
   },
   {
    "duration": 374,
    "start_time": "2023-04-03T16:31:04.647Z"
   },
   {
    "duration": 678,
    "start_time": "2023-04-03T16:31:05.023Z"
   },
   {
    "duration": 16,
    "start_time": "2023-04-03T16:31:05.703Z"
   },
   {
    "duration": 1119,
    "start_time": "2023-04-03T16:31:05.720Z"
   },
   {
    "duration": 24,
    "start_time": "2023-04-03T16:31:06.841Z"
   },
   {
    "duration": 32,
    "start_time": "2023-04-03T16:31:06.867Z"
   },
   {
    "duration": 25,
    "start_time": "2023-04-03T16:31:06.901Z"
   },
   {
    "duration": 81,
    "start_time": "2023-04-03T16:31:06.928Z"
   },
   {
    "duration": 23,
    "start_time": "2023-04-03T16:31:07.011Z"
   },
   {
    "duration": 59,
    "start_time": "2023-04-03T16:31:07.037Z"
   },
   {
    "duration": 24,
    "start_time": "2023-04-03T16:31:07.098Z"
   },
   {
    "duration": 35,
    "start_time": "2023-04-03T16:31:07.123Z"
   },
   {
    "duration": 6,
    "start_time": "2023-04-03T16:31:10.445Z"
   },
   {
    "duration": 1159,
    "start_time": "2023-04-03T16:31:17.532Z"
   },
   {
    "duration": 5,
    "start_time": "2023-04-03T16:32:39.078Z"
   },
   {
    "duration": 1056,
    "start_time": "2023-04-03T16:32:57.616Z"
   },
   {
    "duration": 5,
    "start_time": "2023-04-03T16:34:59.165Z"
   },
   {
    "duration": 443,
    "start_time": "2023-04-03T16:35:04.216Z"
   },
   {
    "duration": 6,
    "start_time": "2023-04-03T16:35:18.043Z"
   },
   {
    "duration": 499,
    "start_time": "2023-04-03T16:35:24.735Z"
   },
   {
    "duration": 6,
    "start_time": "2023-04-03T16:36:00.255Z"
   },
   {
    "duration": 438,
    "start_time": "2023-04-03T16:36:05.786Z"
   },
   {
    "duration": 10,
    "start_time": "2023-04-03T16:38:18.509Z"
   },
   {
    "duration": 461,
    "start_time": "2023-04-03T16:38:24.844Z"
   },
   {
    "duration": 5,
    "start_time": "2023-04-03T16:39:40.212Z"
   },
   {
    "duration": 1095,
    "start_time": "2023-04-03T16:39:46.011Z"
   },
   {
    "duration": 6,
    "start_time": "2023-04-03T16:41:09.584Z"
   },
   {
    "duration": 1127,
    "start_time": "2023-04-03T16:41:16.003Z"
   },
   {
    "duration": 8,
    "start_time": "2023-04-03T16:42:48.003Z"
   },
   {
    "duration": 1083,
    "start_time": "2023-04-03T16:42:54.340Z"
   },
   {
    "duration": 6,
    "start_time": "2023-04-03T16:43:40.939Z"
   },
   {
    "duration": 1180,
    "start_time": "2023-04-03T16:43:47.529Z"
   },
   {
    "duration": 6,
    "start_time": "2023-04-03T16:45:51.753Z"
   },
   {
    "duration": 991,
    "start_time": "2023-04-03T16:45:59.255Z"
   },
   {
    "duration": 6,
    "start_time": "2023-04-03T16:46:48.335Z"
   },
   {
    "duration": 8908,
    "start_time": "2023-04-03T16:46:54.042Z"
   },
   {
    "duration": 5,
    "start_time": "2023-04-03T16:48:42.372Z"
   },
   {
    "duration": 8393,
    "start_time": "2023-04-03T16:48:48.840Z"
   },
   {
    "duration": 6,
    "start_time": "2023-04-03T16:49:36.781Z"
   },
   {
    "duration": 29155,
    "start_time": "2023-04-03T16:49:46.972Z"
   },
   {
    "duration": 5,
    "start_time": "2023-04-03T16:51:09.539Z"
   },
   {
    "duration": 8681,
    "start_time": "2023-04-03T16:51:17.287Z"
   },
   {
    "duration": 3,
    "start_time": "2023-04-03T16:51:44.631Z"
   },
   {
    "duration": 5,
    "start_time": "2023-04-03T16:51:52.469Z"
   },
   {
    "duration": 9181,
    "start_time": "2023-04-03T16:51:59.052Z"
   },
   {
    "duration": 4,
    "start_time": "2023-04-03T16:55:42.648Z"
   },
   {
    "duration": 2533,
    "start_time": "2023-04-03T16:56:07.754Z"
   },
   {
    "duration": 10,
    "start_time": "2023-04-03T16:56:14.670Z"
   },
   {
    "duration": 2338,
    "start_time": "2023-04-03T17:17:31.555Z"
   },
   {
    "duration": 332,
    "start_time": "2023-04-03T17:32:18.674Z"
   },
   {
    "duration": 30,
    "start_time": "2023-04-03T17:34:31.950Z"
   },
   {
    "duration": 4,
    "start_time": "2023-04-03T17:34:59.443Z"
   },
   {
    "duration": 224,
    "start_time": "2023-04-03T17:35:07.665Z"
   },
   {
    "duration": 28,
    "start_time": "2023-04-03T17:36:02.548Z"
   },
   {
    "duration": 1063,
    "start_time": "2023-04-03T17:36:11.635Z"
   },
   {
    "duration": 3,
    "start_time": "2023-04-03T17:36:36.905Z"
   },
   {
    "duration": 721,
    "start_time": "2023-04-03T17:36:36.910Z"
   },
   {
    "duration": 26,
    "start_time": "2023-04-03T17:36:37.633Z"
   },
   {
    "duration": 40,
    "start_time": "2023-04-03T17:36:37.661Z"
   },
   {
    "duration": 35,
    "start_time": "2023-04-03T17:36:37.703Z"
   },
   {
    "duration": 40,
    "start_time": "2023-04-03T17:36:37.740Z"
   },
   {
    "duration": 17,
    "start_time": "2023-04-03T17:36:37.782Z"
   },
   {
    "duration": 23,
    "start_time": "2023-04-03T17:36:37.801Z"
   },
   {
    "duration": 28,
    "start_time": "2023-04-03T17:36:37.826Z"
   },
   {
    "duration": 5,
    "start_time": "2023-04-03T17:36:37.856Z"
   },
   {
    "duration": 48,
    "start_time": "2023-04-03T17:36:37.863Z"
   },
   {
    "duration": 6,
    "start_time": "2023-04-03T17:36:37.913Z"
   },
   {
    "duration": 47,
    "start_time": "2023-04-03T17:36:37.921Z"
   },
   {
    "duration": 4,
    "start_time": "2023-04-03T17:36:37.969Z"
   },
   {
    "duration": 377,
    "start_time": "2023-04-03T17:36:37.974Z"
   },
   {
    "duration": 617,
    "start_time": "2023-04-03T17:36:38.353Z"
   },
   {
    "duration": 18,
    "start_time": "2023-04-03T17:36:38.972Z"
   },
   {
    "duration": 826,
    "start_time": "2023-04-03T17:36:38.993Z"
   },
   {
    "duration": 31,
    "start_time": "2023-04-03T17:36:39.821Z"
   },
   {
    "duration": 29,
    "start_time": "2023-04-03T17:36:39.854Z"
   },
   {
    "duration": 5,
    "start_time": "2023-04-03T17:36:39.885Z"
   },
   {
    "duration": 76,
    "start_time": "2023-04-03T17:36:39.892Z"
   },
   {
    "duration": 10,
    "start_time": "2023-04-03T17:36:39.970Z"
   },
   {
    "duration": 26,
    "start_time": "2023-04-03T17:36:39.981Z"
   },
   {
    "duration": 28,
    "start_time": "2023-04-03T17:36:40.009Z"
   },
   {
    "duration": 35,
    "start_time": "2023-04-03T17:36:40.040Z"
   },
   {
    "duration": 15,
    "start_time": "2023-04-03T17:36:40.077Z"
   },
   {
    "duration": 39,
    "start_time": "2023-04-03T17:36:40.094Z"
   },
   {
    "duration": 167,
    "start_time": "2023-04-03T17:37:15.437Z"
   },
   {
    "duration": 6,
    "start_time": "2023-04-03T17:37:36.034Z"
   },
   {
    "duration": 210,
    "start_time": "2023-04-03T17:38:29.479Z"
   },
   {
    "duration": 6,
    "start_time": "2023-04-03T17:38:33.521Z"
   },
   {
    "duration": 14,
    "start_time": "2023-04-03T17:40:48.280Z"
   },
   {
    "duration": 4,
    "start_time": "2023-04-03T17:41:32.937Z"
   },
   {
    "duration": 4,
    "start_time": "2023-04-03T17:41:45.472Z"
   },
   {
    "duration": 13,
    "start_time": "2023-04-03T17:56:09.396Z"
   },
   {
    "duration": 12,
    "start_time": "2023-04-03T17:56:34.728Z"
   },
   {
    "duration": 24,
    "start_time": "2023-04-03T17:58:07.218Z"
   },
   {
    "duration": 7,
    "start_time": "2023-04-03T17:59:18.751Z"
   },
   {
    "duration": 24,
    "start_time": "2023-04-03T18:00:09.526Z"
   },
   {
    "duration": 10,
    "start_time": "2023-04-03T18:02:33.547Z"
   },
   {
    "duration": 13,
    "start_time": "2023-04-03T18:02:45.397Z"
   },
   {
    "duration": 5,
    "start_time": "2023-04-03T18:18:22.612Z"
   },
   {
    "duration": 104,
    "start_time": "2023-04-03T18:18:51.780Z"
   },
   {
    "duration": 5,
    "start_time": "2023-04-03T18:18:53.280Z"
   },
   {
    "duration": 56,
    "start_time": "2023-04-03T18:18:55.332Z"
   },
   {
    "duration": 5,
    "start_time": "2023-04-03T18:18:56.939Z"
   },
   {
    "duration": 3,
    "start_time": "2023-04-03T18:18:58.607Z"
   },
   {
    "duration": 10,
    "start_time": "2023-04-03T18:21:16.609Z"
   },
   {
    "duration": 1354,
    "start_time": "2023-04-03T18:34:06.529Z"
   },
   {
    "duration": 757,
    "start_time": "2023-04-03T18:34:07.884Z"
   },
   {
    "duration": 27,
    "start_time": "2023-04-03T18:34:08.643Z"
   },
   {
    "duration": 30,
    "start_time": "2023-04-03T18:34:08.672Z"
   },
   {
    "duration": 24,
    "start_time": "2023-04-03T18:34:08.704Z"
   },
   {
    "duration": 19,
    "start_time": "2023-04-03T18:34:08.730Z"
   },
   {
    "duration": 38,
    "start_time": "2023-04-03T18:34:08.751Z"
   },
   {
    "duration": 6,
    "start_time": "2023-04-03T18:34:08.791Z"
   },
   {
    "duration": 26,
    "start_time": "2023-04-03T18:34:08.799Z"
   },
   {
    "duration": 5,
    "start_time": "2023-04-03T18:34:08.826Z"
   },
   {
    "duration": 17,
    "start_time": "2023-04-03T18:34:08.833Z"
   },
   {
    "duration": 37,
    "start_time": "2023-04-03T18:34:08.851Z"
   },
   {
    "duration": 38,
    "start_time": "2023-04-03T18:34:08.890Z"
   },
   {
    "duration": 4,
    "start_time": "2023-04-03T18:34:08.931Z"
   },
   {
    "duration": 369,
    "start_time": "2023-04-03T18:34:08.936Z"
   },
   {
    "duration": 666,
    "start_time": "2023-04-03T18:34:09.306Z"
   },
   {
    "duration": 18,
    "start_time": "2023-04-03T18:34:09.974Z"
   },
   {
    "duration": 770,
    "start_time": "2023-04-03T18:34:09.994Z"
   },
   {
    "duration": 40,
    "start_time": "2023-04-03T18:34:10.766Z"
   },
   {
    "duration": 13,
    "start_time": "2023-04-03T18:34:10.808Z"
   },
   {
    "duration": 3,
    "start_time": "2023-04-03T18:34:10.823Z"
   },
   {
    "duration": 55,
    "start_time": "2023-04-03T18:34:10.828Z"
   },
   {
    "duration": 7,
    "start_time": "2023-04-03T18:34:10.885Z"
   },
   {
    "duration": 9,
    "start_time": "2023-04-03T18:34:10.894Z"
   },
   {
    "duration": 10,
    "start_time": "2023-04-03T18:34:10.904Z"
   },
   {
    "duration": 9,
    "start_time": "2023-04-03T18:34:10.916Z"
   },
   {
    "duration": 9,
    "start_time": "2023-04-03T18:34:10.927Z"
   },
   {
    "duration": 7,
    "start_time": "2023-04-03T18:34:10.937Z"
   },
   {
    "duration": 238,
    "start_time": "2023-04-03T18:34:10.946Z"
   },
   {
    "duration": 6,
    "start_time": "2023-04-03T18:34:11.186Z"
   },
   {
    "duration": 297,
    "start_time": "2023-04-03T18:34:11.194Z"
   },
   {
    "duration": 95,
    "start_time": "2023-04-03T18:34:11.493Z"
   },
   {
    "duration": 98,
    "start_time": "2023-04-03T18:34:11.590Z"
   },
   {
    "duration": 16,
    "start_time": "2023-04-03T18:34:11.690Z"
   },
   {
    "duration": 35,
    "start_time": "2023-04-04T15:30:31.966Z"
   },
   {
    "duration": 18,
    "start_time": "2023-04-04T15:30:41.050Z"
   },
   {
    "duration": 17,
    "start_time": "2023-04-04T15:30:47.114Z"
   },
   {
    "duration": 115,
    "start_time": "2023-04-04T15:44:19.394Z"
   },
   {
    "duration": 12,
    "start_time": "2023-04-04T15:44:26.607Z"
   },
   {
    "duration": 1740,
    "start_time": "2023-04-04T17:42:33.257Z"
   },
   {
    "duration": 3330,
    "start_time": "2023-04-04T17:42:34.999Z"
   },
   {
    "duration": 45,
    "start_time": "2023-04-04T17:42:38.331Z"
   },
   {
    "duration": 43,
    "start_time": "2023-04-04T17:42:38.379Z"
   },
   {
    "duration": 37,
    "start_time": "2023-04-04T17:42:38.424Z"
   },
   {
    "duration": 55,
    "start_time": "2023-04-04T17:42:38.464Z"
   },
   {
    "duration": 14,
    "start_time": "2023-04-04T17:42:38.521Z"
   },
   {
    "duration": 39,
    "start_time": "2023-04-04T17:42:38.538Z"
   },
   {
    "duration": 43,
    "start_time": "2023-04-04T17:42:38.579Z"
   },
   {
    "duration": 25,
    "start_time": "2023-04-04T17:42:38.625Z"
   },
   {
    "duration": 74,
    "start_time": "2023-04-04T17:42:38.652Z"
   },
   {
    "duration": 28,
    "start_time": "2023-04-04T17:42:38.728Z"
   },
   {
    "duration": 49,
    "start_time": "2023-04-04T17:42:38.758Z"
   },
   {
    "duration": 3,
    "start_time": "2023-04-04T17:42:38.810Z"
   },
   {
    "duration": 521,
    "start_time": "2023-04-04T17:42:38.815Z"
   },
   {
    "duration": 636,
    "start_time": "2023-04-04T17:42:39.339Z"
   },
   {
    "duration": 12,
    "start_time": "2023-04-04T17:42:39.977Z"
   },
   {
    "duration": 826,
    "start_time": "2023-04-04T17:42:39.991Z"
   },
   {
    "duration": 36,
    "start_time": "2023-04-04T17:42:40.819Z"
   },
   {
    "duration": 16,
    "start_time": "2023-04-04T17:42:40.857Z"
   },
   {
    "duration": 14,
    "start_time": "2023-04-04T17:42:40.875Z"
   },
   {
    "duration": 64,
    "start_time": "2023-04-04T17:42:40.891Z"
   },
   {
    "duration": 19,
    "start_time": "2023-04-04T17:42:40.957Z"
   },
   {
    "duration": 28,
    "start_time": "2023-04-04T17:42:40.978Z"
   },
   {
    "duration": 20,
    "start_time": "2023-04-04T17:42:41.008Z"
   },
   {
    "duration": 24,
    "start_time": "2023-04-04T17:42:41.030Z"
   },
   {
    "duration": 25,
    "start_time": "2023-04-04T17:42:41.055Z"
   },
   {
    "duration": 17,
    "start_time": "2023-04-04T17:42:41.083Z"
   },
   {
    "duration": 9093,
    "start_time": "2023-04-04T17:42:51.555Z"
   },
   {
    "duration": 7,
    "start_time": "2023-04-04T17:50:25.717Z"
   },
   {
    "duration": 9314,
    "start_time": "2023-04-04T17:50:34.417Z"
   },
   {
    "duration": 4,
    "start_time": "2023-04-04T17:51:37.462Z"
   },
   {
    "duration": 772,
    "start_time": "2023-04-04T17:51:37.468Z"
   },
   {
    "duration": 24,
    "start_time": "2023-04-04T17:51:38.242Z"
   },
   {
    "duration": 58,
    "start_time": "2023-04-04T17:51:38.269Z"
   },
   {
    "duration": 43,
    "start_time": "2023-04-04T17:51:38.329Z"
   },
   {
    "duration": 42,
    "start_time": "2023-04-04T17:51:38.374Z"
   },
   {
    "duration": 19,
    "start_time": "2023-04-04T17:51:38.418Z"
   },
   {
    "duration": 28,
    "start_time": "2023-04-04T17:51:38.440Z"
   },
   {
    "duration": 61,
    "start_time": "2023-04-04T17:51:38.469Z"
   },
   {
    "duration": 31,
    "start_time": "2023-04-04T17:51:38.532Z"
   },
   {
    "duration": 47,
    "start_time": "2023-04-04T17:51:38.566Z"
   },
   {
    "duration": 53,
    "start_time": "2023-04-04T17:51:38.615Z"
   },
   {
    "duration": 72,
    "start_time": "2023-04-04T17:51:38.670Z"
   },
   {
    "duration": 61,
    "start_time": "2023-04-04T17:51:38.744Z"
   },
   {
    "duration": 509,
    "start_time": "2023-04-04T17:51:38.808Z"
   },
   {
    "duration": 680,
    "start_time": "2023-04-04T17:51:39.320Z"
   },
   {
    "duration": 20,
    "start_time": "2023-04-04T17:51:40.002Z"
   },
   {
    "duration": 859,
    "start_time": "2023-04-04T17:51:40.024Z"
   },
   {
    "duration": 33,
    "start_time": "2023-04-04T17:51:40.885Z"
   },
   {
    "duration": 27,
    "start_time": "2023-04-04T17:51:40.920Z"
   },
   {
    "duration": 24,
    "start_time": "2023-04-04T17:51:40.949Z"
   },
   {
    "duration": 64,
    "start_time": "2023-04-04T17:51:40.975Z"
   },
   {
    "duration": 18,
    "start_time": "2023-04-04T17:51:41.041Z"
   },
   {
    "duration": 19,
    "start_time": "2023-04-04T17:51:41.062Z"
   },
   {
    "duration": 18,
    "start_time": "2023-04-04T17:51:41.083Z"
   },
   {
    "duration": 20,
    "start_time": "2023-04-04T17:51:41.102Z"
   },
   {
    "duration": 31,
    "start_time": "2023-04-04T17:51:41.124Z"
   },
   {
    "duration": 43,
    "start_time": "2023-04-04T17:51:41.157Z"
   },
   {
    "duration": 5134,
    "start_time": "2023-04-04T17:51:50.829Z"
   },
   {
    "duration": 10,
    "start_time": "2023-04-04T17:52:50.149Z"
   },
   {
    "duration": 2658298,
    "start_time": "2023-04-04T17:52:57.794Z"
   },
   {
    "duration": 3173,
    "start_time": "2023-04-04T18:40:40.746Z"
   },
   {
    "duration": 4,
    "start_time": "2023-04-04T18:41:08.490Z"
   },
   {
    "duration": 2635,
    "start_time": "2023-04-04T18:41:45.686Z"
   },
   {
    "duration": 204,
    "start_time": "2023-04-04T18:42:49.117Z"
   },
   {
    "duration": 6,
    "start_time": "2023-04-04T18:42:54.189Z"
   },
   {
    "duration": 25,
    "start_time": "2023-04-04T18:43:02.296Z"
   },
   {
    "duration": 5,
    "start_time": "2023-04-04T18:43:04.785Z"
   },
   {
    "duration": 5,
    "start_time": "2023-04-04T18:43:09.263Z"
   },
   {
    "duration": 4,
    "start_time": "2023-04-04T18:43:12.222Z"
   },
   {
    "duration": 7,
    "start_time": "2023-04-04T18:44:04.148Z"
   },
   {
    "duration": 8,
    "start_time": "2023-04-04T18:44:37.062Z"
   },
   {
    "duration": 6,
    "start_time": "2023-04-04T18:44:58.643Z"
   },
   {
    "duration": 5,
    "start_time": "2023-04-04T18:45:00.250Z"
   },
   {
    "duration": 120,
    "start_time": "2023-04-04T18:45:03.800Z"
   },
   {
    "duration": 6,
    "start_time": "2023-04-04T18:45:05.551Z"
   },
   {
    "duration": 4,
    "start_time": "2023-04-04T18:45:07.563Z"
   },
   {
    "duration": 10,
    "start_time": "2023-04-04T18:45:23.740Z"
   },
   {
    "duration": 1510,
    "start_time": "2023-04-04T19:10:38.586Z"
   },
   {
    "duration": 723,
    "start_time": "2023-04-04T19:10:40.098Z"
   },
   {
    "duration": 27,
    "start_time": "2023-04-04T19:10:40.824Z"
   },
   {
    "duration": 66,
    "start_time": "2023-04-04T19:10:40.854Z"
   },
   {
    "duration": 62,
    "start_time": "2023-04-04T19:10:40.922Z"
   },
   {
    "duration": 51,
    "start_time": "2023-04-04T19:10:40.985Z"
   },
   {
    "duration": 18,
    "start_time": "2023-04-04T19:10:41.038Z"
   },
   {
    "duration": 30,
    "start_time": "2023-04-04T19:10:41.057Z"
   },
   {
    "duration": 47,
    "start_time": "2023-04-04T19:10:41.089Z"
   },
   {
    "duration": 6,
    "start_time": "2023-04-04T19:10:41.140Z"
   },
   {
    "duration": 34,
    "start_time": "2023-04-04T19:10:41.148Z"
   },
   {
    "duration": 33,
    "start_time": "2023-04-04T19:10:41.184Z"
   },
   {
    "duration": 61,
    "start_time": "2023-04-04T19:10:41.218Z"
   },
   {
    "duration": 4,
    "start_time": "2023-04-04T19:10:41.281Z"
   },
   {
    "duration": 421,
    "start_time": "2023-04-04T19:10:41.287Z"
   },
   {
    "duration": 685,
    "start_time": "2023-04-04T19:10:41.710Z"
   },
   {
    "duration": 20,
    "start_time": "2023-04-04T19:10:42.398Z"
   },
   {
    "duration": 888,
    "start_time": "2023-04-04T19:10:42.421Z"
   },
   {
    "duration": 40,
    "start_time": "2023-04-04T19:10:43.310Z"
   },
   {
    "duration": 14,
    "start_time": "2023-04-04T19:10:43.352Z"
   },
   {
    "duration": 14,
    "start_time": "2023-04-04T19:10:43.367Z"
   },
   {
    "duration": 54,
    "start_time": "2023-04-04T19:10:43.383Z"
   },
   {
    "duration": 30,
    "start_time": "2023-04-04T19:10:43.439Z"
   },
   {
    "duration": 34,
    "start_time": "2023-04-04T19:10:43.471Z"
   },
   {
    "duration": 56,
    "start_time": "2023-04-04T19:10:43.506Z"
   },
   {
    "duration": 67,
    "start_time": "2023-04-04T19:10:43.564Z"
   },
   {
    "duration": 43,
    "start_time": "2023-04-04T19:10:43.633Z"
   },
   {
    "duration": 29,
    "start_time": "2023-04-04T19:10:43.679Z"
   },
   {
    "duration": 3013,
    "start_time": "2023-04-04T19:10:43.710Z"
   },
   {
    "duration": 303,
    "start_time": "2023-04-04T19:10:46.725Z"
   },
   {
    "duration": 12,
    "start_time": "2023-04-04T19:10:47.120Z"
   },
   {
    "duration": 283,
    "start_time": "2023-04-04T19:10:47.135Z"
   },
   {
    "duration": 7,
    "start_time": "2023-04-04T19:10:47.420Z"
   },
   {
    "duration": 16,
    "start_time": "2023-04-04T19:10:47.429Z"
   },
   {
    "duration": 19,
    "start_time": "2023-04-04T19:10:47.447Z"
   },
   {
    "duration": 0,
    "start_time": "2023-04-05T13:42:45.232Z"
   },
   {
    "duration": 26,
    "start_time": "2023-04-05T13:42:47.901Z"
   },
   {
    "duration": 13,
    "start_time": "2023-04-05T13:42:58.065Z"
   },
   {
    "duration": 14,
    "start_time": "2023-04-05T13:43:04.972Z"
   }
  ],
  "kernelspec": {
   "display_name": "Python 3 (ipykernel)",
   "language": "python",
   "name": "python3"
  },
  "language_info": {
   "codemirror_mode": {
    "name": "ipython",
    "version": 3
   },
   "file_extension": ".py",
   "mimetype": "text/x-python",
   "name": "python",
   "nbconvert_exporter": "python",
   "pygments_lexer": "ipython3",
   "version": "3.11.3"
  },
  "toc": {
   "base_numbering": 1,
   "nav_menu": {},
   "number_sections": true,
   "sideBar": true,
   "skip_h1_title": true,
   "title_cell": "Содержание",
   "title_sidebar": "Contents",
   "toc_cell": true,
   "toc_position": {
    "height": "calc(100% - 180px)",
    "left": "10px",
    "top": "150px",
    "width": "165px"
   },
   "toc_section_display": true,
   "toc_window_display": true
  }
 },
 "nbformat": 4,
 "nbformat_minor": 2
}
