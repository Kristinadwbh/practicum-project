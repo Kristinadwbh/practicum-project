{
 "cells": [
  {
   "cell_type": "markdown",
   "metadata": {},
   "source": [
    "# Выбор локации для скважины"
   ]
  },
  {
   "cell_type": "markdown",
   "metadata": {},
   "source": [
    "## Загрузка и подготовка данных"
   ]
  },
  {
   "cell_type": "markdown",
   "metadata": {},
   "source": [
    "<div>\n",
    "    <font color='green'>Импорт библиотек</font>\n",
    "</div>"
   ]
  },
  {
   "cell_type": "code",
   "execution_count": 1,
   "metadata": {},
   "outputs": [],
   "source": [
    "import pandas as pd\n",
    "import numpy as np\n",
    "from sklearn.linear_model import LinearRegression\n",
    "from sklearn.model_selection import train_test_split\n",
    "from scipy import stats as st\n",
    "from sklearn.metrics import mean_squared_error"
   ]
  },
  {
   "cell_type": "code",
   "execution_count": 2,
   "metadata": {},
   "outputs": [],
   "source": [
    "BUDGET = 10e9\n",
    "NUMBER_POINTS = 200\n",
    "MAX_POINTS = 500\n",
    "INCOME_UNIT = 45e4"
   ]
  },
  {
   "cell_type": "markdown",
   "metadata": {},
   "source": [
    "<div>\n",
    "    <font color='green'>Загрузка датасетов. Вывод первых пяти строк. Информация.</font>\n",
    "</div>"
   ]
  },
  {
   "cell_type": "code",
   "execution_count": 3,
   "metadata": {},
   "outputs": [],
   "source": [
    "geo_data_0 = pd.read_csv('/datasets/geo_data_0.csv')\n",
    "geo_data_1 = pd.read_csv('/datasets/geo_data_1.csv')\n",
    "geo_data_2 = pd.read_csv('/datasets/geo_data_2.csv')"
   ]
  },
  {
   "cell_type": "code",
   "execution_count": 4,
   "metadata": {},
   "outputs": [
    {
     "data": {
      "text/html": [
       "<div>\n",
       "<style scoped>\n",
       "    .dataframe tbody tr th:only-of-type {\n",
       "        vertical-align: middle;\n",
       "    }\n",
       "\n",
       "    .dataframe tbody tr th {\n",
       "        vertical-align: top;\n",
       "    }\n",
       "\n",
       "    .dataframe thead th {\n",
       "        text-align: right;\n",
       "    }\n",
       "</style>\n",
       "<table border=\"1\" class=\"dataframe\">\n",
       "  <thead>\n",
       "    <tr style=\"text-align: right;\">\n",
       "      <th></th>\n",
       "      <th>id</th>\n",
       "      <th>f0</th>\n",
       "      <th>f1</th>\n",
       "      <th>f2</th>\n",
       "      <th>product</th>\n",
       "    </tr>\n",
       "  </thead>\n",
       "  <tbody>\n",
       "    <tr>\n",
       "      <th>0</th>\n",
       "      <td>txEyH</td>\n",
       "      <td>0.705745</td>\n",
       "      <td>-0.497823</td>\n",
       "      <td>1.221170</td>\n",
       "      <td>105.280062</td>\n",
       "    </tr>\n",
       "    <tr>\n",
       "      <th>1</th>\n",
       "      <td>2acmU</td>\n",
       "      <td>1.334711</td>\n",
       "      <td>-0.340164</td>\n",
       "      <td>4.365080</td>\n",
       "      <td>73.037750</td>\n",
       "    </tr>\n",
       "    <tr>\n",
       "      <th>2</th>\n",
       "      <td>409Wp</td>\n",
       "      <td>1.022732</td>\n",
       "      <td>0.151990</td>\n",
       "      <td>1.419926</td>\n",
       "      <td>85.265647</td>\n",
       "    </tr>\n",
       "    <tr>\n",
       "      <th>3</th>\n",
       "      <td>iJLyR</td>\n",
       "      <td>-0.032172</td>\n",
       "      <td>0.139033</td>\n",
       "      <td>2.978566</td>\n",
       "      <td>168.620776</td>\n",
       "    </tr>\n",
       "    <tr>\n",
       "      <th>4</th>\n",
       "      <td>Xdl7t</td>\n",
       "      <td>1.988431</td>\n",
       "      <td>0.155413</td>\n",
       "      <td>4.751769</td>\n",
       "      <td>154.036647</td>\n",
       "    </tr>\n",
       "  </tbody>\n",
       "</table>\n",
       "</div>"
      ],
      "text/plain": [
       "      id        f0        f1        f2     product\n",
       "0  txEyH  0.705745 -0.497823  1.221170  105.280062\n",
       "1  2acmU  1.334711 -0.340164  4.365080   73.037750\n",
       "2  409Wp  1.022732  0.151990  1.419926   85.265647\n",
       "3  iJLyR -0.032172  0.139033  2.978566  168.620776\n",
       "4  Xdl7t  1.988431  0.155413  4.751769  154.036647"
      ]
     },
     "metadata": {},
     "output_type": "display_data"
    },
    {
     "data": {
      "text/html": [
       "<div>\n",
       "<style scoped>\n",
       "    .dataframe tbody tr th:only-of-type {\n",
       "        vertical-align: middle;\n",
       "    }\n",
       "\n",
       "    .dataframe tbody tr th {\n",
       "        vertical-align: top;\n",
       "    }\n",
       "\n",
       "    .dataframe thead th {\n",
       "        text-align: right;\n",
       "    }\n",
       "</style>\n",
       "<table border=\"1\" class=\"dataframe\">\n",
       "  <thead>\n",
       "    <tr style=\"text-align: right;\">\n",
       "      <th></th>\n",
       "      <th>id</th>\n",
       "      <th>f0</th>\n",
       "      <th>f1</th>\n",
       "      <th>f2</th>\n",
       "      <th>product</th>\n",
       "    </tr>\n",
       "  </thead>\n",
       "  <tbody>\n",
       "    <tr>\n",
       "      <th>0</th>\n",
       "      <td>kBEdx</td>\n",
       "      <td>-15.001348</td>\n",
       "      <td>-8.276000</td>\n",
       "      <td>-0.005876</td>\n",
       "      <td>3.179103</td>\n",
       "    </tr>\n",
       "    <tr>\n",
       "      <th>1</th>\n",
       "      <td>62mP7</td>\n",
       "      <td>14.272088</td>\n",
       "      <td>-3.475083</td>\n",
       "      <td>0.999183</td>\n",
       "      <td>26.953261</td>\n",
       "    </tr>\n",
       "    <tr>\n",
       "      <th>2</th>\n",
       "      <td>vyE1P</td>\n",
       "      <td>6.263187</td>\n",
       "      <td>-5.948386</td>\n",
       "      <td>5.001160</td>\n",
       "      <td>134.766305</td>\n",
       "    </tr>\n",
       "    <tr>\n",
       "      <th>3</th>\n",
       "      <td>KcrkZ</td>\n",
       "      <td>-13.081196</td>\n",
       "      <td>-11.506057</td>\n",
       "      <td>4.999415</td>\n",
       "      <td>137.945408</td>\n",
       "    </tr>\n",
       "    <tr>\n",
       "      <th>4</th>\n",
       "      <td>AHL4O</td>\n",
       "      <td>12.702195</td>\n",
       "      <td>-8.147433</td>\n",
       "      <td>5.004363</td>\n",
       "      <td>134.766305</td>\n",
       "    </tr>\n",
       "  </tbody>\n",
       "</table>\n",
       "</div>"
      ],
      "text/plain": [
       "      id         f0         f1        f2     product\n",
       "0  kBEdx -15.001348  -8.276000 -0.005876    3.179103\n",
       "1  62mP7  14.272088  -3.475083  0.999183   26.953261\n",
       "2  vyE1P   6.263187  -5.948386  5.001160  134.766305\n",
       "3  KcrkZ -13.081196 -11.506057  4.999415  137.945408\n",
       "4  AHL4O  12.702195  -8.147433  5.004363  134.766305"
      ]
     },
     "metadata": {},
     "output_type": "display_data"
    },
    {
     "data": {
      "text/html": [
       "<div>\n",
       "<style scoped>\n",
       "    .dataframe tbody tr th:only-of-type {\n",
       "        vertical-align: middle;\n",
       "    }\n",
       "\n",
       "    .dataframe tbody tr th {\n",
       "        vertical-align: top;\n",
       "    }\n",
       "\n",
       "    .dataframe thead th {\n",
       "        text-align: right;\n",
       "    }\n",
       "</style>\n",
       "<table border=\"1\" class=\"dataframe\">\n",
       "  <thead>\n",
       "    <tr style=\"text-align: right;\">\n",
       "      <th></th>\n",
       "      <th>id</th>\n",
       "      <th>f0</th>\n",
       "      <th>f1</th>\n",
       "      <th>f2</th>\n",
       "      <th>product</th>\n",
       "    </tr>\n",
       "  </thead>\n",
       "  <tbody>\n",
       "    <tr>\n",
       "      <th>0</th>\n",
       "      <td>fwXo0</td>\n",
       "      <td>-1.146987</td>\n",
       "      <td>0.963328</td>\n",
       "      <td>-0.828965</td>\n",
       "      <td>27.758673</td>\n",
       "    </tr>\n",
       "    <tr>\n",
       "      <th>1</th>\n",
       "      <td>WJtFt</td>\n",
       "      <td>0.262778</td>\n",
       "      <td>0.269839</td>\n",
       "      <td>-2.530187</td>\n",
       "      <td>56.069697</td>\n",
       "    </tr>\n",
       "    <tr>\n",
       "      <th>2</th>\n",
       "      <td>ovLUW</td>\n",
       "      <td>0.194587</td>\n",
       "      <td>0.289035</td>\n",
       "      <td>-5.586433</td>\n",
       "      <td>62.871910</td>\n",
       "    </tr>\n",
       "    <tr>\n",
       "      <th>3</th>\n",
       "      <td>q6cA6</td>\n",
       "      <td>2.236060</td>\n",
       "      <td>-0.553760</td>\n",
       "      <td>0.930038</td>\n",
       "      <td>114.572842</td>\n",
       "    </tr>\n",
       "    <tr>\n",
       "      <th>4</th>\n",
       "      <td>WPMUX</td>\n",
       "      <td>-0.515993</td>\n",
       "      <td>1.716266</td>\n",
       "      <td>5.899011</td>\n",
       "      <td>149.600746</td>\n",
       "    </tr>\n",
       "  </tbody>\n",
       "</table>\n",
       "</div>"
      ],
      "text/plain": [
       "      id        f0        f1        f2     product\n",
       "0  fwXo0 -1.146987  0.963328 -0.828965   27.758673\n",
       "1  WJtFt  0.262778  0.269839 -2.530187   56.069697\n",
       "2  ovLUW  0.194587  0.289035 -5.586433   62.871910\n",
       "3  q6cA6  2.236060 -0.553760  0.930038  114.572842\n",
       "4  WPMUX -0.515993  1.716266  5.899011  149.600746"
      ]
     },
     "execution_count": 4,
     "metadata": {},
     "output_type": "execute_result"
    }
   ],
   "source": [
    "display(geo_data_0.head())\n",
    "display(geo_data_1.head())\n",
    "geo_data_2.head()"
   ]
  },
  {
   "cell_type": "code",
   "execution_count": 5,
   "metadata": {},
   "outputs": [
    {
     "name": "stdout",
     "output_type": "stream",
     "text": [
      "<class 'pandas.core.frame.DataFrame'>\n",
      "RangeIndex: 100000 entries, 0 to 99999\n",
      "Data columns (total 5 columns):\n",
      " #   Column   Non-Null Count   Dtype  \n",
      "---  ------   --------------   -----  \n",
      " 0   id       100000 non-null  object \n",
      " 1   f0       100000 non-null  float64\n",
      " 2   f1       100000 non-null  float64\n",
      " 3   f2       100000 non-null  float64\n",
      " 4   product  100000 non-null  float64\n",
      "dtypes: float64(4), object(1)\n",
      "memory usage: 3.8+ MB\n",
      "\n",
      "<class 'pandas.core.frame.DataFrame'>\n",
      "RangeIndex: 100000 entries, 0 to 99999\n",
      "Data columns (total 5 columns):\n",
      " #   Column   Non-Null Count   Dtype  \n",
      "---  ------   --------------   -----  \n",
      " 0   id       100000 non-null  object \n",
      " 1   f0       100000 non-null  float64\n",
      " 2   f1       100000 non-null  float64\n",
      " 3   f2       100000 non-null  float64\n",
      " 4   product  100000 non-null  float64\n",
      "dtypes: float64(4), object(1)\n",
      "memory usage: 3.8+ MB\n",
      "\n",
      "<class 'pandas.core.frame.DataFrame'>\n",
      "RangeIndex: 100000 entries, 0 to 99999\n",
      "Data columns (total 5 columns):\n",
      " #   Column   Non-Null Count   Dtype  \n",
      "---  ------   --------------   -----  \n",
      " 0   id       100000 non-null  object \n",
      " 1   f0       100000 non-null  float64\n",
      " 2   f1       100000 non-null  float64\n",
      " 3   f2       100000 non-null  float64\n",
      " 4   product  100000 non-null  float64\n",
      "dtypes: float64(4), object(1)\n",
      "memory usage: 3.8+ MB\n"
     ]
    }
   ],
   "source": [
    "geo_data_0.info()\n",
    "print()\n",
    "geo_data_1.info()\n",
    "print()\n",
    "geo_data_2.info()"
   ]
  },
  {
   "cell_type": "markdown",
   "metadata": {},
   "source": [
    "<div>\n",
    "    <font color='green'>Удаление столбца id</font>\n",
    "</div>"
   ]
  },
  {
   "cell_type": "code",
   "execution_count": 6,
   "metadata": {},
   "outputs": [],
   "source": [
    "geo_data_0.drop('id', axis=1, inplace=True)\n",
    "geo_data_1.drop('id', axis=1, inplace=True)\n",
    "geo_data_2.drop('id', axis=1, inplace=True)"
   ]
  },
  {
   "cell_type": "markdown",
   "metadata": {},
   "source": [
    "## Обучение и проверка модели"
   ]
  },
  {
   "cell_type": "markdown",
   "metadata": {},
   "source": [
    "<div>\n",
    "    <font color='green'>Данные разбиты на обучающие и валлидационные выборки</font>\n",
    "</div>"
   ]
  },
  {
   "cell_type": "code",
   "execution_count": 7,
   "metadata": {},
   "outputs": [],
   "source": [
    "features_0, features_1, features_2 = geo_data_0.drop('product', axis=1), geo_data_1.drop('product', axis=1), \\\n",
    "geo_data_2.drop('product', axis=1)\n",
    "target_0, target_1, target_2 = geo_data_0['product'], geo_data_1['product'], geo_data_2['product']\n",
    "\n",
    "features_0_train, features_0_valid, target_0_train, target_0_valid = train_test_split(\n",
    "    features_0, target_0, test_size=0.25, random_state=12345)\n",
    "features_1_train, features_1_valid, target_1_train, target_1_valid = train_test_split(\n",
    "    features_1, target_1, test_size=0.25, random_state=12345)\n",
    "features_2_train, features_2_valid, target_2_train, target_2_valid = train_test_split(\n",
    "    features_2, target_2, test_size=0.25, random_state=12345)"
   ]
  },
  {
   "cell_type": "code",
   "execution_count": 8,
   "metadata": {},
   "outputs": [],
   "source": [
    "target_0_train.reset_index(drop=True, inplace=True)\n",
    "features_0_train.reset_index(drop=True, inplace=True)\n",
    "target_1_train.reset_index(drop=True, inplace=True)\n",
    "features_1_train.reset_index(drop=True, inplace=True)\n",
    "target_2_train.reset_index(drop=True, inplace=True)\n",
    "features_2_train.reset_index(drop=True, inplace=True)\n",
    "\n",
    "target_0_valid.reset_index(drop=True, inplace=True)\n",
    "features_0_valid.reset_index(drop=True, inplace=True)\n",
    "target_1_valid.reset_index(drop=True, inplace=True)\n",
    "features_1_valid.reset_index(drop=True, inplace=True)\n",
    "target_2_valid.reset_index(drop=True, inplace=True)\n",
    "features_2_valid.reset_index(drop=True, inplace=True)\n"
   ]
  },
  {
   "cell_type": "markdown",
   "metadata": {},
   "source": [
    "<div>\n",
    "    <font color='green'>Обучение моделей, предсказание, средний запас предсказанного сырья для трёх регионов, оценка RMSE</font>\n",
    "</div>"
   ]
  },
  {
   "cell_type": "code",
   "execution_count": 9,
   "metadata": {},
   "outputs": [
    {
     "name": "stdout",
     "output_type": "stream",
     "text": [
      "Средние значения предсказанного объёма сырья: \n",
      " 1 регион 92.59256778438035 \n",
      " 2 регион 68.728546895446 \n",
      " 3 регион 94.96504596800489\n",
      "\n",
      " RMSE: \n",
      " 1 регион 37.5794217150813 \n",
      " 2 регион 0.893099286775617 \n",
      " 3 регион 40.02970873393434\n"
     ]
    }
   ],
   "source": [
    "model_0 = LinearRegression()\n",
    "model_1 = LinearRegression()\n",
    "model_2 = LinearRegression()\n",
    "\n",
    "model_0.fit(features_0_train, target_0_train)\n",
    "model_1.fit(features_1_train, target_1_train)\n",
    "model_2.fit(features_2_train, target_2_train)\n",
    "\n",
    "predictions_0_valid = model_0.predict(features_0_valid)\n",
    "predictions_1_valid = model_1.predict(features_1_valid)\n",
    "predictions_2_valid = model_2.predict(features_2_valid)\n",
    "\n",
    "result_0 = mean_squared_error(target_0_valid, predictions_0_valid)**0.5\n",
    "result_1 = mean_squared_error(target_1_valid, predictions_1_valid)**0.5\n",
    "result_2 = mean_squared_error(target_2_valid, predictions_2_valid)**0.5\n",
    "\n",
    "print('Средние значения предсказанного объёма сырья:', '\\n', '1 регион', predictions_0_valid.mean(), '\\n',\\\n",
    "      '2 регион', predictions_1_valid.mean(), '\\n', '3 регион', predictions_2_valid.mean())\n",
    "\n",
    "print('\\n', 'RMSE:', '\\n', '1 регион', result_0, '\\n', '2 регион', result_1, '\\n', '3 регион', result_2)\n",
    "\n"
   ]
  },
  {
   "cell_type": "code",
   "execution_count": 10,
   "metadata": {},
   "outputs": [],
   "source": [
    "predictions_0_valid = pd.Series(predictions_0_valid)\n",
    "predictions_1_valid = pd.Series(predictions_1_valid)\n",
    "predictions_2_valid = pd.Series(predictions_2_valid)"
   ]
  },
  {
   "cell_type": "markdown",
   "metadata": {},
   "source": [
    "Для второго региона минимальный размер ошибки. Скорее всего это говорит о большой точности предсказания модели для второго региона. Среднее значение предсказанного объёма сырья наименьшее у второго региона и, как было уже сказано, наиболее точное."
   ]
  },
  {
   "cell_type": "markdown",
   "metadata": {},
   "source": [
    "## Подготовка к расчёту прибыли"
   ]
  },
  {
   "cell_type": "markdown",
   "metadata": {},
   "source": [
    "<div>\n",
    "    <font color='green'>Сохранение в переменные бюджета на регион, колличества точек для разведки и для разработки, дохода с каждой еденицы</font>\n",
    "</div>"
   ]
  },
  {
   "cell_type": "markdown",
   "metadata": {},
   "source": [
    "<div>\n",
    "    <font color='green'>Достаточный объём сырья для безубыточной разработки новой скважины</font>\n",
    "</div>"
   ]
  },
  {
   "cell_type": "code",
   "execution_count": 11,
   "metadata": {},
   "outputs": [
    {
     "name": "stdout",
     "output_type": "stream",
     "text": [
      "Достаточный объём сырья: 111.11111111111111\n"
     ]
    }
   ],
   "source": [
    "sufficient_volume = BUDGET/NUMBER_POINTS/INCOME_UNIT\n",
    "print('Достаточный объём сырья:', sufficient_volume)"
   ]
  },
  {
   "cell_type": "markdown",
   "metadata": {},
   "source": [
    "Средние значения объёма сырья по регионам меньше достаточного. Но так как в разработку будут браться гораздо меньшее число точек, то необходимо выяснить какие именно точки принесут доход."
   ]
  },
  {
   "cell_type": "markdown",
   "metadata": {},
   "source": [
    "## Расчёт прибыли и рисков "
   ]
  },
  {
   "cell_type": "markdown",
   "metadata": {},
   "source": [
    "<div>\n",
    "    <font color='green'>Функция по рассчёту прибыли</font>\n",
    "</div>"
   ]
  },
  {
   "cell_type": "code",
   "execution_count": 12,
   "metadata": {},
   "outputs": [],
   "source": [
    "def income(target, predict):\n",
    "    predict_sorted = predict.sort_values(ascending=False)\n",
    "    target_sorted = target[predict_sorted.index][:200]\n",
    "    product = target_sorted.sum()\n",
    "    return product * INCOME_UNIT - BUDGET "
   ]
  },
  {
   "cell_type": "markdown",
   "metadata": {},
   "source": [
    "<div>\n",
    "    <font color='green'>Распределения предсказанных прибылей для каждого региона по технике Bootstrap. Среднее предсказанных прибылей. Диапазон с 95% вероятностью.</font>\n",
    "</div>"
   ]
  },
  {
   "cell_type": "code",
   "execution_count": 14,
   "metadata": {},
   "outputs": [
    {
     "name": "stdout",
     "output_type": "stream",
     "text": [
      "Средние значения прибылей: \n",
      " 1 регион 414736268.6144614 \n",
      " 2 регион 513172169.34401035 \n",
      " 3 регион 410198401.27401793\n",
      "\n",
      " 95%-ый доверительный интервал:\n",
      "1 регион -123528116.44936879 968562865.4960701\n",
      "2 регион 85329746.22608566 940106288.2984511\n",
      "3 регион -140423727.25207347 967716156.982044\n"
     ]
    }
   ],
   "source": [
    "state = np.random.RandomState(12345)\n",
    "values_0, values_1, values_2 = [], [], []\n",
    "for i in range(1000):\n",
    "    ''' нам надо выбрать 500 случайных значений из таргета'''\n",
    "    target_500_0 = target_0_valid.sample(MAX_POINTS, replace=True, random_state=state)\n",
    "    ''' берем соответствующие им по индексам предсказания'''\n",
    "    predict_500_0 = predictions_0_valid[target_500_0.index]\n",
    "    values_0.append(income(target_500_0, predict_500_0)) \n",
    "    ''' получили 1000 вариантов (значений) прибыли'''\n",
    "    target_500_1 = target_1_valid.sample(MAX_POINTS, replace=True, random_state=state)\n",
    "    predict_500_1 = predictions_1_valid[target_500_1.index]\n",
    "    values_1.append(income(target_500_1, predict_500_1))\n",
    "    target_500_2 = target_2_valid.sample(MAX_POINTS, replace=True, random_state=state)\n",
    "    predict_500_2 = predictions_2_valid[target_500_2.index]\n",
    "    values_2.append(income(target_500_2, predict_500_2))\n",
    "values_0 = pd.Series(values_0)\n",
    "values_1 = pd.Series(values_1)\n",
    "values_2 = pd.Series(values_2)\n",
    "print('Средние значения прибылей:', '\\n', '1 регион', values_0.mean(),\\\n",
    "      '\\n', '2 регион', values_1.mean(), '\\n',\\\n",
    "      '3 регион', values_2.mean())\n",
    "print('\\n', '95%-ый доверительный интервал:')\n",
    "print('1 регион', values_0.quantile(0.025), values_0.quantile(0.975))\n",
    "print('2 регион', values_1.quantile(0.025), values_1.quantile(0.975))\n",
    "print('3 регион', values_2.quantile(0.025), values_2.quantile(0.975))"
   ]
  },
  {
   "cell_type": "code",
   "execution_count": 15,
   "metadata": {},
   "outputs": [
    {
     "name": "stdout",
     "output_type": "stream",
     "text": [
      "Риск убытков для первого региона = 7.00% \n",
      "Риск убытков для второго региона = 0.90% \n",
      "Риск убытков для третьего региона = 8.50% \n"
     ]
    }
   ],
   "source": [
    "print('Риск убытков для первого региона = {:.2%} '.format((values_0<0).mean()))\n",
    "print('Риск убытков для второго региона = {:.2%} '.format((values_1<0).mean()))\n",
    "print('Риск убытков для третьего региона = {:.2%} '.format((values_2<0).mean()))"
   ]
  },
  {
   "cell_type": "markdown",
   "metadata": {},
   "source": [
    "Вывод:\\\n",
    "\\\n",
    "Для предсказания рассматривалиь три региона. Средние значения объёма сырья по всем скважинам для каждого региона ниже допустимого значения для безубыточной разработки, равного 111.11111111111111 тыс. баррелям.\\\n",
    "\\\n",
    "Модели предсказали 200 наиболее оптимальных точек для каждого региона. Риск убытков оказался меньше 2.5% только для второго региона. Среднее значение прибыли для этого региона вышло равным 513 172 169. При этом самые точные результаты модель линейной регрессии также показала для второго региона с rmse=0.893099286775617.\n",
    "\n"
   ]
  }
 ],
 "metadata": {
  "ExecuteTimeLog": [
   {
    "duration": 2252,
    "start_time": "2023-03-23T19:07:16.954Z"
   },
   {
    "duration": 1795,
    "start_time": "2023-03-23T19:11:35.548Z"
   },
   {
    "duration": 23,
    "start_time": "2023-03-23T19:12:56.857Z"
   },
   {
    "duration": 13,
    "start_time": "2023-03-23T19:13:08.643Z"
   },
   {
    "duration": 11,
    "start_time": "2023-03-23T19:27:49.544Z"
   },
   {
    "duration": 30,
    "start_time": "2023-03-23T19:28:16.842Z"
   },
   {
    "duration": 16,
    "start_time": "2023-03-23T19:43:54.634Z"
   },
   {
    "duration": 44,
    "start_time": "2023-03-23T19:44:51.579Z"
   },
   {
    "duration": 34,
    "start_time": "2023-03-23T19:45:08.073Z"
   },
   {
    "duration": 19,
    "start_time": "2023-03-23T20:10:49.938Z"
   },
   {
    "duration": 77,
    "start_time": "2023-03-23T20:13:07.596Z"
   },
   {
    "duration": 5,
    "start_time": "2023-03-23T20:15:08.992Z"
   },
   {
    "duration": 178,
    "start_time": "2023-03-23T20:20:46.150Z"
   },
   {
    "duration": 34,
    "start_time": "2023-03-23T20:24:23.412Z"
   },
   {
    "duration": 6,
    "start_time": "2023-03-23T20:26:15.106Z"
   },
   {
    "duration": 1813,
    "start_time": "2023-03-23T20:26:15.113Z"
   },
   {
    "duration": 26,
    "start_time": "2023-03-23T20:26:16.928Z"
   },
   {
    "duration": 37,
    "start_time": "2023-03-23T20:26:16.956Z"
   },
   {
    "duration": 18,
    "start_time": "2023-03-23T20:26:16.995Z"
   },
   {
    "duration": 68,
    "start_time": "2023-03-23T20:26:17.015Z"
   },
   {
    "duration": 10,
    "start_time": "2023-03-23T20:26:17.085Z"
   },
   {
    "duration": 250,
    "start_time": "2023-03-23T20:26:17.097Z"
   },
   {
    "duration": 53,
    "start_time": "2023-03-23T20:34:11.400Z"
   },
   {
    "duration": 33,
    "start_time": "2023-03-23T20:34:41.626Z"
   },
   {
    "duration": 190,
    "start_time": "2023-03-23T20:37:48.852Z"
   },
   {
    "duration": 4,
    "start_time": "2023-03-23T20:38:26.531Z"
   },
   {
    "duration": 61,
    "start_time": "2023-03-23T20:38:33.392Z"
   },
   {
    "duration": 10,
    "start_time": "2023-03-23T21:17:07.607Z"
   },
   {
    "duration": 3,
    "start_time": "2023-03-23T21:17:18.214Z"
   },
   {
    "duration": 3,
    "start_time": "2023-03-23T21:17:19.849Z"
   },
   {
    "duration": 3,
    "start_time": "2023-03-23T21:17:29.521Z"
   },
   {
    "duration": 4,
    "start_time": "2023-03-23T22:00:37.825Z"
   },
   {
    "duration": 4,
    "start_time": "2023-03-23T22:02:58.375Z"
   },
   {
    "duration": 3,
    "start_time": "2023-03-23T22:05:23.560Z"
   },
   {
    "duration": 3,
    "start_time": "2023-03-23T22:06:40.994Z"
   },
   {
    "duration": 3,
    "start_time": "2023-03-23T22:07:09.910Z"
   },
   {
    "duration": 4,
    "start_time": "2023-03-23T22:10:02.640Z"
   },
   {
    "duration": 17,
    "start_time": "2023-03-23T22:34:19.009Z"
   },
   {
    "duration": 3,
    "start_time": "2023-03-23T22:35:20.985Z"
   },
   {
    "duration": 8,
    "start_time": "2023-03-23T22:35:22.849Z"
   },
   {
    "duration": 7,
    "start_time": "2023-03-23T22:35:44.702Z"
   },
   {
    "duration": 8,
    "start_time": "2023-03-23T22:35:50.498Z"
   },
   {
    "duration": 3,
    "start_time": "2023-03-23T22:38:34.033Z"
   },
   {
    "duration": 7,
    "start_time": "2023-03-23T22:38:35.673Z"
   },
   {
    "duration": 10,
    "start_time": "2023-03-23T22:47:58.673Z"
   },
   {
    "duration": 12,
    "start_time": "2023-03-23T22:48:49.575Z"
   },
   {
    "duration": 2,
    "start_time": "2023-03-23T22:48:57.329Z"
   },
   {
    "duration": 12,
    "start_time": "2023-03-23T22:49:05.332Z"
   },
   {
    "duration": 193,
    "start_time": "2023-03-23T22:49:20.406Z"
   },
   {
    "duration": 4,
    "start_time": "2023-03-23T22:53:06.382Z"
   },
   {
    "duration": 204,
    "start_time": "2023-03-23T22:59:50.639Z"
   },
   {
    "duration": 243,
    "start_time": "2023-03-23T23:00:38.716Z"
   },
   {
    "duration": 200,
    "start_time": "2023-03-23T23:02:47.916Z"
   },
   {
    "duration": 5,
    "start_time": "2023-03-23T23:07:07.347Z"
   },
   {
    "duration": 20,
    "start_time": "2023-03-23T23:18:20.350Z"
   },
   {
    "duration": 24,
    "start_time": "2023-03-23T23:23:17.125Z"
   },
   {
    "duration": 15,
    "start_time": "2023-03-23T23:25:47.637Z"
   },
   {
    "duration": 13,
    "start_time": "2023-03-23T23:34:51.958Z"
   },
   {
    "duration": 18,
    "start_time": "2023-03-23T23:36:16.541Z"
   },
   {
    "duration": 12,
    "start_time": "2023-03-23T23:37:04.977Z"
   },
   {
    "duration": 24,
    "start_time": "2023-03-23T23:37:22.662Z"
   },
   {
    "duration": 5,
    "start_time": "2023-03-23T23:37:52.372Z"
   },
   {
    "duration": 5,
    "start_time": "2023-03-23T23:38:39.241Z"
   },
   {
    "duration": 3,
    "start_time": "2023-03-23T23:49:28.414Z"
   },
   {
    "duration": 424,
    "start_time": "2023-03-23T23:49:28.425Z"
   },
   {
    "duration": 28,
    "start_time": "2023-03-23T23:49:28.851Z"
   },
   {
    "duration": 68,
    "start_time": "2023-03-23T23:49:28.881Z"
   },
   {
    "duration": 15,
    "start_time": "2023-03-23T23:49:28.952Z"
   },
   {
    "duration": 34,
    "start_time": "2023-03-23T23:49:28.969Z"
   },
   {
    "duration": 10,
    "start_time": "2023-03-23T23:49:29.005Z"
   },
   {
    "duration": 107,
    "start_time": "2023-03-23T23:49:29.042Z"
   },
   {
    "duration": 90,
    "start_time": "2023-03-23T23:49:29.151Z"
   },
   {
    "duration": 5,
    "start_time": "2023-03-23T23:49:29.243Z"
   },
   {
    "duration": 9,
    "start_time": "2023-03-23T23:49:29.250Z"
   },
   {
    "duration": 9,
    "start_time": "2023-03-23T23:49:29.261Z"
   },
   {
    "duration": 11,
    "start_time": "2023-03-23T23:49:42.986Z"
   },
   {
    "duration": 8,
    "start_time": "2023-03-23T23:49:56.322Z"
   },
   {
    "duration": 16,
    "start_time": "2023-03-23T23:49:58.654Z"
   },
   {
    "duration": 7,
    "start_time": "2023-03-23T23:50:59.267Z"
   },
   {
    "duration": 1662,
    "start_time": "2023-03-23T23:53:11.742Z"
   },
   {
    "duration": 3,
    "start_time": "2023-03-23T23:54:09.139Z"
   },
   {
    "duration": 1456,
    "start_time": "2023-03-23T23:54:14.335Z"
   },
   {
    "duration": 49,
    "start_time": "2023-03-24T02:45:03.284Z"
   },
   {
    "duration": 1375,
    "start_time": "2023-03-24T02:45:09.029Z"
   },
   {
    "duration": 902,
    "start_time": "2023-03-24T02:45:10.406Z"
   },
   {
    "duration": 30,
    "start_time": "2023-03-24T02:45:11.310Z"
   },
   {
    "duration": 61,
    "start_time": "2023-03-24T02:45:11.343Z"
   },
   {
    "duration": 17,
    "start_time": "2023-03-24T02:45:11.407Z"
   },
   {
    "duration": 76,
    "start_time": "2023-03-24T02:45:11.426Z"
   },
   {
    "duration": 11,
    "start_time": "2023-03-24T02:45:11.504Z"
   },
   {
    "duration": 169,
    "start_time": "2023-03-24T02:45:11.517Z"
   },
   {
    "duration": 59,
    "start_time": "2023-03-24T02:45:11.688Z"
   },
   {
    "duration": 55,
    "start_time": "2023-03-24T02:45:11.751Z"
   },
   {
    "duration": 9,
    "start_time": "2023-03-24T02:45:11.809Z"
   },
   {
    "duration": 104,
    "start_time": "2023-03-24T02:45:11.819Z"
   },
   {
    "duration": 0,
    "start_time": "2023-03-24T02:45:11.925Z"
   },
   {
    "duration": 3,
    "start_time": "2023-03-24T02:45:25.489Z"
   },
   {
    "duration": 14,
    "start_time": "2023-03-24T02:45:27.267Z"
   },
   {
    "duration": 8,
    "start_time": "2023-03-24T02:45:31.569Z"
   },
   {
    "duration": 1644,
    "start_time": "2023-03-24T02:45:38.470Z"
   },
   {
    "duration": 16,
    "start_time": "2023-03-24T02:46:14.300Z"
   },
   {
    "duration": 17,
    "start_time": "2023-03-24T02:48:10.207Z"
   },
   {
    "duration": 3,
    "start_time": "2023-03-24T02:48:35.184Z"
   },
   {
    "duration": 15,
    "start_time": "2023-03-24T02:49:04.254Z"
   },
   {
    "duration": 14,
    "start_time": "2023-03-24T02:49:30.781Z"
   },
   {
    "duration": 17,
    "start_time": "2023-03-24T02:51:10.615Z"
   },
   {
    "duration": 33,
    "start_time": "2023-03-24T02:51:24.875Z"
   },
   {
    "duration": 32,
    "start_time": "2023-03-24T02:51:43.837Z"
   },
   {
    "duration": 11,
    "start_time": "2023-03-24T02:54:37.503Z"
   },
   {
    "duration": 11,
    "start_time": "2023-03-24T02:54:59.719Z"
   },
   {
    "duration": 13,
    "start_time": "2023-03-24T02:55:01.176Z"
   },
   {
    "duration": 26,
    "start_time": "2023-03-24T02:55:02.257Z"
   },
   {
    "duration": 32,
    "start_time": "2023-03-24T02:55:03.161Z"
   },
   {
    "duration": 9,
    "start_time": "2023-03-24T02:55:03.992Z"
   },
   {
    "duration": 9,
    "start_time": "2023-03-24T02:55:04.818Z"
   },
   {
    "duration": 12,
    "start_time": "2023-03-24T02:55:05.599Z"
   },
   {
    "duration": 10,
    "start_time": "2023-03-24T02:55:06.327Z"
   },
   {
    "duration": 23,
    "start_time": "2023-03-24T02:55:07.068Z"
   },
   {
    "duration": 29,
    "start_time": "2023-03-24T02:55:08.140Z"
   },
   {
    "duration": 10,
    "start_time": "2023-03-24T02:55:09.120Z"
   },
   {
    "duration": 10,
    "start_time": "2023-03-24T02:55:10.004Z"
   },
   {
    "duration": 40,
    "start_time": "2023-03-24T02:55:10.845Z"
   },
   {
    "duration": 9,
    "start_time": "2023-03-24T02:55:11.814Z"
   },
   {
    "duration": 709,
    "start_time": "2023-03-24T02:55:32.927Z"
   },
   {
    "duration": 202,
    "start_time": "2023-03-24T03:01:53.086Z"
   },
   {
    "duration": 100,
    "start_time": "2023-03-24T03:03:51.345Z"
   },
   {
    "duration": 57,
    "start_time": "2023-03-24T03:04:59.796Z"
   },
   {
    "duration": 6,
    "start_time": "2023-03-24T03:06:53.891Z"
   },
   {
    "duration": 1855,
    "start_time": "2023-03-24T03:12:48.369Z"
   },
   {
    "duration": 20,
    "start_time": "2023-03-24T03:15:36.367Z"
   },
   {
    "duration": 26,
    "start_time": "2023-03-24T03:17:11.627Z"
   },
   {
    "duration": 38,
    "start_time": "2023-03-24T03:18:10.537Z"
   },
   {
    "duration": 50,
    "start_time": "2023-03-24T03:18:39.727Z"
   },
   {
    "duration": 21,
    "start_time": "2023-03-24T03:21:08.680Z"
   },
   {
    "duration": 46,
    "start_time": "2023-03-24T03:21:24.328Z"
   },
   {
    "duration": 36,
    "start_time": "2023-03-24T03:23:18.142Z"
   },
   {
    "duration": 18,
    "start_time": "2023-03-24T03:49:47.100Z"
   },
   {
    "duration": 1902,
    "start_time": "2023-03-24T03:51:20.669Z"
   },
   {
    "duration": 2138,
    "start_time": "2023-03-24T03:54:56.537Z"
   },
   {
    "duration": 1969,
    "start_time": "2023-03-24T03:55:29.102Z"
   },
   {
    "duration": 2162,
    "start_time": "2023-03-24T04:10:34.615Z"
   },
   {
    "duration": 1982,
    "start_time": "2023-03-24T04:11:02.225Z"
   },
   {
    "duration": 98,
    "start_time": "2023-03-24T04:40:59.171Z"
   },
   {
    "duration": 54,
    "start_time": "2023-03-24T04:41:11.596Z"
   },
   {
    "duration": 33,
    "start_time": "2023-03-24T04:41:23.465Z"
   },
   {
    "duration": 104,
    "start_time": "2023-03-24T04:42:35.340Z"
   },
   {
    "duration": 88,
    "start_time": "2023-03-24T04:44:21.809Z"
   },
   {
    "duration": 110,
    "start_time": "2023-03-24T04:44:30.032Z"
   },
   {
    "duration": 5,
    "start_time": "2023-03-24T04:52:06.270Z"
   },
   {
    "duration": 14,
    "start_time": "2023-03-24T05:03:03.708Z"
   },
   {
    "duration": 3,
    "start_time": "2023-03-24T05:03:21.738Z"
   },
   {
    "duration": 509,
    "start_time": "2023-03-24T05:03:21.766Z"
   },
   {
    "duration": 25,
    "start_time": "2023-03-24T05:03:22.277Z"
   },
   {
    "duration": 72,
    "start_time": "2023-03-24T05:03:22.303Z"
   },
   {
    "duration": 14,
    "start_time": "2023-03-24T05:03:22.378Z"
   },
   {
    "duration": 39,
    "start_time": "2023-03-24T05:03:22.394Z"
   },
   {
    "duration": 129,
    "start_time": "2023-03-24T05:03:22.435Z"
   },
   {
    "duration": 4,
    "start_time": "2023-03-24T05:03:22.568Z"
   },
   {
    "duration": 98,
    "start_time": "2023-03-24T05:03:22.575Z"
   },
   {
    "duration": 14,
    "start_time": "2023-03-24T05:03:22.674Z"
   },
   {
    "duration": 9,
    "start_time": "2023-03-24T05:03:22.690Z"
   },
   {
    "duration": 1813,
    "start_time": "2023-03-24T05:03:26.228Z"
   },
   {
    "duration": 2010,
    "start_time": "2023-03-24T05:06:42.321Z"
   },
   {
    "duration": 1758,
    "start_time": "2023-03-24T05:06:59.060Z"
   },
   {
    "duration": 1778,
    "start_time": "2023-03-24T05:07:13.966Z"
   },
   {
    "duration": 1236,
    "start_time": "2023-03-24T05:21:44.022Z"
   },
   {
    "duration": 441,
    "start_time": "2023-03-24T05:21:45.265Z"
   },
   {
    "duration": 52,
    "start_time": "2023-03-24T05:21:45.708Z"
   },
   {
    "duration": 57,
    "start_time": "2023-03-24T05:21:45.763Z"
   },
   {
    "duration": 47,
    "start_time": "2023-03-24T05:21:45.822Z"
   },
   {
    "duration": 78,
    "start_time": "2023-03-24T05:21:45.871Z"
   },
   {
    "duration": 123,
    "start_time": "2023-03-24T05:21:45.951Z"
   },
   {
    "duration": 63,
    "start_time": "2023-03-24T05:21:46.089Z"
   },
   {
    "duration": 47,
    "start_time": "2023-03-24T05:21:46.159Z"
   },
   {
    "duration": 68,
    "start_time": "2023-03-24T05:21:46.210Z"
   },
   {
    "duration": 23,
    "start_time": "2023-03-24T05:21:46.281Z"
   },
   {
    "duration": 1910,
    "start_time": "2023-03-24T05:21:46.307Z"
   },
   {
    "duration": 1710,
    "start_time": "2023-03-25T03:30:47.656Z"
   },
   {
    "duration": 655,
    "start_time": "2023-03-25T03:30:49.368Z"
   },
   {
    "duration": 31,
    "start_time": "2023-03-25T03:30:50.025Z"
   },
   {
    "duration": 36,
    "start_time": "2023-03-25T03:30:50.058Z"
   },
   {
    "duration": 16,
    "start_time": "2023-03-25T03:30:50.095Z"
   },
   {
    "duration": 67,
    "start_time": "2023-03-25T03:30:50.112Z"
   },
   {
    "duration": 68,
    "start_time": "2023-03-25T03:30:50.181Z"
   },
   {
    "duration": 93,
    "start_time": "2023-03-25T03:30:50.250Z"
   },
   {
    "duration": 100,
    "start_time": "2023-03-25T03:30:50.345Z"
   },
   {
    "duration": 3,
    "start_time": "2023-03-25T03:30:50.448Z"
   },
   {
    "duration": 5,
    "start_time": "2023-03-25T03:30:50.453Z"
   },
   {
    "duration": 1537,
    "start_time": "2023-03-25T03:30:50.460Z"
   },
   {
    "duration": 7,
    "start_time": "2023-03-25T03:31:09.970Z"
   },
   {
    "duration": 11,
    "start_time": "2023-03-25T03:40:36.734Z"
   },
   {
    "duration": 2537,
    "start_time": "2023-03-25T16:00:25.806Z"
   },
   {
    "duration": 596,
    "start_time": "2023-03-25T16:00:28.345Z"
   },
   {
    "duration": 25,
    "start_time": "2023-03-25T16:00:28.943Z"
   },
   {
    "duration": 40,
    "start_time": "2023-03-25T16:00:28.970Z"
   },
   {
    "duration": 11,
    "start_time": "2023-03-25T16:00:29.011Z"
   },
   {
    "duration": 34,
    "start_time": "2023-03-25T16:00:29.023Z"
   },
   {
    "duration": 4,
    "start_time": "2023-03-25T16:00:31.586Z"
   },
   {
    "duration": 4,
    "start_time": "2023-03-25T16:01:40.927Z"
   },
   {
    "duration": 5,
    "start_time": "2023-03-25T16:02:51.202Z"
   },
   {
    "duration": 4,
    "start_time": "2023-03-25T16:03:04.920Z"
   },
   {
    "duration": 6,
    "start_time": "2023-03-25T16:03:57.894Z"
   },
   {
    "duration": 4,
    "start_time": "2023-03-25T16:04:31.973Z"
   },
   {
    "duration": 4,
    "start_time": "2023-03-25T16:06:43.504Z"
   },
   {
    "duration": 29,
    "start_time": "2023-03-25T16:06:57.097Z"
   },
   {
    "duration": 87,
    "start_time": "2023-03-25T16:07:07.096Z"
   },
   {
    "duration": 101,
    "start_time": "2023-03-25T16:07:32.924Z"
   },
   {
    "duration": 4,
    "start_time": "2023-03-25T16:09:07.445Z"
   },
   {
    "duration": 10,
    "start_time": "2023-03-25T16:11:02.346Z"
   },
   {
    "duration": 3,
    "start_time": "2023-03-25T16:11:22.850Z"
   },
   {
    "duration": 2,
    "start_time": "2023-03-25T16:14:17.584Z"
   },
   {
    "duration": 3,
    "start_time": "2023-03-25T16:15:06.448Z"
   },
   {
    "duration": 8,
    "start_time": "2023-03-25T22:17:11.461Z"
   },
   {
    "duration": 1108,
    "start_time": "2023-03-25T22:17:16.980Z"
   },
   {
    "duration": 3,
    "start_time": "2023-03-25T22:17:18.090Z"
   },
   {
    "duration": 786,
    "start_time": "2023-03-25T22:17:18.095Z"
   },
   {
    "duration": 30,
    "start_time": "2023-03-25T22:17:18.883Z"
   },
   {
    "duration": 51,
    "start_time": "2023-03-25T22:17:18.915Z"
   },
   {
    "duration": 14,
    "start_time": "2023-03-25T22:17:18.968Z"
   },
   {
    "duration": 65,
    "start_time": "2023-03-25T22:17:18.984Z"
   },
   {
    "duration": 6,
    "start_time": "2023-03-25T22:17:19.056Z"
   },
   {
    "duration": 82,
    "start_time": "2023-03-25T22:17:19.064Z"
   },
   {
    "duration": 8,
    "start_time": "2023-03-25T22:17:19.151Z"
   },
   {
    "duration": 253,
    "start_time": "2023-03-25T22:17:19.162Z"
   },
   {
    "duration": 5,
    "start_time": "2023-03-25T22:17:21.577Z"
   },
   {
    "duration": 10,
    "start_time": "2023-03-25T22:19:23.464Z"
   },
   {
    "duration": 4323,
    "start_time": "2023-03-25T22:46:11.292Z"
   },
   {
    "duration": 8,
    "start_time": "2023-03-25T22:47:25.936Z"
   },
   {
    "duration": 10,
    "start_time": "2023-03-25T23:00:25.659Z"
   },
   {
    "duration": 4173,
    "start_time": "2023-03-25T23:01:33.282Z"
   },
   {
    "duration": 4078,
    "start_time": "2023-03-25T23:02:07.227Z"
   },
   {
    "duration": 11,
    "start_time": "2023-03-25T23:02:41.408Z"
   },
   {
    "duration": 9,
    "start_time": "2023-03-25T23:02:56.511Z"
   },
   {
    "duration": 4174,
    "start_time": "2023-03-25T23:03:42.238Z"
   },
   {
    "duration": 12,
    "start_time": "2023-03-25T23:10:57.385Z"
   },
   {
    "duration": 5,
    "start_time": "2023-03-25T23:11:13.107Z"
   },
   {
    "duration": 11,
    "start_time": "2023-03-25T23:12:23.683Z"
   },
   {
    "duration": 6,
    "start_time": "2023-03-25T23:16:05.235Z"
   },
   {
    "duration": 8,
    "start_time": "2023-03-25T23:16:40.326Z"
   },
   {
    "duration": 6,
    "start_time": "2023-03-25T23:16:53.579Z"
   },
   {
    "duration": 3,
    "start_time": "2023-03-25T23:36:17.199Z"
   },
   {
    "duration": 4278,
    "start_time": "2023-03-25T23:41:14.966Z"
   },
   {
    "duration": 4188,
    "start_time": "2023-03-25T23:41:36.514Z"
   },
   {
    "duration": 1100,
    "start_time": "2023-03-25T23:56:36.064Z"
   },
   {
    "duration": 3,
    "start_time": "2023-03-25T23:56:37.167Z"
   },
   {
    "duration": 441,
    "start_time": "2023-03-25T23:56:37.171Z"
   },
   {
    "duration": 39,
    "start_time": "2023-03-25T23:56:37.614Z"
   },
   {
    "duration": 37,
    "start_time": "2023-03-25T23:56:37.655Z"
   },
   {
    "duration": 17,
    "start_time": "2023-03-25T23:56:37.694Z"
   },
   {
    "duration": 67,
    "start_time": "2023-03-25T23:56:37.713Z"
   },
   {
    "duration": 5,
    "start_time": "2023-03-25T23:56:37.782Z"
   },
   {
    "duration": 61,
    "start_time": "2023-03-25T23:56:37.789Z"
   },
   {
    "duration": 93,
    "start_time": "2023-03-25T23:56:37.851Z"
   },
   {
    "duration": 97,
    "start_time": "2023-03-25T23:56:37.946Z"
   },
   {
    "duration": 6,
    "start_time": "2023-03-25T23:56:38.045Z"
   },
   {
    "duration": 10,
    "start_time": "2023-03-25T23:56:38.053Z"
   },
   {
    "duration": 4052,
    "start_time": "2023-03-25T23:56:38.066Z"
   },
   {
    "duration": 21,
    "start_time": "2023-03-25T23:56:42.120Z"
   },
   {
    "duration": 6,
    "start_time": "2023-03-25T23:56:42.143Z"
   }
  ],
  "kernelspec": {
   "display_name": "Python 3 (ipykernel)",
   "language": "python",
   "name": "python3"
  },
  "language_info": {
   "codemirror_mode": {
    "name": "ipython",
    "version": 3
   },
   "file_extension": ".py",
   "mimetype": "text/x-python",
   "name": "python",
   "nbconvert_exporter": "python",
   "pygments_lexer": "ipython3",
   "version": "3.11.3"
  },
  "toc": {
   "base_numbering": 1,
   "nav_menu": {},
   "number_sections": true,
   "sideBar": true,
   "skip_h1_title": true,
   "title_cell": "Table of Contents",
   "title_sidebar": "Contents",
   "toc_cell": false,
   "toc_position": {
    "height": "calc(100% - 180px)",
    "left": "10px",
    "top": "150px",
    "width": "165px"
   },
   "toc_section_display": true,
   "toc_window_display": true
  }
 },
 "nbformat": 4,
 "nbformat_minor": 2
}
