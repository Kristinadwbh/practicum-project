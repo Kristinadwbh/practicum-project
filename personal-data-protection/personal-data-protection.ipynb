{
 "cells": [
  {
   "cell_type": "markdown",
   "metadata": {
    "toc": true
   },
   "source": [
    "<h1>Содержание<span class=\"tocSkip\"></span></h1>\n",
    "<div class=\"toc\"><ul class=\"toc-item\"><li><span><a href=\"#Загрузка-данных\" data-toc-modified-id=\"Загрузка-данных-1\"><span class=\"toc-item-num\">1&nbsp;&nbsp;</span>Загрузка данных</a></span></li><li><span><a href=\"#Умножение-матриц\" data-toc-modified-id=\"Умножение-матриц-2\"><span class=\"toc-item-num\">2&nbsp;&nbsp;</span>Умножение матриц</a></span></li><li><span><a href=\"#Алгоритм-преобразования\" data-toc-modified-id=\"Алгоритм-преобразования-3\"><span class=\"toc-item-num\">3&nbsp;&nbsp;</span>Алгоритм преобразования</a></span></li><li><span><a href=\"#Проверка-алгоритма\" data-toc-modified-id=\"Проверка-алгоритма-4\"><span class=\"toc-item-num\">4&nbsp;&nbsp;</span>Проверка алгоритма</a></span><ul class=\"toc-item\"><li><span><a href=\"#До-преобразования.\" data-toc-modified-id=\"До-преобразования.-4.1\"><span class=\"toc-item-num\">4.1&nbsp;&nbsp;</span>До преобразования.</a></span></li><li><span><a href=\"#После-преобразования.\" data-toc-modified-id=\"После-преобразования.-4.2\"><span class=\"toc-item-num\">4.2&nbsp;&nbsp;</span>После преобразования.</a></span>"
   ]
  },
  {
   "cell_type": "markdown",
   "metadata": {},
   "source": [
    "# Защита персональных данных клиентов"
   ]
  },
  {
   "cell_type": "markdown",
   "metadata": {},
   "source": [
    "## Загрузка данных"
   ]
  },
  {
   "cell_type": "code",
   "execution_count": 1,
   "metadata": {},
   "outputs": [],
   "source": [
    "import pandas as pd\n",
    "import numpy as np\n",
    "from sklearn.linear_model import LinearRegression\n",
    "from sklearn.metrics import r2_score"
   ]
  },
  {
   "cell_type": "code",
   "execution_count": 3,
   "metadata": {},
   "outputs": [
    {
     "data": {
      "text/html": [
       "<div>\n",
       "<style scoped>\n",
       "    .dataframe tbody tr th:only-of-type {\n",
       "        vertical-align: middle;\n",
       "    }\n",
       "\n",
       "    .dataframe tbody tr th {\n",
       "        vertical-align: top;\n",
       "    }\n",
       "\n",
       "    .dataframe thead th {\n",
       "        text-align: right;\n",
       "    }\n",
       "</style>\n",
       "<table border=\"1\" class=\"dataframe\">\n",
       "  <thead>\n",
       "    <tr style=\"text-align: right;\">\n",
       "      <th></th>\n",
       "      <th>Пол</th>\n",
       "      <th>Возраст</th>\n",
       "      <th>Зарплата</th>\n",
       "      <th>Члены семьи</th>\n",
       "      <th>Страховые выплаты</th>\n",
       "    </tr>\n",
       "  </thead>\n",
       "  <tbody>\n",
       "    <tr>\n",
       "      <th>0</th>\n",
       "      <td>1</td>\n",
       "      <td>41.0</td>\n",
       "      <td>49600.0</td>\n",
       "      <td>1</td>\n",
       "      <td>0</td>\n",
       "    </tr>\n",
       "    <tr>\n",
       "      <th>1</th>\n",
       "      <td>0</td>\n",
       "      <td>46.0</td>\n",
       "      <td>38000.0</td>\n",
       "      <td>1</td>\n",
       "      <td>1</td>\n",
       "    </tr>\n",
       "    <tr>\n",
       "      <th>2</th>\n",
       "      <td>0</td>\n",
       "      <td>29.0</td>\n",
       "      <td>21000.0</td>\n",
       "      <td>0</td>\n",
       "      <td>0</td>\n",
       "    </tr>\n",
       "    <tr>\n",
       "      <th>3</th>\n",
       "      <td>0</td>\n",
       "      <td>21.0</td>\n",
       "      <td>41700.0</td>\n",
       "      <td>2</td>\n",
       "      <td>0</td>\n",
       "    </tr>\n",
       "    <tr>\n",
       "      <th>4</th>\n",
       "      <td>1</td>\n",
       "      <td>28.0</td>\n",
       "      <td>26100.0</td>\n",
       "      <td>0</td>\n",
       "      <td>0</td>\n",
       "    </tr>\n",
       "  </tbody>\n",
       "</table>\n",
       "</div>"
      ],
      "text/plain": [
       "   Пол  Возраст  Зарплата  Члены семьи  Страховые выплаты\n",
       "0    1     41.0   49600.0            1                  0\n",
       "1    0     46.0   38000.0            1                  1\n",
       "2    0     29.0   21000.0            0                  0\n",
       "3    0     21.0   41700.0            2                  0\n",
       "4    1     28.0   26100.0            0                  0"
      ]
     },
     "execution_count": 3,
     "metadata": {},
     "output_type": "execute_result"
    }
   ],
   "source": [
    "data.head()"
   ]
  },
  {
   "cell_type": "code",
   "execution_count": 4,
   "metadata": {},
   "outputs": [
    {
     "name": "stdout",
     "output_type": "stream",
     "text": [
      "<class 'pandas.core.frame.DataFrame'>\n",
      "RangeIndex: 5000 entries, 0 to 4999\n",
      "Data columns (total 5 columns):\n",
      " #   Column             Non-Null Count  Dtype  \n",
      "---  ------             --------------  -----  \n",
      " 0   Пол                5000 non-null   int64  \n",
      " 1   Возраст            5000 non-null   float64\n",
      " 2   Зарплата           5000 non-null   float64\n",
      " 3   Члены семьи        5000 non-null   int64  \n",
      " 4   Страховые выплаты  5000 non-null   int64  \n",
      "dtypes: float64(2), int64(3)\n",
      "memory usage: 195.4 KB\n"
     ]
    }
   ],
   "source": [
    "data.info()"
   ]
  },
  {
   "cell_type": "code",
   "execution_count": 5,
   "metadata": {},
   "outputs": [
    {
     "data": {
      "text/html": [
       "<div>\n",
       "<style scoped>\n",
       "    .dataframe tbody tr th:only-of-type {\n",
       "        vertical-align: middle;\n",
       "    }\n",
       "\n",
       "    .dataframe tbody tr th {\n",
       "        vertical-align: top;\n",
       "    }\n",
       "\n",
       "    .dataframe thead th {\n",
       "        text-align: right;\n",
       "    }\n",
       "</style>\n",
       "<table border=\"1\" class=\"dataframe\">\n",
       "  <thead>\n",
       "    <tr style=\"text-align: right;\">\n",
       "      <th></th>\n",
       "      <th>Пол</th>\n",
       "      <th>Возраст</th>\n",
       "      <th>Зарплата</th>\n",
       "      <th>Члены семьи</th>\n",
       "      <th>Страховые выплаты</th>\n",
       "    </tr>\n",
       "  </thead>\n",
       "  <tbody>\n",
       "    <tr>\n",
       "      <th>count</th>\n",
       "      <td>5000.000000</td>\n",
       "      <td>5000.000000</td>\n",
       "      <td>5000.000000</td>\n",
       "      <td>5000.000000</td>\n",
       "      <td>5000.000000</td>\n",
       "    </tr>\n",
       "    <tr>\n",
       "      <th>mean</th>\n",
       "      <td>0.499000</td>\n",
       "      <td>30.952800</td>\n",
       "      <td>39916.360000</td>\n",
       "      <td>1.194200</td>\n",
       "      <td>0.148000</td>\n",
       "    </tr>\n",
       "    <tr>\n",
       "      <th>std</th>\n",
       "      <td>0.500049</td>\n",
       "      <td>8.440807</td>\n",
       "      <td>9900.083569</td>\n",
       "      <td>1.091387</td>\n",
       "      <td>0.463183</td>\n",
       "    </tr>\n",
       "    <tr>\n",
       "      <th>min</th>\n",
       "      <td>0.000000</td>\n",
       "      <td>18.000000</td>\n",
       "      <td>5300.000000</td>\n",
       "      <td>0.000000</td>\n",
       "      <td>0.000000</td>\n",
       "    </tr>\n",
       "    <tr>\n",
       "      <th>25%</th>\n",
       "      <td>0.000000</td>\n",
       "      <td>24.000000</td>\n",
       "      <td>33300.000000</td>\n",
       "      <td>0.000000</td>\n",
       "      <td>0.000000</td>\n",
       "    </tr>\n",
       "    <tr>\n",
       "      <th>50%</th>\n",
       "      <td>0.000000</td>\n",
       "      <td>30.000000</td>\n",
       "      <td>40200.000000</td>\n",
       "      <td>1.000000</td>\n",
       "      <td>0.000000</td>\n",
       "    </tr>\n",
       "    <tr>\n",
       "      <th>75%</th>\n",
       "      <td>1.000000</td>\n",
       "      <td>37.000000</td>\n",
       "      <td>46600.000000</td>\n",
       "      <td>2.000000</td>\n",
       "      <td>0.000000</td>\n",
       "    </tr>\n",
       "    <tr>\n",
       "      <th>max</th>\n",
       "      <td>1.000000</td>\n",
       "      <td>65.000000</td>\n",
       "      <td>79000.000000</td>\n",
       "      <td>6.000000</td>\n",
       "      <td>5.000000</td>\n",
       "    </tr>\n",
       "  </tbody>\n",
       "</table>\n",
       "</div>"
      ],
      "text/plain": [
       "               Пол      Возраст      Зарплата  Члены семьи  Страховые выплаты\n",
       "count  5000.000000  5000.000000   5000.000000  5000.000000        5000.000000\n",
       "mean      0.499000    30.952800  39916.360000     1.194200           0.148000\n",
       "std       0.500049     8.440807   9900.083569     1.091387           0.463183\n",
       "min       0.000000    18.000000   5300.000000     0.000000           0.000000\n",
       "25%       0.000000    24.000000  33300.000000     0.000000           0.000000\n",
       "50%       0.000000    30.000000  40200.000000     1.000000           0.000000\n",
       "75%       1.000000    37.000000  46600.000000     2.000000           0.000000\n",
       "max       1.000000    65.000000  79000.000000     6.000000           5.000000"
      ]
     },
     "execution_count": 5,
     "metadata": {},
     "output_type": "execute_result"
    }
   ],
   "source": [
    "data.describe()"
   ]
  },
  {
   "cell_type": "code",
   "execution_count": 6,
   "metadata": {},
   "outputs": [
    {
     "name": "stdout",
     "output_type": "stream",
     "text": [
      "Возраст\n"
     ]
    },
    {
     "data": {
      "image/png": "[encoded data removed]",
      "text/plain": [
       "<Figure size 432x288 with 1 Axes>"
      ]
     },
     "metadata": {
      "needs_background": "light"
     },
     "output_type": "display_data"
    }
   ],
   "source": [
    "print('Возраст')\n",
    "data.boxplot('Возраст')\n",
    "limit = (data['Возраст'].quantile(.75) - data['Возраст'].quantile(.25))*1.5 + \\\n",
    "data['Возраст'].quantile(.75)\n"
   ]
  },
  {
   "cell_type": "markdown",
   "metadata": {},
   "source": [
    "<div>\n",
    "    <font color='green'>Удаление аномалий.</font>\n",
    "    </div>"
   ]
  },
  {
   "cell_type": "code",
   "execution_count": 7,
   "metadata": {},
   "outputs": [],
   "source": [
    "data = data.drop(data.loc[data['Возраст'] > limit].index, axis=0)"
   ]
  },
  {
   "cell_type": "code",
   "execution_count": 8,
   "metadata": {},
   "outputs": [
    {
     "name": "stdout",
     "output_type": "stream",
     "text": [
      "Зарплата\n"
     ]
    },
    {
     "data": {
      "image/png": "[encoded data removed]",
      "text/plain": [
       "<Figure size 432x288 with 1 Axes>"
      ]
     },
     "metadata": {
      "needs_background": "light"
     },
     "output_type": "display_data"
    }
   ],
   "source": [
    "print('Зарплата')\n",
    "data.boxplot('Зарплата')\n",
    "\n",
    "limit_top = (data['Зарплата'].quantile(.75) - data['Зарплата'].quantile(.25))*1.5 + \\\n",
    "data['Зарплата'].quantile(.75)\n",
    "\n",
    "limit_bottom = data['Зарплата'].quantile(.25) - \\\n",
    "(data['Зарплата'].quantile(.75) - data['Зарплата'].quantile(.25))*1.5\n"
   ]
  },
  {
   "cell_type": "markdown",
   "metadata": {},
   "source": [
    "<div>\n",
    "    <font color='green'>Удаление аномалий.</font>\n",
    "    </div>"
   ]
  },
  {
   "cell_type": "code",
   "execution_count": 9,
   "metadata": {},
   "outputs": [],
   "source": [
    "data = data.drop(data.loc[(data['Зарплата'] > limit_top) | \\\n",
    "                          (data['Зарплата'] < limit_bottom)].index, axis=0)"
   ]
  },
  {
   "cell_type": "code",
   "execution_count": 10,
   "metadata": {},
   "outputs": [
    {
     "data": {
      "text/plain": [
       "array([[<AxesSubplot:title={'center':'Пол'}>]], dtype=object)"
      ]
     },
     "execution_count": 10,
     "metadata": {},
     "output_type": "execute_result"
    },
    {
     "data": {
      "image/png": "[encoded data removed]",
      "text/plain": [
       "<Figure size 432x288 with 1 Axes>"
      ]
     },
     "metadata": {
      "needs_background": "light"
     },
     "output_type": "display_data"
    }
   ],
   "source": [
    "data.hist('Пол')"
   ]
  },
  {
   "cell_type": "code",
   "execution_count": 11,
   "metadata": {},
   "outputs": [
    {
     "data": {
      "text/plain": [
       "array([[<AxesSubplot:title={'center':'Члены семьи'}>]], dtype=object)"
      ]
     },
     "execution_count": 11,
     "metadata": {},
     "output_type": "execute_result"
    },
    {
     "data": {
      "image/png": "[encoded data removed]",
      "text/plain": [
       "<Figure size 432x288 with 1 Axes>"
      ]
     },
     "metadata": {
      "needs_background": "light"
     },
     "output_type": "display_data"
    }
   ],
   "source": [
    "data.hist('Члены семьи', bins=6)"
   ]
  },
  {
   "cell_type": "code",
   "execution_count": 12,
   "metadata": {},
   "outputs": [
    {
     "data": {
      "text/plain": [
       "array([[<AxesSubplot:title={'center':'Страховые выплаты'}>]], dtype=object)"
      ]
     },
     "execution_count": 12,
     "metadata": {},
     "output_type": "execute_result"
    },
    {
     "data": {
      "image/png": "[encoded data removed]",
      "text/plain": [
       "<Figure size 432x288 with 1 Axes>"
      ]
     },
     "metadata": {
      "needs_background": "light"
     },
     "output_type": "display_data"
    }
   ],
   "source": [
    "data.hist('Страховые выплаты', bins=4)"
   ]
  },
  {
   "cell_type": "markdown",
   "metadata": {},
   "source": [
    "## Умножение матриц"
   ]
  },
  {
   "cell_type": "markdown",
   "metadata": {},
   "source": [
    "**Ответ:** после умножения признаков на обратимую матрицу качество линейной регрессии не изменится.\n",
    "\n",
    "**Обоснование:**\n",
    "$$\n",
    "a = Xw = XEw = XPP^{-1}w = (XP)P^{-1}w = (XP)w'\n",
    "$$\n",
    "\n",
    "$$\n",
    "w' = ((XP)^T XP)^{-1} (XP)^T y\n",
    "$$\n",
    "$$\n",
    "w' = (P^T (X^T X) P)^{-1} (XP)^T y = (P^{-1} (X^T X)^{-1} (P^T)^{-1}) (P^T X^T) y = \n",
    "P^{-1} (X^T X)^{-1} ((P^T)^{-1}) P^T) X^T y = P^{-1}(X^T X)^{-1}X^Ty = P^{-1}w\n",
    "$$\\\n",
    "\\\n",
    "То есть если X преобразовать, умножив на P, то вектор весов для минимума MSE преобразованных признаков w' будет равным, как показано выше, $P^{-1}w$. Тогда получается, что предсказание не меняется."
   ]
  },
  {
   "cell_type": "markdown",
   "metadata": {},
   "source": [
    "## Алгоритм преобразования"
   ]
  },
  {
   "cell_type": "markdown",
   "metadata": {},
   "source": [
    "**Алгоритм**\n",
    "\n",
    "Для защиты данных клиентов можно умножать матрицу данных на обратимую матрицу, причём на случайную, которую с помощью нехитрого способа можно часто менять. При этом предсказание модели машинного обучения не меняется и качество линейной регрессии не изменяется."
   ]
  },
  {
   "cell_type": "markdown",
   "metadata": {},
   "source": [
    "**Обоснование**\n",
    "\n",
    "При умножении признаков на обратимую матрицу не меняется предсказание и качество линейной регрессии."
   ]
  },
  {
   "cell_type": "markdown",
   "metadata": {},
   "source": [
    "## Проверка алгоритма"
   ]
  },
  {
   "cell_type": "markdown",
   "metadata": {},
   "source": [
    "<div>\n",
    "    <font color='green'><b><h3>До преобразования.</h3></b></font>\n",
    "    </div>"
   ]
  },
  {
   "cell_type": "markdown",
   "metadata": {},
   "source": [
    "<div>\n",
    "    <font color='green'>Признаки для обучения и целевой признак:</font>\n",
    "    </div>"
   ]
  },
  {
   "cell_type": "code",
   "execution_count": 13,
   "metadata": {},
   "outputs": [],
   "source": [
    "features4 = data.drop('Страховые выплаты', axis=1)\n",
    "target4 = data['Страховые выплаты']"
   ]
  },
  {
   "cell_type": "markdown",
   "metadata": {},
   "source": [
    "<div>\n",
    "    <font color='green'>Предсказание целевого признака моделью линейной регрессии из sklearn. Метрика R2:</font>\n",
    "    </div>"
   ]
  },
  {
   "cell_type": "code",
   "execution_count": 14,
   "metadata": {},
   "outputs": [
    {
     "name": "stdout",
     "output_type": "stream",
     "text": [
      "R2: 0.41766486814214643\n"
     ]
    }
   ],
   "source": [
    "model = LinearRegression()\n",
    "model.fit(features4, target4)\n",
    "predictions4 = model.predict(features4)\n",
    "r2_4 = r2_score(target4, predictions4)\n",
    "print('R2:',r2_4)"
   ]
  },
  {
   "cell_type": "markdown",
   "metadata": {},
   "source": [
    "<div>\n",
    "    <font color='green'><b><h3>После преобразования.</h3></b></font>\n",
    "    </div>"
   ]
  },
  {
   "cell_type": "markdown",
   "metadata": {},
   "source": [
    "<div>\n",
    "    <font color='green'>Генерирование случайной обратимой матрицы:</font>\n",
    "    </div>"
   ]
  },
  {
   "cell_type": "code",
   "execution_count": 15,
   "metadata": {},
   "outputs": [
    {
     "name": "stdout",
     "output_type": "stream",
     "text": [
      "Обратимая матрица P4: \n",
      " [[50 56 62 52]\n",
      " [20 30 50 92]\n",
      " [94 96 13 47]\n",
      " [89 10 19 42]] \n",
      "\n",
      "Обратная матрица матрице P4: \n",
      " [[ 1.32382615e-03 -6.16834406e-03 -9.20866146e-05  1.19756373e-02]\n",
      " [ 2.54040706e-03 -1.21301417e-03  1.06003366e-02 -1.23504687e-02]\n",
      " [ 2.51810685e-02 -8.27433899e-03 -1.21612696e-02  5.57221293e-04]\n",
      " [-1.48015452e-02  1.71029810e-02  3.17277297e-03  1.12108968e-03]]\n"
     ]
    }
   ],
   "source": [
    "P4 = np.random.randint (1, 100, (features4.shape[1], features4.shape[1]))\n",
    "print('Обратимая матрица P4: \\n', P4, '\\n')\n",
    "print('Обратная матрица матрице P4: \\n', np.linalg.inv(P4))"
   ]
  },
  {
   "cell_type": "markdown",
   "metadata": {},
   "source": [
    "<div>\n",
    "    <font color='green'>Таблица с признаками, умноженная на случайную обратимую матрицу:</font>\n",
    "    </div>"
   ]
  },
  {
   "cell_type": "code",
   "execution_count": 16,
   "metadata": {},
   "outputs": [
    {
     "name": "stdout",
     "output_type": "stream",
     "text": [
      "Преобразованные данные:\n"
     ]
    },
    {
     "data": {
      "text/html": [
       "<div>\n",
       "<style scoped>\n",
       "    .dataframe tbody tr th:only-of-type {\n",
       "        vertical-align: middle;\n",
       "    }\n",
       "\n",
       "    .dataframe tbody tr th {\n",
       "        vertical-align: top;\n",
       "    }\n",
       "\n",
       "    .dataframe thead th {\n",
       "        text-align: right;\n",
       "    }\n",
       "</style>\n",
       "<table border=\"1\" class=\"dataframe\">\n",
       "  <thead>\n",
       "    <tr style=\"text-align: right;\">\n",
       "      <th></th>\n",
       "      <th>Пол</th>\n",
       "      <th>Возраст</th>\n",
       "      <th>Зарплата</th>\n",
       "      <th>Члены семьи</th>\n",
       "    </tr>\n",
       "  </thead>\n",
       "  <tbody>\n",
       "    <tr>\n",
       "      <th>0</th>\n",
       "      <td>4663359.0</td>\n",
       "      <td>4762896.0</td>\n",
       "      <td>646931.0</td>\n",
       "      <td>2335066.0</td>\n",
       "    </tr>\n",
       "    <tr>\n",
       "      <th>1</th>\n",
       "      <td>3573009.0</td>\n",
       "      <td>3649390.0</td>\n",
       "      <td>496319.0</td>\n",
       "      <td>1790274.0</td>\n",
       "    </tr>\n",
       "    <tr>\n",
       "      <th>2</th>\n",
       "      <td>1974580.0</td>\n",
       "      <td>2016870.0</td>\n",
       "      <td>274450.0</td>\n",
       "      <td>989668.0</td>\n",
       "    </tr>\n",
       "    <tr>\n",
       "      <th>3</th>\n",
       "      <td>3920398.0</td>\n",
       "      <td>4003850.0</td>\n",
       "      <td>543188.0</td>\n",
       "      <td>1961916.0</td>\n",
       "    </tr>\n",
       "    <tr>\n",
       "      <th>4</th>\n",
       "      <td>2454010.0</td>\n",
       "      <td>2506496.0</td>\n",
       "      <td>340762.0</td>\n",
       "      <td>1229328.0</td>\n",
       "    </tr>\n",
       "    <tr>\n",
       "      <th>...</th>\n",
       "      <td>...</td>\n",
       "      <td>...</td>\n",
       "      <td>...</td>\n",
       "      <td>...</td>\n",
       "    </tr>\n",
       "    <tr>\n",
       "      <th>4946</th>\n",
       "      <td>3356538.0</td>\n",
       "      <td>3428060.0</td>\n",
       "      <td>465538.0</td>\n",
       "      <td>1680560.0</td>\n",
       "    </tr>\n",
       "    <tr>\n",
       "      <th>4947</th>\n",
       "      <td>4926369.0</td>\n",
       "      <td>5031430.0</td>\n",
       "      <td>682919.0</td>\n",
       "      <td>2465970.0</td>\n",
       "    </tr>\n",
       "    <tr>\n",
       "      <th>4948</th>\n",
       "      <td>3187178.0</td>\n",
       "      <td>3255020.0</td>\n",
       "      <td>441738.0</td>\n",
       "      <td>1595224.0</td>\n",
       "    </tr>\n",
       "    <tr>\n",
       "      <th>4949</th>\n",
       "      <td>3074557.0</td>\n",
       "      <td>3139946.0</td>\n",
       "      <td>426319.0</td>\n",
       "      <td>1539102.0</td>\n",
       "    </tr>\n",
       "    <tr>\n",
       "      <th>4950</th>\n",
       "      <td>3817099.0</td>\n",
       "      <td>3898506.0</td>\n",
       "      <td>529281.0</td>\n",
       "      <td>1910870.0</td>\n",
       "    </tr>\n",
       "  </tbody>\n",
       "</table>\n",
       "<p>4951 rows × 4 columns</p>\n",
       "</div>"
      ],
      "text/plain": [
       "            Пол    Возраст  Зарплата  Члены семьи\n",
       "0     4663359.0  4762896.0  646931.0    2335066.0\n",
       "1     3573009.0  3649390.0  496319.0    1790274.0\n",
       "2     1974580.0  2016870.0  274450.0     989668.0\n",
       "3     3920398.0  4003850.0  543188.0    1961916.0\n",
       "4     2454010.0  2506496.0  340762.0    1229328.0\n",
       "...         ...        ...       ...          ...\n",
       "4946  3356538.0  3428060.0  465538.0    1680560.0\n",
       "4947  4926369.0  5031430.0  682919.0    2465970.0\n",
       "4948  3187178.0  3255020.0  441738.0    1595224.0\n",
       "4949  3074557.0  3139946.0  426319.0    1539102.0\n",
       "4950  3817099.0  3898506.0  529281.0    1910870.0\n",
       "\n",
       "[4951 rows x 4 columns]"
      ]
     },
     "execution_count": 16,
     "metadata": {},
     "output_type": "execute_result"
    }
   ],
   "source": [
    "features4_p = pd.DataFrame(features4.values.dot(P4), columns=features4.columns)\n",
    "print('Преобразованные данные:')\n",
    "features4_p"
   ]
  },
  {
   "cell_type": "markdown",
   "metadata": {},
   "source": [
    "<div>\n",
    "    <font color='green'>Предсказание моделью линейной регрессии из sklearn целевого признака на преобразованных данных. Метрика R2:</font>\n",
    "    </div>"
   ]
  },
  {
   "cell_type": "code",
   "execution_count": 17,
   "metadata": {},
   "outputs": [
    {
     "name": "stdout",
     "output_type": "stream",
     "text": [
      "R2: 0.4176648681421401\n"
     ]
    }
   ],
   "source": [
    "model_p = LinearRegression()\n",
    "model_p.fit(features4_p, target4)\n",
    "predictions4_p = model_p.predict(features4_p)\n",
    "r2_4_p = r2_score(target4, predictions4_p)\n",
    "print('R2:',r2_4_p)"
   ]
  },
  {
   "cell_type": "markdown",
   "metadata": {},
   "source": [
    "<div>\n",
    "    <font color='green'>Сравнение метрики R2 до преобразования и после преобразования:</font>\n",
    "    </div>"
   ]
  },
  {
   "cell_type": "code",
   "execution_count": 18,
   "metadata": {},
   "outputs": [
    {
     "name": "stdout",
     "output_type": "stream",
     "text": [
      "R2 до преобразования:    0.41766486814214643\n",
      "R2 после преобразования: 0.4176648681421401\n"
     ]
    }
   ],
   "source": [
    "print('R2 до преобразования:', '  ', r2_4)\n",
    "print('R2 после преобразования:', r2_4_p)"
   ]
  },
  {
   "cell_type": "markdown",
   "metadata": {},
   "source": [
    "**Качество линейной регрессии из sklearn практически не изменилось после преобразования данных умножением на случайную обратимую матрицу.**"
   ]
  }
 ],
 "metadata": {
  "ExecuteTimeLog": [
   {
    "duration": 394,
    "start_time": "2023-04-13T17:57:48.806Z"
   },
   {
    "duration": 83,
    "start_time": "2023-04-13T17:58:12.303Z"
   },
   {
    "duration": 16,
    "start_time": "2023-04-13T17:58:22.540Z"
   },
   {
    "duration": 17,
    "start_time": "2023-04-13T17:58:47.195Z"
   },
   {
    "duration": 65,
    "start_time": "2023-04-13T21:31:20.331Z"
   },
   {
    "duration": 2,
    "start_time": "2023-04-13T21:31:41.275Z"
   },
   {
    "duration": 5,
    "start_time": "2023-04-13T21:34:50.617Z"
   },
   {
    "duration": 4,
    "start_time": "2023-04-13T21:43:31.581Z"
   },
   {
    "duration": 282,
    "start_time": "2023-04-13T21:53:52.702Z"
   },
   {
    "duration": 253,
    "start_time": "2023-04-13T21:54:11.131Z"
   },
   {
    "duration": 260,
    "start_time": "2023-04-13T21:54:28.816Z"
   },
   {
    "duration": 356,
    "start_time": "2023-04-13T21:54:35.003Z"
   },
   {
    "duration": 257,
    "start_time": "2023-04-13T21:54:44.674Z"
   },
   {
    "duration": 19065,
    "start_time": "2023-04-13T21:57:01.877Z"
   },
   {
    "duration": 4,
    "start_time": "2023-04-13T22:05:50.174Z"
   },
   {
    "duration": 793,
    "start_time": "2023-04-13T22:10:50.751Z"
   },
   {
    "duration": 186,
    "start_time": "2023-04-13T22:11:38.381Z"
   },
   {
    "duration": 2,
    "start_time": "2023-04-13T22:12:16.355Z"
   },
   {
    "duration": 16,
    "start_time": "2023-04-13T22:12:22.234Z"
   },
   {
    "duration": 10,
    "start_time": "2023-04-13T22:19:48.427Z"
   },
   {
    "duration": 10,
    "start_time": "2023-04-13T22:20:05.845Z"
   },
   {
    "duration": 89,
    "start_time": "2023-04-13T22:21:48.581Z"
   },
   {
    "duration": 5,
    "start_time": "2023-04-13T22:22:01.487Z"
   },
   {
    "duration": 8,
    "start_time": "2023-04-13T22:22:21.491Z"
   },
   {
    "duration": 4,
    "start_time": "2023-04-13T22:22:30.196Z"
   },
   {
    "duration": 5,
    "start_time": "2023-04-13T22:23:08.522Z"
   },
   {
    "duration": 4,
    "start_time": "2023-04-13T22:23:40.368Z"
   },
   {
    "duration": 16,
    "start_time": "2023-04-13T22:23:52.628Z"
   },
   {
    "duration": 5,
    "start_time": "2023-04-13T22:24:44.568Z"
   },
   {
    "duration": 5,
    "start_time": "2023-04-13T22:25:00.803Z"
   },
   {
    "duration": 7,
    "start_time": "2023-04-13T22:25:26.972Z"
   },
   {
    "duration": 5,
    "start_time": "2023-04-13T22:25:51.814Z"
   },
   {
    "duration": 10,
    "start_time": "2023-04-13T22:26:36.024Z"
   },
   {
    "duration": 14,
    "start_time": "2023-04-13T22:26:46.594Z"
   },
   {
    "duration": 10,
    "start_time": "2023-04-13T22:28:14.982Z"
   },
   {
    "duration": 10,
    "start_time": "2023-04-13T22:29:55.670Z"
   },
   {
    "duration": 16,
    "start_time": "2023-04-13T22:30:18.545Z"
   },
   {
    "duration": 14,
    "start_time": "2023-04-13T22:34:18.667Z"
   },
   {
    "duration": 7,
    "start_time": "2023-04-13T22:34:30.425Z"
   },
   {
    "duration": 7,
    "start_time": "2023-04-13T22:34:40.940Z"
   },
   {
    "duration": 21,
    "start_time": "2023-04-13T22:35:51.861Z"
   },
   {
    "duration": 8,
    "start_time": "2023-04-13T22:36:15.486Z"
   },
   {
    "duration": 75,
    "start_time": "2023-04-13T22:39:59.304Z"
   },
   {
    "duration": 8,
    "start_time": "2023-04-13T22:40:24.019Z"
   },
   {
    "duration": 19,
    "start_time": "2023-04-13T22:40:32.480Z"
   },
   {
    "duration": 20,
    "start_time": "2023-04-13T22:41:04.823Z"
   },
   {
    "duration": 20,
    "start_time": "2023-04-13T22:42:04.054Z"
   },
   {
    "duration": 19,
    "start_time": "2023-04-13T22:42:26.044Z"
   },
   {
    "duration": 9,
    "start_time": "2023-04-13T22:42:55.361Z"
   },
   {
    "duration": 6,
    "start_time": "2023-04-13T22:42:58.093Z"
   },
   {
    "duration": 9,
    "start_time": "2023-04-13T22:43:07.201Z"
   },
   {
    "duration": 7,
    "start_time": "2023-04-13T22:43:35.726Z"
   },
   {
    "duration": 7,
    "start_time": "2023-04-13T22:43:56.945Z"
   },
   {
    "duration": 15,
    "start_time": "2023-04-13T22:44:01.443Z"
   },
   {
    "duration": 9,
    "start_time": "2023-04-13T22:44:16.573Z"
   },
   {
    "duration": 7,
    "start_time": "2023-04-13T22:45:47.797Z"
   },
   {
    "duration": 24,
    "start_time": "2023-04-13T22:46:18.366Z"
   },
   {
    "duration": 12,
    "start_time": "2023-04-13T22:46:54.255Z"
   },
   {
    "duration": 7,
    "start_time": "2023-04-13T22:47:35.169Z"
   },
   {
    "duration": 64,
    "start_time": "2023-04-13T22:48:29.795Z"
   },
   {
    "duration": 9,
    "start_time": "2023-04-13T22:48:44.515Z"
   },
   {
    "duration": 10,
    "start_time": "2023-04-13T22:49:13.125Z"
   },
   {
    "duration": 12,
    "start_time": "2023-04-13T22:49:48.676Z"
   },
   {
    "duration": 9,
    "start_time": "2023-04-13T23:06:25.890Z"
   },
   {
    "duration": 9,
    "start_time": "2023-04-13T23:06:40.380Z"
   },
   {
    "duration": 12,
    "start_time": "2023-04-13T23:07:34.434Z"
   },
   {
    "duration": 24,
    "start_time": "2023-04-13T23:07:59.153Z"
   },
   {
    "duration": 6,
    "start_time": "2023-04-13T23:08:00.575Z"
   },
   {
    "duration": 3,
    "start_time": "2023-04-13T23:08:35.034Z"
   },
   {
    "duration": 4,
    "start_time": "2023-04-13T23:09:39.915Z"
   },
   {
    "duration": 8,
    "start_time": "2023-04-13T23:09:48.298Z"
   },
   {
    "duration": 3,
    "start_time": "2023-04-13T23:10:28.683Z"
   },
   {
    "duration": 27,
    "start_time": "2023-04-13T23:10:28.690Z"
   },
   {
    "duration": 9,
    "start_time": "2023-04-13T23:10:28.719Z"
   },
   {
    "duration": 11,
    "start_time": "2023-04-13T23:10:28.730Z"
   },
   {
    "duration": 18,
    "start_time": "2023-04-13T23:10:28.744Z"
   },
   {
    "duration": 9,
    "start_time": "2023-04-13T23:10:28.764Z"
   },
   {
    "duration": 83,
    "start_time": "2023-04-13T23:10:28.775Z"
   },
   {
    "duration": 5,
    "start_time": "2023-04-13T23:10:28.860Z"
   },
   {
    "duration": 7,
    "start_time": "2023-04-13T23:10:34.254Z"
   },
   {
    "duration": 9,
    "start_time": "2023-04-13T23:10:35.833Z"
   },
   {
    "duration": 3,
    "start_time": "2023-04-13T23:12:14.996Z"
   },
   {
    "duration": 9,
    "start_time": "2023-04-13T23:12:51.003Z"
   },
   {
    "duration": 3,
    "start_time": "2023-04-13T23:12:56.542Z"
   },
   {
    "duration": 6,
    "start_time": "2023-04-13T23:12:57.921Z"
   },
   {
    "duration": 2,
    "start_time": "2023-04-13T23:16:11.119Z"
   },
   {
    "duration": 26,
    "start_time": "2023-04-13T23:16:11.125Z"
   },
   {
    "duration": 8,
    "start_time": "2023-04-13T23:16:11.153Z"
   },
   {
    "duration": 15,
    "start_time": "2023-04-13T23:16:11.163Z"
   },
   {
    "duration": 25,
    "start_time": "2023-04-13T23:16:11.180Z"
   },
   {
    "duration": 8,
    "start_time": "2023-04-13T23:16:11.206Z"
   },
   {
    "duration": 13,
    "start_time": "2023-04-13T23:16:15.826Z"
   },
   {
    "duration": 3,
    "start_time": "2023-04-13T23:16:28.654Z"
   },
   {
    "duration": 3,
    "start_time": "2023-04-13T23:16:31.586Z"
   },
   {
    "duration": 6,
    "start_time": "2023-04-13T23:16:33.512Z"
   },
   {
    "duration": 3,
    "start_time": "2023-04-13T23:18:08.649Z"
   },
   {
    "duration": 25,
    "start_time": "2023-04-13T23:18:08.654Z"
   },
   {
    "duration": 7,
    "start_time": "2023-04-13T23:18:08.681Z"
   },
   {
    "duration": 11,
    "start_time": "2023-04-13T23:18:08.690Z"
   },
   {
    "duration": 16,
    "start_time": "2023-04-13T23:18:08.703Z"
   },
   {
    "duration": 7,
    "start_time": "2023-04-13T23:18:08.720Z"
   },
   {
    "duration": 9,
    "start_time": "2023-04-13T23:18:08.756Z"
   },
   {
    "duration": 93,
    "start_time": "2023-04-13T23:18:08.766Z"
   },
   {
    "duration": 93,
    "start_time": "2023-04-13T23:18:08.863Z"
   },
   {
    "duration": 3,
    "start_time": "2023-04-13T23:18:14.165Z"
   },
   {
    "duration": 6,
    "start_time": "2023-04-13T23:18:15.624Z"
   },
   {
    "duration": 11,
    "start_time": "2023-04-13T23:20:00.563Z"
   },
   {
    "duration": 6,
    "start_time": "2023-04-13T23:20:07.545Z"
   },
   {
    "duration": 14,
    "start_time": "2023-04-13T23:20:23.717Z"
   },
   {
    "duration": 9,
    "start_time": "2023-04-13T23:21:26.252Z"
   },
   {
    "duration": 3,
    "start_time": "2023-04-13T23:22:42.290Z"
   },
   {
    "duration": 3,
    "start_time": "2023-04-13T23:23:10.467Z"
   },
   {
    "duration": 5,
    "start_time": "2023-04-13T23:23:37.827Z"
   },
   {
    "duration": 2,
    "start_time": "2023-04-13T23:25:09.068Z"
   },
   {
    "duration": 31,
    "start_time": "2023-04-13T23:25:09.073Z"
   },
   {
    "duration": 8,
    "start_time": "2023-04-13T23:25:09.106Z"
   },
   {
    "duration": 17,
    "start_time": "2023-04-13T23:25:09.116Z"
   },
   {
    "duration": 22,
    "start_time": "2023-04-13T23:25:09.135Z"
   },
   {
    "duration": 8,
    "start_time": "2023-04-13T23:25:09.159Z"
   },
   {
    "duration": 88,
    "start_time": "2023-04-13T23:25:09.169Z"
   },
   {
    "duration": 5,
    "start_time": "2023-04-13T23:25:09.259Z"
   },
   {
    "duration": 19,
    "start_time": "2023-04-13T23:25:09.356Z"
   },
   {
    "duration": 9,
    "start_time": "2023-04-13T23:25:09.377Z"
   },
   {
    "duration": 79,
    "start_time": "2023-04-13T23:25:09.389Z"
   },
   {
    "duration": 91,
    "start_time": "2023-04-13T23:25:09.470Z"
   },
   {
    "duration": 5,
    "start_time": "2023-04-13T23:25:09.564Z"
   },
   {
    "duration": 3,
    "start_time": "2023-04-13T23:25:09.657Z"
   },
   {
    "duration": 98,
    "start_time": "2023-04-13T23:25:09.662Z"
   },
   {
    "duration": 5,
    "start_time": "2023-04-13T23:25:13.367Z"
   },
   {
    "duration": 4,
    "start_time": "2023-04-13T23:25:14.926Z"
   },
   {
    "duration": 3,
    "start_time": "2023-04-13T23:25:39.662Z"
   },
   {
    "duration": 7,
    "start_time": "2023-04-14T00:02:50.537Z"
   },
   {
    "duration": 75,
    "start_time": "2023-04-14T00:05:03.775Z"
   },
   {
    "duration": 5,
    "start_time": "2023-04-14T00:05:10.421Z"
   },
   {
    "duration": 6,
    "start_time": "2023-04-14T00:05:34.854Z"
   },
   {
    "duration": 5,
    "start_time": "2023-04-14T00:05:51.424Z"
   },
   {
    "duration": 5,
    "start_time": "2023-04-14T00:06:09.048Z"
   },
   {
    "duration": 6,
    "start_time": "2023-04-14T00:06:21.116Z"
   },
   {
    "duration": 6,
    "start_time": "2023-04-14T00:06:35.173Z"
   },
   {
    "duration": 6,
    "start_time": "2023-04-14T00:10:19.153Z"
   },
   {
    "duration": 3,
    "start_time": "2023-04-14T00:11:30.602Z"
   },
   {
    "duration": 101,
    "start_time": "2023-04-14T00:12:22.280Z"
   },
   {
    "duration": 4,
    "start_time": "2023-04-14T00:22:24.480Z"
   },
   {
    "duration": 3,
    "start_time": "2023-04-14T00:22:30.367Z"
   },
   {
    "duration": 3,
    "start_time": "2023-04-14T00:24:37.877Z"
   },
   {
    "duration": 28,
    "start_time": "2023-04-14T00:24:37.881Z"
   },
   {
    "duration": 7,
    "start_time": "2023-04-14T00:24:37.911Z"
   },
   {
    "duration": 11,
    "start_time": "2023-04-14T00:24:37.920Z"
   },
   {
    "duration": 18,
    "start_time": "2023-04-14T00:24:37.933Z"
   },
   {
    "duration": 8,
    "start_time": "2023-04-14T00:24:37.953Z"
   },
   {
    "duration": 4,
    "start_time": "2023-04-14T00:24:37.963Z"
   },
   {
    "duration": 4,
    "start_time": "2023-04-14T00:24:38.057Z"
   },
   {
    "duration": 97,
    "start_time": "2023-04-14T00:24:38.063Z"
   },
   {
    "duration": 8,
    "start_time": "2023-04-14T00:24:38.162Z"
   },
   {
    "duration": 89,
    "start_time": "2023-04-14T00:24:38.172Z"
   },
   {
    "duration": 94,
    "start_time": "2023-04-14T00:24:38.263Z"
   },
   {
    "duration": 6,
    "start_time": "2023-04-14T00:24:38.358Z"
   },
   {
    "duration": 96,
    "start_time": "2023-04-14T00:24:38.366Z"
   },
   {
    "duration": 94,
    "start_time": "2023-04-14T00:24:38.464Z"
   },
   {
    "duration": 10,
    "start_time": "2023-04-14T00:24:38.560Z"
   },
   {
    "duration": 2,
    "start_time": "2023-04-14T00:26:27.837Z"
   },
   {
    "duration": 24,
    "start_time": "2023-04-14T00:26:27.843Z"
   },
   {
    "duration": 8,
    "start_time": "2023-04-14T00:26:27.869Z"
   },
   {
    "duration": 10,
    "start_time": "2023-04-14T00:26:27.878Z"
   },
   {
    "duration": 15,
    "start_time": "2023-04-14T00:26:27.890Z"
   },
   {
    "duration": 50,
    "start_time": "2023-04-14T00:26:27.907Z"
   },
   {
    "duration": 3,
    "start_time": "2023-04-14T00:26:27.959Z"
   },
   {
    "duration": 94,
    "start_time": "2023-04-14T00:26:27.963Z"
   },
   {
    "duration": 5,
    "start_time": "2023-04-14T00:26:28.059Z"
   },
   {
    "duration": 6,
    "start_time": "2023-04-14T00:26:28.156Z"
   },
   {
    "duration": 105,
    "start_time": "2023-04-14T00:26:28.165Z"
   },
   {
    "duration": 90,
    "start_time": "2023-04-14T00:26:28.271Z"
   },
   {
    "duration": 194,
    "start_time": "2023-04-14T00:26:28.363Z"
   },
   {
    "duration": 102,
    "start_time": "2023-04-14T00:26:28.559Z"
   },
   {
    "duration": 5,
    "start_time": "2023-04-14T00:26:28.663Z"
   },
   {
    "duration": 4,
    "start_time": "2023-04-14T00:26:28.670Z"
   },
   {
    "duration": 4,
    "start_time": "2023-04-14T00:26:32.188Z"
   },
   {
    "duration": 5,
    "start_time": "2023-04-14T00:40:53.117Z"
   },
   {
    "duration": 4,
    "start_time": "2023-04-14T00:42:36.159Z"
   },
   {
    "duration": 5,
    "start_time": "2023-04-14T00:43:48.986Z"
   },
   {
    "duration": 11,
    "start_time": "2023-04-14T00:44:19.567Z"
   },
   {
    "duration": 10,
    "start_time": "2023-04-14T00:44:43.191Z"
   },
   {
    "duration": 4,
    "start_time": "2023-04-14T00:44:57.511Z"
   },
   {
    "duration": 14,
    "start_time": "2023-04-14T00:45:09.351Z"
   },
   {
    "duration": 3,
    "start_time": "2023-04-14T00:45:32.633Z"
   },
   {
    "duration": 9,
    "start_time": "2023-04-14T00:45:40.362Z"
   },
   {
    "duration": 5,
    "start_time": "2023-04-14T00:45:48.227Z"
   },
   {
    "duration": 12,
    "start_time": "2023-04-14T00:46:49.571Z"
   },
   {
    "duration": 4,
    "start_time": "2023-04-14T00:47:01.014Z"
   },
   {
    "duration": 13,
    "start_time": "2023-04-14T00:47:08.833Z"
   },
   {
    "duration": 4,
    "start_time": "2023-04-14T00:48:50.674Z"
   },
   {
    "duration": 15,
    "start_time": "2023-04-14T00:48:54.241Z"
   },
   {
    "duration": 5,
    "start_time": "2023-04-14T00:49:01.752Z"
   },
   {
    "duration": 14,
    "start_time": "2023-04-14T00:49:03.707Z"
   },
   {
    "duration": 8,
    "start_time": "2023-04-14T00:49:43.520Z"
   },
   {
    "duration": 12,
    "start_time": "2023-04-14T00:57:25.477Z"
   },
   {
    "duration": 4,
    "start_time": "2023-04-14T00:58:45.759Z"
   },
   {
    "duration": 9,
    "start_time": "2023-04-14T00:58:47.153Z"
   },
   {
    "duration": 5,
    "start_time": "2023-04-14T00:59:13.181Z"
   },
   {
    "duration": 5,
    "start_time": "2023-04-14T00:59:22.497Z"
   },
   {
    "duration": 13,
    "start_time": "2023-04-14T00:59:44.031Z"
   },
   {
    "duration": 12,
    "start_time": "2023-04-14T01:00:19.127Z"
   },
   {
    "duration": 3,
    "start_time": "2023-04-14T01:00:48.208Z"
   },
   {
    "duration": 74,
    "start_time": "2023-04-14T01:05:29.695Z"
   },
   {
    "duration": 15,
    "start_time": "2023-04-14T01:06:44.830Z"
   },
   {
    "duration": 9,
    "start_time": "2023-04-14T01:11:26.314Z"
   },
   {
    "duration": 16,
    "start_time": "2023-04-14T01:11:43.397Z"
   },
   {
    "duration": 13,
    "start_time": "2023-04-14T01:13:54.639Z"
   },
   {
    "duration": 4,
    "start_time": "2023-04-14T01:17:06.727Z"
   },
   {
    "duration": 1156,
    "start_time": "2023-04-14T01:19:43.133Z"
   },
   {
    "duration": 25,
    "start_time": "2023-04-14T01:19:44.291Z"
   },
   {
    "duration": 15,
    "start_time": "2023-04-14T01:19:44.317Z"
   },
   {
    "duration": 11,
    "start_time": "2023-04-14T01:19:44.334Z"
   },
   {
    "duration": 22,
    "start_time": "2023-04-14T01:19:44.347Z"
   },
   {
    "duration": 9,
    "start_time": "2023-04-14T01:19:44.371Z"
   },
   {
    "duration": 78,
    "start_time": "2023-04-14T01:19:44.382Z"
   },
   {
    "duration": 98,
    "start_time": "2023-04-14T01:19:44.462Z"
   },
   {
    "duration": 97,
    "start_time": "2023-04-14T01:19:44.562Z"
   },
   {
    "duration": 7,
    "start_time": "2023-04-14T01:19:44.662Z"
   },
   {
    "duration": 87,
    "start_time": "2023-04-14T01:19:44.670Z"
   },
   {
    "duration": 9,
    "start_time": "2023-04-14T01:19:44.759Z"
   },
   {
    "duration": 5,
    "start_time": "2023-04-14T01:19:44.855Z"
   },
   {
    "duration": 98,
    "start_time": "2023-04-14T01:19:44.861Z"
   },
   {
    "duration": 5,
    "start_time": "2023-04-14T01:19:44.961Z"
   },
   {
    "duration": 20,
    "start_time": "2023-04-14T01:19:45.055Z"
   },
   {
    "duration": 6,
    "start_time": "2023-04-14T01:19:45.077Z"
   },
   {
    "duration": 24,
    "start_time": "2023-04-14T01:19:45.084Z"
   },
   {
    "duration": 48,
    "start_time": "2023-04-14T01:19:45.110Z"
   },
   {
    "duration": 106,
    "start_time": "2023-04-14T01:19:45.161Z"
   },
   {
    "duration": 87,
    "start_time": "2023-04-14T01:19:45.269Z"
   },
   {
    "duration": 95,
    "start_time": "2023-04-14T01:19:45.361Z"
   },
   {
    "duration": 2443,
    "start_time": "2023-04-14T05:22:09.122Z"
   },
   {
    "duration": 41,
    "start_time": "2023-04-14T05:22:11.567Z"
   },
   {
    "duration": 13,
    "start_time": "2023-04-14T06:04:35.536Z"
   },
   {
    "duration": 1066,
    "start_time": "2023-04-14T23:34:10.702Z"
   },
   {
    "duration": 87,
    "start_time": "2023-04-14T23:34:11.770Z"
   },
   {
    "duration": 15,
    "start_time": "2023-04-14T23:34:11.859Z"
   },
   {
    "duration": 12,
    "start_time": "2023-04-14T23:34:11.876Z"
   },
   {
    "duration": 102,
    "start_time": "2023-04-14T23:34:15.676Z"
   },
   {
    "duration": 9,
    "start_time": "2023-04-14T23:34:21.507Z"
   },
   {
    "duration": 10,
    "start_time": "2023-04-14T23:34:30.723Z"
   },
   {
    "duration": 23,
    "start_time": "2023-04-14T23:35:20.306Z"
   },
   {
    "duration": 564,
    "start_time": "2023-04-14T23:38:53.278Z"
   },
   {
    "duration": 96,
    "start_time": "2023-04-14T23:39:11.819Z"
   },
   {
    "duration": 110,
    "start_time": "2023-04-14T23:39:58.442Z"
   },
   {
    "duration": 95,
    "start_time": "2023-04-14T23:41:53.698Z"
   },
   {
    "duration": 111,
    "start_time": "2023-04-14T23:43:09.476Z"
   },
   {
    "duration": 130,
    "start_time": "2023-04-14T23:43:39.581Z"
   },
   {
    "duration": 173,
    "start_time": "2023-04-14T23:43:52.577Z"
   },
   {
    "duration": 104,
    "start_time": "2023-04-14T23:44:53.090Z"
   },
   {
    "duration": 95,
    "start_time": "2023-04-14T23:45:27.095Z"
   },
   {
    "duration": 97,
    "start_time": "2023-04-14T23:46:38.901Z"
   },
   {
    "duration": 100,
    "start_time": "2023-04-14T23:46:46.072Z"
   },
   {
    "duration": 96,
    "start_time": "2023-04-14T23:47:02.542Z"
   },
   {
    "duration": 100,
    "start_time": "2023-04-14T23:47:26.522Z"
   },
   {
    "duration": 96,
    "start_time": "2023-04-14T23:47:43.297Z"
   },
   {
    "duration": 112,
    "start_time": "2023-04-14T23:50:26.928Z"
   },
   {
    "duration": 104,
    "start_time": "2023-04-14T23:50:43.235Z"
   },
   {
    "duration": 100,
    "start_time": "2023-04-14T23:51:05.456Z"
   },
   {
    "duration": 111,
    "start_time": "2023-04-14T23:51:20.116Z"
   },
   {
    "duration": 12,
    "start_time": "2023-04-14T23:51:33.296Z"
   },
   {
    "duration": 116,
    "start_time": "2023-04-14T23:56:09.910Z"
   },
   {
    "duration": 4,
    "start_time": "2023-04-15T00:00:21.016Z"
   },
   {
    "duration": 5,
    "start_time": "2023-04-15T00:00:57.924Z"
   },
   {
    "duration": 110,
    "start_time": "2023-04-15T00:01:18.841Z"
   },
   {
    "duration": 11,
    "start_time": "2023-04-15T00:01:35.539Z"
   },
   {
    "duration": 218,
    "start_time": "2023-04-15T00:03:10.844Z"
   },
   {
    "duration": 156,
    "start_time": "2023-04-15T00:04:59.887Z"
   },
   {
    "duration": 139,
    "start_time": "2023-04-15T00:05:24.019Z"
   },
   {
    "duration": 144,
    "start_time": "2023-04-15T00:05:31.366Z"
   },
   {
    "duration": 136,
    "start_time": "2023-04-15T00:05:39.004Z"
   },
   {
    "duration": 131,
    "start_time": "2023-04-15T00:17:41.803Z"
   },
   {
    "duration": 145,
    "start_time": "2023-04-15T00:18:06.653Z"
   },
   {
    "duration": 6,
    "start_time": "2023-04-15T00:18:59.284Z"
   },
   {
    "duration": 25,
    "start_time": "2023-04-15T00:19:35.427Z"
   },
   {
    "duration": 122,
    "start_time": "2023-04-15T00:19:58.397Z"
   },
   {
    "duration": 121,
    "start_time": "2023-04-15T00:20:54.858Z"
   },
   {
    "duration": 116,
    "start_time": "2023-04-15T00:21:33.779Z"
   },
   {
    "duration": 103,
    "start_time": "2023-04-15T00:22:17.829Z"
   },
   {
    "duration": 109,
    "start_time": "2023-04-15T00:22:47.047Z"
   },
   {
    "duration": 97,
    "start_time": "2023-04-15T00:24:12.821Z"
   },
   {
    "duration": 1107,
    "start_time": "2023-04-15T00:30:54.204Z"
   },
   {
    "duration": 30,
    "start_time": "2023-04-15T00:30:55.313Z"
   },
   {
    "duration": 15,
    "start_time": "2023-04-15T00:30:55.344Z"
   },
   {
    "duration": 10,
    "start_time": "2023-04-15T00:30:55.361Z"
   },
   {
    "duration": 29,
    "start_time": "2023-04-15T00:30:55.373Z"
   },
   {
    "duration": 403,
    "start_time": "2023-04-15T00:30:55.403Z"
   },
   {
    "duration": 6,
    "start_time": "2023-04-15T00:30:55.808Z"
   },
   {
    "duration": 127,
    "start_time": "2023-04-15T00:30:55.816Z"
   },
   {
    "duration": 6,
    "start_time": "2023-04-15T00:30:55.944Z"
   },
   {
    "duration": 146,
    "start_time": "2023-04-15T00:30:55.952Z"
   },
   {
    "duration": 149,
    "start_time": "2023-04-15T00:30:56.100Z"
   },
   {
    "duration": 124,
    "start_time": "2023-04-15T00:30:56.251Z"
   },
   {
    "duration": 3,
    "start_time": "2023-04-15T00:30:56.387Z"
   },
   {
    "duration": 126,
    "start_time": "2023-04-15T00:30:56.392Z"
   },
   {
    "duration": 0,
    "start_time": "2023-04-15T00:30:56.519Z"
   },
   {
    "duration": 0,
    "start_time": "2023-04-15T00:30:56.521Z"
   },
   {
    "duration": 0,
    "start_time": "2023-04-15T00:30:56.522Z"
   },
   {
    "duration": 0,
    "start_time": "2023-04-15T00:30:56.523Z"
   },
   {
    "duration": 11,
    "start_time": "2023-04-15T00:31:53.859Z"
   },
   {
    "duration": 10,
    "start_time": "2023-04-15T00:33:19.744Z"
   },
   {
    "duration": 12,
    "start_time": "2023-04-15T00:33:37.214Z"
   },
   {
    "duration": 10,
    "start_time": "2023-04-15T00:34:21.345Z"
   },
   {
    "duration": 133,
    "start_time": "2023-04-15T00:34:21.357Z"
   },
   {
    "duration": 15,
    "start_time": "2023-04-15T00:34:21.493Z"
   },
   {
    "duration": 15,
    "start_time": "2023-04-15T00:34:21.589Z"
   },
   {
    "duration": 0,
    "start_time": "2023-04-15T00:34:21.606Z"
   },
   {
    "duration": 12,
    "start_time": "2023-04-15T00:34:59.215Z"
   },
   {
    "duration": 4,
    "start_time": "2023-04-15T00:35:02.273Z"
   },
   {
    "duration": 1141,
    "start_time": "2023-04-15T00:36:00.958Z"
   },
   {
    "duration": 30,
    "start_time": "2023-04-15T00:36:02.101Z"
   },
   {
    "duration": 27,
    "start_time": "2023-04-15T00:36:02.132Z"
   },
   {
    "duration": 38,
    "start_time": "2023-04-15T00:36:02.162Z"
   },
   {
    "duration": 35,
    "start_time": "2023-04-15T00:36:02.202Z"
   },
   {
    "duration": 378,
    "start_time": "2023-04-15T00:36:02.239Z"
   },
   {
    "duration": 7,
    "start_time": "2023-04-15T00:36:02.619Z"
   },
   {
    "duration": 119,
    "start_time": "2023-04-15T00:36:02.628Z"
   },
   {
    "duration": 6,
    "start_time": "2023-04-15T00:36:02.749Z"
   },
   {
    "duration": 160,
    "start_time": "2023-04-15T00:36:02.758Z"
   },
   {
    "duration": 162,
    "start_time": "2023-04-15T00:36:02.920Z"
   },
   {
    "duration": 144,
    "start_time": "2023-04-15T00:36:03.084Z"
   },
   {
    "duration": 5,
    "start_time": "2023-04-15T00:36:03.230Z"
   },
   {
    "duration": 53,
    "start_time": "2023-04-15T00:36:03.237Z"
   },
   {
    "duration": 107,
    "start_time": "2023-04-15T00:36:03.293Z"
   },
   {
    "duration": 99,
    "start_time": "2023-04-15T00:36:03.402Z"
   },
   {
    "duration": 93,
    "start_time": "2023-04-15T00:36:03.503Z"
   },
   {
    "duration": 99,
    "start_time": "2023-04-15T00:36:03.598Z"
   }
  ],
  "kernelspec": {
   "display_name": "Python 3 (ipykernel)",
   "language": "python",
   "name": "python3"
  },
  "language_info": {
   "codemirror_mode": {
    "name": "ipython",
    "version": 3
   },
   "file_extension": ".py",
   "mimetype": "text/x-python",
   "name": "python",
   "nbconvert_exporter": "python",
   "pygments_lexer": "ipython3",
   "version": "3.11.3"
  },
  "toc": {
   "base_numbering": 1,
   "nav_menu": {},
   "number_sections": true,
   "sideBar": true,
   "skip_h1_title": true,
   "title_cell": "Содержание",
   "title_sidebar": "Contents",
   "toc_cell": true,
   "toc_position": {},
   "toc_section_display": true,
   "toc_window_display": true
  }
 },
 "nbformat": 4,
 "nbformat_minor": 2
}
