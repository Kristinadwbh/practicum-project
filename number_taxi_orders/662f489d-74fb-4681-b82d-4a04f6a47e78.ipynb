{
 "cells": [
  {
   "cell_type": "markdown",
   "metadata": {},
   "source": [
    "#  Прогнозирование заказов такси"
   ]
  },
  {
   "cell_type": "markdown",
   "metadata": {},
   "source": [
    "## Подготовка"
   ]
  },
  {
   "cell_type": "code",
   "execution_count": 1,
   "metadata": {},
   "outputs": [],
   "source": [
    "import pandas as pd\n",
    "import numpy as np\n",
    "from tqdm import tqdm\n",
    "from sklearn.model_selection import train_test_split\n",
    "from sklearn.metrics import mean_squared_error\n",
    "from statsmodels.tsa.seasonal import seasonal_decompose\n",
    "import matplotlib.pyplot as plt\n",
    "from sklearn.model_selection import TimeSeriesSplit, cross_val_score\n",
    "from lightgbm import LGBMRegressor\n",
    "from catboost import CatBoostRegressor\n",
    "from sklearn.linear_model import LinearRegression"
   ]
  },
  {
   "cell_type": "code",
   "execution_count": 24,
   "metadata": {},
   "outputs": [],
   "source": [
    "data = pd.read_csv('/datasets/taxi.csv', index_col=[0], parse_dates=[0])\n",
    "data.sort_index(inplace=True)\n",
    "data = data.resample('1H').sum()"
   ]
  },
  {
   "cell_type": "markdown",
   "metadata": {},
   "source": [
    "## Анализ"
   ]
  },
  {
   "cell_type": "code",
   "execution_count": 3,
   "metadata": {},
   "outputs": [
    {
     "data": {
      "text/html": [
       "<div>\n",
       "<style scoped>\n",
       "    .dataframe tbody tr th:only-of-type {\n",
       "        vertical-align: middle;\n",
       "    }\n",
       "\n",
       "    .dataframe tbody tr th {\n",
       "        vertical-align: top;\n",
       "    }\n",
       "\n",
       "    .dataframe thead th {\n",
       "        text-align: right;\n",
       "    }\n",
       "</style>\n",
       "<table border=\"1\" class=\"dataframe\">\n",
       "  <thead>\n",
       "    <tr style=\"text-align: right;\">\n",
       "      <th></th>\n",
       "      <th>num_orders</th>\n",
       "    </tr>\n",
       "    <tr>\n",
       "      <th>datetime</th>\n",
       "      <th></th>\n",
       "    </tr>\n",
       "  </thead>\n",
       "  <tbody>\n",
       "    <tr>\n",
       "      <th>2018-03-01 00:00:00</th>\n",
       "      <td>124</td>\n",
       "    </tr>\n",
       "    <tr>\n",
       "      <th>2018-03-01 01:00:00</th>\n",
       "      <td>85</td>\n",
       "    </tr>\n",
       "    <tr>\n",
       "      <th>2018-03-01 02:00:00</th>\n",
       "      <td>71</td>\n",
       "    </tr>\n",
       "    <tr>\n",
       "      <th>2018-03-01 03:00:00</th>\n",
       "      <td>66</td>\n",
       "    </tr>\n",
       "    <tr>\n",
       "      <th>2018-03-01 04:00:00</th>\n",
       "      <td>43</td>\n",
       "    </tr>\n",
       "    <tr>\n",
       "      <th>2018-03-01 05:00:00</th>\n",
       "      <td>6</td>\n",
       "    </tr>\n",
       "    <tr>\n",
       "      <th>2018-03-01 06:00:00</th>\n",
       "      <td>12</td>\n",
       "    </tr>\n",
       "    <tr>\n",
       "      <th>2018-03-01 07:00:00</th>\n",
       "      <td>15</td>\n",
       "    </tr>\n",
       "    <tr>\n",
       "      <th>2018-03-01 08:00:00</th>\n",
       "      <td>34</td>\n",
       "    </tr>\n",
       "    <tr>\n",
       "      <th>2018-03-01 09:00:00</th>\n",
       "      <td>69</td>\n",
       "    </tr>\n",
       "  </tbody>\n",
       "</table>\n",
       "</div>"
      ],
      "text/plain": [
       "                     num_orders\n",
       "datetime                       \n",
       "2018-03-01 00:00:00         124\n",
       "2018-03-01 01:00:00          85\n",
       "2018-03-01 02:00:00          71\n",
       "2018-03-01 03:00:00          66\n",
       "2018-03-01 04:00:00          43\n",
       "2018-03-01 05:00:00           6\n",
       "2018-03-01 06:00:00          12\n",
       "2018-03-01 07:00:00          15\n",
       "2018-03-01 08:00:00          34\n",
       "2018-03-01 09:00:00          69"
      ]
     },
     "execution_count": 3,
     "metadata": {},
     "output_type": "execute_result"
    }
   ],
   "source": [
    "data.head(10)"
   ]
  },
  {
   "cell_type": "code",
   "execution_count": 4,
   "metadata": {},
   "outputs": [
    {
     "name": "stdout",
     "output_type": "stream",
     "text": [
      "<class 'pandas.core.frame.DataFrame'>\n",
      "DatetimeIndex: 4416 entries, 2018-03-01 00:00:00 to 2018-08-31 23:00:00\n",
      "Freq: H\n",
      "Data columns (total 1 columns):\n",
      " #   Column      Non-Null Count  Dtype\n",
      "---  ------      --------------  -----\n",
      " 0   num_orders  4416 non-null   int64\n",
      "dtypes: int64(1)\n",
      "memory usage: 69.0 KB\n"
     ]
    }
   ],
   "source": [
    "data.info()"
   ]
  },
  {
   "cell_type": "code",
   "execution_count": 25,
   "metadata": {
    "scrolled": true
   },
   "outputs": [
    {
     "data": {
      "image/png": "[encoded data removed]",
      "text/plain": [
       "<Figure size 432x288 with 1 Axes>"
      ]
     },
     "metadata": {
      "needs_background": "light"
     },
     "output_type": "display_data"
    }
   ],
   "source": [
    "data.plot() \n",
    "data['num_orders'].rolling(40).mean().plot(title='График колличества заказов по часам со скользящим средним и скользящим стандартным отклонением')\n",
    "data['num_orders'].rolling(40).std().plot()\n",
    "plt.show()\n"
   ]
  },
  {
   "cell_type": "code",
   "execution_count": 26,
   "metadata": {},
   "outputs": [
    {
     "data": {
      "image/png": "[encoded data removed]",
      "text/plain": [
       "<Figure size 432x288 with 1 Axes>"
      ]
     },
     "metadata": {
      "needs_background": "light"
     },
     "output_type": "display_data"
    },
    {
     "data": {
      "image/png": "[encoded data removed]",
      "text/plain": [
       "<Figure size 432x288 with 1 Axes>"
      ]
     },
     "metadata": {
      "needs_background": "light"
     },
     "output_type": "display_data"
    },
    {
     "data": {
      "image/png": "[encoded data removed]",
      "text/plain": [
       "<Figure size 432x288 with 1 Axes>"
      ]
     },
     "metadata": {
      "needs_background": "light"
     },
     "output_type": "display_data"
    }
   ],
   "source": [
    "decomposed = seasonal_decompose(data)\n",
    "decomposed.trend.plot(title='Тренд')\n",
    "plt.show()\n",
    "decomposed.seasonal[data.iloc[[0]].index.values[0]:data.iloc[[100]].index.values[0]].plot(title='Сезонность')\n",
    "plt.show()\n",
    "decomposed.resid.plot(title='Шум')\n",
    "plt.show()\n"
   ]
  },
  {
   "cell_type": "code",
   "execution_count": 7,
   "metadata": {},
   "outputs": [],
   "source": [
    "def make_features(data, max_lag, rolling_mean_size):\n",
    "    data['year'] = data.index.year\n",
    "    data['month'] = data.index.month\n",
    "    data['day'] = data.index.day\n",
    "    data['dayofweek'] = data.index.dayofweek\n",
    "    \n",
    "    for lag in range(1, max_lag + 1):\n",
    "        data['lag_{}'.format(lag)] = data['num_orders'].shift(lag)\n",
    "\n",
    "    data['rolling_mean'] = data['num_orders'].shift().rolling(rolling_mean_size).mean()"
   ]
  },
  {
   "cell_type": "code",
   "execution_count": 8,
   "metadata": {},
   "outputs": [],
   "source": [
    "make_features(data, 168, 3)"
   ]
  },
  {
   "cell_type": "markdown",
   "metadata": {},
   "source": [
    "## Обучение"
   ]
  },
  {
   "cell_type": "code",
   "execution_count": 9,
   "metadata": {},
   "outputs": [],
   "source": [
    "train, test = train_test_split(data, shuffle=False, test_size=0.1)\n",
    "train = train.dropna()\n",
    "\n",
    "features_train = train.drop('num_orders', axis=1)\n",
    "target_train = train['num_orders']\n",
    "features_test = test.drop('num_orders', axis=1)\n",
    "target_test = test['num_orders']"
   ]
  },
  {
   "cell_type": "code",
   "execution_count": 10,
   "metadata": {},
   "outputs": [],
   "source": [
    "result = []"
   ]
  },
  {
   "cell_type": "markdown",
   "metadata": {},
   "source": [
    "**Модель линейной регрессии**"
   ]
  },
  {
   "cell_type": "code",
   "execution_count": 11,
   "metadata": {},
   "outputs": [],
   "source": [
    "model_lr = LinearRegression()\n",
    "model_lr.fit(features_train, target_train)\n",
    "prediction_train_lr = model_lr.predict(features_train)"
   ]
  },
  {
   "cell_type": "code",
   "execution_count": 12,
   "metadata": {},
   "outputs": [],
   "source": [
    "result_lr = np.sqrt(mean_squared_error(target_train, prediction_train_lr))"
   ]
  },
  {
   "cell_type": "code",
   "execution_count": 13,
   "metadata": {},
   "outputs": [],
   "source": [
    "result.append(['LinearRegression', result_lr, ''])"
   ]
  },
  {
   "cell_type": "markdown",
   "metadata": {},
   "source": [
    "**Модель CatBoostRegressor**"
   ]
  },
  {
   "cell_type": "code",
   "execution_count": 14,
   "metadata": {},
   "outputs": [],
   "source": [
    "def model_cb(l_r, it):\n",
    "    model = CatBoostRegressor(learning_rate=l_r, iterations=it, random_state=12345, verbose=0)\n",
    "    tscv = TimeSeriesSplit(n_splits=5)\n",
    "    scores = cross_val_score(estimator=model, cv=tscv, X=features_train, y=target_train, scoring='neg_mean_squared_error')\n",
    "    return 'CatBoostRegressor', np.sqrt(-np.average(scores)), f'learning_rate:{l_r}, iterations:{it}'"
   ]
  },
  {
   "cell_type": "code",
   "execution_count": 15,
   "metadata": {},
   "outputs": [],
   "source": [
    "for l_r in [0.3, 0.6, 0.9]:\n",
    "    for it in [10, 50, 70]:\n",
    "        result.append(list(model_cb(l_r, it)))\n",
    "        \n"
   ]
  },
  {
   "cell_type": "markdown",
   "metadata": {},
   "source": [
    "**Модель LGBMRegressor**"
   ]
  },
  {
   "cell_type": "code",
   "execution_count": 16,
   "metadata": {},
   "outputs": [],
   "source": [
    "def model_lgbm(m_d, l_r):\n",
    "    model = LGBMRegressor(max_depth=m_d,  learning_rate=l_r, random_state=12345)\n",
    "    tscv = TimeSeriesSplit(n_splits=5)\n",
    "    scores = cross_val_score(estimator=model, cv=tscv, X=features_train, y=target_train, scoring='neg_mean_squared_error')\n",
    "    return 'LGBMRegressor',np.sqrt(-np.average(scores)), f'max_depth:{m_d}, learning_rate:{l_r}'"
   ]
  },
  {
   "cell_type": "code",
   "execution_count": 17,
   "metadata": {},
   "outputs": [
    {
     "name": "stderr",
     "output_type": "stream",
     "text": [
      "  0%|          | 0/3 [00:00<?, ?it/s]\n",
      "  0%|          | 0/3 [00:00<?, ?it/s]\u001b[A\n",
      " 33%|███▎      | 1/3 [00:14<00:29, 14.80s/it]\u001b[A\n",
      " 67%|██████▋   | 2/3 [00:34<00:17, 17.92s/it]\u001b[A\n",
      "100%|██████████| 3/3 [00:54<00:00, 18.00s/it]\u001b[A\n",
      " 33%|███▎      | 1/3 [00:54<01:48, 54.01s/it]\n",
      "  0%|          | 0/3 [00:00<?, ?it/s]\u001b[A\n",
      " 33%|███▎      | 1/3 [00:16<00:32, 16.49s/it]\u001b[A\n",
      " 67%|██████▋   | 2/3 [00:32<00:16, 16.09s/it]\u001b[A\n",
      "100%|██████████| 3/3 [01:15<00:00, 25.23s/it]\u001b[A\n",
      " 67%|██████▋   | 2/3 [02:09<01:06, 66.76s/it]\n",
      "  0%|          | 0/3 [00:00<?, ?it/s]\u001b[A\n",
      " 33%|███▎      | 1/3 [00:16<00:32, 16.50s/it]\u001b[A\n",
      " 67%|██████▋   | 2/3 [00:33<00:16, 16.80s/it]\u001b[A\n",
      "100%|██████████| 3/3 [00:51<00:00, 17.23s/it]\u001b[A\n",
      "100%|██████████| 3/3 [03:01<00:00, 60.47s/it]\n"
     ]
    }
   ],
   "source": [
    "for m_d in tqdm([10, 40, 60]):\n",
    "    for l_r in tqdm([0.3, 0.6, 0.9]):\n",
    "            result.append(list(model_lgbm(m_d, l_r)))"
   ]
  },
  {
   "cell_type": "code",
   "execution_count": 18,
   "metadata": {},
   "outputs": [],
   "source": [
    "result_table = pd.DataFrame(result, columns=['name_model', 'RMSE', 'parameters'])"
   ]
  },
  {
   "cell_type": "code",
   "execution_count": 19,
   "metadata": {},
   "outputs": [
    {
     "data": {
      "text/html": [
       "<div>\n",
       "<style scoped>\n",
       "    .dataframe tbody tr th:only-of-type {\n",
       "        vertical-align: middle;\n",
       "    }\n",
       "\n",
       "    .dataframe tbody tr th {\n",
       "        vertical-align: top;\n",
       "    }\n",
       "\n",
       "    .dataframe thead th {\n",
       "        text-align: right;\n",
       "    }\n",
       "</style>\n",
       "<table border=\"1\" class=\"dataframe\">\n",
       "  <thead>\n",
       "    <tr style=\"text-align: right;\">\n",
       "      <th></th>\n",
       "      <th>name_model</th>\n",
       "      <th>RMSE</th>\n",
       "      <th>parameters</th>\n",
       "    </tr>\n",
       "  </thead>\n",
       "  <tbody>\n",
       "    <tr>\n",
       "      <th>0</th>\n",
       "      <td>LinearRegression</td>\n",
       "      <td>20.329911</td>\n",
       "      <td></td>\n",
       "    </tr>\n",
       "    <tr>\n",
       "      <th>2</th>\n",
       "      <td>CatBoostRegressor</td>\n",
       "      <td>23.560592</td>\n",
       "      <td>learning_rate:0.3, iterations:50</td>\n",
       "    </tr>\n",
       "    <tr>\n",
       "      <th>3</th>\n",
       "      <td>CatBoostRegressor</td>\n",
       "      <td>23.739811</td>\n",
       "      <td>learning_rate:0.3, iterations:70</td>\n",
       "    </tr>\n",
       "    <tr>\n",
       "      <th>1</th>\n",
       "      <td>CatBoostRegressor</td>\n",
       "      <td>24.156785</td>\n",
       "      <td>learning_rate:0.3, iterations:10</td>\n",
       "    </tr>\n",
       "    <tr>\n",
       "      <th>16</th>\n",
       "      <td>LGBMRegressor</td>\n",
       "      <td>24.360128</td>\n",
       "      <td>max_depth:60, learning_rate:0.3</td>\n",
       "    </tr>\n",
       "    <tr>\n",
       "      <th>13</th>\n",
       "      <td>LGBMRegressor</td>\n",
       "      <td>24.360128</td>\n",
       "      <td>max_depth:40, learning_rate:0.3</td>\n",
       "    </tr>\n",
       "    <tr>\n",
       "      <th>10</th>\n",
       "      <td>LGBMRegressor</td>\n",
       "      <td>24.548013</td>\n",
       "      <td>max_depth:10, learning_rate:0.3</td>\n",
       "    </tr>\n",
       "    <tr>\n",
       "      <th>4</th>\n",
       "      <td>CatBoostRegressor</td>\n",
       "      <td>25.217193</td>\n",
       "      <td>learning_rate:0.6, iterations:10</td>\n",
       "    </tr>\n",
       "    <tr>\n",
       "      <th>5</th>\n",
       "      <td>CatBoostRegressor</td>\n",
       "      <td>26.121874</td>\n",
       "      <td>learning_rate:0.6, iterations:50</td>\n",
       "    </tr>\n",
       "    <tr>\n",
       "      <th>6</th>\n",
       "      <td>CatBoostRegressor</td>\n",
       "      <td>26.402127</td>\n",
       "      <td>learning_rate:0.6, iterations:70</td>\n",
       "    </tr>\n",
       "    <tr>\n",
       "      <th>17</th>\n",
       "      <td>LGBMRegressor</td>\n",
       "      <td>26.404328</td>\n",
       "      <td>max_depth:60, learning_rate:0.6</td>\n",
       "    </tr>\n",
       "    <tr>\n",
       "      <th>14</th>\n",
       "      <td>LGBMRegressor</td>\n",
       "      <td>26.404328</td>\n",
       "      <td>max_depth:40, learning_rate:0.6</td>\n",
       "    </tr>\n",
       "    <tr>\n",
       "      <th>7</th>\n",
       "      <td>CatBoostRegressor</td>\n",
       "      <td>26.406705</td>\n",
       "      <td>learning_rate:0.9, iterations:10</td>\n",
       "    </tr>\n",
       "    <tr>\n",
       "      <th>11</th>\n",
       "      <td>LGBMRegressor</td>\n",
       "      <td>26.825852</td>\n",
       "      <td>max_depth:10, learning_rate:0.6</td>\n",
       "    </tr>\n",
       "    <tr>\n",
       "      <th>8</th>\n",
       "      <td>CatBoostRegressor</td>\n",
       "      <td>28.457796</td>\n",
       "      <td>learning_rate:0.9, iterations:50</td>\n",
       "    </tr>\n",
       "    <tr>\n",
       "      <th>9</th>\n",
       "      <td>CatBoostRegressor</td>\n",
       "      <td>28.738810</td>\n",
       "      <td>learning_rate:0.9, iterations:70</td>\n",
       "    </tr>\n",
       "    <tr>\n",
       "      <th>12</th>\n",
       "      <td>LGBMRegressor</td>\n",
       "      <td>30.151279</td>\n",
       "      <td>max_depth:10, learning_rate:0.9</td>\n",
       "    </tr>\n",
       "    <tr>\n",
       "      <th>15</th>\n",
       "      <td>LGBMRegressor</td>\n",
       "      <td>30.368963</td>\n",
       "      <td>max_depth:40, learning_rate:0.9</td>\n",
       "    </tr>\n",
       "    <tr>\n",
       "      <th>18</th>\n",
       "      <td>LGBMRegressor</td>\n",
       "      <td>30.368963</td>\n",
       "      <td>max_depth:60, learning_rate:0.9</td>\n",
       "    </tr>\n",
       "  </tbody>\n",
       "</table>\n",
       "</div>"
      ],
      "text/plain": [
       "           name_model       RMSE                        parameters\n",
       "0    LinearRegression  20.329911                                  \n",
       "2   CatBoostRegressor  23.560592  learning_rate:0.3, iterations:50\n",
       "3   CatBoostRegressor  23.739811  learning_rate:0.3, iterations:70\n",
       "1   CatBoostRegressor  24.156785  learning_rate:0.3, iterations:10\n",
       "16      LGBMRegressor  24.360128   max_depth:60, learning_rate:0.3\n",
       "13      LGBMRegressor  24.360128   max_depth:40, learning_rate:0.3\n",
       "10      LGBMRegressor  24.548013   max_depth:10, learning_rate:0.3\n",
       "4   CatBoostRegressor  25.217193  learning_rate:0.6, iterations:10\n",
       "5   CatBoostRegressor  26.121874  learning_rate:0.6, iterations:50\n",
       "6   CatBoostRegressor  26.402127  learning_rate:0.6, iterations:70\n",
       "17      LGBMRegressor  26.404328   max_depth:60, learning_rate:0.6\n",
       "14      LGBMRegressor  26.404328   max_depth:40, learning_rate:0.6\n",
       "7   CatBoostRegressor  26.406705  learning_rate:0.9, iterations:10\n",
       "11      LGBMRegressor  26.825852   max_depth:10, learning_rate:0.6\n",
       "8   CatBoostRegressor  28.457796  learning_rate:0.9, iterations:50\n",
       "9   CatBoostRegressor  28.738810  learning_rate:0.9, iterations:70\n",
       "12      LGBMRegressor  30.151279   max_depth:10, learning_rate:0.9\n",
       "15      LGBMRegressor  30.368963   max_depth:40, learning_rate:0.9\n",
       "18      LGBMRegressor  30.368963   max_depth:60, learning_rate:0.9"
      ]
     },
     "execution_count": 19,
     "metadata": {},
     "output_type": "execute_result"
    }
   ],
   "source": [
    "result_table.sort_values('RMSE')"
   ]
  },
  {
   "cell_type": "markdown",
   "metadata": {},
   "source": [
    "**Лучшей моделью оказалась модель LinearRegression**"
   ]
  },
  {
   "cell_type": "markdown",
   "metadata": {},
   "source": [
    "## Тестирование"
   ]
  },
  {
   "cell_type": "code",
   "execution_count": 20,
   "metadata": {},
   "outputs": [
    {
     "name": "stdout",
     "output_type": "stream",
     "text": [
      "RMSE лучшей модели на тестовой выборке: 35.503516969373194\n"
     ]
    }
   ],
   "source": [
    "model_test =  LinearRegression()\n",
    "model_test.fit(features_train, target_train)\n",
    "prediction_test = model_test.predict(features_test)\n",
    "result_test = np.sqrt(mean_squared_error(target_test, prediction_test))\n",
    "print('RMSE лучшей модели на тестовой выборке:', result_test)"
   ]
  }
 ],
 "metadata": {
  "ExecuteTimeLog": [
   {
    "duration": 58,
    "start_time": "2023-05-10T21:04:56.922Z"
   },
   {
    "duration": 414,
    "start_time": "2023-05-10T21:05:18.520Z"
   },
   {
    "duration": 212,
    "start_time": "2023-05-10T21:05:21.293Z"
   },
   {
    "duration": 45,
    "start_time": "2023-05-10T21:06:04.590Z"
   },
   {
    "duration": 17,
    "start_time": "2023-05-10T21:06:06.776Z"
   },
   {
    "duration": 53,
    "start_time": "2023-05-10T21:08:13.059Z"
   },
   {
    "duration": 9,
    "start_time": "2023-05-10T21:08:14.591Z"
   },
   {
    "duration": 50,
    "start_time": "2023-05-10T21:08:37.984Z"
   },
   {
    "duration": 9,
    "start_time": "2023-05-10T21:08:39.477Z"
   },
   {
    "duration": 57,
    "start_time": "2023-05-10T21:18:19.239Z"
   },
   {
    "duration": 10,
    "start_time": "2023-05-10T21:18:20.681Z"
   },
   {
    "duration": 1431,
    "start_time": "2023-05-10T21:18:52.867Z"
   },
   {
    "duration": 58,
    "start_time": "2023-05-10T21:21:29.777Z"
   },
   {
    "duration": 221,
    "start_time": "2023-05-10T21:21:31.514Z"
   },
   {
    "duration": 55,
    "start_time": "2023-05-10T21:27:54.760Z"
   },
   {
    "duration": 226,
    "start_time": "2023-05-10T21:27:56.365Z"
   },
   {
    "duration": 11,
    "start_time": "2023-05-10T21:28:01.433Z"
   },
   {
    "duration": 5,
    "start_time": "2023-05-10T21:30:20.779Z"
   },
   {
    "duration": 4,
    "start_time": "2023-05-10T21:32:55.863Z"
   },
   {
    "duration": 274,
    "start_time": "2023-05-10T21:38:29.357Z"
   },
   {
    "duration": 389,
    "start_time": "2023-05-11T08:19:43.310Z"
   },
   {
    "duration": 167,
    "start_time": "2023-05-11T08:19:45.325Z"
   },
   {
    "duration": 792,
    "start_time": "2023-05-11T08:19:47.280Z"
   },
   {
    "duration": 18,
    "start_time": "2023-05-11T08:20:14.495Z"
   },
   {
    "duration": 4,
    "start_time": "2023-05-11T08:20:52.741Z"
   },
   {
    "duration": 326,
    "start_time": "2023-05-11T08:23:16.017Z"
   },
   {
    "duration": 262,
    "start_time": "2023-05-11T08:23:33.499Z"
   },
   {
    "duration": 11,
    "start_time": "2023-05-11T08:23:51.209Z"
   },
   {
    "duration": 11,
    "start_time": "2023-05-11T08:24:33.983Z"
   },
   {
    "duration": 77,
    "start_time": "2023-05-11T08:25:27.860Z"
   },
   {
    "duration": 845,
    "start_time": "2023-05-11T08:26:01.419Z"
   },
   {
    "duration": 13,
    "start_time": "2023-05-11T08:26:13.697Z"
   },
   {
    "duration": 11,
    "start_time": "2023-05-11T08:26:58.219Z"
   },
   {
    "duration": 10,
    "start_time": "2023-05-11T08:27:03.167Z"
   },
   {
    "duration": 80,
    "start_time": "2023-05-11T08:30:54.809Z"
   },
   {
    "duration": 60,
    "start_time": "2023-05-11T08:32:00.842Z"
   },
   {
    "duration": 3,
    "start_time": "2023-05-11T08:32:09.605Z"
   },
   {
    "duration": 48,
    "start_time": "2023-05-11T08:32:09.610Z"
   },
   {
    "duration": 279,
    "start_time": "2023-05-11T08:32:09.660Z"
   },
   {
    "duration": 9,
    "start_time": "2023-05-11T08:32:09.941Z"
   },
   {
    "duration": 4,
    "start_time": "2023-05-11T08:32:09.952Z"
   },
   {
    "duration": 13,
    "start_time": "2023-05-11T08:32:09.957Z"
   },
   {
    "duration": 36,
    "start_time": "2023-05-11T08:32:09.971Z"
   },
   {
    "duration": 8,
    "start_time": "2023-05-11T08:32:12.049Z"
   },
   {
    "duration": 21,
    "start_time": "2023-05-11T08:32:13.883Z"
   },
   {
    "duration": 3,
    "start_time": "2023-05-11T08:33:04.497Z"
   },
   {
    "duration": 267,
    "start_time": "2023-05-11T08:34:10.643Z"
   },
   {
    "duration": 4,
    "start_time": "2023-05-11T08:34:19.047Z"
   },
   {
    "duration": 4,
    "start_time": "2023-05-11T08:34:30.859Z"
   },
   {
    "duration": 3,
    "start_time": "2023-05-11T08:39:19.719Z"
   },
   {
    "duration": 46,
    "start_time": "2023-05-11T08:39:58.288Z"
   },
   {
    "duration": 6871,
    "start_time": "2023-05-11T08:40:18.382Z"
   },
   {
    "duration": 3,
    "start_time": "2023-05-11T08:41:43.266Z"
   },
   {
    "duration": 8904,
    "start_time": "2023-05-11T08:41:44.838Z"
   },
   {
    "duration": 3,
    "start_time": "2023-05-11T08:43:27.895Z"
   },
   {
    "duration": 7184,
    "start_time": "2023-05-11T08:43:29.640Z"
   },
   {
    "duration": 3,
    "start_time": "2023-05-11T08:46:57.493Z"
   },
   {
    "duration": 822,
    "start_time": "2023-05-11T08:47:43.296Z"
   },
   {
    "duration": 4,
    "start_time": "2023-05-11T08:47:59.237Z"
   },
   {
    "duration": 7965,
    "start_time": "2023-05-11T08:48:00.832Z"
   },
   {
    "duration": 7,
    "start_time": "2023-05-11T08:48:38.346Z"
   },
   {
    "duration": 9,
    "start_time": "2023-05-11T08:48:46.257Z"
   },
   {
    "duration": 118,
    "start_time": "2023-05-11T08:48:47.686Z"
   },
   {
    "duration": 4,
    "start_time": "2023-05-11T08:48:49.461Z"
   },
   {
    "duration": 5,
    "start_time": "2023-05-11T08:48:50.802Z"
   },
   {
    "duration": 4,
    "start_time": "2023-05-11T08:48:55.373Z"
   },
   {
    "duration": 9163,
    "start_time": "2023-05-11T08:48:56.711Z"
   },
   {
    "duration": 5,
    "start_time": "2023-05-11T08:49:14.346Z"
   },
   {
    "duration": 74474,
    "start_time": "2023-05-11T08:49:15.928Z"
   },
   {
    "duration": 1634,
    "start_time": "2023-05-11T16:24:00.755Z"
   },
   {
    "duration": 273,
    "start_time": "2023-05-11T16:24:02.393Z"
   },
   {
    "duration": 860,
    "start_time": "2023-05-11T16:24:09.641Z"
   },
   {
    "duration": 24,
    "start_time": "2023-05-11T16:25:09.459Z"
   },
   {
    "duration": 4,
    "start_time": "2023-05-11T16:25:18.050Z"
   },
   {
    "duration": 89,
    "start_time": "2023-05-11T16:25:18.056Z"
   },
   {
    "duration": 13,
    "start_time": "2023-05-11T16:25:22.182Z"
   },
   {
    "duration": 15,
    "start_time": "2023-05-11T16:25:38.148Z"
   },
   {
    "duration": 5,
    "start_time": "2023-05-11T16:27:52.061Z"
   },
   {
    "duration": 72,
    "start_time": "2023-05-11T16:27:52.087Z"
   },
   {
    "duration": 26,
    "start_time": "2023-05-11T16:27:52.163Z"
   },
   {
    "duration": 46,
    "start_time": "2023-05-11T16:27:52.192Z"
   },
   {
    "duration": 12,
    "start_time": "2023-05-11T16:27:57.692Z"
   },
   {
    "duration": 497,
    "start_time": "2023-05-11T16:27:59.726Z"
   },
   {
    "duration": 14,
    "start_time": "2023-05-11T16:28:33.788Z"
   },
   {
    "duration": 6,
    "start_time": "2023-05-11T16:30:13.409Z"
   },
   {
    "duration": 25,
    "start_time": "2023-05-11T16:30:16.260Z"
   },
   {
    "duration": 5,
    "start_time": "2023-05-11T16:31:04.127Z"
   },
   {
    "duration": 8,
    "start_time": "2023-05-11T16:31:06.460Z"
   },
   {
    "duration": 12,
    "start_time": "2023-05-11T16:31:22.929Z"
   },
   {
    "duration": 147,
    "start_time": "2023-05-11T16:32:04.333Z"
   },
   {
    "duration": 6,
    "start_time": "2023-05-11T16:32:05.957Z"
   },
   {
    "duration": 4,
    "start_time": "2023-05-11T16:32:59.797Z"
   },
   {
    "duration": 4,
    "start_time": "2023-05-11T16:36:02.851Z"
   },
   {
    "duration": 5382,
    "start_time": "2023-05-11T16:36:12.732Z"
   },
   {
    "duration": 576,
    "start_time": "2023-05-11T16:36:53.660Z"
   },
   {
    "duration": 6853,
    "start_time": "2023-05-11T16:37:31.008Z"
   },
   {
    "duration": 4,
    "start_time": "2023-05-11T16:39:32.292Z"
   },
   {
    "duration": 6304,
    "start_time": "2023-05-11T16:39:33.887Z"
   },
   {
    "duration": 5,
    "start_time": "2023-05-11T16:40:54.115Z"
   },
   {
    "duration": 6502,
    "start_time": "2023-05-11T16:40:55.786Z"
   },
   {
    "duration": 4,
    "start_time": "2023-05-11T16:41:31.252Z"
   },
   {
    "duration": 190074,
    "start_time": "2023-05-11T16:41:34.451Z"
   },
   {
    "duration": 0,
    "start_time": "2023-05-11T16:44:44.527Z"
   },
   {
    "duration": 18,
    "start_time": "2023-05-11T16:44:55.977Z"
   },
   {
    "duration": 12,
    "start_time": "2023-05-11T16:44:57.505Z"
   },
   {
    "duration": 4,
    "start_time": "2023-05-11T16:44:58.716Z"
   },
   {
    "duration": 5,
    "start_time": "2023-05-11T16:44:59.809Z"
   },
   {
    "duration": 3,
    "start_time": "2023-05-11T16:45:01.844Z"
   },
   {
    "duration": 4,
    "start_time": "2023-05-11T16:46:13.718Z"
   },
   {
    "duration": 11487,
    "start_time": "2023-05-11T16:46:15.531Z"
   },
   {
    "duration": 4,
    "start_time": "2023-05-11T16:46:38.894Z"
   },
   {
    "duration": 86685,
    "start_time": "2023-05-11T16:46:41.293Z"
   },
   {
    "duration": 5,
    "start_time": "2023-05-11T16:48:25.526Z"
   },
   {
    "duration": 4,
    "start_time": "2023-05-11T16:49:00.243Z"
   },
   {
    "duration": 10129,
    "start_time": "2023-05-11T16:49:01.693Z"
   },
   {
    "duration": 4,
    "start_time": "2023-05-11T16:49:22.585Z"
   },
   {
    "duration": 68762,
    "start_time": "2023-05-11T16:49:24.730Z"
   },
   {
    "duration": 112,
    "start_time": "2023-05-11T16:50:55.332Z"
   },
   {
    "duration": 4,
    "start_time": "2023-05-11T16:51:26.464Z"
   },
   {
    "duration": 8293,
    "start_time": "2023-05-11T16:51:28.299Z"
   },
   {
    "duration": 5,
    "start_time": "2023-05-11T16:51:47.307Z"
   },
   {
    "duration": 3,
    "start_time": "2023-05-11T16:52:07.091Z"
   },
   {
    "duration": 9047,
    "start_time": "2023-05-11T16:52:08.632Z"
   },
   {
    "duration": 5,
    "start_time": "2023-05-11T16:52:19.527Z"
   },
   {
    "duration": 4,
    "start_time": "2023-05-11T16:52:38.906Z"
   },
   {
    "duration": 67,
    "start_time": "2023-05-11T16:52:38.912Z"
   },
   {
    "duration": 11,
    "start_time": "2023-05-11T16:52:38.989Z"
   },
   {
    "duration": 23,
    "start_time": "2023-05-11T16:52:39.002Z"
   },
   {
    "duration": 398,
    "start_time": "2023-05-11T16:52:39.029Z"
   },
   {
    "duration": 13,
    "start_time": "2023-05-11T16:52:39.430Z"
   },
   {
    "duration": 7,
    "start_time": "2023-05-11T16:52:39.445Z"
   },
   {
    "duration": 41,
    "start_time": "2023-05-11T16:52:39.472Z"
   },
   {
    "duration": 22,
    "start_time": "2023-05-11T16:52:39.515Z"
   },
   {
    "duration": 26,
    "start_time": "2023-05-11T16:52:39.539Z"
   },
   {
    "duration": 61,
    "start_time": "2023-05-11T16:52:39.568Z"
   },
   {
    "duration": 139,
    "start_time": "2023-05-11T16:52:39.679Z"
   },
   {
    "duration": 42,
    "start_time": "2023-05-11T16:52:39.821Z"
   },
   {
    "duration": 38,
    "start_time": "2023-05-11T16:52:39.865Z"
   },
   {
    "duration": 4,
    "start_time": "2023-05-11T16:52:42.112Z"
   },
   {
    "duration": 7061,
    "start_time": "2023-05-11T16:52:43.736Z"
   },
   {
    "duration": 7,
    "start_time": "2023-05-11T16:52:56.247Z"
   },
   {
    "duration": 4,
    "start_time": "2023-05-11T16:53:09.083Z"
   },
   {
    "duration": 58,
    "start_time": "2023-05-11T16:53:09.090Z"
   },
   {
    "duration": 8,
    "start_time": "2023-05-11T16:53:09.149Z"
   },
   {
    "duration": 25,
    "start_time": "2023-05-11T16:53:09.159Z"
   },
   {
    "duration": 358,
    "start_time": "2023-05-11T16:53:09.187Z"
   },
   {
    "duration": 8,
    "start_time": "2023-05-11T16:53:09.548Z"
   },
   {
    "duration": 25,
    "start_time": "2023-05-11T16:53:09.558Z"
   },
   {
    "duration": 21,
    "start_time": "2023-05-11T16:53:09.585Z"
   },
   {
    "duration": 12,
    "start_time": "2023-05-11T16:53:09.610Z"
   },
   {
    "duration": 3,
    "start_time": "2023-05-11T16:53:09.624Z"
   },
   {
    "duration": 50,
    "start_time": "2023-05-11T16:53:09.629Z"
   },
   {
    "duration": 110,
    "start_time": "2023-05-11T16:53:09.681Z"
   },
   {
    "duration": 9,
    "start_time": "2023-05-11T16:53:09.794Z"
   },
   {
    "duration": 6,
    "start_time": "2023-05-11T16:53:09.805Z"
   },
   {
    "duration": 4,
    "start_time": "2023-05-11T16:53:11.546Z"
   },
   {
    "duration": 7316,
    "start_time": "2023-05-11T16:53:12.831Z"
   },
   {
    "duration": 5,
    "start_time": "2023-05-11T16:53:25.923Z"
   },
   {
    "duration": 5,
    "start_time": "2023-05-11T16:54:08.251Z"
   },
   {
    "duration": 93,
    "start_time": "2023-05-11T16:54:08.258Z"
   },
   {
    "duration": 10,
    "start_time": "2023-05-11T16:54:08.353Z"
   },
   {
    "duration": 36,
    "start_time": "2023-05-11T16:54:08.366Z"
   },
   {
    "duration": 406,
    "start_time": "2023-05-11T16:54:08.405Z"
   },
   {
    "duration": 9,
    "start_time": "2023-05-11T16:54:08.813Z"
   },
   {
    "duration": 11,
    "start_time": "2023-05-11T16:54:08.823Z"
   },
   {
    "duration": 21,
    "start_time": "2023-05-11T16:54:08.836Z"
   },
   {
    "duration": 14,
    "start_time": "2023-05-11T16:54:08.880Z"
   },
   {
    "duration": 12,
    "start_time": "2023-05-11T16:54:08.896Z"
   },
   {
    "duration": 33,
    "start_time": "2023-05-11T16:54:08.910Z"
   },
   {
    "duration": 147,
    "start_time": "2023-05-11T16:54:08.944Z"
   },
   {
    "duration": 25,
    "start_time": "2023-05-11T16:54:09.093Z"
   },
   {
    "duration": 13,
    "start_time": "2023-05-11T16:54:09.121Z"
   },
   {
    "duration": 5,
    "start_time": "2023-05-11T16:54:13.139Z"
   },
   {
    "duration": 6223,
    "start_time": "2023-05-11T16:54:14.614Z"
   },
   {
    "duration": 5,
    "start_time": "2023-05-11T16:54:24.646Z"
   },
   {
    "duration": 4,
    "start_time": "2023-05-11T16:56:30.696Z"
   },
   {
    "duration": 5643,
    "start_time": "2023-05-11T16:56:32.294Z"
   },
   {
    "duration": 6,
    "start_time": "2023-05-11T16:56:43.932Z"
   },
   {
    "duration": 4,
    "start_time": "2023-05-11T16:56:52.798Z"
   },
   {
    "duration": 63,
    "start_time": "2023-05-11T16:56:52.804Z"
   },
   {
    "duration": 12,
    "start_time": "2023-05-11T16:56:52.869Z"
   },
   {
    "duration": 20,
    "start_time": "2023-05-11T16:56:52.885Z"
   },
   {
    "duration": 486,
    "start_time": "2023-05-11T16:56:52.908Z"
   },
   {
    "duration": 9,
    "start_time": "2023-05-11T16:56:53.396Z"
   },
   {
    "duration": 15,
    "start_time": "2023-05-11T16:56:53.407Z"
   },
   {
    "duration": 23,
    "start_time": "2023-05-11T16:56:53.424Z"
   },
   {
    "duration": 10,
    "start_time": "2023-05-11T16:56:53.449Z"
   },
   {
    "duration": 23,
    "start_time": "2023-05-11T16:56:53.461Z"
   },
   {
    "duration": 90,
    "start_time": "2023-05-11T16:56:53.488Z"
   },
   {
    "duration": 6,
    "start_time": "2023-05-11T16:56:53.584Z"
   },
   {
    "duration": 235,
    "start_time": "2023-05-11T16:56:53.592Z"
   },
   {
    "duration": 79,
    "start_time": "2023-05-11T16:56:53.829Z"
   },
   {
    "duration": 4,
    "start_time": "2023-05-11T16:56:57.317Z"
   },
   {
    "duration": 7042,
    "start_time": "2023-05-11T16:56:59.099Z"
   },
   {
    "duration": 6,
    "start_time": "2023-05-11T16:57:08.060Z"
   },
   {
    "duration": 4,
    "start_time": "2023-05-11T16:58:11.476Z"
   },
   {
    "duration": 257220,
    "start_time": "2023-05-11T16:58:12.955Z"
   },
   {
    "duration": 6,
    "start_time": "2023-05-11T17:04:35.124Z"
   },
   {
    "duration": 17,
    "start_time": "2023-05-11T17:04:42.120Z"
   },
   {
    "duration": 4,
    "start_time": "2023-05-11T17:05:18.917Z"
   },
   {
    "duration": 4,
    "start_time": "2023-05-11T17:05:29.446Z"
   },
   {
    "duration": 36,
    "start_time": "2023-05-11T17:06:10.993Z"
   },
   {
    "duration": 10,
    "start_time": "2023-05-11T17:08:22.883Z"
   },
   {
    "duration": 3,
    "start_time": "2023-05-11T17:08:24.285Z"
   },
   {
    "duration": 24,
    "start_time": "2023-05-11T17:08:25.819Z"
   },
   {
    "duration": 10,
    "start_time": "2023-05-11T17:08:29.569Z"
   },
   {
    "duration": 4,
    "start_time": "2023-05-11T17:08:30.825Z"
   },
   {
    "duration": 5,
    "start_time": "2023-05-11T17:08:32.250Z"
   },
   {
    "duration": 16663,
    "start_time": "2023-05-11T17:08:33.551Z"
   },
   {
    "duration": 6,
    "start_time": "2023-05-11T17:08:53.386Z"
   },
   {
    "duration": 4,
    "start_time": "2023-05-11T17:08:58.891Z"
   },
   {
    "duration": 1019802,
    "start_time": "2023-05-11T17:09:00.190Z"
   },
   {
    "duration": 7,
    "start_time": "2023-05-11T17:30:26.189Z"
   },
   {
    "duration": 32,
    "start_time": "2023-05-11T17:31:21.250Z"
   },
   {
    "duration": 55,
    "start_time": "2023-05-11T17:31:21.285Z"
   },
   {
    "duration": 9,
    "start_time": "2023-05-11T17:31:21.342Z"
   },
   {
    "duration": 41,
    "start_time": "2023-05-11T17:31:21.353Z"
   },
   {
    "duration": 345,
    "start_time": "2023-05-11T17:31:21.397Z"
   },
   {
    "duration": 524,
    "start_time": "2023-05-11T17:31:21.745Z"
   },
   {
    "duration": 0,
    "start_time": "2023-05-11T17:31:22.280Z"
   },
   {
    "duration": 0,
    "start_time": "2023-05-11T17:31:22.281Z"
   },
   {
    "duration": 0,
    "start_time": "2023-05-11T17:31:22.282Z"
   },
   {
    "duration": 0,
    "start_time": "2023-05-11T17:31:22.282Z"
   },
   {
    "duration": 0,
    "start_time": "2023-05-11T17:31:22.283Z"
   },
   {
    "duration": 0,
    "start_time": "2023-05-11T17:31:22.285Z"
   },
   {
    "duration": 0,
    "start_time": "2023-05-11T17:31:22.286Z"
   },
   {
    "duration": 0,
    "start_time": "2023-05-11T17:31:22.287Z"
   },
   {
    "duration": 884,
    "start_time": "2023-05-11T17:31:45.057Z"
   },
   {
    "duration": 646,
    "start_time": "2023-05-11T17:33:44.490Z"
   },
   {
    "duration": 309,
    "start_time": "2023-05-11T17:34:25.726Z"
   },
   {
    "duration": 273,
    "start_time": "2023-05-11T17:35:11.754Z"
   },
   {
    "duration": 65,
    "start_time": "2023-05-11T17:35:47.064Z"
   },
   {
    "duration": 51,
    "start_time": "2023-05-11T17:36:15.203Z"
   },
   {
    "duration": 269,
    "start_time": "2023-05-11T17:37:17.530Z"
   },
   {
    "duration": 5,
    "start_time": "2023-05-11T17:37:46.953Z"
   },
   {
    "duration": 6,
    "start_time": "2023-05-11T17:37:59.785Z"
   },
   {
    "duration": 7,
    "start_time": "2023-05-11T17:38:07.554Z"
   },
   {
    "duration": 5,
    "start_time": "2023-05-11T17:38:20.901Z"
   },
   {
    "duration": 6,
    "start_time": "2023-05-11T17:38:29.307Z"
   },
   {
    "duration": 978,
    "start_time": "2023-05-11T17:38:40.687Z"
   },
   {
    "duration": 6,
    "start_time": "2023-05-11T17:38:47.352Z"
   },
   {
    "duration": 11,
    "start_time": "2023-05-11T17:38:54.252Z"
   },
   {
    "duration": 7,
    "start_time": "2023-05-11T17:39:02.454Z"
   },
   {
    "duration": 6,
    "start_time": "2023-05-11T17:39:11.054Z"
   },
   {
    "duration": 18,
    "start_time": "2023-05-11T17:39:26.863Z"
   },
   {
    "duration": 6,
    "start_time": "2023-05-11T17:39:32.514Z"
   },
   {
    "duration": 6,
    "start_time": "2023-05-11T17:39:36.660Z"
   },
   {
    "duration": 6,
    "start_time": "2023-05-11T17:39:47.206Z"
   },
   {
    "duration": 6,
    "start_time": "2023-05-11T17:39:57.086Z"
   },
   {
    "duration": 434,
    "start_time": "2023-05-11T17:40:22.085Z"
   },
   {
    "duration": 12,
    "start_time": "2023-05-11T17:40:41.555Z"
   },
   {
    "duration": 6,
    "start_time": "2023-05-11T17:40:53.657Z"
   },
   {
    "duration": 602,
    "start_time": "2023-05-11T17:40:58.831Z"
   },
   {
    "duration": 17,
    "start_time": "2023-05-11T17:41:32.681Z"
   },
   {
    "duration": 6,
    "start_time": "2023-05-11T17:41:37.002Z"
   },
   {
    "duration": 12,
    "start_time": "2023-05-11T17:41:38.581Z"
   },
   {
    "duration": 11,
    "start_time": "2023-05-11T17:41:42.917Z"
   },
   {
    "duration": 2,
    "start_time": "2023-05-11T17:41:44.466Z"
   },
   {
    "duration": 18,
    "start_time": "2023-05-11T17:41:54.778Z"
   },
   {
    "duration": 4,
    "start_time": "2023-05-11T17:41:56.328Z"
   },
   {
    "duration": 3,
    "start_time": "2023-05-11T17:41:57.708Z"
   },
   {
    "duration": 92,
    "start_time": "2023-05-11T17:41:59.464Z"
   },
   {
    "duration": 4,
    "start_time": "2023-05-11T17:42:14.330Z"
   },
   {
    "duration": 19594,
    "start_time": "2023-05-11T17:42:16.707Z"
   },
   {
    "duration": 72,
    "start_time": "2023-05-11T17:43:07.522Z"
   },
   {
    "duration": 5,
    "start_time": "2023-05-11T17:43:17.439Z"
   },
   {
    "duration": 437555,
    "start_time": "2023-05-11T17:43:20.023Z"
   },
   {
    "duration": 5,
    "start_time": "2023-05-11T17:51:49.964Z"
   },
   {
    "duration": 5,
    "start_time": "2023-05-11T17:52:07.055Z"
   },
   {
    "duration": 13,
    "start_time": "2023-05-11T17:52:08.683Z"
   },
   {
    "duration": 23,
    "start_time": "2023-05-11T17:52:51.963Z"
   },
   {
    "duration": 15,
    "start_time": "2023-05-11T17:52:59.116Z"
   },
   {
    "duration": 16,
    "start_time": "2023-05-11T18:01:15.992Z"
   },
   {
    "duration": 279393,
    "start_time": "2023-05-11T18:01:32.887Z"
   },
   {
    "duration": 11,
    "start_time": "2023-05-11T18:07:59.410Z"
   },
   {
    "duration": 16414,
    "start_time": "2023-05-11T18:08:17.087Z"
   },
   {
    "duration": 1708,
    "start_time": "2023-05-11T18:08:49.755Z"
   },
   {
    "duration": 64,
    "start_time": "2023-05-11T18:08:51.465Z"
   },
   {
    "duration": 12,
    "start_time": "2023-05-11T18:08:51.531Z"
   },
   {
    "duration": 30,
    "start_time": "2023-05-11T18:08:51.545Z"
   },
   {
    "duration": 385,
    "start_time": "2023-05-11T18:08:51.580Z"
   },
   {
    "duration": 9,
    "start_time": "2023-05-11T18:08:51.968Z"
   },
   {
    "duration": 759,
    "start_time": "2023-05-11T18:08:51.979Z"
   },
   {
    "duration": 9,
    "start_time": "2023-05-11T18:08:52.739Z"
   },
   {
    "duration": 16,
    "start_time": "2023-05-11T18:08:52.750Z"
   },
   {
    "duration": 27,
    "start_time": "2023-05-11T18:08:52.771Z"
   },
   {
    "duration": 14,
    "start_time": "2023-05-11T18:08:52.800Z"
   },
   {
    "duration": 10,
    "start_time": "2023-05-11T18:08:52.817Z"
   },
   {
    "duration": 48,
    "start_time": "2023-05-11T18:08:52.829Z"
   },
   {
    "duration": 101,
    "start_time": "2023-05-11T18:08:52.884Z"
   },
   {
    "duration": 24,
    "start_time": "2023-05-11T18:08:52.986Z"
   },
   {
    "duration": 13,
    "start_time": "2023-05-11T18:08:53.012Z"
   },
   {
    "duration": 17876,
    "start_time": "2023-05-11T18:08:53.027Z"
   },
   {
    "duration": 4,
    "start_time": "2023-05-11T18:09:10.906Z"
   },
   {
    "duration": 489663,
    "start_time": "2023-05-11T18:09:10.912Z"
   },
   {
    "duration": 10,
    "start_time": "2023-05-11T18:17:20.579Z"
   },
   {
    "duration": 31,
    "start_time": "2023-05-11T18:17:20.591Z"
   },
   {
    "duration": 9376,
    "start_time": "2023-05-11T18:17:20.624Z"
   },
   {
    "duration": 18,
    "start_time": "2023-05-11T18:19:37.769Z"
   },
   {
    "duration": 13,
    "start_time": "2023-05-11T18:19:39.263Z"
   },
   {
    "duration": 3,
    "start_time": "2023-05-11T18:19:41.586Z"
   },
   {
    "duration": 91,
    "start_time": "2023-05-11T18:19:46.089Z"
   },
   {
    "duration": 4,
    "start_time": "2023-05-11T18:19:47.423Z"
   },
   {
    "duration": 3,
    "start_time": "2023-05-11T18:19:48.781Z"
   },
   {
    "duration": 6,
    "start_time": "2023-05-11T18:19:50.581Z"
   },
   {
    "duration": 23810,
    "start_time": "2023-05-11T18:19:52.260Z"
   },
   {
    "duration": 4,
    "start_time": "2023-05-11T18:20:18.847Z"
   },
   {
    "duration": 384685,
    "start_time": "2023-05-11T18:20:20.694Z"
   },
   {
    "duration": 4,
    "start_time": "2023-05-11T18:28:04.104Z"
   },
   {
    "duration": 11,
    "start_time": "2023-05-11T18:28:05.811Z"
   },
   {
    "duration": 273404,
    "start_time": "2023-05-11T18:28:31.086Z"
   },
   {
    "duration": 27,
    "start_time": "2023-05-11T18:43:29.789Z"
   },
   {
    "duration": 19,
    "start_time": "2023-05-11T18:43:34.945Z"
   },
   {
    "duration": 17,
    "start_time": "2023-05-11T18:43:34.966Z"
   },
   {
    "duration": 16,
    "start_time": "2023-05-11T18:43:34.985Z"
   },
   {
    "duration": 75,
    "start_time": "2023-05-11T18:43:35.004Z"
   },
   {
    "duration": 98,
    "start_time": "2023-05-11T18:43:35.081Z"
   },
   {
    "duration": 23,
    "start_time": "2023-05-11T18:43:35.181Z"
   },
   {
    "duration": 11,
    "start_time": "2023-05-11T18:43:35.207Z"
   },
   {
    "duration": 30009,
    "start_time": "2023-05-11T18:43:35.219Z"
   },
   {
    "duration": 5,
    "start_time": "2023-05-11T18:44:05.231Z"
   },
   {
    "duration": 1771751,
    "start_time": "2023-05-11T18:44:05.239Z"
   },
   {
    "duration": 0,
    "start_time": "2023-05-11T19:13:36.992Z"
   },
   {
    "duration": 0,
    "start_time": "2023-05-11T19:13:36.994Z"
   },
   {
    "duration": 0,
    "start_time": "2023-05-11T19:13:36.996Z"
   },
   {
    "duration": 2479533,
    "start_time": "2023-05-11T19:13:39.651Z"
   },
   {
    "duration": 7,
    "start_time": "2023-05-11T19:56:45.555Z"
   },
   {
    "duration": 5,
    "start_time": "2023-05-11T19:56:59.843Z"
   },
   {
    "duration": 8,
    "start_time": "2023-05-11T19:57:16.099Z"
   },
   {
    "duration": 4,
    "start_time": "2023-05-11T19:58:03.786Z"
   },
   {
    "duration": 9,
    "start_time": "2023-05-11T19:58:10.386Z"
   },
   {
    "duration": 85,
    "start_time": "2023-05-11T19:58:10.397Z"
   },
   {
    "duration": 10,
    "start_time": "2023-05-11T19:58:10.488Z"
   },
   {
    "duration": 15,
    "start_time": "2023-05-11T19:58:10.500Z"
   },
   {
    "duration": 368,
    "start_time": "2023-05-11T19:58:10.518Z"
   },
   {
    "duration": 735,
    "start_time": "2023-05-11T19:58:10.888Z"
   },
   {
    "duration": 4,
    "start_time": "2023-05-11T19:58:11.626Z"
   },
   {
    "duration": 54,
    "start_time": "2023-05-11T19:58:11.632Z"
   },
   {
    "duration": 15,
    "start_time": "2023-05-11T19:58:11.689Z"
   },
   {
    "duration": 12,
    "start_time": "2023-05-11T19:58:11.706Z"
   },
   {
    "duration": 75,
    "start_time": "2023-05-11T19:58:11.720Z"
   },
   {
    "duration": 24,
    "start_time": "2023-05-11T19:58:11.870Z"
   },
   {
    "duration": 9,
    "start_time": "2023-05-11T19:58:11.897Z"
   },
   {
    "duration": 19,
    "start_time": "2023-05-11T19:58:11.909Z"
   },
   {
    "duration": 4,
    "start_time": "2023-05-11T19:58:15.445Z"
   },
   {
    "duration": 3,
    "start_time": "2023-05-11T19:58:17.096Z"
   },
   {
    "duration": 5,
    "start_time": "2023-05-11T19:58:19.249Z"
   },
   {
    "duration": 10,
    "start_time": "2023-05-11T19:58:36.282Z"
   },
   {
    "duration": 4,
    "start_time": "2023-05-11T19:58:37.749Z"
   },
   {
    "duration": 5,
    "start_time": "2023-05-11T19:58:39.394Z"
   },
   {
    "duration": 4,
    "start_time": "2023-05-11T19:59:10.306Z"
   },
   {
    "duration": 3,
    "start_time": "2023-05-11T19:59:15.155Z"
   },
   {
    "duration": 5,
    "start_time": "2023-05-11T19:59:17.059Z"
   },
   {
    "duration": 5,
    "start_time": "2023-05-11T20:00:13.088Z"
   },
   {
    "duration": 3,
    "start_time": "2023-05-11T20:00:14.700Z"
   },
   {
    "duration": 5,
    "start_time": "2023-05-11T20:00:19.837Z"
   },
   {
    "duration": 5,
    "start_time": "2023-05-11T20:00:36.647Z"
   },
   {
    "duration": 102,
    "start_time": "2023-05-11T20:00:36.654Z"
   },
   {
    "duration": 10,
    "start_time": "2023-05-11T20:00:36.761Z"
   },
   {
    "duration": 35,
    "start_time": "2023-05-11T20:00:36.776Z"
   },
   {
    "duration": 323,
    "start_time": "2023-05-11T20:00:36.814Z"
   },
   {
    "duration": 603,
    "start_time": "2023-05-11T20:00:37.140Z"
   },
   {
    "duration": 5,
    "start_time": "2023-05-11T20:00:37.744Z"
   },
   {
    "duration": 51,
    "start_time": "2023-05-11T20:00:37.751Z"
   },
   {
    "duration": 16,
    "start_time": "2023-05-11T20:00:37.804Z"
   },
   {
    "duration": 3,
    "start_time": "2023-05-11T20:00:37.823Z"
   },
   {
    "duration": 249,
    "start_time": "2023-05-11T20:00:37.828Z"
   },
   {
    "duration": 16,
    "start_time": "2023-05-11T20:00:38.080Z"
   },
   {
    "duration": 96,
    "start_time": "2023-05-11T20:00:38.099Z"
   },
   {
    "duration": 14,
    "start_time": "2023-05-11T20:00:38.199Z"
   },
   {
    "duration": 3,
    "start_time": "2023-05-11T20:00:41.087Z"
   },
   {
    "duration": 3,
    "start_time": "2023-05-11T20:00:43.604Z"
   },
   {
    "duration": 6,
    "start_time": "2023-05-11T20:00:46.042Z"
   },
   {
    "duration": 5,
    "start_time": "2023-05-11T20:01:46.952Z"
   },
   {
    "duration": 3,
    "start_time": "2023-05-11T20:01:49.520Z"
   },
   {
    "duration": 14,
    "start_time": "2023-05-11T20:01:53.719Z"
   },
   {
    "duration": 612,
    "start_time": "2023-05-11T20:02:13.810Z"
   },
   {
    "duration": 6,
    "start_time": "2023-05-11T20:02:27.710Z"
   },
   {
    "duration": 3,
    "start_time": "2023-05-11T20:02:30.494Z"
   },
   {
    "duration": 613,
    "start_time": "2023-05-11T20:02:31.787Z"
   },
   {
    "duration": 5,
    "start_time": "2023-05-11T20:04:43.742Z"
   },
   {
    "duration": 9202,
    "start_time": "2023-05-11T20:04:45.721Z"
   },
   {
    "duration": 5,
    "start_time": "2023-05-11T20:04:58.112Z"
   },
   {
    "duration": 3,
    "start_time": "2023-05-11T20:05:04.604Z"
   },
   {
    "duration": 57,
    "start_time": "2023-05-11T20:05:04.609Z"
   },
   {
    "duration": 15,
    "start_time": "2023-05-11T20:05:04.668Z"
   },
   {
    "duration": 16,
    "start_time": "2023-05-11T20:05:04.686Z"
   },
   {
    "duration": 421,
    "start_time": "2023-05-11T20:05:04.704Z"
   },
   {
    "duration": 570,
    "start_time": "2023-05-11T20:05:05.127Z"
   },
   {
    "duration": 4,
    "start_time": "2023-05-11T20:05:05.699Z"
   },
   {
    "duration": 46,
    "start_time": "2023-05-11T20:05:05.704Z"
   },
   {
    "duration": 13,
    "start_time": "2023-05-11T20:05:05.752Z"
   },
   {
    "duration": 18,
    "start_time": "2023-05-11T20:05:05.766Z"
   },
   {
    "duration": 185,
    "start_time": "2023-05-11T20:05:05.787Z"
   },
   {
    "duration": 16,
    "start_time": "2023-05-11T20:05:05.976Z"
   },
   {
    "duration": 5,
    "start_time": "2023-05-11T20:05:05.994Z"
   },
   {
    "duration": 4,
    "start_time": "2023-05-11T20:05:11.188Z"
   },
   {
    "duration": 9539,
    "start_time": "2023-05-11T20:05:13.040Z"
   },
   {
    "duration": 5,
    "start_time": "2023-05-11T20:05:25.234Z"
   },
   {
    "duration": 4,
    "start_time": "2023-05-11T20:06:00.184Z"
   },
   {
    "duration": 2054475,
    "start_time": "2023-05-11T20:06:02.525Z"
   },
   {
    "duration": 5,
    "start_time": "2023-05-11T20:45:38.025Z"
   },
   {
    "duration": 10,
    "start_time": "2023-05-11T20:45:42.599Z"
   },
   {
    "duration": 293593,
    "start_time": "2023-05-11T20:46:02.886Z"
   },
   {
    "duration": 23,
    "start_time": "2023-05-11T20:51:24.525Z"
   },
   {
    "duration": 14,
    "start_time": "2023-05-11T20:51:26.697Z"
   },
   {
    "duration": 4,
    "start_time": "2023-05-11T20:51:28.219Z"
   },
   {
    "duration": 39,
    "start_time": "2023-05-11T20:51:30.041Z"
   },
   {
    "duration": 3,
    "start_time": "2023-05-11T20:51:34.106Z"
   },
   {
    "duration": 4,
    "start_time": "2023-05-11T20:51:35.925Z"
   },
   {
    "duration": 5,
    "start_time": "2023-05-11T20:51:37.785Z"
   },
   {
    "duration": 10228,
    "start_time": "2023-05-11T20:51:39.194Z"
   },
   {
    "duration": 4,
    "start_time": "2023-05-11T20:51:52.942Z"
   },
   {
    "duration": 2006860,
    "start_time": "2023-05-11T20:51:55.612Z"
   },
   {
    "duration": 4,
    "start_time": "2023-05-11T21:26:34.283Z"
   },
   {
    "duration": 12,
    "start_time": "2023-05-11T21:26:35.883Z"
   },
   {
    "duration": 15284,
    "start_time": "2023-05-11T21:26:42.293Z"
   },
   {
    "duration": 24,
    "start_time": "2023-05-11T21:27:53.483Z"
   },
   {
    "duration": 16,
    "start_time": "2023-05-11T21:27:55.688Z"
   },
   {
    "duration": 3,
    "start_time": "2023-05-11T21:27:57.500Z"
   },
   {
    "duration": 94,
    "start_time": "2023-05-11T21:28:01.983Z"
   },
   {
    "duration": 6,
    "start_time": "2023-05-11T21:28:03.582Z"
   },
   {
    "duration": 3,
    "start_time": "2023-05-11T21:28:04.983Z"
   },
   {
    "duration": 3,
    "start_time": "2023-05-11T21:28:06.592Z"
   },
   {
    "duration": 12539,
    "start_time": "2023-05-11T21:28:08.169Z"
   },
   {
    "duration": 4,
    "start_time": "2023-05-11T21:28:25.697Z"
   },
   {
    "duration": 4,
    "start_time": "2023-05-11T21:28:45.781Z"
   },
   {
    "duration": 219717,
    "start_time": "2023-05-11T21:28:47.174Z"
   },
   {
    "duration": 4,
    "start_time": "2023-05-11T21:33:59.089Z"
   },
   {
    "duration": 11,
    "start_time": "2023-05-11T21:34:00.826Z"
   },
   {
    "duration": 21158,
    "start_time": "2023-05-11T21:34:14.625Z"
   },
   {
    "duration": 19,
    "start_time": "2023-05-11T21:34:50.522Z"
   },
   {
    "duration": 12,
    "start_time": "2023-05-11T21:34:51.981Z"
   },
   {
    "duration": 3,
    "start_time": "2023-05-11T21:34:53.437Z"
   },
   {
    "duration": 152,
    "start_time": "2023-05-11T21:34:57.438Z"
   },
   {
    "duration": 5,
    "start_time": "2023-05-11T21:35:01.063Z"
   },
   {
    "duration": 3,
    "start_time": "2023-05-11T21:35:03.298Z"
   },
   {
    "duration": 3,
    "start_time": "2023-05-11T21:35:04.931Z"
   },
   {
    "duration": 11055,
    "start_time": "2023-05-11T21:35:06.450Z"
   },
   {
    "duration": 4,
    "start_time": "2023-05-11T21:35:59.726Z"
   },
   {
    "duration": 1274095,
    "start_time": "2023-05-11T21:36:11.805Z"
   },
   {
    "duration": 1652,
    "start_time": "2023-05-12T03:19:34.791Z"
   },
   {
    "duration": 136,
    "start_time": "2023-05-12T03:19:36.445Z"
   },
   {
    "duration": 10,
    "start_time": "2023-05-12T03:19:36.583Z"
   },
   {
    "duration": 38,
    "start_time": "2023-05-12T03:19:36.595Z"
   },
   {
    "duration": 309,
    "start_time": "2023-05-12T03:19:36.636Z"
   },
   {
    "duration": 653,
    "start_time": "2023-05-12T03:19:36.947Z"
   },
   {
    "duration": 10,
    "start_time": "2023-05-12T03:19:37.602Z"
   },
   {
    "duration": 49,
    "start_time": "2023-05-12T03:19:37.614Z"
   },
   {
    "duration": 17,
    "start_time": "2023-05-12T03:19:37.664Z"
   },
   {
    "duration": 12,
    "start_time": "2023-05-12T03:19:37.683Z"
   },
   {
    "duration": 200,
    "start_time": "2023-05-12T03:19:37.696Z"
   },
   {
    "duration": 7,
    "start_time": "2023-05-12T03:19:37.898Z"
   },
   {
    "duration": 88,
    "start_time": "2023-05-12T03:19:37.909Z"
   },
   {
    "duration": 18,
    "start_time": "2023-05-12T03:19:38.000Z"
   },
   {
    "duration": 11012,
    "start_time": "2023-05-12T03:19:38.020Z"
   },
   {
    "duration": 3,
    "start_time": "2023-05-12T03:19:49.034Z"
   },
   {
    "duration": 188862,
    "start_time": "2023-05-12T03:19:49.038Z"
   },
   {
    "duration": 4,
    "start_time": "2023-05-12T03:22:57.902Z"
   },
   {
    "duration": 21,
    "start_time": "2023-05-12T03:22:57.907Z"
   },
   {
    "duration": 1567,
    "start_time": "2023-05-12T03:22:57.929Z"
   },
   {
    "duration": 16598,
    "start_time": "2023-05-12T03:24:40.316Z"
   },
   {
    "duration": 4,
    "start_time": "2023-05-12T03:24:59.895Z"
   },
   {
    "duration": 11,
    "start_time": "2023-05-12T03:25:01.314Z"
   },
   {
    "duration": 1631,
    "start_time": "2023-05-12T03:25:40.766Z"
   },
   {
    "duration": 121,
    "start_time": "2023-05-12T03:38:05.525Z"
   },
   {
    "duration": 3,
    "start_time": "2023-05-12T03:38:13.078Z"
   },
   {
    "duration": 174686,
    "start_time": "2023-05-12T03:38:15.016Z"
   },
   {
    "duration": 4,
    "start_time": "2023-05-12T03:42:28.280Z"
   },
   {
    "duration": 20,
    "start_time": "2023-05-12T03:42:30.017Z"
   },
   {
    "duration": 11,
    "start_time": "2023-05-12T03:44:13.953Z"
   },
   {
    "duration": 14,
    "start_time": "2023-05-12T03:46:14.811Z"
   },
   {
    "duration": 2,
    "start_time": "2023-05-12T03:46:19.131Z"
   },
   {
    "duration": 285,
    "start_time": "2023-05-12T03:46:20.511Z"
   },
   {
    "duration": 3,
    "start_time": "2023-05-12T03:46:22.146Z"
   },
   {
    "duration": 2,
    "start_time": "2023-05-12T03:46:23.478Z"
   },
   {
    "duration": 4,
    "start_time": "2023-05-12T03:46:29.602Z"
   },
   {
    "duration": 8909,
    "start_time": "2023-05-12T03:46:31.545Z"
   },
   {
    "duration": 439315,
    "start_time": "2023-05-12T03:46:48.988Z"
   },
   {
    "duration": 5,
    "start_time": "2023-05-12T03:54:16.992Z"
   },
   {
    "duration": 10,
    "start_time": "2023-05-12T03:54:18.762Z"
   },
   {
    "duration": 11,
    "start_time": "2023-05-12T03:55:30.214Z"
   },
   {
    "duration": 47668,
    "start_time": "2023-05-12T03:57:38.150Z"
   },
   {
    "duration": 13,
    "start_time": "2023-05-12T04:02:17.408Z"
   },
   {
    "duration": 16,
    "start_time": "2023-05-12T04:02:19.707Z"
   },
   {
    "duration": 3,
    "start_time": "2023-05-12T04:02:24.281Z"
   },
   {
    "duration": 30,
    "start_time": "2023-05-12T04:02:27.174Z"
   },
   {
    "duration": 4,
    "start_time": "2023-05-12T04:02:28.590Z"
   },
   {
    "duration": 2,
    "start_time": "2023-05-12T04:02:29.859Z"
   },
   {
    "duration": 4,
    "start_time": "2023-05-12T04:02:34.071Z"
   },
   {
    "duration": 9454,
    "start_time": "2023-05-12T04:02:36.097Z"
   },
   {
    "duration": 3,
    "start_time": "2023-05-12T04:02:48.234Z"
   },
   {
    "duration": 297562,
    "start_time": "2023-05-12T04:02:50.046Z"
   },
   {
    "duration": 3,
    "start_time": "2023-05-12T04:07:58.569Z"
   },
   {
    "duration": 9,
    "start_time": "2023-05-12T04:07:59.901Z"
   },
   {
    "duration": 2905,
    "start_time": "2023-05-12T04:08:07.100Z"
   },
   {
    "duration": 59303,
    "start_time": "2023-05-12T04:08:30.793Z"
   },
   {
    "duration": 13,
    "start_time": "2023-05-12T04:09:41.004Z"
   },
   {
    "duration": 17949,
    "start_time": "2023-05-12T04:09:48.162Z"
   },
   {
    "duration": 10,
    "start_time": "2023-05-12T04:10:11.971Z"
   },
   {
    "duration": 40402,
    "start_time": "2023-05-12T04:10:30.594Z"
   },
   {
    "duration": 13,
    "start_time": "2023-05-12T04:11:50.794Z"
   },
   {
    "duration": 12,
    "start_time": "2023-05-12T04:11:54.313Z"
   },
   {
    "duration": 47058,
    "start_time": "2023-05-12T04:11:59.443Z"
   },
   {
    "duration": 15,
    "start_time": "2023-05-12T04:12:58.297Z"
   },
   {
    "duration": 11,
    "start_time": "2023-05-12T04:12:59.707Z"
   },
   {
    "duration": 29375,
    "start_time": "2023-05-12T04:13:06.126Z"
   },
   {
    "duration": 31,
    "start_time": "2023-05-12T04:15:36.135Z"
   },
   {
    "duration": 7,
    "start_time": "2023-05-12T04:22:47.770Z"
   },
   {
    "duration": 10,
    "start_time": "2023-05-12T04:22:49.472Z"
   },
   {
    "duration": 18447,
    "start_time": "2023-05-12T04:22:55.172Z"
   },
   {
    "duration": 6,
    "start_time": "2023-05-12T04:23:29.960Z"
   },
   {
    "duration": 10,
    "start_time": "2023-05-12T04:23:31.216Z"
   },
   {
    "duration": 23068,
    "start_time": "2023-05-12T04:23:46.346Z"
   },
   {
    "duration": 7,
    "start_time": "2023-05-12T04:24:22.712Z"
   },
   {
    "duration": 24214,
    "start_time": "2023-05-12T04:24:29.298Z"
   },
   {
    "duration": 7,
    "start_time": "2023-05-12T04:25:16.335Z"
   },
   {
    "duration": 6,
    "start_time": "2023-05-12T04:25:22.341Z"
   },
   {
    "duration": 16,
    "start_time": "2023-05-12T04:25:28.237Z"
   },
   {
    "duration": 24896,
    "start_time": "2023-05-12T04:25:38.419Z"
   },
   {
    "duration": 10,
    "start_time": "2023-05-12T04:26:16.564Z"
   },
   {
    "duration": 10,
    "start_time": "2023-05-12T04:26:18.969Z"
   },
   {
    "duration": 29339,
    "start_time": "2023-05-12T04:26:24.376Z"
   },
   {
    "duration": 8,
    "start_time": "2023-05-12T04:27:06.879Z"
   },
   {
    "duration": 11,
    "start_time": "2023-05-12T04:27:08.122Z"
   },
   {
    "duration": 19471,
    "start_time": "2023-05-12T04:27:13.836Z"
   },
   {
    "duration": 19,
    "start_time": "2023-05-12T04:27:51.040Z"
   },
   {
    "duration": 10,
    "start_time": "2023-05-12T04:27:53.677Z"
   },
   {
    "duration": 30666,
    "start_time": "2023-05-12T04:27:59.640Z"
   },
   {
    "duration": 8,
    "start_time": "2023-05-12T04:29:01.870Z"
   },
   {
    "duration": 10,
    "start_time": "2023-05-12T04:29:03.273Z"
   },
   {
    "duration": 19846,
    "start_time": "2023-05-12T04:29:07.950Z"
   },
   {
    "duration": 11,
    "start_time": "2023-05-12T04:29:44.568Z"
   },
   {
    "duration": 10,
    "start_time": "2023-05-12T04:29:46.258Z"
   },
   {
    "duration": 4991,
    "start_time": "2023-05-12T04:29:52.407Z"
   },
   {
    "duration": 10,
    "start_time": "2023-05-12T04:30:14.341Z"
   },
   {
    "duration": 10,
    "start_time": "2023-05-12T04:30:18.190Z"
   },
   {
    "duration": 1678,
    "start_time": "2023-05-12T04:30:23.724Z"
   },
   {
    "duration": 7,
    "start_time": "2023-05-12T04:31:28.992Z"
   },
   {
    "duration": 10,
    "start_time": "2023-05-12T04:31:31.056Z"
   },
   {
    "duration": 2053,
    "start_time": "2023-05-12T04:31:37.342Z"
   },
   {
    "duration": 3,
    "start_time": "2023-05-12T04:33:05.956Z"
   },
   {
    "duration": 48,
    "start_time": "2023-05-12T04:33:09.083Z"
   },
   {
    "duration": 4,
    "start_time": "2023-05-12T04:33:19.614Z"
   },
   {
    "duration": 10,
    "start_time": "2023-05-12T04:33:21.184Z"
   },
   {
    "duration": 9,
    "start_time": "2023-05-12T04:33:22.647Z"
   },
   {
    "duration": 925,
    "start_time": "2023-05-12T04:33:31.180Z"
   },
   {
    "duration": 9,
    "start_time": "2023-05-12T04:33:44.376Z"
   },
   {
    "duration": 9,
    "start_time": "2023-05-12T04:33:46.106Z"
   },
   {
    "duration": 1077,
    "start_time": "2023-05-12T04:33:52.118Z"
   },
   {
    "duration": 11,
    "start_time": "2023-05-12T04:34:06.266Z"
   },
   {
    "duration": 10,
    "start_time": "2023-05-12T04:34:07.859Z"
   },
   {
    "duration": 1055,
    "start_time": "2023-05-12T04:34:11.941Z"
   },
   {
    "duration": 18,
    "start_time": "2023-05-12T04:34:27.266Z"
   },
   {
    "duration": 9,
    "start_time": "2023-05-12T04:34:28.570Z"
   },
   {
    "duration": 1179,
    "start_time": "2023-05-12T04:34:34.426Z"
   },
   {
    "duration": 15,
    "start_time": "2023-05-12T04:34:56.567Z"
   },
   {
    "duration": 10,
    "start_time": "2023-05-12T04:34:58.699Z"
   },
   {
    "duration": 1352,
    "start_time": "2023-05-12T04:35:04.043Z"
   },
   {
    "duration": 12,
    "start_time": "2023-05-12T04:35:17.625Z"
   },
   {
    "duration": 9,
    "start_time": "2023-05-12T04:35:19.038Z"
   },
   {
    "duration": 1481,
    "start_time": "2023-05-12T04:35:24.715Z"
   },
   {
    "duration": 12,
    "start_time": "2023-05-12T04:35:35.999Z"
   },
   {
    "duration": 9,
    "start_time": "2023-05-12T04:35:37.542Z"
   },
   {
    "duration": 1290,
    "start_time": "2023-05-12T04:35:44.106Z"
   },
   {
    "duration": 47,
    "start_time": "2023-05-12T04:35:54.476Z"
   },
   {
    "duration": 5,
    "start_time": "2023-05-12T04:35:59.734Z"
   },
   {
    "duration": 25,
    "start_time": "2023-05-12T04:36:01.077Z"
   },
   {
    "duration": 11,
    "start_time": "2023-05-12T04:36:02.446Z"
   },
   {
    "duration": 1383,
    "start_time": "2023-05-12T04:36:08.223Z"
   },
   {
    "duration": 47,
    "start_time": "2023-05-12T04:36:19.172Z"
   },
   {
    "duration": 4,
    "start_time": "2023-05-12T04:36:26.805Z"
   },
   {
    "duration": 28,
    "start_time": "2023-05-12T04:36:31.553Z"
   },
   {
    "duration": 11,
    "start_time": "2023-05-12T04:36:33.007Z"
   },
   {
    "duration": 1160,
    "start_time": "2023-05-12T04:36:38.635Z"
   },
   {
    "duration": 47,
    "start_time": "2023-05-12T04:36:46.294Z"
   },
   {
    "duration": 3,
    "start_time": "2023-05-12T04:36:52.216Z"
   },
   {
    "duration": 4,
    "start_time": "2023-05-12T04:36:53.563Z"
   },
   {
    "duration": 22,
    "start_time": "2023-05-12T04:37:01.759Z"
   },
   {
    "duration": 10,
    "start_time": "2023-05-12T04:37:03.117Z"
   },
   {
    "duration": 976,
    "start_time": "2023-05-12T04:37:09.034Z"
   },
   {
    "duration": 47,
    "start_time": "2023-05-12T04:37:20.654Z"
   },
   {
    "duration": 23,
    "start_time": "2023-05-12T04:37:32.471Z"
   },
   {
    "duration": 12,
    "start_time": "2023-05-12T04:37:33.884Z"
   },
   {
    "duration": 1104,
    "start_time": "2023-05-12T04:37:38.996Z"
   },
   {
    "duration": 48,
    "start_time": "2023-05-12T04:37:53.051Z"
   },
   {
    "duration": 25,
    "start_time": "2023-05-12T04:38:01.907Z"
   },
   {
    "duration": 10,
    "start_time": "2023-05-12T04:38:03.432Z"
   },
   {
    "duration": 1185,
    "start_time": "2023-05-12T04:38:09.225Z"
   },
   {
    "duration": 47,
    "start_time": "2023-05-12T04:38:23.317Z"
   },
   {
    "duration": 24,
    "start_time": "2023-05-12T04:38:37.272Z"
   },
   {
    "duration": 10,
    "start_time": "2023-05-12T04:38:38.532Z"
   },
   {
    "duration": 1135,
    "start_time": "2023-05-12T04:38:43.463Z"
   },
   {
    "duration": 1246,
    "start_time": "2023-05-12T04:38:51.050Z"
   },
   {
    "duration": 47,
    "start_time": "2023-05-12T04:39:03.139Z"
   },
   {
    "duration": 23,
    "start_time": "2023-05-12T04:39:10.248Z"
   },
   {
    "duration": 10,
    "start_time": "2023-05-12T04:39:11.671Z"
   },
   {
    "duration": 1409,
    "start_time": "2023-05-12T04:39:17.493Z"
   },
   {
    "duration": 48,
    "start_time": "2023-05-12T04:39:53.908Z"
   },
   {
    "duration": 94,
    "start_time": "2023-05-12T04:40:00.384Z"
   },
   {
    "duration": 24,
    "start_time": "2023-05-12T04:40:02.218Z"
   },
   {
    "duration": 3500,
    "start_time": "2023-05-12T04:40:08.713Z"
   },
   {
    "duration": 49,
    "start_time": "2023-05-12T04:40:30.335Z"
   },
   {
    "duration": 98,
    "start_time": "2023-05-12T04:40:36.341Z"
   },
   {
    "duration": 21,
    "start_time": "2023-05-12T04:40:37.611Z"
   },
   {
    "duration": 3860,
    "start_time": "2023-05-12T04:40:43.442Z"
   },
   {
    "duration": 46,
    "start_time": "2023-05-12T04:41:13.825Z"
   },
   {
    "duration": 94,
    "start_time": "2023-05-12T04:41:19.538Z"
   },
   {
    "duration": 20,
    "start_time": "2023-05-12T04:41:20.849Z"
   },
   {
    "duration": 3947,
    "start_time": "2023-05-12T04:41:25.955Z"
   },
   {
    "duration": 50,
    "start_time": "2023-05-12T04:42:01.237Z"
   },
   {
    "duration": 92,
    "start_time": "2023-05-12T04:42:07.371Z"
   },
   {
    "duration": 19,
    "start_time": "2023-05-12T04:42:10.369Z"
   },
   {
    "duration": 3854,
    "start_time": "2023-05-12T04:42:16.348Z"
   },
   {
    "duration": 45,
    "start_time": "2023-05-12T04:42:42.825Z"
   },
   {
    "duration": 22,
    "start_time": "2023-05-12T04:42:49.210Z"
   },
   {
    "duration": 11,
    "start_time": "2023-05-12T04:42:52.251Z"
   },
   {
    "duration": 1910,
    "start_time": "2023-05-12T04:42:59.485Z"
   },
   {
    "duration": 1650,
    "start_time": "2023-05-12T04:43:39.621Z"
   },
   {
    "duration": 50,
    "start_time": "2023-05-12T04:43:41.273Z"
   },
   {
    "duration": 10,
    "start_time": "2023-05-12T04:43:41.324Z"
   },
   {
    "duration": 12,
    "start_time": "2023-05-12T04:43:41.336Z"
   },
   {
    "duration": 280,
    "start_time": "2023-05-12T04:43:41.349Z"
   },
   {
    "duration": 555,
    "start_time": "2023-05-12T04:43:41.630Z"
   },
   {
    "duration": 4,
    "start_time": "2023-05-12T04:43:42.195Z"
   },
   {
    "duration": 111,
    "start_time": "2023-05-12T04:43:42.200Z"
   },
   {
    "duration": 23,
    "start_time": "2023-05-12T04:43:42.313Z"
   },
   {
    "duration": 3,
    "start_time": "2023-05-12T04:43:42.338Z"
   },
   {
    "duration": 352,
    "start_time": "2023-05-12T04:43:42.342Z"
   },
   {
    "duration": 5,
    "start_time": "2023-05-12T04:43:42.696Z"
   },
   {
    "duration": 93,
    "start_time": "2023-05-12T04:43:42.703Z"
   },
   {
    "duration": 6,
    "start_time": "2023-05-12T04:43:42.797Z"
   },
   {
    "duration": 17437,
    "start_time": "2023-05-12T04:43:42.804Z"
   },
   {
    "duration": 4,
    "start_time": "2023-05-12T04:44:00.242Z"
   },
   {
    "duration": 113,
    "start_time": "2023-05-12T04:44:00.247Z"
   },
   {
    "duration": 0,
    "start_time": "2023-05-12T04:44:00.362Z"
   },
   {
    "duration": 0,
    "start_time": "2023-05-12T04:44:00.363Z"
   },
   {
    "duration": 0,
    "start_time": "2023-05-12T04:44:00.364Z"
   },
   {
    "duration": 10,
    "start_time": "2023-05-12T04:44:09.511Z"
   },
   {
    "duration": 9,
    "start_time": "2023-05-12T04:44:21.263Z"
   },
   {
    "duration": 4,
    "start_time": "2023-05-12T04:44:34.224Z"
   },
   {
    "duration": 35167,
    "start_time": "2023-05-12T04:44:35.531Z"
   },
   {
    "duration": 4,
    "start_time": "2023-05-12T04:45:16.804Z"
   },
   {
    "duration": 9,
    "start_time": "2023-05-12T04:45:19.374Z"
   },
   {
    "duration": 4045,
    "start_time": "2023-05-12T04:45:36.356Z"
   },
   {
    "duration": 1536,
    "start_time": "2023-05-13T11:23:05.500Z"
   },
   {
    "duration": 143,
    "start_time": "2023-05-13T11:23:07.038Z"
   },
   {
    "duration": 10,
    "start_time": "2023-05-13T11:23:07.183Z"
   },
   {
    "duration": 10,
    "start_time": "2023-05-13T11:23:07.195Z"
   },
   {
    "duration": 304,
    "start_time": "2023-05-13T11:23:07.206Z"
   },
   {
    "duration": 591,
    "start_time": "2023-05-13T11:23:07.512Z"
   },
   {
    "duration": 5,
    "start_time": "2023-05-13T11:23:08.104Z"
   },
   {
    "duration": 114,
    "start_time": "2023-05-13T11:23:08.111Z"
   },
   {
    "duration": 30,
    "start_time": "2023-05-13T11:23:08.227Z"
   },
   {
    "duration": 3,
    "start_time": "2023-05-13T11:23:08.259Z"
   },
   {
    "duration": 303,
    "start_time": "2023-05-13T11:23:08.263Z"
   },
   {
    "duration": 4,
    "start_time": "2023-05-13T11:23:08.658Z"
   },
   {
    "duration": 95,
    "start_time": "2023-05-13T11:23:08.663Z"
   },
   {
    "duration": 3,
    "start_time": "2023-05-13T11:23:11.402Z"
   },
   {
    "duration": 4,
    "start_time": "2023-05-13T11:23:17.093Z"
   },
   {
    "duration": 80985,
    "start_time": "2023-05-13T11:23:19.544Z"
   },
   {
    "duration": 6,
    "start_time": "2023-05-13T11:24:51.373Z"
   },
   {
    "duration": 4,
    "start_time": "2023-05-13T11:27:11.478Z"
   },
   {
    "duration": 4427,
    "start_time": "2023-05-13T11:27:13.158Z"
   },
   {
    "duration": 5,
    "start_time": "2023-05-13T11:27:24.112Z"
   },
   {
    "duration": 48,
    "start_time": "2023-05-13T11:27:24.119Z"
   },
   {
    "duration": 9,
    "start_time": "2023-05-13T11:27:24.170Z"
   },
   {
    "duration": 23,
    "start_time": "2023-05-13T11:27:24.181Z"
   },
   {
    "duration": 290,
    "start_time": "2023-05-13T11:27:24.207Z"
   },
   {
    "duration": 595,
    "start_time": "2023-05-13T11:27:24.499Z"
   },
   {
    "duration": 4,
    "start_time": "2023-05-13T11:27:25.095Z"
   },
   {
    "duration": 111,
    "start_time": "2023-05-13T11:27:25.101Z"
   },
   {
    "duration": 22,
    "start_time": "2023-05-13T11:27:25.214Z"
   },
   {
    "duration": 3,
    "start_time": "2023-05-13T11:27:25.238Z"
   },
   {
    "duration": 401,
    "start_time": "2023-05-13T11:27:25.257Z"
   },
   {
    "duration": 3,
    "start_time": "2023-05-13T11:27:25.662Z"
   },
   {
    "duration": 90,
    "start_time": "2023-05-13T11:27:25.667Z"
   },
   {
    "duration": 4,
    "start_time": "2023-05-13T11:27:27.613Z"
   },
   {
    "duration": 3,
    "start_time": "2023-05-13T11:27:29.102Z"
   },
   {
    "duration": 45408,
    "start_time": "2023-05-13T11:27:30.544Z"
   },
   {
    "duration": 81038,
    "start_time": "2023-05-13T11:28:45.963Z"
   },
   {
    "duration": 5,
    "start_time": "2023-05-13T11:30:11.475Z"
   },
   {
    "duration": 4,
    "start_time": "2023-05-13T11:33:12.417Z"
   },
   {
    "duration": 234224,
    "start_time": "2023-05-13T11:33:17.557Z"
   },
   {
    "duration": 4,
    "start_time": "2023-05-13T11:37:56.997Z"
   },
   {
    "duration": 11,
    "start_time": "2023-05-13T11:37:58.296Z"
   },
   {
    "duration": 11,
    "start_time": "2023-05-13T11:39:29.151Z"
   },
   {
    "duration": 1496,
    "start_time": "2023-05-13T11:39:36.566Z"
   },
   {
    "duration": 9429,
    "start_time": "2023-05-13T11:44:35.974Z"
   },
   {
    "duration": 9586,
    "start_time": "2023-05-13T11:44:57.787Z"
   },
   {
    "duration": 4,
    "start_time": "2023-05-13T11:45:17.519Z"
   },
   {
    "duration": 53,
    "start_time": "2023-05-13T11:45:17.526Z"
   },
   {
    "duration": 8,
    "start_time": "2023-05-13T11:45:17.582Z"
   },
   {
    "duration": 17,
    "start_time": "2023-05-13T11:45:17.591Z"
   },
   {
    "duration": 612,
    "start_time": "2023-05-13T11:45:23.388Z"
   },
   {
    "duration": 337,
    "start_time": "2023-05-13T11:48:39.035Z"
   },
   {
    "duration": 310,
    "start_time": "2023-05-13T11:48:54.632Z"
   },
   {
    "duration": 298,
    "start_time": "2023-05-13T11:49:27.574Z"
   },
   {
    "duration": 1408,
    "start_time": "2023-05-13T11:54:20.769Z"
   },
   {
    "duration": 48,
    "start_time": "2023-05-13T11:54:22.179Z"
   },
   {
    "duration": 9,
    "start_time": "2023-05-13T11:54:22.229Z"
   },
   {
    "duration": 10,
    "start_time": "2023-05-13T11:54:22.241Z"
   },
   {
    "duration": 309,
    "start_time": "2023-05-13T11:54:22.252Z"
   },
   {
    "duration": 648,
    "start_time": "2023-05-13T11:54:22.563Z"
   },
   {
    "duration": 5,
    "start_time": "2023-05-13T11:54:23.213Z"
   },
   {
    "duration": 131,
    "start_time": "2023-05-13T11:54:23.219Z"
   },
   {
    "duration": 25,
    "start_time": "2023-05-13T11:54:23.352Z"
   },
   {
    "duration": 3,
    "start_time": "2023-05-13T11:54:23.379Z"
   },
   {
    "duration": 182,
    "start_time": "2023-05-13T11:54:23.383Z"
   },
   {
    "duration": 91,
    "start_time": "2023-05-13T11:54:23.567Z"
   },
   {
    "duration": 5,
    "start_time": "2023-05-13T11:54:23.660Z"
   },
   {
    "duration": 97,
    "start_time": "2023-05-13T11:54:23.667Z"
   },
   {
    "duration": 81764,
    "start_time": "2023-05-13T11:54:23.766Z"
   },
   {
    "duration": 3,
    "start_time": "2023-05-13T11:55:45.532Z"
   },
   {
    "duration": 181432,
    "start_time": "2023-05-13T11:55:45.537Z"
   },
   {
    "duration": 3,
    "start_time": "2023-05-13T11:58:46.971Z"
   },
   {
    "duration": 21,
    "start_time": "2023-05-13T11:58:46.977Z"
   },
   {
    "duration": 358,
    "start_time": "2023-05-13T11:58:46.999Z"
   },
   {
    "duration": 107,
    "start_time": "2023-05-13T12:16:37.821Z"
   },
   {
    "duration": 17,
    "start_time": "2023-05-13T12:16:48.069Z"
   },
   {
    "duration": 17,
    "start_time": "2023-05-13T12:17:16.078Z"
   },
   {
    "duration": 43,
    "start_time": "2023-05-13T12:18:41.934Z"
   },
   {
    "duration": 310,
    "start_time": "2023-05-13T12:18:51.024Z"
   },
   {
    "duration": 624,
    "start_time": "2023-05-13T12:21:06.527Z"
   }
  ],
  "kernelspec": {
   "display_name": "Python 3 (ipykernel)",
   "language": "python",
   "name": "python3"
  },
  "language_info": {
   "codemirror_mode": {
    "name": "ipython",
    "version": 3
   },
   "file_extension": ".py",
   "mimetype": "text/x-python",
   "name": "python",
   "nbconvert_exporter": "python",
   "pygments_lexer": "ipython3",
   "version": "3.11.3"
  },
  "toc": {
   "base_numbering": 1,
   "nav_menu": {},
   "number_sections": true,
   "sideBar": true,
   "skip_h1_title": true,
   "title_cell": "Содержание",
   "title_sidebar": "Contents",
   "toc_cell": true,
   "toc_position": {},
   "toc_section_display": true,
   "toc_window_display": false
  }
 },
 "nbformat": 4,
 "nbformat_minor": 2
}
