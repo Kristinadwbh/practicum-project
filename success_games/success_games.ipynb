{
 "cells": [
  {
   "cell_type": "code",
   "execution_count": 1,
   "metadata": {},
   "outputs": [],
   "source": [
    "import pandas as pd\n",
    "import matplotlib.pyplot as plt\n",
    "import seaborn as sns\n",
    "from scipy import stats as st\n",
    "import numpy as np"
   ]
  },
  {
   "cell_type": "markdown",
   "metadata": {},
   "source": [
    "<div>\n",
    "    <font color=\"green\">Общая информация о данных.</font>\n",
    "</div>"
   ]
  },
  {
   "cell_type": "code",
   "execution_count": 3,
   "metadata": {},
   "outputs": [
    {
     "name": "stdout",
     "output_type": "stream",
     "text": [
      "<class 'pandas.core.frame.DataFrame'>\n",
      "RangeIndex: 16715 entries, 0 to 16714\n",
      "Data columns (total 11 columns):\n",
      " #   Column           Non-Null Count  Dtype  \n",
      "---  ------           --------------  -----  \n",
      " 0   Name             16713 non-null  object \n",
      " 1   Platform         16715 non-null  object \n",
      " 2   Year_of_Release  16446 non-null  float64\n",
      " 3   Genre            16713 non-null  object \n",
      " 4   NA_sales         16715 non-null  float64\n",
      " 5   EU_sales         16715 non-null  float64\n",
      " 6   JP_sales         16715 non-null  float64\n",
      " 7   Other_sales      16715 non-null  float64\n",
      " 8   Critic_Score     8137 non-null   float64\n",
      " 9   User_Score       10014 non-null  object \n",
      " 10  Rating           9949 non-null   object \n",
      "dtypes: float64(6), object(5)\n",
      "memory usage: 1.4+ MB\n"
     ]
    }
   ],
   "source": [
    "data.info()"
   ]
  },
  {
   "cell_type": "markdown",
   "metadata": {},
   "source": [
    "<div>\n",
    "    <font color=\"green\">Понижение регистра в названиях столбцов.</font>\n",
    "</div>"
   ]
  },
  {
   "cell_type": "code",
   "execution_count": 4,
   "metadata": {},
   "outputs": [],
   "source": [
    "data.columns = data.columns.str.lower()"
   ]
  },
  {
   "cell_type": "markdown",
   "metadata": {},
   "source": [
    "<div>\n",
    "    <font color=\"green\">Удаление строк с пропусками в название игры. Строки без названия игр могут оказаться ошибочными или дубликатами. Их мало, поэтому их удаление не сильно повлияет на результаты исследования.</font>\n",
    "</div>\n"
   ]
  },
  {
   "cell_type": "code",
   "execution_count": 5,
   "metadata": {},
   "outputs": [
    {
     "data": {
      "text/plain": [
       "0"
      ]
     },
     "execution_count": 5,
     "metadata": {},
     "output_type": "execute_result"
    }
   ],
   "source": [
    "data = data.drop(data.loc[data['name'].isna()].index)\n",
    "data['name'].isna().sum()"
   ]
  },
  {
   "cell_type": "markdown",
   "metadata": {},
   "source": [
    "<div>\n",
    "    <font color=\"green\">Аббревиатура 'tbd' в столбце оценок пользователей переводится в nan. </font>\n",
    "</div>"
   ]
  },
  {
   "cell_type": "code",
   "execution_count": 6,
   "metadata": {},
   "outputs": [],
   "source": [
    "data.loc[data['user_score']=='tbd', 'user_score'] = np.nan"
   ]
  },
  {
   "cell_type": "markdown",
   "metadata": {},
   "source": [
    "<div>\n",
    "    <font color=\"green\">\n",
    "        Замена пропусков в столбце рэйтинга ESRB на значение 'unknown'.\n",
    "    </font>\n",
    "</div>"
   ]
  },
  {
   "cell_type": "code",
   "execution_count": 7,
   "metadata": {},
   "outputs": [],
   "source": [
    "data['rating'] = data['rating'].fillna('unknown')"
   ]
  },
  {
   "cell_type": "markdown",
   "metadata": {},
   "source": [
    "<div>\n",
    "    <font color=\"green\">\n",
    "        Перевод строковых значений в столбце оценок пользователей в числовой тип.</font>\n",
    "</div>\n"
   ]
  },
  {
   "cell_type": "code",
   "execution_count": 8,
   "metadata": {},
   "outputs": [],
   "source": [
    "data['user_score'] = pd.to_numeric(data['user_score'], errors='ignore')"
   ]
  },
  {
   "cell_type": "markdown",
   "metadata": {},
   "source": [
    "<div>\n",
    "    <font color=\"green\">Замена пропусков в столбце года релиза на значение 1975. Приведение типа в целочисленный. Пропуски могли быть вызваны не полным сбором информации либо техническими проблемами.</font>\n",
    "</div>"
   ]
  },
  {
   "cell_type": "code",
   "execution_count": 9,
   "metadata": {},
   "outputs": [],
   "source": [
    "data['year_of_release'] = data['year_of_release'].fillna(1975)\n",
    "data['year_of_release'] = data['year_of_release'].astype(int)"
   ]
  },
  {
   "cell_type": "markdown",
   "metadata": {},
   "source": [
    "<div>\n",
    "    <font color=\"green\">Удаление строк с одновременными дубликатами в столбцах названия игры и платформы.\n",
    "    </font>\n",
    "</div>"
   ]
  },
  {
   "cell_type": "code",
   "execution_count": 10,
   "metadata": {},
   "outputs": [],
   "source": [
    "data = data.drop_duplicates(subset=['name', 'platform'])"
   ]
  },
  {
   "cell_type": "markdown",
   "metadata": {},
   "source": [
    "<div>\n",
    "    <font color=\"green\">Добавление в таблицу нового столбца с общими продажами по всем регионам.</font>\n",
    "</div>"
   ]
  },
  {
   "cell_type": "code",
   "execution_count": 11,
   "metadata": {
    "scrolled": true
   },
   "outputs": [
    {
     "data": {
      "text/html": [
       "<div>\n",
       "<style scoped>\n",
       "    .dataframe tbody tr th:only-of-type {\n",
       "        vertical-align: middle;\n",
       "    }\n",
       "\n",
       "    .dataframe tbody tr th {\n",
       "        vertical-align: top;\n",
       "    }\n",
       "\n",
       "    .dataframe thead th {\n",
       "        text-align: right;\n",
       "    }\n",
       "</style>\n",
       "<table border=\"1\" class=\"dataframe\">\n",
       "  <thead>\n",
       "    <tr style=\"text-align: right;\">\n",
       "      <th></th>\n",
       "      <th>name</th>\n",
       "      <th>platform</th>\n",
       "      <th>year_of_release</th>\n",
       "      <th>genre</th>\n",
       "      <th>na_sales</th>\n",
       "      <th>eu_sales</th>\n",
       "      <th>jp_sales</th>\n",
       "      <th>other_sales</th>\n",
       "      <th>critic_score</th>\n",
       "      <th>user_score</th>\n",
       "      <th>rating</th>\n",
       "      <th>gen_sales</th>\n",
       "    </tr>\n",
       "  </thead>\n",
       "  <tbody>\n",
       "    <tr>\n",
       "      <th>0</th>\n",
       "      <td>Wii Sports</td>\n",
       "      <td>Wii</td>\n",
       "      <td>2006</td>\n",
       "      <td>Sports</td>\n",
       "      <td>41.36</td>\n",
       "      <td>28.96</td>\n",
       "      <td>3.77</td>\n",
       "      <td>8.45</td>\n",
       "      <td>76.0</td>\n",
       "      <td>8.0</td>\n",
       "      <td>E</td>\n",
       "      <td>74.09</td>\n",
       "    </tr>\n",
       "    <tr>\n",
       "      <th>1</th>\n",
       "      <td>Super Mario Bros.</td>\n",
       "      <td>NES</td>\n",
       "      <td>1985</td>\n",
       "      <td>Platform</td>\n",
       "      <td>29.08</td>\n",
       "      <td>3.58</td>\n",
       "      <td>6.81</td>\n",
       "      <td>0.77</td>\n",
       "      <td>NaN</td>\n",
       "      <td>NaN</td>\n",
       "      <td>unknown</td>\n",
       "      <td>39.47</td>\n",
       "    </tr>\n",
       "    <tr>\n",
       "      <th>2</th>\n",
       "      <td>Mario Kart Wii</td>\n",
       "      <td>Wii</td>\n",
       "      <td>2008</td>\n",
       "      <td>Racing</td>\n",
       "      <td>15.68</td>\n",
       "      <td>12.76</td>\n",
       "      <td>3.79</td>\n",
       "      <td>3.29</td>\n",
       "      <td>82.0</td>\n",
       "      <td>8.3</td>\n",
       "      <td>E</td>\n",
       "      <td>32.23</td>\n",
       "    </tr>\n",
       "    <tr>\n",
       "      <th>3</th>\n",
       "      <td>Wii Sports Resort</td>\n",
       "      <td>Wii</td>\n",
       "      <td>2009</td>\n",
       "      <td>Sports</td>\n",
       "      <td>15.61</td>\n",
       "      <td>10.93</td>\n",
       "      <td>3.28</td>\n",
       "      <td>2.95</td>\n",
       "      <td>80.0</td>\n",
       "      <td>8.0</td>\n",
       "      <td>E</td>\n",
       "      <td>29.82</td>\n",
       "    </tr>\n",
       "    <tr>\n",
       "      <th>4</th>\n",
       "      <td>Pokemon Red/Pokemon Blue</td>\n",
       "      <td>GB</td>\n",
       "      <td>1996</td>\n",
       "      <td>Role-Playing</td>\n",
       "      <td>11.27</td>\n",
       "      <td>8.89</td>\n",
       "      <td>10.22</td>\n",
       "      <td>1.00</td>\n",
       "      <td>NaN</td>\n",
       "      <td>NaN</td>\n",
       "      <td>unknown</td>\n",
       "      <td>30.38</td>\n",
       "    </tr>\n",
       "  </tbody>\n",
       "</table>\n",
       "</div>"
      ],
      "text/plain": [
       "                       name platform  year_of_release         genre  na_sales  \\\n",
       "0                Wii Sports      Wii             2006        Sports     41.36   \n",
       "1         Super Mario Bros.      NES             1985      Platform     29.08   \n",
       "2            Mario Kart Wii      Wii             2008        Racing     15.68   \n",
       "3         Wii Sports Resort      Wii             2009        Sports     15.61   \n",
       "4  Pokemon Red/Pokemon Blue       GB             1996  Role-Playing     11.27   \n",
       "\n",
       "   eu_sales  jp_sales  other_sales  critic_score  user_score   rating  \\\n",
       "0     28.96      3.77         8.45          76.0         8.0        E   \n",
       "1      3.58      6.81         0.77           NaN         NaN  unknown   \n",
       "2     12.76      3.79         3.29          82.0         8.3        E   \n",
       "3     10.93      3.28         2.95          80.0         8.0        E   \n",
       "4      8.89     10.22         1.00           NaN         NaN  unknown   \n",
       "\n",
       "   gen_sales  \n",
       "0      74.09  \n",
       "1      39.47  \n",
       "2      32.23  \n",
       "3      29.82  \n",
       "4      30.38  "
      ]
     },
     "execution_count": 11,
     "metadata": {},
     "output_type": "execute_result"
    }
   ],
   "source": [
    "data['gen_sales'] = data[['na_sales', 'eu_sales', 'jp_sales']].apply(lambda x: sum(x),axis=1)\n",
    "data.head()"
   ]
  },
  {
   "cell_type": "markdown",
   "metadata": {},
   "source": [
    "<div>\n",
    "    <font color=\"green\">График распределения игр по году релиза.</font>\n",
    "</div>"
   ]
  },
  {
   "cell_type": "code",
   "execution_count": 12,
   "metadata": {},
   "outputs": [
    {
     "data": {
      "text/plain": [
       "<AxesSubplot:xlabel='index', ylabel='year_of_release'>"
      ]
     },
     "execution_count": 12,
     "metadata": {},
     "output_type": "execute_result"
    },
    {
     "data": {
      "image/png": "[encoded data removed]",
      "text/plain": [
       "<Figure size 432x288 with 1 Axes>"
      ]
     },
     "metadata": {
      "needs_background": "light"
     },
     "output_type": "display_data"
    }
   ],
   "source": [
    "sns.lineplot(x='index', y='year_of_release', data=data['year_of_release'].value_counts().reset_index())"
   ]
  },
  {
   "cell_type": "markdown",
   "metadata": {},
   "source": [
    "<div>\n",
    "    Данные скошенны влево. Частота игр до 1990 года релиза хоть и мала, но эти данные могут быть важны для исследования.\n",
    "</div>"
   ]
  },
  {
   "cell_type": "markdown",
   "metadata": {},
   "source": [
    "<div>\n",
    "    <font color=\"green\">Распределения по годам продаж игр по платформам с наибольшими продажами.</font>\n",
    "</div>"
   ]
  },
  {
   "cell_type": "code",
   "execution_count": 13,
   "metadata": {},
   "outputs": [],
   "source": [
    "platform_max = data.groupby('platform')['gen_sales'].sum().reset_index().\\\n",
    "sort_values(by='gen_sales', ascending=False).head(9)['platform'].values"
   ]
  },
  {
   "cell_type": "code",
   "execution_count": 14,
   "metadata": {
    "scrolled": false
   },
   "outputs": [
    {
     "name": "stdout",
     "output_type": "stream",
     "text": [
      "Платформа PS2\n"
     ]
    },
    {
     "data": {
      "image/png": "[encoded data removed]",
      "text/plain": [
       "<Figure size 432x288 with 1 Axes>"
      ]
     },
     "metadata": {
      "needs_background": "light"
     },
     "output_type": "display_data"
    },
    {
     "name": "stdout",
     "output_type": "stream",
     "text": [
      "Платформа X360\n"
     ]
    },
    {
     "data": {
      "image/png": "[encoded data removed]",
      "text/plain": [
       "<Figure size 432x288 with 1 Axes>"
      ]
     },
     "metadata": {
      "needs_background": "light"
     },
     "output_type": "display_data"
    },
    {
     "name": "stdout",
     "output_type": "stream",
     "text": [
      "Платформа Wii\n"
     ]
    },
    {
     "data": {
      "image/png": "[encoded data removed]",
      "text/plain": [
       "<Figure size 432x288 with 1 Axes>"
      ]
     },
     "metadata": {
      "needs_background": "light"
     },
     "output_type": "display_data"
    },
    {
     "name": "stdout",
     "output_type": "stream",
     "text": [
      "Платформа PS3\n"
     ]
    },
    {
     "data": {
      "image/png": "[encoded data removed]",
      "text/plain": [
       "<Figure size 432x288 with 1 Axes>"
      ]
     },
     "metadata": {
      "needs_background": "light"
     },
     "output_type": "display_data"
    },
    {
     "name": "stdout",
     "output_type": "stream",
     "text": [
      "Платформа DS\n"
     ]
    },
    {
     "data": {
      "image/png": "[encoded data removed]",
      "text/plain": [
       "<Figure size 432x288 with 1 Axes>"
      ]
     },
     "metadata": {
      "needs_background": "light"
     },
     "output_type": "display_data"
    },
    {
     "name": "stdout",
     "output_type": "stream",
     "text": [
      "Платформа PS\n"
     ]
    },
    {
     "data": {
      "image/png": "[encoded data removed]",
      "text/plain": [
       "<Figure size 432x288 with 1 Axes>"
      ]
     },
     "metadata": {
      "needs_background": "light"
     },
     "output_type": "display_data"
    },
    {
     "name": "stdout",
     "output_type": "stream",
     "text": [
      "Платформа GBA\n"
     ]
    },
    {
     "data": {
      "image/png": "[encoded data removed]",
      "text/plain": [
       "<Figure size 432x288 with 1 Axes>"
      ]
     },
     "metadata": {
      "needs_background": "light"
     },
     "output_type": "display_data"
    },
    {
     "name": "stdout",
     "output_type": "stream",
     "text": [
      "Платформа PS4\n"
     ]
    },
    {
     "data": {
      "image/png": "[encoded data removed]",
      "text/plain": [
       "<Figure size 432x288 with 1 Axes>"
      ]
     },
     "metadata": {
      "needs_background": "light"
     },
     "output_type": "display_data"
    },
    {
     "name": "stdout",
     "output_type": "stream",
     "text": [
      "Платформа PSP\n"
     ]
    },
    {
     "data": {
      "image/png": "[encoded data removed]",
      "text/plain": [
       "<Figure size 432x288 with 1 Axes>"
      ]
     },
     "metadata": {
      "needs_background": "light"
     },
     "output_type": "display_data"
    }
   ],
   "source": [
    "for platform in platform_max:\n",
    "    print('Платформа', platform)\n",
    "    data.loc[data['platform']==platform].hist('year_of_release', range=(1980, 2016), bins=36)\n",
    "    plt.show()"
   ]
  },
  {
   "cell_type": "markdown",
   "metadata": {},
   "source": [
    "Новые платформы появляются примерно каждые 5 лет. Хотя в 2010 году сильно прибыльных платформ не появилось.Платформы держаться на рынке около 10 лет.Актуальным периодом для исследования для прогноза на 2017 год выбран период с 2012 года."
   ]
  },
  {
   "cell_type": "markdown",
   "metadata": {},
   "source": [
    "<div>\n",
    "    <font color=\"green\">Распределение продаж игр по платформам с наибольшими продажами с 2012 года.</font>\n",
    "</div>"
   ]
  },
  {
   "cell_type": "code",
   "execution_count": 15,
   "metadata": {},
   "outputs": [
    {
     "data": {
      "image/png": "[encoded data removed]",
      "text/plain": [
       "<Figure size 1080x576 with 1 Axes>"
      ]
     },
     "metadata": {
      "needs_background": "light"
     },
     "output_type": "display_data"
    }
   ],
   "source": [
    "data_current = data.loc[data['year_of_release']>2011]\n",
    "fig1, ax1 = plt.subplots(figsize=(15, 8))\n",
    "sns.barplot(x='year_of_release',\n",
    "            y='gen_sales',\n",
    "            hue=\"platform\",\n",
    "            data=data_current,\n",
    "            ax=ax1,\n",
    "            ci=None\n",
    ")\n",
    "plt.show()"
   ]
  },
  {
   "cell_type": "markdown",
   "metadata": {},
   "source": [
    "В настоящий период по продажам лидирует PS4. DS полностью ушла с рынка. WiiU показывает некоторую стабильность, хоть и невысокую популярность, как и 3DS. В выделенный период появились PS4, XOne. Потенциально прибыльными можно выбрать PS4, XOne, WiiU, 3DS."
   ]
  },
  {
   "cell_type": "markdown",
   "metadata": {},
   "source": [
    "<div>\n",
    "    <font color=\"green\">График «ящик с усами» по глобальным продажам игр в разбивке по платформам.</font>\n",
    "</div>\n"
   ]
  },
  {
   "cell_type": "code",
   "execution_count": 16,
   "metadata": {},
   "outputs": [
    {
     "name": "stdout",
     "output_type": "stream",
     "text": [
      "PS4\n"
     ]
    },
    {
     "data": {
      "image/png": "[encoded data removed]",
      "text/plain": [
       "<Figure size 432x288 with 1 Axes>"
      ]
     },
     "metadata": {
      "needs_background": "light"
     },
     "output_type": "display_data"
    },
    {
     "name": "stdout",
     "output_type": "stream",
     "text": [
      "PS3\n"
     ]
    },
    {
     "data": {
      "image/png": "[encoded data removed]",
      "text/plain": [
       "<Figure size 432x288 with 1 Axes>"
      ]
     },
     "metadata": {
      "needs_background": "light"
     },
     "output_type": "display_data"
    },
    {
     "name": "stdout",
     "output_type": "stream",
     "text": [
      "X360\n"
     ]
    },
    {
     "data": {
      "image/png": "[encoded data removed]",
      "text/plain": [
       "<Figure size 432x288 with 1 Axes>"
      ]
     },
     "metadata": {
      "needs_background": "light"
     },
     "output_type": "display_data"
    },
    {
     "name": "stdout",
     "output_type": "stream",
     "text": [
      "3DS\n"
     ]
    },
    {
     "data": {
      "image/png": "[encoded data removed]",
      "text/plain": [
       "<Figure size 432x288 with 1 Axes>"
      ]
     },
     "metadata": {
      "needs_background": "light"
     },
     "output_type": "display_data"
    },
    {
     "name": "stdout",
     "output_type": "stream",
     "text": [
      "XOne\n"
     ]
    },
    {
     "data": {
      "image/png": "[encoded data removed]",
      "text/plain": [
       "<Figure size 432x288 with 1 Axes>"
      ]
     },
     "metadata": {
      "needs_background": "light"
     },
     "output_type": "display_data"
    }
   ],
   "source": [
    "platform_max_current = data_current.groupby('platform')['gen_sales'].sum().reset_index().\\\n",
    "sort_values(by='gen_sales', ascending=False).head()['platform'].values\n",
    "for platform in platform_max_current:\n",
    "    print(platform)\n",
    "    data_current.loc[data_current['platform']==platform, 'gen_sales'].plot(kind='box', ylim=(0,2))\n",
    "    plt.show()"
   ]
  },
  {
   "cell_type": "markdown",
   "metadata": {},
   "source": [
    "Данные по каждой платформе заметно скошенны вправо. То есть половина игр продавалась не очень хорошо. Остальная половина имеет большой разброс. У всех платформ есть игры, которые выделились на фоне остальных весьма успешными продажами. У всех платформ, кроме XOne, по 2 игры с глобальными продажами выше 10 миллионов копий. Самые продаваемые игры у X360.\n"
   ]
  },
  {
   "cell_type": "markdown",
   "metadata": {},
   "source": [
    "<div>\n",
    "    <font color=\"green\"> Корреляционная таблица и диаграммы рассеяния продаж в зависимости от оценок критиков и пользователей для PS4. </font>\n",
    "</div>"
   ]
  },
  {
   "cell_type": "code",
   "execution_count": 17,
   "metadata": {},
   "outputs": [
    {
     "data": {
      "text/html": [
       "<div>\n",
       "<style scoped>\n",
       "    .dataframe tbody tr th:only-of-type {\n",
       "        vertical-align: middle;\n",
       "    }\n",
       "\n",
       "    .dataframe tbody tr th {\n",
       "        vertical-align: top;\n",
       "    }\n",
       "\n",
       "    .dataframe thead th {\n",
       "        text-align: right;\n",
       "    }\n",
       "</style>\n",
       "<table border=\"1\" class=\"dataframe\">\n",
       "  <thead>\n",
       "    <tr style=\"text-align: right;\">\n",
       "      <th></th>\n",
       "      <th>critic_score</th>\n",
       "      <th>user_score</th>\n",
       "      <th>gen_sales</th>\n",
       "    </tr>\n",
       "  </thead>\n",
       "  <tbody>\n",
       "    <tr>\n",
       "      <th>critic_score</th>\n",
       "      <td>1.000000</td>\n",
       "      <td>0.557654</td>\n",
       "      <td>0.405887</td>\n",
       "    </tr>\n",
       "    <tr>\n",
       "      <th>user_score</th>\n",
       "      <td>0.557654</td>\n",
       "      <td>1.000000</td>\n",
       "      <td>-0.031261</td>\n",
       "    </tr>\n",
       "    <tr>\n",
       "      <th>gen_sales</th>\n",
       "      <td>0.405887</td>\n",
       "      <td>-0.031261</td>\n",
       "      <td>1.000000</td>\n",
       "    </tr>\n",
       "  </tbody>\n",
       "</table>\n",
       "</div>"
      ],
      "text/plain": [
       "              critic_score  user_score  gen_sales\n",
       "critic_score      1.000000    0.557654   0.405887\n",
       "user_score        0.557654    1.000000  -0.031261\n",
       "gen_sales         0.405887   -0.031261   1.000000"
      ]
     },
     "execution_count": 17,
     "metadata": {},
     "output_type": "execute_result"
    },
    {
     "data": {
      "image/png": "[encoded data removed]",
      "text/plain": [
       "<Figure size 432x288 with 1 Axes>"
      ]
     },
     "metadata": {
      "needs_background": "light"
     },
     "output_type": "display_data"
    },
    {
     "data": {
      "image/png": "[encoded data removed]",
      "text/plain": [
       "<Figure size 432x288 with 1 Axes>"
      ]
     },
     "metadata": {
      "needs_background": "light"
     },
     "output_type": "display_data"
    }
   ],
   "source": [
    "data_current.query('platform==\"PS4\"').plot.scatter(x='critic_score', y='gen_sales')\n",
    "data_current.query('platform==\"PS4\"').plot.scatter(x='user_score', y='gen_sales')\n",
    "data_current.query('platform==\"PS4\"').loc[:,['critic_score', 'user_score', 'gen_sales']].corr()"
   ]
  },
  {
   "cell_type": "markdown",
   "metadata": {},
   "source": [
    "Для PS4 слабая линейная зависимость продаж от оценок критиков, линейной зависимости продаж от оценок пользователей нет. В основном оценки критиков в диапазоне от 60 до 90. Для малых продаж зависимости продаж от оценок критиков не видно. Большие продажи тяготеют к высоким оценкам критиков. Оценки пользователей меньше влияют на продажи, нежели оценки критиков, так как график зависимости продаж от оценок пользователей заметно более разбросанный, чем от оценок критиков. Оценки пользователей в основном в диапазоне от 6 до 9. "
   ]
  },
  {
   "cell_type": "markdown",
   "metadata": {},
   "source": [
    "<div>\n",
    "    <font color=\"green\">\n",
    "        Корреляционные таблицы и диаграммы рассеяния продаж в зависимости от оценок критиков и пользователей для остальных популярных платформ в период с 2012 по 2016 года.\n",
    "    </font>\n",
    "</div>"
   ]
  },
  {
   "cell_type": "code",
   "execution_count": 18,
   "metadata": {},
   "outputs": [
    {
     "name": "stdout",
     "output_type": "stream",
     "text": [
      "PS3\n"
     ]
    },
    {
     "data": {
      "image/png": "[encoded data removed]",
      "text/plain": [
       "<Figure size 432x288 with 1 Axes>"
      ]
     },
     "metadata": {
      "needs_background": "light"
     },
     "output_type": "display_data"
    },
    {
     "data": {
      "image/png": "[encoded data removed]",
      "text/plain": [
       "<Figure size 432x288 with 1 Axes>"
      ]
     },
     "metadata": {
      "needs_background": "light"
     },
     "output_type": "display_data"
    },
    {
     "data": {
      "text/html": [
       "<div>\n",
       "<style scoped>\n",
       "    .dataframe tbody tr th:only-of-type {\n",
       "        vertical-align: middle;\n",
       "    }\n",
       "\n",
       "    .dataframe tbody tr th {\n",
       "        vertical-align: top;\n",
       "    }\n",
       "\n",
       "    .dataframe thead th {\n",
       "        text-align: right;\n",
       "    }\n",
       "</style>\n",
       "<table border=\"1\" class=\"dataframe\">\n",
       "  <thead>\n",
       "    <tr style=\"text-align: right;\">\n",
       "      <th></th>\n",
       "      <th>critic_score</th>\n",
       "      <th>user_score</th>\n",
       "      <th>gen_sales</th>\n",
       "    </tr>\n",
       "  </thead>\n",
       "  <tbody>\n",
       "    <tr>\n",
       "      <th>critic_score</th>\n",
       "      <td>1.000000</td>\n",
       "      <td>0.544510</td>\n",
       "      <td>0.337168</td>\n",
       "    </tr>\n",
       "    <tr>\n",
       "      <th>user_score</th>\n",
       "      <td>0.544510</td>\n",
       "      <td>1.000000</td>\n",
       "      <td>-0.006436</td>\n",
       "    </tr>\n",
       "    <tr>\n",
       "      <th>gen_sales</th>\n",
       "      <td>0.337168</td>\n",
       "      <td>-0.006436</td>\n",
       "      <td>1.000000</td>\n",
       "    </tr>\n",
       "  </tbody>\n",
       "</table>\n",
       "</div>"
      ],
      "text/plain": [
       "              critic_score  user_score  gen_sales\n",
       "critic_score      1.000000    0.544510   0.337168\n",
       "user_score        0.544510    1.000000  -0.006436\n",
       "gen_sales         0.337168   -0.006436   1.000000"
      ]
     },
     "metadata": {},
     "output_type": "display_data"
    },
    {
     "name": "stdout",
     "output_type": "stream",
     "text": [
      "X360\n"
     ]
    },
    {
     "data": {
      "image/png": "[encoded data removed]",
      "text/plain": [
       "<Figure size 432x288 with 1 Axes>"
      ]
     },
     "metadata": {
      "needs_background": "light"
     },
     "output_type": "display_data"
    },
    {
     "data": {
      "image/png": "[encoded data removed]",
      "text/plain": [
       "<Figure size 432x288 with 1 Axes>"
      ]
     },
     "metadata": {
      "needs_background": "light"
     },
     "output_type": "display_data"
    },
    {
     "data": {
      "text/html": [
       "<div>\n",
       "<style scoped>\n",
       "    .dataframe tbody tr th:only-of-type {\n",
       "        vertical-align: middle;\n",
       "    }\n",
       "\n",
       "    .dataframe tbody tr th {\n",
       "        vertical-align: top;\n",
       "    }\n",
       "\n",
       "    .dataframe thead th {\n",
       "        text-align: right;\n",
       "    }\n",
       "</style>\n",
       "<table border=\"1\" class=\"dataframe\">\n",
       "  <thead>\n",
       "    <tr style=\"text-align: right;\">\n",
       "      <th></th>\n",
       "      <th>critic_score</th>\n",
       "      <th>user_score</th>\n",
       "      <th>gen_sales</th>\n",
       "    </tr>\n",
       "  </thead>\n",
       "  <tbody>\n",
       "    <tr>\n",
       "      <th>critic_score</th>\n",
       "      <td>1.000000</td>\n",
       "      <td>0.557352</td>\n",
       "      <td>0.360260</td>\n",
       "    </tr>\n",
       "    <tr>\n",
       "      <th>user_score</th>\n",
       "      <td>0.557352</td>\n",
       "      <td>1.000000</td>\n",
       "      <td>0.006563</td>\n",
       "    </tr>\n",
       "    <tr>\n",
       "      <th>gen_sales</th>\n",
       "      <td>0.360260</td>\n",
       "      <td>0.006563</td>\n",
       "      <td>1.000000</td>\n",
       "    </tr>\n",
       "  </tbody>\n",
       "</table>\n",
       "</div>"
      ],
      "text/plain": [
       "              critic_score  user_score  gen_sales\n",
       "critic_score      1.000000    0.557352   0.360260\n",
       "user_score        0.557352    1.000000   0.006563\n",
       "gen_sales         0.360260    0.006563   1.000000"
      ]
     },
     "metadata": {},
     "output_type": "display_data"
    },
    {
     "name": "stdout",
     "output_type": "stream",
     "text": [
      "3DS\n"
     ]
    },
    {
     "data": {
      "image/png": "[encoded data removed]",
      "text/plain": [
       "<Figure size 432x288 with 1 Axes>"
      ]
     },
     "metadata": {
      "needs_background": "light"
     },
     "output_type": "display_data"
    },
    {
     "data": {
      "image/png": "[encoded data removed]",
      "text/plain": [
       "<Figure size 432x288 with 1 Axes>"
      ]
     },
     "metadata": {
      "needs_background": "light"
     },
     "output_type": "display_data"
    },
    {
     "data": {
      "text/html": [
       "<div>\n",
       "<style scoped>\n",
       "    .dataframe tbody tr th:only-of-type {\n",
       "        vertical-align: middle;\n",
       "    }\n",
       "\n",
       "    .dataframe tbody tr th {\n",
       "        vertical-align: top;\n",
       "    }\n",
       "\n",
       "    .dataframe thead th {\n",
       "        text-align: right;\n",
       "    }\n",
       "</style>\n",
       "<table border=\"1\" class=\"dataframe\">\n",
       "  <thead>\n",
       "    <tr style=\"text-align: right;\">\n",
       "      <th></th>\n",
       "      <th>critic_score</th>\n",
       "      <th>user_score</th>\n",
       "      <th>gen_sales</th>\n",
       "    </tr>\n",
       "  </thead>\n",
       "  <tbody>\n",
       "    <tr>\n",
       "      <th>critic_score</th>\n",
       "      <td>1.000000</td>\n",
       "      <td>0.722762</td>\n",
       "      <td>0.320804</td>\n",
       "    </tr>\n",
       "    <tr>\n",
       "      <th>user_score</th>\n",
       "      <td>0.722762</td>\n",
       "      <td>1.000000</td>\n",
       "      <td>0.199239</td>\n",
       "    </tr>\n",
       "    <tr>\n",
       "      <th>gen_sales</th>\n",
       "      <td>0.320804</td>\n",
       "      <td>0.199239</td>\n",
       "      <td>1.000000</td>\n",
       "    </tr>\n",
       "  </tbody>\n",
       "</table>\n",
       "</div>"
      ],
      "text/plain": [
       "              critic_score  user_score  gen_sales\n",
       "critic_score      1.000000    0.722762   0.320804\n",
       "user_score        0.722762    1.000000   0.199239\n",
       "gen_sales         0.320804    0.199239   1.000000"
      ]
     },
     "metadata": {},
     "output_type": "display_data"
    },
    {
     "name": "stdout",
     "output_type": "stream",
     "text": [
      "XOne\n"
     ]
    },
    {
     "data": {
      "image/png": "[encoded data removed]",
      "text/plain": [
       "<Figure size 432x288 with 1 Axes>"
      ]
     },
     "metadata": {
      "needs_background": "light"
     },
     "output_type": "display_data"
    },
    {
     "data": {
      "image/png": "[encoded data removed]",
      "text/plain": [
       "<Figure size 432x288 with 1 Axes>"
      ]
     },
     "metadata": {
      "needs_background": "light"
     },
     "output_type": "display_data"
    },
    {
     "data": {
      "text/html": [
       "<div>\n",
       "<style scoped>\n",
       "    .dataframe tbody tr th:only-of-type {\n",
       "        vertical-align: middle;\n",
       "    }\n",
       "\n",
       "    .dataframe tbody tr th {\n",
       "        vertical-align: top;\n",
       "    }\n",
       "\n",
       "    .dataframe thead th {\n",
       "        text-align: right;\n",
       "    }\n",
       "</style>\n",
       "<table border=\"1\" class=\"dataframe\">\n",
       "  <thead>\n",
       "    <tr style=\"text-align: right;\">\n",
       "      <th></th>\n",
       "      <th>critic_score</th>\n",
       "      <th>user_score</th>\n",
       "      <th>gen_sales</th>\n",
       "    </tr>\n",
       "  </thead>\n",
       "  <tbody>\n",
       "    <tr>\n",
       "      <th>critic_score</th>\n",
       "      <td>1.000000</td>\n",
       "      <td>0.472462</td>\n",
       "      <td>0.417206</td>\n",
       "    </tr>\n",
       "    <tr>\n",
       "      <th>user_score</th>\n",
       "      <td>0.472462</td>\n",
       "      <td>1.000000</td>\n",
       "      <td>-0.068804</td>\n",
       "    </tr>\n",
       "    <tr>\n",
       "      <th>gen_sales</th>\n",
       "      <td>0.417206</td>\n",
       "      <td>-0.068804</td>\n",
       "      <td>1.000000</td>\n",
       "    </tr>\n",
       "  </tbody>\n",
       "</table>\n",
       "</div>"
      ],
      "text/plain": [
       "              critic_score  user_score  gen_sales\n",
       "critic_score      1.000000    0.472462   0.417206\n",
       "user_score        0.472462    1.000000  -0.068804\n",
       "gen_sales         0.417206   -0.068804   1.000000"
      ]
     },
     "metadata": {},
     "output_type": "display_data"
    }
   ],
   "source": [
    "for platform in platform_max_current:\n",
    "    if platform!='PS4':\n",
    "        print(platform)\n",
    "        data_current.query('platform==@platform').plot.scatter(x='critic_score', y='gen_sales')\n",
    "        data_current.query('platform==@platform').plot.scatter(x='user_score', y='gen_sales')\n",
    "        plt.show()\n",
    "        display(data_current.query('platform==@platform').loc[:,['critic_score', 'user_score', 'gen_sales']].corr())"
   ]
  },
  {
   "cell_type": "markdown",
   "metadata": {},
   "source": [
    "Для остальных платформ результаты анализа близки к результатам анализа по платформе PS4, кроме платформы 3DS, что возможно связано с меньшим объёмом данных этой платформы по сравнению с другими платформами."
   ]
  },
  {
   "cell_type": "markdown",
   "metadata": {},
   "source": [
    "<div>\n",
    "    <font color=\"green\">Распределение игр по жанрам за актуальный период.</font>\n",
    "</div>"
   ]
  },
  {
   "cell_type": "code",
   "execution_count": 19,
   "metadata": {},
   "outputs": [
    {
     "data": {
      "text/plain": [
       "genre\n",
       "Action          1031\n",
       "Role-Playing     370\n",
       "Adventure        302\n",
       "Sports           267\n",
       "Shooter          235\n",
       "Misc             192\n",
       "Racing           114\n",
       "Fighting         109\n",
       "Platform          85\n",
       "Simulation        80\n",
       "Strategy          71\n",
       "Puzzle            28\n",
       "dtype: int64"
      ]
     },
     "execution_count": 19,
     "metadata": {},
     "output_type": "execute_result"
    }
   ],
   "source": [
    "data_current.value_counts('genre')"
   ]
  },
  {
   "cell_type": "markdown",
   "metadata": {},
   "source": [
    "<div>\n",
    "    <font color=\"green\">\n",
    "        Медианы продаж для каждого жанра.</font>\n",
    "</div>"
   ]
  },
  {
   "cell_type": "code",
   "execution_count": 20,
   "metadata": {},
   "outputs": [
    {
     "data": {
      "text/plain": [
       "genre\n",
       "Shooter         0.380\n",
       "Sports          0.220\n",
       "Platform        0.190\n",
       "Role-Playing    0.135\n",
       "Fighting        0.130\n",
       "Racing          0.130\n",
       "Misc            0.120\n",
       "Action          0.110\n",
       "Simulation      0.110\n",
       "Strategy        0.070\n",
       "Puzzle          0.040\n",
       "Adventure       0.030\n",
       "Name: gen_sales, dtype: float64"
      ]
     },
     "metadata": {},
     "output_type": "display_data"
    },
    {
     "data": {
      "text/plain": [
       "<AxesSubplot:>"
      ]
     },
     "execution_count": 20,
     "metadata": {},
     "output_type": "execute_result"
    },
    {
     "data": {
      "image/png": "[encoded data removed]",
      "text/plain": [
       "<Figure size 432x288 with 1 Axes>"
      ]
     },
     "metadata": {
      "needs_background": "light"
     },
     "output_type": "display_data"
    }
   ],
   "source": [
    "display(data_current.groupby('genre')['gen_sales'].median().sort_values(ascending=False))\n",
    "data_current.groupby('genre')['gen_sales'].median().sort_values(ascending=False).reset_index().boxplot('gen_sales')"
   ]
  },
  {
   "cell_type": "markdown",
   "metadata": {},
   "source": [
    "Жанры Shooter, Sports, Platform самые прибыльные жанры, при этом по числу игр они заметно уступают менее прибыльным жанрам, что может говорить о приоритете качества, а не колличества и о стабильности в качестве игр этих жанров. Жанр Shooter выделяется высокими продажами."
   ]
  },
  {
   "cell_type": "markdown",
   "metadata": {},
   "source": [
    "<div>\n",
    "    <font color=\"green\">Топ-5 платформ по продажам в Северной Америке, Европе и Японии.</font>\n",
    "</div>"
   ]
  },
  {
   "cell_type": "code",
   "execution_count": 21,
   "metadata": {},
   "outputs": [
    {
     "data": {
      "text/html": [
       "<div>\n",
       "<style scoped>\n",
       "    .dataframe tbody tr th:only-of-type {\n",
       "        vertical-align: middle;\n",
       "    }\n",
       "\n",
       "    .dataframe tbody tr th {\n",
       "        vertical-align: top;\n",
       "    }\n",
       "\n",
       "    .dataframe thead th {\n",
       "        text-align: right;\n",
       "    }\n",
       "</style>\n",
       "<table border=\"1\" class=\"dataframe\">\n",
       "  <thead>\n",
       "    <tr style=\"text-align: right;\">\n",
       "      <th></th>\n",
       "      <th>platform</th>\n",
       "      <th>na_sales</th>\n",
       "    </tr>\n",
       "  </thead>\n",
       "  <tbody>\n",
       "    <tr>\n",
       "      <th>0</th>\n",
       "      <td>X360</td>\n",
       "      <td>140.05</td>\n",
       "    </tr>\n",
       "    <tr>\n",
       "      <th>1</th>\n",
       "      <td>PS4</td>\n",
       "      <td>108.74</td>\n",
       "    </tr>\n",
       "    <tr>\n",
       "      <th>2</th>\n",
       "      <td>PS3</td>\n",
       "      <td>103.38</td>\n",
       "    </tr>\n",
       "    <tr>\n",
       "      <th>3</th>\n",
       "      <td>XOne</td>\n",
       "      <td>93.12</td>\n",
       "    </tr>\n",
       "    <tr>\n",
       "      <th>4</th>\n",
       "      <td>3DS</td>\n",
       "      <td>55.31</td>\n",
       "    </tr>\n",
       "  </tbody>\n",
       "</table>\n",
       "</div>"
      ],
      "text/plain": [
       "  platform  na_sales\n",
       "0     X360    140.05\n",
       "1      PS4    108.74\n",
       "2      PS3    103.38\n",
       "3     XOne     93.12\n",
       "4      3DS     55.31"
      ]
     },
     "metadata": {},
     "output_type": "display_data"
    },
    {
     "name": "stdout",
     "output_type": "stream",
     "text": [
      "Доля продаж топ-5 от всех продаж по региону NA равна 0.847081916171718\n"
     ]
    },
    {
     "data": {
      "text/html": [
       "<div>\n",
       "<style scoped>\n",
       "    .dataframe tbody tr th:only-of-type {\n",
       "        vertical-align: middle;\n",
       "    }\n",
       "\n",
       "    .dataframe tbody tr th {\n",
       "        vertical-align: top;\n",
       "    }\n",
       "\n",
       "    .dataframe thead th {\n",
       "        text-align: right;\n",
       "    }\n",
       "</style>\n",
       "<table border=\"1\" class=\"dataframe\">\n",
       "  <thead>\n",
       "    <tr style=\"text-align: right;\">\n",
       "      <th></th>\n",
       "      <th>platform</th>\n",
       "      <th>eu_sales</th>\n",
       "    </tr>\n",
       "  </thead>\n",
       "  <tbody>\n",
       "    <tr>\n",
       "      <th>0</th>\n",
       "      <td>PS4</td>\n",
       "      <td>141.09</td>\n",
       "    </tr>\n",
       "    <tr>\n",
       "      <th>1</th>\n",
       "      <td>PS3</td>\n",
       "      <td>106.85</td>\n",
       "    </tr>\n",
       "    <tr>\n",
       "      <th>2</th>\n",
       "      <td>X360</td>\n",
       "      <td>74.52</td>\n",
       "    </tr>\n",
       "    <tr>\n",
       "      <th>3</th>\n",
       "      <td>XOne</td>\n",
       "      <td>51.59</td>\n",
       "    </tr>\n",
       "    <tr>\n",
       "      <th>4</th>\n",
       "      <td>3DS</td>\n",
       "      <td>42.64</td>\n",
       "    </tr>\n",
       "  </tbody>\n",
       "</table>\n",
       "</div>"
      ],
      "text/plain": [
       "  platform  eu_sales\n",
       "0      PS4    141.09\n",
       "1      PS3    106.85\n",
       "2     X360     74.52\n",
       "3     XOne     51.59\n",
       "4      3DS     42.64"
      ]
     },
     "metadata": {},
     "output_type": "display_data"
    },
    {
     "name": "stdout",
     "output_type": "stream",
     "text": [
      "Доля продаж топ-5 от всех продаж по региону EU равна 0.8222792303897392\n"
     ]
    },
    {
     "data": {
      "text/html": [
       "<div>\n",
       "<style scoped>\n",
       "    .dataframe tbody tr th:only-of-type {\n",
       "        vertical-align: middle;\n",
       "    }\n",
       "\n",
       "    .dataframe tbody tr th {\n",
       "        vertical-align: top;\n",
       "    }\n",
       "\n",
       "    .dataframe thead th {\n",
       "        text-align: right;\n",
       "    }\n",
       "</style>\n",
       "<table border=\"1\" class=\"dataframe\">\n",
       "  <thead>\n",
       "    <tr style=\"text-align: right;\">\n",
       "      <th></th>\n",
       "      <th>platform</th>\n",
       "      <th>jp_sales</th>\n",
       "    </tr>\n",
       "  </thead>\n",
       "  <tbody>\n",
       "    <tr>\n",
       "      <th>0</th>\n",
       "      <td>3DS</td>\n",
       "      <td>87.79</td>\n",
       "    </tr>\n",
       "    <tr>\n",
       "      <th>1</th>\n",
       "      <td>PS3</td>\n",
       "      <td>35.29</td>\n",
       "    </tr>\n",
       "    <tr>\n",
       "      <th>2</th>\n",
       "      <td>PSV</td>\n",
       "      <td>21.04</td>\n",
       "    </tr>\n",
       "    <tr>\n",
       "      <th>3</th>\n",
       "      <td>PS4</td>\n",
       "      <td>15.96</td>\n",
       "    </tr>\n",
       "    <tr>\n",
       "      <th>4</th>\n",
       "      <td>WiiU</td>\n",
       "      <td>13.01</td>\n",
       "    </tr>\n",
       "  </tbody>\n",
       "</table>\n",
       "</div>"
      ],
      "text/plain": [
       "  platform  jp_sales\n",
       "0      3DS     87.79\n",
       "1      PS3     35.29\n",
       "2      PSV     21.04\n",
       "3      PS4     15.96\n",
       "4     WiiU     13.01"
      ]
     },
     "metadata": {},
     "output_type": "display_data"
    },
    {
     "name": "stdout",
     "output_type": "stream",
     "text": [
      "Доля продаж топ-5 от всех продаж по региону JP равна 0.8987953058469218\n"
     ]
    }
   ],
   "source": [
    "for name in ['na_sales', 'eu_sales', 'jp_sales']:\n",
    "    display(data_current.groupby('platform')[name].sum().reset_index().sort_values(by=name, ascending=False).head().\\\n",
    "            reset_index(drop=True))\n",
    "    print('Доля продаж топ-5 от всех продаж по региону',name[:2].upper(),'равна',  \\\n",
    "          data_current.groupby('platform')[name].sum().reset_index().sort_values(by=name, ascending=False).head()[name].sum()/\\\n",
    "    data_current[name].sum())"
   ]
  },
  {
   "cell_type": "markdown",
   "metadata": {},
   "source": [
    "По каждому региону доли продаж платформ из топ-5 от продаж по всем платформам близки между собой и находятся в диапазоне от 82% до 90%."
   ]
  },
  {
   "cell_type": "markdown",
   "metadata": {},
   "source": [
    "<div>\n",
    "    <font color=\"green\">Топ-5 жанров по продажам в Северной Америке, Европе и Японии.</font>\n",
    "</div>"
   ]
  },
  {
   "cell_type": "code",
   "execution_count": 22,
   "metadata": {},
   "outputs": [
    {
     "name": "stdout",
     "output_type": "stream",
     "text": [
      "na\n"
     ]
    },
    {
     "data": {
      "text/plain": [
       "genre\n",
       "Shooter     0.20\n",
       "Platform    0.09\n",
       "Sports      0.08\n",
       "Fighting    0.05\n",
       "Racing      0.04\n",
       "Name: na_sales, dtype: float64"
      ]
     },
     "metadata": {},
     "output_type": "display_data"
    },
    {
     "name": "stdout",
     "output_type": "stream",
     "text": [
      "eu\n"
     ]
    },
    {
     "data": {
      "text/plain": [
       "genre\n",
       "Shooter       0.17\n",
       "Racing        0.09\n",
       "Platform      0.08\n",
       "Sports        0.05\n",
       "Simulation    0.03\n",
       "Name: eu_sales, dtype: float64"
      ]
     },
     "metadata": {},
     "output_type": "display_data"
    },
    {
     "name": "stdout",
     "output_type": "stream",
     "text": [
      "jp\n"
     ]
    },
    {
     "data": {
      "text/plain": [
       "genre\n",
       "Role-Playing    0.06\n",
       "Fighting        0.03\n",
       "Misc            0.02\n",
       "Action          0.01\n",
       "Adventure       0.01\n",
       "Name: jp_sales, dtype: float64"
      ]
     },
     "metadata": {},
     "output_type": "display_data"
    }
   ],
   "source": [
    "for name in ['na_sales', 'eu_sales', 'jp_sales']:\n",
    "    print(name[:2])\n",
    "    display(data_current.groupby('genre')[name].median().sort_values(ascending=False).head())"
   ]
  },
  {
   "cell_type": "markdown",
   "metadata": {},
   "source": [
    "В NA и EU в топ-5 4 из 5 жанров совпадают, Shooter самый популярный жанр в обоих регионах. Также близки медианы продаж. Видимо такое сходство связано с тем, что большинство игр производства англоязычных стран.\n",
    "В JP по продажам лидирует жанр Role-Playing.  Продаж заметно меньше, чем в NA и EU. \n"
   ]
  },
  {
   "cell_type": "markdown",
   "metadata": {},
   "source": [
    "<div>\n",
    "    <font color=\"green\">Влияние рейтинга ESRB на продажи по регионам.</font>\n",
    "</div>"
   ]
  },
  {
   "cell_type": "code",
   "execution_count": 23,
   "metadata": {},
   "outputs": [
    {
     "name": "stdout",
     "output_type": "stream",
     "text": [
      "     index  rating\n",
      "0  unknown    1275\n",
      "1        M     498\n",
      "2        T     411\n",
      "3        E     394\n",
      "4     E10+     306\n"
     ]
    },
    {
     "data": {
      "text/html": [
       "<div>\n",
       "<style scoped>\n",
       "    .dataframe tbody tr th:only-of-type {\n",
       "        vertical-align: middle;\n",
       "    }\n",
       "\n",
       "    .dataframe tbody tr th {\n",
       "        vertical-align: top;\n",
       "    }\n",
       "\n",
       "    .dataframe thead th {\n",
       "        text-align: right;\n",
       "    }\n",
       "</style>\n",
       "<table border=\"1\" class=\"dataframe\">\n",
       "  <thead>\n",
       "    <tr style=\"text-align: right;\">\n",
       "      <th></th>\n",
       "      <th>rating</th>\n",
       "      <th>na_sales</th>\n",
       "    </tr>\n",
       "  </thead>\n",
       "  <tbody>\n",
       "    <tr>\n",
       "      <th>0</th>\n",
       "      <td>E</td>\n",
       "      <td>114.37</td>\n",
       "    </tr>\n",
       "    <tr>\n",
       "      <th>1</th>\n",
       "      <td>E10+</td>\n",
       "      <td>75.70</td>\n",
       "    </tr>\n",
       "    <tr>\n",
       "      <th>2</th>\n",
       "      <td>M</td>\n",
       "      <td>231.57</td>\n",
       "    </tr>\n",
       "    <tr>\n",
       "      <th>3</th>\n",
       "      <td>T</td>\n",
       "      <td>66.02</td>\n",
       "    </tr>\n",
       "    <tr>\n",
       "      <th>4</th>\n",
       "      <td>unknown</td>\n",
       "      <td>103.31</td>\n",
       "    </tr>\n",
       "  </tbody>\n",
       "</table>\n",
       "</div>"
      ],
      "text/plain": [
       "    rating  na_sales\n",
       "0        E    114.37\n",
       "1     E10+     75.70\n",
       "2        M    231.57\n",
       "3        T     66.02\n",
       "4  unknown    103.31"
      ]
     },
     "metadata": {},
     "output_type": "display_data"
    },
    {
     "data": {
      "text/html": [
       "<div>\n",
       "<style scoped>\n",
       "    .dataframe tbody tr th:only-of-type {\n",
       "        vertical-align: middle;\n",
       "    }\n",
       "\n",
       "    .dataframe tbody tr th {\n",
       "        vertical-align: top;\n",
       "    }\n",
       "\n",
       "    .dataframe thead th {\n",
       "        text-align: right;\n",
       "    }\n",
       "</style>\n",
       "<table border=\"1\" class=\"dataframe\">\n",
       "  <thead>\n",
       "    <tr style=\"text-align: right;\">\n",
       "      <th></th>\n",
       "      <th>rating</th>\n",
       "      <th>eu_sales</th>\n",
       "    </tr>\n",
       "  </thead>\n",
       "  <tbody>\n",
       "    <tr>\n",
       "      <th>0</th>\n",
       "      <td>E</td>\n",
       "      <td>113.02</td>\n",
       "    </tr>\n",
       "    <tr>\n",
       "      <th>1</th>\n",
       "      <td>E10+</td>\n",
       "      <td>55.37</td>\n",
       "    </tr>\n",
       "    <tr>\n",
       "      <th>2</th>\n",
       "      <td>M</td>\n",
       "      <td>193.96</td>\n",
       "    </tr>\n",
       "    <tr>\n",
       "      <th>3</th>\n",
       "      <td>T</td>\n",
       "      <td>52.90</td>\n",
       "    </tr>\n",
       "    <tr>\n",
       "      <th>4</th>\n",
       "      <td>unknown</td>\n",
       "      <td>91.50</td>\n",
       "    </tr>\n",
       "  </tbody>\n",
       "</table>\n",
       "</div>"
      ],
      "text/plain": [
       "    rating  eu_sales\n",
       "0        E    113.02\n",
       "1     E10+     55.37\n",
       "2        M    193.96\n",
       "3        T     52.90\n",
       "4  unknown     91.50"
      ]
     },
     "metadata": {},
     "output_type": "display_data"
    },
    {
     "data": {
      "text/html": [
       "<div>\n",
       "<style scoped>\n",
       "    .dataframe tbody tr th:only-of-type {\n",
       "        vertical-align: middle;\n",
       "    }\n",
       "\n",
       "    .dataframe tbody tr th {\n",
       "        vertical-align: top;\n",
       "    }\n",
       "\n",
       "    .dataframe thead th {\n",
       "        text-align: right;\n",
       "    }\n",
       "</style>\n",
       "<table border=\"1\" class=\"dataframe\">\n",
       "  <thead>\n",
       "    <tr style=\"text-align: right;\">\n",
       "      <th></th>\n",
       "      <th>rating</th>\n",
       "      <th>jp_sales</th>\n",
       "    </tr>\n",
       "  </thead>\n",
       "  <tbody>\n",
       "    <tr>\n",
       "      <th>0</th>\n",
       "      <td>E</td>\n",
       "      <td>28.33</td>\n",
       "    </tr>\n",
       "    <tr>\n",
       "      <th>1</th>\n",
       "      <td>E10+</td>\n",
       "      <td>8.19</td>\n",
       "    </tr>\n",
       "    <tr>\n",
       "      <th>2</th>\n",
       "      <td>M</td>\n",
       "      <td>21.20</td>\n",
       "    </tr>\n",
       "    <tr>\n",
       "      <th>3</th>\n",
       "      <td>T</td>\n",
       "      <td>26.02</td>\n",
       "    </tr>\n",
       "    <tr>\n",
       "      <th>4</th>\n",
       "      <td>unknown</td>\n",
       "      <td>108.84</td>\n",
       "    </tr>\n",
       "  </tbody>\n",
       "</table>\n",
       "</div>"
      ],
      "text/plain": [
       "    rating  jp_sales\n",
       "0        E     28.33\n",
       "1     E10+      8.19\n",
       "2        M     21.20\n",
       "3        T     26.02\n",
       "4  unknown    108.84"
      ]
     },
     "metadata": {},
     "output_type": "display_data"
    }
   ],
   "source": [
    "v = data_current['rating'].value_counts().reset_index()\n",
    "print(v)\n",
    "for name in ['na_sales', 'eu_sales', 'jp_sales']:\n",
    "    display(data_current.groupby('rating')[name].sum().reset_index())\n"
   ]
  },
  {
   "cell_type": "markdown",
   "metadata": {},
   "source": [
    "В NA и в EU продажи в зависимости от рейтинга незначительно различаются между собой. 1/6 часть продаж приходится на игры без маркировки. В JP половина продаж приходится на игры с маркировкой."
   ]
  },
  {
   "cell_type": "markdown",
   "metadata": {},
   "source": [
    "<div>\n",
    "    <font color=\"green\">Проверка гипотезы, что средние пользовательские рейтинги платформ Xbox One и PC одинаковые.</font>\n",
    "</div>"
   ]
  },
  {
   "cell_type": "code",
   "execution_count": 24,
   "metadata": {},
   "outputs": [
    {
     "name": "stdout",
     "output_type": "stream",
     "text": [
      "0.5112133814834332\n",
      "Не получилось отвергнуть нулевую гипотезу\n"
     ]
    }
   ],
   "source": [
    "results = st.ttest_ind(data_current.loc[(data_current['platform']=='XOne') & (data_current['user_score'].notna()), 'user_score'],\\\n",
    "                      data_current.loc[(data_current['platform']=='PC') & (data_current['user_score'].notna()), 'user_score'])\n",
    "alpha = .05\n",
    "print(results.pvalue)\n",
    "if results.pvalue<alpha:\n",
    "    print('Отвергаем нулевую гипотезу')\n",
    "else:\n",
    "    print('Не получилось отвергнуть нулевую гипотезу')\n"
   ]
  },
  {
   "cell_type": "markdown",
   "metadata": {},
   "source": [
    "H_0:Среднее пользовательского рейтинга платформы XOne = среднему пользовательскому рейтингу платформы PC\\\n",
    "H_1:Среднее пользовательского рейтинга платформы XOne != среднему пользовательскому рейтингу платформы PC"
   ]
  },
  {
   "cell_type": "markdown",
   "metadata": {},
   "source": [
    "<div>\n",
    "    <font color=\"green\">Проверка гипотезы, что средние пользовательские рейтинги жанров Action и Sports разные.</font>\n",
    "</div>"
   ]
  },
  {
   "cell_type": "code",
   "execution_count": 25,
   "metadata": {},
   "outputs": [
    {
     "name": "stdout",
     "output_type": "stream",
     "text": [
      "4.8045233804629176e-26\n",
      "Отвергаем нулевую гипотезу\n"
     ]
    }
   ],
   "source": [
    "results = st.ttest_ind(data_current.loc[(data_current['genre']=='Action') & (data_current['user_score'].notna()), 'user_score'],\\\n",
    "                      data_current.loc[(data_current['genre']=='Sports') & (data_current['user_score'].notna()), 'user_score'])\n",
    "                      \n",
    "alpha = .05\n",
    "print(results.pvalue)\n",
    "if results.pvalue<alpha:\n",
    "    print('Отвергаем нулевую гипотезу')\n",
    "else:\n",
    "    print('Не получилось отвергнуть нулевую гипотезу')"
   ]
  },
  {
   "cell_type": "markdown",
   "metadata": {},
   "source": [
    "H_0:Среднее пользовательского рейтинга жанра Action = среднему пользовательскому рейтингу жанра Sports.\\\n",
    "H_1:Среднее пользовательского рейтинга жанра Action != среднему пользовательскому рейтингу жанра Sports."
   ]
  },
  {
   "cell_type": "markdown",
   "metadata": {},
   "source": [
    "<div>\n",
    "    <font color=\"green\">Вывод:</font>\n",
    "</div>"
   ]
  },
  {
   "cell_type": "markdown",
   "metadata": {},
   "source": [
    "Данные по частоте выпускаемых игр по годам скошенны влево, имеют отрицательную скошенность. Частота игр до 1990 года релиза хоть и мала, но эти данные в общем могут быть важны для исследования. Хотя в рамках данного исследования был найден актуальный период.\\\n",
    "\\\n",
    "Новые платформы появляются примерно каждые 5 лет. Хотя в 2010 году сильно прибыльных платформ не появилось.Платформы держаться на рынке около 10 лет.Актуальным периодом для исследования для прогноза на 2017 год выбран период с 2012 года.\n",
    "В настоящий период по продажам лидирует PS4. DS полностью ушла с рынка. WiiU показывает некоторую стабильность, хоть и невысокую популярность, как и 3DS. В выделенный период появились PS4, XOne. Потенциально прибыльными можно выбрать PS4, XOne, WiiU, 3DS.\\\n",
    " \\\n",
    "Самые продаваемые платформы по актуальному периоду: PS3, PS4, 3DS, XOne, X360. Данные по каждой из этих платформ заметно скошенны вправо. То есть половина игр продавалась не очень хорошо. Остальная половина имеет большой разброс. У всех платформ есть игры, которые выделились на фоне остальных весьма успешными продажами. У всех платформ, кроме XOne, по 2 игры с глобальными продажами выше 10 миллионов копий. Самые продаваемые игры у X360.\\\n",
    "\\\n",
    "Для PS4 слабая линейная зависимость продаж от оценок критиков, линейной зависимости продаж от оценок пользователей нет. В основном оценки критиков в диапазоне от 60 до 90. Для малых продаж зависимости продаж от оценок критиков не видно. Игры с самыми большими продажами  имеют высокие оценки критиков. Оценки пользователей меньше влияют на продажи, нежели оценки критиков, так как график зависимости продаж от оценок пользователей заметно более разбросанный, чем от оценок критиков. Оценки пользователей в основном в диапазоне от 6 до 9. \n",
    "Для остальных платформ результаты анализа близки к результатам анализа по платформе PS4, кроме платформы 3DS, что возможно связано с меньшим объёмом данных этой платформы по сравнению с другими платформами.\\\n",
    "\\\n",
    "Жанры Shooter, Sports, Platform самые прибыльные жанры, при этом по числу игр они заметно уступают менее прибыльным жанрам, что может говорить о приоритете качества, а не колличества и о стабильности в качестве игр этих жанров. Жанр Shooter выделяется высокими продажами.\\\n",
    "\\\n",
    "По каждому региону доли продаж платформ из топ-5 от продаж по всем платформам близки между собой и находятся в диапазоне от 82% до 90%. То есть платформы из топ-5 приносят около 85% от всей прибыли.\\\n",
    "\\\n",
    "В NA и EU в топ-5 4 из 5 жанров совпадают, Shooter самый популярный жанр в обоих регионах. Также близки медианы продаж. Возможно такое сходство связано с тем, что большинство игр производства англоязычных стран. В JP по продажам лидирует жанр Role-Playing. Продаж заметно меньше, чем в NA и EU.\\\n",
    "\\\n",
    "В NA и в EU продажи в зависимости от рейтинга ESRB незначительно различаются между собой. 1/6 часть продаж приходится на игры без маркировки. В JP половина продаж приходится на игры с маркировкой.\\\n",
    "\\\n",
    "Гипотезу о том, что среднее пользовательского рейтинга платформы XOne равно среднему пользовательскому рейтингу платформы PC не получилось отвергнуть. \n",
    " \\\n",
    " \\\n",
    "Отвергается гипотеза о том, что среднее пользовательского рейтинга жанра Action равно среднему пользовательскому рейтингу жанра Sports.\n",
    "\n"
   ]
  }
 ],
 "metadata": {
  "ExecuteTimeLog": [
   {
    "duration": 430,
    "start_time": "2023-01-30T16:42:27.764Z"
   },
   {
    "duration": 101,
    "start_time": "2023-01-30T16:42:45.967Z"
   },
   {
    "duration": 91,
    "start_time": "2023-01-30T16:42:59.779Z"
   },
   {
    "duration": 60,
    "start_time": "2023-01-30T16:43:10.697Z"
   },
   {
    "duration": 22,
    "start_time": "2023-01-30T16:51:01.339Z"
   },
   {
    "duration": 10,
    "start_time": "2023-01-30T17:01:21.952Z"
   },
   {
    "duration": 7,
    "start_time": "2023-01-30T17:01:36.999Z"
   },
   {
    "duration": 8,
    "start_time": "2023-01-30T17:01:44.118Z"
   },
   {
    "duration": 3,
    "start_time": "2023-01-30T17:02:25.767Z"
   },
   {
    "duration": 4,
    "start_time": "2023-01-30T17:02:39.419Z"
   },
   {
    "duration": 13,
    "start_time": "2023-01-30T17:04:47.463Z"
   },
   {
    "duration": 11,
    "start_time": "2023-01-30T17:05:01.454Z"
   },
   {
    "duration": 11,
    "start_time": "2023-01-30T17:05:28.707Z"
   },
   {
    "duration": 11,
    "start_time": "2023-01-30T17:06:46.861Z"
   },
   {
    "duration": 6,
    "start_time": "2023-01-30T17:09:08.752Z"
   },
   {
    "duration": 6,
    "start_time": "2023-01-30T17:09:37.978Z"
   },
   {
    "duration": 15,
    "start_time": "2023-01-30T17:09:49.186Z"
   },
   {
    "duration": 14,
    "start_time": "2023-01-30T17:10:16.132Z"
   },
   {
    "duration": 20,
    "start_time": "2023-01-30T17:19:44.349Z"
   },
   {
    "duration": 11,
    "start_time": "2023-01-30T17:20:19.977Z"
   },
   {
    "duration": 15,
    "start_time": "2023-01-30T17:20:58.511Z"
   },
   {
    "duration": 7,
    "start_time": "2023-01-30T17:21:10.917Z"
   },
   {
    "duration": 1344,
    "start_time": "2023-01-30T17:21:29.493Z"
   },
   {
    "duration": 1214,
    "start_time": "2023-01-30T17:22:01.781Z"
   },
   {
    "duration": 1232,
    "start_time": "2023-01-30T17:22:13.910Z"
   },
   {
    "duration": 1147,
    "start_time": "2023-01-30T17:23:49.037Z"
   },
   {
    "duration": 1141,
    "start_time": "2023-01-30T17:24:01.244Z"
   },
   {
    "duration": 2,
    "start_time": "2023-01-30T17:24:07.429Z"
   },
   {
    "duration": 68,
    "start_time": "2023-01-30T17:24:07.439Z"
   },
   {
    "duration": 14,
    "start_time": "2023-01-30T17:24:07.509Z"
   },
   {
    "duration": 36,
    "start_time": "2023-01-30T17:24:07.524Z"
   },
   {
    "duration": 35,
    "start_time": "2023-01-30T17:24:07.562Z"
   },
   {
    "duration": 12,
    "start_time": "2023-01-30T17:24:13.029Z"
   },
   {
    "duration": 2,
    "start_time": "2023-01-30T17:24:56.000Z"
   },
   {
    "duration": 62,
    "start_time": "2023-01-30T17:24:56.007Z"
   },
   {
    "duration": 14,
    "start_time": "2023-01-30T17:24:56.071Z"
   },
   {
    "duration": 4,
    "start_time": "2023-01-30T17:24:56.087Z"
   },
   {
    "duration": 18,
    "start_time": "2023-01-30T17:24:56.093Z"
   },
   {
    "duration": 6,
    "start_time": "2023-01-30T17:25:01.809Z"
   },
   {
    "duration": 810,
    "start_time": "2023-01-30T17:25:10.161Z"
   },
   {
    "duration": 884,
    "start_time": "2023-01-30T17:28:21.388Z"
   },
   {
    "duration": 2,
    "start_time": "2023-01-30T17:28:30.209Z"
   },
   {
    "duration": 88,
    "start_time": "2023-01-30T17:28:30.215Z"
   },
   {
    "duration": 13,
    "start_time": "2023-01-30T17:28:30.305Z"
   },
   {
    "duration": 32,
    "start_time": "2023-01-30T17:28:30.319Z"
   },
   {
    "duration": 38,
    "start_time": "2023-01-30T17:28:30.353Z"
   },
   {
    "duration": 9,
    "start_time": "2023-01-30T17:28:37.664Z"
   },
   {
    "duration": 7,
    "start_time": "2023-01-30T17:42:12.138Z"
   },
   {
    "duration": 7,
    "start_time": "2023-01-30T17:49:08.386Z"
   },
   {
    "duration": 6,
    "start_time": "2023-01-30T17:49:45.038Z"
   },
   {
    "duration": 9,
    "start_time": "2023-01-30T17:50:41.570Z"
   },
   {
    "duration": 20,
    "start_time": "2023-01-30T17:51:08.677Z"
   },
   {
    "duration": 17,
    "start_time": "2023-01-30T17:51:18.185Z"
   },
   {
    "duration": 13,
    "start_time": "2023-01-30T17:51:29.286Z"
   },
   {
    "duration": 836,
    "start_time": "2023-01-30T17:51:48.470Z"
   },
   {
    "duration": 849,
    "start_time": "2023-01-30T17:52:12.327Z"
   },
   {
    "duration": 2,
    "start_time": "2023-01-30T17:52:22.687Z"
   },
   {
    "duration": 75,
    "start_time": "2023-01-30T17:52:22.693Z"
   },
   {
    "duration": 12,
    "start_time": "2023-01-30T17:52:22.770Z"
   },
   {
    "duration": 26,
    "start_time": "2023-01-30T17:52:22.784Z"
   },
   {
    "duration": 62,
    "start_time": "2023-01-30T17:52:22.812Z"
   },
   {
    "duration": 27,
    "start_time": "2023-01-30T17:52:22.875Z"
   },
   {
    "duration": 17,
    "start_time": "2023-01-30T17:52:26.643Z"
   },
   {
    "duration": 16,
    "start_time": "2023-01-30T17:52:41.313Z"
   },
   {
    "duration": 2,
    "start_time": "2023-01-30T17:53:05.916Z"
   },
   {
    "duration": 69,
    "start_time": "2023-01-30T17:53:05.924Z"
   },
   {
    "duration": 16,
    "start_time": "2023-01-30T17:53:05.995Z"
   },
   {
    "duration": 25,
    "start_time": "2023-01-30T17:53:06.012Z"
   },
   {
    "duration": 38,
    "start_time": "2023-01-30T17:53:06.039Z"
   },
   {
    "duration": 22,
    "start_time": "2023-01-30T17:53:06.079Z"
   },
   {
    "duration": 19,
    "start_time": "2023-01-30T17:53:17.103Z"
   },
   {
    "duration": 3,
    "start_time": "2023-01-30T17:56:37.680Z"
   },
   {
    "duration": 62,
    "start_time": "2023-01-30T17:56:37.691Z"
   },
   {
    "duration": 14,
    "start_time": "2023-01-30T17:56:37.755Z"
   },
   {
    "duration": 5,
    "start_time": "2023-01-30T17:56:37.771Z"
   },
   {
    "duration": 22,
    "start_time": "2023-01-30T17:56:37.778Z"
   },
   {
    "duration": 11,
    "start_time": "2023-01-30T17:56:37.802Z"
   },
   {
    "duration": 93,
    "start_time": "2023-01-30T17:56:40.684Z"
   },
   {
    "duration": 21,
    "start_time": "2023-01-30T17:56:49.550Z"
   },
   {
    "duration": 7,
    "start_time": "2023-01-30T17:57:41.485Z"
   },
   {
    "duration": 8,
    "start_time": "2023-01-30T17:58:29.671Z"
   },
   {
    "duration": 7,
    "start_time": "2023-01-30T18:01:24.958Z"
   },
   {
    "duration": 8,
    "start_time": "2023-01-30T18:01:50.883Z"
   },
   {
    "duration": 7,
    "start_time": "2023-01-30T18:06:10.697Z"
   },
   {
    "duration": 11,
    "start_time": "2023-01-30T18:06:18.743Z"
   },
   {
    "duration": 12,
    "start_time": "2023-01-30T18:06:31.614Z"
   },
   {
    "duration": 12,
    "start_time": "2023-01-30T18:07:27.875Z"
   },
   {
    "duration": 13,
    "start_time": "2023-01-30T18:30:30.676Z"
   },
   {
    "duration": 14,
    "start_time": "2023-01-30T18:31:06.779Z"
   },
   {
    "duration": 14,
    "start_time": "2023-01-30T18:31:26.037Z"
   },
   {
    "duration": 23,
    "start_time": "2023-01-30T18:31:34.900Z"
   },
   {
    "duration": 16,
    "start_time": "2023-01-30T18:31:58.417Z"
   },
   {
    "duration": 20,
    "start_time": "2023-01-30T18:32:06.692Z"
   },
   {
    "duration": 13,
    "start_time": "2023-01-30T18:32:51.546Z"
   },
   {
    "duration": 13,
    "start_time": "2023-01-30T18:33:06.381Z"
   },
   {
    "duration": 15,
    "start_time": "2023-01-30T18:33:14.839Z"
   },
   {
    "duration": 15,
    "start_time": "2023-01-30T18:33:45.145Z"
   },
   {
    "duration": 15,
    "start_time": "2023-01-30T18:33:59.066Z"
   },
   {
    "duration": 16,
    "start_time": "2023-01-30T18:34:41.415Z"
   },
   {
    "duration": 521,
    "start_time": "2023-01-30T18:38:33.233Z"
   },
   {
    "duration": 154,
    "start_time": "2023-01-30T18:38:55.918Z"
   },
   {
    "duration": 193,
    "start_time": "2023-01-30T18:39:19.327Z"
   },
   {
    "duration": 251,
    "start_time": "2023-01-30T18:39:35.259Z"
   },
   {
    "duration": 196,
    "start_time": "2023-01-30T18:41:44.474Z"
   },
   {
    "duration": 230,
    "start_time": "2023-01-30T18:42:58.702Z"
   },
   {
    "duration": 205,
    "start_time": "2023-01-30T18:47:20.979Z"
   },
   {
    "duration": 13,
    "start_time": "2023-01-30T18:51:12.530Z"
   },
   {
    "duration": 7,
    "start_time": "2023-01-30T18:51:39.021Z"
   },
   {
    "duration": 8,
    "start_time": "2023-01-30T18:52:11.719Z"
   },
   {
    "duration": 16,
    "start_time": "2023-01-30T18:53:23.420Z"
   },
   {
    "duration": 33,
    "start_time": "2023-01-30T18:53:59.577Z"
   },
   {
    "duration": 17,
    "start_time": "2023-01-30T18:54:17.102Z"
   },
   {
    "duration": 20,
    "start_time": "2023-01-30T18:58:26.009Z"
   },
   {
    "duration": 11,
    "start_time": "2023-01-30T18:58:41.151Z"
   },
   {
    "duration": 16,
    "start_time": "2023-01-30T19:00:01.771Z"
   },
   {
    "duration": 14,
    "start_time": "2023-01-30T19:01:21.822Z"
   },
   {
    "duration": 17,
    "start_time": "2023-01-30T19:02:05.430Z"
   },
   {
    "duration": 17,
    "start_time": "2023-01-30T19:45:05.847Z"
   },
   {
    "duration": 28,
    "start_time": "2023-01-30T19:54:57.000Z"
   },
   {
    "duration": 11,
    "start_time": "2023-01-30T19:57:55.822Z"
   },
   {
    "duration": 15,
    "start_time": "2023-01-30T19:58:36.712Z"
   },
   {
    "duration": 14,
    "start_time": "2023-01-30T19:58:44.463Z"
   },
   {
    "duration": 13,
    "start_time": "2023-01-30T19:59:00.347Z"
   },
   {
    "duration": 13,
    "start_time": "2023-01-30T19:59:46.053Z"
   },
   {
    "duration": 16,
    "start_time": "2023-01-30T20:02:08.202Z"
   },
   {
    "duration": 45,
    "start_time": "2023-01-31T06:34:10.544Z"
   },
   {
    "duration": 358,
    "start_time": "2023-01-31T06:34:15.844Z"
   },
   {
    "duration": 113,
    "start_time": "2023-01-31T06:34:16.205Z"
   },
   {
    "duration": 17,
    "start_time": "2023-01-31T06:34:16.320Z"
   },
   {
    "duration": 4,
    "start_time": "2023-01-31T06:34:16.339Z"
   },
   {
    "duration": 24,
    "start_time": "2023-01-31T06:34:16.344Z"
   },
   {
    "duration": 8,
    "start_time": "2023-01-31T06:34:16.369Z"
   },
   {
    "duration": 4,
    "start_time": "2023-01-31T06:34:19.951Z"
   },
   {
    "duration": 9,
    "start_time": "2023-01-31T06:34:38.021Z"
   },
   {
    "duration": 16,
    "start_time": "2023-01-31T06:36:09.824Z"
   },
   {
    "duration": 21,
    "start_time": "2023-01-31T07:01:38.718Z"
   },
   {
    "duration": 21,
    "start_time": "2023-01-31T07:02:07.326Z"
   },
   {
    "duration": 32,
    "start_time": "2023-01-31T07:02:34.997Z"
   },
   {
    "duration": 23,
    "start_time": "2023-01-31T07:06:41.885Z"
   },
   {
    "duration": 596,
    "start_time": "2023-01-31T07:06:50.091Z"
   },
   {
    "duration": 375,
    "start_time": "2023-01-31T15:38:39.326Z"
   },
   {
    "duration": 495,
    "start_time": "2023-01-31T15:38:39.703Z"
   },
   {
    "duration": 13,
    "start_time": "2023-01-31T15:38:40.200Z"
   },
   {
    "duration": 3,
    "start_time": "2023-01-31T15:38:40.214Z"
   },
   {
    "duration": 27,
    "start_time": "2023-01-31T15:38:40.219Z"
   },
   {
    "duration": 8,
    "start_time": "2023-01-31T15:38:40.248Z"
   },
   {
    "duration": 8,
    "start_time": "2023-01-31T15:38:40.258Z"
   },
   {
    "duration": 638,
    "start_time": "2023-01-31T15:38:40.268Z"
   },
   {
    "duration": 34,
    "start_time": "2023-01-31T15:38:40.909Z"
   },
   {
    "duration": 23,
    "start_time": "2023-01-31T15:38:40.945Z"
   },
   {
    "duration": 777,
    "start_time": "2023-01-31T15:49:40.847Z"
   },
   {
    "duration": 700,
    "start_time": "2023-01-31T15:49:47.292Z"
   },
   {
    "duration": 12,
    "start_time": "2023-01-31T15:50:12.255Z"
   },
   {
    "duration": 88,
    "start_time": "2023-01-31T15:50:29.801Z"
   },
   {
    "duration": 104,
    "start_time": "2023-01-31T15:50:48.253Z"
   },
   {
    "duration": 10,
    "start_time": "2023-01-31T16:27:16.535Z"
   },
   {
    "duration": 28,
    "start_time": "2023-01-31T16:27:56.281Z"
   },
   {
    "duration": 8,
    "start_time": "2023-01-31T16:28:26.719Z"
   },
   {
    "duration": 8,
    "start_time": "2023-01-31T16:28:47.118Z"
   },
   {
    "duration": 9,
    "start_time": "2023-01-31T16:28:57.137Z"
   },
   {
    "duration": 2,
    "start_time": "2023-01-31T16:31:44.400Z"
   },
   {
    "duration": 65,
    "start_time": "2023-01-31T16:31:44.404Z"
   },
   {
    "duration": 19,
    "start_time": "2023-01-31T16:31:44.471Z"
   },
   {
    "duration": 5,
    "start_time": "2023-01-31T16:31:44.492Z"
   },
   {
    "duration": 25,
    "start_time": "2023-01-31T16:31:44.500Z"
   },
   {
    "duration": 9,
    "start_time": "2023-01-31T16:31:44.526Z"
   },
   {
    "duration": 19,
    "start_time": "2023-01-31T16:31:44.536Z"
   },
   {
    "duration": 246,
    "start_time": "2023-01-31T16:31:44.557Z"
   },
   {
    "duration": 19,
    "start_time": "2023-01-31T16:31:47.741Z"
   },
   {
    "duration": 15,
    "start_time": "2023-01-31T16:38:06.970Z"
   },
   {
    "duration": 13,
    "start_time": "2023-01-31T16:39:28.723Z"
   },
   {
    "duration": 13,
    "start_time": "2023-01-31T16:41:40.459Z"
   },
   {
    "duration": 183,
    "start_time": "2023-01-31T16:42:07.270Z"
   },
   {
    "duration": 123,
    "start_time": "2023-01-31T16:42:50.998Z"
   },
   {
    "duration": 9,
    "start_time": "2023-01-31T16:43:49.718Z"
   },
   {
    "duration": 117,
    "start_time": "2023-01-31T16:44:55.798Z"
   },
   {
    "duration": 151,
    "start_time": "2023-01-31T16:45:23.314Z"
   },
   {
    "duration": 155,
    "start_time": "2023-01-31T18:33:46.553Z"
   },
   {
    "duration": 178,
    "start_time": "2023-01-31T18:34:16.222Z"
   },
   {
    "duration": 3,
    "start_time": "2023-01-31T18:35:39.733Z"
   },
   {
    "duration": 3,
    "start_time": "2023-01-31T18:36:07.784Z"
   },
   {
    "duration": 66,
    "start_time": "2023-01-31T18:36:07.791Z"
   },
   {
    "duration": 14,
    "start_time": "2023-01-31T18:36:07.858Z"
   },
   {
    "duration": 6,
    "start_time": "2023-01-31T18:36:07.873Z"
   },
   {
    "duration": 18,
    "start_time": "2023-01-31T18:36:07.881Z"
   },
   {
    "duration": 9,
    "start_time": "2023-01-31T18:36:07.900Z"
   },
   {
    "duration": 14,
    "start_time": "2023-01-31T18:36:07.911Z"
   },
   {
    "duration": 227,
    "start_time": "2023-01-31T18:36:07.926Z"
   },
   {
    "duration": 18,
    "start_time": "2023-01-31T18:36:08.154Z"
   },
   {
    "duration": 119,
    "start_time": "2023-01-31T18:36:08.174Z"
   },
   {
    "duration": 155,
    "start_time": "2023-01-31T18:36:20.470Z"
   },
   {
    "duration": 3,
    "start_time": "2023-01-31T18:37:16.071Z"
   },
   {
    "duration": 70,
    "start_time": "2023-01-31T18:37:16.076Z"
   },
   {
    "duration": 14,
    "start_time": "2023-01-31T18:37:16.148Z"
   },
   {
    "duration": 3,
    "start_time": "2023-01-31T18:37:16.164Z"
   },
   {
    "duration": 23,
    "start_time": "2023-01-31T18:37:16.170Z"
   },
   {
    "duration": 9,
    "start_time": "2023-01-31T18:37:16.196Z"
   },
   {
    "duration": 8,
    "start_time": "2023-01-31T18:37:16.207Z"
   },
   {
    "duration": 292,
    "start_time": "2023-01-31T18:37:16.217Z"
   },
   {
    "duration": 26,
    "start_time": "2023-01-31T18:37:16.513Z"
   },
   {
    "duration": 164,
    "start_time": "2023-01-31T18:37:16.542Z"
   },
   {
    "duration": 365,
    "start_time": "2023-01-31T18:38:14.005Z"
   },
   {
    "duration": 3,
    "start_time": "2023-01-31T18:39:37.191Z"
   },
   {
    "duration": 75,
    "start_time": "2023-01-31T18:39:37.199Z"
   },
   {
    "duration": 13,
    "start_time": "2023-01-31T18:39:37.276Z"
   },
   {
    "duration": 4,
    "start_time": "2023-01-31T18:39:37.428Z"
   },
   {
    "duration": 31,
    "start_time": "2023-01-31T18:39:37.434Z"
   },
   {
    "duration": 12,
    "start_time": "2023-01-31T18:39:37.468Z"
   },
   {
    "duration": 16,
    "start_time": "2023-01-31T18:39:37.483Z"
   },
   {
    "duration": 222,
    "start_time": "2023-01-31T18:39:37.501Z"
   },
   {
    "duration": 19,
    "start_time": "2023-01-31T18:39:37.776Z"
   },
   {
    "duration": 107,
    "start_time": "2023-01-31T18:39:37.797Z"
   },
   {
    "duration": 266,
    "start_time": "2023-01-31T18:39:43.064Z"
   },
   {
    "duration": 3,
    "start_time": "2023-01-31T18:44:55.356Z"
   },
   {
    "duration": 68,
    "start_time": "2023-01-31T18:44:55.363Z"
   },
   {
    "duration": 15,
    "start_time": "2023-01-31T18:44:55.434Z"
   },
   {
    "duration": 4,
    "start_time": "2023-01-31T18:44:55.451Z"
   },
   {
    "duration": 37,
    "start_time": "2023-01-31T18:44:55.457Z"
   },
   {
    "duration": 14,
    "start_time": "2023-01-31T18:44:55.496Z"
   },
   {
    "duration": 31,
    "start_time": "2023-01-31T18:44:55.512Z"
   },
   {
    "duration": 236,
    "start_time": "2023-01-31T18:44:55.545Z"
   },
   {
    "duration": 24,
    "start_time": "2023-01-31T18:44:55.783Z"
   },
   {
    "duration": 126,
    "start_time": "2023-01-31T18:44:55.811Z"
   },
   {
    "duration": 9,
    "start_time": "2023-01-31T18:45:05.069Z"
   },
   {
    "duration": 248,
    "start_time": "2023-01-31T18:45:15.634Z"
   },
   {
    "duration": 8,
    "start_time": "2023-01-31T18:45:24.233Z"
   },
   {
    "duration": 14,
    "start_time": "2023-01-31T19:30:54.048Z"
   },
   {
    "duration": 14,
    "start_time": "2023-01-31T19:31:21.710Z"
   },
   {
    "duration": 7,
    "start_time": "2023-01-31T19:31:52.582Z"
   },
   {
    "duration": 16,
    "start_time": "2023-01-31T19:32:00.734Z"
   },
   {
    "duration": 574,
    "start_time": "2023-01-31T19:36:40.645Z"
   },
   {
    "duration": 38,
    "start_time": "2023-01-31T19:37:05.238Z"
   },
   {
    "duration": 279,
    "start_time": "2023-01-31T19:40:19.039Z"
   },
   {
    "duration": 143,
    "start_time": "2023-01-31T19:42:16.819Z"
   },
   {
    "duration": 140,
    "start_time": "2023-01-31T19:42:35.319Z"
   },
   {
    "duration": 328,
    "start_time": "2023-01-31T19:42:51.122Z"
   },
   {
    "duration": 275,
    "start_time": "2023-01-31T19:44:23.113Z"
   },
   {
    "duration": 324,
    "start_time": "2023-01-31T19:44:36.027Z"
   },
   {
    "duration": 250,
    "start_time": "2023-01-31T19:48:53.817Z"
   },
   {
    "duration": 253,
    "start_time": "2023-01-31T19:49:24.382Z"
   },
   {
    "duration": 309,
    "start_time": "2023-01-31T19:50:10.135Z"
   },
   {
    "duration": 359,
    "start_time": "2023-01-31T19:50:17.553Z"
   },
   {
    "duration": 255,
    "start_time": "2023-01-31T19:51:17.479Z"
   },
   {
    "duration": 244,
    "start_time": "2023-01-31T19:51:31.755Z"
   },
   {
    "duration": 264,
    "start_time": "2023-01-31T19:52:26.779Z"
   },
   {
    "duration": 294,
    "start_time": "2023-01-31T19:53:59.708Z"
   },
   {
    "duration": 451,
    "start_time": "2023-01-31T19:54:25.142Z"
   },
   {
    "duration": 1051,
    "start_time": "2023-01-31T19:55:41.212Z"
   },
   {
    "duration": 335,
    "start_time": "2023-01-31T19:55:58.760Z"
   },
   {
    "duration": 94,
    "start_time": "2023-01-31T19:57:19.219Z"
   },
   {
    "duration": 113,
    "start_time": "2023-01-31T20:00:14.280Z"
   },
   {
    "duration": 56,
    "start_time": "2023-01-31T20:07:55.005Z"
   },
   {
    "duration": 9,
    "start_time": "2023-01-31T20:08:01.409Z"
   },
   {
    "duration": 7,
    "start_time": "2023-01-31T20:08:53.044Z"
   },
   {
    "duration": 8,
    "start_time": "2023-01-31T20:09:02.600Z"
   },
   {
    "duration": 12,
    "start_time": "2023-01-31T20:09:28.469Z"
   },
   {
    "duration": 13,
    "start_time": "2023-01-31T20:13:49.086Z"
   },
   {
    "duration": 11,
    "start_time": "2023-01-31T20:13:56.649Z"
   },
   {
    "duration": 9,
    "start_time": "2023-01-31T20:14:32.350Z"
   },
   {
    "duration": 9,
    "start_time": "2023-01-31T20:14:56.089Z"
   },
   {
    "duration": 13,
    "start_time": "2023-01-31T20:15:56.158Z"
   },
   {
    "duration": 15,
    "start_time": "2023-01-31T20:16:51.103Z"
   },
   {
    "duration": 51,
    "start_time": "2023-02-01T05:12:34.825Z"
   },
   {
    "duration": 1323,
    "start_time": "2023-02-01T05:12:39.477Z"
   },
   {
    "duration": 121,
    "start_time": "2023-02-01T05:12:40.802Z"
   },
   {
    "duration": 13,
    "start_time": "2023-02-01T05:12:40.924Z"
   },
   {
    "duration": 6,
    "start_time": "2023-02-01T05:12:40.939Z"
   },
   {
    "duration": 31,
    "start_time": "2023-02-01T05:12:40.947Z"
   },
   {
    "duration": 8,
    "start_time": "2023-02-01T05:12:40.979Z"
   },
   {
    "duration": 21,
    "start_time": "2023-02-01T05:12:40.988Z"
   },
   {
    "duration": 207,
    "start_time": "2023-02-01T05:12:41.010Z"
   },
   {
    "duration": 18,
    "start_time": "2023-02-01T05:12:41.219Z"
   },
   {
    "duration": 121,
    "start_time": "2023-02-01T05:12:41.239Z"
   },
   {
    "duration": 8,
    "start_time": "2023-02-01T05:12:41.362Z"
   },
   {
    "duration": 250,
    "start_time": "2023-02-01T05:12:41.372Z"
   },
   {
    "duration": 9,
    "start_time": "2023-02-01T05:12:41.623Z"
   },
   {
    "duration": 32,
    "start_time": "2023-02-01T05:12:41.635Z"
   },
   {
    "duration": 7,
    "start_time": "2023-02-01T05:12:44.687Z"
   },
   {
    "duration": 7,
    "start_time": "2023-02-01T05:14:07.413Z"
   },
   {
    "duration": 9,
    "start_time": "2023-02-01T05:15:08.438Z"
   },
   {
    "duration": 7,
    "start_time": "2023-02-01T05:15:44.507Z"
   },
   {
    "duration": 9,
    "start_time": "2023-02-01T05:15:56.945Z"
   },
   {
    "duration": 9,
    "start_time": "2023-02-01T05:22:21.160Z"
   },
   {
    "duration": 9,
    "start_time": "2023-02-01T05:22:30.218Z"
   },
   {
    "duration": 25,
    "start_time": "2023-02-01T05:23:00.431Z"
   },
   {
    "duration": 75,
    "start_time": "2023-02-01T05:46:15.399Z"
   },
   {
    "duration": 2121,
    "start_time": "2023-02-01T05:46:21.771Z"
   },
   {
    "duration": 1972,
    "start_time": "2023-02-01T05:46:44.277Z"
   },
   {
    "duration": 2033,
    "start_time": "2023-02-01T05:50:40.213Z"
   },
   {
    "duration": 2118,
    "start_time": "2023-02-01T05:50:58.558Z"
   },
   {
    "duration": 2052,
    "start_time": "2023-02-01T05:51:13.608Z"
   },
   {
    "duration": 2092,
    "start_time": "2023-02-01T05:51:39.196Z"
   },
   {
    "duration": 904,
    "start_time": "2023-02-01T05:56:46.300Z"
   },
   {
    "duration": 310,
    "start_time": "2023-02-01T06:00:50.115Z"
   },
   {
    "duration": 338,
    "start_time": "2023-02-01T06:08:40.430Z"
   },
   {
    "duration": 416,
    "start_time": "2023-02-01T06:08:54.142Z"
   },
   {
    "duration": 447,
    "start_time": "2023-02-01T06:09:40.547Z"
   },
   {
    "duration": 147,
    "start_time": "2023-02-01T06:10:41.890Z"
   },
   {
    "duration": 147,
    "start_time": "2023-02-01T06:11:26.002Z"
   },
   {
    "duration": 460,
    "start_time": "2023-02-01T06:12:31.593Z"
   },
   {
    "duration": 779,
    "start_time": "2023-02-01T06:13:15.997Z"
   },
   {
    "duration": 575,
    "start_time": "2023-02-01T06:53:03.662Z"
   },
   {
    "duration": 730,
    "start_time": "2023-02-01T06:53:31.348Z"
   },
   {
    "duration": 1008,
    "start_time": "2023-02-01T06:55:33.008Z"
   },
   {
    "duration": 954,
    "start_time": "2023-02-01T06:55:57.252Z"
   },
   {
    "duration": 1030,
    "start_time": "2023-02-01T06:57:31.785Z"
   },
   {
    "duration": 622,
    "start_time": "2023-02-01T07:09:31.633Z"
   },
   {
    "duration": 22,
    "start_time": "2023-02-01T07:31:05.002Z"
   },
   {
    "duration": 387,
    "start_time": "2023-02-01T07:33:41.761Z"
   },
   {
    "duration": 356,
    "start_time": "2023-02-01T07:33:59.223Z"
   },
   {
    "duration": 341,
    "start_time": "2023-02-01T07:34:11.751Z"
   },
   {
    "duration": 441,
    "start_time": "2023-02-01T07:34:50.639Z"
   },
   {
    "duration": 6,
    "start_time": "2023-02-01T08:41:45.392Z"
   },
   {
    "duration": 6,
    "start_time": "2023-02-01T08:44:46.144Z"
   },
   {
    "duration": 8,
    "start_time": "2023-02-01T08:45:26.744Z"
   },
   {
    "duration": 14,
    "start_time": "2023-02-01T08:47:13.632Z"
   },
   {
    "duration": 12,
    "start_time": "2023-02-01T08:47:51.981Z"
   },
   {
    "duration": 106,
    "start_time": "2023-02-01T08:49:55.796Z"
   },
   {
    "duration": 21,
    "start_time": "2023-02-01T09:31:40.873Z"
   },
   {
    "duration": 14,
    "start_time": "2023-02-01T09:38:58.668Z"
   },
   {
    "duration": 15,
    "start_time": "2023-02-01T09:42:37.518Z"
   },
   {
    "duration": 17,
    "start_time": "2023-02-01T09:43:44.508Z"
   },
   {
    "duration": 15,
    "start_time": "2023-02-01T10:07:17.050Z"
   },
   {
    "duration": 144,
    "start_time": "2023-02-01T10:35:26.457Z"
   },
   {
    "duration": 248,
    "start_time": "2023-02-01T10:36:39.841Z"
   },
   {
    "duration": 174,
    "start_time": "2023-02-01T10:38:07.441Z"
   },
   {
    "duration": 248,
    "start_time": "2023-02-01T10:38:52.489Z"
   },
   {
    "duration": 266,
    "start_time": "2023-02-01T10:39:17.807Z"
   },
   {
    "duration": 246,
    "start_time": "2023-02-01T10:39:56.996Z"
   },
   {
    "duration": 354,
    "start_time": "2023-02-01T10:58:15.356Z"
   },
   {
    "duration": 22,
    "start_time": "2023-02-01T10:58:50.941Z"
   },
   {
    "duration": 339,
    "start_time": "2023-02-01T10:58:59.219Z"
   },
   {
    "duration": 15,
    "start_time": "2023-02-01T11:26:23.659Z"
   },
   {
    "duration": 131,
    "start_time": "2023-02-01T11:33:35.701Z"
   },
   {
    "duration": 139,
    "start_time": "2023-02-01T11:35:54.448Z"
   },
   {
    "duration": 452,
    "start_time": "2023-02-01T11:43:15.654Z"
   },
   {
    "duration": 85,
    "start_time": "2023-02-01T11:47:05.310Z"
   },
   {
    "duration": 91,
    "start_time": "2023-02-01T11:49:01.957Z"
   },
   {
    "duration": 2791,
    "start_time": "2023-02-01T11:49:50.829Z"
   },
   {
    "duration": 3202,
    "start_time": "2023-02-01T11:51:21.538Z"
   },
   {
    "duration": 2874,
    "start_time": "2023-02-01T11:52:09.647Z"
   },
   {
    "duration": 9,
    "start_time": "2023-02-01T12:12:07.727Z"
   },
   {
    "duration": 14,
    "start_time": "2023-02-01T12:13:58.822Z"
   },
   {
    "duration": 17,
    "start_time": "2023-02-01T12:14:06.811Z"
   },
   {
    "duration": 11,
    "start_time": "2023-02-01T12:14:27.930Z"
   },
   {
    "duration": 113,
    "start_time": "2023-02-01T12:14:47.315Z"
   },
   {
    "duration": 107,
    "start_time": "2023-02-01T12:16:02.056Z"
   },
   {
    "duration": 113,
    "start_time": "2023-02-01T12:17:42.451Z"
   },
   {
    "duration": 159,
    "start_time": "2023-02-01T12:18:00.855Z"
   },
   {
    "duration": 141,
    "start_time": "2023-02-01T12:18:08.132Z"
   },
   {
    "duration": 105,
    "start_time": "2023-02-01T12:18:24.944Z"
   },
   {
    "duration": 125,
    "start_time": "2023-02-01T12:19:01.758Z"
   },
   {
    "duration": 111,
    "start_time": "2023-02-01T12:19:21.947Z"
   },
   {
    "duration": 11,
    "start_time": "2023-02-01T12:37:38.929Z"
   },
   {
    "duration": 1386,
    "start_time": "2023-02-01T14:15:36.408Z"
   },
   {
    "duration": 106,
    "start_time": "2023-02-01T14:15:37.797Z"
   },
   {
    "duration": 16,
    "start_time": "2023-02-01T14:15:37.905Z"
   },
   {
    "duration": 51,
    "start_time": "2023-02-01T14:15:37.923Z"
   },
   {
    "duration": 132,
    "start_time": "2023-02-01T14:15:37.978Z"
   },
   {
    "duration": 38,
    "start_time": "2023-02-01T14:15:38.112Z"
   },
   {
    "duration": 64,
    "start_time": "2023-02-01T14:15:38.152Z"
   },
   {
    "duration": 283,
    "start_time": "2023-02-01T14:15:38.219Z"
   },
   {
    "duration": 18,
    "start_time": "2023-02-01T14:15:38.504Z"
   },
   {
    "duration": 162,
    "start_time": "2023-02-01T14:15:38.524Z"
   },
   {
    "duration": 14,
    "start_time": "2023-02-01T14:15:38.687Z"
   },
   {
    "duration": 310,
    "start_time": "2023-02-01T14:15:38.703Z"
   },
   {
    "duration": 8,
    "start_time": "2023-02-01T14:15:39.014Z"
   },
   {
    "duration": 76,
    "start_time": "2023-02-01T14:15:39.024Z"
   },
   {
    "duration": 60,
    "start_time": "2023-02-01T14:15:39.102Z"
   },
   {
    "duration": 722,
    "start_time": "2023-02-01T14:15:39.163Z"
   },
   {
    "duration": 434,
    "start_time": "2023-02-01T14:15:39.887Z"
   },
   {
    "duration": 11,
    "start_time": "2023-02-01T14:15:40.323Z"
   },
   {
    "duration": 127,
    "start_time": "2023-02-01T14:15:40.336Z"
   },
   {
    "duration": 266,
    "start_time": "2023-02-01T14:15:40.464Z"
   },
   {
    "duration": 3030,
    "start_time": "2023-02-01T14:15:40.731Z"
   },
   {
    "duration": 245,
    "start_time": "2023-02-01T14:15:43.763Z"
   },
   {
    "duration": 12,
    "start_time": "2023-02-01T14:15:49.857Z"
   },
   {
    "duration": 13,
    "start_time": "2023-02-01T14:16:18.558Z"
   },
   {
    "duration": 10,
    "start_time": "2023-02-01T14:16:42.110Z"
   },
   {
    "duration": 17,
    "start_time": "2023-02-01T14:23:00.603Z"
   },
   {
    "duration": 76,
    "start_time": "2023-02-01T14:24:21.375Z"
   },
   {
    "duration": 11,
    "start_time": "2023-02-01T14:24:27.906Z"
   },
   {
    "duration": 16,
    "start_time": "2023-02-01T14:28:37.823Z"
   },
   {
    "duration": 16,
    "start_time": "2023-02-01T14:28:47.046Z"
   },
   {
    "duration": 25,
    "start_time": "2023-02-01T14:29:17.581Z"
   },
   {
    "duration": 38,
    "start_time": "2023-02-01T14:33:08.909Z"
   },
   {
    "duration": 74,
    "start_time": "2023-02-01T14:34:21.366Z"
   },
   {
    "duration": 72,
    "start_time": "2023-02-01T14:34:34.369Z"
   },
   {
    "duration": 42,
    "start_time": "2023-02-01T14:35:17.223Z"
   },
   {
    "duration": 106,
    "start_time": "2023-02-01T14:35:49.485Z"
   },
   {
    "duration": 76,
    "start_time": "2023-02-01T14:36:11.768Z"
   },
   {
    "duration": 26,
    "start_time": "2023-02-01T14:36:17.613Z"
   },
   {
    "duration": 1285,
    "start_time": "2023-02-01T14:47:01.148Z"
   },
   {
    "duration": 1118,
    "start_time": "2023-02-01T14:47:51.778Z"
   },
   {
    "duration": 47,
    "start_time": "2023-02-01T14:48:13.593Z"
   },
   {
    "duration": 33,
    "start_time": "2023-02-01T14:48:32.728Z"
   },
   {
    "duration": 35,
    "start_time": "2023-02-01T14:50:33.209Z"
   },
   {
    "duration": 36,
    "start_time": "2023-02-01T14:51:31.505Z"
   },
   {
    "duration": 41,
    "start_time": "2023-02-01T14:51:41.509Z"
   },
   {
    "duration": 42,
    "start_time": "2023-02-01T14:51:59.211Z"
   },
   {
    "duration": 43,
    "start_time": "2023-02-01T14:52:23.491Z"
   },
   {
    "duration": 38,
    "start_time": "2023-02-01T15:02:07.042Z"
   },
   {
    "duration": 41,
    "start_time": "2023-02-01T15:02:31.910Z"
   },
   {
    "duration": 7,
    "start_time": "2023-02-01T15:18:55.105Z"
   },
   {
    "duration": 12,
    "start_time": "2023-02-01T15:22:17.230Z"
   },
   {
    "duration": 11,
    "start_time": "2023-02-01T15:22:25.614Z"
   },
   {
    "duration": 7,
    "start_time": "2023-02-01T15:22:31.758Z"
   },
   {
    "duration": 9,
    "start_time": "2023-02-01T15:22:45.904Z"
   },
   {
    "duration": 8,
    "start_time": "2023-02-01T15:23:02.004Z"
   },
   {
    "duration": 15,
    "start_time": "2023-02-01T15:24:04.406Z"
   },
   {
    "duration": 16,
    "start_time": "2023-02-01T15:24:22.660Z"
   },
   {
    "duration": 13,
    "start_time": "2023-02-01T15:28:10.606Z"
   },
   {
    "duration": 12,
    "start_time": "2023-02-01T15:48:34.005Z"
   },
   {
    "duration": 3,
    "start_time": "2023-02-01T15:48:40.791Z"
   },
   {
    "duration": 8,
    "start_time": "2023-02-01T16:22:14.522Z"
   },
   {
    "duration": 8,
    "start_time": "2023-02-01T16:32:59.049Z"
   },
   {
    "duration": 8,
    "start_time": "2023-02-01T16:33:00.463Z"
   },
   {
    "duration": 17,
    "start_time": "2023-02-01T16:36:39.659Z"
   },
   {
    "duration": 17,
    "start_time": "2023-02-01T17:13:04.869Z"
   },
   {
    "duration": 9,
    "start_time": "2023-02-01T17:13:29.753Z"
   },
   {
    "duration": 9,
    "start_time": "2023-02-01T17:57:39.033Z"
   },
   {
    "duration": 8,
    "start_time": "2023-02-01T17:59:19.679Z"
   },
   {
    "duration": 7,
    "start_time": "2023-02-01T17:59:44.430Z"
   },
   {
    "duration": 8,
    "start_time": "2023-02-01T18:00:16.762Z"
   },
   {
    "duration": 9,
    "start_time": "2023-02-01T18:00:25.880Z"
   },
   {
    "duration": 10,
    "start_time": "2023-02-01T18:00:28.020Z"
   },
   {
    "duration": 1342,
    "start_time": "2023-02-02T07:49:38.601Z"
   },
   {
    "duration": 2385,
    "start_time": "2023-02-02T07:53:49.761Z"
   },
   {
    "duration": 92,
    "start_time": "2023-02-02T07:54:51.496Z"
   },
   {
    "duration": 120,
    "start_time": "2023-02-02T08:00:19.489Z"
   },
   {
    "duration": 3,
    "start_time": "2023-02-02T08:00:28.906Z"
   },
   {
    "duration": 105,
    "start_time": "2023-02-02T08:00:28.915Z"
   },
   {
    "duration": 14,
    "start_time": "2023-02-02T08:00:29.022Z"
   },
   {
    "duration": 3,
    "start_time": "2023-02-02T08:00:29.037Z"
   },
   {
    "duration": 4,
    "start_time": "2023-02-02T08:00:34.699Z"
   },
   {
    "duration": 18,
    "start_time": "2023-02-02T08:00:36.338Z"
   },
   {
    "duration": 16,
    "start_time": "2023-02-02T08:01:07.787Z"
   },
   {
    "duration": 15,
    "start_time": "2023-02-02T08:01:17.516Z"
   },
   {
    "duration": 17,
    "start_time": "2023-02-02T08:02:36.745Z"
   },
   {
    "duration": 15,
    "start_time": "2023-02-02T08:02:55.323Z"
   },
   {
    "duration": 12,
    "start_time": "2023-02-02T08:04:16.951Z"
   },
   {
    "duration": 13,
    "start_time": "2023-02-02T08:04:47.447Z"
   },
   {
    "duration": 7,
    "start_time": "2023-02-02T08:08:08.186Z"
   },
   {
    "duration": 7,
    "start_time": "2023-02-02T08:08:11.661Z"
   },
   {
    "duration": 3,
    "start_time": "2023-02-02T08:08:26.455Z"
   },
   {
    "duration": 57,
    "start_time": "2023-02-02T08:08:26.464Z"
   },
   {
    "duration": 14,
    "start_time": "2023-02-02T08:08:26.523Z"
   },
   {
    "duration": 3,
    "start_time": "2023-02-02T08:08:26.538Z"
   },
   {
    "duration": 8,
    "start_time": "2023-02-02T08:08:44.619Z"
   },
   {
    "duration": 9,
    "start_time": "2023-02-02T08:08:46.336Z"
   },
   {
    "duration": 17,
    "start_time": "2023-02-02T08:10:09.328Z"
   },
   {
    "duration": 75,
    "start_time": "2023-02-02T08:14:23.806Z"
   },
   {
    "duration": 13,
    "start_time": "2023-02-02T08:14:36.752Z"
   },
   {
    "duration": 7,
    "start_time": "2023-02-02T08:18:27.795Z"
   },
   {
    "duration": 246,
    "start_time": "2023-02-02T08:19:32.871Z"
   },
   {
    "duration": 14,
    "start_time": "2023-02-02T08:36:48.142Z"
   },
   {
    "duration": 209,
    "start_time": "2023-02-02T08:47:37.566Z"
   },
   {
    "duration": 10,
    "start_time": "2023-02-02T08:47:44.007Z"
   },
   {
    "duration": 2,
    "start_time": "2023-02-02T08:48:06.306Z"
   },
   {
    "duration": 74,
    "start_time": "2023-02-02T08:48:06.313Z"
   },
   {
    "duration": 12,
    "start_time": "2023-02-02T08:48:06.389Z"
   },
   {
    "duration": 28,
    "start_time": "2023-02-02T08:48:06.403Z"
   },
   {
    "duration": 48,
    "start_time": "2023-02-02T08:48:06.433Z"
   },
   {
    "duration": 33,
    "start_time": "2023-02-02T08:48:06.482Z"
   },
   {
    "duration": 120,
    "start_time": "2023-02-02T08:48:06.516Z"
   },
   {
    "duration": 134,
    "start_time": "2023-02-02T08:48:06.637Z"
   },
   {
    "duration": 8,
    "start_time": "2023-02-02T08:48:24.147Z"
   },
   {
    "duration": 670,
    "start_time": "2023-02-02T08:48:27.843Z"
   },
   {
    "duration": 694,
    "start_time": "2023-02-02T08:53:15.288Z"
   },
   {
    "duration": 73,
    "start_time": "2023-02-02T08:57:11.734Z"
   },
   {
    "duration": 394,
    "start_time": "2023-02-02T08:57:57.167Z"
   },
   {
    "duration": 91,
    "start_time": "2023-02-02T09:02:35.618Z"
   },
   {
    "duration": 260,
    "start_time": "2023-02-02T09:18:48.449Z"
   },
   {
    "duration": 2910,
    "start_time": "2023-02-02T09:24:26.846Z"
   },
   {
    "duration": 116,
    "start_time": "2023-02-02T09:27:03.345Z"
   },
   {
    "duration": 37,
    "start_time": "2023-02-02T09:29:37.104Z"
   },
   {
    "duration": 68,
    "start_time": "2023-02-02T09:31:34.392Z"
   },
   {
    "duration": 38,
    "start_time": "2023-02-02T09:31:54.655Z"
   },
   {
    "duration": 74,
    "start_time": "2023-02-02T09:33:13.334Z"
   },
   {
    "duration": 14,
    "start_time": "2023-02-02T09:33:29.034Z"
   },
   {
    "duration": 12,
    "start_time": "2023-02-02T09:36:45.364Z"
   },
   {
    "duration": 1067,
    "start_time": "2023-02-02T10:15:24.105Z"
   },
   {
    "duration": 65,
    "start_time": "2023-02-02T10:15:25.174Z"
   },
   {
    "duration": 14,
    "start_time": "2023-02-02T10:15:25.240Z"
   },
   {
    "duration": 14,
    "start_time": "2023-02-02T10:15:25.256Z"
   },
   {
    "duration": 19,
    "start_time": "2023-02-02T10:15:25.272Z"
   },
   {
    "duration": 32,
    "start_time": "2023-02-02T10:15:25.292Z"
   },
   {
    "duration": 105,
    "start_time": "2023-02-02T10:15:25.326Z"
   },
   {
    "duration": 146,
    "start_time": "2023-02-02T10:15:25.433Z"
   },
   {
    "duration": 8,
    "start_time": "2023-02-02T10:15:25.580Z"
   },
   {
    "duration": 658,
    "start_time": "2023-02-02T10:15:25.591Z"
   },
   {
    "duration": 358,
    "start_time": "2023-02-02T10:15:26.252Z"
   },
   {
    "duration": 104,
    "start_time": "2023-02-02T10:15:26.612Z"
   },
   {
    "duration": 278,
    "start_time": "2023-02-02T10:15:26.718Z"
   },
   {
    "duration": 2999,
    "start_time": "2023-02-02T10:15:26.998Z"
   },
   {
    "duration": 139,
    "start_time": "2023-02-02T10:15:30.000Z"
   },
   {
    "duration": 50,
    "start_time": "2023-02-02T10:15:30.141Z"
   },
   {
    "duration": 67,
    "start_time": "2023-02-02T10:15:30.193Z"
   },
   {
    "duration": 15,
    "start_time": "2023-02-02T10:15:30.262Z"
   },
   {
    "duration": 61,
    "start_time": "2023-02-02T10:15:30.279Z"
   },
   {
    "duration": 58,
    "start_time": "2023-02-02T10:15:30.341Z"
   },
   {
    "duration": 1035,
    "start_time": "2023-02-02T10:28:07.423Z"
   },
   {
    "duration": 64,
    "start_time": "2023-02-02T10:28:08.460Z"
   },
   {
    "duration": 13,
    "start_time": "2023-02-02T10:28:08.526Z"
   },
   {
    "duration": 3,
    "start_time": "2023-02-02T10:28:08.540Z"
   },
   {
    "duration": 15,
    "start_time": "2023-02-02T10:28:08.544Z"
   },
   {
    "duration": 15,
    "start_time": "2023-02-02T10:28:08.560Z"
   },
   {
    "duration": 97,
    "start_time": "2023-02-02T10:28:08.576Z"
   },
   {
    "duration": 157,
    "start_time": "2023-02-02T10:28:08.675Z"
   },
   {
    "duration": 9,
    "start_time": "2023-02-02T10:28:08.833Z"
   },
   {
    "duration": 680,
    "start_time": "2023-02-02T10:28:08.845Z"
   },
   {
    "duration": 363,
    "start_time": "2023-02-02T10:28:09.526Z"
   },
   {
    "duration": 105,
    "start_time": "2023-02-02T10:28:09.890Z"
   },
   {
    "duration": 292,
    "start_time": "2023-02-02T10:28:09.997Z"
   },
   {
    "duration": 2902,
    "start_time": "2023-02-02T10:28:10.290Z"
   },
   {
    "duration": 122,
    "start_time": "2023-02-02T10:28:13.194Z"
   },
   {
    "duration": 52,
    "start_time": "2023-02-02T10:28:13.317Z"
   },
   {
    "duration": 35,
    "start_time": "2023-02-02T10:28:13.370Z"
   },
   {
    "duration": 15,
    "start_time": "2023-02-02T10:28:13.407Z"
   },
   {
    "duration": 45,
    "start_time": "2023-02-02T10:28:13.424Z"
   },
   {
    "duration": 9,
    "start_time": "2023-02-02T10:28:13.471Z"
   },
   {
    "duration": 48,
    "start_time": "2023-02-02T11:45:50.708Z"
   },
   {
    "duration": 110,
    "start_time": "2023-02-02T11:46:09.314Z"
   },
   {
    "duration": 13,
    "start_time": "2023-02-02T11:46:30.902Z"
   },
   {
    "duration": 310,
    "start_time": "2023-02-02T11:48:46.897Z"
   },
   {
    "duration": 362,
    "start_time": "2023-02-02T11:49:08.871Z"
   },
   {
    "duration": 1347,
    "start_time": "2023-02-03T10:24:21.641Z"
   },
   {
    "duration": 245,
    "start_time": "2023-02-03T10:24:22.991Z"
   },
   {
    "duration": 16,
    "start_time": "2023-02-03T10:24:23.238Z"
   },
   {
    "duration": 4,
    "start_time": "2023-02-03T10:24:23.257Z"
   },
   {
    "duration": 11,
    "start_time": "2023-02-03T10:24:23.263Z"
   },
   {
    "duration": 10,
    "start_time": "2023-02-03T10:35:04.811Z"
   },
   {
    "duration": 1004,
    "start_time": "2023-02-03T10:37:11.915Z"
   },
   {
    "duration": 7,
    "start_time": "2023-02-03T10:37:25.712Z"
   },
   {
    "duration": 9,
    "start_time": "2023-02-03T10:37:53.830Z"
   },
   {
    "duration": 994,
    "start_time": "2023-02-03T10:38:47.843Z"
   },
   {
    "duration": 970,
    "start_time": "2023-02-03T10:39:08.547Z"
   },
   {
    "duration": 8,
    "start_time": "2023-02-03T10:39:18.092Z"
   },
   {
    "duration": 8,
    "start_time": "2023-02-03T10:39:53.084Z"
   },
   {
    "duration": 18,
    "start_time": "2023-02-03T10:45:41.503Z"
   },
   {
    "duration": 29,
    "start_time": "2023-02-03T10:46:43.233Z"
   },
   {
    "duration": 12,
    "start_time": "2023-02-03T10:47:09.669Z"
   },
   {
    "duration": 765,
    "start_time": "2023-02-03T10:48:29.134Z"
   },
   {
    "duration": 44,
    "start_time": "2023-02-03T10:49:08.340Z"
   },
   {
    "duration": 65,
    "start_time": "2023-02-03T10:49:17.715Z"
   },
   {
    "duration": 769,
    "start_time": "2023-02-03T10:49:28.490Z"
   },
   {
    "duration": 51,
    "start_time": "2023-02-03T10:49:34.859Z"
   },
   {
    "duration": 50,
    "start_time": "2023-02-03T10:49:41.681Z"
   },
   {
    "duration": 794,
    "start_time": "2023-02-03T10:50:23.974Z"
   },
   {
    "duration": 4423,
    "start_time": "2023-02-03T10:50:42.875Z"
   },
   {
    "duration": 658,
    "start_time": "2023-02-03T10:51:26.828Z"
   },
   {
    "duration": 58,
    "start_time": "2023-02-03T10:51:50.080Z"
   },
   {
    "duration": 66,
    "start_time": "2023-02-03T10:52:04.198Z"
   },
   {
    "duration": 866,
    "start_time": "2023-02-03T10:52:09.403Z"
   },
   {
    "duration": 601,
    "start_time": "2023-02-03T10:52:25.488Z"
   },
   {
    "duration": 4349,
    "start_time": "2023-02-03T10:52:49.626Z"
   },
   {
    "duration": 4234,
    "start_time": "2023-02-03T10:54:06.499Z"
   },
   {
    "duration": 4301,
    "start_time": "2023-02-03T10:54:23.868Z"
   },
   {
    "duration": 4264,
    "start_time": "2023-02-03T10:56:39.944Z"
   },
   {
    "duration": 215,
    "start_time": "2023-02-03T10:57:02.526Z"
   },
   {
    "duration": 140,
    "start_time": "2023-02-03T10:57:26.414Z"
   },
   {
    "duration": 165,
    "start_time": "2023-02-03T11:17:46.285Z"
   },
   {
    "duration": 196,
    "start_time": "2023-02-03T11:18:35.753Z"
   },
   {
    "duration": 161,
    "start_time": "2023-02-03T11:18:44.206Z"
   },
   {
    "duration": 223,
    "start_time": "2023-02-03T11:19:20.423Z"
   },
   {
    "duration": 182,
    "start_time": "2023-02-03T11:19:42.019Z"
   },
   {
    "duration": 177,
    "start_time": "2023-02-03T11:19:52.196Z"
   },
   {
    "duration": 50,
    "start_time": "2023-02-03T11:21:16.215Z"
   },
   {
    "duration": 168,
    "start_time": "2023-02-03T11:21:42.887Z"
   },
   {
    "duration": 219,
    "start_time": "2023-02-03T11:22:10.548Z"
   },
   {
    "duration": 171,
    "start_time": "2023-02-03T11:22:22.372Z"
   },
   {
    "duration": 245,
    "start_time": "2023-02-03T11:22:49.619Z"
   },
   {
    "duration": 186,
    "start_time": "2023-02-03T11:23:12.385Z"
   },
   {
    "duration": 149,
    "start_time": "2023-02-03T11:33:13.411Z"
   },
   {
    "duration": 141,
    "start_time": "2023-02-03T11:34:18.216Z"
   },
   {
    "duration": 805,
    "start_time": "2023-02-03T11:36:09.289Z"
   },
   {
    "duration": 2162,
    "start_time": "2023-02-03T11:36:36.557Z"
   },
   {
    "duration": 16,
    "start_time": "2023-02-03T11:37:54.741Z"
   },
   {
    "duration": 59,
    "start_time": "2023-02-03T11:38:41.869Z"
   },
   {
    "duration": 23,
    "start_time": "2023-02-03T11:39:55.279Z"
   },
   {
    "duration": 6,
    "start_time": "2023-02-03T11:42:30.389Z"
   },
   {
    "duration": 12,
    "start_time": "2023-02-03T11:44:27.103Z"
   },
   {
    "duration": 11,
    "start_time": "2023-02-03T11:44:58.105Z"
   },
   {
    "duration": 11,
    "start_time": "2023-02-03T11:45:37.302Z"
   },
   {
    "duration": 9,
    "start_time": "2023-02-03T11:49:15.195Z"
   },
   {
    "duration": 10,
    "start_time": "2023-02-03T11:49:24.146Z"
   },
   {
    "duration": 3,
    "start_time": "2023-02-03T11:49:42.295Z"
   },
   {
    "duration": 65,
    "start_time": "2023-02-03T11:49:42.300Z"
   },
   {
    "duration": 23,
    "start_time": "2023-02-03T11:49:42.367Z"
   },
   {
    "duration": 9,
    "start_time": "2023-02-03T11:49:42.392Z"
   },
   {
    "duration": 17,
    "start_time": "2023-02-03T11:49:42.403Z"
   },
   {
    "duration": 16,
    "start_time": "2023-02-03T11:50:21.492Z"
   },
   {
    "duration": 17,
    "start_time": "2023-02-03T11:50:52.640Z"
   },
   {
    "duration": 11,
    "start_time": "2023-02-03T11:51:29.587Z"
   },
   {
    "duration": 132,
    "start_time": "2023-02-03T11:52:30.268Z"
   },
   {
    "duration": 128,
    "start_time": "2023-02-03T11:52:53.833Z"
   },
   {
    "duration": 140,
    "start_time": "2023-02-03T11:53:39.306Z"
   },
   {
    "duration": 127,
    "start_time": "2023-02-03T11:53:51.787Z"
   },
   {
    "duration": 2536,
    "start_time": "2023-02-03T11:56:02.395Z"
   },
   {
    "duration": 1318,
    "start_time": "2023-02-03T11:56:35.705Z"
   },
   {
    "duration": 1443,
    "start_time": "2023-02-03T11:56:47.355Z"
   },
   {
    "duration": 2,
    "start_time": "2023-02-03T12:00:41.207Z"
   },
   {
    "duration": 73,
    "start_time": "2023-02-03T12:00:41.212Z"
   },
   {
    "duration": 13,
    "start_time": "2023-02-03T12:00:41.286Z"
   },
   {
    "duration": 5,
    "start_time": "2023-02-03T12:00:41.302Z"
   },
   {
    "duration": 12,
    "start_time": "2023-02-03T12:00:41.309Z"
   },
   {
    "duration": 64,
    "start_time": "2023-02-03T12:00:49.242Z"
   },
   {
    "duration": 1425,
    "start_time": "2023-02-03T12:01:00.187Z"
   },
   {
    "duration": 3368,
    "start_time": "2023-02-03T12:01:40.924Z"
   },
   {
    "duration": 15,
    "start_time": "2023-02-03T12:04:28.407Z"
   },
   {
    "duration": 2,
    "start_time": "2023-02-03T12:05:24.315Z"
   },
   {
    "duration": 84,
    "start_time": "2023-02-03T12:05:24.320Z"
   },
   {
    "duration": 12,
    "start_time": "2023-02-03T12:05:24.406Z"
   },
   {
    "duration": 3,
    "start_time": "2023-02-03T12:05:24.419Z"
   },
   {
    "duration": 10,
    "start_time": "2023-02-03T12:05:24.423Z"
   },
   {
    "duration": 3204,
    "start_time": "2023-02-03T12:05:24.435Z"
   },
   {
    "duration": 18,
    "start_time": "2023-02-03T12:05:37.500Z"
   },
   {
    "duration": 12,
    "start_time": "2023-02-03T12:05:42.336Z"
   },
   {
    "duration": 2,
    "start_time": "2023-02-03T12:06:22.224Z"
   },
   {
    "duration": 68,
    "start_time": "2023-02-03T12:06:22.230Z"
   },
   {
    "duration": 12,
    "start_time": "2023-02-03T12:06:22.301Z"
   },
   {
    "duration": 2,
    "start_time": "2023-02-03T12:06:22.314Z"
   },
   {
    "duration": 12,
    "start_time": "2023-02-03T12:06:22.318Z"
   },
   {
    "duration": 3485,
    "start_time": "2023-02-03T12:06:22.331Z"
   },
   {
    "duration": 17,
    "start_time": "2023-02-03T12:06:27.925Z"
   },
   {
    "duration": 2,
    "start_time": "2023-02-03T12:08:26.690Z"
   },
   {
    "duration": 66,
    "start_time": "2023-02-03T12:08:26.696Z"
   },
   {
    "duration": 12,
    "start_time": "2023-02-03T12:08:26.764Z"
   },
   {
    "duration": 7,
    "start_time": "2023-02-03T12:08:26.778Z"
   },
   {
    "duration": 20,
    "start_time": "2023-02-03T12:08:26.787Z"
   },
   {
    "duration": 3096,
    "start_time": "2023-02-03T12:08:26.809Z"
   },
   {
    "duration": 16,
    "start_time": "2023-02-03T12:08:31.180Z"
   },
   {
    "duration": 9,
    "start_time": "2023-02-03T12:10:44.884Z"
   },
   {
    "duration": 4,
    "start_time": "2023-02-03T12:11:47.234Z"
   },
   {
    "duration": 4,
    "start_time": "2023-02-03T12:12:02.552Z"
   },
   {
    "duration": 4,
    "start_time": "2023-02-03T12:12:08.542Z"
   },
   {
    "duration": 4,
    "start_time": "2023-02-03T12:13:18.993Z"
   },
   {
    "duration": 5,
    "start_time": "2023-02-03T12:13:54.124Z"
   },
   {
    "duration": 4,
    "start_time": "2023-02-03T12:14:20.565Z"
   },
   {
    "duration": 5,
    "start_time": "2023-02-03T12:14:35.115Z"
   },
   {
    "duration": 5,
    "start_time": "2023-02-03T12:14:56.437Z"
   },
   {
    "duration": 12,
    "start_time": "2023-02-03T12:15:25.048Z"
   },
   {
    "duration": 6,
    "start_time": "2023-02-03T12:15:41.810Z"
   },
   {
    "duration": 63,
    "start_time": "2023-02-03T12:15:41.818Z"
   },
   {
    "duration": 11,
    "start_time": "2023-02-03T12:15:41.883Z"
   },
   {
    "duration": 2,
    "start_time": "2023-02-03T12:15:41.896Z"
   },
   {
    "duration": 11,
    "start_time": "2023-02-03T12:15:41.900Z"
   },
   {
    "duration": 8,
    "start_time": "2023-02-03T12:15:46.281Z"
   },
   {
    "duration": 5,
    "start_time": "2023-02-03T12:16:03.621Z"
   },
   {
    "duration": 3243,
    "start_time": "2023-02-03T12:16:17.151Z"
   },
   {
    "duration": 18,
    "start_time": "2023-02-03T12:16:22.978Z"
   },
   {
    "duration": 7,
    "start_time": "2023-02-03T12:16:29.789Z"
   },
   {
    "duration": 3,
    "start_time": "2023-02-03T13:18:49.772Z"
   },
   {
    "duration": 72,
    "start_time": "2023-02-03T13:18:49.779Z"
   },
   {
    "duration": 12,
    "start_time": "2023-02-03T13:18:49.853Z"
   },
   {
    "duration": 11,
    "start_time": "2023-02-03T13:18:49.867Z"
   },
   {
    "duration": 12,
    "start_time": "2023-02-03T13:18:49.880Z"
   },
   {
    "duration": 3116,
    "start_time": "2023-02-03T13:18:49.894Z"
   },
   {
    "duration": 20,
    "start_time": "2023-02-03T13:19:05.005Z"
   },
   {
    "duration": 13,
    "start_time": "2023-02-03T13:20:27.385Z"
   },
   {
    "duration": 13,
    "start_time": "2023-02-03T13:37:07.707Z"
   },
   {
    "duration": 28,
    "start_time": "2023-02-03T13:37:28.163Z"
   },
   {
    "duration": 24,
    "start_time": "2023-02-03T13:39:03.735Z"
   },
   {
    "duration": 70,
    "start_time": "2023-02-03T13:39:51.045Z"
   },
   {
    "duration": 19,
    "start_time": "2023-02-03T13:40:00.942Z"
   },
   {
    "duration": 19,
    "start_time": "2023-02-03T13:40:48.774Z"
   },
   {
    "duration": 27,
    "start_time": "2023-02-03T13:41:12.904Z"
   },
   {
    "duration": 13,
    "start_time": "2023-02-03T13:41:31.659Z"
   },
   {
    "duration": 20,
    "start_time": "2023-02-03T13:41:56.310Z"
   },
   {
    "duration": 26,
    "start_time": "2023-02-03T13:45:35.766Z"
   },
   {
    "duration": 15,
    "start_time": "2023-02-03T13:46:06.490Z"
   },
   {
    "duration": 17,
    "start_time": "2023-02-03T13:47:11.871Z"
   },
   {
    "duration": 16,
    "start_time": "2023-02-03T13:56:07.191Z"
   },
   {
    "duration": 28,
    "start_time": "2023-02-03T13:57:10.192Z"
   },
   {
    "duration": 21,
    "start_time": "2023-02-03T13:57:59.699Z"
   },
   {
    "duration": 33,
    "start_time": "2023-02-03T13:59:11.369Z"
   },
   {
    "duration": 22,
    "start_time": "2023-02-03T14:00:09.202Z"
   },
   {
    "duration": 13,
    "start_time": "2023-02-03T14:00:37.450Z"
   },
   {
    "duration": 3,
    "start_time": "2023-02-03T14:01:01.408Z"
   },
   {
    "duration": 81,
    "start_time": "2023-02-03T14:01:01.415Z"
   },
   {
    "duration": 12,
    "start_time": "2023-02-03T14:01:01.498Z"
   },
   {
    "duration": 25,
    "start_time": "2023-02-03T14:01:01.512Z"
   },
   {
    "duration": 47,
    "start_time": "2023-02-03T14:01:01.539Z"
   },
   {
    "duration": 3749,
    "start_time": "2023-02-03T14:01:01.588Z"
   },
   {
    "duration": 28,
    "start_time": "2023-02-03T14:01:05.339Z"
   },
   {
    "duration": 14,
    "start_time": "2023-02-03T14:01:07.082Z"
   },
   {
    "duration": 16,
    "start_time": "2023-02-03T14:01:08.637Z"
   },
   {
    "duration": 9,
    "start_time": "2023-02-03T14:01:34.324Z"
   },
   {
    "duration": 11,
    "start_time": "2023-02-03T14:02:21.080Z"
   },
   {
    "duration": 3,
    "start_time": "2023-02-03T14:02:27.807Z"
   },
   {
    "duration": 78,
    "start_time": "2023-02-03T14:02:27.814Z"
   },
   {
    "duration": 14,
    "start_time": "2023-02-03T14:02:27.895Z"
   },
   {
    "duration": 7,
    "start_time": "2023-02-03T14:02:27.911Z"
   },
   {
    "duration": 14,
    "start_time": "2023-02-03T14:02:31.472Z"
   },
   {
    "duration": 26,
    "start_time": "2023-02-03T14:02:32.961Z"
   },
   {
    "duration": 3,
    "start_time": "2023-02-03T14:02:43.735Z"
   },
   {
    "duration": 72,
    "start_time": "2023-02-03T14:02:43.742Z"
   },
   {
    "duration": 14,
    "start_time": "2023-02-03T14:02:43.816Z"
   },
   {
    "duration": 3,
    "start_time": "2023-02-03T14:02:43.832Z"
   },
   {
    "duration": 14,
    "start_time": "2023-02-03T14:02:48.361Z"
   },
   {
    "duration": 9,
    "start_time": "2023-02-03T14:03:37.342Z"
   },
   {
    "duration": 4005,
    "start_time": "2023-02-03T14:03:43.307Z"
   },
   {
    "duration": 28,
    "start_time": "2023-02-03T14:03:51.660Z"
   },
   {
    "duration": 17,
    "start_time": "2023-02-03T14:03:58.909Z"
   },
   {
    "duration": 18,
    "start_time": "2023-02-03T14:04:35.284Z"
   },
   {
    "duration": 18,
    "start_time": "2023-02-03T14:05:30.464Z"
   },
   {
    "duration": 24,
    "start_time": "2023-02-03T14:07:11.871Z"
   },
   {
    "duration": 21,
    "start_time": "2023-02-03T14:07:16.463Z"
   },
   {
    "duration": 13,
    "start_time": "2023-02-03T14:12:56.671Z"
   },
   {
    "duration": 13,
    "start_time": "2023-02-03T14:16:40.900Z"
   },
   {
    "duration": 9,
    "start_time": "2023-02-03T14:17:23.719Z"
   },
   {
    "duration": 5,
    "start_time": "2023-02-03T14:17:36.659Z"
   },
   {
    "duration": 582,
    "start_time": "2023-02-03T14:17:45.986Z"
   },
   {
    "duration": 573,
    "start_time": "2023-02-03T14:18:02.792Z"
   },
   {
    "duration": 2,
    "start_time": "2023-02-03T14:18:16.492Z"
   },
   {
    "duration": 79,
    "start_time": "2023-02-03T14:18:16.497Z"
   },
   {
    "duration": 14,
    "start_time": "2023-02-03T14:18:16.578Z"
   },
   {
    "duration": 3,
    "start_time": "2023-02-03T14:18:16.594Z"
   },
   {
    "duration": 13,
    "start_time": "2023-02-03T14:18:16.598Z"
   },
   {
    "duration": 3654,
    "start_time": "2023-02-03T14:18:16.613Z"
   },
   {
    "duration": 20,
    "start_time": "2023-02-03T14:18:20.269Z"
   },
   {
    "duration": 10,
    "start_time": "2023-02-03T14:18:24.544Z"
   },
   {
    "duration": 2,
    "start_time": "2023-02-03T14:18:54.021Z"
   },
   {
    "duration": 59,
    "start_time": "2023-02-03T14:18:54.032Z"
   },
   {
    "duration": 14,
    "start_time": "2023-02-03T14:18:54.093Z"
   },
   {
    "duration": 3,
    "start_time": "2023-02-03T14:18:54.108Z"
   },
   {
    "duration": 13,
    "start_time": "2023-02-03T14:18:54.113Z"
   },
   {
    "duration": 3551,
    "start_time": "2023-02-03T14:18:54.128Z"
   },
   {
    "duration": 16,
    "start_time": "2023-02-03T14:18:57.681Z"
   },
   {
    "duration": 15,
    "start_time": "2023-02-03T14:19:00.117Z"
   },
   {
    "duration": 3,
    "start_time": "2023-02-03T14:19:14.849Z"
   },
   {
    "duration": 71,
    "start_time": "2023-02-03T14:19:14.862Z"
   },
   {
    "duration": 19,
    "start_time": "2023-02-03T14:19:14.936Z"
   },
   {
    "duration": 3,
    "start_time": "2023-02-03T14:19:14.957Z"
   },
   {
    "duration": 17,
    "start_time": "2023-02-03T14:19:14.962Z"
   },
   {
    "duration": 3462,
    "start_time": "2023-02-03T14:19:14.982Z"
   },
   {
    "duration": 24,
    "start_time": "2023-02-03T14:19:18.446Z"
   },
   {
    "duration": 16,
    "start_time": "2023-02-03T14:19:20.438Z"
   },
   {
    "duration": 2,
    "start_time": "2023-02-03T14:20:22.738Z"
   },
   {
    "duration": 68,
    "start_time": "2023-02-03T14:20:22.744Z"
   },
   {
    "duration": 11,
    "start_time": "2023-02-03T14:20:22.814Z"
   },
   {
    "duration": 2,
    "start_time": "2023-02-03T14:20:22.827Z"
   },
   {
    "duration": 10,
    "start_time": "2023-02-03T14:20:22.831Z"
   },
   {
    "duration": 3541,
    "start_time": "2023-02-03T14:20:22.843Z"
   },
   {
    "duration": 15,
    "start_time": "2023-02-03T14:20:26.386Z"
   },
   {
    "duration": 15,
    "start_time": "2023-02-03T14:20:29.020Z"
   },
   {
    "duration": 20,
    "start_time": "2023-02-03T14:21:07.560Z"
   },
   {
    "duration": 13,
    "start_time": "2023-02-03T14:21:14.718Z"
   },
   {
    "duration": 18,
    "start_time": "2023-02-03T14:24:35.962Z"
   },
   {
    "duration": 14,
    "start_time": "2023-02-03T14:25:01.797Z"
   },
   {
    "duration": 21,
    "start_time": "2023-02-03T14:25:55.622Z"
   },
   {
    "duration": 22,
    "start_time": "2023-02-03T14:26:11.710Z"
   },
   {
    "duration": 3,
    "start_time": "2023-02-03T14:36:41.831Z"
   },
   {
    "duration": 71,
    "start_time": "2023-02-03T14:36:41.838Z"
   },
   {
    "duration": 13,
    "start_time": "2023-02-03T14:36:41.911Z"
   },
   {
    "duration": 6,
    "start_time": "2023-02-03T14:36:41.926Z"
   },
   {
    "duration": 12,
    "start_time": "2023-02-03T14:36:41.934Z"
   },
   {
    "duration": 8176,
    "start_time": "2023-02-03T14:36:49.152Z"
   },
   {
    "duration": 13,
    "start_time": "2023-02-03T14:37:12.887Z"
   },
   {
    "duration": 6,
    "start_time": "2023-02-03T14:37:53.903Z"
   },
   {
    "duration": 4,
    "start_time": "2023-02-03T14:39:12.435Z"
   },
   {
    "duration": 94,
    "start_time": "2023-02-03T14:39:12.448Z"
   },
   {
    "duration": 15,
    "start_time": "2023-02-03T14:39:12.545Z"
   },
   {
    "duration": 4,
    "start_time": "2023-02-03T14:39:12.562Z"
   },
   {
    "duration": 35,
    "start_time": "2023-02-03T14:39:12.571Z"
   },
   {
    "duration": 10,
    "start_time": "2023-02-03T14:39:20.387Z"
   },
   {
    "duration": 3,
    "start_time": "2023-02-03T14:58:04.615Z"
   },
   {
    "duration": 78,
    "start_time": "2023-02-03T14:58:04.622Z"
   },
   {
    "duration": 18,
    "start_time": "2023-02-03T14:58:04.703Z"
   },
   {
    "duration": 3,
    "start_time": "2023-02-03T14:58:04.723Z"
   },
   {
    "duration": 10,
    "start_time": "2023-02-03T14:58:04.728Z"
   },
   {
    "duration": 8,
    "start_time": "2023-02-03T14:58:11.173Z"
   },
   {
    "duration": 8834,
    "start_time": "2023-02-03T14:58:23.417Z"
   },
   {
    "duration": 9,
    "start_time": "2023-02-03T14:58:36.275Z"
   },
   {
    "duration": 3,
    "start_time": "2023-02-03T15:05:35.631Z"
   },
   {
    "duration": 90,
    "start_time": "2023-02-03T15:05:35.637Z"
   },
   {
    "duration": 12,
    "start_time": "2023-02-03T15:05:35.729Z"
   },
   {
    "duration": 14,
    "start_time": "2023-02-03T15:05:39.818Z"
   },
   {
    "duration": 11,
    "start_time": "2023-02-03T15:06:12.816Z"
   },
   {
    "duration": 24,
    "start_time": "2023-02-03T15:07:01.336Z"
   },
   {
    "duration": 805,
    "start_time": "2023-02-03T15:09:48.976Z"
   },
   {
    "duration": 4,
    "start_time": "2023-02-03T15:10:13.974Z"
   },
   {
    "duration": 135,
    "start_time": "2023-02-03T15:10:13.989Z"
   },
   {
    "duration": 27,
    "start_time": "2023-02-03T15:10:14.125Z"
   },
   {
    "duration": 59,
    "start_time": "2023-02-03T15:10:14.154Z"
   },
   {
    "duration": 41,
    "start_time": "2023-02-03T15:10:14.214Z"
   },
   {
    "duration": 9782,
    "start_time": "2023-02-03T15:10:14.256Z"
   },
   {
    "duration": 4,
    "start_time": "2023-02-03T15:10:26.360Z"
   },
   {
    "duration": 15,
    "start_time": "2023-02-03T15:10:45.011Z"
   },
   {
    "duration": 6,
    "start_time": "2023-02-03T15:13:08.865Z"
   },
   {
    "duration": 76,
    "start_time": "2023-02-03T15:13:08.876Z"
   },
   {
    "duration": 22,
    "start_time": "2023-02-03T15:13:08.954Z"
   },
   {
    "duration": 12,
    "start_time": "2023-02-03T15:13:08.978Z"
   },
   {
    "duration": 16,
    "start_time": "2023-02-03T15:13:08.992Z"
   },
   {
    "duration": 9946,
    "start_time": "2023-02-03T15:13:09.010Z"
   },
   {
    "duration": 15,
    "start_time": "2023-02-03T15:13:18.957Z"
   },
   {
    "duration": 23,
    "start_time": "2023-02-03T15:13:18.974Z"
   },
   {
    "duration": 17,
    "start_time": "2023-02-03T15:13:18.999Z"
   },
   {
    "duration": 39,
    "start_time": "2023-02-03T15:13:19.018Z"
   },
   {
    "duration": 109,
    "start_time": "2023-02-03T15:13:19.059Z"
   },
   {
    "duration": 26,
    "start_time": "2023-02-03T15:19:05.152Z"
   },
   {
    "duration": 15,
    "start_time": "2023-02-03T15:19:34.405Z"
   },
   {
    "duration": 20,
    "start_time": "2023-02-03T15:19:43.760Z"
   },
   {
    "duration": 12,
    "start_time": "2023-02-03T15:20:47.953Z"
   },
   {
    "duration": 7,
    "start_time": "2023-02-03T18:32:27.188Z"
   },
   {
    "duration": 3,
    "start_time": "2023-02-03T18:33:26.031Z"
   },
   {
    "duration": 76,
    "start_time": "2023-02-03T18:33:26.040Z"
   },
   {
    "duration": 12,
    "start_time": "2023-02-03T18:33:26.118Z"
   },
   {
    "duration": 27,
    "start_time": "2023-02-03T18:33:26.132Z"
   },
   {
    "duration": 25,
    "start_time": "2023-02-03T18:33:26.161Z"
   },
   {
    "duration": 9697,
    "start_time": "2023-02-03T18:33:26.188Z"
   },
   {
    "duration": 6,
    "start_time": "2023-02-03T18:33:35.887Z"
   },
   {
    "duration": 32,
    "start_time": "2023-02-03T18:33:35.895Z"
   },
   {
    "duration": 809,
    "start_time": "2023-02-03T18:33:35.930Z"
   },
   {
    "duration": 19,
    "start_time": "2023-02-03T18:33:36.742Z"
   },
   {
    "duration": 188,
    "start_time": "2023-02-03T18:33:36.765Z"
   },
   {
    "duration": 16,
    "start_time": "2023-02-03T18:33:36.955Z"
   },
   {
    "duration": 9,
    "start_time": "2023-02-03T18:33:59.024Z"
   },
   {
    "duration": 150,
    "start_time": "2023-02-03T18:35:16.916Z"
   },
   {
    "duration": 140,
    "start_time": "2023-02-03T18:35:55.087Z"
   },
   {
    "duration": 134,
    "start_time": "2023-02-03T18:37:29.892Z"
   },
   {
    "duration": 4,
    "start_time": "2023-02-03T18:40:06.654Z"
   },
   {
    "duration": 47,
    "start_time": "2023-02-03T18:40:13.096Z"
   },
   {
    "duration": 178,
    "start_time": "2023-02-03T18:40:19.271Z"
   },
   {
    "duration": 5,
    "start_time": "2023-02-03T18:40:44.167Z"
   },
   {
    "duration": 2,
    "start_time": "2023-02-03T18:40:56.262Z"
   },
   {
    "duration": 78,
    "start_time": "2023-02-03T18:40:56.281Z"
   },
   {
    "duration": 20,
    "start_time": "2023-02-03T18:40:56.361Z"
   },
   {
    "duration": 11,
    "start_time": "2023-02-03T18:40:56.383Z"
   },
   {
    "duration": 11,
    "start_time": "2023-02-03T18:40:56.396Z"
   },
   {
    "duration": 10189,
    "start_time": "2023-02-03T18:40:56.408Z"
   },
   {
    "duration": 6,
    "start_time": "2023-02-03T18:41:06.599Z"
   },
   {
    "duration": 12,
    "start_time": "2023-02-03T18:41:06.606Z"
   },
   {
    "duration": 7,
    "start_time": "2023-02-03T18:41:06.619Z"
   },
   {
    "duration": 13,
    "start_time": "2023-02-03T18:41:06.628Z"
   },
   {
    "duration": 170,
    "start_time": "2023-02-03T18:41:06.643Z"
   },
   {
    "duration": 3,
    "start_time": "2023-02-03T18:41:06.815Z"
   },
   {
    "duration": 152,
    "start_time": "2023-02-03T18:41:12.551Z"
   },
   {
    "duration": 4,
    "start_time": "2023-02-03T18:41:47.249Z"
   },
   {
    "duration": 88,
    "start_time": "2023-02-03T18:41:47.257Z"
   },
   {
    "duration": 19,
    "start_time": "2023-02-03T18:41:47.348Z"
   },
   {
    "duration": 6,
    "start_time": "2023-02-03T18:41:47.370Z"
   },
   {
    "duration": 14,
    "start_time": "2023-02-03T18:41:47.379Z"
   },
   {
    "duration": 9673,
    "start_time": "2023-02-03T18:41:47.396Z"
   },
   {
    "duration": 5,
    "start_time": "2023-02-03T18:41:57.071Z"
   },
   {
    "duration": 18,
    "start_time": "2023-02-03T18:41:57.078Z"
   },
   {
    "duration": 21,
    "start_time": "2023-02-03T18:41:57.098Z"
   },
   {
    "duration": 12,
    "start_time": "2023-02-03T18:41:57.121Z"
   },
   {
    "duration": 102,
    "start_time": "2023-02-03T18:41:57.136Z"
   },
   {
    "duration": 3,
    "start_time": "2023-02-03T18:41:57.240Z"
   },
   {
    "duration": 196,
    "start_time": "2023-02-03T18:41:59.626Z"
   },
   {
    "duration": 5,
    "start_time": "2023-02-03T18:42:28.446Z"
   },
   {
    "duration": 3,
    "start_time": "2023-02-03T18:42:42.879Z"
   },
   {
    "duration": 98,
    "start_time": "2023-02-03T18:42:42.887Z"
   },
   {
    "duration": 15,
    "start_time": "2023-02-03T18:42:42.987Z"
   },
   {
    "duration": 18,
    "start_time": "2023-02-03T18:42:43.004Z"
   },
   {
    "duration": 28,
    "start_time": "2023-02-03T18:42:43.024Z"
   },
   {
    "duration": 10268,
    "start_time": "2023-02-03T18:42:43.054Z"
   },
   {
    "duration": 11,
    "start_time": "2023-02-03T18:42:53.324Z"
   },
   {
    "duration": 29,
    "start_time": "2023-02-03T18:42:53.336Z"
   },
   {
    "duration": 26,
    "start_time": "2023-02-03T18:42:53.367Z"
   },
   {
    "duration": 24,
    "start_time": "2023-02-03T18:42:53.395Z"
   },
   {
    "duration": 182,
    "start_time": "2023-02-03T18:42:53.424Z"
   },
   {
    "duration": 4,
    "start_time": "2023-02-03T18:42:53.608Z"
   },
   {
    "duration": 200,
    "start_time": "2023-02-03T18:42:53.613Z"
   },
   {
    "duration": 134,
    "start_time": "2023-02-03T19:47:03.991Z"
   },
   {
    "duration": 1454,
    "start_time": "2023-02-03T21:11:40.106Z"
   },
   {
    "duration": 112,
    "start_time": "2023-02-03T21:11:41.563Z"
   },
   {
    "duration": 16,
    "start_time": "2023-02-03T21:11:41.677Z"
   },
   {
    "duration": 10,
    "start_time": "2023-02-03T21:11:41.695Z"
   },
   {
    "duration": 13,
    "start_time": "2023-02-03T21:11:41.707Z"
   },
   {
    "duration": 9552,
    "start_time": "2023-02-03T21:11:41.722Z"
   },
   {
    "duration": 6,
    "start_time": "2023-02-03T21:11:51.276Z"
   },
   {
    "duration": 18,
    "start_time": "2023-02-03T21:11:51.284Z"
   },
   {
    "duration": 8,
    "start_time": "2023-02-03T21:11:51.303Z"
   },
   {
    "duration": 13,
    "start_time": "2023-02-03T21:11:51.313Z"
   },
   {
    "duration": 111,
    "start_time": "2023-02-03T21:11:51.327Z"
   },
   {
    "duration": 150,
    "start_time": "2023-02-03T21:11:51.439Z"
   },
   {
    "duration": 8,
    "start_time": "2023-02-03T21:12:02.477Z"
   },
   {
    "duration": 92,
    "start_time": "2023-02-03T21:12:44.923Z"
   },
   {
    "duration": 13,
    "start_time": "2023-02-03T21:12:56.510Z"
   },
   {
    "duration": 17,
    "start_time": "2023-02-03T21:13:55.739Z"
   },
   {
    "duration": 12,
    "start_time": "2023-02-03T21:14:38.880Z"
   },
   {
    "duration": 6,
    "start_time": "2023-02-03T21:16:32.137Z"
   },
   {
    "duration": 10,
    "start_time": "2023-02-03T21:16:43.184Z"
   },
   {
    "duration": 9,
    "start_time": "2023-02-03T21:17:06.315Z"
   },
   {
    "duration": 712,
    "start_time": "2023-02-03T21:18:17.257Z"
   },
   {
    "duration": 138,
    "start_time": "2023-02-03T21:44:10.110Z"
   },
   {
    "duration": 141,
    "start_time": "2023-02-03T21:44:55.130Z"
   },
   {
    "duration": 204,
    "start_time": "2023-02-03T21:45:07.832Z"
   },
   {
    "duration": 174,
    "start_time": "2023-02-03T21:45:16.123Z"
   },
   {
    "duration": 154,
    "start_time": "2023-02-03T21:45:24.434Z"
   },
   {
    "duration": 185,
    "start_time": "2023-02-03T21:45:36.690Z"
   },
   {
    "duration": 165,
    "start_time": "2023-02-03T21:45:51.585Z"
   },
   {
    "duration": 187,
    "start_time": "2023-02-03T21:46:10.052Z"
   },
   {
    "duration": 171,
    "start_time": "2023-02-03T21:46:28.491Z"
   },
   {
    "duration": 1136,
    "start_time": "2023-02-03T21:48:42.789Z"
   },
   {
    "duration": 1072,
    "start_time": "2023-02-03T21:50:06.627Z"
   },
   {
    "duration": 1177,
    "start_time": "2023-02-03T21:50:24.412Z"
   },
   {
    "duration": 6,
    "start_time": "2023-02-03T22:04:47.427Z"
   },
   {
    "duration": 1538,
    "start_time": "2023-02-03T22:04:57.809Z"
   },
   {
    "duration": 454,
    "start_time": "2023-02-03T22:16:34.643Z"
   },
   {
    "duration": 55,
    "start_time": "2023-02-04T16:09:36.450Z"
   },
   {
    "duration": 1228,
    "start_time": "2023-02-04T16:09:43.061Z"
   },
   {
    "duration": 198,
    "start_time": "2023-02-04T16:09:44.292Z"
   },
   {
    "duration": 13,
    "start_time": "2023-02-04T16:09:44.492Z"
   },
   {
    "duration": 3,
    "start_time": "2023-02-04T16:09:44.507Z"
   },
   {
    "duration": 20,
    "start_time": "2023-02-04T16:09:44.511Z"
   },
   {
    "duration": 8631,
    "start_time": "2023-02-04T16:09:44.532Z"
   },
   {
    "duration": 5,
    "start_time": "2023-02-04T16:09:53.164Z"
   },
   {
    "duration": 33,
    "start_time": "2023-02-04T16:09:53.170Z"
   },
   {
    "duration": 22,
    "start_time": "2023-02-04T16:09:53.205Z"
   },
   {
    "duration": 17,
    "start_time": "2023-02-04T16:09:53.229Z"
   },
   {
    "duration": 96,
    "start_time": "2023-02-04T16:09:53.248Z"
   },
   {
    "duration": 137,
    "start_time": "2023-02-04T16:09:53.346Z"
   },
   {
    "duration": 11,
    "start_time": "2023-02-04T16:09:53.484Z"
   },
   {
    "duration": 1670,
    "start_time": "2023-02-04T16:09:53.496Z"
   },
   {
    "duration": 353,
    "start_time": "2023-02-04T16:09:55.168Z"
   },
   {
    "duration": 242,
    "start_time": "2023-02-04T16:09:58.756Z"
   },
   {
    "duration": 981,
    "start_time": "2023-02-04T16:10:15.082Z"
   },
   {
    "duration": 1085,
    "start_time": "2023-02-04T16:11:39.989Z"
   },
   {
    "duration": 870,
    "start_time": "2023-02-04T16:12:38.043Z"
   },
   {
    "duration": 986,
    "start_time": "2023-02-04T16:13:14.963Z"
   },
   {
    "duration": 8,
    "start_time": "2023-02-04T16:14:05.720Z"
   },
   {
    "duration": 35,
    "start_time": "2023-02-04T16:14:17.571Z"
   },
   {
    "duration": 1125,
    "start_time": "2023-02-04T16:20:15.941Z"
   },
   {
    "duration": 883,
    "start_time": "2023-02-04T16:22:38.443Z"
   },
   {
    "duration": 965,
    "start_time": "2023-02-04T16:22:51.743Z"
   },
   {
    "duration": 936,
    "start_time": "2023-02-04T16:23:03.887Z"
   },
   {
    "duration": 746,
    "start_time": "2023-02-04T16:23:21.714Z"
   },
   {
    "duration": 1018,
    "start_time": "2023-02-04T16:23:42.229Z"
   },
   {
    "duration": 987,
    "start_time": "2023-02-04T16:24:07.447Z"
   },
   {
    "duration": 639,
    "start_time": "2023-02-04T16:24:27.024Z"
   },
   {
    "duration": 872,
    "start_time": "2023-02-04T16:24:35.974Z"
   },
   {
    "duration": 978,
    "start_time": "2023-02-04T16:24:44.964Z"
   },
   {
    "duration": 990,
    "start_time": "2023-02-04T16:25:04.543Z"
   },
   {
    "duration": 157,
    "start_time": "2023-02-04T16:25:20.151Z"
   },
   {
    "duration": 839,
    "start_time": "2023-02-04T16:25:34.297Z"
   },
   {
    "duration": 1128,
    "start_time": "2023-02-04T16:25:54.775Z"
   },
   {
    "duration": 968,
    "start_time": "2023-02-04T16:26:56.249Z"
   },
   {
    "duration": 1012,
    "start_time": "2023-02-04T16:27:37.219Z"
   },
   {
    "duration": 490,
    "start_time": "2023-02-04T16:31:12.058Z"
   },
   {
    "duration": 570,
    "start_time": "2023-02-04T16:31:53.123Z"
   },
   {
    "duration": 141,
    "start_time": "2023-02-04T17:31:03.854Z"
   },
   {
    "duration": 294,
    "start_time": "2023-02-04T17:31:27.356Z"
   },
   {
    "duration": 1031,
    "start_time": "2023-02-04T17:32:44.650Z"
   },
   {
    "duration": 279,
    "start_time": "2023-02-04T17:33:13.771Z"
   },
   {
    "duration": 288,
    "start_time": "2023-02-04T17:33:46.461Z"
   },
   {
    "duration": 279,
    "start_time": "2023-02-04T17:34:04.469Z"
   },
   {
    "duration": 1193,
    "start_time": "2023-02-04T18:12:54.556Z"
   },
   {
    "duration": 1048,
    "start_time": "2023-02-04T18:13:28.654Z"
   },
   {
    "duration": 1064,
    "start_time": "2023-02-04T18:13:50.384Z"
   },
   {
    "duration": 1243,
    "start_time": "2023-02-04T18:15:20.885Z"
   },
   {
    "duration": 7,
    "start_time": "2023-02-04T18:28:30.566Z"
   },
   {
    "duration": 10,
    "start_time": "2023-02-04T18:29:17.748Z"
   },
   {
    "duration": 7,
    "start_time": "2023-02-04T18:29:32.305Z"
   },
   {
    "duration": 6,
    "start_time": "2023-02-04T18:31:50.480Z"
   },
   {
    "duration": 7,
    "start_time": "2023-02-04T18:32:13.504Z"
   },
   {
    "duration": 7,
    "start_time": "2023-02-04T18:34:09.899Z"
   },
   {
    "duration": 15,
    "start_time": "2023-02-04T18:56:09.063Z"
   },
   {
    "duration": 109,
    "start_time": "2023-02-04T18:56:42.559Z"
   },
   {
    "duration": 7,
    "start_time": "2023-02-04T18:57:06.178Z"
   },
   {
    "duration": 10,
    "start_time": "2023-02-04T18:57:16.755Z"
   },
   {
    "duration": 106,
    "start_time": "2023-02-04T18:58:06.893Z"
   },
   {
    "duration": 17,
    "start_time": "2023-02-04T19:05:28.071Z"
   },
   {
    "duration": 33,
    "start_time": "2023-02-04T19:05:42.462Z"
   },
   {
    "duration": 45,
    "start_time": "2023-02-04T19:45:38.946Z"
   },
   {
    "duration": 676,
    "start_time": "2023-02-04T19:45:47.569Z"
   },
   {
    "duration": 752,
    "start_time": "2023-02-04T19:45:59.058Z"
   },
   {
    "duration": 17,
    "start_time": "2023-02-04T19:46:24.437Z"
   },
   {
    "duration": 16,
    "start_time": "2023-02-04T19:47:15.778Z"
   },
   {
    "duration": 12,
    "start_time": "2023-02-04T19:47:48.966Z"
   },
   {
    "duration": 19,
    "start_time": "2023-02-04T19:48:50.882Z"
   },
   {
    "duration": 12,
    "start_time": "2023-02-04T19:49:14.273Z"
   },
   {
    "duration": 12,
    "start_time": "2023-02-04T19:50:49.258Z"
   },
   {
    "duration": 16,
    "start_time": "2023-02-04T19:53:18.746Z"
   },
   {
    "duration": 16,
    "start_time": "2023-02-04T21:37:09.812Z"
   },
   {
    "duration": 20,
    "start_time": "2023-02-04T21:37:31.015Z"
   },
   {
    "duration": 47,
    "start_time": "2023-02-04T21:42:50.101Z"
   },
   {
    "duration": 16,
    "start_time": "2023-02-04T21:42:57.399Z"
   },
   {
    "duration": 14,
    "start_time": "2023-02-04T21:48:21.746Z"
   },
   {
    "duration": 19,
    "start_time": "2023-02-04T21:50:04.009Z"
   },
   {
    "duration": 16,
    "start_time": "2023-02-04T22:12:38.841Z"
   },
   {
    "duration": 26,
    "start_time": "2023-02-04T22:12:51.901Z"
   },
   {
    "duration": 16,
    "start_time": "2023-02-04T22:18:13.696Z"
   },
   {
    "duration": 13,
    "start_time": "2023-02-04T22:19:31.686Z"
   },
   {
    "duration": 17,
    "start_time": "2023-02-04T22:21:16.301Z"
   },
   {
    "duration": 14,
    "start_time": "2023-02-04T22:24:09.310Z"
   },
   {
    "duration": 29,
    "start_time": "2023-02-04T22:24:23.551Z"
   },
   {
    "duration": 714,
    "start_time": "2023-02-04T22:39:18.866Z"
   },
   {
    "duration": 698,
    "start_time": "2023-02-04T22:42:32.861Z"
   },
   {
    "duration": 715,
    "start_time": "2023-02-04T22:43:01.149Z"
   },
   {
    "duration": 670,
    "start_time": "2023-02-04T22:43:36.753Z"
   },
   {
    "duration": 707,
    "start_time": "2023-02-04T22:43:53.509Z"
   },
   {
    "duration": 698,
    "start_time": "2023-02-04T22:44:09.542Z"
   },
   {
    "duration": 737,
    "start_time": "2023-02-04T22:44:21.107Z"
   },
   {
    "duration": 208,
    "start_time": "2023-02-04T22:44:43.318Z"
   },
   {
    "duration": 191,
    "start_time": "2023-02-04T22:46:15.317Z"
   },
   {
    "duration": 829,
    "start_time": "2023-02-04T22:47:06.218Z"
   },
   {
    "duration": 17,
    "start_time": "2023-02-04T22:47:24.288Z"
   },
   {
    "duration": 20,
    "start_time": "2023-02-04T22:47:49.983Z"
   },
   {
    "duration": 16,
    "start_time": "2023-02-04T22:48:26.309Z"
   },
   {
    "duration": 22,
    "start_time": "2023-02-04T22:48:55.135Z"
   },
   {
    "duration": 23,
    "start_time": "2023-02-04T22:49:39.960Z"
   },
   {
    "duration": 25,
    "start_time": "2023-02-04T22:50:54.516Z"
   },
   {
    "duration": 13,
    "start_time": "2023-02-04T22:52:52.276Z"
   },
   {
    "duration": 38,
    "start_time": "2023-02-04T22:53:54.446Z"
   },
   {
    "duration": 28,
    "start_time": "2023-02-04T23:03:12.210Z"
   },
   {
    "duration": 26,
    "start_time": "2023-02-04T23:03:46.761Z"
   },
   {
    "duration": 8,
    "start_time": "2023-02-04T23:16:35.215Z"
   },
   {
    "duration": 7,
    "start_time": "2023-02-04T23:19:22.335Z"
   },
   {
    "duration": 46,
    "start_time": "2023-02-05T19:32:06.715Z"
   },
   {
    "duration": 1347,
    "start_time": "2023-02-05T19:32:11.525Z"
   },
   {
    "duration": 107,
    "start_time": "2023-02-05T19:32:12.873Z"
   },
   {
    "duration": 13,
    "start_time": "2023-02-05T19:32:12.982Z"
   },
   {
    "duration": 5,
    "start_time": "2023-02-05T19:32:12.997Z"
   },
   {
    "duration": 11,
    "start_time": "2023-02-05T19:32:13.003Z"
   },
   {
    "duration": 9507,
    "start_time": "2023-02-05T19:32:13.016Z"
   },
   {
    "duration": 6,
    "start_time": "2023-02-05T19:32:22.525Z"
   },
   {
    "duration": 25,
    "start_time": "2023-02-05T19:32:22.536Z"
   },
   {
    "duration": 8,
    "start_time": "2023-02-05T19:32:22.564Z"
   },
   {
    "duration": 28,
    "start_time": "2023-02-05T19:32:22.575Z"
   },
   {
    "duration": 129,
    "start_time": "2023-02-05T19:32:22.605Z"
   },
   {
    "duration": 144,
    "start_time": "2023-02-05T19:32:22.736Z"
   },
   {
    "duration": 8,
    "start_time": "2023-02-05T19:32:22.881Z"
   },
   {
    "duration": 1558,
    "start_time": "2023-02-05T19:32:22.890Z"
   },
   {
    "duration": 333,
    "start_time": "2023-02-05T19:32:24.449Z"
   },
   {
    "duration": 499,
    "start_time": "2023-02-05T19:32:24.783Z"
   },
   {
    "duration": 386,
    "start_time": "2023-02-05T19:32:25.284Z"
   },
   {
    "duration": 1124,
    "start_time": "2023-02-05T19:32:25.671Z"
   },
   {
    "duration": 6,
    "start_time": "2023-02-05T19:32:26.797Z"
   },
   {
    "duration": 113,
    "start_time": "2023-02-05T19:32:26.805Z"
   },
   {
    "duration": 35,
    "start_time": "2023-02-05T19:32:29.083Z"
   },
   {
    "duration": 1188,
    "start_time": "2023-02-05T19:44:29.311Z"
   },
   {
    "duration": 67,
    "start_time": "2023-02-05T19:44:30.503Z"
   },
   {
    "duration": 15,
    "start_time": "2023-02-05T19:44:30.572Z"
   },
   {
    "duration": 34,
    "start_time": "2023-02-05T19:44:30.590Z"
   },
   {
    "duration": 25,
    "start_time": "2023-02-05T19:44:30.626Z"
   },
   {
    "duration": 8964,
    "start_time": "2023-02-05T19:44:30.653Z"
   },
   {
    "duration": 4,
    "start_time": "2023-02-05T19:44:39.619Z"
   },
   {
    "duration": 14,
    "start_time": "2023-02-05T19:44:39.625Z"
   },
   {
    "duration": 5,
    "start_time": "2023-02-05T19:44:39.640Z"
   },
   {
    "duration": 15,
    "start_time": "2023-02-05T19:44:39.648Z"
   },
   {
    "duration": 117,
    "start_time": "2023-02-05T19:44:39.665Z"
   },
   {
    "duration": 153,
    "start_time": "2023-02-05T19:44:39.784Z"
   },
   {
    "duration": 6,
    "start_time": "2023-02-05T19:44:39.939Z"
   },
   {
    "duration": 1634,
    "start_time": "2023-02-05T19:44:39.947Z"
   },
   {
    "duration": 379,
    "start_time": "2023-02-05T19:44:41.583Z"
   },
   {
    "duration": 561,
    "start_time": "2023-02-05T19:44:41.964Z"
   },
   {
    "duration": 402,
    "start_time": "2023-02-05T19:44:42.527Z"
   },
   {
    "duration": 1137,
    "start_time": "2023-02-05T19:44:42.931Z"
   },
   {
    "duration": 6,
    "start_time": "2023-02-05T19:44:44.070Z"
   },
   {
    "duration": 130,
    "start_time": "2023-02-05T19:44:44.077Z"
   },
   {
    "duration": 49,
    "start_time": "2023-02-05T19:44:44.209Z"
   },
   {
    "duration": 15,
    "start_time": "2023-02-05T19:44:44.259Z"
   },
   {
    "duration": 66,
    "start_time": "2023-02-05T19:44:44.276Z"
   },
   {
    "duration": 10,
    "start_time": "2023-02-05T19:44:44.344Z"
   },
   {
    "duration": 9,
    "start_time": "2023-02-05T19:44:44.356Z"
   },
   {
    "duration": 1203,
    "start_time": "2023-02-05T19:45:53.154Z"
   },
   {
    "duration": 69,
    "start_time": "2023-02-05T19:45:54.360Z"
   },
   {
    "duration": 15,
    "start_time": "2023-02-05T19:45:54.431Z"
   },
   {
    "duration": 18,
    "start_time": "2023-02-05T19:45:54.447Z"
   },
   {
    "duration": 12,
    "start_time": "2023-02-05T19:45:54.467Z"
   },
   {
    "duration": 8856,
    "start_time": "2023-02-05T19:45:54.481Z"
   },
   {
    "duration": 4,
    "start_time": "2023-02-05T19:46:03.339Z"
   },
   {
    "duration": 12,
    "start_time": "2023-02-05T19:46:03.344Z"
   },
   {
    "duration": 9,
    "start_time": "2023-02-05T19:46:03.358Z"
   },
   {
    "duration": 12,
    "start_time": "2023-02-05T19:46:03.369Z"
   },
   {
    "duration": 110,
    "start_time": "2023-02-05T19:46:03.382Z"
   },
   {
    "duration": 143,
    "start_time": "2023-02-05T19:46:03.494Z"
   },
   {
    "duration": 6,
    "start_time": "2023-02-05T19:46:03.639Z"
   },
   {
    "duration": 1689,
    "start_time": "2023-02-05T19:46:03.648Z"
   },
   {
    "duration": 366,
    "start_time": "2023-02-05T19:46:05.338Z"
   },
   {
    "duration": 543,
    "start_time": "2023-02-05T19:46:05.707Z"
   },
   {
    "duration": 389,
    "start_time": "2023-02-05T19:46:06.252Z"
   },
   {
    "duration": 1123,
    "start_time": "2023-02-05T19:46:06.643Z"
   },
   {
    "duration": 6,
    "start_time": "2023-02-05T19:46:07.768Z"
   },
   {
    "duration": 120,
    "start_time": "2023-02-05T19:46:07.775Z"
   },
   {
    "duration": 50,
    "start_time": "2023-02-05T19:46:07.897Z"
   },
   {
    "duration": 24,
    "start_time": "2023-02-05T19:46:07.950Z"
   },
   {
    "duration": 62,
    "start_time": "2023-02-05T19:46:07.976Z"
   },
   {
    "duration": 8,
    "start_time": "2023-02-05T19:46:08.040Z"
   },
   {
    "duration": 9,
    "start_time": "2023-02-05T19:46:08.049Z"
   },
   {
    "duration": 1112,
    "start_time": "2023-02-06T05:36:05.229Z"
   },
   {
    "duration": 113,
    "start_time": "2023-02-06T05:36:06.343Z"
   },
   {
    "duration": 15,
    "start_time": "2023-02-06T05:36:06.457Z"
   },
   {
    "duration": 5,
    "start_time": "2023-02-06T05:36:06.475Z"
   },
   {
    "duration": 35,
    "start_time": "2023-02-06T05:36:06.482Z"
   },
   {
    "duration": 8885,
    "start_time": "2023-02-06T05:36:06.519Z"
   },
   {
    "duration": 4,
    "start_time": "2023-02-06T05:36:15.406Z"
   },
   {
    "duration": 17,
    "start_time": "2023-02-06T05:36:15.411Z"
   },
   {
    "duration": 4,
    "start_time": "2023-02-06T05:36:15.429Z"
   },
   {
    "duration": 10,
    "start_time": "2023-02-06T05:36:15.437Z"
   },
   {
    "duration": 122,
    "start_time": "2023-02-06T05:36:15.449Z"
   },
   {
    "duration": 156,
    "start_time": "2023-02-06T05:36:15.573Z"
   },
   {
    "duration": 6,
    "start_time": "2023-02-06T05:36:15.731Z"
   },
   {
    "duration": 1684,
    "start_time": "2023-02-06T05:36:15.739Z"
   },
   {
    "duration": 345,
    "start_time": "2023-02-06T05:36:17.426Z"
   },
   {
    "duration": 533,
    "start_time": "2023-02-06T05:36:17.772Z"
   },
   {
    "duration": 378,
    "start_time": "2023-02-06T05:36:18.307Z"
   },
   {
    "duration": 1140,
    "start_time": "2023-02-06T05:36:18.687Z"
   },
   {
    "duration": 5,
    "start_time": "2023-02-06T05:36:19.828Z"
   },
   {
    "duration": 121,
    "start_time": "2023-02-06T05:36:19.835Z"
   },
   {
    "duration": 36,
    "start_time": "2023-02-06T05:36:19.958Z"
   },
   {
    "duration": 43,
    "start_time": "2023-02-06T05:36:19.995Z"
   },
   {
    "duration": 27,
    "start_time": "2023-02-06T05:36:20.039Z"
   },
   {
    "duration": 8,
    "start_time": "2023-02-06T05:36:20.067Z"
   },
   {
    "duration": 18,
    "start_time": "2023-02-06T05:36:20.077Z"
   },
   {
    "duration": 1390,
    "start_time": "2023-02-06T20:46:48.952Z"
   },
   {
    "duration": 212,
    "start_time": "2023-02-06T20:46:50.351Z"
   },
   {
    "duration": 16,
    "start_time": "2023-02-06T20:46:50.565Z"
   },
   {
    "duration": 4,
    "start_time": "2023-02-06T20:46:50.585Z"
   },
   {
    "duration": 17,
    "start_time": "2023-02-06T20:46:50.592Z"
   },
   {
    "duration": 6,
    "start_time": "2023-02-06T20:46:50.611Z"
   },
   {
    "duration": 22,
    "start_time": "2023-02-06T20:46:50.618Z"
   },
   {
    "duration": 12,
    "start_time": "2023-02-06T20:46:50.645Z"
   },
   {
    "duration": 15,
    "start_time": "2023-02-06T20:46:50.659Z"
   },
   {
    "duration": 10,
    "start_time": "2023-02-06T20:46:50.676Z"
   },
   {
    "duration": 120,
    "start_time": "2023-02-06T20:46:50.688Z"
   },
   {
    "duration": 158,
    "start_time": "2023-02-06T20:46:50.809Z"
   },
   {
    "duration": 7,
    "start_time": "2023-02-06T20:46:50.968Z"
   },
   {
    "duration": 1831,
    "start_time": "2023-02-06T20:46:50.978Z"
   },
   {
    "duration": 1389,
    "start_time": "2023-02-06T20:46:52.811Z"
   },
   {
    "duration": 0,
    "start_time": "2023-02-06T20:46:54.203Z"
   },
   {
    "duration": 0,
    "start_time": "2023-02-06T20:46:54.204Z"
   },
   {
    "duration": 0,
    "start_time": "2023-02-06T20:46:54.205Z"
   },
   {
    "duration": 0,
    "start_time": "2023-02-06T20:46:54.206Z"
   },
   {
    "duration": 0,
    "start_time": "2023-02-06T20:46:54.207Z"
   },
   {
    "duration": 0,
    "start_time": "2023-02-06T20:46:54.208Z"
   },
   {
    "duration": 0,
    "start_time": "2023-02-06T20:46:54.209Z"
   },
   {
    "duration": 0,
    "start_time": "2023-02-06T20:46:54.210Z"
   },
   {
    "duration": 0,
    "start_time": "2023-02-06T20:46:54.210Z"
   },
   {
    "duration": 0,
    "start_time": "2023-02-06T20:46:54.211Z"
   },
   {
    "duration": 1178,
    "start_time": "2023-02-06T20:47:43.269Z"
   },
   {
    "duration": 65,
    "start_time": "2023-02-06T20:47:44.449Z"
   },
   {
    "duration": 35,
    "start_time": "2023-02-06T20:47:44.516Z"
   },
   {
    "duration": 3,
    "start_time": "2023-02-06T20:47:44.553Z"
   },
   {
    "duration": 12,
    "start_time": "2023-02-06T20:47:44.557Z"
   },
   {
    "duration": 8,
    "start_time": "2023-02-06T20:47:44.571Z"
   },
   {
    "duration": 8,
    "start_time": "2023-02-06T20:47:44.581Z"
   },
   {
    "duration": 7,
    "start_time": "2023-02-06T20:47:44.591Z"
   },
   {
    "duration": 10,
    "start_time": "2023-02-06T20:47:44.600Z"
   },
   {
    "duration": 31,
    "start_time": "2023-02-06T20:47:44.612Z"
   },
   {
    "duration": 122,
    "start_time": "2023-02-06T20:47:44.645Z"
   },
   {
    "duration": 150,
    "start_time": "2023-02-06T20:47:44.769Z"
   },
   {
    "duration": 16,
    "start_time": "2023-02-06T20:47:44.920Z"
   },
   {
    "duration": 1782,
    "start_time": "2023-02-06T20:47:44.938Z"
   },
   {
    "duration": 379,
    "start_time": "2023-02-06T20:47:46.722Z"
   },
   {
    "duration": 583,
    "start_time": "2023-02-06T20:47:47.103Z"
   },
   {
    "duration": 1199,
    "start_time": "2023-02-07T07:36:38.773Z"
   },
   {
    "duration": 81,
    "start_time": "2023-02-07T07:36:39.974Z"
   },
   {
    "duration": 15,
    "start_time": "2023-02-07T07:36:40.057Z"
   },
   {
    "duration": 28,
    "start_time": "2023-02-07T07:36:40.074Z"
   },
   {
    "duration": 41,
    "start_time": "2023-02-07T07:36:40.104Z"
   },
   {
    "duration": 26,
    "start_time": "2023-02-07T07:36:40.151Z"
   },
   {
    "duration": 37,
    "start_time": "2023-02-07T07:36:40.179Z"
   },
   {
    "duration": 34,
    "start_time": "2023-02-07T07:36:40.217Z"
   },
   {
    "duration": 20,
    "start_time": "2023-02-07T07:36:40.253Z"
   },
   {
    "duration": 33,
    "start_time": "2023-02-07T07:36:40.275Z"
   },
   {
    "duration": 127,
    "start_time": "2023-02-07T07:36:40.309Z"
   },
   {
    "duration": 169,
    "start_time": "2023-02-07T07:36:40.438Z"
   },
   {
    "duration": 7,
    "start_time": "2023-02-07T07:36:40.609Z"
   },
   {
    "duration": 1915,
    "start_time": "2023-02-07T07:36:40.619Z"
   },
   {
    "duration": 423,
    "start_time": "2023-02-07T07:36:42.539Z"
   },
   {
    "duration": 611,
    "start_time": "2023-02-07T07:36:42.963Z"
   },
   {
    "duration": 329,
    "start_time": "2023-02-07T07:36:43.576Z"
   },
   {
    "duration": 1272,
    "start_time": "2023-02-07T07:36:43.907Z"
   },
   {
    "duration": 7,
    "start_time": "2023-02-07T07:36:45.181Z"
   },
   {
    "duration": 137,
    "start_time": "2023-02-07T07:36:45.189Z"
   },
   {
    "duration": 53,
    "start_time": "2023-02-07T07:36:45.328Z"
   },
   {
    "duration": 17,
    "start_time": "2023-02-07T07:36:45.382Z"
   },
   {
    "duration": 75,
    "start_time": "2023-02-07T07:36:45.401Z"
   },
   {
    "duration": 8,
    "start_time": "2023-02-07T07:36:45.477Z"
   },
   {
    "duration": 13,
    "start_time": "2023-02-07T07:36:45.487Z"
   }
  ],
  "kernelspec": {
   "display_name": "Python 3 (ipykernel)",
   "language": "python",
   "name": "python3"
  },
  "language_info": {
   "codemirror_mode": {
    "name": "ipython",
    "version": 3
   },
   "file_extension": ".py",
   "mimetype": "text/x-python",
   "name": "python",
   "nbconvert_exporter": "python",
   "pygments_lexer": "ipython3",
   "version": "3.11.3"
  },
  "toc": {
   "base_numbering": 1,
   "nav_menu": {},
   "number_sections": true,
   "sideBar": true,
   "skip_h1_title": true,
   "title_cell": "Table of Contents",
   "title_sidebar": "Contents",
   "toc_cell": false,
   "toc_position": {},
   "toc_section_display": true,
   "toc_window_display": false
  }
 },
 "nbformat": 4,
 "nbformat_minor": 2
}
