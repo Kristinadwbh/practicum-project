{
 "cells": [
  {
   "cell_type": "code",
   "execution_count": 4,
   "metadata": {
    "id": "T-kvKzwYlxzl"
   },
   "outputs": [],
   "source": [
    "import pandas as pd\n",
    "import numpy as np\n",
    "import matplotlib.pyplot as plt\n",
    "import seaborn as sns\n",
    "import phik\n",
    "from sklearn.preprocessing import OneHotEncoder\n",
    "from sklearn.preprocessing import StandardScaler\n",
    "from catboost import CatBoostClassifier\n",
    "from lightgbm import LGBMClassifier\n",
    "from sklearn.linear_model import LogisticRegression\n",
    "from sklearn.model_selection import train_test_split\n",
    "from sklearn.model_selection import GridSearchCV\n",
    "from sklearn.model_selection import cross_val_score\n",
    "from sklearn.metrics import roc_curve\n",
    "from sklearn.metrics import roc_auc_score\n",
    "from sklearn.metrics import confusion_matrix\n",
    "from sklearn.metrics import ConfusionMatrixDisplay\n"
   ]
  },
  {
   "cell_type": "code",
   "execution_count": 5,
   "metadata": {
    "id": "SxUErbBH3J3G"
   },
   "outputs": [],
   "source": [
    "RANDOM_STATE = 170723"
   ]
  },
  {
   "cell_type": "code",
   "execution_count": 6,
   "metadata": {
    "id": "zDtV-HdjlsfB"
   },
   "outputs": [],
   "source": [
    "def research_analysis(data):\n",
    "  display(data.head())\n",
    "  print()\n",
    "  data.info()\n",
    "  print()\n",
    "  print(data.describe())\n",
    "  return"
   ]
  },
  {
   "cell_type": "markdown",
   "metadata": {
    "id": "WmPTi19NehEI"
   },
   "source": [
    "**value_counts для столбца EndDate**"
   ]
  },
  {
   "cell_type": "code",
   "execution_count": 8,
   "metadata": {
    "colab": {
     "base_uri": "https://localhost:8080/"
    },
    "id": "w0qim9CZwkOS",
    "outputId": "de8057a2-b0df-4780-ecc8-9c472079553a"
   },
   "outputs": [
    {
     "data": {
      "text/plain": [
       "No            5942\n",
       "2020-01-01      39\n",
       "2019-12-01      38\n",
       "2018-11-01      35\n",
       "2019-09-01      32\n",
       "              ... \n",
       "2014-09-01       2\n",
       "2015-04-01       2\n",
       "2014-11-01       1\n",
       "2014-10-01       1\n",
       "2014-06-01       1\n",
       "Name: EndDate, Length: 67, dtype: int64"
      ]
     },
     "execution_count": 8,
     "metadata": {},
     "output_type": "execute_result"
    }
   ],
   "source": [
    "data_contract['EndDate'].value_counts()"
   ]
  },
  {
   "cell_type": "markdown",
   "metadata": {
    "id": "vnBlJrQvehEI"
   },
   "source": [
    "**value_counts для столбца TotalCharges**"
   ]
  },
  {
   "cell_type": "code",
   "execution_count": 9,
   "metadata": {
    "colab": {
     "base_uri": "https://localhost:8080/"
    },
    "id": "cG8kYMpn0gni",
    "outputId": "a1581973-d2be-4b99-8879-ebab44c1b2bc"
   },
   "outputs": [
    {
     "data": {
      "text/plain": [
       "           11\n",
       "20.45       6\n",
       "101.0       5\n",
       "40.1        4\n",
       "1007.5      4\n",
       "           ..\n",
       "2089.42     1\n",
       "1857.5      1\n",
       "1341.3      1\n",
       "892.4       1\n",
       "699.72      1\n",
       "Name: TotalCharges, Length: 6658, dtype: int64"
      ]
     },
     "execution_count": 9,
     "metadata": {},
     "output_type": "execute_result"
    }
   ],
   "source": [
    "data_contract['TotalCharges'].value_counts()"
   ]
  },
  {
   "cell_type": "markdown",
   "metadata": {
    "id": "RfFMHRRAehEJ"
   },
   "source": [
    "**Изменение типа в столбце BeginDate**"
   ]
  },
  {
   "cell_type": "code",
   "execution_count": 10,
   "metadata": {
    "id": "bczTPaDBxKdU"
   },
   "outputs": [],
   "source": [
    "data_contract['BeginDate'] = pd.to_datetime(data_contract['BeginDate'], format='%Y-%m-%d')\n"
   ]
  },
  {
   "cell_type": "markdown",
   "metadata": {
    "id": "AuLU3oe0ehEK"
   },
   "source": [
    "**Удаление строк с пустыми значениями в TotalCharges**"
   ]
  },
  {
   "cell_type": "code",
   "execution_count": 11,
   "metadata": {
    "id": "KjpxQQkegD0X"
   },
   "outputs": [],
   "source": [
    "data_contract.drop(data_contract.loc[data_contract['TotalCharges']==' '].index, inplace=True, axis=0)"
   ]
  },
  {
   "cell_type": "markdown",
   "metadata": {
    "id": "LMkStxs8ehEL"
   },
   "source": [
    "**Изменение типа в TotalCharges**"
   ]
  },
  {
   "cell_type": "code",
   "execution_count": 12,
   "metadata": {
    "id": "kAJnLMCe2GXi"
   },
   "outputs": [],
   "source": [
    "data_contract['TotalCharges'] = data_contract['TotalCharges'].astype(float)"
   ]
  },
  {
   "cell_type": "code",
   "execution_count": 15,
   "metadata": {
    "colab": {
     "base_uri": "https://localhost:8080/",
     "height": 605
    },
    "id": "Hd9ib8C8E0Yi",
    "outputId": "109cf193-a018-4195-e3ca-e6fe8cf323ad"
   },
   "outputs": [
    {
     "data": {
      "text/html": [
       "<div>\n",
       "<style scoped>\n",
       "    .dataframe tbody tr th:only-of-type {\n",
       "        vertical-align: middle;\n",
       "    }\n",
       "\n",
       "    .dataframe tbody tr th {\n",
       "        vertical-align: top;\n",
       "    }\n",
       "\n",
       "    .dataframe thead th {\n",
       "        text-align: right;\n",
       "    }\n",
       "</style>\n",
       "<table border=\"1\" class=\"dataframe\">\n",
       "  <thead>\n",
       "    <tr style=\"text-align: right;\">\n",
       "      <th></th>\n",
       "      <th>customerID</th>\n",
       "      <th>gender</th>\n",
       "      <th>SeniorCitizen</th>\n",
       "      <th>Partner</th>\n",
       "      <th>Dependents</th>\n",
       "    </tr>\n",
       "  </thead>\n",
       "  <tbody>\n",
       "    <tr>\n",
       "      <th>0</th>\n",
       "      <td>7590-VHVEG</td>\n",
       "      <td>Female</td>\n",
       "      <td>0</td>\n",
       "      <td>Yes</td>\n",
       "      <td>No</td>\n",
       "    </tr>\n",
       "    <tr>\n",
       "      <th>1</th>\n",
       "      <td>5575-GNVDE</td>\n",
       "      <td>Male</td>\n",
       "      <td>0</td>\n",
       "      <td>No</td>\n",
       "      <td>No</td>\n",
       "    </tr>\n",
       "    <tr>\n",
       "      <th>2</th>\n",
       "      <td>3668-QPYBK</td>\n",
       "      <td>Male</td>\n",
       "      <td>0</td>\n",
       "      <td>No</td>\n",
       "      <td>No</td>\n",
       "    </tr>\n",
       "    <tr>\n",
       "      <th>3</th>\n",
       "      <td>7795-CFOCW</td>\n",
       "      <td>Male</td>\n",
       "      <td>0</td>\n",
       "      <td>No</td>\n",
       "      <td>No</td>\n",
       "    </tr>\n",
       "    <tr>\n",
       "      <th>4</th>\n",
       "      <td>9237-HQITU</td>\n",
       "      <td>Female</td>\n",
       "      <td>0</td>\n",
       "      <td>No</td>\n",
       "      <td>No</td>\n",
       "    </tr>\n",
       "  </tbody>\n",
       "</table>\n",
       "</div>"
      ],
      "text/plain": [
       "   customerID  gender  SeniorCitizen Partner Dependents\n",
       "0  7590-VHVEG  Female              0     Yes         No\n",
       "1  5575-GNVDE    Male              0      No         No\n",
       "2  3668-QPYBK    Male              0      No         No\n",
       "3  7795-CFOCW    Male              0      No         No\n",
       "4  9237-HQITU  Female              0      No         No"
      ]
     },
     "metadata": {},
     "output_type": "display_data"
    },
    {
     "name": "stdout",
     "output_type": "stream",
     "text": [
      "\n",
      "<class 'pandas.core.frame.DataFrame'>\n",
      "RangeIndex: 7043 entries, 0 to 7042\n",
      "Data columns (total 5 columns):\n",
      " #   Column         Non-Null Count  Dtype \n",
      "---  ------         --------------  ----- \n",
      " 0   customerID     7043 non-null   object\n",
      " 1   gender         7043 non-null   object\n",
      " 2   SeniorCitizen  7043 non-null   int64 \n",
      " 3   Partner        7043 non-null   object\n",
      " 4   Dependents     7043 non-null   object\n",
      "dtypes: int64(1), object(4)\n",
      "memory usage: 275.2+ KB\n",
      "\n",
      "       SeniorCitizen\n",
      "count    7043.000000\n",
      "mean        0.162147\n",
      "std         0.368612\n",
      "min         0.000000\n",
      "25%         0.000000\n",
      "50%         0.000000\n",
      "75%         0.000000\n",
      "max         1.000000\n"
     ]
    }
   ],
   "source": [
    "research_analysis(data_personal)"
   ]
  },
  {
   "cell_type": "markdown",
   "metadata": {
    "id": "E-fx7YcDehEO"
   },
   "source": [
    "**Измеение типа в столбце SeniorCitizen**"
   ]
  },
  {
   "cell_type": "code",
   "execution_count": 16,
   "metadata": {
    "id": "Iv1F-PH_F5PA"
   },
   "outputs": [],
   "source": [
    "data_personal['SeniorCitizen'] = data_personal['SeniorCitizen'].astype(object)"
   ]
  },
  {
   "cell_type": "code",
   "execution_count": 18,
   "metadata": {
    "colab": {
     "base_uri": "https://localhost:8080/",
     "height": 484
    },
    "id": "Rw1aOwMeHdoP",
    "outputId": "93359b50-c9c5-404e-9507-0ffabcec209d"
   },
   "outputs": [
    {
     "data": {
      "text/html": [
       "<div>\n",
       "<style scoped>\n",
       "    .dataframe tbody tr th:only-of-type {\n",
       "        vertical-align: middle;\n",
       "    }\n",
       "\n",
       "    .dataframe tbody tr th {\n",
       "        vertical-align: top;\n",
       "    }\n",
       "\n",
       "    .dataframe thead th {\n",
       "        text-align: right;\n",
       "    }\n",
       "</style>\n",
       "<table border=\"1\" class=\"dataframe\">\n",
       "  <thead>\n",
       "    <tr style=\"text-align: right;\">\n",
       "      <th></th>\n",
       "      <th>customerID</th>\n",
       "      <th>MultipleLines</th>\n",
       "    </tr>\n",
       "  </thead>\n",
       "  <tbody>\n",
       "    <tr>\n",
       "      <th>0</th>\n",
       "      <td>5575-GNVDE</td>\n",
       "      <td>No</td>\n",
       "    </tr>\n",
       "    <tr>\n",
       "      <th>1</th>\n",
       "      <td>3668-QPYBK</td>\n",
       "      <td>No</td>\n",
       "    </tr>\n",
       "    <tr>\n",
       "      <th>2</th>\n",
       "      <td>9237-HQITU</td>\n",
       "      <td>No</td>\n",
       "    </tr>\n",
       "    <tr>\n",
       "      <th>3</th>\n",
       "      <td>9305-CDSKC</td>\n",
       "      <td>Yes</td>\n",
       "    </tr>\n",
       "    <tr>\n",
       "      <th>4</th>\n",
       "      <td>1452-KIOVK</td>\n",
       "      <td>Yes</td>\n",
       "    </tr>\n",
       "  </tbody>\n",
       "</table>\n",
       "</div>"
      ],
      "text/plain": [
       "   customerID MultipleLines\n",
       "0  5575-GNVDE            No\n",
       "1  3668-QPYBK            No\n",
       "2  9237-HQITU            No\n",
       "3  9305-CDSKC           Yes\n",
       "4  1452-KIOVK           Yes"
      ]
     },
     "metadata": {},
     "output_type": "display_data"
    },
    {
     "name": "stdout",
     "output_type": "stream",
     "text": [
      "\n",
      "<class 'pandas.core.frame.DataFrame'>\n",
      "RangeIndex: 6361 entries, 0 to 6360\n",
      "Data columns (total 2 columns):\n",
      " #   Column         Non-Null Count  Dtype \n",
      "---  ------         --------------  ----- \n",
      " 0   customerID     6361 non-null   object\n",
      " 1   MultipleLines  6361 non-null   object\n",
      "dtypes: object(2)\n",
      "memory usage: 99.5+ KB\n",
      "\n",
      "        customerID MultipleLines\n",
      "count         6361          6361\n",
      "unique        6361             2\n",
      "top     9978-HYCIN            No\n",
      "freq             1          3390\n"
     ]
    }
   ],
   "source": [
    "research_analysis(data_phone)"
   ]
  },
  {
   "cell_type": "markdown",
   "metadata": {
    "id": "12fYpxc-w6rp"
   },
   "source": [
    "<div><h3>Промежуточный вывод.</h3></div>\n",
    "\n",
    "\n",
    "\n",
    "В данных из файла contract_new.csv 7043 строки. Пропусков нет. Есть как категориальные признаки, так и числовые. Признак TotalCharges из типа object был переведён в тип float, также в этом признаке было небольшое число пустых строк, которые были удалены. Признак BeginDate с датами был переведён из типа object в тип DateTime. В столбце EndDate 5942 строки со значением No, остальные значения - даты.\\\n",
    "\\\n",
    "В данных из файла internet_new.csv 5517 строк, что меньше, чем в предыдущих данных. Признаки все категориальные.\\\n",
    "\\\n",
    "В данных из файла personal_new.csv 7043 строки. Признак SeniorCitizen был переведён из типа int64 с 0-ми и 1-ми в тип object. Признаки все категориальные.\\\n",
    "\\\n",
    "В данных из файла phone_new.csv 6361 строка. И два столбца, включая столбец с ID клиентов. Второй столбец категориальный с типом object.\\\n",
    "\\\n",
    "Все таблицы имеют общий столбец customerID."
   ]
  },
  {
   "cell_type": "markdown",
   "metadata": {
    "id": "ino_0SCtehEQ"
   },
   "source": [
    "**Объединение таблиц**"
   ]
  },
  {
   "cell_type": "code",
   "execution_count": 19,
   "metadata": {
    "id": "_334nGnIV5K2"
   },
   "outputs": [],
   "source": [
    "data = data_contract.set_index('customerID').join([data_internet.set_index('customerID'),\\\n",
    "                                            data_personal.set_index('customerID'),\\\n",
    "                                            data_phone.set_index('customerID')], how='left').reset_index()"
   ]
  },
  {
   "cell_type": "code",
   "execution_count": 20,
   "metadata": {
    "id": "uIV90xuU-5w3"
   },
   "outputs": [],
   "source": [
    "data.drop('customerID', axis=1, inplace=True)"
   ]
  },
  {
   "cell_type": "code",
   "execution_count": 21,
   "metadata": {
    "colab": {
     "base_uri": "https://localhost:8080/"
    },
    "id": "a6m9Qxq7w6rr",
    "outputId": "2d1a9445-d6cf-4511-c03b-1fcb6e6f70a1",
    "scrolled": true
   },
   "outputs": [
    {
     "name": "stdout",
     "output_type": "stream",
     "text": [
      "<class 'pandas.core.frame.DataFrame'>\n",
      "RangeIndex: 7032 entries, 0 to 7031\n",
      "Data columns (total 19 columns):\n",
      " #   Column            Non-Null Count  Dtype         \n",
      "---  ------            --------------  -----         \n",
      " 0   BeginDate         7032 non-null   datetime64[ns]\n",
      " 1   EndDate           7032 non-null   object        \n",
      " 2   Type              7032 non-null   object        \n",
      " 3   PaperlessBilling  7032 non-null   object        \n",
      " 4   PaymentMethod     7032 non-null   object        \n",
      " 5   MonthlyCharges    7032 non-null   float64       \n",
      " 6   TotalCharges      7032 non-null   float64       \n",
      " 7   InternetService   5512 non-null   object        \n",
      " 8   OnlineSecurity    5512 non-null   object        \n",
      " 9   OnlineBackup      5512 non-null   object        \n",
      " 10  DeviceProtection  5512 non-null   object        \n",
      " 11  TechSupport       5512 non-null   object        \n",
      " 12  StreamingTV       5512 non-null   object        \n",
      " 13  StreamingMovies   5512 non-null   object        \n",
      " 14  gender            7032 non-null   object        \n",
      " 15  SeniorCitizen     7032 non-null   object        \n",
      " 16  Partner           7032 non-null   object        \n",
      " 17  Dependents        7032 non-null   object        \n",
      " 18  MultipleLines     6352 non-null   object        \n",
      "dtypes: datetime64[ns](1), float64(2), object(16)\n",
      "memory usage: 1.0+ MB\n"
     ]
    }
   ],
   "source": [
    "\n",
    "data.info()"
   ]
  },
  {
   "cell_type": "code",
   "execution_count": 22,
   "metadata": {
    "colab": {
     "base_uri": "https://localhost:8080/",
     "height": 1000
    },
    "id": "LsX8aYZ-XoOv",
    "outputId": "bef037a6-0631-4d3a-c594-11e37b237908"
   },
   "outputs": [
    {
     "data": {
      "text/html": [
       "<div>\n",
       "<style scoped>\n",
       "    .dataframe tbody tr th:only-of-type {\n",
       "        vertical-align: middle;\n",
       "    }\n",
       "\n",
       "    .dataframe tbody tr th {\n",
       "        vertical-align: top;\n",
       "    }\n",
       "\n",
       "    .dataframe thead th {\n",
       "        text-align: right;\n",
       "    }\n",
       "</style>\n",
       "<table border=\"1\" class=\"dataframe\">\n",
       "  <thead>\n",
       "    <tr style=\"text-align: right;\">\n",
       "      <th></th>\n",
       "      <th>BeginDate</th>\n",
       "      <th>EndDate</th>\n",
       "      <th>Type</th>\n",
       "      <th>PaperlessBilling</th>\n",
       "      <th>PaymentMethod</th>\n",
       "      <th>MonthlyCharges</th>\n",
       "      <th>TotalCharges</th>\n",
       "      <th>InternetService</th>\n",
       "      <th>OnlineSecurity</th>\n",
       "      <th>OnlineBackup</th>\n",
       "      <th>DeviceProtection</th>\n",
       "      <th>TechSupport</th>\n",
       "      <th>StreamingTV</th>\n",
       "      <th>StreamingMovies</th>\n",
       "      <th>gender</th>\n",
       "      <th>SeniorCitizen</th>\n",
       "      <th>Partner</th>\n",
       "      <th>Dependents</th>\n",
       "      <th>MultipleLines</th>\n",
       "    </tr>\n",
       "  </thead>\n",
       "  <tbody>\n",
       "    <tr>\n",
       "      <th>0</th>\n",
       "      <td>2020-01-01</td>\n",
       "      <td>No</td>\n",
       "      <td>Month-to-month</td>\n",
       "      <td>Yes</td>\n",
       "      <td>Electronic check</td>\n",
       "      <td>29.85</td>\n",
       "      <td>31.04</td>\n",
       "      <td>DSL</td>\n",
       "      <td>No</td>\n",
       "      <td>Yes</td>\n",
       "      <td>No</td>\n",
       "      <td>No</td>\n",
       "      <td>No</td>\n",
       "      <td>No</td>\n",
       "      <td>Female</td>\n",
       "      <td>0</td>\n",
       "      <td>Yes</td>\n",
       "      <td>No</td>\n",
       "      <td>NaN</td>\n",
       "    </tr>\n",
       "    <tr>\n",
       "      <th>1</th>\n",
       "      <td>2017-04-01</td>\n",
       "      <td>No</td>\n",
       "      <td>One year</td>\n",
       "      <td>No</td>\n",
       "      <td>Mailed check</td>\n",
       "      <td>56.95</td>\n",
       "      <td>2071.84</td>\n",
       "      <td>DSL</td>\n",
       "      <td>Yes</td>\n",
       "      <td>No</td>\n",
       "      <td>Yes</td>\n",
       "      <td>No</td>\n",
       "      <td>No</td>\n",
       "      <td>No</td>\n",
       "      <td>Male</td>\n",
       "      <td>0</td>\n",
       "      <td>No</td>\n",
       "      <td>No</td>\n",
       "      <td>No</td>\n",
       "    </tr>\n",
       "    <tr>\n",
       "      <th>2</th>\n",
       "      <td>2019-10-01</td>\n",
       "      <td>No</td>\n",
       "      <td>Month-to-month</td>\n",
       "      <td>Yes</td>\n",
       "      <td>Mailed check</td>\n",
       "      <td>53.85</td>\n",
       "      <td>226.17</td>\n",
       "      <td>DSL</td>\n",
       "      <td>Yes</td>\n",
       "      <td>Yes</td>\n",
       "      <td>No</td>\n",
       "      <td>No</td>\n",
       "      <td>No</td>\n",
       "      <td>No</td>\n",
       "      <td>Male</td>\n",
       "      <td>0</td>\n",
       "      <td>No</td>\n",
       "      <td>No</td>\n",
       "      <td>No</td>\n",
       "    </tr>\n",
       "    <tr>\n",
       "      <th>3</th>\n",
       "      <td>2016-05-01</td>\n",
       "      <td>No</td>\n",
       "      <td>One year</td>\n",
       "      <td>No</td>\n",
       "      <td>Bank transfer (automatic)</td>\n",
       "      <td>42.30</td>\n",
       "      <td>1960.60</td>\n",
       "      <td>DSL</td>\n",
       "      <td>Yes</td>\n",
       "      <td>No</td>\n",
       "      <td>Yes</td>\n",
       "      <td>Yes</td>\n",
       "      <td>No</td>\n",
       "      <td>No</td>\n",
       "      <td>Male</td>\n",
       "      <td>0</td>\n",
       "      <td>No</td>\n",
       "      <td>No</td>\n",
       "      <td>NaN</td>\n",
       "    </tr>\n",
       "    <tr>\n",
       "      <th>4</th>\n",
       "      <td>2019-09-01</td>\n",
       "      <td>No</td>\n",
       "      <td>Month-to-month</td>\n",
       "      <td>Yes</td>\n",
       "      <td>Electronic check</td>\n",
       "      <td>70.70</td>\n",
       "      <td>353.50</td>\n",
       "      <td>Fiber optic</td>\n",
       "      <td>No</td>\n",
       "      <td>No</td>\n",
       "      <td>No</td>\n",
       "      <td>No</td>\n",
       "      <td>No</td>\n",
       "      <td>No</td>\n",
       "      <td>Female</td>\n",
       "      <td>0</td>\n",
       "      <td>No</td>\n",
       "      <td>No</td>\n",
       "      <td>No</td>\n",
       "    </tr>\n",
       "  </tbody>\n",
       "</table>\n",
       "</div>"
      ],
      "text/plain": [
       "   BeginDate EndDate            Type PaperlessBilling  \\\n",
       "0 2020-01-01      No  Month-to-month              Yes   \n",
       "1 2017-04-01      No        One year               No   \n",
       "2 2019-10-01      No  Month-to-month              Yes   \n",
       "3 2016-05-01      No        One year               No   \n",
       "4 2019-09-01      No  Month-to-month              Yes   \n",
       "\n",
       "               PaymentMethod  MonthlyCharges  TotalCharges InternetService  \\\n",
       "0           Electronic check           29.85         31.04             DSL   \n",
       "1               Mailed check           56.95       2071.84             DSL   \n",
       "2               Mailed check           53.85        226.17             DSL   \n",
       "3  Bank transfer (automatic)           42.30       1960.60             DSL   \n",
       "4           Electronic check           70.70        353.50     Fiber optic   \n",
       "\n",
       "  OnlineSecurity OnlineBackup DeviceProtection TechSupport StreamingTV  \\\n",
       "0             No          Yes               No          No          No   \n",
       "1            Yes           No              Yes          No          No   \n",
       "2            Yes          Yes               No          No          No   \n",
       "3            Yes           No              Yes         Yes          No   \n",
       "4             No           No               No          No          No   \n",
       "\n",
       "  StreamingMovies  gender SeniorCitizen Partner Dependents MultipleLines  \n",
       "0              No  Female             0     Yes         No           NaN  \n",
       "1              No    Male             0      No         No            No  \n",
       "2              No    Male             0      No         No            No  \n",
       "3              No    Male             0      No         No           NaN  \n",
       "4              No  Female             0      No         No            No  "
      ]
     },
     "metadata": {},
     "output_type": "display_data"
    },
    {
     "name": "stdout",
     "output_type": "stream",
     "text": [
      "\n",
      "<class 'pandas.core.frame.DataFrame'>\n",
      "RangeIndex: 7032 entries, 0 to 7031\n",
      "Data columns (total 19 columns):\n",
      " #   Column            Non-Null Count  Dtype         \n",
      "---  ------            --------------  -----         \n",
      " 0   BeginDate         7032 non-null   datetime64[ns]\n",
      " 1   EndDate           7032 non-null   object        \n",
      " 2   Type              7032 non-null   object        \n",
      " 3   PaperlessBilling  7032 non-null   object        \n",
      " 4   PaymentMethod     7032 non-null   object        \n",
      " 5   MonthlyCharges    7032 non-null   float64       \n",
      " 6   TotalCharges      7032 non-null   float64       \n",
      " 7   InternetService   5512 non-null   object        \n",
      " 8   OnlineSecurity    5512 non-null   object        \n",
      " 9   OnlineBackup      5512 non-null   object        \n",
      " 10  DeviceProtection  5512 non-null   object        \n",
      " 11  TechSupport       5512 non-null   object        \n",
      " 12  StreamingTV       5512 non-null   object        \n",
      " 13  StreamingMovies   5512 non-null   object        \n",
      " 14  gender            7032 non-null   object        \n",
      " 15  SeniorCitizen     7032 non-null   object        \n",
      " 16  Partner           7032 non-null   object        \n",
      " 17  Dependents        7032 non-null   object        \n",
      " 18  MultipleLines     6352 non-null   object        \n",
      "dtypes: datetime64[ns](1), float64(2), object(16)\n",
      "memory usage: 1.0+ MB\n",
      "\n",
      "       MonthlyCharges  TotalCharges\n",
      "count     7032.000000   7032.000000\n",
      "mean        64.798208   2118.621822\n",
      "std         30.085974   2112.736199\n",
      "min         18.250000     19.050000\n",
      "25%         35.587500    439.745000\n",
      "50%         70.350000   1345.275000\n",
      "75%         89.862500   3239.317500\n",
      "max        118.750000   9221.380000\n"
     ]
    }
   ],
   "source": [
    "research_analysis(data)"
   ]
  },
  {
   "cell_type": "markdown",
   "metadata": {
    "id": "NkGoqYMKw6sK"
   },
   "source": [
    "**Заполнение пропусков**"
   ]
  },
  {
   "cell_type": "code",
   "execution_count": 23,
   "metadata": {
    "id": "6t2tXSQCnYCy"
   },
   "outputs": [],
   "source": [
    "data.iloc[:, [7, 8, 9, 10, 11, 12, 13]] = data.iloc[:, [7, 8, 9, 10, 11, 12, 13]].fillna('no_internet')\n",
    "data.iloc[:, 18] = data.iloc[:, 18].fillna('no_phone')"
   ]
  },
  {
   "cell_type": "markdown",
   "metadata": {
    "id": "-z5Oa4VsehER"
   },
   "source": [
    "**Графики распределений**"
   ]
  },
  {
   "cell_type": "code",
   "execution_count": 24,
   "metadata": {
    "colab": {
     "base_uri": "https://localhost:8080/",
     "height": 887
    },
    "id": "N2nsX2ePeW4s",
    "outputId": "519c4321-8263-4add-883b-55486f028196"
   },
   "outputs": [
    {
     "data": {
      "image/png": "[encoded data removed]",
      "text/plain": [
       "<Figure size 432x288 with 1 Axes>"
      ]
     },
     "metadata": {
      "needs_background": "light"
     },
     "output_type": "display_data"
    },
    {
     "data": {
      "image/png": "[encoded data removed]",
      "text/plain": [
       "<Figure size 432x288 with 1 Axes>"
      ]
     },
     "metadata": {
      "needs_background": "light"
     },
     "output_type": "display_data"
    }
   ],
   "source": [
    "data['MonthlyCharges'].plot(kind='box', title='Диаграмма размаха для MonthlyCharges')\n",
    "plt.show()\n",
    "data['TotalCharges'].plot(kind='box', title='Диаграмма размаха для TotalCharges')\n",
    "plt.show()"
   ]
  },
  {
   "cell_type": "code",
   "execution_count": 25,
   "metadata": {},
   "outputs": [
    {
     "name": "stdout",
     "output_type": "stream",
     "text": [
      "<class 'pandas.core.frame.DataFrame'>\n",
      "RangeIndex: 7032 entries, 0 to 7031\n",
      "Data columns (total 19 columns):\n",
      " #   Column            Non-Null Count  Dtype         \n",
      "---  ------            --------------  -----         \n",
      " 0   BeginDate         7032 non-null   datetime64[ns]\n",
      " 1   EndDate           7032 non-null   object        \n",
      " 2   Type              7032 non-null   object        \n",
      " 3   PaperlessBilling  7032 non-null   object        \n",
      " 4   PaymentMethod     7032 non-null   object        \n",
      " 5   MonthlyCharges    7032 non-null   float64       \n",
      " 6   TotalCharges      7032 non-null   float64       \n",
      " 7   InternetService   7032 non-null   object        \n",
      " 8   OnlineSecurity    7032 non-null   object        \n",
      " 9   OnlineBackup      7032 non-null   object        \n",
      " 10  DeviceProtection  7032 non-null   object        \n",
      " 11  TechSupport       7032 non-null   object        \n",
      " 12  StreamingTV       7032 non-null   object        \n",
      " 13  StreamingMovies   7032 non-null   object        \n",
      " 14  gender            7032 non-null   object        \n",
      " 15  SeniorCitizen     7032 non-null   object        \n",
      " 16  Partner           7032 non-null   object        \n",
      " 17  Dependents        7032 non-null   object        \n",
      " 18  MultipleLines     7032 non-null   object        \n",
      "dtypes: datetime64[ns](1), float64(2), object(16)\n",
      "memory usage: 1.0+ MB\n"
     ]
    }
   ],
   "source": [
    "\n",
    "data.info()"
   ]
  },
  {
   "cell_type": "code",
   "execution_count": 26,
   "metadata": {
    "colab": {
     "base_uri": "https://localhost:8080/",
     "height": 927
    },
    "id": "jRyJqurllyUi",
    "outputId": "bd7e206b-0dc2-4267-da1f-1786f24f02c6"
   },
   "outputs": [
    {
     "data": {
      "image/png": "[encoded data removed]",
      "text/plain": [
       "<Figure size 432x288 with 1 Axes>"
      ]
     },
     "metadata": {
      "needs_background": "light"
     },
     "output_type": "display_data"
    },
    {
     "data": {
      "image/png": "[encoded data removed]",
      "text/plain": [
       "<Figure size 432x288 with 1 Axes>"
      ]
     },
     "metadata": {
      "needs_background": "light"
     },
     "output_type": "display_data"
    }
   ],
   "source": [
    "sns.histplot(data[\"MonthlyCharges\"], kde=True, stat='density').set(title=\\\n",
    "'Распределение плотности частоты для MonthlyCharges')\n",
    "plt.show()\n",
    "sns.histplot(data=data, x=\"TotalCharges\", kde=True, stat='density').set(title=\\\n",
    "'Распределение плотности частоты для TotalCharges')\n",
    "plt.show()\n"
   ]
  },
  {
   "cell_type": "code",
   "execution_count": 27,
   "metadata": {
    "colab": {
     "base_uri": "https://localhost:8080/",
     "height": 1000
    },
    "id": "ZdBY6qcefs21",
    "outputId": "35ede821-8c19-4b8e-8fce-82d4895d692c"
   },
   "outputs": [
    {
     "data": {
      "image/png": "[encoded data removed]",
      "text/plain": [
       "<Figure size 792x1368 with 15 Axes>"
      ]
     },
     "metadata": {
      "needs_background": "light"
     },
     "output_type": "display_data"
    }
   ],
   "source": [
    "fig, axs = plt.subplots(5, 3, figsize=(11,19))\n",
    "fig.tight_layout(h_pad=15, w_pad=1)\n",
    "columns_bar = ['Type', 'PaperlessBilling', 'PaymentMethod', 'InternetService', 'OnlineSecurity',\\\n",
    "               'OnlineBackup', 'DeviceProtection', 'TechSupport', 'StreamingTV', 'StreamingMovies',\\\n",
    "               'gender', 'SeniorCitizen', 'Partner', 'Dependents', 'MultipleLines']\n",
    "for col, place_1, place_2 in zip(columns_bar, [int(j) for j in ''.join([f'{i}'*3 for i in range(5)])],\\\n",
    "                                 [int(j) for j in''.join(['012'*5])]):\n",
    "    data[col].value_counts().plot(title=f'Столбчатый график для {col}', kind='bar', ax=axs[place_1, place_2])\n",
    "plt.show()"
   ]
  },
  {
   "cell_type": "markdown",
   "metadata": {},
   "source": [
    "**Промежуточный вывод.**\n",
    "\\\n",
    "Были объедененны все данные в одну таблицу. По диаграмме размаха видно, что присутствуют выбросы в признаке TotalCharges, которые были удалены.\n",
    "\\\n",
    "Для признака Type заметно преобладает ежемесячный тип оплаты. Также для признака SeniorCitizen хорошо видно преобладание отсутствия пенсионного статуса по возрасту. Как и в случае признака Dependents, заметно сравнимо большее колличество с вариантом \"отсутствие иждевенцев\". Для остальных признаков различия среди вариантов не так выделяются."
   ]
  },
  {
   "cell_type": "markdown",
   "metadata": {
    "id": "oKOZBTQ9w6sP"
   },
   "source": [
    "**Создание признака длительности контракта**"
   ]
  },
  {
   "cell_type": "code",
   "execution_count": 28,
   "metadata": {
    "id": "wPRlH64f7W6e"
   },
   "outputs": [],
   "source": [
    "data['EndDate_copy'] = data['EndDate'].copy()"
   ]
  },
  {
   "cell_type": "code",
   "execution_count": 29,
   "metadata": {
    "id": "BqpMyOqi7kkU"
   },
   "outputs": [],
   "source": [
    "data.loc[data['EndDate_copy']=='No', 'EndDate_copy'] = '2020-02-01'\n",
    "data['EndDate_copy'] = pd.to_datetime(data['EndDate_copy'], format='%Y-%m-%d')\n",
    "data['duration'] = (data['EndDate_copy'] - data['BeginDate']).dt.days"
   ]
  },
  {
   "cell_type": "code",
   "execution_count": 30,
   "metadata": {
    "id": "knq9LVm78qk0"
   },
   "outputs": [],
   "source": [
    "data.drop('EndDate_copy', axis=1, inplace=True)"
   ]
  },
  {
   "cell_type": "markdown",
   "metadata": {
    "id": "T2ykLk0xehET"
   },
   "source": [
    "**Создание целевого признака из EndDate**"
   ]
  },
  {
   "cell_type": "code",
   "execution_count": 31,
   "metadata": {
    "id": "voSUGnq0wuwI"
   },
   "outputs": [],
   "source": [
    "data.loc[data['EndDate']!='No', 'customer_outflow'] = 1\n",
    "data.loc[data['EndDate']=='No', 'customer_outflow'] = 0"
   ]
  },
  {
   "cell_type": "code",
   "execution_count": 32,
   "metadata": {
    "colab": {
     "base_uri": "https://localhost:8080/"
    },
    "id": "h8nRWXsbehET",
    "outputId": "bb57a28f-2d09-4dd9-f7a7-9125ba7e293c"
   },
   "outputs": [
    {
     "data": {
      "text/plain": [
       "0.0    5931\n",
       "1.0    1101\n",
       "Name: customer_outflow, dtype: int64"
      ]
     },
     "execution_count": 32,
     "metadata": {},
     "output_type": "execute_result"
    }
   ],
   "source": [
    "\n",
    "data['customer_outflow'].value_counts()"
   ]
  },
  {
   "cell_type": "markdown",
   "metadata": {},
   "source": [
    "**Исследование на сбалансированность классов в целевом признаке.**"
   ]
  },
  {
   "cell_type": "code",
   "execution_count": 33,
   "metadata": {
    "colab": {
     "base_uri": "https://localhost:8080/",
     "height": 406
    },
    "id": "IbR-0QYVw6sS",
    "outputId": "9ee222b4-a4cd-4a7e-d8e4-6ebcd7743648"
   },
   "outputs": [
    {
     "data": {
      "image/png": "[encoded data removed]",
      "text/plain": [
       "<Figure size 432x288 with 1 Axes>"
      ]
     },
     "metadata": {},
     "output_type": "display_data"
    }
   ],
   "source": [
    "labels = '0', '1'\n",
    "sizes = [5931, 1101]\n",
    "fig, axs = plt.subplots()\n",
    "axs.pie(sizes, labels=labels, autopct='%1.1f%%')\n",
    "plt.show()"
   ]
  },
  {
   "cell_type": "markdown",
   "metadata": {},
   "source": [
    "**Промежуточный вывод.**\n",
    "\\\n",
    "Был создан целевой признак из столбца EndDate(дата окончания пользования услугами). Добавлен новый признак для длительности контракта. Два класса в целевом признаке оказались несбалансированны: 15,7% 1-иц и 84,3% 0-ей."
   ]
  },
  {
   "cell_type": "markdown",
   "metadata": {},
   "source": [
    "**Удаление признаков с датами BeginDate и End Date**"
   ]
  },
  {
   "cell_type": "code",
   "execution_count": 34,
   "metadata": {
    "id": "6shu-VUaK2kj"
   },
   "outputs": [],
   "source": [
    "data.drop(['BeginDate', 'EndDate'], axis=1, inplace=True)"
   ]
  },
  {
   "cell_type": "markdown",
   "metadata": {},
   "source": [
    "**Исследование на мультиколлинеарность признаков и на корреляцию с целевым признаком**"
   ]
  },
  {
   "cell_type": "code",
   "execution_count": 35,
   "metadata": {
    "colab": {
     "base_uri": "https://localhost:8080/",
     "height": 597
    },
    "id": "wL1te4igRF8V",
    "outputId": "cab63878-f17e-4aeb-b40f-e369373f2640"
   },
   "outputs": [
    {
     "name": "stdout",
     "output_type": "stream",
     "text": [
      "interval columns not set, guessing: ['MonthlyCharges', 'TotalCharges', 'duration', 'customer_outflow']\n",
      "interval columns not set, guessing: ['MonthlyCharges', 'TotalCharges', 'duration', 'customer_outflow']\n"
     ]
    },
    {
     "data": {
      "text/plain": [
       "<AxesSubplot:>"
      ]
     },
     "execution_count": 35,
     "metadata": {},
     "output_type": "execute_result"
    },
    {
     "data": {
      "image/png": "[encoded data removed]",
      "text/plain": [
       "<Figure size 432x288 with 2 Axes>"
      ]
     },
     "metadata": {
      "needs_background": "light"
     },
     "output_type": "display_data"
    }
   ],
   "source": [
    "upp_mat = np.triu(data.loc[:, ['MonthlyCharges', 'TotalCharges', 'duration', 'customer_outflow']].phik_matrix())\n",
    "\n",
    "sns.heatmap(data.loc[:, ['MonthlyCharges', 'TotalCharges', 'duration', 'customer_outflow']].phik_matrix(),\\\n",
    "            vmin = 0, vmax = +1, annot = True, cmap = 'coolwarm', mask = upp_mat)"
   ]
  },
  {
   "cell_type": "code",
   "execution_count": 36,
   "metadata": {
    "colab": {
     "base_uri": "https://localhost:8080/",
     "height": 761
    },
    "id": "VsXXnn0XZlX9",
    "outputId": "aa3ec800-d5e7-4cf7-d3d7-5e7304f1ba2d"
   },
   "outputs": [
    {
     "name": "stdout",
     "output_type": "stream",
     "text": [
      "interval columns not set, guessing: ['TotalCharges', 'customer_outflow']\n",
      "interval columns not set, guessing: ['TotalCharges', 'customer_outflow']\n"
     ]
    },
    {
     "data": {
      "text/plain": [
       "<AxesSubplot:>"
      ]
     },
     "execution_count": 36,
     "metadata": {},
     "output_type": "execute_result"
    },
    {
     "data": {
      "image/png": "[encoded data removed]",
      "text/plain": [
       "<Figure size 1080x720 with 2 Axes>"
      ]
     },
     "metadata": {
      "needs_background": "light"
     },
     "output_type": "display_data"
    }
   ],
   "source": [
    "fig, axs = plt.subplots(figsize=(15,10))\n",
    "upp_mat = np.triu(data.drop(['MonthlyCharges', 'duration'], axis=1).phik_matrix())\n",
    "\n",
    "sns.heatmap(data.drop(['MonthlyCharges', 'duration'], axis=1).phik_matrix(),\\\n",
    "            vmin = 0, vmax = +1, annot = True, cmap = 'coolwarm', mask = upp_mat, ax=axs)"
   ]
  },
  {
   "cell_type": "code",
   "execution_count": 37,
   "metadata": {
    "id": "HFWL22Olidks"
   },
   "outputs": [],
   "source": [
    "data.drop(['TotalCharges', 'InternetService', 'OnlineSecurity', 'DeviceProtection',\\\n",
    "           'TechSupport', 'StreamingTV', 'StreamingMovies', 'gender'], axis=1, inplace=True)"
   ]
  },
  {
   "cell_type": "markdown",
   "metadata": {},
   "source": [
    "**Промежуточный вывод.**\n",
    "\\\n",
    "Признаки InternetService, OnlineSecurity, OnlineBackup, DeviceProtection, TechSupport, StreamingTV, StreamingMovies оказались сильно коррелированны между собой. Поэтому в данных был оставлен только признак OnlineBackup, так как из всех перечисленных он имеет больший коэффициент корреляции с целевым признаком. Из колличественных признаков был удалён признак TotalCharges. Также был удалён признак gender, так как он имеет нулевую корреляцию."
   ]
  },
  {
   "cell_type": "markdown",
   "metadata": {},
   "source": [
    "**Разделение данных на обучающую и тестовую выборки. Кодирование с помощью OneHotEncoder и масштабирование.**"
   ]
  },
  {
   "cell_type": "code",
   "execution_count": 38,
   "metadata": {
    "colab": {
     "base_uri": "https://localhost:8080/",
     "height": 191
    },
    "id": "7q98tMJZraM9",
    "outputId": "b3e9a95d-9abe-41ac-e119-4e31988d24d8"
   },
   "outputs": [
    {
     "data": {
      "text/plain": [
       "['Type',\n",
       " 'PaperlessBilling',\n",
       " 'PaymentMethod',\n",
       " 'OnlineBackup',\n",
       " 'SeniorCitizen',\n",
       " 'Partner',\n",
       " 'Dependents',\n",
       " 'MultipleLines']"
      ]
     },
     "metadata": {},
     "output_type": "display_data"
    },
    {
     "data": {
      "text/plain": [
       "['MonthlyCharges', 'duration']"
      ]
     },
     "metadata": {},
     "output_type": "display_data"
    }
   ],
   "source": [
    "target_col = 'customer_outflow'\n",
    "\n",
    "cat_cols = data.drop([target_col], axis=1).select_dtypes(exclude=np.number).columns.tolist()\n",
    "num_cols = data.drop([target_col], axis=1).select_dtypes(include=np.number).columns.tolist()\n",
    "\n",
    "display(cat_cols)\n",
    "display(num_cols)"
   ]
  },
  {
   "cell_type": "code",
   "execution_count": 39,
   "metadata": {
    "id": "-sjLPeB0khMT"
   },
   "outputs": [],
   "source": [
    "data_train, data_test = train_test_split(data, test_size=0.25, random_state=RANDOM_STATE,\\\n",
    "                                         stratify=data['customer_outflow'])"
   ]
  },
  {
   "cell_type": "code",
   "execution_count": 40,
   "metadata": {
    "colab": {
     "base_uri": "https://localhost:8080/",
     "height": 75
    },
    "id": "gKaTyleKoz1T",
    "outputId": "bf42e67e-d5f4-488b-8f3c-8caa9ce5985e"
   },
   "outputs": [
    {
     "data": {
      "text/html": [
       "<style>#sk-container-id-1 {color: black;}#sk-container-id-1 pre{padding: 0;}#sk-container-id-1 div.sk-toggleable {background-color: white;}#sk-container-id-1 label.sk-toggleable__label {cursor: pointer;display: block;width: 100%;margin-bottom: 0;padding: 0.3em;box-sizing: border-box;text-align: center;}#sk-container-id-1 label.sk-toggleable__label-arrow:before {content: \"▸\";float: left;margin-right: 0.25em;color: #696969;}#sk-container-id-1 label.sk-toggleable__label-arrow:hover:before {color: black;}#sk-container-id-1 div.sk-estimator:hover label.sk-toggleable__label-arrow:before {color: black;}#sk-container-id-1 div.sk-toggleable__content {max-height: 0;max-width: 0;overflow: hidden;text-align: left;background-color: #f0f8ff;}#sk-container-id-1 div.sk-toggleable__content pre {margin: 0.2em;color: black;border-radius: 0.25em;background-color: #f0f8ff;}#sk-container-id-1 input.sk-toggleable__control:checked~div.sk-toggleable__content {max-height: 200px;max-width: 100%;overflow: auto;}#sk-container-id-1 input.sk-toggleable__control:checked~label.sk-toggleable__label-arrow:before {content: \"▾\";}#sk-container-id-1 div.sk-estimator input.sk-toggleable__control:checked~label.sk-toggleable__label {background-color: #d4ebff;}#sk-container-id-1 div.sk-label input.sk-toggleable__control:checked~label.sk-toggleable__label {background-color: #d4ebff;}#sk-container-id-1 input.sk-hidden--visually {border: 0;clip: rect(1px 1px 1px 1px);clip: rect(1px, 1px, 1px, 1px);height: 1px;margin: -1px;overflow: hidden;padding: 0;position: absolute;width: 1px;}#sk-container-id-1 div.sk-estimator {font-family: monospace;background-color: #f0f8ff;border: 1px dotted black;border-radius: 0.25em;box-sizing: border-box;margin-bottom: 0.5em;}#sk-container-id-1 div.sk-estimator:hover {background-color: #d4ebff;}#sk-container-id-1 div.sk-parallel-item::after {content: \"\";width: 100%;border-bottom: 1px solid gray;flex-grow: 1;}#sk-container-id-1 div.sk-label:hover label.sk-toggleable__label {background-color: #d4ebff;}#sk-container-id-1 div.sk-serial::before {content: \"\";position: absolute;border-left: 1px solid gray;box-sizing: border-box;top: 0;bottom: 0;left: 50%;z-index: 0;}#sk-container-id-1 div.sk-serial {display: flex;flex-direction: column;align-items: center;background-color: white;padding-right: 0.2em;padding-left: 0.2em;position: relative;}#sk-container-id-1 div.sk-item {position: relative;z-index: 1;}#sk-container-id-1 div.sk-parallel {display: flex;align-items: stretch;justify-content: center;background-color: white;position: relative;}#sk-container-id-1 div.sk-item::before, #sk-container-id-1 div.sk-parallel-item::before {content: \"\";position: absolute;border-left: 1px solid gray;box-sizing: border-box;top: 0;bottom: 0;left: 50%;z-index: -1;}#sk-container-id-1 div.sk-parallel-item {display: flex;flex-direction: column;z-index: 1;position: relative;background-color: white;}#sk-container-id-1 div.sk-parallel-item:first-child::after {align-self: flex-end;width: 50%;}#sk-container-id-1 div.sk-parallel-item:last-child::after {align-self: flex-start;width: 50%;}#sk-container-id-1 div.sk-parallel-item:only-child::after {width: 0;}#sk-container-id-1 div.sk-dashed-wrapped {border: 1px dashed gray;margin: 0 0.4em 0.5em 0.4em;box-sizing: border-box;padding-bottom: 0.4em;background-color: white;}#sk-container-id-1 div.sk-label label {font-family: monospace;font-weight: bold;display: inline-block;line-height: 1.2em;}#sk-container-id-1 div.sk-label-container {text-align: center;}#sk-container-id-1 div.sk-container {/* jupyter's `normalize.less` sets `[hidden] { display: none; }` but bootstrap.min.css set `[hidden] { display: none !important; }` so we also need the `!important` here to be able to override the default hidden behavior on the sphinx rendered scikit-learn.org. See: https://github.com/scikit-learn/scikit-learn/issues/21755 */display: inline-block !important;position: relative;}#sk-container-id-1 div.sk-text-repr-fallback {display: none;}</style><div id=\"sk-container-id-1\" class=\"sk-top-container\"><div class=\"sk-text-repr-fallback\"><pre>OneHotEncoder(drop=&#x27;first&#x27;, handle_unknown=&#x27;ignore&#x27;, sparse_output=False)</pre><b>In a Jupyter environment, please rerun this cell to show the HTML representation or trust the notebook. <br />On GitHub, the HTML representation is unable to render, please try loading this page with nbviewer.org.</b></div><div class=\"sk-container\" hidden><div class=\"sk-item\"><div class=\"sk-estimator sk-toggleable\"><input class=\"sk-toggleable__control sk-hidden--visually\" id=\"sk-estimator-id-1\" type=\"checkbox\" checked><label for=\"sk-estimator-id-1\" class=\"sk-toggleable__label sk-toggleable__label-arrow\">OneHotEncoder</label><div class=\"sk-toggleable__content\"><pre>OneHotEncoder(drop=&#x27;first&#x27;, handle_unknown=&#x27;ignore&#x27;, sparse_output=False)</pre></div></div></div></div></div>"
      ],
      "text/plain": [
       "OneHotEncoder(drop='first', handle_unknown='ignore', sparse_output=False)"
      ]
     },
     "execution_count": 40,
     "metadata": {},
     "output_type": "execute_result"
    }
   ],
   "source": [
    "ohe = OneHotEncoder(sparse_output=False, drop='first', handle_unknown='ignore')\n",
    "ohe.fit(data_train[cat_cols])"
   ]
  },
  {
   "cell_type": "code",
   "execution_count": 41,
   "metadata": {
    "id": "kb-932phs2CS"
   },
   "outputs": [],
   "source": [
    "data_tr = pd.DataFrame(ohe.transform(data_train[cat_cols]),\n",
    "                    columns=ohe.get_feature_names_out(), index=data_train.index)\n",
    "data_tr = data_train.drop(columns=cat_cols).join(data_tr)\n",
    "\n",
    "data_ts = pd.DataFrame(ohe.transform(data_test[cat_cols]),\n",
    "                    columns=ohe.get_feature_names_out(), index=data_test.index)\n",
    "data_ts = data_test.drop(columns=cat_cols).join(data_ts)"
   ]
  },
  {
   "cell_type": "code",
   "execution_count": 42,
   "metadata": {
    "id": "7WH7HPccvMsO"
   },
   "outputs": [],
   "source": [
    "sc = StandardScaler()\n",
    "sc.fit(data_tr[num_cols])\n",
    "data_tr[num_cols] = sc.transform(data_tr[num_cols])\n",
    "data_ts[num_cols] = sc.transform(data_ts[num_cols])"
   ]
  },
  {
   "cell_type": "markdown",
   "metadata": {},
   "source": [
    "**Подбор гиперпараметров для модели CatBoostClassifier.**"
   ]
  },
  {
   "cell_type": "code",
   "execution_count": 43,
   "metadata": {
    "id": "ZfJMfJ5KviAB"
   },
   "outputs": [],
   "source": [
    "features_train = data_tr.drop('customer_outflow', axis=1)\n",
    "features_test = data_ts.drop('customer_outflow', axis=1)\n",
    "target_train = data_tr['customer_outflow']\n",
    "target_test = data_ts['customer_outflow']"
   ]
  },
  {
   "cell_type": "code",
   "execution_count": 44,
   "metadata": {},
   "outputs": [
    {
     "data": {
      "text/html": [
       "<div>\n",
       "<style scoped>\n",
       "    .dataframe tbody tr th:only-of-type {\n",
       "        vertical-align: middle;\n",
       "    }\n",
       "\n",
       "    .dataframe tbody tr th {\n",
       "        vertical-align: top;\n",
       "    }\n",
       "\n",
       "    .dataframe thead th {\n",
       "        text-align: right;\n",
       "    }\n",
       "</style>\n",
       "<table border=\"1\" class=\"dataframe\">\n",
       "  <thead>\n",
       "    <tr style=\"text-align: right;\">\n",
       "      <th></th>\n",
       "      <th>MonthlyCharges</th>\n",
       "      <th>duration</th>\n",
       "      <th>Type_One year</th>\n",
       "      <th>Type_Two year</th>\n",
       "      <th>PaperlessBilling_Yes</th>\n",
       "      <th>PaymentMethod_Credit card (automatic)</th>\n",
       "      <th>PaymentMethod_Electronic check</th>\n",
       "      <th>PaymentMethod_Mailed check</th>\n",
       "      <th>OnlineBackup_Yes</th>\n",
       "      <th>OnlineBackup_no_internet</th>\n",
       "      <th>SeniorCitizen_1</th>\n",
       "      <th>Partner_Yes</th>\n",
       "      <th>Dependents_Yes</th>\n",
       "      <th>MultipleLines_Yes</th>\n",
       "      <th>MultipleLines_no_phone</th>\n",
       "    </tr>\n",
       "  </thead>\n",
       "  <tbody>\n",
       "    <tr>\n",
       "      <th>4492</th>\n",
       "      <td>1.286392</td>\n",
       "      <td>1.403669</td>\n",
       "      <td>1.0</td>\n",
       "      <td>0.0</td>\n",
       "      <td>0.0</td>\n",
       "      <td>1.0</td>\n",
       "      <td>0.0</td>\n",
       "      <td>0.0</td>\n",
       "      <td>1.0</td>\n",
       "      <td>0.0</td>\n",
       "      <td>0.0</td>\n",
       "      <td>1.0</td>\n",
       "      <td>1.0</td>\n",
       "      <td>0.0</td>\n",
       "      <td>0.0</td>\n",
       "    </tr>\n",
       "    <tr>\n",
       "      <th>6751</th>\n",
       "      <td>-0.334283</td>\n",
       "      <td>0.423999</td>\n",
       "      <td>0.0</td>\n",
       "      <td>0.0</td>\n",
       "      <td>0.0</td>\n",
       "      <td>0.0</td>\n",
       "      <td>0.0</td>\n",
       "      <td>1.0</td>\n",
       "      <td>0.0</td>\n",
       "      <td>0.0</td>\n",
       "      <td>0.0</td>\n",
       "      <td>0.0</td>\n",
       "      <td>0.0</td>\n",
       "      <td>0.0</td>\n",
       "      <td>0.0</td>\n",
       "    </tr>\n",
       "    <tr>\n",
       "      <th>6776</th>\n",
       "      <td>1.486905</td>\n",
       "      <td>0.248536</td>\n",
       "      <td>0.0</td>\n",
       "      <td>0.0</td>\n",
       "      <td>1.0</td>\n",
       "      <td>0.0</td>\n",
       "      <td>1.0</td>\n",
       "      <td>0.0</td>\n",
       "      <td>1.0</td>\n",
       "      <td>0.0</td>\n",
       "      <td>0.0</td>\n",
       "      <td>1.0</td>\n",
       "      <td>1.0</td>\n",
       "      <td>1.0</td>\n",
       "      <td>0.0</td>\n",
       "    </tr>\n",
       "    <tr>\n",
       "      <th>831</th>\n",
       "      <td>0.785938</td>\n",
       "      <td>0.334806</td>\n",
       "      <td>0.0</td>\n",
       "      <td>0.0</td>\n",
       "      <td>1.0</td>\n",
       "      <td>0.0</td>\n",
       "      <td>1.0</td>\n",
       "      <td>0.0</td>\n",
       "      <td>1.0</td>\n",
       "      <td>0.0</td>\n",
       "      <td>0.0</td>\n",
       "      <td>1.0</td>\n",
       "      <td>1.0</td>\n",
       "      <td>1.0</td>\n",
       "      <td>0.0</td>\n",
       "    </tr>\n",
       "    <tr>\n",
       "      <th>3840</th>\n",
       "      <td>-1.494276</td>\n",
       "      <td>-0.864193</td>\n",
       "      <td>0.0</td>\n",
       "      <td>0.0</td>\n",
       "      <td>1.0</td>\n",
       "      <td>1.0</td>\n",
       "      <td>0.0</td>\n",
       "      <td>0.0</td>\n",
       "      <td>0.0</td>\n",
       "      <td>1.0</td>\n",
       "      <td>0.0</td>\n",
       "      <td>0.0</td>\n",
       "      <td>0.0</td>\n",
       "      <td>0.0</td>\n",
       "      <td>0.0</td>\n",
       "    </tr>\n",
       "  </tbody>\n",
       "</table>\n",
       "</div>"
      ],
      "text/plain": [
       "      MonthlyCharges  duration  Type_One year  Type_Two year  \\\n",
       "4492        1.286392  1.403669            1.0            0.0   \n",
       "6751       -0.334283  0.423999            0.0            0.0   \n",
       "6776        1.486905  0.248536            0.0            0.0   \n",
       "831         0.785938  0.334806            0.0            0.0   \n",
       "3840       -1.494276 -0.864193            0.0            0.0   \n",
       "\n",
       "      PaperlessBilling_Yes  PaymentMethod_Credit card (automatic)  \\\n",
       "4492                   0.0                                    1.0   \n",
       "6751                   0.0                                    0.0   \n",
       "6776                   1.0                                    0.0   \n",
       "831                    1.0                                    0.0   \n",
       "3840                   1.0                                    1.0   \n",
       "\n",
       "      PaymentMethod_Electronic check  PaymentMethod_Mailed check  \\\n",
       "4492                             0.0                         0.0   \n",
       "6751                             0.0                         1.0   \n",
       "6776                             1.0                         0.0   \n",
       "831                              1.0                         0.0   \n",
       "3840                             0.0                         0.0   \n",
       "\n",
       "      OnlineBackup_Yes  OnlineBackup_no_internet  SeniorCitizen_1  \\\n",
       "4492               1.0                       0.0              0.0   \n",
       "6751               0.0                       0.0              0.0   \n",
       "6776               1.0                       0.0              0.0   \n",
       "831                1.0                       0.0              0.0   \n",
       "3840               0.0                       1.0              0.0   \n",
       "\n",
       "      Partner_Yes  Dependents_Yes  MultipleLines_Yes  MultipleLines_no_phone  \n",
       "4492          1.0             1.0                0.0                     0.0  \n",
       "6751          0.0             0.0                0.0                     0.0  \n",
       "6776          1.0             1.0                1.0                     0.0  \n",
       "831           1.0             1.0                1.0                     0.0  \n",
       "3840          0.0             0.0                0.0                     0.0  "
      ]
     },
     "execution_count": 44,
     "metadata": {},
     "output_type": "execute_result"
    }
   ],
   "source": [
    "\n",
    "features_train.head()"
   ]
  },
  {
   "cell_type": "code",
   "execution_count": 117,
   "metadata": {
    "id": "zyua67QJxOTo"
   },
   "outputs": [],
   "source": [
    "model_cb_grid = CatBoostClassifier(random_state=RANDOM_STATE)"
   ]
  },
  {
   "cell_type": "code",
   "execution_count": 118,
   "metadata": {
    "id": "ENyAF7U-zJwd"
   },
   "outputs": [],
   "source": [
    "parameters = {'depth': [3, 4, 6],\n",
    "              'learning_rate' : [0.1, 0.3, 0.6],\n",
    "              'iterations' : [130, 200, 300]}"
   ]
  },
  {
   "cell_type": "code",
   "execution_count": 119,
   "metadata": {
    "id": "fVjFBiOqzXy8"
   },
   "outputs": [],
   "source": [
    "grid_cb = GridSearchCV(estimator = model_cb_grid,\n",
    "                       param_grid = parameters,\n",
    "                       scoring = 'roc_auc',\n",
    "                       cv = 5,\n",
    "                       verbose=0,\n",
    "                       n_jobs=-1)"
   ]
  },
  {
   "cell_type": "markdown",
   "metadata": {
    "colab": {
     "base_uri": "https://localhost:8080/",
     "height": 1000
    },
    "id": "lOhTkDftz7nB",
    "outputId": "b630e5fa-8065-4e80-9d15-d492cbe892ac"
   },
   "source": [
    "grid_cb.fit(features_train, target_train)"
   ]
  },
  {
   "cell_type": "code",
   "execution_count": 130,
   "metadata": {
    "colab": {
     "base_uri": "https://localhost:8080/"
    },
    "id": "mtHmsGja1P4m",
    "outputId": "bf788182-20fc-473b-917c-65e9b657fd23"
   },
   "outputs": [
    {
     "name": "stdout",
     "output_type": "stream",
     "text": [
      "Лучший результат метрики для модели CatBoostClassifier :  0.9328522851475347\n"
     ]
    }
   ],
   "source": [
    "print('Лучший результат метрики для модели CatBoostClassifier : ', grid_cb.best_score_)"
   ]
  },
  {
   "cell_type": "code",
   "execution_count": 131,
   "metadata": {
    "colab": {
     "base_uri": "https://localhost:8080/"
    },
    "id": "fCZDkguw1o0-",
    "outputId": "cb804c95-b9f9-4251-9830-51a74e81a417"
   },
   "outputs": [
    {
     "name": "stdout",
     "output_type": "stream",
     "text": [
      "Параметры наилучшей модели CatBoostClassifier :  {'depth': 3, 'iterations': 300, 'learning_rate': 0.3}\n"
     ]
    }
   ],
   "source": [
    "print('Параметры наилучшей модели CatBoostClassifier : ', grid_cb.best_params_)"
   ]
  },
  {
   "cell_type": "markdown",
   "metadata": {},
   "source": [
    "**Подбор гиперпараметров для модели LGBMClassifier.**"
   ]
  },
  {
   "cell_type": "code",
   "execution_count": null,
   "metadata": {
    "colab": {
     "base_uri": "https://localhost:8080/",
     "height": 118
    },
    "id": "gRHWHWvE5W31",
    "outputId": "070639ef-5f2a-41de-8734-2263fa7f72d5"
   },
   "outputs": [],
   "source": [
    "model_lgb = LGBMClassifier(random_state=RANDOM_STATE)\n",
    "\n",
    "params_lgb = param_grid = {\n",
    "    'num_leaves': list(range(30, 150)),\n",
    "    'learning_rate': [0.01,0.1,0.5],\n",
    "    'max_depth': [5,10,50,100]#,\n",
    "    #'num_threads':[1] #Код ревьюера\n",
    "}\n",
    "\n",
    "grid_lgb = GridSearchCV(model_lgb, params_lgb, scoring='roc_auc', cv=5)\n",
    "grid_lgb.fit(features_train, target_train)"
   ]
  },
  {
   "cell_type": "code",
   "execution_count": 55,
   "metadata": {
    "colab": {
     "base_uri": "https://localhost:8080/"
    },
    "id": "rKO1CSeiXSX_",
    "outputId": "8ab8ad1c-29ee-4906-e2c9-a68e094cca54"
   },
   "outputs": [
    {
     "name": "stdout",
     "output_type": "stream",
     "text": [
      "Лучший результат метрики для модели LGBMClassifier :  0.888544302927173\n"
     ]
    }
   ],
   "source": [
    "print('Лучший результат метрики для модели LGBMClassifier : ', grid_lgb.best_score_)"
   ]
  },
  {
   "cell_type": "code",
   "execution_count": 56,
   "metadata": {
    "colab": {
     "base_uri": "https://localhost:8080/"
    },
    "id": "2bUZOWnkYUna",
    "outputId": "de0f0b64-49f8-4bb5-9d8a-e8b78f2d9ecf"
   },
   "outputs": [
    {
     "name": "stdout",
     "output_type": "stream",
     "text": [
      "Параметры наилучшей модели LGBMClassifier :  {'learning_rate': 0.5, 'max_depth': 5, 'num_leaves': 32}\n"
     ]
    }
   ],
   "source": [
    "print('Параметры наилучшей модели LGBMClassifier : ', grid_lgb.best_params_)"
   ]
  },
  {
   "cell_type": "markdown",
   "metadata": {},
   "source": [
    "**Подбор гиперпараметров для модели LogisticRegression.**"
   ]
  },
  {
   "cell_type": "code",
   "execution_count": 132,
   "metadata": {
    "id": "0V6RCuhUY2xk"
   },
   "outputs": [],
   "source": [
    "model_lr = LogisticRegression(solver='liblinear', class_weight='balanced', random_state=RANDOM_STATE)"
   ]
  },
  {
   "cell_type": "code",
   "execution_count": 133,
   "metadata": {
    "id": "nmfWfZLmY5YO"
   },
   "outputs": [],
   "source": [
    "params_lr = {'penalty':['l1', 'l2'],\n",
    "             'C':list(range(5, 16))}"
   ]
  },
  {
   "cell_type": "code",
   "execution_count": 134,
   "metadata": {
    "id": "LfLGLN91Zdog"
   },
   "outputs": [],
   "source": [
    "grid_lr = GridSearchCV(estimator = model_lr,\n",
    "                       param_grid = params_lr,\n",
    "                       scoring = 'roc_auc',\n",
    "                       cv = 5,\n",
    "                       verbose=0,\n",
    "                       n_jobs=-1)"
   ]
  },
  {
   "cell_type": "code",
   "execution_count": 135,
   "metadata": {
    "colab": {
     "base_uri": "https://localhost:8080/",
     "height": 118
    },
    "id": "og_MKZBUZ0E1",
    "outputId": "81f70afe-2259-44d4-f3fd-32b3d33fc175"
   },
   "outputs": [
    {
     "data": {
      "text/html": [
       "<style>#sk-container-id-7 {color: black;}#sk-container-id-7 pre{padding: 0;}#sk-container-id-7 div.sk-toggleable {background-color: white;}#sk-container-id-7 label.sk-toggleable__label {cursor: pointer;display: block;width: 100%;margin-bottom: 0;padding: 0.3em;box-sizing: border-box;text-align: center;}#sk-container-id-7 label.sk-toggleable__label-arrow:before {content: \"▸\";float: left;margin-right: 0.25em;color: #696969;}#sk-container-id-7 label.sk-toggleable__label-arrow:hover:before {color: black;}#sk-container-id-7 div.sk-estimator:hover label.sk-toggleable__label-arrow:before {color: black;}#sk-container-id-7 div.sk-toggleable__content {max-height: 0;max-width: 0;overflow: hidden;text-align: left;background-color: #f0f8ff;}#sk-container-id-7 div.sk-toggleable__content pre {margin: 0.2em;color: black;border-radius: 0.25em;background-color: #f0f8ff;}#sk-container-id-7 input.sk-toggleable__control:checked~div.sk-toggleable__content {max-height: 200px;max-width: 100%;overflow: auto;}#sk-container-id-7 input.sk-toggleable__control:checked~label.sk-toggleable__label-arrow:before {content: \"▾\";}#sk-container-id-7 div.sk-estimator input.sk-toggleable__control:checked~label.sk-toggleable__label {background-color: #d4ebff;}#sk-container-id-7 div.sk-label input.sk-toggleable__control:checked~label.sk-toggleable__label {background-color: #d4ebff;}#sk-container-id-7 input.sk-hidden--visually {border: 0;clip: rect(1px 1px 1px 1px);clip: rect(1px, 1px, 1px, 1px);height: 1px;margin: -1px;overflow: hidden;padding: 0;position: absolute;width: 1px;}#sk-container-id-7 div.sk-estimator {font-family: monospace;background-color: #f0f8ff;border: 1px dotted black;border-radius: 0.25em;box-sizing: border-box;margin-bottom: 0.5em;}#sk-container-id-7 div.sk-estimator:hover {background-color: #d4ebff;}#sk-container-id-7 div.sk-parallel-item::after {content: \"\";width: 100%;border-bottom: 1px solid gray;flex-grow: 1;}#sk-container-id-7 div.sk-label:hover label.sk-toggleable__label {background-color: #d4ebff;}#sk-container-id-7 div.sk-serial::before {content: \"\";position: absolute;border-left: 1px solid gray;box-sizing: border-box;top: 0;bottom: 0;left: 50%;z-index: 0;}#sk-container-id-7 div.sk-serial {display: flex;flex-direction: column;align-items: center;background-color: white;padding-right: 0.2em;padding-left: 0.2em;position: relative;}#sk-container-id-7 div.sk-item {position: relative;z-index: 1;}#sk-container-id-7 div.sk-parallel {display: flex;align-items: stretch;justify-content: center;background-color: white;position: relative;}#sk-container-id-7 div.sk-item::before, #sk-container-id-7 div.sk-parallel-item::before {content: \"\";position: absolute;border-left: 1px solid gray;box-sizing: border-box;top: 0;bottom: 0;left: 50%;z-index: -1;}#sk-container-id-7 div.sk-parallel-item {display: flex;flex-direction: column;z-index: 1;position: relative;background-color: white;}#sk-container-id-7 div.sk-parallel-item:first-child::after {align-self: flex-end;width: 50%;}#sk-container-id-7 div.sk-parallel-item:last-child::after {align-self: flex-start;width: 50%;}#sk-container-id-7 div.sk-parallel-item:only-child::after {width: 0;}#sk-container-id-7 div.sk-dashed-wrapped {border: 1px dashed gray;margin: 0 0.4em 0.5em 0.4em;box-sizing: border-box;padding-bottom: 0.4em;background-color: white;}#sk-container-id-7 div.sk-label label {font-family: monospace;font-weight: bold;display: inline-block;line-height: 1.2em;}#sk-container-id-7 div.sk-label-container {text-align: center;}#sk-container-id-7 div.sk-container {/* jupyter's `normalize.less` sets `[hidden] { display: none; }` but bootstrap.min.css set `[hidden] { display: none !important; }` so we also need the `!important` here to be able to override the default hidden behavior on the sphinx rendered scikit-learn.org. See: https://github.com/scikit-learn/scikit-learn/issues/21755 */display: inline-block !important;position: relative;}#sk-container-id-7 div.sk-text-repr-fallback {display: none;}</style><div id=\"sk-container-id-7\" class=\"sk-top-container\"><div class=\"sk-text-repr-fallback\"><pre>GridSearchCV(cv=5,\n",
       "             estimator=LogisticRegression(class_weight=&#x27;balanced&#x27;,\n",
       "                                          random_state=170723,\n",
       "                                          solver=&#x27;liblinear&#x27;),\n",
       "             n_jobs=-1,\n",
       "             param_grid={&#x27;C&#x27;: [5, 6, 7, 8, 9, 10, 11, 12, 13, 14, 15],\n",
       "                         &#x27;penalty&#x27;: [&#x27;l1&#x27;, &#x27;l2&#x27;]},\n",
       "             scoring=&#x27;roc_auc&#x27;)</pre><b>In a Jupyter environment, please rerun this cell to show the HTML representation or trust the notebook. <br />On GitHub, the HTML representation is unable to render, please try loading this page with nbviewer.org.</b></div><div class=\"sk-container\" hidden><div class=\"sk-item sk-dashed-wrapped\"><div class=\"sk-label-container\"><div class=\"sk-label sk-toggleable\"><input class=\"sk-toggleable__control sk-hidden--visually\" id=\"sk-estimator-id-17\" type=\"checkbox\" ><label for=\"sk-estimator-id-17\" class=\"sk-toggleable__label sk-toggleable__label-arrow\">GridSearchCV</label><div class=\"sk-toggleable__content\"><pre>GridSearchCV(cv=5,\n",
       "             estimator=LogisticRegression(class_weight=&#x27;balanced&#x27;,\n",
       "                                          random_state=170723,\n",
       "                                          solver=&#x27;liblinear&#x27;),\n",
       "             n_jobs=-1,\n",
       "             param_grid={&#x27;C&#x27;: [5, 6, 7, 8, 9, 10, 11, 12, 13, 14, 15],\n",
       "                         &#x27;penalty&#x27;: [&#x27;l1&#x27;, &#x27;l2&#x27;]},\n",
       "             scoring=&#x27;roc_auc&#x27;)</pre></div></div></div><div class=\"sk-parallel\"><div class=\"sk-parallel-item\"><div class=\"sk-item\"><div class=\"sk-label-container\"><div class=\"sk-label sk-toggleable\"><input class=\"sk-toggleable__control sk-hidden--visually\" id=\"sk-estimator-id-18\" type=\"checkbox\" ><label for=\"sk-estimator-id-18\" class=\"sk-toggleable__label sk-toggleable__label-arrow\">estimator: LogisticRegression</label><div class=\"sk-toggleable__content\"><pre>LogisticRegression(class_weight=&#x27;balanced&#x27;, random_state=170723,\n",
       "                   solver=&#x27;liblinear&#x27;)</pre></div></div></div><div class=\"sk-serial\"><div class=\"sk-item\"><div class=\"sk-estimator sk-toggleable\"><input class=\"sk-toggleable__control sk-hidden--visually\" id=\"sk-estimator-id-19\" type=\"checkbox\" ><label for=\"sk-estimator-id-19\" class=\"sk-toggleable__label sk-toggleable__label-arrow\">LogisticRegression</label><div class=\"sk-toggleable__content\"><pre>LogisticRegression(class_weight=&#x27;balanced&#x27;, random_state=170723,\n",
       "                   solver=&#x27;liblinear&#x27;)</pre></div></div></div></div></div></div></div></div></div></div>"
      ],
      "text/plain": [
       "GridSearchCV(cv=5,\n",
       "             estimator=LogisticRegression(class_weight='balanced',\n",
       "                                          random_state=170723,\n",
       "                                          solver='liblinear'),\n",
       "             n_jobs=-1,\n",
       "             param_grid={'C': [5, 6, 7, 8, 9, 10, 11, 12, 13, 14, 15],\n",
       "                         'penalty': ['l1', 'l2']},\n",
       "             scoring='roc_auc')"
      ]
     },
     "execution_count": 135,
     "metadata": {},
     "output_type": "execute_result"
    }
   ],
   "source": [
    "grid_lr.fit(features_train, target_train)"
   ]
  },
  {
   "cell_type": "code",
   "execution_count": 136,
   "metadata": {
    "colab": {
     "base_uri": "https://localhost:8080/"
    },
    "id": "Wt-pluUUaFXp",
    "outputId": "032c7615-ec3b-4192-d41a-e7a4c85496d8"
   },
   "outputs": [
    {
     "name": "stdout",
     "output_type": "stream",
     "text": [
      "Лучшая метрика для модели LogisticRegression :  0.7519764621703567\n"
     ]
    }
   ],
   "source": [
    "print('Лучшая метрика для модели LogisticRegression : ', grid_lr.best_score_)"
   ]
  },
  {
   "cell_type": "code",
   "execution_count": 137,
   "metadata": {
    "colab": {
     "base_uri": "https://localhost:8080/"
    },
    "id": "BIZGrvYlaMjn",
    "outputId": "5e165278-5c4d-45c5-c106-4f70c5af0e18"
   },
   "outputs": [
    {
     "name": "stdout",
     "output_type": "stream",
     "text": [
      "Параметры наилучшей модели LogisticRegression :  {'C': 5, 'penalty': 'l1'}\n"
     ]
    }
   ],
   "source": [
    "print('Параметры наилучшей модели LogisticRegression : ', grid_lr.best_params_)"
   ]
  },
  {
   "cell_type": "markdown",
   "metadata": {},
   "source": [
    "**Тестирование модели CatBoostClassifier.**"
   ]
  },
  {
   "cell_type": "code",
   "execution_count": 138,
   "metadata": {
    "id": "1zxH70hnjpiX"
   },
   "outputs": [],
   "source": [
    "model = grid_cb.best_estimator_"
   ]
  },
  {
   "cell_type": "code",
   "execution_count": 139,
   "metadata": {
    "id": "FV8YqX-XddVv"
   },
   "outputs": [],
   "source": [
    "probabilities = model.predict_proba(features_test)[:, 1]"
   ]
  },
  {
   "cell_type": "code",
   "execution_count": 140,
   "metadata": {
    "id": "3Q5_idlXeYzS"
   },
   "outputs": [],
   "source": [
    "auc_roc = roc_auc_score(target_test, probabilities)"
   ]
  },
  {
   "cell_type": "code",
   "execution_count": 141,
   "metadata": {
    "colab": {
     "base_uri": "https://localhost:8080/"
    },
    "id": "Qfecu3W8edrf",
    "outputId": "6e209c75-08f7-493a-db26-3b0285bd501a"
   },
   "outputs": [
    {
     "name": "stdout",
     "output_type": "stream",
     "text": [
      "Значение метрики AUC_ROC на тестовой выборке :  0.9300361674737938\n"
     ]
    }
   ],
   "source": [
    "print('Значение метрики AUC_ROC на тестовой выборке : ', auc_roc)"
   ]
  },
  {
   "cell_type": "markdown",
   "metadata": {},
   "source": [
    "**Промежуточный вывод.**\n",
    "\\\n",
    "Были обучены три модели с подбором гиперпараметров : CatBoostClassifier, LGBMClassifier, LogisticRegression. Лучший результат метрики AUC-ROC на обучающей выборке показала модель CatBoostClassifier с параметрами : depth=3, iterations=300, learning_rate=0.3.\n",
    "\\\n",
    "На тестовой выборке выбранная модель показала результат метрики AUC-ROC>0.9.  "
   ]
  },
  {
   "cell_type": "markdown",
   "metadata": {},
   "source": [
    "**ROC кривая.**"
   ]
  },
  {
   "cell_type": "code",
   "execution_count": 61,
   "metadata": {
    "colab": {
     "base_uri": "https://localhost:8080/",
     "height": 472
    },
    "id": "uMNhA0dCfSVx",
    "outputId": "c3d15cd8-dad0-44cc-e39d-5f647f534a27"
   },
   "outputs": [
    {
     "data": {
      "image/png": "[encoded data removed]",
      "text/plain": [
       "<Figure size 640x480 with 1 Axes>"
      ]
     },
     "metadata": {},
     "output_type": "display_data"
    }
   ],
   "source": [
    "fpr, tpr, thresholds = roc_curve((target_test).astype(int), probabilities)\n",
    "plt.figure()\n",
    "plt.plot(fpr, tpr)\n",
    "plt.plot([0, 1], [0, 1], linestyle='--')\n",
    "plt.xlim([0, 1])\n",
    "plt.ylim([0, 1])\n",
    "plt.xlabel('False Positive Rate')\n",
    "plt.ylabel('True Positive Rate')\n",
    "plt.title('ROC-кривая')\n",
    "plt.show()"
   ]
  },
  {
   "cell_type": "markdown",
   "metadata": {},
   "source": [
    "**Исследование на важность признаков.**"
   ]
  },
  {
   "cell_type": "code",
   "execution_count": 56,
   "metadata": {
    "colab": {
     "base_uri": "https://localhost:8080/",
     "height": 798
    },
    "id": "3PzhUi5qoIIy",
    "outputId": "75f2c34c-67dd-4f04-ae87-166684e3093f"
   },
   "outputs": [
    {
     "data": {
      "text/html": [
       "<div>\n",
       "<style scoped>\n",
       "    .dataframe tbody tr th:only-of-type {\n",
       "        vertical-align: middle;\n",
       "    }\n",
       "\n",
       "    .dataframe tbody tr th {\n",
       "        vertical-align: top;\n",
       "    }\n",
       "\n",
       "    .dataframe thead th {\n",
       "        text-align: right;\n",
       "    }\n",
       "</style>\n",
       "<table border=\"1\" class=\"dataframe\">\n",
       "  <thead>\n",
       "    <tr style=\"text-align: right;\">\n",
       "      <th></th>\n",
       "      <th>feature</th>\n",
       "      <th>importance</th>\n",
       "    </tr>\n",
       "  </thead>\n",
       "  <tbody>\n",
       "    <tr>\n",
       "      <th>0</th>\n",
       "      <td>duration</td>\n",
       "      <td>72.599830</td>\n",
       "    </tr>\n",
       "    <tr>\n",
       "      <th>1</th>\n",
       "      <td>MonthlyCharges</td>\n",
       "      <td>11.102708</td>\n",
       "    </tr>\n",
       "    <tr>\n",
       "      <th>2</th>\n",
       "      <td>Type_Two year</td>\n",
       "      <td>2.973177</td>\n",
       "    </tr>\n",
       "    <tr>\n",
       "      <th>3</th>\n",
       "      <td>Partner_Yes</td>\n",
       "      <td>2.780046</td>\n",
       "    </tr>\n",
       "    <tr>\n",
       "      <th>4</th>\n",
       "      <td>Type_One year</td>\n",
       "      <td>1.378807</td>\n",
       "    </tr>\n",
       "    <tr>\n",
       "      <th>5</th>\n",
       "      <td>MultipleLines_no_phone</td>\n",
       "      <td>1.316921</td>\n",
       "    </tr>\n",
       "    <tr>\n",
       "      <th>6</th>\n",
       "      <td>MultipleLines_Yes</td>\n",
       "      <td>1.309108</td>\n",
       "    </tr>\n",
       "    <tr>\n",
       "      <th>7</th>\n",
       "      <td>PaymentMethod_Mailed check</td>\n",
       "      <td>1.280279</td>\n",
       "    </tr>\n",
       "    <tr>\n",
       "      <th>8</th>\n",
       "      <td>OnlineBackup_Yes</td>\n",
       "      <td>1.272698</td>\n",
       "    </tr>\n",
       "    <tr>\n",
       "      <th>9</th>\n",
       "      <td>Dependents_Yes</td>\n",
       "      <td>1.198833</td>\n",
       "    </tr>\n",
       "  </tbody>\n",
       "</table>\n",
       "</div>"
      ],
      "text/plain": [
       "                      feature  importance\n",
       "0                    duration   72.599830\n",
       "1              MonthlyCharges   11.102708\n",
       "2               Type_Two year    2.973177\n",
       "3                 Partner_Yes    2.780046\n",
       "4               Type_One year    1.378807\n",
       "5      MultipleLines_no_phone    1.316921\n",
       "6           MultipleLines_Yes    1.309108\n",
       "7  PaymentMethod_Mailed check    1.280279\n",
       "8            OnlineBackup_Yes    1.272698\n",
       "9              Dependents_Yes    1.198833"
      ]
     },
     "metadata": {},
     "output_type": "display_data"
    },
    {
     "data": {
      "image/png": "[encoded data removed]",
      "text/plain": [
       "<Figure size 432x288 with 1 Axes>"
      ]
     },
     "metadata": {
      "needs_background": "light"
     },
     "output_type": "display_data"
    }
   ],
   "source": [
    "importances = model.feature_importances_\n",
    "feature_list = list(features_train.columns)\n",
    "feature_results = pd.DataFrame({'feature': feature_list,'importance': importances})\n",
    "feature_results = feature_results.sort_values('importance', ascending = False).\\\n",
    "reset_index(drop=True)\n",
    "display(feature_results.head(10))\n",
    "feature_results.plot(kind='barh', x='feature', title='Важность признаков')\n",
    "plt.show()"
   ]
  },
  {
   "cell_type": "markdown",
   "metadata": {},
   "source": [
    "**Матрица ошибок.**"
   ]
  },
  {
   "cell_type": "code",
   "execution_count": 63,
   "metadata": {
    "id": "HbgVUXWAqaeX"
   },
   "outputs": [],
   "source": [
    "predicted_test = model.predict(features_test)"
   ]
  },
  {
   "cell_type": "code",
   "execution_count": 64,
   "metadata": {
    "colab": {
     "base_uri": "https://localhost:8080/"
    },
    "id": "Dd-IeFCipsSg",
    "outputId": "217ae34f-5a6d-4868-a383-fd76bff4220e"
   },
   "outputs": [],
   "source": [
    "cm = confusion_matrix(target_test, predicted_test)"
   ]
  },
  {
   "cell_type": "code",
   "execution_count": 72,
   "metadata": {},
   "outputs": [
    {
     "data": {
      "text/plain": [
       "<sklearn.metrics._plot.confusion_matrix.ConfusionMatrixDisplay at 0x27938f956d0>"
      ]
     },
     "execution_count": 72,
     "metadata": {},
     "output_type": "execute_result"
    },
    {
     "data": {
      "image/png": "[encoded data removed]",
      "text/plain": [
       "<Figure size 640x480 with 2 Axes>"
      ]
     },
     "metadata": {},
     "output_type": "display_data"
    }
   ],
   "source": [
    "cm_display = ConfusionMatrixDisplay(confusion_matrix=cm)\n",
    "cm_display.plot()"
   ]
  },
  {
   "cell_type": "markdown",
   "metadata": {},
   "source": [
    "**Промежуточный вывод.**\n",
    "\\\n",
    "ROC кривая показала адекватность модели. Самым важным признаком оказался признак duration, затем MonthlyCharges. Матрица ошибок показала, что верно предсказанных моделью ответов положительного класса равно 175, неверно - 10. Также модель верно предсказала 1473 ответов отрицательного класса и 100 неверно."
   ]
  },
  {
   "cell_type": "markdown",
   "metadata": {},
   "source": [
    "<div>\n",
    "    <font color='green'><h1>Отчёт</h1></font></div>"
   ]
  },
  {
   "cell_type": "markdown",
   "metadata": {},
   "source": [
    "\n",
    "Был проведён исследовательский анализ данных, заполнены пропуски, выведены графики распределений. Данные поделены на две выборки : тренировочную и тестовую. Просмотрена корреляция признаков между собой и с целевым признаком, применены энкодер и масштабирование. Был изучен на дисбаланс целевой признак. Проведён поиск гиперпараметров для трёх моделей : catboost, ldbm, logisticRegression. Модель решающего леса, которая была изначально в плане, не бралась, так как хватило и перечисленных моделей. Также исспользовалась не простая кроссвалидация, а GridSearchCV. Найдена наилучшая модель с приемлемой метрикой ROC-AUC на тестовой выборке. Выведен график ROC  кривой.  Результат не сравнивался с dummy моделью, как было прописано в плане, так как модель уже была проверена на адекватность с помощью ROC кривой. Были изучены на важность признаки, найдена матрица ошибок."
   ]
  },
  {
   "cell_type": "markdown",
   "metadata": {},
   "source": [
    "Допустимая метрика была достигнута с первого раза после преобразования данных. Но её также удалось немного повысить с помощью удаления признака gender, который имел нулевую корреляцию. На необходимой модели CatBoostClassifer метрика повысилась, но на модели LogisticRegression немного понизилась. "
   ]
  },
  {
   "cell_type": "markdown",
   "metadata": {},
   "source": [
    "Ключевыми шагами в решении задачи являются : заполнение пропусков, объединение данных, поиск гиперпараметров, тестирование модели."
   ]
  },
  {
   "cell_type": "markdown",
   "metadata": {},
   "source": [
    "Был создан новый признак длительности контракта. После исследования на корреляцию, были удалены признаки, кроме одного, из файла internet_new.csv, столбцы TotalCharges, gender."
   ]
  },
  {
   "cell_type": "markdown",
   "metadata": {},
   "source": [
    "Лучшей моделью оказалась модель CatBoostClassifier с гиперпараметрами  depth=3, iterations=300, learning_rate=0.3. На тестовой выборке значение ROC-AUC вышло равным 0.9300361674737938."
   ]
  },
  {
   "cell_type": "markdown",
   "metadata": {},
   "source": [
    "В данных из файла contract_new.csv 7043 строки. Пропусков нет. Есть как категориальные признаки, так и числовые. Признак TotalCharges из типа object был переведён в тип float, также в этом признаке было небольшое число пустых строк, которые были удалены. Признак BeginDate с датами был переведён из типа object в тип DateTime. В столбце EndDate 5942 строки со значением No, остальные значения - даты.\n",
    "\n",
    "В данных из файла internet_new.csv 5517 строк, что меньше, чем в предыдущих данных. Признаки все категориальные.\n",
    "\n",
    "В данных из файла personal_new.csv 7043 строки. Признак SeniorCitizen был переведён из типа int64 с 0-ми и 1-ми в тип object. Признаки все категориальные.\n",
    "\n",
    "В данных из файла phone_new.csv 6361 строка. И два столбца, включая столбец с ID клиентов. Второй столбец категориальный с типом object.\n",
    "\n",
    "Все таблицы имеют общий столбец customerID."
   ]
  },
  {
   "cell_type": "markdown",
   "metadata": {},
   "source": [
    "Были объедененны все данные в одну таблицу. \n",
    "Для признака Type заметно преобладает ежемесячный тип оплаты. Также для признака SeniorCitizen хорошо видно преобладание отсутствия пенсионного статуса по возрасту. Как и в случае признака Dependents, заметно сравнимо большее колличество с вариантом \"отсутствие иждевенцев\". Для остальных признаков различия среди вариантов не так выделяются."
   ]
  },
  {
   "cell_type": "markdown",
   "metadata": {},
   "source": [
    "Был создан целевой признак из столбца EndDate(дата окончания пользования услугами). Добавлен новый признак для длительности контракта. Два класса в целевом признаке оказались несбалансированны: 15,7% 1-иц и 84,3% 0-ей."
   ]
  },
  {
   "cell_type": "markdown",
   "metadata": {},
   "source": [
    "Признаки InternetService, OnlineSecurity, OnlineBackup, DeviceProtection, TechSupport, StreamingTV, StreamingMovies оказались сильно коррелированны между собой. Поэтому в данных был оставлен только признак OnlineBackup, так как из всех перечисленных он имеет больший коэффициент корреляции с целевым признаком. Из колличественных признаков был удалён признак TotalCharges. Также был удалён признак gender, так как он имеет нулевую корреляцию."
   ]
  },
  {
   "cell_type": "markdown",
   "metadata": {},
   "source": [
    "Были обучены три модели с подбором гиперпараметров : CatBoostClassifier, LGBMClassifier, LogisticRegression. Лучший результат метрики AUC-ROC на обучающей выборке показала модель CatBoostClassifier с параметрами : depth=3, iterations=300, learning_rate=0.3.\n",
    "На тестовой выборке выбранная модель показала результат метрики AUC-ROC>0.9."
   ]
  },
  {
   "cell_type": "markdown",
   "metadata": {},
   "source": [
    "ROC кривая показала адекватность модели. Самым важным признаком оказался признак duration, затем MonthlyCharges. Матрица ошибок показала, что верно предсказанных моделью ответов положительного класса равно 175, неверно - 10. Также модель верно предсказала 1473 ответов отрицательного класса и 100 неверно. Получается, что исходя из такого предсказания 175 клиентам верно были бы предложены промокоды и специальные условия, при этом 10 клиентам можно было бы не делать особых предложений, так как они бы не ушли. Также 100 клиентам, которые ушли на самом деле, не было предложено особых предложений, что смогло бы их оставить среди клиентов, что является упущением."
   ]
  }
 ],
 "metadata": {
  "ExecuteTimeLog": [
   {
    "duration": 1252,
    "start_time": "2023-07-18T08:17:53.344Z"
   },
   {
    "duration": 3,
    "start_time": "2023-07-18T08:17:54.598Z"
   },
   {
    "duration": 76,
    "start_time": "2023-07-18T08:17:54.602Z"
   },
   {
    "duration": 7,
    "start_time": "2023-07-18T08:17:54.680Z"
   },
   {
    "duration": 15,
    "start_time": "2023-07-18T08:17:54.689Z"
   },
   {
    "duration": 11,
    "start_time": "2023-07-18T08:17:54.705Z"
   },
   {
    "duration": 20,
    "start_time": "2023-07-18T08:17:54.718Z"
   },
   {
    "duration": 12,
    "start_time": "2023-07-18T08:17:54.740Z"
   },
   {
    "duration": 73,
    "start_time": "2023-07-18T08:17:54.754Z"
   },
   {
    "duration": 21,
    "start_time": "2023-07-18T08:17:54.829Z"
   },
   {
    "duration": 35,
    "start_time": "2023-07-18T08:17:54.852Z"
   },
   {
    "duration": 5,
    "start_time": "2023-07-18T08:17:54.889Z"
   },
   {
    "duration": 41,
    "start_time": "2023-07-18T08:17:54.896Z"
   },
   {
    "duration": 22,
    "start_time": "2023-07-18T08:17:54.939Z"
   },
   {
    "duration": 35,
    "start_time": "2023-07-18T08:17:54.963Z"
   },
   {
    "duration": 41,
    "start_time": "2023-07-18T08:17:54.999Z"
   },
   {
    "duration": 236,
    "start_time": "2023-07-18T08:17:55.042Z"
   },
   {
    "duration": 388,
    "start_time": "2023-07-18T08:17:55.280Z"
   },
   {
    "duration": 1706,
    "start_time": "2023-07-18T08:17:55.670Z"
   },
   {
    "duration": 4,
    "start_time": "2023-07-18T08:17:57.378Z"
   },
   {
    "duration": 6,
    "start_time": "2023-07-18T08:20:46.830Z"
   },
   {
    "duration": 6,
    "start_time": "2023-07-18T08:22:43.075Z"
   },
   {
    "duration": 6,
    "start_time": "2023-07-18T08:22:56.909Z"
   },
   {
    "duration": 226,
    "start_time": "2023-07-19T07:08:04.460Z"
   },
   {
    "duration": 1312,
    "start_time": "2023-07-19T07:08:24.616Z"
   },
   {
    "duration": 3,
    "start_time": "2023-07-19T07:08:25.931Z"
   },
   {
    "duration": 157,
    "start_time": "2023-07-19T07:08:25.935Z"
   },
   {
    "duration": 7,
    "start_time": "2023-07-19T07:08:26.093Z"
   },
   {
    "duration": 12,
    "start_time": "2023-07-19T07:08:26.103Z"
   },
   {
    "duration": 9,
    "start_time": "2023-07-19T07:08:26.116Z"
   },
   {
    "duration": 9,
    "start_time": "2023-07-19T07:08:26.126Z"
   },
   {
    "duration": 8,
    "start_time": "2023-07-19T07:08:26.136Z"
   },
   {
    "duration": 173,
    "start_time": "2023-07-19T07:08:26.146Z"
   },
   {
    "duration": 110,
    "start_time": "2023-07-19T07:08:26.320Z"
   },
   {
    "duration": 21,
    "start_time": "2023-07-19T07:08:26.431Z"
   },
   {
    "duration": 3,
    "start_time": "2023-07-19T07:08:26.454Z"
   },
   {
    "duration": 218,
    "start_time": "2023-07-19T07:08:26.458Z"
   },
   {
    "duration": 22,
    "start_time": "2023-07-19T07:08:26.679Z"
   },
   {
    "duration": 23,
    "start_time": "2023-07-19T07:08:26.702Z"
   },
   {
    "duration": 6,
    "start_time": "2023-07-19T07:08:26.727Z"
   },
   {
    "duration": 19,
    "start_time": "2023-07-19T07:08:26.734Z"
   },
   {
    "duration": 45,
    "start_time": "2023-07-19T07:08:26.754Z"
   },
   {
    "duration": 10,
    "start_time": "2023-07-19T07:08:26.800Z"
   },
   {
    "duration": 24,
    "start_time": "2023-07-19T07:08:26.812Z"
   },
   {
    "duration": 196,
    "start_time": "2023-07-19T07:08:26.837Z"
   },
   {
    "duration": 7,
    "start_time": "2023-07-19T07:08:27.035Z"
   },
   {
    "duration": 365,
    "start_time": "2023-07-19T07:08:27.043Z"
   },
   {
    "duration": 1508,
    "start_time": "2023-07-19T07:08:27.409Z"
   },
   {
    "duration": 4,
    "start_time": "2023-07-19T07:08:28.918Z"
   },
   {
    "duration": 13,
    "start_time": "2023-07-19T07:08:28.923Z"
   },
   {
    "duration": 24,
    "start_time": "2023-07-19T07:08:28.938Z"
   },
   {
    "duration": 10,
    "start_time": "2023-07-19T07:08:28.964Z"
   },
   {
    "duration": 21,
    "start_time": "2023-07-19T07:08:28.976Z"
   },
   {
    "duration": 28,
    "start_time": "2023-07-19T07:09:19.759Z"
   },
   {
    "duration": 3227,
    "start_time": "2023-07-20T09:41:16.975Z"
   },
   {
    "duration": 1954,
    "start_time": "2023-07-20T09:41:20.205Z"
   },
   {
    "duration": 3,
    "start_time": "2023-07-20T09:41:22.161Z"
   },
   {
    "duration": 7,
    "start_time": "2023-07-20T09:41:22.166Z"
   },
   {
    "duration": 152,
    "start_time": "2023-07-20T09:41:22.174Z"
   },
   {
    "duration": 5,
    "start_time": "2023-07-20T09:41:22.328Z"
   },
   {
    "duration": 14,
    "start_time": "2023-07-20T09:41:22.335Z"
   },
   {
    "duration": 5,
    "start_time": "2023-07-20T09:41:22.351Z"
   },
   {
    "duration": 5,
    "start_time": "2023-07-20T09:41:22.357Z"
   },
   {
    "duration": 6,
    "start_time": "2023-07-20T09:41:22.365Z"
   },
   {
    "duration": 189,
    "start_time": "2023-07-20T09:41:22.372Z"
   },
   {
    "duration": 104,
    "start_time": "2023-07-20T09:41:22.563Z"
   },
   {
    "duration": 22,
    "start_time": "2023-07-20T09:41:22.669Z"
   },
   {
    "duration": 3,
    "start_time": "2023-07-20T09:41:22.692Z"
   },
   {
    "duration": 114,
    "start_time": "2023-07-20T09:41:22.696Z"
   },
   {
    "duration": 22,
    "start_time": "2023-07-20T09:41:22.811Z"
   },
   {
    "duration": 25,
    "start_time": "2023-07-20T09:41:22.834Z"
   },
   {
    "duration": 7,
    "start_time": "2023-07-20T09:41:22.860Z"
   },
   {
    "duration": 33,
    "start_time": "2023-07-20T09:41:22.869Z"
   },
   {
    "duration": 32,
    "start_time": "2023-07-20T09:41:22.904Z"
   },
   {
    "duration": 9,
    "start_time": "2023-07-20T09:41:22.937Z"
   },
   {
    "duration": 219,
    "start_time": "2023-07-20T09:41:22.948Z"
   },
   {
    "duration": 8,
    "start_time": "2023-07-20T09:41:23.168Z"
   },
   {
    "duration": 415,
    "start_time": "2023-07-20T09:41:23.178Z"
   },
   {
    "duration": 1420,
    "start_time": "2023-07-20T09:41:23.594Z"
   },
   {
    "duration": 3,
    "start_time": "2023-07-20T09:41:25.016Z"
   },
   {
    "duration": 17,
    "start_time": "2023-07-20T09:41:25.021Z"
   },
   {
    "duration": 11,
    "start_time": "2023-07-20T09:41:25.041Z"
   },
   {
    "duration": 7,
    "start_time": "2023-07-20T09:41:25.053Z"
   },
   {
    "duration": 5,
    "start_time": "2023-07-20T09:41:25.061Z"
   },
   {
    "duration": 88,
    "start_time": "2023-07-20T09:41:25.068Z"
   },
   {
    "duration": 4,
    "start_time": "2023-07-20T09:41:25.159Z"
   },
   {
    "duration": 438,
    "start_time": "2023-07-20T09:41:25.165Z"
   },
   {
    "duration": 2608,
    "start_time": "2023-07-20T09:41:25.605Z"
   },
   {
    "duration": 5,
    "start_time": "2023-07-20T09:41:28.214Z"
   },
   {
    "duration": 23,
    "start_time": "2023-07-20T09:41:28.221Z"
   },
   {
    "duration": 17,
    "start_time": "2023-07-20T09:41:28.245Z"
   },
   {
    "duration": 120,
    "start_time": "2023-07-20T09:41:28.263Z"
   },
   {
    "duration": 0,
    "start_time": "2023-07-20T09:41:28.384Z"
   },
   {
    "duration": 0,
    "start_time": "2023-07-20T09:41:28.385Z"
   },
   {
    "duration": 0,
    "start_time": "2023-07-20T09:41:28.387Z"
   },
   {
    "duration": 0,
    "start_time": "2023-07-20T09:41:28.388Z"
   },
   {
    "duration": 0,
    "start_time": "2023-07-20T09:41:28.399Z"
   },
   {
    "duration": 0,
    "start_time": "2023-07-20T09:41:28.400Z"
   },
   {
    "duration": 0,
    "start_time": "2023-07-20T09:41:28.401Z"
   },
   {
    "duration": 0,
    "start_time": "2023-07-20T09:41:28.402Z"
   },
   {
    "duration": 0,
    "start_time": "2023-07-20T09:41:28.403Z"
   },
   {
    "duration": 0,
    "start_time": "2023-07-20T09:41:28.404Z"
   },
   {
    "duration": 0,
    "start_time": "2023-07-20T09:41:28.405Z"
   },
   {
    "duration": 0,
    "start_time": "2023-07-20T09:41:28.406Z"
   },
   {
    "duration": 0,
    "start_time": "2023-07-20T09:41:28.407Z"
   },
   {
    "duration": 0,
    "start_time": "2023-07-20T09:41:28.408Z"
   },
   {
    "duration": 0,
    "start_time": "2023-07-20T09:41:28.409Z"
   },
   {
    "duration": 0,
    "start_time": "2023-07-20T09:41:28.410Z"
   },
   {
    "duration": 0,
    "start_time": "2023-07-20T09:41:28.411Z"
   },
   {
    "duration": 0,
    "start_time": "2023-07-20T09:41:28.412Z"
   },
   {
    "duration": 0,
    "start_time": "2023-07-20T09:41:28.413Z"
   },
   {
    "duration": 0,
    "start_time": "2023-07-20T09:41:28.414Z"
   },
   {
    "duration": 0,
    "start_time": "2023-07-20T09:41:28.414Z"
   },
   {
    "duration": 0,
    "start_time": "2023-07-20T09:41:28.416Z"
   },
   {
    "duration": 0,
    "start_time": "2023-07-20T09:41:28.417Z"
   },
   {
    "duration": 0,
    "start_time": "2023-07-20T09:41:28.417Z"
   },
   {
    "duration": 0,
    "start_time": "2023-07-20T09:41:28.419Z"
   },
   {
    "duration": 0,
    "start_time": "2023-07-20T09:41:28.419Z"
   },
   {
    "duration": 6835,
    "start_time": "2023-07-20T09:42:54.522Z"
   },
   {
    "duration": 2074,
    "start_time": "2023-07-20T09:43:01.359Z"
   },
   {
    "duration": 1147,
    "start_time": "2023-07-20T09:43:03.434Z"
   },
   {
    "duration": 3,
    "start_time": "2023-07-20T09:43:04.582Z"
   },
   {
    "duration": 16,
    "start_time": "2023-07-20T09:43:04.588Z"
   },
   {
    "duration": 120,
    "start_time": "2023-07-20T09:43:04.606Z"
   },
   {
    "duration": 5,
    "start_time": "2023-07-20T09:43:04.728Z"
   },
   {
    "duration": 12,
    "start_time": "2023-07-20T09:43:04.735Z"
   },
   {
    "duration": 12,
    "start_time": "2023-07-20T09:43:04.749Z"
   },
   {
    "duration": 12,
    "start_time": "2023-07-20T09:43:04.762Z"
   },
   {
    "duration": 19,
    "start_time": "2023-07-20T09:43:04.775Z"
   },
   {
    "duration": 115,
    "start_time": "2023-07-20T09:43:04.796Z"
   },
   {
    "duration": 20,
    "start_time": "2023-07-20T09:43:04.913Z"
   },
   {
    "duration": 21,
    "start_time": "2023-07-20T09:43:04.937Z"
   },
   {
    "duration": 4,
    "start_time": "2023-07-20T09:43:04.959Z"
   },
   {
    "duration": 74,
    "start_time": "2023-07-20T09:43:04.965Z"
   },
   {
    "duration": 25,
    "start_time": "2023-07-20T09:43:05.040Z"
   },
   {
    "duration": 25,
    "start_time": "2023-07-20T09:43:05.067Z"
   },
   {
    "duration": 7,
    "start_time": "2023-07-20T09:43:05.093Z"
   },
   {
    "duration": 17,
    "start_time": "2023-07-20T09:43:05.101Z"
   },
   {
    "duration": 31,
    "start_time": "2023-07-20T09:43:05.119Z"
   },
   {
    "duration": 9,
    "start_time": "2023-07-20T09:43:05.151Z"
   },
   {
    "duration": 213,
    "start_time": "2023-07-20T09:43:05.162Z"
   },
   {
    "duration": 8,
    "start_time": "2023-07-20T09:43:05.377Z"
   },
   {
    "duration": 370,
    "start_time": "2023-07-20T09:43:05.387Z"
   },
   {
    "duration": 1435,
    "start_time": "2023-07-20T09:43:05.759Z"
   },
   {
    "duration": 4,
    "start_time": "2023-07-20T09:43:07.196Z"
   },
   {
    "duration": 13,
    "start_time": "2023-07-20T09:43:07.202Z"
   },
   {
    "duration": 13,
    "start_time": "2023-07-20T09:43:07.217Z"
   },
   {
    "duration": 13,
    "start_time": "2023-07-20T09:43:07.232Z"
   },
   {
    "duration": 8,
    "start_time": "2023-07-20T09:43:07.246Z"
   },
   {
    "duration": 61,
    "start_time": "2023-07-20T09:43:07.255Z"
   },
   {
    "duration": 5,
    "start_time": "2023-07-20T09:43:07.317Z"
   },
   {
    "duration": 445,
    "start_time": "2023-07-20T09:43:07.324Z"
   },
   {
    "duration": 2508,
    "start_time": "2023-07-20T09:43:07.770Z"
   },
   {
    "duration": 4,
    "start_time": "2023-07-20T09:43:10.280Z"
   },
   {
    "duration": 17,
    "start_time": "2023-07-20T09:43:10.286Z"
   },
   {
    "duration": 11,
    "start_time": "2023-07-20T09:43:10.305Z"
   },
   {
    "duration": 119,
    "start_time": "2023-07-20T09:43:10.317Z"
   },
   {
    "duration": 0,
    "start_time": "2023-07-20T09:43:10.439Z"
   },
   {
    "duration": 0,
    "start_time": "2023-07-20T09:43:10.440Z"
   },
   {
    "duration": 0,
    "start_time": "2023-07-20T09:43:10.442Z"
   },
   {
    "duration": 0,
    "start_time": "2023-07-20T09:43:10.443Z"
   },
   {
    "duration": 0,
    "start_time": "2023-07-20T09:43:10.445Z"
   },
   {
    "duration": 0,
    "start_time": "2023-07-20T09:43:10.446Z"
   },
   {
    "duration": 0,
    "start_time": "2023-07-20T09:43:10.447Z"
   },
   {
    "duration": 0,
    "start_time": "2023-07-20T09:43:10.448Z"
   },
   {
    "duration": 0,
    "start_time": "2023-07-20T09:43:10.450Z"
   },
   {
    "duration": 0,
    "start_time": "2023-07-20T09:43:10.451Z"
   },
   {
    "duration": 0,
    "start_time": "2023-07-20T09:43:10.452Z"
   },
   {
    "duration": 0,
    "start_time": "2023-07-20T09:43:10.453Z"
   },
   {
    "duration": 1,
    "start_time": "2023-07-20T09:43:10.454Z"
   },
   {
    "duration": 0,
    "start_time": "2023-07-20T09:43:10.456Z"
   },
   {
    "duration": 0,
    "start_time": "2023-07-20T09:43:10.457Z"
   },
   {
    "duration": 0,
    "start_time": "2023-07-20T09:43:10.459Z"
   },
   {
    "duration": 0,
    "start_time": "2023-07-20T09:43:10.460Z"
   },
   {
    "duration": 0,
    "start_time": "2023-07-20T09:43:10.499Z"
   },
   {
    "duration": 0,
    "start_time": "2023-07-20T09:43:10.501Z"
   },
   {
    "duration": 0,
    "start_time": "2023-07-20T09:43:10.502Z"
   },
   {
    "duration": 0,
    "start_time": "2023-07-20T09:43:10.504Z"
   },
   {
    "duration": 0,
    "start_time": "2023-07-20T09:43:10.505Z"
   },
   {
    "duration": 0,
    "start_time": "2023-07-20T09:43:10.506Z"
   },
   {
    "duration": 0,
    "start_time": "2023-07-20T09:43:10.508Z"
   },
   {
    "duration": 0,
    "start_time": "2023-07-20T09:43:10.509Z"
   },
   {
    "duration": 0,
    "start_time": "2023-07-20T09:43:10.510Z"
   },
   {
    "duration": 1977,
    "start_time": "2023-07-20T09:44:01.205Z"
   },
   {
    "duration": 1975,
    "start_time": "2023-07-20T09:44:03.184Z"
   },
   {
    "duration": 1159,
    "start_time": "2023-07-20T09:44:05.161Z"
   },
   {
    "duration": 2,
    "start_time": "2023-07-20T09:44:06.322Z"
   },
   {
    "duration": 19,
    "start_time": "2023-07-20T09:44:06.325Z"
   },
   {
    "duration": 130,
    "start_time": "2023-07-20T09:44:06.346Z"
   },
   {
    "duration": 6,
    "start_time": "2023-07-20T09:44:06.477Z"
   },
   {
    "duration": 24,
    "start_time": "2023-07-20T09:44:06.485Z"
   },
   {
    "duration": 16,
    "start_time": "2023-07-20T09:44:06.511Z"
   },
   {
    "duration": 7,
    "start_time": "2023-07-20T09:44:06.529Z"
   },
   {
    "duration": 8,
    "start_time": "2023-07-20T09:44:06.537Z"
   },
   {
    "duration": 120,
    "start_time": "2023-07-20T09:44:06.546Z"
   },
   {
    "duration": 21,
    "start_time": "2023-07-20T09:44:06.668Z"
   },
   {
    "duration": 19,
    "start_time": "2023-07-20T09:44:06.692Z"
   },
   {
    "duration": 19,
    "start_time": "2023-07-20T09:44:06.712Z"
   },
   {
    "duration": 66,
    "start_time": "2023-07-20T09:44:06.732Z"
   },
   {
    "duration": 22,
    "start_time": "2023-07-20T09:44:06.800Z"
   },
   {
    "duration": 25,
    "start_time": "2023-07-20T09:44:06.823Z"
   },
   {
    "duration": 13,
    "start_time": "2023-07-20T09:44:06.850Z"
   },
   {
    "duration": 36,
    "start_time": "2023-07-20T09:44:06.864Z"
   },
   {
    "duration": 38,
    "start_time": "2023-07-20T09:44:06.901Z"
   },
   {
    "duration": 21,
    "start_time": "2023-07-20T09:44:06.941Z"
   },
   {
    "duration": 203,
    "start_time": "2023-07-20T09:44:06.964Z"
   },
   {
    "duration": 8,
    "start_time": "2023-07-20T09:44:07.168Z"
   },
   {
    "duration": 33,
    "start_time": "2023-07-20T09:44:07.178Z"
   },
   {
    "duration": 342,
    "start_time": "2023-07-20T09:44:07.213Z"
   },
   {
    "duration": 1389,
    "start_time": "2023-07-20T09:44:07.557Z"
   },
   {
    "duration": 3,
    "start_time": "2023-07-20T09:44:08.948Z"
   },
   {
    "duration": 15,
    "start_time": "2023-07-20T09:44:08.952Z"
   },
   {
    "duration": 15,
    "start_time": "2023-07-20T09:44:08.969Z"
   },
   {
    "duration": 6,
    "start_time": "2023-07-20T09:44:08.986Z"
   },
   {
    "duration": 8,
    "start_time": "2023-07-20T09:44:08.994Z"
   },
   {
    "duration": 67,
    "start_time": "2023-07-20T09:44:09.004Z"
   },
   {
    "duration": 5,
    "start_time": "2023-07-20T09:44:09.073Z"
   },
   {
    "duration": 414,
    "start_time": "2023-07-20T09:44:09.079Z"
   },
   {
    "duration": 2458,
    "start_time": "2023-07-20T09:44:09.499Z"
   },
   {
    "duration": 4,
    "start_time": "2023-07-20T09:44:11.959Z"
   },
   {
    "duration": 22,
    "start_time": "2023-07-20T09:44:11.964Z"
   },
   {
    "duration": 20,
    "start_time": "2023-07-20T09:44:11.988Z"
   },
   {
    "duration": 134,
    "start_time": "2023-07-20T09:44:12.010Z"
   },
   {
    "duration": 0,
    "start_time": "2023-07-20T09:44:12.146Z"
   },
   {
    "duration": 0,
    "start_time": "2023-07-20T09:44:12.147Z"
   },
   {
    "duration": 0,
    "start_time": "2023-07-20T09:44:12.148Z"
   },
   {
    "duration": 0,
    "start_time": "2023-07-20T09:44:12.148Z"
   },
   {
    "duration": 0,
    "start_time": "2023-07-20T09:44:12.149Z"
   },
   {
    "duration": 0,
    "start_time": "2023-07-20T09:44:12.150Z"
   },
   {
    "duration": 0,
    "start_time": "2023-07-20T09:44:12.151Z"
   },
   {
    "duration": 0,
    "start_time": "2023-07-20T09:44:12.152Z"
   },
   {
    "duration": 0,
    "start_time": "2023-07-20T09:44:12.154Z"
   },
   {
    "duration": 0,
    "start_time": "2023-07-20T09:44:12.155Z"
   },
   {
    "duration": 0,
    "start_time": "2023-07-20T09:44:12.156Z"
   },
   {
    "duration": 0,
    "start_time": "2023-07-20T09:44:12.157Z"
   },
   {
    "duration": 0,
    "start_time": "2023-07-20T09:44:12.158Z"
   },
   {
    "duration": 0,
    "start_time": "2023-07-20T09:44:12.159Z"
   },
   {
    "duration": 0,
    "start_time": "2023-07-20T09:44:12.160Z"
   },
   {
    "duration": 0,
    "start_time": "2023-07-20T09:44:12.162Z"
   },
   {
    "duration": 0,
    "start_time": "2023-07-20T09:44:12.163Z"
   },
   {
    "duration": 0,
    "start_time": "2023-07-20T09:44:12.164Z"
   },
   {
    "duration": 0,
    "start_time": "2023-07-20T09:44:12.166Z"
   },
   {
    "duration": 0,
    "start_time": "2023-07-20T09:44:12.167Z"
   },
   {
    "duration": 0,
    "start_time": "2023-07-20T09:44:12.168Z"
   },
   {
    "duration": 0,
    "start_time": "2023-07-20T09:44:12.200Z"
   },
   {
    "duration": 0,
    "start_time": "2023-07-20T09:44:12.201Z"
   },
   {
    "duration": 1,
    "start_time": "2023-07-20T09:44:12.203Z"
   },
   {
    "duration": 0,
    "start_time": "2023-07-20T09:44:12.204Z"
   },
   {
    "duration": 0,
    "start_time": "2023-07-20T09:44:12.206Z"
   },
   {
    "duration": 1984,
    "start_time": "2023-07-20T09:49:58.154Z"
   },
   {
    "duration": 2131,
    "start_time": "2023-07-20T09:50:00.140Z"
   },
   {
    "duration": 1307,
    "start_time": "2023-07-20T09:50:02.273Z"
   },
   {
    "duration": 3,
    "start_time": "2023-07-20T09:50:03.582Z"
   },
   {
    "duration": 9,
    "start_time": "2023-07-20T09:50:03.586Z"
   },
   {
    "duration": 470,
    "start_time": "2023-07-20T09:50:03.600Z"
   },
   {
    "duration": 6,
    "start_time": "2023-07-20T09:50:04.072Z"
   },
   {
    "duration": 21,
    "start_time": "2023-07-20T09:50:04.079Z"
   },
   {
    "duration": 39,
    "start_time": "2023-07-20T09:50:04.102Z"
   },
   {
    "duration": 17,
    "start_time": "2023-07-20T09:50:04.144Z"
   },
   {
    "duration": 10,
    "start_time": "2023-07-20T09:50:04.162Z"
   },
   {
    "duration": 162,
    "start_time": "2023-07-20T09:50:04.173Z"
   },
   {
    "duration": 21,
    "start_time": "2023-07-20T09:50:04.336Z"
   },
   {
    "duration": 21,
    "start_time": "2023-07-20T09:50:04.358Z"
   },
   {
    "duration": 4,
    "start_time": "2023-07-20T09:50:04.380Z"
   },
   {
    "duration": 114,
    "start_time": "2023-07-20T09:50:04.385Z"
   },
   {
    "duration": 21,
    "start_time": "2023-07-20T09:50:04.501Z"
   },
   {
    "duration": 24,
    "start_time": "2023-07-20T09:50:04.523Z"
   },
   {
    "duration": 11,
    "start_time": "2023-07-20T09:50:04.548Z"
   },
   {
    "duration": 46,
    "start_time": "2023-07-20T09:50:04.560Z"
   },
   {
    "duration": 36,
    "start_time": "2023-07-20T09:50:04.608Z"
   },
   {
    "duration": 10,
    "start_time": "2023-07-20T09:50:04.645Z"
   },
   {
    "duration": 210,
    "start_time": "2023-07-20T09:50:04.657Z"
   },
   {
    "duration": 8,
    "start_time": "2023-07-20T09:50:04.869Z"
   },
   {
    "duration": 39,
    "start_time": "2023-07-20T09:50:04.878Z"
   },
   {
    "duration": 376,
    "start_time": "2023-07-20T09:50:04.918Z"
   },
   {
    "duration": 1555,
    "start_time": "2023-07-20T09:50:05.299Z"
   },
   {
    "duration": 3,
    "start_time": "2023-07-20T09:50:06.859Z"
   },
   {
    "duration": 17,
    "start_time": "2023-07-20T09:50:06.864Z"
   },
   {
    "duration": 18,
    "start_time": "2023-07-20T09:50:06.882Z"
   },
   {
    "duration": 15,
    "start_time": "2023-07-20T09:50:06.902Z"
   },
   {
    "duration": 22,
    "start_time": "2023-07-20T09:50:06.918Z"
   },
   {
    "duration": 72,
    "start_time": "2023-07-20T09:50:06.941Z"
   },
   {
    "duration": 5,
    "start_time": "2023-07-20T09:50:07.014Z"
   },
   {
    "duration": 447,
    "start_time": "2023-07-20T09:50:07.021Z"
   },
   {
    "duration": 2522,
    "start_time": "2023-07-20T09:50:07.470Z"
   },
   {
    "duration": 4,
    "start_time": "2023-07-20T09:50:09.999Z"
   },
   {
    "duration": 27,
    "start_time": "2023-07-20T09:50:10.005Z"
   },
   {
    "duration": 17,
    "start_time": "2023-07-20T09:50:10.034Z"
   },
   {
    "duration": 115,
    "start_time": "2023-07-20T09:50:10.052Z"
   },
   {
    "duration": 0,
    "start_time": "2023-07-20T09:50:10.168Z"
   },
   {
    "duration": 0,
    "start_time": "2023-07-20T09:50:10.170Z"
   },
   {
    "duration": 0,
    "start_time": "2023-07-20T09:50:10.170Z"
   },
   {
    "duration": 0,
    "start_time": "2023-07-20T09:50:10.171Z"
   },
   {
    "duration": 0,
    "start_time": "2023-07-20T09:50:10.172Z"
   },
   {
    "duration": 0,
    "start_time": "2023-07-20T09:50:10.173Z"
   },
   {
    "duration": 0,
    "start_time": "2023-07-20T09:50:10.174Z"
   },
   {
    "duration": 0,
    "start_time": "2023-07-20T09:50:10.175Z"
   },
   {
    "duration": 0,
    "start_time": "2023-07-20T09:50:10.175Z"
   },
   {
    "duration": 0,
    "start_time": "2023-07-20T09:50:10.177Z"
   },
   {
    "duration": 1,
    "start_time": "2023-07-20T09:50:10.177Z"
   },
   {
    "duration": 0,
    "start_time": "2023-07-20T09:50:10.178Z"
   },
   {
    "duration": 0,
    "start_time": "2023-07-20T09:50:10.179Z"
   },
   {
    "duration": 0,
    "start_time": "2023-07-20T09:50:10.180Z"
   },
   {
    "duration": 0,
    "start_time": "2023-07-20T09:50:10.181Z"
   },
   {
    "duration": 0,
    "start_time": "2023-07-20T09:50:10.200Z"
   },
   {
    "duration": 0,
    "start_time": "2023-07-20T09:50:10.200Z"
   },
   {
    "duration": 0,
    "start_time": "2023-07-20T09:50:10.201Z"
   },
   {
    "duration": 0,
    "start_time": "2023-07-20T09:50:10.202Z"
   },
   {
    "duration": 0,
    "start_time": "2023-07-20T09:50:10.203Z"
   },
   {
    "duration": 0,
    "start_time": "2023-07-20T09:50:10.204Z"
   },
   {
    "duration": 0,
    "start_time": "2023-07-20T09:50:10.204Z"
   },
   {
    "duration": 0,
    "start_time": "2023-07-20T09:50:10.205Z"
   },
   {
    "duration": 0,
    "start_time": "2023-07-20T09:50:10.206Z"
   },
   {
    "duration": 0,
    "start_time": "2023-07-20T09:50:10.207Z"
   },
   {
    "duration": 0,
    "start_time": "2023-07-20T09:50:10.208Z"
   },
   {
    "duration": 5834,
    "start_time": "2023-07-20T09:50:59.523Z"
   },
   {
    "duration": 2032,
    "start_time": "2023-07-20T09:51:05.359Z"
   },
   {
    "duration": 1289,
    "start_time": "2023-07-20T09:51:07.393Z"
   },
   {
    "duration": 2,
    "start_time": "2023-07-20T09:51:08.684Z"
   },
   {
    "duration": 13,
    "start_time": "2023-07-20T09:51:08.688Z"
   },
   {
    "duration": 113,
    "start_time": "2023-07-20T09:51:08.702Z"
   },
   {
    "duration": 7,
    "start_time": "2023-07-20T09:51:08.817Z"
   },
   {
    "duration": 27,
    "start_time": "2023-07-20T09:51:08.825Z"
   },
   {
    "duration": 12,
    "start_time": "2023-07-20T09:51:08.854Z"
   },
   {
    "duration": 15,
    "start_time": "2023-07-20T09:51:08.867Z"
   },
   {
    "duration": 5,
    "start_time": "2023-07-20T09:51:08.884Z"
   },
   {
    "duration": 110,
    "start_time": "2023-07-20T09:51:08.891Z"
   },
   {
    "duration": 20,
    "start_time": "2023-07-20T09:51:09.003Z"
   },
   {
    "duration": 23,
    "start_time": "2023-07-20T09:51:09.028Z"
   },
   {
    "duration": 4,
    "start_time": "2023-07-20T09:51:09.052Z"
   },
   {
    "duration": 87,
    "start_time": "2023-07-20T09:51:09.057Z"
   },
   {
    "duration": 29,
    "start_time": "2023-07-20T09:51:09.146Z"
   },
   {
    "duration": 35,
    "start_time": "2023-07-20T09:51:09.177Z"
   },
   {
    "duration": 12,
    "start_time": "2023-07-20T09:51:09.214Z"
   },
   {
    "duration": 32,
    "start_time": "2023-07-20T09:51:09.228Z"
   },
   {
    "duration": 37,
    "start_time": "2023-07-20T09:51:09.262Z"
   },
   {
    "duration": 11,
    "start_time": "2023-07-20T09:51:09.300Z"
   },
   {
    "duration": 206,
    "start_time": "2023-07-20T09:51:09.313Z"
   },
   {
    "duration": 11,
    "start_time": "2023-07-20T09:51:09.521Z"
   },
   {
    "duration": 16,
    "start_time": "2023-07-20T09:51:09.534Z"
   },
   {
    "duration": 386,
    "start_time": "2023-07-20T09:51:09.552Z"
   },
   {
    "duration": 1407,
    "start_time": "2023-07-20T09:51:09.939Z"
   },
   {
    "duration": 3,
    "start_time": "2023-07-20T09:51:11.348Z"
   },
   {
    "duration": 17,
    "start_time": "2023-07-20T09:51:11.353Z"
   },
   {
    "duration": 12,
    "start_time": "2023-07-20T09:51:11.372Z"
   },
   {
    "duration": 10,
    "start_time": "2023-07-20T09:51:11.386Z"
   },
   {
    "duration": 9,
    "start_time": "2023-07-20T09:51:11.398Z"
   },
   {
    "duration": 60,
    "start_time": "2023-07-20T09:51:11.408Z"
   },
   {
    "duration": 5,
    "start_time": "2023-07-20T09:51:11.470Z"
   },
   {
    "duration": 542,
    "start_time": "2023-07-20T09:51:11.476Z"
   },
   {
    "duration": 2463,
    "start_time": "2023-07-20T09:51:12.019Z"
   },
   {
    "duration": 4,
    "start_time": "2023-07-20T09:51:14.484Z"
   },
   {
    "duration": 20,
    "start_time": "2023-07-20T09:51:14.489Z"
   },
   {
    "duration": 10,
    "start_time": "2023-07-20T09:51:14.511Z"
   },
   {
    "duration": 10,
    "start_time": "2023-07-20T09:51:14.523Z"
   },
   {
    "duration": 33,
    "start_time": "2023-07-20T09:51:14.539Z"
   },
   {
    "duration": 33,
    "start_time": "2023-07-20T09:51:14.573Z"
   },
   {
    "duration": 5,
    "start_time": "2023-07-20T09:51:14.608Z"
   },
   {
    "duration": 8,
    "start_time": "2023-07-20T09:51:14.615Z"
   },
   {
    "duration": 11,
    "start_time": "2023-07-20T09:51:14.624Z"
   },
   {
    "duration": 9,
    "start_time": "2023-07-20T09:51:14.637Z"
   },
   {
    "duration": 153311,
    "start_time": "2023-07-20T09:51:14.648Z"
   },
   {
    "duration": 3,
    "start_time": "2023-07-20T09:53:47.961Z"
   },
   {
    "duration": 30,
    "start_time": "2023-07-20T09:53:47.965Z"
   },
   {
    "duration": 2655,
    "start_time": "2023-07-20T09:54:49.005Z"
   },
   {
    "duration": 1998,
    "start_time": "2023-07-20T09:54:51.663Z"
   },
   {
    "duration": 1174,
    "start_time": "2023-07-20T09:54:53.662Z"
   },
   {
    "duration": 3,
    "start_time": "2023-07-20T09:54:54.837Z"
   },
   {
    "duration": 17,
    "start_time": "2023-07-20T09:54:54.842Z"
   },
   {
    "duration": 126,
    "start_time": "2023-07-20T09:54:54.861Z"
   },
   {
    "duration": 6,
    "start_time": "2023-07-20T09:54:54.988Z"
   },
   {
    "duration": 20,
    "start_time": "2023-07-20T09:54:54.995Z"
   },
   {
    "duration": 24,
    "start_time": "2023-07-20T09:54:55.016Z"
   },
   {
    "duration": 54,
    "start_time": "2023-07-20T09:54:55.042Z"
   },
   {
    "duration": 26,
    "start_time": "2023-07-20T09:54:55.097Z"
   },
   {
    "duration": 158,
    "start_time": "2023-07-20T09:54:55.124Z"
   },
   {
    "duration": 21,
    "start_time": "2023-07-20T09:54:55.284Z"
   },
   {
    "duration": 22,
    "start_time": "2023-07-20T09:54:55.307Z"
   },
   {
    "duration": 3,
    "start_time": "2023-07-20T09:54:55.331Z"
   },
   {
    "duration": 499,
    "start_time": "2023-07-20T09:54:55.336Z"
   },
   {
    "duration": 22,
    "start_time": "2023-07-20T09:54:55.837Z"
   },
   {
    "duration": 24,
    "start_time": "2023-07-20T09:54:55.860Z"
   },
   {
    "duration": 6,
    "start_time": "2023-07-20T09:54:55.885Z"
   },
   {
    "duration": 16,
    "start_time": "2023-07-20T09:54:55.893Z"
   },
   {
    "duration": 34,
    "start_time": "2023-07-20T09:54:55.910Z"
   },
   {
    "duration": 9,
    "start_time": "2023-07-20T09:54:55.945Z"
   },
   {
    "duration": 285,
    "start_time": "2023-07-20T09:54:55.956Z"
   },
   {
    "duration": 11,
    "start_time": "2023-07-20T09:54:56.243Z"
   },
   {
    "duration": 52,
    "start_time": "2023-07-20T09:54:56.257Z"
   },
   {
    "duration": 346,
    "start_time": "2023-07-20T09:54:56.312Z"
   },
   {
    "duration": 1434,
    "start_time": "2023-07-20T09:54:56.660Z"
   },
   {
    "duration": 3,
    "start_time": "2023-07-20T09:54:58.096Z"
   },
   {
    "duration": 33,
    "start_time": "2023-07-20T09:54:58.100Z"
   },
   {
    "duration": 78,
    "start_time": "2023-07-20T09:54:58.134Z"
   },
   {
    "duration": 26,
    "start_time": "2023-07-20T09:54:58.213Z"
   },
   {
    "duration": 15,
    "start_time": "2023-07-20T09:54:58.241Z"
   },
   {
    "duration": 107,
    "start_time": "2023-07-20T09:54:58.258Z"
   },
   {
    "duration": 5,
    "start_time": "2023-07-20T09:54:58.367Z"
   },
   {
    "duration": 500,
    "start_time": "2023-07-20T09:54:58.373Z"
   },
   {
    "duration": 2486,
    "start_time": "2023-07-20T09:54:58.874Z"
   },
   {
    "duration": 4,
    "start_time": "2023-07-20T09:55:01.362Z"
   },
   {
    "duration": 38,
    "start_time": "2023-07-20T09:55:01.368Z"
   },
   {
    "duration": 57,
    "start_time": "2023-07-20T09:55:01.408Z"
   },
   {
    "duration": 91,
    "start_time": "2023-07-20T09:55:01.466Z"
   },
   {
    "duration": 55,
    "start_time": "2023-07-20T09:55:01.561Z"
   },
   {
    "duration": 79,
    "start_time": "2023-07-20T09:55:01.618Z"
   },
   {
    "duration": 25,
    "start_time": "2023-07-20T09:55:01.698Z"
   },
   {
    "duration": 151,
    "start_time": "2023-07-20T09:55:01.724Z"
   },
   {
    "duration": 33,
    "start_time": "2023-07-20T09:55:01.876Z"
   },
   {
    "duration": 46,
    "start_time": "2023-07-20T09:55:01.910Z"
   },
   {
    "duration": 40,
    "start_time": "2023-07-20T09:55:01.958Z"
   },
   {
    "duration": 155947,
    "start_time": "2023-07-20T09:55:01.999Z"
   },
   {
    "duration": 4,
    "start_time": "2023-07-20T09:57:37.947Z"
   },
   {
    "duration": 86,
    "start_time": "2023-07-20T09:57:37.952Z"
   },
   {
    "duration": 1073027,
    "start_time": "2023-07-20T09:57:38.040Z"
   },
   {
    "duration": 0,
    "start_time": "2023-07-20T10:15:31.069Z"
   },
   {
    "duration": 0,
    "start_time": "2023-07-20T10:15:31.070Z"
   },
   {
    "duration": 1,
    "start_time": "2023-07-20T10:15:31.071Z"
   },
   {
    "duration": 0,
    "start_time": "2023-07-20T10:15:31.072Z"
   },
   {
    "duration": 0,
    "start_time": "2023-07-20T10:15:31.073Z"
   },
   {
    "duration": 0,
    "start_time": "2023-07-20T10:15:31.074Z"
   },
   {
    "duration": 0,
    "start_time": "2023-07-20T10:15:31.075Z"
   },
   {
    "duration": 0,
    "start_time": "2023-07-20T10:15:31.076Z"
   },
   {
    "duration": 0,
    "start_time": "2023-07-20T10:15:31.077Z"
   },
   {
    "duration": 0,
    "start_time": "2023-07-20T10:15:31.099Z"
   },
   {
    "duration": 0,
    "start_time": "2023-07-20T10:15:31.100Z"
   },
   {
    "duration": 0,
    "start_time": "2023-07-20T10:15:31.101Z"
   },
   {
    "duration": 0,
    "start_time": "2023-07-20T10:15:31.102Z"
   },
   {
    "duration": 0,
    "start_time": "2023-07-20T10:15:31.103Z"
   },
   {
    "duration": 0,
    "start_time": "2023-07-20T10:15:31.104Z"
   },
   {
    "duration": 0,
    "start_time": "2023-07-20T10:15:31.105Z"
   },
   {
    "duration": 2,
    "start_time": "2023-07-20T10:15:36.934Z"
   },
   {
    "duration": 3,
    "start_time": "2023-07-20T10:15:39.180Z"
   },
   {
    "duration": 3,
    "start_time": "2023-07-20T10:15:41.091Z"
   },
   {
    "duration": 17784,
    "start_time": "2023-07-20T10:15:42.731Z"
   },
   {
    "duration": 3,
    "start_time": "2023-07-20T10:16:00.517Z"
   },
   {
    "duration": 35,
    "start_time": "2023-07-20T10:16:00.521Z"
   },
   {
    "duration": 43,
    "start_time": "2023-07-20T10:16:00.558Z"
   },
   {
    "duration": 27,
    "start_time": "2023-07-20T10:16:00.602Z"
   },
   {
    "duration": 42,
    "start_time": "2023-07-20T10:16:00.630Z"
   },
   {
    "duration": 30,
    "start_time": "2023-07-20T10:16:00.674Z"
   },
   {
    "duration": 140,
    "start_time": "2023-07-20T10:16:00.706Z"
   },
   {
    "duration": 206,
    "start_time": "2023-07-20T10:16:00.848Z"
   },
   {
    "duration": 3,
    "start_time": "2023-07-20T10:16:01.057Z"
   },
   {
    "duration": 65,
    "start_time": "2023-07-20T10:16:01.062Z"
   },
   {
    "duration": 56,
    "start_time": "2023-07-20T12:16:19.549Z"
   },
   {
    "duration": 7425,
    "start_time": "2023-07-20T12:16:27.378Z"
   },
   {
    "duration": 3014,
    "start_time": "2023-07-20T12:16:41.876Z"
   },
   {
    "duration": 1638,
    "start_time": "2023-07-20T12:16:50.285Z"
   },
   {
    "duration": 3,
    "start_time": "2023-07-20T12:16:54.049Z"
   },
   {
    "duration": 4,
    "start_time": "2023-07-20T12:17:02.433Z"
   },
   {
    "duration": 150,
    "start_time": "2023-07-20T12:17:04.445Z"
   },
   {
    "duration": 8,
    "start_time": "2023-07-20T12:17:14.454Z"
   },
   {
    "duration": 10,
    "start_time": "2023-07-20T12:17:23.015Z"
   },
   {
    "duration": 8,
    "start_time": "2023-07-20T12:17:25.885Z"
   },
   {
    "duration": 7,
    "start_time": "2023-07-20T12:17:33.751Z"
   },
   {
    "duration": 5,
    "start_time": "2023-07-20T12:17:40.750Z"
   },
   {
    "duration": 198,
    "start_time": "2023-07-20T12:17:42.644Z"
   },
   {
    "duration": 127,
    "start_time": "2023-07-20T12:17:52.439Z"
   },
   {
    "duration": 27,
    "start_time": "2023-07-20T12:17:54.148Z"
   },
   {
    "duration": 3,
    "start_time": "2023-07-20T12:18:02.816Z"
   },
   {
    "duration": 123,
    "start_time": "2023-07-20T12:18:05.666Z"
   },
   {
    "duration": 31,
    "start_time": "2023-07-20T12:18:11.975Z"
   },
   {
    "duration": 36,
    "start_time": "2023-07-20T12:18:28.615Z"
   },
   {
    "duration": 8,
    "start_time": "2023-07-20T12:18:30.505Z"
   },
   {
    "duration": 16,
    "start_time": "2023-07-20T12:18:32.056Z"
   },
   {
    "duration": 43,
    "start_time": "2023-07-20T12:21:07.057Z"
   },
   {
    "duration": 15,
    "start_time": "2023-07-20T12:21:17.985Z"
   },
   {
    "duration": 249,
    "start_time": "2023-07-20T12:21:26.077Z"
   },
   {
    "duration": 11,
    "start_time": "2023-07-20T12:21:35.175Z"
   },
   {
    "duration": 18,
    "start_time": "2023-07-20T12:21:36.933Z"
   },
   {
    "duration": 508,
    "start_time": "2023-07-20T12:21:49.449Z"
   },
   {
    "duration": 1755,
    "start_time": "2023-07-20T12:22:00.421Z"
   },
   {
    "duration": 6,
    "start_time": "2023-07-20T12:23:23.525Z"
   },
   {
    "duration": 13,
    "start_time": "2023-07-20T12:23:25.223Z"
   },
   {
    "duration": 6,
    "start_time": "2023-07-20T12:23:26.977Z"
   },
   {
    "duration": 9,
    "start_time": "2023-07-20T12:23:34.979Z"
   },
   {
    "duration": 7,
    "start_time": "2023-07-20T12:23:37.459Z"
   },
   {
    "duration": 75,
    "start_time": "2023-07-20T12:23:45.221Z"
   },
   {
    "duration": 7,
    "start_time": "2023-07-20T12:23:57.666Z"
   },
   {
    "duration": 618,
    "start_time": "2023-07-20T12:23:59.407Z"
   },
   {
    "duration": 3412,
    "start_time": "2023-07-20T12:24:13.813Z"
   },
   {
    "duration": 5,
    "start_time": "2023-07-20T12:28:40.219Z"
   },
   {
    "duration": 22,
    "start_time": "2023-07-20T12:28:47.606Z"
   },
   {
    "duration": 9,
    "start_time": "2023-07-20T12:28:50.787Z"
   },
   {
    "duration": 12,
    "start_time": "2023-07-20T12:29:02.769Z"
   },
   {
    "duration": 148,
    "start_time": "2023-07-20T12:29:06.186Z"
   },
   {
    "duration": 17,
    "start_time": "2023-07-20T12:29:22.432Z"
   },
   {
    "duration": 6,
    "start_time": "2023-07-20T12:29:32.612Z"
   },
   {
    "duration": 21,
    "start_time": "2023-07-20T12:29:35.388Z"
   },
   {
    "duration": 3,
    "start_time": "2023-07-20T12:29:42.646Z"
   },
   {
    "duration": 3,
    "start_time": "2023-07-20T12:29:44.050Z"
   },
   {
    "duration": 3,
    "start_time": "2023-07-20T12:29:45.732Z"
   },
   {
    "duration": 152624,
    "start_time": "2023-07-20T12:29:49.967Z"
   },
   {
    "duration": 4,
    "start_time": "2023-07-20T12:32:22.593Z"
   },
   {
    "duration": 4,
    "start_time": "2023-07-20T12:32:37.177Z"
   },
   {
    "duration": 127476,
    "start_time": "2023-07-20T12:32:43.638Z"
   },
   {
    "duration": 121777,
    "start_time": "2023-07-20T12:34:59.283Z"
   },
   {
    "duration": 1230426,
    "start_time": "2023-07-20T12:37:27.671Z"
   },
   {
    "duration": 4,
    "start_time": "2023-07-20T12:58:04.956Z"
   },
   {
    "duration": 4,
    "start_time": "2023-07-20T12:58:19.455Z"
   },
   {
    "duration": 3,
    "start_time": "2023-07-20T12:58:38.126Z"
   },
   {
    "duration": 3,
    "start_time": "2023-07-20T12:58:40.066Z"
   },
   {
    "duration": 4,
    "start_time": "2023-07-20T12:58:42.347Z"
   },
   {
    "duration": 19216,
    "start_time": "2023-07-20T12:58:44.397Z"
   },
   {
    "duration": 4,
    "start_time": "2023-07-20T12:59:14.983Z"
   },
   {
    "duration": 4,
    "start_time": "2023-07-20T12:59:18.416Z"
   },
   {
    "duration": 4,
    "start_time": "2023-07-20T12:59:25.957Z"
   },
   {
    "duration": 7,
    "start_time": "2023-07-20T12:59:27.867Z"
   },
   {
    "duration": 8,
    "start_time": "2023-07-20T12:59:29.686Z"
   },
   {
    "duration": 4,
    "start_time": "2023-07-20T12:59:35.297Z"
   },
   {
    "duration": 136,
    "start_time": "2023-07-20T12:59:51.345Z"
   },
   {
    "duration": 263,
    "start_time": "2023-07-20T12:59:59.606Z"
   },
   {
    "duration": 5,
    "start_time": "2023-07-20T13:00:19.155Z"
   },
   {
    "duration": 9,
    "start_time": "2023-07-20T13:00:21.656Z"
   },
   {
    "duration": 7073,
    "start_time": "2023-07-24T19:54:14.558Z"
   },
   {
    "duration": 2942,
    "start_time": "2023-07-24T19:55:06.319Z"
   },
   {
    "duration": 3106,
    "start_time": "2023-07-24T19:55:09.264Z"
   },
   {
    "duration": 1708,
    "start_time": "2023-07-24T19:55:12.373Z"
   },
   {
    "duration": 8,
    "start_time": "2023-07-24T19:55:14.083Z"
   },
   {
    "duration": 15,
    "start_time": "2023-07-24T19:55:14.095Z"
   },
   {
    "duration": 274,
    "start_time": "2023-07-24T19:55:14.113Z"
   },
   {
    "duration": 8,
    "start_time": "2023-07-24T19:55:14.391Z"
   },
   {
    "duration": 11,
    "start_time": "2023-07-24T19:55:14.401Z"
   },
   {
    "duration": 19,
    "start_time": "2023-07-24T19:55:14.414Z"
   },
   {
    "duration": 15,
    "start_time": "2023-07-24T19:55:14.435Z"
   },
   {
    "duration": 8,
    "start_time": "2023-07-24T19:55:14.452Z"
   },
   {
    "duration": 215,
    "start_time": "2023-07-24T19:55:14.468Z"
   },
   {
    "duration": 57,
    "start_time": "2023-07-24T19:55:14.685Z"
   },
   {
    "duration": 31,
    "start_time": "2023-07-24T19:55:14.745Z"
   },
   {
    "duration": 6,
    "start_time": "2023-07-24T19:55:14.778Z"
   },
   {
    "duration": 163,
    "start_time": "2023-07-24T19:55:14.786Z"
   },
   {
    "duration": 31,
    "start_time": "2023-07-24T19:55:14.951Z"
   },
   {
    "duration": 30,
    "start_time": "2023-07-24T19:55:14.983Z"
   },
   {
    "duration": 8,
    "start_time": "2023-07-24T19:55:15.015Z"
   },
   {
    "duration": 55,
    "start_time": "2023-07-24T19:55:15.025Z"
   },
   {
    "duration": 61,
    "start_time": "2023-07-24T19:55:15.081Z"
   },
   {
    "duration": 11,
    "start_time": "2023-07-24T19:55:15.144Z"
   },
   {
    "duration": 238,
    "start_time": "2023-07-24T19:55:15.157Z"
   },
   {
    "duration": 17,
    "start_time": "2023-07-24T19:55:15.397Z"
   },
   {
    "duration": 462,
    "start_time": "2023-07-24T19:55:15.415Z"
   },
   {
    "duration": 1750,
    "start_time": "2023-07-24T19:55:15.879Z"
   },
   {
    "duration": 4,
    "start_time": "2023-07-24T19:55:17.631Z"
   },
   {
    "duration": 18,
    "start_time": "2023-07-24T19:55:17.637Z"
   },
   {
    "duration": 8,
    "start_time": "2023-07-24T19:55:17.656Z"
   },
   {
    "duration": 22,
    "start_time": "2023-07-24T19:55:17.665Z"
   },
   {
    "duration": 9,
    "start_time": "2023-07-24T19:55:17.689Z"
   },
   {
    "duration": 81,
    "start_time": "2023-07-24T19:55:17.700Z"
   },
   {
    "duration": 5,
    "start_time": "2023-07-24T19:55:17.783Z"
   },
   {
    "duration": 511,
    "start_time": "2023-07-24T19:55:17.790Z"
   },
   {
    "duration": 3209,
    "start_time": "2023-07-24T19:55:18.303Z"
   },
   {
    "duration": 5,
    "start_time": "2023-07-24T19:55:21.514Z"
   },
   {
    "duration": 23,
    "start_time": "2023-07-24T19:55:21.520Z"
   },
   {
    "duration": 11,
    "start_time": "2023-07-24T19:55:21.545Z"
   },
   {
    "duration": 27,
    "start_time": "2023-07-24T19:55:21.557Z"
   },
   {
    "duration": 162,
    "start_time": "2023-07-24T19:55:21.586Z"
   },
   {
    "duration": 26,
    "start_time": "2023-07-24T19:55:21.753Z"
   },
   {
    "duration": 5,
    "start_time": "2023-07-24T19:55:21.783Z"
   },
   {
    "duration": 26,
    "start_time": "2023-07-24T19:55:21.790Z"
   },
   {
    "duration": 7,
    "start_time": "2023-07-24T19:55:21.818Z"
   },
   {
    "duration": 8,
    "start_time": "2023-07-24T19:55:21.827Z"
   },
   {
    "duration": 15,
    "start_time": "2023-07-24T19:55:21.836Z"
   },
   {
    "duration": 175046,
    "start_time": "2023-07-24T19:55:21.853Z"
   },
   {
    "duration": 5,
    "start_time": "2023-07-24T19:58:16.901Z"
   },
   {
    "duration": 9,
    "start_time": "2023-07-24T19:58:16.908Z"
   },
   {
    "duration": 4,
    "start_time": "2023-07-24T19:58:50.697Z"
   },
   {
    "duration": 136,
    "start_time": "2023-07-24T19:58:52.572Z"
   },
   {
    "duration": 6,
    "start_time": "2023-07-24T19:59:29.193Z"
   },
   {
    "duration": 8,
    "start_time": "2023-07-24T19:59:30.903Z"
   },
   {
    "duration": 5,
    "start_time": "2023-07-24T19:59:32.350Z"
   },
   {
    "duration": 320,
    "start_time": "2023-07-24T19:59:40.841Z"
   },
   {
    "duration": 4,
    "start_time": "2023-07-24T20:01:09.126Z"
   },
   {
    "duration": 6,
    "start_time": "2023-07-24T20:01:11.100Z"
   },
   {
    "duration": 6,
    "start_time": "2023-07-24T20:01:13.093Z"
   },
   {
    "duration": 4,
    "start_time": "2023-07-24T20:01:15.198Z"
   },
   {
    "duration": 4,
    "start_time": "2023-07-24T20:03:14.816Z"
   },
   {
    "duration": 1215,
    "start_time": "2023-07-24T20:03:16.508Z"
   },
   {
    "duration": 7,
    "start_time": "2023-07-24T20:06:01.581Z"
   },
   {
    "duration": 9,
    "start_time": "2023-07-24T20:06:14.586Z"
   },
   {
    "duration": 15,
    "start_time": "2023-07-24T20:06:24.998Z"
   },
   {
    "duration": 6,
    "start_time": "2023-07-24T20:06:29.492Z"
   },
   {
    "duration": 7,
    "start_time": "2023-07-24T20:06:36.410Z"
   },
   {
    "duration": 5,
    "start_time": "2023-07-24T20:06:42.911Z"
   },
   {
    "duration": 5,
    "start_time": "2023-07-24T20:06:53.092Z"
   },
   {
    "duration": 3,
    "start_time": "2023-07-24T20:07:06.917Z"
   },
   {
    "duration": 1102,
    "start_time": "2023-07-24T20:07:08.399Z"
   },
   {
    "duration": 22,
    "start_time": "2023-07-24T20:07:39.292Z"
   },
   {
    "duration": 1171,
    "start_time": "2023-07-24T20:08:05.540Z"
   },
   {
    "duration": 145,
    "start_time": "2023-07-24T20:09:32.516Z"
   },
   {
    "duration": 193,
    "start_time": "2023-07-24T20:09:39.351Z"
   },
   {
    "duration": 12,
    "start_time": "2023-07-24T20:09:47.150Z"
   },
   {
    "duration": 16,
    "start_time": "2023-07-24T20:10:15.905Z"
   },
   {
    "duration": 12,
    "start_time": "2023-07-24T20:11:05.801Z"
   },
   {
    "duration": 1044,
    "start_time": "2023-07-24T20:12:52.222Z"
   },
   {
    "duration": 11,
    "start_time": "2023-07-24T20:14:01.710Z"
   },
   {
    "duration": 499,
    "start_time": "2023-07-24T20:14:23.385Z"
   },
   {
    "duration": 567,
    "start_time": "2023-07-24T20:14:52.246Z"
   },
   {
    "duration": 15,
    "start_time": "2023-07-24T20:15:41.900Z"
   },
   {
    "duration": 1157,
    "start_time": "2023-07-24T20:16:58.738Z"
   },
   {
    "duration": 1136,
    "start_time": "2023-07-24T20:18:22.515Z"
   },
   {
    "duration": 1203,
    "start_time": "2023-07-24T20:18:59.637Z"
   },
   {
    "duration": 27,
    "start_time": "2023-07-24T20:19:19.068Z"
   },
   {
    "duration": 1172,
    "start_time": "2023-07-24T20:19:33.937Z"
   },
   {
    "duration": 18,
    "start_time": "2023-07-24T20:20:01.154Z"
   },
   {
    "duration": 1293,
    "start_time": "2023-07-24T20:20:12.437Z"
   },
   {
    "duration": 1262,
    "start_time": "2023-07-24T20:20:32.946Z"
   },
   {
    "duration": 15,
    "start_time": "2023-07-24T20:21:40.996Z"
   },
   {
    "duration": 6,
    "start_time": "2023-07-24T20:22:40.828Z"
   },
   {
    "duration": 8,
    "start_time": "2023-07-24T20:23:06.491Z"
   },
   {
    "duration": 5,
    "start_time": "2023-07-24T20:23:15.900Z"
   },
   {
    "duration": 1242,
    "start_time": "2023-07-24T20:23:28.483Z"
   },
   {
    "duration": 9,
    "start_time": "2023-07-24T20:23:41.692Z"
   },
   {
    "duration": 6,
    "start_time": "2023-07-24T20:23:52.307Z"
   },
   {
    "duration": 4,
    "start_time": "2023-07-24T20:24:10.007Z"
   },
   {
    "duration": 5,
    "start_time": "2023-07-24T20:24:40.706Z"
   },
   {
    "duration": 1294,
    "start_time": "2023-07-24T20:24:54.854Z"
   },
   {
    "duration": 7,
    "start_time": "2023-07-24T20:25:01.985Z"
   },
   {
    "duration": 160,
    "start_time": "2023-07-24T20:25:31.325Z"
   },
   {
    "duration": 9,
    "start_time": "2023-07-24T20:25:49.000Z"
   },
   {
    "duration": 8,
    "start_time": "2023-07-24T20:25:52.216Z"
   },
   {
    "duration": 5,
    "start_time": "2023-07-24T20:26:10.013Z"
   },
   {
    "duration": 2483,
    "start_time": "2023-07-24T20:27:34.339Z"
   },
   {
    "duration": 1121,
    "start_time": "2023-07-24T20:27:48.339Z"
   },
   {
    "duration": 1307,
    "start_time": "2023-07-24T20:28:01.715Z"
   },
   {
    "duration": 14,
    "start_time": "2023-07-24T20:30:25.287Z"
   },
   {
    "duration": 3,
    "start_time": "2023-07-24T20:30:31.032Z"
   },
   {
    "duration": 3,
    "start_time": "2023-07-24T20:30:32.507Z"
   },
   {
    "duration": 3,
    "start_time": "2023-07-24T20:30:33.803Z"
   },
   {
    "duration": 1711,
    "start_time": "2023-07-24T20:30:35.487Z"
   },
   {
    "duration": 5,
    "start_time": "2023-07-24T20:30:42.643Z"
   },
   {
    "duration": 10073,
    "start_time": "2023-07-24T20:31:12.362Z"
   },
   {
    "duration": 4,
    "start_time": "2023-07-24T20:31:45.705Z"
   },
   {
    "duration": 3,
    "start_time": "2023-07-24T20:31:47.154Z"
   },
   {
    "duration": 8,
    "start_time": "2023-07-24T20:31:48.664Z"
   },
   {
    "duration": 188198,
    "start_time": "2023-07-24T20:31:50.305Z"
   },
   {
    "duration": 4,
    "start_time": "2023-07-24T20:44:42.143Z"
   },
   {
    "duration": 189695,
    "start_time": "2023-07-24T20:45:13.850Z"
   },
   {
    "duration": 4,
    "start_time": "2023-07-24T20:52:59.304Z"
   },
   {
    "duration": 4,
    "start_time": "2023-07-24T20:53:02.022Z"
   },
   {
    "duration": 2,
    "start_time": "2023-07-24T20:53:17.845Z"
   },
   {
    "duration": 7,
    "start_time": "2023-07-24T20:54:04.025Z"
   },
   {
    "duration": 6,
    "start_time": "2023-07-24T20:54:05.690Z"
   },
   {
    "duration": 4,
    "start_time": "2023-07-24T20:54:07.495Z"
   },
   {
    "duration": 171455,
    "start_time": "2023-07-24T20:54:41.422Z"
   },
   {
    "duration": 4,
    "start_time": "2023-07-24T20:57:41.885Z"
   },
   {
    "duration": 8,
    "start_time": "2023-07-24T20:57:43.775Z"
   },
   {
    "duration": 4,
    "start_time": "2023-07-24T20:57:53.182Z"
   },
   {
    "duration": 3,
    "start_time": "2023-07-24T20:57:54.823Z"
   },
   {
    "duration": 3,
    "start_time": "2023-07-24T20:57:56.535Z"
   },
   {
    "duration": 16558,
    "start_time": "2023-07-24T20:57:58.544Z"
   },
   {
    "duration": 4,
    "start_time": "2023-07-24T20:58:19.194Z"
   },
   {
    "duration": 4,
    "start_time": "2023-07-24T20:58:23.042Z"
   },
   {
    "duration": 3,
    "start_time": "2023-07-24T20:58:29.055Z"
   },
   {
    "duration": 4,
    "start_time": "2023-07-24T20:58:49.308Z"
   },
   {
    "duration": 7,
    "start_time": "2023-07-24T20:58:50.736Z"
   },
   {
    "duration": 4,
    "start_time": "2023-07-24T20:58:52.599Z"
   }
  ],
  "colab": {
   "provenance": [],
   "toc_visible": true
  },
  "kernelspec": {
   "display_name": "Python 3 (ipykernel)",
   "language": "python",
   "name": "python3"
  },
  "language_info": {
   "codemirror_mode": {
    "name": "ipython",
    "version": 3
   },
   "file_extension": ".py",
   "mimetype": "text/x-python",
   "name": "python",
   "nbconvert_exporter": "python",
   "pygments_lexer": "ipython3",
   "version": "3.11.3"
  },
  "toc": {
   "base_numbering": 1,
   "nav_menu": {},
   "number_sections": true,
   "sideBar": true,
   "skip_h1_title": true,
   "title_cell": "Table of Contents",
   "title_sidebar": "Contents",
   "toc_cell": false,
   "toc_position": {},
   "toc_section_display": true,
   "toc_window_display": false
  }
 },
 "nbformat": 4,
 "nbformat_minor": 1
}
