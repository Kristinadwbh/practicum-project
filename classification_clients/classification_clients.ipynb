{
 "cells": [
  {
   "cell_type": "markdown",
   "metadata": {},
   "source": [
    "# Рекомендация тарифов"
   ]
  },
  {
   "cell_type": "code",
   "execution_count": 1,
   "metadata": {},
   "outputs": [],
   "source": [
    "import pandas as pd\n",
    "import matplotlib.pyplot as plt\n",
    "from sklearn.tree import DecisionTreeClassifier\n",
    "from sklearn.ensemble import RandomForestClassifier\n",
    "from sklearn.linear_model import LogisticRegression\n",
    "from sklearn.model_selection import train_test_split\n",
    "from sklearn.metrics import accuracy_score\n",
    "from tqdm import tqdm"
   ]
  },
  {
   "cell_type": "code",
   "execution_count": 3,
   "metadata": {},
   "outputs": [
    {
     "name": "stdout",
     "output_type": "stream",
     "text": [
      "<class 'pandas.core.frame.DataFrame'>\n",
      "RangeIndex: 3214 entries, 0 to 3213\n",
      "Data columns (total 5 columns):\n",
      " #   Column    Non-Null Count  Dtype  \n",
      "---  ------    --------------  -----  \n",
      " 0   calls     3214 non-null   float64\n",
      " 1   minutes   3214 non-null   float64\n",
      " 2   messages  3214 non-null   float64\n",
      " 3   mb_used   3214 non-null   float64\n",
      " 4   is_ultra  3214 non-null   int64  \n",
      "dtypes: float64(4), int64(1)\n",
      "memory usage: 125.7 KB\n"
     ]
    }
   ],
   "source": [
    "data.info()"
   ]
  },
  {
   "cell_type": "markdown",
   "metadata": {},
   "source": [
    "<div>\n",
    "    <font color='green'>Колличество 0 и 1 в столбце is_ultra и их пропорция</font>\n",
    "</div>"
   ]
  },
  {
   "cell_type": "code",
   "execution_count": 4,
   "metadata": {},
   "outputs": [
    {
     "name": "stdout",
     "output_type": "stream",
     "text": [
      "Колличество 0 и 1 в столбце is_ultra\n"
     ]
    },
    {
     "data": {
      "text/plain": [
       "0    2229\n",
       "1     985\n",
       "Name: is_ultra, dtype: int64"
      ]
     },
     "metadata": {},
     "output_type": "display_data"
    },
    {
     "name": "stdout",
     "output_type": "stream",
     "text": [
      "Во сколько раз 0 больше 1 в столбце is_ultra: 2.2629441624365483\n"
     ]
    }
   ],
   "source": [
    "print('Колличество 0 и 1 в столбце is_ultra')\n",
    "display(data['is_ultra'].value_counts())\n",
    "proportion = data['is_ultra'].value_counts()[0]/data['is_ultra'].value_counts()[1]\n",
    "print('Во сколько раз 0 больше 1 в столбце is_ultra:', proportion)"
   ]
  },
  {
   "cell_type": "code",
   "execution_count": 3,
   "metadata": {},
   "outputs": [],
   "source": [
    "data_train, data_test = train_test_split(data, train_size=0.6, random_state=12345, stratify=data['is_ultra'])\n",
    "data_test, data_val = train_test_split(data_test, train_size=0.5, random_state=12345, stratify=data_test['is_ultra'])"
   ]
  },
  {
   "cell_type": "code",
   "execution_count": 6,
   "metadata": {},
   "outputs": [
    {
     "name": "stdout",
     "output_type": "stream",
     "text": [
      "(1928, 5)\n",
      "(643, 5)\n",
      "(643, 5)\n",
      "Доли данных от всех данных в обучающей выборке, тестовой и валлидационной : 0.5998755444928439 0.2000622277535781 0.2000622277535781\n"
     ]
    }
   ],
   "source": [
    "print(data_train.shape)\n",
    "print(data_test.shape)\n",
    "print(data_val.shape)\n",
    "print('Доли данных от всех данных в обучающей выборке, тестовой и валлидационной :', \\\n",
    "      data_train.shape[0]/data.shape[0], data_test.shape[0]/data.shape[0], data_val.shape[0]/data.shape[0])"
   ]
  },
  {
   "cell_type": "code",
   "execution_count": 7,
   "metadata": {},
   "outputs": [
    {
     "name": "stdout",
     "output_type": "stream",
     "text": [
      "Проверка пропорции в обучающей выборке :\n",
      "0    1337\n",
      "1     591\n",
      "Name: is_ultra, dtype: int64\n",
      "\n",
      "2.2622673434856178\n",
      "\n",
      "Проверка пропорции в тестовой выборке :\n",
      "0    446\n",
      "1    197\n",
      "Name: is_ultra, dtype: int64\n",
      "\n",
      "2.263959390862944\n",
      "\n",
      "Проверка пропорции в выллидационной выборке :\n",
      "0    446\n",
      "1    197\n",
      "Name: is_ultra, dtype: int64\n",
      "\n",
      "2.263959390862944\n"
     ]
    }
   ],
   "source": [
    "print('Проверка пропорции в обучающей выборке :')\n",
    "print(data_train['is_ultra'].value_counts())\n",
    "print()\n",
    "print(data_train['is_ultra'].value_counts()[0]/data_train['is_ultra'].value_counts()[1])\n",
    "print()\n",
    "print('Проверка пропорции в тестовой выборке :')\n",
    "print(data_test['is_ultra'].value_counts())\n",
    "print()\n",
    "print(data_test['is_ultra'].value_counts()[0]/data_test['is_ultra'].value_counts()[1])\n",
    "print()\n",
    "print('Проверка пропорции в выллидационной выборке :')\n",
    "print(data_val['is_ultra'].value_counts())\n",
    "print()\n",
    "print(data_val['is_ultra'].value_counts()[0]/data_val['is_ultra'].value_counts()[1])\n"
   ]
  },
  {
   "cell_type": "code",
   "execution_count": 4,
   "metadata": {},
   "outputs": [],
   "source": [
    "features = data_train.drop('is_ultra', axis=1)\n",
    "target = data_train['is_ultra']\n",
    "\n",
    "features_test = data_test.drop('is_ultra', axis=1)\n",
    "target_test = data_test['is_ultra']\n",
    "\n",
    "features_val = data_val.drop('is_ultra', axis=1)\n",
    "target_val = data_val['is_ultra']\n"
   ]
  },
  {
   "cell_type": "markdown",
   "metadata": {},
   "source": [
    "<div>\n",
    "    <font color='green'>Модель решающего дерева</font>\n",
    "    </div>"
   ]
  },
  {
   "cell_type": "code",
   "execution_count": 6,
   "metadata": {},
   "outputs": [
    {
     "name": "stdout",
     "output_type": "stream",
     "text": [
      "max_depth лучшей модели: 5\n",
      "Accuracy лучшей модели: 0.8118195956454122\n"
     ]
    },
    {
     "data": {
      "image/png": "[encoded data removed]",
      "text/plain": [
       "<Figure size 432x288 with 1 Axes>"
      ]
     },
     "metadata": {
      "needs_background": "light"
     },
     "output_type": "display_data"
    }
   ],
   "source": [
    "best_model_dt = None\n",
    "best_result_dt = 0\n",
    "result_dt_plot = []\n",
    "result_dt_train_plot = []\n",
    "for depth_dt in range(1, 40):\n",
    "    model_dt = DecisionTreeClassifier(random_state=12345, max_depth=depth_dt) \n",
    "    model_dt.fit(features, target) \n",
    "    predictions = model_dt.predict(features_val) \n",
    "    predictions_train = model_dt.predict(features)\n",
    "    result_dt = accuracy_score(target_val, predictions) \n",
    "    result_dt_train = accuracy_score(target, predictions_train)\n",
    "    result_dt_plot.append(result_dt)\n",
    "    result_dt_train_plot.append(result_dt_train)\n",
    "    if result_dt > best_result_dt:\n",
    "        best_model_dt = model_dt\n",
    "        best_result_dt = result_dt\n",
    "        best_depth_dt = depth_dt\n",
    "\n",
    "print('max_depth лучшей модели:', best_depth_dt)\n",
    "print(\"Accuracy лучшей модели:\", best_result_dt)\n",
    "\n",
    "plt.plot(range(1,40), result_dt_plot, result_dt_train_plot)\n",
    "plt.xlabel('Глубина дерева')\n",
    "plt.ylabel('Accuracy')\n",
    "plt.show()"
   ]
  },
  {
   "cell_type": "markdown",
   "metadata": {},
   "source": [
    "<div>\n",
    "    <font color='green'>Модель случайного леса</font>\n",
    "    </div>"
   ]
  },
  {
   "cell_type": "code",
   "execution_count": 10,
   "metadata": {},
   "outputs": [
    {
     "name": "stderr",
     "output_type": "stream",
     "text": [
      "100%|██████████| 10/10 [00:07<00:00,  1.25it/s]"
     ]
    },
    {
     "name": "stdout",
     "output_type": "stream",
     "text": [
      "Колличество деревьев лучшей модели: 3\n",
      "max_depth лучшей модели: 6\n",
      "Accuracy наилучшей модели на валидационной выборке: 0.8149300155520995\n"
     ]
    },
    {
     "name": "stderr",
     "output_type": "stream",
     "text": [
      "\n"
     ]
    }
   ],
   "source": [
    "best_model_rf = None\n",
    "best_result_rf = 0\n",
    "for est_rf in tqdm(range(1, 11)):\n",
    "    for depth_rf in range(1, 40):\n",
    "        model_rf = RandomForestClassifier(random_state=12345, n_estimators=est_rf, max_depth=depth_rf)  \n",
    "        model_rf.fit(features, target)\n",
    "        result_rf = model_rf.score(features_val, target_val) \n",
    "        if result_rf > best_result_rf:\n",
    "            best_model_rf = model_rf\n",
    "            best_result_rf = result_rf\n",
    "            best_est_rf = est_rf\n",
    "            best_depth_rf = depth_rf\n",
    "\n",
    "        \n",
    "print('Колличество деревьев лучшей модели:', best_est_rf)\n",
    "print('max_depth лучшей модели:', best_depth_rf)\n",
    "print(\"Accuracy наилучшей модели на валидационной выборке:\", best_result_rf)"
   ]
  },
  {
   "cell_type": "markdown",
   "metadata": {},
   "source": [
    "<div>\n",
    "    <font color='green'>\n",
    "        Модель логистической регрессии</font>\n",
    "    </div>\n"
   ]
  },
  {
   "cell_type": "code",
   "execution_count": 11,
   "metadata": {},
   "outputs": [
    {
     "name": "stdout",
     "output_type": "stream",
     "text": [
      "Accuracy лучшей модели: 0.7465007776049767\n"
     ]
    }
   ],
   "source": [
    "model_lr = LogisticRegression(random_state=12345, solver='lbfgs', max_iter=1000)\n",
    "\n",
    "model_lr.fit(features, target)\n",
    "\n",
    "result_lr = model_lr.score(features_val, target_val)\n",
    "\n",
    "print('Accuracy лучшей модели:', result_lr)"
   ]
  },
  {
   "cell_type": "markdown",
   "metadata": {},
   "source": [
    "<div>\n",
    "    <font color='green'>Моделью с наилучшей Accuracy получилась модель Случайного леса с параметрами: количество деревьев - 3 и глубины деревьев - 6</font>\n",
    "</div>"
   ]
  },
  {
   "cell_type": "code",
   "execution_count": 12,
   "metadata": {},
   "outputs": [
    {
     "name": "stdout",
     "output_type": "stream",
     "text": [
      "Accuracy лучшей модели на тестовой выборке: 0.7947122861586314\n"
     ]
    }
   ],
   "source": [
    "model = RandomForestClassifier(random_state=12345, n_estimators=3, max_depth=6) \n",
    "\n",
    "model.fit(features, target)\n",
    "\n",
    "predictions = model.predict(features_test)\n",
    "\n",
    "result = accuracy_score(target_test, predictions)\n",
    "\n",
    "print('Accuracy лучшей модели на тестовой выборке:', result)"
   ]
  },
  {
   "cell_type": "code",
   "execution_count": 13,
   "metadata": {},
   "outputs": [
    {
     "name": "stdout",
     "output_type": "stream",
     "text": [
      "Accuracy лучшей модели на тестовой выборке после обучения на суммарных данных валлидации и обучения: 0.80248833592535\n"
     ]
    }
   ],
   "source": [
    "data_train_val = pd.concat([data_train, data_val])\n",
    "\n",
    "features = data_train_val.drop('is_ultra', axis=1)\n",
    "target = data_train_val['is_ultra']\n",
    "\n",
    "model = RandomForestClassifier(random_state=12345, n_estimators=3, max_depth=6)\n",
    "\n",
    "model.fit(features, target)\n",
    "\n",
    "predictions = model.predict(features_test)\n",
    "\n",
    "result = accuracy_score(target_test, predictions)\n",
    "\n",
    "print('Accuracy лучшей модели на тестовой выборке после обучения на суммарных данных валлидации и обучения:', result)"
   ]
  },
  {
   "cell_type": "markdown",
   "metadata": {},
   "source": [
    "<div>\n",
    "    <font color='green'>Вывод:</font></div>\n",
    "    \n",
    "Изучены данные. Данные оказались без пропусков и с допустимыми типами.\\\n",
    "\\\n",
    "Для данной задачи рассматривались три модели для задачи классификации: решающее дерево, случайный лес и логистическая регрессия.\\\n",
    "\\\n",
    "Данные разбились на три выборки: обучающую, тестовую и валлидационную. Данные разбивались в соотношении 3:1:1 соответственно. Сохранялась пропорция классов в целевом столбце. Отношение 0 к 1 в каждой выборке примерно одинаково и равно 2.26.\\\n",
    "\\\n",
    "На валидационной выборке для случая решающего дерева в диапазоне значений глубины от 1 до 40 самой точной моделью стала модель с глубиной равной 5. С точностью - 0.8118195956454122. Для случая случайного леса диапазон колличества деревьев брался от 1 до 10, глубина деревьев - от 1 до 40. Лучшей моделью оказалась модель с 3 деревьями, глубиной - 6 и точностью 0.8149300155520995. Для случая с логистической регрессией точность модели оказалась равной 0.7465007776049767.\\\n",
    "\\\n",
    "На валидационной выборке лучшей по качеству оказалась модель Случайного леса с параметрами:random_state=12345, n_estimators=3, max_depth=6. Accuracy этой модели на валидационной выборке равно 0.8149300155520995. На тестовой выборке Accuracy получилось ниже и равным 0.7947122861586314.\\\n",
    "\\\n",
    "Если обучить модель с подобранными гиперпараметрами на обучающей выборке+валлидационной выборке, то Accuracy на тестовой выборке становится лучше и равной 0.80248833592535."
   ]
  }
 ],
 "metadata": {
  "ExecuteTimeLog": [
   {
    "duration": 54,
    "start_time": "2023-02-25T02:13:51.830Z"
   },
   {
    "duration": 388,
    "start_time": "2023-02-25T02:14:10.874Z"
   },
   {
    "duration": 140,
    "start_time": "2023-02-25T02:14:23.021Z"
   },
   {
    "duration": 707,
    "start_time": "2023-02-25T02:16:35.194Z"
   },
   {
    "duration": 5,
    "start_time": "2023-02-25T02:25:42.161Z"
   },
   {
    "duration": 3,
    "start_time": "2023-02-25T02:29:16.159Z"
   },
   {
    "duration": 39,
    "start_time": "2023-02-25T03:32:15.758Z"
   },
   {
    "duration": 74,
    "start_time": "2023-02-25T03:36:37.822Z"
   },
   {
    "duration": 4,
    "start_time": "2023-02-25T03:36:49.846Z"
   },
   {
    "duration": 7,
    "start_time": "2023-02-25T03:50:06.238Z"
   },
   {
    "duration": 4,
    "start_time": "2023-02-25T03:50:44.088Z"
   },
   {
    "duration": 6,
    "start_time": "2023-02-25T03:50:47.566Z"
   },
   {
    "duration": 3,
    "start_time": "2023-02-25T03:50:48.914Z"
   },
   {
    "duration": 4,
    "start_time": "2023-02-25T04:15:53.926Z"
   },
   {
    "duration": 6,
    "start_time": "2023-02-25T04:18:05.604Z"
   },
   {
    "duration": 5,
    "start_time": "2023-02-25T04:26:29.805Z"
   },
   {
    "duration": 19,
    "start_time": "2023-02-25T04:26:31.302Z"
   },
   {
    "duration": 40,
    "start_time": "2023-02-25T04:38:10.321Z"
   },
   {
    "duration": 75,
    "start_time": "2023-02-25T04:38:29.696Z"
   },
   {
    "duration": 12,
    "start_time": "2023-02-25T04:42:39.361Z"
   },
   {
    "duration": 1797,
    "start_time": "2023-02-25T04:55:20.947Z"
   },
   {
    "duration": 4,
    "start_time": "2023-02-25T04:58:15.057Z"
   },
   {
    "duration": 26,
    "start_time": "2023-02-25T05:04:49.258Z"
   },
   {
    "duration": 28,
    "start_time": "2023-02-25T05:05:00.163Z"
   },
   {
    "duration": 27,
    "start_time": "2023-02-25T05:05:07.573Z"
   },
   {
    "duration": 24,
    "start_time": "2023-02-25T05:05:14.892Z"
   },
   {
    "duration": 6,
    "start_time": "2023-02-25T05:15:48.446Z"
   },
   {
    "duration": 34,
    "start_time": "2023-02-25T05:19:23.636Z"
   },
   {
    "duration": 1098,
    "start_time": "2023-02-25T05:35:39.361Z"
   },
   {
    "duration": 51,
    "start_time": "2023-02-25T05:35:40.461Z"
   },
   {
    "duration": 7,
    "start_time": "2023-02-25T05:35:40.515Z"
   },
   {
    "duration": 41,
    "start_time": "2023-02-25T05:35:40.524Z"
   },
   {
    "duration": 114,
    "start_time": "2023-02-25T05:35:40.568Z"
   },
   {
    "duration": 1779,
    "start_time": "2023-02-25T05:35:40.684Z"
   },
   {
    "duration": 25,
    "start_time": "2023-02-25T05:35:42.465Z"
   },
   {
    "duration": 53,
    "start_time": "2023-02-25T05:35:42.492Z"
   },
   {
    "duration": 1086,
    "start_time": "2023-02-25T05:39:45.667Z"
   },
   {
    "duration": 48,
    "start_time": "2023-02-25T05:39:46.756Z"
   },
   {
    "duration": 7,
    "start_time": "2023-02-25T05:39:46.806Z"
   },
   {
    "duration": 6,
    "start_time": "2023-02-25T05:39:46.815Z"
   },
   {
    "duration": 82,
    "start_time": "2023-02-25T05:39:46.823Z"
   },
   {
    "duration": 1704,
    "start_time": "2023-02-25T05:39:46.907Z"
   },
   {
    "duration": 33,
    "start_time": "2023-02-25T05:39:48.612Z"
   },
   {
    "duration": 32,
    "start_time": "2023-02-25T05:39:48.646Z"
   },
   {
    "duration": 7077,
    "start_time": "2023-02-25T07:42:19.255Z"
   },
   {
    "duration": 164,
    "start_time": "2023-02-25T07:42:26.334Z"
   },
   {
    "duration": 7,
    "start_time": "2023-02-25T07:42:26.500Z"
   },
   {
    "duration": 21,
    "start_time": "2023-02-25T07:42:26.510Z"
   },
   {
    "duration": 99,
    "start_time": "2023-02-25T07:42:26.533Z"
   },
   {
    "duration": 1825,
    "start_time": "2023-02-25T07:42:26.636Z"
   },
   {
    "duration": 44,
    "start_time": "2023-02-25T07:42:28.463Z"
   },
   {
    "duration": 36,
    "start_time": "2023-02-25T07:42:28.509Z"
   },
   {
    "duration": 1378,
    "start_time": "2023-02-25T19:45:16.219Z"
   },
   {
    "duration": 87,
    "start_time": "2023-02-25T19:45:17.599Z"
   },
   {
    "duration": 15,
    "start_time": "2023-02-25T19:45:17.688Z"
   },
   {
    "duration": 21,
    "start_time": "2023-02-25T19:45:17.706Z"
   },
   {
    "duration": 13,
    "start_time": "2023-02-25T19:45:17.729Z"
   },
   {
    "duration": 117,
    "start_time": "2023-02-25T19:45:17.744Z"
   },
   {
    "duration": 2086,
    "start_time": "2023-02-25T19:45:17.862Z"
   },
   {
    "duration": 28,
    "start_time": "2023-02-25T19:45:19.951Z"
   },
   {
    "duration": 73,
    "start_time": "2023-02-25T19:45:19.981Z"
   },
   {
    "duration": 5,
    "start_time": "2023-02-25T19:47:21.904Z"
   },
   {
    "duration": 49,
    "start_time": "2023-02-26T00:15:12.313Z"
   },
   {
    "duration": 1276,
    "start_time": "2023-02-26T00:15:16.982Z"
   },
   {
    "duration": 98,
    "start_time": "2023-02-26T00:15:18.260Z"
   },
   {
    "duration": 12,
    "start_time": "2023-02-26T00:15:18.359Z"
   },
   {
    "duration": 5,
    "start_time": "2023-02-26T00:15:18.374Z"
   },
   {
    "duration": 5,
    "start_time": "2023-02-26T00:15:21.231Z"
   },
   {
    "duration": 7,
    "start_time": "2023-02-26T00:15:22.838Z"
   },
   {
    "duration": 1099,
    "start_time": "2023-02-26T20:42:13.764Z"
   },
   {
    "duration": 138,
    "start_time": "2023-02-26T20:42:14.865Z"
   },
   {
    "duration": 13,
    "start_time": "2023-02-26T20:42:15.005Z"
   },
   {
    "duration": 8,
    "start_time": "2023-02-26T20:42:15.019Z"
   },
   {
    "duration": 6,
    "start_time": "2023-02-26T20:43:14.423Z"
   },
   {
    "duration": 8,
    "start_time": "2023-02-26T20:43:45.381Z"
   },
   {
    "duration": 9,
    "start_time": "2023-02-26T20:47:03.001Z"
   },
   {
    "duration": 8,
    "start_time": "2023-02-26T20:48:02.879Z"
   },
   {
    "duration": 7,
    "start_time": "2023-02-26T20:48:14.278Z"
   },
   {
    "duration": 10,
    "start_time": "2023-02-26T20:49:21.969Z"
   },
   {
    "duration": 116,
    "start_time": "2023-02-26T20:50:25.867Z"
   },
   {
    "duration": 15,
    "start_time": "2023-02-26T20:50:29.865Z"
   },
   {
    "duration": 3,
    "start_time": "2023-02-26T20:50:35.603Z"
   },
   {
    "duration": 55,
    "start_time": "2023-02-26T20:50:35.612Z"
   },
   {
    "duration": 10,
    "start_time": "2023-02-26T20:50:35.668Z"
   },
   {
    "duration": 15,
    "start_time": "2023-02-26T20:50:35.679Z"
   },
   {
    "duration": 22,
    "start_time": "2023-02-26T20:50:35.695Z"
   },
   {
    "duration": 15,
    "start_time": "2023-02-26T20:50:38.405Z"
   },
   {
    "duration": 9,
    "start_time": "2023-02-26T20:51:09.867Z"
   },
   {
    "duration": 13,
    "start_time": "2023-02-26T20:51:12.055Z"
   },
   {
    "duration": 4,
    "start_time": "2023-02-26T20:51:59.035Z"
   },
   {
    "duration": 5,
    "start_time": "2023-02-26T20:52:09.937Z"
   },
   {
    "duration": 5,
    "start_time": "2023-02-26T20:53:19.737Z"
   },
   {
    "duration": 4,
    "start_time": "2023-02-26T20:53:46.797Z"
   },
   {
    "duration": 5,
    "start_time": "2023-02-26T20:54:55.522Z"
   },
   {
    "duration": 6,
    "start_time": "2023-02-26T20:55:30.198Z"
   },
   {
    "duration": 5,
    "start_time": "2023-02-26T20:56:05.638Z"
   },
   {
    "duration": 9,
    "start_time": "2023-02-26T20:56:37.825Z"
   },
   {
    "duration": 6,
    "start_time": "2023-02-26T20:56:45.576Z"
   },
   {
    "duration": 10,
    "start_time": "2023-02-26T20:57:26.264Z"
   },
   {
    "duration": 4,
    "start_time": "2023-02-26T20:57:38.332Z"
   },
   {
    "duration": 7,
    "start_time": "2023-02-26T20:59:00.745Z"
   },
   {
    "duration": 8,
    "start_time": "2023-02-26T21:00:06.136Z"
   },
   {
    "duration": 9,
    "start_time": "2023-02-26T21:01:02.528Z"
   },
   {
    "duration": 12,
    "start_time": "2023-02-26T21:03:38.213Z"
   },
   {
    "duration": 11,
    "start_time": "2023-02-26T21:04:33.090Z"
   },
   {
    "duration": 5,
    "start_time": "2023-02-26T21:06:11.181Z"
   },
   {
    "duration": 10,
    "start_time": "2023-02-26T21:10:21.145Z"
   },
   {
    "duration": 8,
    "start_time": "2023-02-26T21:10:30.849Z"
   },
   {
    "duration": 84,
    "start_time": "2023-02-26T21:10:35.472Z"
   },
   {
    "duration": 68,
    "start_time": "2023-02-26T21:11:24.204Z"
   },
   {
    "duration": 75,
    "start_time": "2023-02-26T21:12:36.324Z"
   },
   {
    "duration": 61,
    "start_time": "2023-02-26T21:12:56.106Z"
   },
   {
    "duration": 1485,
    "start_time": "2023-02-26T21:15:53.386Z"
   },
   {
    "duration": 3,
    "start_time": "2023-02-26T21:16:21.065Z"
   },
   {
    "duration": 40,
    "start_time": "2023-02-26T21:16:21.073Z"
   },
   {
    "duration": 11,
    "start_time": "2023-02-26T21:16:21.115Z"
   },
   {
    "duration": 9,
    "start_time": "2023-02-26T21:16:21.127Z"
   },
   {
    "duration": 8,
    "start_time": "2023-02-26T21:16:21.138Z"
   },
   {
    "duration": 5,
    "start_time": "2023-02-26T21:16:21.148Z"
   },
   {
    "duration": 44,
    "start_time": "2023-02-26T21:16:21.154Z"
   },
   {
    "duration": 5,
    "start_time": "2023-02-26T21:16:21.200Z"
   },
   {
    "duration": 64,
    "start_time": "2023-02-26T21:16:21.207Z"
   },
   {
    "duration": 1568,
    "start_time": "2023-02-26T21:16:25.736Z"
   },
   {
    "duration": 1628,
    "start_time": "2023-02-26T21:17:05.951Z"
   },
   {
    "duration": 7,
    "start_time": "2023-02-26T21:18:13.253Z"
   },
   {
    "duration": 1794,
    "start_time": "2023-02-26T21:26:16.310Z"
   },
   {
    "duration": 1560,
    "start_time": "2023-02-26T21:26:34.025Z"
   },
   {
    "duration": 3,
    "start_time": "2023-02-26T21:27:29.848Z"
   },
   {
    "duration": 37,
    "start_time": "2023-02-26T21:27:29.887Z"
   },
   {
    "duration": 9,
    "start_time": "2023-02-26T21:27:29.926Z"
   },
   {
    "duration": 6,
    "start_time": "2023-02-26T21:27:29.936Z"
   },
   {
    "duration": 6,
    "start_time": "2023-02-26T21:27:29.944Z"
   },
   {
    "duration": 3,
    "start_time": "2023-02-26T21:27:29.952Z"
   },
   {
    "duration": 12,
    "start_time": "2023-02-26T21:27:29.956Z"
   },
   {
    "duration": 4,
    "start_time": "2023-02-26T21:27:29.969Z"
   },
   {
    "duration": 63,
    "start_time": "2023-02-26T21:27:29.991Z"
   },
   {
    "duration": 1618,
    "start_time": "2023-02-26T21:27:30.055Z"
   },
   {
    "duration": 33,
    "start_time": "2023-02-26T21:27:36.124Z"
   },
   {
    "duration": 64,
    "start_time": "2023-02-26T21:35:37.517Z"
   },
   {
    "duration": 64,
    "start_time": "2023-02-26T21:36:41.389Z"
   },
   {
    "duration": 380,
    "start_time": "2023-02-26T21:38:46.244Z"
   },
   {
    "duration": 157,
    "start_time": "2023-02-26T21:43:06.512Z"
   },
   {
    "duration": 153,
    "start_time": "2023-02-26T21:43:29.058Z"
   },
   {
    "duration": 168,
    "start_time": "2023-02-26T21:44:20.994Z"
   },
   {
    "duration": 240,
    "start_time": "2023-02-26T21:47:17.670Z"
   },
   {
    "duration": 154,
    "start_time": "2023-02-26T21:49:06.646Z"
   },
   {
    "duration": 235,
    "start_time": "2023-02-26T21:49:50.142Z"
   },
   {
    "duration": 253,
    "start_time": "2023-02-26T21:50:10.596Z"
   },
   {
    "duration": 315,
    "start_time": "2023-02-26T21:50:26.271Z"
   },
   {
    "duration": 453,
    "start_time": "2023-02-26T21:50:46.557Z"
   },
   {
    "duration": 429,
    "start_time": "2023-02-26T21:57:08.237Z"
   },
   {
    "duration": 424,
    "start_time": "2023-02-26T21:57:32.914Z"
   },
   {
    "duration": 445,
    "start_time": "2023-02-26T21:58:23.115Z"
   },
   {
    "duration": 432,
    "start_time": "2023-02-26T21:58:40.077Z"
   },
   {
    "duration": 1551,
    "start_time": "2023-02-26T21:59:13.538Z"
   },
   {
    "duration": 45,
    "start_time": "2023-02-26T22:00:23.789Z"
   },
   {
    "duration": 17,
    "start_time": "2023-02-26T22:02:10.527Z"
   },
   {
    "duration": 7983,
    "start_time": "2023-02-26T22:18:33.386Z"
   },
   {
    "duration": 18,
    "start_time": "2023-02-26T22:44:21.518Z"
   },
   {
    "duration": 20,
    "start_time": "2023-02-26T22:52:33.159Z"
   },
   {
    "duration": 3,
    "start_time": "2023-02-27T00:03:30.910Z"
   },
   {
    "duration": 3,
    "start_time": "2023-02-27T00:05:47.756Z"
   },
   {
    "duration": 1265,
    "start_time": "2023-02-27T00:21:18.922Z"
   },
   {
    "duration": 42,
    "start_time": "2023-02-27T00:21:20.188Z"
   },
   {
    "duration": 10,
    "start_time": "2023-02-27T00:21:20.232Z"
   },
   {
    "duration": 11,
    "start_time": "2023-02-27T00:21:20.244Z"
   },
   {
    "duration": 6,
    "start_time": "2023-02-27T00:21:20.257Z"
   },
   {
    "duration": 5,
    "start_time": "2023-02-27T00:21:20.265Z"
   },
   {
    "duration": 24,
    "start_time": "2023-02-27T00:21:20.272Z"
   },
   {
    "duration": 6,
    "start_time": "2023-02-27T00:21:20.298Z"
   },
   {
    "duration": 477,
    "start_time": "2023-02-27T00:21:20.305Z"
   },
   {
    "duration": 7991,
    "start_time": "2023-02-27T00:21:20.784Z"
   },
   {
    "duration": 42,
    "start_time": "2023-02-27T00:21:28.776Z"
   },
   {
    "duration": 15,
    "start_time": "2023-02-27T00:21:28.820Z"
   },
   {
    "duration": 23,
    "start_time": "2023-02-27T00:21:28.836Z"
   },
   {
    "duration": 4,
    "start_time": "2023-02-27T00:21:28.860Z"
   },
   {
    "duration": 1800,
    "start_time": "2023-07-10T18:28:26.098Z"
   },
   {
    "duration": 93,
    "start_time": "2023-07-10T18:28:34.934Z"
   },
   {
    "duration": 9,
    "start_time": "2023-07-10T18:28:44.682Z"
   },
   {
    "duration": 8,
    "start_time": "2023-07-10T18:28:55.326Z"
   },
   {
    "duration": 135,
    "start_time": "2023-07-10T18:29:28.816Z"
   },
   {
    "duration": 598,
    "start_time": "2023-07-10T18:29:49.850Z"
   },
   {
    "duration": 4,
    "start_time": "2023-07-10T20:52:20.817Z"
   },
   {
    "duration": 21,
    "start_time": "2023-07-10T20:55:15.610Z"
   },
   {
    "duration": 4,
    "start_time": "2023-07-10T20:56:34.134Z"
   },
   {
    "duration": 7,
    "start_time": "2023-07-10T20:56:53.524Z"
   },
   {
    "duration": 3,
    "start_time": "2023-07-10T20:57:36.001Z"
   },
   {
    "duration": 11,
    "start_time": "2023-07-10T20:58:07.405Z"
   },
   {
    "duration": 5,
    "start_time": "2023-07-10T20:58:55.340Z"
   },
   {
    "duration": 4,
    "start_time": "2023-07-10T20:59:05.303Z"
   }
  ],
  "kernelspec": {
   "display_name": "Python 3 (ipykernel)",
   "language": "python",
   "name": "python3"
  },
  "language_info": {
   "codemirror_mode": {
    "name": "ipython",
    "version": 3
   },
   "file_extension": ".py",
   "mimetype": "text/x-python",
   "name": "python",
   "nbconvert_exporter": "python",
   "pygments_lexer": "ipython3",
   "version": "3.11.3"
  },
  "toc": {
   "base_numbering": 1,
   "nav_menu": {},
   "number_sections": true,
   "sideBar": true,
   "skip_h1_title": true,
   "title_cell": "Table of Contents",
   "title_sidebar": "Contents",
   "toc_cell": false,
   "toc_position": {},
   "toc_section_display": true,
   "toc_window_display": false
  }
 },
 "nbformat": 4,
 "nbformat_minor": 2
}
